{
 "cells": [
  {
   "cell_type": "markdown",
   "metadata": {},
   "source": [
    "Breast cancer is the second most common cancer in women and men worldwide. In 2012, it represented about 12 percent of all new cancer cases and 25 percent of all cancers in women.\n",
    "\n",
    "\n",
    "Breast cancer starts when cells in the breast begin to grow out of control. These cells usually form a tumor that can often be seen on an x-ray or felt as a lump. The tumor is malignant (cancer) if the cells can grow into (invade) surrounding tissues or spread (metastasize) to distant areas of the body."
   ]
  },
  {
   "cell_type": "markdown",
   "metadata": {},
   "source": [
    "### Breast Cancer Classification"
   ]
  },
  {
   "cell_type": "markdown",
   "metadata": {},
   "source": [
    "We have to build a model to classify patients with Breast Cancer by studying the Biopsy Images"
   ]
  },
  {
   "cell_type": "code",
   "execution_count": 1,
   "metadata": {
    "collapsed": true
   },
   "outputs": [
    {
     "name": "stderr",
     "output_type": "stream",
     "text": [
      "Using TensorFlow backend.\n",
      "WARNING: Logging before flag parsing goes to stderr.\n",
      "W0927 15:17:58.733530  5204 deprecation_wrapper.py:119] From C:\\Users\\i323570\\AppData\\Local\\Continuum\\anaconda3\\lib\\site-packages\\keras\\backend\\tensorflow_backend.py:74: The name tf.get_default_graph is deprecated. Please use tf.compat.v1.get_default_graph instead.\n",
      "\n",
      "W0927 15:17:58.754475  5204 deprecation_wrapper.py:119] From C:\\Users\\i323570\\AppData\\Local\\Continuum\\anaconda3\\lib\\site-packages\\keras\\backend\\tensorflow_backend.py:517: The name tf.placeholder is deprecated. Please use tf.compat.v1.placeholder instead.\n",
      "\n",
      "W0927 15:17:58.760457  5204 deprecation_wrapper.py:119] From C:\\Users\\i323570\\AppData\\Local\\Continuum\\anaconda3\\lib\\site-packages\\keras\\backend\\tensorflow_backend.py:4138: The name tf.random_uniform is deprecated. Please use tf.random.uniform instead.\n",
      "\n",
      "W0927 15:17:58.805336  5204 deprecation_wrapper.py:119] From C:\\Users\\i323570\\AppData\\Local\\Continuum\\anaconda3\\lib\\site-packages\\keras\\backend\\tensorflow_backend.py:174: The name tf.get_default_session is deprecated. Please use tf.compat.v1.get_default_session instead.\n",
      "\n",
      "W0927 15:17:58.806334  5204 deprecation_wrapper.py:119] From C:\\Users\\i323570\\AppData\\Local\\Continuum\\anaconda3\\lib\\site-packages\\keras\\backend\\tensorflow_backend.py:181: The name tf.ConfigProto is deprecated. Please use tf.compat.v1.ConfigProto instead.\n",
      "\n",
      "W0927 15:17:58.868169  5204 deprecation_wrapper.py:119] From C:\\Users\\i323570\\AppData\\Local\\Continuum\\anaconda3\\lib\\site-packages\\keras\\backend\\tensorflow_backend.py:1834: The name tf.nn.fused_batch_norm is deprecated. Please use tf.compat.v1.nn.fused_batch_norm instead.\n",
      "\n",
      "W0927 15:17:58.940004  5204 deprecation_wrapper.py:119] From C:\\Users\\i323570\\AppData\\Local\\Continuum\\anaconda3\\lib\\site-packages\\keras\\backend\\tensorflow_backend.py:3976: The name tf.nn.max_pool is deprecated. Please use tf.nn.max_pool2d instead.\n",
      "\n",
      "W0927 15:17:59.017791  5204 deprecation.py:506] From C:\\Users\\i323570\\AppData\\Local\\Continuum\\anaconda3\\lib\\site-packages\\keras\\backend\\tensorflow_backend.py:3445: calling dropout (from tensorflow.python.ops.nn_ops) with keep_prob is deprecated and will be removed in a future version.\n",
      "Instructions for updating:\n",
      "Please use `rate` instead of `keep_prob`. Rate should be set to `rate = 1 - keep_prob`.\n"
     ]
    },
    {
     "name": "stdout",
     "output_type": "stream",
     "text": [
      "_________________________________________________________________\n",
      "Layer (type)                 Output Shape              Param #   \n",
      "=================================================================\n",
      "separable_conv2d_1 (Separabl (None, 24, 34, 32)        155       \n",
      "_________________________________________________________________\n",
      "activation_1 (Activation)    (None, 24, 34, 32)        0         \n",
      "_________________________________________________________________\n",
      "batch_normalization_1 (Batch (None, 24, 34, 32)        128       \n",
      "_________________________________________________________________\n",
      "max_pooling2d_1 (MaxPooling2 (None, 12, 17, 32)        0         \n",
      "_________________________________________________________________\n",
      "dropout_1 (Dropout)          (None, 12, 17, 32)        0         \n",
      "_________________________________________________________________\n",
      "separable_conv2d_2 (Separabl (None, 12, 17, 64)        2400      \n",
      "_________________________________________________________________\n",
      "activation_2 (Activation)    (None, 12, 17, 64)        0         \n",
      "_________________________________________________________________\n",
      "batch_normalization_2 (Batch (None, 12, 17, 64)        256       \n",
      "_________________________________________________________________\n",
      "separable_conv2d_3 (Separabl (None, 12, 17, 64)        4736      \n",
      "_________________________________________________________________\n",
      "activation_3 (Activation)    (None, 12, 17, 64)        0         \n",
      "_________________________________________________________________\n",
      "batch_normalization_3 (Batch (None, 12, 17, 64)        256       \n",
      "_________________________________________________________________\n",
      "max_pooling2d_2 (MaxPooling2 (None, 6, 8, 64)          0         \n",
      "_________________________________________________________________\n",
      "dropout_2 (Dropout)          (None, 6, 8, 64)          0         \n",
      "_________________________________________________________________\n",
      "separable_conv2d_4 (Separabl (None, 6, 8, 128)         8896      \n",
      "_________________________________________________________________\n",
      "activation_4 (Activation)    (None, 6, 8, 128)         0         \n",
      "_________________________________________________________________\n",
      "batch_normalization_4 (Batch (None, 6, 8, 128)         512       \n",
      "_________________________________________________________________\n",
      "separable_conv2d_5 (Separabl (None, 6, 8, 128)         17664     \n",
      "_________________________________________________________________\n",
      "activation_5 (Activation)    (None, 6, 8, 128)         0         \n",
      "_________________________________________________________________\n",
      "batch_normalization_5 (Batch (None, 6, 8, 128)         512       \n",
      "_________________________________________________________________\n",
      "separable_conv2d_6 (Separabl (None, 6, 8, 128)         17664     \n",
      "_________________________________________________________________\n",
      "activation_6 (Activation)    (None, 6, 8, 128)         0         \n",
      "_________________________________________________________________\n",
      "batch_normalization_6 (Batch (None, 6, 8, 128)         512       \n",
      "_________________________________________________________________\n",
      "max_pooling2d_3 (MaxPooling2 (None, 3, 4, 128)         0         \n",
      "_________________________________________________________________\n",
      "dropout_3 (Dropout)          (None, 3, 4, 128)         0         \n",
      "_________________________________________________________________\n",
      "flatten_1 (Flatten)          (None, 1536)              0         \n",
      "_________________________________________________________________\n",
      "dense_1 (Dense)              (None, 256)               393472    \n",
      "_________________________________________________________________\n",
      "activation_7 (Activation)    (None, 256)               0         \n",
      "_________________________________________________________________\n",
      "batch_normalization_7 (Batch (None, 256)               1024      \n",
      "_________________________________________________________________\n",
      "dropout_4 (Dropout)          (None, 256)               0         \n",
      "_________________________________________________________________\n",
      "dense_2 (Dense)              (None, 2)                 514       \n",
      "_________________________________________________________________\n",
      "activation_8 (Activation)    (None, 2)                 0         \n",
      "=================================================================\n",
      "Total params: 448,701\n",
      "Trainable params: 447,101\n",
      "Non-trainable params: 1,600\n",
      "_________________________________________________________________\n"
     ]
    }
   ],
   "source": [
    "import matplotlib.pyplot as plt\n",
    "%matplotlib inline\n",
    "\n",
    "import warnings\n",
    "warnings.filterwarnings('ignore')\n",
    "\n",
    "from cancer_detection_model import CancerModel\n",
    "import project_configuration as conf\n",
    "\n",
    "from keras.preprocessing.image import ImageDataGenerator\n",
    "from keras.callbacks import LearningRateScheduler\n",
    "from keras.optimizers import Adam\n",
    "from keras.utils import np_utils\n",
    "\n",
    "import numpy as np\n",
    "import os\n",
    "# import argparse\n",
    "from imutils import paths"
   ]
  },
  {
   "cell_type": "code",
   "execution_count": 2,
   "metadata": {},
   "outputs": [
    {
     "name": "stdout",
     "output_type": "stream",
     "text": [
      "Total training paths : 194267\n",
      "Total testing paths : 55505\n",
      "Total validation paths : 27752\n"
     ]
    }
   ],
   "source": [
    "# Prepare for training of the model\n",
    "\n",
    "NR_EPOCHS = 10\n",
    "LEARNING_RATE = 1e-2 # lr = 0.01\n",
    "BATCH_SIZE = 32\n",
    "\n",
    "# Lets find the total size of each split\n",
    "all_training_paths = list(paths.list_images(conf.TRAIN_PATH))\n",
    "total_training_examples = len(all_training_paths)\n",
    "\n",
    "all_validation_paths = list(paths.list_images(conf.VAL_PATH))\n",
    "total_validation_examples = len(all_validation_paths)\n",
    "\n",
    "all_testing_paths = list(paths.list_images(conf.TEST_PATH))\n",
    "total_testing_examples = len(all_testing_paths)\n",
    "\n",
    "print('Total training paths :',total_training_examples)\n",
    "print('Total testing paths :',total_testing_examples)\n",
    "print('Total validation paths :',total_validation_examples)\n",
    "\n"
   ]
  },
  {
   "cell_type": "code",
   "execution_count": 3,
   "metadata": {},
   "outputs": [
    {
     "data": {
      "text/plain": [
       "array([1.       , 2.5151904], dtype=float32)"
      ]
     },
     "execution_count": 3,
     "metadata": {},
     "output_type": "execute_result"
    }
   ],
   "source": [
    "# Let's check the balance of the labeled Data\n",
    "training_labels = [ int(p.split(os.path.sep)[-2]) for p in all_training_paths]\n",
    "\n",
    "# One-Hot Encoding for Categorical labels\n",
    "training_labels = np_utils.to_categorical(training_labels)\n",
    "\n",
    "class_totals = training_labels.sum(axis = 0)\n",
    "class_weight = class_totals.max() / class_totals\n",
    "\n",
    "class_weight\n",
    "\n"
   ]
  },
  {
   "cell_type": "code",
   "execution_count": 4,
   "metadata": {},
   "outputs": [
    {
     "name": "stdout",
     "output_type": "stream",
     "text": [
      "Found 194267 images belonging to 2 classes.\n",
      "Found 27752 images belonging to 2 classes.\n",
      "Found 55505 images belonging to 2 classes.\n"
     ]
    }
   ],
   "source": [
    "# Data Augmentation\n",
    "train_data_aug = ImageDataGenerator(rescale=1/255.0,\n",
    "                                    rotation_range=20,\n",
    "                                    zoom_range=0.05,\n",
    "                                    width_shift_range=0.1,\n",
    "                                    height_shift_range=0.1,\n",
    "                                    shear_range=0.05,\n",
    "                                    horizontal_flip=True,\n",
    "                                    vertical_flip=True,\n",
    "                                    fill_mode='nearest')\n",
    "\n",
    "test_data_aug = ImageDataGenerator(rescale=1/255.0)\n",
    "val_data_aug = ImageDataGenerator(rescale=1/255.0)\n",
    "\n",
    "# Initialize the augmentation generators\n",
    "\n",
    "train_generator = train_data_aug.flow_from_directory(\n",
    "                                    directory = conf.TRAIN_PATH,\n",
    "                                    class_mode = 'categorical',\n",
    "                                    target_size = (48,48),\n",
    "                                    color_mode = 'rgb',\n",
    "                                    shuffle = True,\n",
    "                                    batch_size = BATCH_SIZE)\n",
    "\n",
    "validation_generator = val_data_aug.flow_from_directory(\n",
    "                                    directory = conf.VAL_PATH,\n",
    "                                    class_mode = 'categorical',\n",
    "                                    target_size = (48,48),\n",
    "                                    color_mode = 'rgb',\n",
    "                                    shuffle = False,\n",
    "                                    batch_size = BATCH_SIZE)\n",
    "\n",
    "test_generator = test_data_aug.flow_from_directory(\n",
    "                                    directory = conf.TEST_PATH,\n",
    "                                    class_mode = 'categorical',\n",
    "                                    target_size = (48,48),\n",
    "                                    color_mode = 'rgb',\n",
    "                                    shuffle = False,\n",
    "                                    batch_size = BATCH_SIZE)"
   ]
  },
  {
   "cell_type": "code",
   "execution_count": 5,
   "metadata": {
    "collapsed": true
   },
   "outputs": [
    {
     "name": "stderr",
     "output_type": "stream",
     "text": [
      "W0927 15:18:39.607381  5204 deprecation_wrapper.py:119] From C:\\Users\\i323570\\AppData\\Local\\Continuum\\anaconda3\\lib\\site-packages\\keras\\optimizers.py:790: The name tf.train.Optimizer is deprecated. Please use tf.compat.v1.train.Optimizer instead.\n",
      "\n",
      "W0927 15:18:39.634310  5204 deprecation.py:323] From C:\\Users\\i323570\\AppData\\Local\\Continuum\\anaconda3\\lib\\site-packages\\tensorflow\\python\\ops\\nn_impl.py:180: add_dispatch_support.<locals>.wrapper (from tensorflow.python.ops.array_ops) is deprecated and will be removed in a future version.\n",
      "Instructions for updating:\n",
      "Use tf.where in 2.0, which has the same broadcast rule as np.where\n"
     ]
    }
   ],
   "source": [
    "# Compile the model\n",
    "image_shape = (48,48,3)\n",
    "model = CancerModel.build(image_shape = image_shape , classes= 2)\n",
    "model.compile(loss = 'binary_crossentropy',\n",
    "              optimizer = Adam(lr = LEARNING_RATE ,decay = LEARNING_RATE / NR_EPOCHS ),\n",
    "              metrics = ['accuracy'])"
   ]
  },
  {
   "cell_type": "code",
   "execution_count": 6,
   "metadata": {},
   "outputs": [
    {
     "name": "stdout",
     "output_type": "stream",
     "text": [
      "_________________________________________________________________\n",
      "Layer (type)                 Output Shape              Param #   \n",
      "=================================================================\n",
      "separable_conv2d_7 (Separabl (None, 48, 48, 32)        155       \n",
      "_________________________________________________________________\n",
      "activation_9 (Activation)    (None, 48, 48, 32)        0         \n",
      "_________________________________________________________________\n",
      "batch_normalization_8 (Batch (None, 48, 48, 32)        128       \n",
      "_________________________________________________________________\n",
      "max_pooling2d_4 (MaxPooling2 (None, 24, 24, 32)        0         \n",
      "_________________________________________________________________\n",
      "dropout_5 (Dropout)          (None, 24, 24, 32)        0         \n",
      "_________________________________________________________________\n",
      "separable_conv2d_8 (Separabl (None, 24, 24, 64)        2400      \n",
      "_________________________________________________________________\n",
      "activation_10 (Activation)   (None, 24, 24, 64)        0         \n",
      "_________________________________________________________________\n",
      "batch_normalization_9 (Batch (None, 24, 24, 64)        256       \n",
      "_________________________________________________________________\n",
      "separable_conv2d_9 (Separabl (None, 24, 24, 64)        4736      \n",
      "_________________________________________________________________\n",
      "activation_11 (Activation)   (None, 24, 24, 64)        0         \n",
      "_________________________________________________________________\n",
      "batch_normalization_10 (Batc (None, 24, 24, 64)        256       \n",
      "_________________________________________________________________\n",
      "max_pooling2d_5 (MaxPooling2 (None, 12, 12, 64)        0         \n",
      "_________________________________________________________________\n",
      "dropout_6 (Dropout)          (None, 12, 12, 64)        0         \n",
      "_________________________________________________________________\n",
      "separable_conv2d_10 (Separab (None, 12, 12, 128)       8896      \n",
      "_________________________________________________________________\n",
      "activation_12 (Activation)   (None, 12, 12, 128)       0         \n",
      "_________________________________________________________________\n",
      "batch_normalization_11 (Batc (None, 12, 12, 128)       512       \n",
      "_________________________________________________________________\n",
      "separable_conv2d_11 (Separab (None, 12, 12, 128)       17664     \n",
      "_________________________________________________________________\n",
      "activation_13 (Activation)   (None, 12, 12, 128)       0         \n",
      "_________________________________________________________________\n",
      "batch_normalization_12 (Batc (None, 12, 12, 128)       512       \n",
      "_________________________________________________________________\n",
      "separable_conv2d_12 (Separab (None, 12, 12, 128)       17664     \n",
      "_________________________________________________________________\n",
      "activation_14 (Activation)   (None, 12, 12, 128)       0         \n",
      "_________________________________________________________________\n",
      "batch_normalization_13 (Batc (None, 12, 12, 128)       512       \n",
      "_________________________________________________________________\n",
      "max_pooling2d_6 (MaxPooling2 (None, 6, 6, 128)         0         \n",
      "_________________________________________________________________\n",
      "dropout_7 (Dropout)          (None, 6, 6, 128)         0         \n",
      "_________________________________________________________________\n",
      "flatten_2 (Flatten)          (None, 4608)              0         \n",
      "_________________________________________________________________\n",
      "dense_3 (Dense)              (None, 256)               1179904   \n",
      "_________________________________________________________________\n",
      "activation_15 (Activation)   (None, 256)               0         \n",
      "_________________________________________________________________\n",
      "batch_normalization_14 (Batc (None, 256)               1024      \n",
      "_________________________________________________________________\n",
      "dropout_8 (Dropout)          (None, 256)               0         \n",
      "_________________________________________________________________\n",
      "dense_4 (Dense)              (None, 2)                 514       \n",
      "_________________________________________________________________\n",
      "activation_16 (Activation)   (None, 2)                 0         \n",
      "=================================================================\n",
      "Total params: 1,235,133\n",
      "Trainable params: 1,233,533\n",
      "Non-trainable params: 1,600\n",
      "_________________________________________________________________\n"
     ]
    }
   ],
   "source": [
    "# Let's check our model's Architecture\n",
    "model.summary()"
   ]
  },
  {
   "cell_type": "code",
   "execution_count": 7,
   "metadata": {
    "scrolled": false
   },
   "outputs": [
    {
     "name": "stdout",
     "output_type": "stream",
     "text": [
      "Epoch 1/10\n",
      "6070/6070 [==============================] - 1670s 275ms/step - loss: 0.3703 - acc: 0.8418 - val_loss: 0.3455 - val_acc: 0.8574\n",
      "Epoch 2/10\n",
      "6070/6070 [==============================] - 1913s 315ms/step - loss: 0.3272 - acc: 0.8619 - val_loss: 0.3219 - val_acc: 0.8710\n",
      "Epoch 3/10\n",
      "6070/6070 [==============================] - 1685s 278ms/step - loss: 0.3145 - acc: 0.8681 - val_loss: 0.2900 - val_acc: 0.8792\n",
      "Epoch 4/10\n",
      "6070/6070 [==============================] - 1975s 325ms/step - loss: 0.3074 - acc: 0.8714 - val_loss: 0.3020 - val_acc: 0.8692\n",
      "Epoch 5/10\n",
      "6070/6070 [==============================] - 2102s 346ms/step - loss: 0.3018 - acc: 0.8736 - val_loss: 0.2786 - val_acc: 0.8826\n",
      "Epoch 6/10\n",
      "6070/6070 [==============================] - 1832s 302ms/step - loss: 0.2980 - acc: 0.8751 - val_loss: 0.3057 - val_acc: 0.8751\n",
      "Epoch 7/10\n",
      "6070/6070 [==============================] - 1912s 315ms/step - loss: 0.2953 - acc: 0.8762 - val_loss: 0.2831 - val_acc: 0.8838\n",
      "Epoch 8/10\n",
      "6070/6070 [==============================] - 1933s 318ms/step - loss: 0.2931 - acc: 0.8772 - val_loss: 0.2960 - val_acc: 0.8757\n",
      "Epoch 9/10\n",
      "6070/6070 [==============================] - 1656s 273ms/step - loss: 0.2922 - acc: 0.8774 - val_loss: 0.2804 - val_acc: 0.8824\n",
      "Epoch 10/10\n",
      "6070/6070 [==============================] - 1435s 236ms/step - loss: 0.2906 - acc: 0.8782 - val_loss: 0.2855 - val_acc: 0.8789\n"
     ]
    },
    {
     "data": {
      "text/plain": [
       "<keras.callbacks.History at 0x25db69b9668>"
      ]
     },
     "execution_count": 7,
     "metadata": {},
     "output_type": "execute_result"
    }
   ],
   "source": [
    "# Start training\n",
    "model.fit_generator(generator=train_generator,\n",
    "                    steps_per_epoch=total_training_examples // BATCH_SIZE,\n",
    "                    validation_data=validation_generator,\n",
    "                    validation_steps=total_validation_examples // BATCH_SIZE,\n",
    "                    class_weight=class_weight,\n",
    "                    epochs=NR_EPOCHS,\n",
    "                    workers = 5)"
   ]
  },
  {
   "cell_type": "code",
   "execution_count": 26,
   "metadata": {},
   "outputs": [],
   "source": [
    "from keras.models import save_model\n",
    "save_model(model,'model.h5')"
   ]
  },
  {
   "cell_type": "code",
   "execution_count": 27,
   "metadata": {},
   "outputs": [
    {
     "name": "stdout",
     "output_type": "stream",
     "text": [
      "val_loss\n",
      "val_acc\n",
      "loss\n",
      "acc\n"
     ]
    }
   ],
   "source": [
    "model_history = model.history.history\n",
    "for key in model_history.keys():\n",
    "    print(key)"
   ]
  },
  {
   "cell_type": "code",
   "execution_count": 28,
   "metadata": {},
   "outputs": [],
   "source": [
    "def plot_metrics(history):\n",
    "    \n",
    "    train_loss = history['loss']\n",
    "    val_loss = history['val_loss']\n",
    "    train_acc = history['acc']\n",
    "    val_acc = history['val_acc']\n",
    "    \n",
    "    # Loss\n",
    "    plt.figure()\n",
    "    plt.plot(train_loss, label='Training Loss')\n",
    "    plt.plot(val_loss, label='Validation Loss')\n",
    "    plt.title('Loss')\n",
    "    plt.legend()\n",
    "    plt.show()\n",
    "    \n",
    "    # Accuracy\n",
    "    plt.figure()\n",
    "    plt.plot(train_acc, label='Training Accuracy')\n",
    "    plt.plot(val_acc, label='Validation Accuracy')\n",
    "    plt.title('Accuracy')\n",
    "    plt.legend()\n",
    "    plt.show()"
   ]
  },
  {
   "cell_type": "code",
   "execution_count": 29,
   "metadata": {},
   "outputs": [
    {
     "data": {
      "image/png": "[encoded data removed]",
      "text/plain": [
       "<Figure size 432x288 with 1 Axes>"
      ]
     },
     "metadata": {
      "needs_background": "light"
     },
     "output_type": "display_data"
    },
    {
     "data": {
      "image/png": "[encoded data removed]",
      "text/plain": [
       "<Figure size 432x288 with 1 Axes>"
      ]
     },
     "metadata": {
      "needs_background": "light"
     },
     "output_type": "display_data"
    }
   ],
   "source": [
    "plot_metrics(model_history)"
   ]
  }
 ],
 "metadata": {
  "kernelspec": {
   "display_name": "Python 3",
   "language": "python",
   "name": "python3"
  },
  "language_info": {
   "codemirror_mode": {
    "name": "ipython",
    "version": 3
   },
   "file_extension": ".py",
   "mimetype": "text/x-python",
   "name": "python",
   "nbconvert_exporter": "python",
   "pygments_lexer": "ipython3",
   "version": "3.7.3"
  }
 },
 "nbformat": 4,
 "nbformat_minor": 2
}
