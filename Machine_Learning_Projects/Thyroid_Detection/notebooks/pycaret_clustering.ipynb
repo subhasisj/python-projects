{
 "cells": [
  {
   "cell_type": "markdown",
   "metadata": {},
   "source": [
    "## Testing Pycaret Library for Clustering"
   ]
  },
  {
   "cell_type": "code",
   "execution_count": 2,
   "metadata": {},
   "outputs": [],
   "source": [
    "import pandas as pd \n",
    "from pycaret.clustering import *\n",
    "import sqlite3\n"
   ]
  },
  {
   "cell_type": "code",
   "execution_count": 3,
   "metadata": {},
   "outputs": [],
   "source": [
    "# conn = sqlite3.connect('../data/Training_DB/training_db.db')"
   ]
  },
  {
   "cell_type": "code",
   "execution_count": 4,
   "metadata": {},
   "outputs": [],
   "source": [
    "# df = pd.read_sql(\"select * from thyroid_training\", conn)"
   ]
  },
  {
   "cell_type": "code",
   "execution_count": 5,
   "metadata": {},
   "outputs": [],
   "source": [
    "df = pd.read_csv('../data/test_pycaret_classification.csv')"
   ]
  },
  {
   "cell_type": "code",
   "execution_count": 6,
   "metadata": {},
   "outputs": [
    {
     "output_type": "execute_result",
     "data": {
      "text/plain": "Unnamed: 0                     int64\nage                          float64\nsex                          float64\non_thyroxine                 float64\nquery_on_thyroxine           float64\non_antithyroid_medication    float64\nsick                         float64\npregnant                     float64\nthyroid_surgery              float64\nI131_treatment               float64\nquery_hypothyroid            float64\nquery_hyperthyroid           float64\nlithium                      float64\ngoitre                       float64\ntumor                        float64\nhypopituitary                float64\npsych                        float64\nT3                           float64\nTT4                          float64\nT4U                          float64\nFTI                          float64\nreferral_source_STMW         float64\nreferral_source_SVHC         float64\nreferral_source_SVHD         float64\nreferral_source_SVI          float64\nreferral_source_other        float64\nCluster                        int64\nlabel                        float64\ndtype: object"
     },
     "metadata": {},
     "execution_count": 6
    }
   ],
   "source": [
    "df.dtypes"
   ]
  },
  {
   "cell_type": "code",
   "execution_count": 7,
   "metadata": {},
   "outputs": [],
   "source": [
    "df = df.drop(df.columns[0], axis = 1)"
   ]
  },
  {
   "cell_type": "markdown",
   "metadata": {},
   "source": []
  },
  {
   "cell_type": "code",
   "execution_count": 8,
   "metadata": {},
   "outputs": [
    {
     "output_type": "execute_result",
     "data": {
      "text/plain": "    age  sex  on_thyroxine  query_on_thyroxine  on_antithyroid_medication  \\\n0  41.0  0.0           0.0                 0.0                        0.0   \n1  23.0  0.0           0.0                 0.0                        0.0   \n2  46.0  1.0           0.0                 0.0                        0.0   \n3  70.0  0.0           1.0                 0.0                        0.0   \n4  70.0  0.0           0.0                 0.0                        0.0   \n\n   sick  pregnant  thyroid_surgery  I131_treatment  query_hypothyroid  ...  \\\n0   0.0       0.0              0.0             0.0                0.0  ...   \n1   0.0       0.0              0.0             0.0                0.0  ...   \n2   0.0       0.0              0.0             0.0                0.0  ...   \n3   0.0       0.0              0.0             0.0                0.0  ...   \n4   0.0       0.0              0.0             0.0                0.0  ...   \n\n     TT4  T4U    FTI  referral_source_STMW  referral_source_SVHC  \\\n0  125.0  1.0  109.0                   0.0                   1.0   \n1  102.0  1.0   99.0                   0.0                   0.0   \n2  109.0  1.0  120.0                   0.0                   0.0   \n3  175.0  1.0  177.0                   0.0                   0.0   \n4   61.0  1.0   70.0                   0.0                   0.0   \n\n   referral_source_SVHD  referral_source_SVI  referral_source_other  Cluster  \\\n0                   0.0                  0.0                    0.0        0   \n1                   0.0                  0.0                    1.0        0   \n2                   0.0                  0.0                    1.0        0   \n3                   0.0                  0.0                    1.0        0   \n4                   0.0                  1.0                    0.0        2   \n\n   label  \n0    1.0  \n1    1.0  \n2    1.0  \n3    1.0  \n4    1.0  \n\n[5 rows x 27 columns]",
      "text/html": "<div>\n<style scoped>\n    .dataframe tbody tr th:only-of-type {\n        vertical-align: middle;\n    }\n\n    .dataframe tbody tr th {\n        vertical-align: top;\n    }\n\n    .dataframe thead th {\n        text-align: right;\n    }\n</style>\n<table border=\"1\" class=\"dataframe\">\n  <thead>\n    <tr style=\"text-align: right;\">\n      <th></th>\n      <th>age</th>\n      <th>sex</th>\n      <th>on_thyroxine</th>\n      <th>query_on_thyroxine</th>\n      <th>on_antithyroid_medication</th>\n      <th>sick</th>\n      <th>pregnant</th>\n      <th>thyroid_surgery</th>\n      <th>I131_treatment</th>\n      <th>query_hypothyroid</th>\n      <th>...</th>\n      <th>TT4</th>\n      <th>T4U</th>\n      <th>FTI</th>\n      <th>referral_source_STMW</th>\n      <th>referral_source_SVHC</th>\n      <th>referral_source_SVHD</th>\n      <th>referral_source_SVI</th>\n      <th>referral_source_other</th>\n      <th>Cluster</th>\n      <th>label</th>\n    </tr>\n  </thead>\n  <tbody>\n    <tr>\n      <th>0</th>\n      <td>41.0</td>\n      <td>0.0</td>\n      <td>0.0</td>\n      <td>0.0</td>\n      <td>0.0</td>\n      <td>0.0</td>\n      <td>0.0</td>\n      <td>0.0</td>\n      <td>0.0</td>\n      <td>0.0</td>\n      <td>...</td>\n      <td>125.0</td>\n      <td>1.0</td>\n      <td>109.0</td>\n      <td>0.0</td>\n      <td>1.0</td>\n      <td>0.0</td>\n      <td>0.0</td>\n      <td>0.0</td>\n      <td>0</td>\n      <td>1.0</td>\n    </tr>\n    <tr>\n      <th>1</th>\n      <td>23.0</td>\n      <td>0.0</td>\n      <td>0.0</td>\n      <td>0.0</td>\n      <td>0.0</td>\n      <td>0.0</td>\n      <td>0.0</td>\n      <td>0.0</td>\n      <td>0.0</td>\n      <td>0.0</td>\n      <td>...</td>\n      <td>102.0</td>\n      <td>1.0</td>\n      <td>99.0</td>\n      <td>0.0</td>\n      <td>0.0</td>\n      <td>0.0</td>\n      <td>0.0</td>\n      <td>1.0</td>\n      <td>0</td>\n      <td>1.0</td>\n    </tr>\n    <tr>\n      <th>2</th>\n      <td>46.0</td>\n      <td>1.0</td>\n      <td>0.0</td>\n      <td>0.0</td>\n      <td>0.0</td>\n      <td>0.0</td>\n      <td>0.0</td>\n      <td>0.0</td>\n      <td>0.0</td>\n      <td>0.0</td>\n      <td>...</td>\n      <td>109.0</td>\n      <td>1.0</td>\n      <td>120.0</td>\n      <td>0.0</td>\n      <td>0.0</td>\n      <td>0.0</td>\n      <td>0.0</td>\n      <td>1.0</td>\n      <td>0</td>\n      <td>1.0</td>\n    </tr>\n    <tr>\n      <th>3</th>\n      <td>70.0</td>\n      <td>0.0</td>\n      <td>1.0</td>\n      <td>0.0</td>\n      <td>0.0</td>\n      <td>0.0</td>\n      <td>0.0</td>\n      <td>0.0</td>\n      <td>0.0</td>\n      <td>0.0</td>\n      <td>...</td>\n      <td>175.0</td>\n      <td>1.0</td>\n      <td>177.0</td>\n      <td>0.0</td>\n      <td>0.0</td>\n      <td>0.0</td>\n      <td>0.0</td>\n      <td>1.0</td>\n      <td>0</td>\n      <td>1.0</td>\n    </tr>\n    <tr>\n      <th>4</th>\n      <td>70.0</td>\n      <td>0.0</td>\n      <td>0.0</td>\n      <td>0.0</td>\n      <td>0.0</td>\n      <td>0.0</td>\n      <td>0.0</td>\n      <td>0.0</td>\n      <td>0.0</td>\n      <td>0.0</td>\n      <td>...</td>\n      <td>61.0</td>\n      <td>1.0</td>\n      <td>70.0</td>\n      <td>0.0</td>\n      <td>0.0</td>\n      <td>0.0</td>\n      <td>1.0</td>\n      <td>0.0</td>\n      <td>2</td>\n      <td>1.0</td>\n    </tr>\n  </tbody>\n</table>\n<p>5 rows × 27 columns</p>\n</div>"
     },
     "metadata": {},
     "execution_count": 8
    }
   ],
   "source": [
    "df.head()"
   ]
  },
  {
   "cell_type": "code",
   "execution_count": 9,
   "metadata": {},
   "outputs": [],
   "source": [
    "clusters = df.Cluster.unique()"
   ]
  },
  {
   "cell_type": "code",
   "execution_count": 10,
   "metadata": {},
   "outputs": [
    {
     "output_type": "execute_result",
     "data": {
      "text/plain": "array([0, 2, 1], dtype=int64)"
     },
     "metadata": {},
     "execution_count": 10
    }
   ],
   "source": [
    "clusters"
   ]
  },
  {
   "cell_type": "code",
   "execution_count": 11,
   "metadata": {},
   "outputs": [],
   "source": [
    "df_cluster_1 = df[df.Cluster==1]"
   ]
  },
  {
   "cell_type": "code",
   "execution_count": 12,
   "metadata": {},
   "outputs": [
    {
     "output_type": "execute_result",
     "data": {
      "text/plain": "(3552, 27)"
     },
     "metadata": {},
     "execution_count": 12
    }
   ],
   "source": [
    "df_cluster_1.shape"
   ]
  },
  {
   "cell_type": "code",
   "execution_count": 13,
   "metadata": {},
   "outputs": [
    {
     "output_type": "execute_result",
     "data": {
      "text/plain": "      age  sex  on_thyroxine  query_on_thyroxine  on_antithyroid_medication  \\\n40   44.0  1.0           0.0                 0.0                        0.0   \n88   39.0  0.0           0.0                 0.0                        0.0   \n116  50.0  1.0           0.0                 0.0                        0.0   \n225  38.0  1.0           0.0                 0.0                        0.0   \n259  63.0  1.0           0.0                 0.0                        0.0   \n\n     sick  pregnant  thyroid_surgery  I131_treatment  query_hypothyroid  ...  \\\n40    0.0       0.0              0.0             0.0                0.0  ...   \n88    0.0       0.0              0.0             0.0                0.0  ...   \n116   0.0       0.0              0.0             0.0                0.0  ...   \n225   0.0       0.0              0.0             0.0                0.0  ...   \n259   0.0       0.0              0.0             0.0                0.0  ...   \n\n      TT4  T4U   FTI  referral_source_STMW  referral_source_SVHC  \\\n40   39.0  1.0  33.0                   0.0                   0.0   \n88   11.0  1.0   9.0                   0.0                   0.0   \n116  32.0  1.0  28.0                   0.0                   0.0   \n225  32.0  1.0  32.0                   0.0                   0.0   \n259  14.0  1.0  14.0                   0.0                   0.0   \n\n     referral_source_SVHD  referral_source_SVI  referral_source_other  \\\n40                    0.0                  1.0                    0.0   \n88                    0.0                  0.0                    1.0   \n116                   0.0                  0.0                    1.0   \n225                   0.0                  0.0                    1.0   \n259                   0.0                  1.0                    0.0   \n\n     Cluster  label  \n40         1    2.0  \n88         1    2.0  \n116        1    2.0  \n225        1    1.0  \n259        1    2.0  \n\n[5 rows x 27 columns]",
      "text/html": "<div>\n<style scoped>\n    .dataframe tbody tr th:only-of-type {\n        vertical-align: middle;\n    }\n\n    .dataframe tbody tr th {\n        vertical-align: top;\n    }\n\n    .dataframe thead th {\n        text-align: right;\n    }\n</style>\n<table border=\"1\" class=\"dataframe\">\n  <thead>\n    <tr style=\"text-align: right;\">\n      <th></th>\n      <th>age</th>\n      <th>sex</th>\n      <th>on_thyroxine</th>\n      <th>query_on_thyroxine</th>\n      <th>on_antithyroid_medication</th>\n      <th>sick</th>\n      <th>pregnant</th>\n      <th>thyroid_surgery</th>\n      <th>I131_treatment</th>\n      <th>query_hypothyroid</th>\n      <th>...</th>\n      <th>TT4</th>\n      <th>T4U</th>\n      <th>FTI</th>\n      <th>referral_source_STMW</th>\n      <th>referral_source_SVHC</th>\n      <th>referral_source_SVHD</th>\n      <th>referral_source_SVI</th>\n      <th>referral_source_other</th>\n      <th>Cluster</th>\n      <th>label</th>\n    </tr>\n  </thead>\n  <tbody>\n    <tr>\n      <th>40</th>\n      <td>44.0</td>\n      <td>1.0</td>\n      <td>0.0</td>\n      <td>0.0</td>\n      <td>0.0</td>\n      <td>0.0</td>\n      <td>0.0</td>\n      <td>0.0</td>\n      <td>0.0</td>\n      <td>0.0</td>\n      <td>...</td>\n      <td>39.0</td>\n      <td>1.0</td>\n      <td>33.0</td>\n      <td>0.0</td>\n      <td>0.0</td>\n      <td>0.0</td>\n      <td>1.0</td>\n      <td>0.0</td>\n      <td>1</td>\n      <td>2.0</td>\n    </tr>\n    <tr>\n      <th>88</th>\n      <td>39.0</td>\n      <td>0.0</td>\n      <td>0.0</td>\n      <td>0.0</td>\n      <td>0.0</td>\n      <td>0.0</td>\n      <td>0.0</td>\n      <td>0.0</td>\n      <td>0.0</td>\n      <td>0.0</td>\n      <td>...</td>\n      <td>11.0</td>\n      <td>1.0</td>\n      <td>9.0</td>\n      <td>0.0</td>\n      <td>0.0</td>\n      <td>0.0</td>\n      <td>0.0</td>\n      <td>1.0</td>\n      <td>1</td>\n      <td>2.0</td>\n    </tr>\n    <tr>\n      <th>116</th>\n      <td>50.0</td>\n      <td>1.0</td>\n      <td>0.0</td>\n      <td>0.0</td>\n      <td>0.0</td>\n      <td>0.0</td>\n      <td>0.0</td>\n      <td>0.0</td>\n      <td>0.0</td>\n      <td>0.0</td>\n      <td>...</td>\n      <td>32.0</td>\n      <td>1.0</td>\n      <td>28.0</td>\n      <td>0.0</td>\n      <td>0.0</td>\n      <td>0.0</td>\n      <td>0.0</td>\n      <td>1.0</td>\n      <td>1</td>\n      <td>2.0</td>\n    </tr>\n    <tr>\n      <th>225</th>\n      <td>38.0</td>\n      <td>1.0</td>\n      <td>0.0</td>\n      <td>0.0</td>\n      <td>0.0</td>\n      <td>0.0</td>\n      <td>0.0</td>\n      <td>0.0</td>\n      <td>0.0</td>\n      <td>0.0</td>\n      <td>...</td>\n      <td>32.0</td>\n      <td>1.0</td>\n      <td>32.0</td>\n      <td>0.0</td>\n      <td>0.0</td>\n      <td>0.0</td>\n      <td>0.0</td>\n      <td>1.0</td>\n      <td>1</td>\n      <td>1.0</td>\n    </tr>\n    <tr>\n      <th>259</th>\n      <td>63.0</td>\n      <td>1.0</td>\n      <td>0.0</td>\n      <td>0.0</td>\n      <td>0.0</td>\n      <td>0.0</td>\n      <td>0.0</td>\n      <td>0.0</td>\n      <td>0.0</td>\n      <td>0.0</td>\n      <td>...</td>\n      <td>14.0</td>\n      <td>1.0</td>\n      <td>14.0</td>\n      <td>0.0</td>\n      <td>0.0</td>\n      <td>0.0</td>\n      <td>1.0</td>\n      <td>0.0</td>\n      <td>1</td>\n      <td>2.0</td>\n    </tr>\n  </tbody>\n</table>\n<p>5 rows × 27 columns</p>\n</div>"
     },
     "metadata": {},
     "execution_count": 13
    }
   ],
   "source": [
    "df_cluster_1.head()"
   ]
  },
  {
   "cell_type": "code",
   "execution_count": 14,
   "metadata": {},
   "outputs": [],
   "source": [
    "X = df_cluster_1.drop('label',axis=1)\n",
    "y= df_cluster_1['label']"
   ]
  },
  {
   "cell_type": "code",
   "execution_count": 15,
   "metadata": {},
   "outputs": [],
   "source": [
    "# from sklearn.model_selection import train_test_split\n",
    "# df_train,df_test = train_test_split(df_cluster_1,test_size = 0.3)"
   ]
  },
  {
   "cell_type": "code",
   "execution_count": 16,
   "metadata": {},
   "outputs": [],
   "source": [
    "# exp_clf = setup(df_train, target = 'label',silent=True)\n"
   ]
  },
  {
   "cell_type": "code",
   "execution_count": 17,
   "metadata": {},
   "outputs": [],
   "source": [
    "# compare_models()"
   ]
  },
  {
   "cell_type": "code",
   "execution_count": 18,
   "metadata": {},
   "outputs": [],
   "source": [
    "# xgb=create_model('xgboost')"
   ]
  },
  {
   "cell_type": "code",
   "execution_count": 19,
   "metadata": {},
   "outputs": [],
   "source": [
    "# lgb = create_model('lightgbm')"
   ]
  },
  {
   "cell_type": "code",
   "execution_count": 20,
   "metadata": {},
   "outputs": [],
   "source": [
    "from xgboost import XGBClassifier\n",
    "from sklearn.neighbors import KNeighborsClassifier\n",
    "from sklearn.ensemble import RandomForestClassifier\n",
    "from sklearn.tree import DecisionTreeClassifier\n",
    "from sklearn.model_selection import train_test_split\n",
    "from multiprocessing import Pool\n",
    "import multiprocessing as mp\n",
    "from sklearn.metrics  import roc_auc_score,accuracy_score\n"
   ]
  },
  {
   "cell_type": "code",
   "execution_count": 21,
   "metadata": {},
   "outputs": [],
   "source": [
    "classifiers = {\n",
    "    'xgb':XGBClassifier(),\n",
    "    'rf':RandomForestClassifier(),\n",
    "    'knn':KNeighborsClassifier()\n",
    "    }\n",
    "\n",
    "\n",
    "def evaluate_models(classifier):\n",
    "    X_train,X_test,y_train,y_test = train_test_split(X,y,test_size = 0.3)\n",
    "    classifier.fit(X_train,y_train)\n",
    "    y_pred = classifier.predict_proba(X_test)\n",
    "    if len(y_test.unique()) == 1:\n",
    "     score = accuracy_score(y_test,y_pred)\n",
    "    else:\n",
    "     score =  roc_auc_score(y_test, y_pred, multi_class='ovr')\n",
    "    \n",
    "    metric = {\n",
    "        'algo':classifier.__class__.__name__,\n",
    "        'score':float(score)\n",
    "        }\n",
    "\n",
    "    print(metric)\n",
    "    metrics_df = pd.DataFrame(metric,index=[0])\n",
    "\n",
    "    return metrics_df"
   ]
  },
  {
   "cell_type": "code",
   "execution_count": 22,
   "metadata": {},
   "outputs": [
    {
     "output_type": "stream",
     "name": "stdout",
     "text": "{'algo': 'XGBClassifier', 'score': 0.9869529920577947}\n{'algo': 'RandomForestClassifier', 'score': 1.0}\n{'algo': 'KNeighborsClassifier', 'score': 0.8320848938826467}\n"
    }
   ],
   "source": [
    "all_algo_metrics = pd.DataFrame()\n",
    "num_cores = mp.cpu_count() #number of cores on your machine\n",
    "pool = Pool(num_cores)\n",
    "for value in classifiers.values():\n",
    "    all_algo_metrics = pd.concat([all_algo_metrics,evaluate_models(value)])\n"
   ]
  },
  {
   "cell_type": "code",
   "execution_count": 23,
   "metadata": {},
   "outputs": [],
   "source": [
    "all_algo_metrics = all_algo_metrics.sort_values('score',ascending=False).reset_index(drop=True)"
   ]
  },
  {
   "cell_type": "code",
   "execution_count": 24,
   "metadata": {},
   "outputs": [
    {
     "output_type": "execute_result",
     "data": {
      "text/plain": "algo     RandomForestClassifier\nscore                         1\nName: 0, dtype: object"
     },
     "metadata": {},
     "execution_count": 24
    }
   ],
   "source": [
    "all_algo_metrics.loc[0]"
   ]
  },
  {
   "cell_type": "code",
   "execution_count": 25,
   "metadata": {},
   "outputs": [],
   "source": [
    "classifiers = [XGBClassifier(),RandomForestClassifier(),KNeighborsClassifier()]\n",
    "\n",
    "def evaluate_models2(classifier):\n",
    "    X_train,X_test,y_train,y_test = train_test_split(X,y,test_size = 0.3)\n",
    "    classifier.fit(X_train,y_train)\n",
    "    y_pred = classifier.predict_proba(X_test)\n",
    "    if len(y_test.unique()) == 1:\n",
    "     score = accuracy_score(y_test,y_pred)\n",
    "    else:\n",
    "     score =  roc_auc_score(y_test, y_pred, multi_class='ovr')\n",
    "    \n",
    "    metric = {\n",
    "        'algo':classifier.__class__.__name__,\n",
    "        'score':float(score)\n",
    "        }\n",
    "\n",
    "    print(metric)\n",
    "    metrics_df = pd.DataFrame(metric,index=[0])\n",
    "\n",
    "    return metrics_df"
   ]
  },
  {
   "cell_type": "code",
   "execution_count": 26,
   "metadata": {},
   "outputs": [],
   "source": [
    "# import sys\n",
    "# sys.modules['__main__'].__file__ = 'ipython'\n",
    "# pool.map(evaluate_models2,classifiers)\n",
    "# pool.close()\n",
    "# pool.join()"
   ]
  },
  {
   "cell_type": "code",
   "execution_count": 27,
   "metadata": {},
   "outputs": [],
   "source": [
    "processes = []\n",
    "for i,value in enumerate(classifiers):\n",
    "    p = mp.Process(target=evaluate_models2, args=(value,))\n",
    "    processes.append(p)\n",
    "    p.start()\n",
    "    \n",
    "for process in processes:\n",
    "    process.join()"
   ]
  },
  {
   "cell_type": "code",
   "execution_count": 28,
   "metadata": {},
   "outputs": [
    {
     "output_type": "execute_result",
     "data": {
      "text/plain": "[<Process(Process-9, stopped[1])>,\n <Process(Process-10, stopped[1])>,\n <Process(Process-11, stopped[1])>]"
     },
     "metadata": {},
     "execution_count": 28
    }
   ],
   "source": [
    "processes"
   ]
  },
  {
   "cell_type": "code",
   "execution_count": null,
   "metadata": {},
   "outputs": [],
   "source": []
  },
  {
   "cell_type": "code",
   "execution_count": 29,
   "metadata": {},
   "outputs": [],
   "source": [
    "groups = df.groupby('Cluster')"
   ]
  },
  {
   "cell_type": "code",
   "execution_count": 35,
   "metadata": {},
   "outputs": [
    {
     "output_type": "stream",
     "name": "stdout",
     "text": "Group:0, Shape:(5011, 27)\n    age  sex  on_thyroxine  query_on_thyroxine  on_antithyroid_medication  \\\n0  41.0  0.0           0.0                 0.0                        0.0   \n1  23.0  0.0           0.0                 0.0                        0.0   \n2  46.0  1.0           0.0                 0.0                        0.0   \n3  70.0  0.0           1.0                 0.0                        0.0   \n5  18.0  0.0           1.0                 0.0                        0.0   \n\n   sick  pregnant  thyroid_surgery  I131_treatment  query_hypothyroid  ...  \\\n0   0.0       0.0              0.0             0.0                0.0  ...   \n1   0.0       0.0              0.0             0.0                0.0  ...   \n2   0.0       0.0              0.0             0.0                0.0  ...   \n3   0.0       0.0              0.0             0.0                0.0  ...   \n5   0.0       0.0              0.0             0.0                0.0  ...   \n\n     TT4  T4U    FTI  referral_source_STMW  referral_source_SVHC  \\\n0  125.0  1.0  109.0                   0.0                   1.0   \n1  102.0  1.0   99.0                   0.0                   0.0   \n2  109.0  1.0  120.0                   0.0                   0.0   \n3  175.0  1.0  177.0                   0.0                   0.0   \n5  183.0  1.0  141.0                   0.0                   0.0   \n\n   referral_source_SVHD  referral_source_SVI  referral_source_other  Cluster  \\\n0                   0.0                  0.0                    0.0        0   \n1                   0.0                  0.0                    1.0        0   \n2                   0.0                  0.0                    1.0        0   \n3                   0.0                  0.0                    1.0        0   \n5                   0.0                  0.0                    1.0        0   \n\n   label  \n0    1.0  \n1    1.0  \n2    1.0  \n3    1.0  \n5    1.0  \n\n[5 rows x 27 columns]\nGroup:1, Shape:(3552, 27)\n      age  sex  on_thyroxine  query_on_thyroxine  on_antithyroid_medication  \\\n40   44.0  1.0           0.0                 0.0                        0.0   \n88   39.0  0.0           0.0                 0.0                        0.0   \n116  50.0  1.0           0.0                 0.0                        0.0   \n225  38.0  1.0           0.0                 0.0                        0.0   \n259  63.0  1.0           0.0                 0.0                        0.0   \n\n     sick  pregnant  thyroid_surgery  I131_treatment  query_hypothyroid  ...  \\\n40    0.0       0.0              0.0             0.0                0.0  ...   \n88    0.0       0.0              0.0             0.0                0.0  ...   \n116   0.0       0.0              0.0             0.0                0.0  ...   \n225   0.0       0.0              0.0             0.0                0.0  ...   \n259   0.0       0.0              0.0             0.0                0.0  ...   \n\n      TT4  T4U   FTI  referral_source_STMW  referral_source_SVHC  \\\n40   39.0  1.0  33.0                   0.0                   0.0   \n88   11.0  1.0   9.0                   0.0                   0.0   \n116  32.0  1.0  28.0                   0.0                   0.0   \n225  32.0  1.0  32.0                   0.0                   0.0   \n259  14.0  1.0  14.0                   0.0                   0.0   \n\n     referral_source_SVHD  referral_source_SVI  referral_source_other  \\\n40                    0.0                  1.0                    0.0   \n88                    0.0                  0.0                    1.0   \n116                   0.0                  0.0                    1.0   \n225                   0.0                  0.0                    1.0   \n259                   0.0                  1.0                    0.0   \n\n     Cluster  label  \n40         1    2.0  \n88         1    2.0  \n116        1    2.0  \n225        1    1.0  \n259        1    2.0  \n\n[5 rows x 27 columns]\nGroup:2, Shape:(5361, 27)\n     age  sex  on_thyroxine  query_on_thyroxine  on_antithyroid_medication  \\\n4   70.0  0.0           0.0                 0.0                        0.0   \n6   59.0  0.0           0.0                 0.0                        0.0   \n16  42.0  0.0           0.0                 0.0                        0.0   \n26  60.0  1.0           1.0                 0.0                        0.0   \n34  85.0  0.0           0.0                 0.0                        0.0   \n\n    sick  pregnant  thyroid_surgery  I131_treatment  query_hypothyroid  ...  \\\n4    0.0       0.0              0.0             0.0                0.0  ...   \n6    0.0       0.0              0.0             0.0                0.0  ...   \n16   0.0       0.0              0.0             0.0                0.0  ...   \n26   0.0       0.0              0.0             0.0                0.0  ...   \n34   0.0       0.0              0.0             0.0                1.0  ...   \n\n     TT4  T4U   FTI  referral_source_STMW  referral_source_SVHC  \\\n4   61.0  1.0  70.0                   0.0                   0.0   \n6   72.0  1.0  78.0                   0.0                   0.0   \n16  70.0  1.0  81.0                   0.0                   0.0   \n26  57.0  1.0  92.0                   0.0                   0.0   \n34  66.0  1.0  61.0                   0.0                   0.0   \n\n    referral_source_SVHD  referral_source_SVI  referral_source_other  Cluster  \\\n4                    0.0                  1.0                    0.0        2   \n6                    0.0                  0.0                    1.0        2   \n16                   0.0                  0.0                    1.0        2   \n26                   0.0                  0.0                    1.0        2   \n34                   0.0                  0.0                    1.0        2   \n\n    label  \n4     1.0  \n6     1.0  \n16    1.0  \n26    1.0  \n34    1.0  \n\n[5 rows x 27 columns]\n"
    }
   ],
   "source": [
    "for group_name, df_group in groups:\n",
    "    print(f'Group:{group_name}, Shape:{df_group.shape}')\n",
    "    print(df_group.head())"
   ]
  },
  {
   "cell_type": "code",
   "execution_count": 1,
   "metadata": {},
   "outputs": [],
   "source": [
    "import importlib\n",
    "# Load \"module.submodule.MyClass\"\n",
    "MyClass = getattr(importlib.import_module(\"sklearn.ensemble\"), \"RandomForestClassifier\")\n",
    "# Instantiate the class (pass arguments to the constructor, if needed)\n",
    "instance = MyClass()"
   ]
  },
  {
   "cell_type": "code",
   "execution_count": 2,
   "metadata": {},
   "outputs": [
    {
     "output_type": "execute_result",
     "data": {
      "text/plain": "RandomForestClassifier(bootstrap=True, ccp_alpha=0.0, class_weight=None,\n                       criterion='gini', max_depth=None, max_features='auto',\n                       max_leaf_nodes=None, max_samples=None,\n                       min_impurity_decrease=0.0, min_impurity_split=None,\n                       min_samples_leaf=1, min_samples_split=2,\n                       min_weight_fraction_leaf=0.0, n_estimators=100,\n                       n_jobs=None, oob_score=False, random_state=None,\n                       verbose=0, warm_start=False)"
     },
     "metadata": {},
     "execution_count": 2
    }
   ],
   "source": [
    "instance"
   ]
  },
  {
   "cell_type": "code",
   "execution_count": null,
   "metadata": {},
   "outputs": [],
   "source": []
  }
 ],
 "metadata": {
  "language_info": {
   "codemirror_mode": {
    "name": "ipython",
    "version": 3
   },
   "file_extension": ".py",
   "mimetype": "text/x-python",
   "name": "python",
   "nbconvert_exporter": "python",
   "pygments_lexer": "ipython3",
   "version": "3.7.7-final"
  },
  "orig_nbformat": 2,
  "kernelspec": {
   "name": "python37764bitthyroiddetectionconda0325a9ebceb24273994f220d1a7a7257",
   "display_name": "Python 3.7.7 64-bit ('Thyroid_Detection': conda)"
  }
 },
 "nbformat": 4,
 "nbformat_minor": 2
}