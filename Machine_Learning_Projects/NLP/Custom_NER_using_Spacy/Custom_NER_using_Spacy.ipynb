{
 "cells": [
  {
   "cell_type": "code",
   "execution_count": 1,
   "metadata": {},
   "outputs": [],
   "source": [
    "import spacy\n",
    "import pandas as pd\n",
    "import numpy as np\n",
    "from nltk.corpus import stopwords \n",
    "from bs4 import BeautifulSoup\n",
    "import re\n",
    "from nltk.tokenize import word_tokenize\n",
    "import string\n",
    ""
   ]
  },
  {
   "cell_type": "code",
   "execution_count": 2,
   "metadata": {},
   "outputs": [],
   "source": [
    "nlp = spacy.load('en_core_web_sm')"
   ]
  },
  {
   "cell_type": "code",
   "execution_count": 3,
   "metadata": {},
   "outputs": [
    {
     "output_type": "execute_result",
     "data": {
      "text/plain": "                                                text\n0   i sincerely hope the uk public unite boycott ...\n1   Imagine if doctors or nurses withheld their s...\n2   Garrett Fedl govt is blocking shipments from ...\n3   langer today we discharged our th patient fro...\n4  peloton races berocca doses calling fans how e...",
      "text/html": "<div>\n<style scoped>\n    .dataframe tbody tr th:only-of-type {\n        vertical-align: middle;\n    }\n\n    .dataframe tbody tr th {\n        vertical-align: top;\n    }\n\n    .dataframe thead th {\n        text-align: right;\n    }\n</style>\n<table border=\"1\" class=\"dataframe\">\n  <thead>\n    <tr style=\"text-align: right;\">\n      <th></th>\n      <th>text</th>\n    </tr>\n  </thead>\n  <tbody>\n    <tr>\n      <th>0</th>\n      <td>i sincerely hope the uk public unite boycott ...</td>\n    </tr>\n    <tr>\n      <th>1</th>\n      <td>Imagine if doctors or nurses withheld their s...</td>\n    </tr>\n    <tr>\n      <th>2</th>\n      <td>Garrett Fedl govt is blocking shipments from ...</td>\n    </tr>\n    <tr>\n      <th>3</th>\n      <td>langer today we discharged our th patient fro...</td>\n    </tr>\n    <tr>\n      <th>4</th>\n      <td>peloton races berocca doses calling fans how e...</td>\n    </tr>\n  </tbody>\n</table>\n</div>"
     },
     "metadata": {},
     "execution_count": 3
    }
   ],
   "source": [
    "news_data_df = pd.read_csv('../../COVID-19/Data/all_documents_till_29th_March.csv')\n",
    "news_data_df.head()"
   ]
  },
  {
   "cell_type": "code",
   "execution_count": 4,
   "metadata": {},
   "outputs": [
    {
     "output_type": "stream",
     "name": "stdout",
     "text": "<class 'pandas.core.frame.DataFrame'>\nRangeIndex: 6658 entries, 0 to 6657\nData columns (total 1 columns):\n #   Column  Non-Null Count  Dtype \n---  ------  --------------  ----- \n 0   text    6653 non-null   object\ndtypes: object(1)\nmemory usage: 52.1+ KB\n"
    }
   ],
   "source": [
    "news_data_df.info()"
   ]
  },
  {
   "cell_type": "code",
   "execution_count": 5,
   "metadata": {},
   "outputs": [
    {
     "output_type": "execute_result",
     "data": {
      "text/plain": "   geo  geo_enabled                                              tweet  \\\n0  NaN         True  ବିନାଶ କାଳେ ବିପରୀତ ବୁଦ୍ଧି ।\\nPeople order as mu...   \n1  NaN        False  In the harsh times of this #Pandemic, Atom urg...   \n2  NaN         True  @barandbench @MoHFW_INDIA Next, a petition dem...   \n3  NaN         True  9 more #COVID19 cases reported in Haryana toda...   \n4  NaN         True  Self-discipline and self-motivation is the key...   \n\n       user_handle             location  \n0  SanjitaPanigra2  Bhubaneshwar, India  \n1   AtomTech_India  Mumbai, Maharashtra  \n2        kochattil            Hyderabad  \n3              ANI                India  \n4          ecosmob                India  ",
      "text/html": "<div>\n<style scoped>\n    .dataframe tbody tr th:only-of-type {\n        vertical-align: middle;\n    }\n\n    .dataframe tbody tr th {\n        vertical-align: top;\n    }\n\n    .dataframe thead th {\n        text-align: right;\n    }\n</style>\n<table border=\"1\" class=\"dataframe\">\n  <thead>\n    <tr style=\"text-align: right;\">\n      <th></th>\n      <th>geo</th>\n      <th>geo_enabled</th>\n      <th>tweet</th>\n      <th>user_handle</th>\n      <th>location</th>\n    </tr>\n  </thead>\n  <tbody>\n    <tr>\n      <th>0</th>\n      <td>NaN</td>\n      <td>True</td>\n      <td>ବିନାଶ କାଳେ ବିପରୀତ ବୁଦ୍ଧି ।\\nPeople order as mu...</td>\n      <td>SanjitaPanigra2</td>\n      <td>Bhubaneshwar, India</td>\n    </tr>\n    <tr>\n      <th>1</th>\n      <td>NaN</td>\n      <td>False</td>\n      <td>In the harsh times of this #Pandemic, Atom urg...</td>\n      <td>AtomTech_India</td>\n      <td>Mumbai, Maharashtra</td>\n    </tr>\n    <tr>\n      <th>2</th>\n      <td>NaN</td>\n      <td>True</td>\n      <td>@barandbench @MoHFW_INDIA Next, a petition dem...</td>\n      <td>kochattil</td>\n      <td>Hyderabad</td>\n    </tr>\n    <tr>\n      <th>3</th>\n      <td>NaN</td>\n      <td>True</td>\n      <td>9 more #COVID19 cases reported in Haryana toda...</td>\n      <td>ANI</td>\n      <td>India</td>\n    </tr>\n    <tr>\n      <th>4</th>\n      <td>NaN</td>\n      <td>True</td>\n      <td>Self-discipline and self-motivation is the key...</td>\n      <td>ecosmob</td>\n      <td>India</td>\n    </tr>\n  </tbody>\n</table>\n</div>"
     },
     "metadata": {},
     "execution_count": 5
    }
   ],
   "source": [
    "tweets_df = pd.read_csv('../../COVID-19/Data/tweets_with_location_raw_16th_April.csv')\n",
    "tweets_df.head()"
   ]
  },
  {
   "cell_type": "code",
   "execution_count": 6,
   "metadata": {},
   "outputs": [
    {
     "output_type": "stream",
     "name": "stdout",
     "text": "<class 'pandas.core.frame.DataFrame'>\nRangeIndex: 206 entries, 0 to 205\nData columns (total 5 columns):\n #   Column       Non-Null Count  Dtype \n---  ------       --------------  ----- \n 0   geo          1 non-null      object\n 1   geo_enabled  206 non-null    bool  \n 2   tweet        206 non-null    object\n 3   user_handle  206 non-null    object\n 4   location     206 non-null    object\ndtypes: bool(1), object(4)\nmemory usage: 6.8+ KB\n"
    }
   ],
   "source": [
    "tweets_df.info()"
   ]
  },
  {
   "cell_type": "code",
   "execution_count": 7,
   "metadata": {},
   "outputs": [
    {
     "output_type": "stream",
     "name": "stdout",
     "text": "<class 'pandas.core.frame.DataFrame'>\nRangeIndex: 6864 entries, 0 to 6863\nData columns (total 1 columns):\n #   Column  Non-Null Count  Dtype \n---  ------  --------------  ----- \n 0   text    6859 non-null   object\ndtypes: object(1)\nmemory usage: 53.8+ KB\n"
    }
   ],
   "source": [
    "tweets_df.drop(columns=['geo','user_handle','location'],axis = 1,inplace=True)\n",
    "documents = pd.DataFrame()\n",
    "documents['text'] = pd.concat([news_data_df.text,tweets_df.tweet],axis =0 ,ignore_index=True)\n",
    "documents.info()\n",
    ""
   ]
  },
  {
   "cell_type": "code",
   "execution_count": 8,
   "metadata": {},
   "outputs": [],
   "source": [
    "# Shuffle all Data\n",
    "# documents = documents.sample(frac=1).reset_index(drop=True)"
   ]
  },
  {
   "cell_type": "code",
   "execution_count": 9,
   "metadata": {},
   "outputs": [],
   "source": [
    "# documents.reset_index(inplace=True)"
   ]
  },
  {
   "cell_type": "code",
   "execution_count": 10,
   "metadata": {},
   "outputs": [],
   "source": [
    "# Remove HTML Tags\n",
    "def remove_html(text):\n",
    "    soup = BeautifulSoup(text,'lxml')\n",
    "    html_free_text = soup.get_text()\n",
    "    return html_free_text\n",
    "\n",
    "# Remove Punctuations\n",
    "def punctuation_remover(text):\n",
    "    punctuation_free_text = \" \".join([word for word in text if word \\\n",
    "                                    not in string.punctuation])\n",
    "    return punctuation_free_text\n",
    "\n",
    "\n",
    "# Stop Word Removal\n",
    "cached_stop_words = stopwords.words('english') # Provides 70 X Speedup\n",
    "def stop_words_remover(text):\n",
    "#     text = text.lower().split()\n",
    "    words = [word for word in text if \\\n",
    "             word not in cached_stop_words]\n",
    "    return words\n",
    "\n",
    "# Convert to lower case\n",
    "def convert_to_lowercase(tokens):\n",
    "    low = []\n",
    "    for tok in tokens:\n",
    "        low.append(tok.lower().strip())\n",
    "    return low\n",
    "\n",
    "# Lemmatization\n",
    "def lemmatize_words(text):\n",
    "    words = nlp(str(text))\n",
    "    return [word.lemma_ for word in words if word.lemma_ != '-PRON-']  \n",
    "\n",
    "def replace_urls(tokens):\n",
    "    re.sub(r'''(?i)\\b((?:https?://|www\\d{0,3}[.]|[a-z0-9.\\-]+[.][a-z]{2,4}/)(?:[^\\s()<>]+|\\(([^\\s()<>]+|(\\([^\\s()<>]+\\)))*\\))+(?:\\(([^\\s()<>]+|(\\([^\\s()<>]+\\)))*\\)|[^\\s`!()\\[\\]{};:'\".,<>?«»“”‘’]))''', \" \", tokens)\n",
    "    return tokens\n",
    "\n",
    "\n",
    "def remove_short_strings(text, length):\n",
    "    array = []\n",
    "    for word in text:\n",
    "        if len(word) > length:\n",
    "            array.append(word)\n",
    "    return array"
   ]
  },
  {
   "cell_type": "code",
   "execution_count": 11,
   "metadata": {},
   "outputs": [],
   "source": [
    "def clean_text_for_tasks(text, for_pos_tagging = False):\n",
    "    cleaned_text = remove_html(text)\n",
    "    cleaned_text = replace_urls(cleaned_text)\n",
    "    cleaned_text = word_tokenize(cleaned_text)\n",
    "   \n",
    "    \n",
    "    if for_pos_tagging is False:\n",
    "        cleaned_text = convert_to_lowercase(cleaned_text)\n",
    "        cleaned_text = stop_words_remover(cleaned_text)\n",
    "        cleaned_text = lemmatize_words(cleaned_text)\n",
    "    cleaned_text = remove_short_strings(cleaned_text,2)\n",
    "    cleaned_text = punctuation_remover(cleaned_text)\n",
    "    \n",
    "    return cleaned_text"
   ]
  },
  {
   "cell_type": "code",
   "execution_count": 12,
   "metadata": {},
   "outputs": [],
   "source": [
    "from tqdm.notebook import tqdm_notebook\n",
    "# from tqdm._tqdm_notebook import tqdm_notebook\n",
    "tqdm_notebook.pandas()\n",
    "documents.dropna(inplace=True)\n",
    "documents['cleaned_text']  = documents.text.apply(lambda x : clean_text_for_tasks(x ,for_pos_tagging=True))"
   ]
  },
  {
   "cell_type": "code",
   "execution_count": 13,
   "metadata": {},
   "outputs": [
    {
     "output_type": "execute_result",
     "data": {
      "text/plain": "                                                text  \\\n0   i sincerely hope the uk public unite boycott ...   \n1   Imagine if doctors or nurses withheld their s...   \n2   Garrett Fedl govt is blocking shipments from ...   \n3   langer today we discharged our th patient fro...   \n4  peloton races berocca doses calling fans how e...   \n\n                                        cleaned_text  \n0  sincerely hope the public unite boycott are mo...  \n1  Imagine doctors nurses withheld their services...  \n2  Garrett Fedl govt blocking shipments from Chin...  \n3  langer today discharged our patient from our c...  \n4  peloton races berocca doses calling fans how e...  ",
      "text/html": "<div>\n<style scoped>\n    .dataframe tbody tr th:only-of-type {\n        vertical-align: middle;\n    }\n\n    .dataframe tbody tr th {\n        vertical-align: top;\n    }\n\n    .dataframe thead th {\n        text-align: right;\n    }\n</style>\n<table border=\"1\" class=\"dataframe\">\n  <thead>\n    <tr style=\"text-align: right;\">\n      <th></th>\n      <th>text</th>\n      <th>cleaned_text</th>\n    </tr>\n  </thead>\n  <tbody>\n    <tr>\n      <th>0</th>\n      <td>i sincerely hope the uk public unite boycott ...</td>\n      <td>sincerely hope the public unite boycott are mo...</td>\n    </tr>\n    <tr>\n      <th>1</th>\n      <td>Imagine if doctors or nurses withheld their s...</td>\n      <td>Imagine doctors nurses withheld their services...</td>\n    </tr>\n    <tr>\n      <th>2</th>\n      <td>Garrett Fedl govt is blocking shipments from ...</td>\n      <td>Garrett Fedl govt blocking shipments from Chin...</td>\n    </tr>\n    <tr>\n      <th>3</th>\n      <td>langer today we discharged our th patient fro...</td>\n      <td>langer today discharged our patient from our c...</td>\n    </tr>\n    <tr>\n      <th>4</th>\n      <td>peloton races berocca doses calling fans how e...</td>\n      <td>peloton races berocca doses calling fans how e...</td>\n    </tr>\n  </tbody>\n</table>\n</div>"
     },
     "metadata": {},
     "execution_count": 13
    }
   ],
   "source": [
    "documents.head()"
   ]
  },
  {
   "cell_type": "code",
   "execution_count": 14,
   "metadata": {},
   "outputs": [
    {
     "output_type": "execute_result",
     "data": {
      "text/plain": "                                                   text  \\\n0      looking at the trend of covid cases in malays...   \n1      kr shahi coz journos may ask y u did nt put p...   \n2      Today I told a year old that he needs intubat...   \n3      eng to protect yourself and others stay away ...   \n4      astonished that doctors in ireland have recei...   \n...                                                 ...   \n6854   In Spain things are so bad docs are killing t...   \n6855   NISHTHA Be Socially Responsible Follow HomeQu...   \n6856   the washoe county health district repoed new ...   \n6857   breaking actor gave lakhs for fefsi workers w...   \n6858  new ebook detailed internal information about ...   \n\n                                           cleaned_text  \n0     looking the trend covid cases malaysia and wfh...  \n1      shahi coz journos may ask did put preventive mea  \n2     Today told year old that needs intubation was ...  \n3     eng protect yourself and others stay away from...  \n4     astonished that doctors ireland have received ...  \n...                                                 ...  \n6854  Spain things are bad docs are killing the elde...  \n6855  NISHTHA Socially Responsible Follow HomeQuaran...  \n6856  the washoe county health district repoed new c...  \n6857  breaking actor gave lakhs for fefsi workers wh...  \n6858  new ebook detailed internal information about ...  \n\n[6859 rows x 2 columns]",
      "text/html": "<div>\n<style scoped>\n    .dataframe tbody tr th:only-of-type {\n        vertical-align: middle;\n    }\n\n    .dataframe tbody tr th {\n        vertical-align: top;\n    }\n\n    .dataframe thead th {\n        text-align: right;\n    }\n</style>\n<table border=\"1\" class=\"dataframe\">\n  <thead>\n    <tr style=\"text-align: right;\">\n      <th></th>\n      <th>text</th>\n      <th>cleaned_text</th>\n    </tr>\n  </thead>\n  <tbody>\n    <tr>\n      <th>0</th>\n      <td>looking at the trend of covid cases in malays...</td>\n      <td>looking the trend covid cases malaysia and wfh...</td>\n    </tr>\n    <tr>\n      <th>1</th>\n      <td>kr shahi coz journos may ask y u did nt put p...</td>\n      <td>shahi coz journos may ask did put preventive mea</td>\n    </tr>\n    <tr>\n      <th>2</th>\n      <td>Today I told a year old that he needs intubat...</td>\n      <td>Today told year old that needs intubation was ...</td>\n    </tr>\n    <tr>\n      <th>3</th>\n      <td>eng to protect yourself and others stay away ...</td>\n      <td>eng protect yourself and others stay away from...</td>\n    </tr>\n    <tr>\n      <th>4</th>\n      <td>astonished that doctors in ireland have recei...</td>\n      <td>astonished that doctors ireland have received ...</td>\n    </tr>\n    <tr>\n      <th>...</th>\n      <td>...</td>\n      <td>...</td>\n    </tr>\n    <tr>\n      <th>6854</th>\n      <td>In Spain things are so bad docs are killing t...</td>\n      <td>Spain things are bad docs are killing the elde...</td>\n    </tr>\n    <tr>\n      <th>6855</th>\n      <td>NISHTHA Be Socially Responsible Follow HomeQu...</td>\n      <td>NISHTHA Socially Responsible Follow HomeQuaran...</td>\n    </tr>\n    <tr>\n      <th>6856</th>\n      <td>the washoe county health district repoed new ...</td>\n      <td>the washoe county health district repoed new c...</td>\n    </tr>\n    <tr>\n      <th>6857</th>\n      <td>breaking actor gave lakhs for fefsi workers w...</td>\n      <td>breaking actor gave lakhs for fefsi workers wh...</td>\n    </tr>\n    <tr>\n      <th>6858</th>\n      <td>new ebook detailed internal information about ...</td>\n      <td>new ebook detailed internal information about ...</td>\n    </tr>\n  </tbody>\n</table>\n<p>6859 rows × 2 columns</p>\n</div>"
     },
     "metadata": {},
     "execution_count": 14
    }
   ],
   "source": [
    "documents.sample(frac=1).reset_index(drop=True)"
   ]
  },
  {
   "cell_type": "code",
   "execution_count": 15,
   "metadata": {},
   "outputs": [
    {
     "output_type": "execute_result",
     "data": {
      "text/plain": "                                                text  \\\n0   i sincerely hope the uk public unite boycott ...   \n1   Imagine if doctors or nurses withheld their s...   \n2   Garrett Fedl govt is blocking shipments from ...   \n3   langer today we discharged our th patient fro...   \n4  peloton races berocca doses calling fans how e...   \n\n                                        cleaned_text  \n0  sincerely hope the public unite boycott are mo...  \n1  Imagine doctors nurses withheld their services...  \n2  Garrett Fedl govt blocking shipments from Chin...  \n3  langer today discharged our patient from our c...  \n4  peloton races berocca doses calling fans how e...  ",
      "text/html": "<div>\n<style scoped>\n    .dataframe tbody tr th:only-of-type {\n        vertical-align: middle;\n    }\n\n    .dataframe tbody tr th {\n        vertical-align: top;\n    }\n\n    .dataframe thead th {\n        text-align: right;\n    }\n</style>\n<table border=\"1\" class=\"dataframe\">\n  <thead>\n    <tr style=\"text-align: right;\">\n      <th></th>\n      <th>text</th>\n      <th>cleaned_text</th>\n    </tr>\n  </thead>\n  <tbody>\n    <tr>\n      <th>0</th>\n      <td>i sincerely hope the uk public unite boycott ...</td>\n      <td>sincerely hope the public unite boycott are mo...</td>\n    </tr>\n    <tr>\n      <th>1</th>\n      <td>Imagine if doctors or nurses withheld their s...</td>\n      <td>Imagine doctors nurses withheld their services...</td>\n    </tr>\n    <tr>\n      <th>2</th>\n      <td>Garrett Fedl govt is blocking shipments from ...</td>\n      <td>Garrett Fedl govt blocking shipments from Chin...</td>\n    </tr>\n    <tr>\n      <th>3</th>\n      <td>langer today we discharged our th patient fro...</td>\n      <td>langer today discharged our patient from our c...</td>\n    </tr>\n    <tr>\n      <th>4</th>\n      <td>peloton races berocca doses calling fans how e...</td>\n      <td>peloton races berocca doses calling fans how e...</td>\n    </tr>\n  </tbody>\n</table>\n</div>"
     },
     "metadata": {},
     "execution_count": 15
    }
   ],
   "source": [
    "documents.head()"
   ]
  },
  {
   "cell_type": "code",
   "execution_count": 16,
   "metadata": {},
   "outputs": [],
   "source": [
    "from spacy.matcher import PhraseMatcher\n",
    "\n",
    "phrase_matcher = PhraseMatcher(nlp.vocab,attr='LOWER')\n",
    "phrases = [ 'cure' ,'isolation', 'lockdown','quarantine','vaccine', 'positive','tests' ]\n",
    "# phrases = ['mutation']\n",
    "label = 'COVIDACTION'\n",
    "\n",
    "patterns = [nlp(text) for text in phrases]"
   ]
  },
  {
   "cell_type": "code",
   "execution_count": 17,
   "metadata": {},
   "outputs": [],
   "source": [
    "phrase_matcher.add(label,None,*patterns)"
   ]
  },
  {
   "cell_type": "code",
   "execution_count": 18,
   "metadata": {},
   "outputs": [],
   "source": [
    "test_doc = \"A leading public health expert said Friday that Britain likely has the highest coronavirus death rate in Europe due to what he described as “system errors,” while the government defended its record in responding to the pandemic.Anthony Costello, director of the Institute for Global Health at University College London, said the U.K. “could see 40,000 deaths” by the time the first wave of the country's outbreak is over. This virus has been in India for 3 months, the mutation doesn’t happen too quickly. Whatever vaccine comes out now, it will work in the future as well\""
   ]
  },
  {
   "cell_type": "code",
   "execution_count": 19,
   "metadata": {},
   "outputs": [
    {
     "output_type": "execute_result",
     "data": {
      "text/plain": "[(1621438952046511751, 98, 99)]"
     },
     "metadata": {},
     "execution_count": 19
    }
   ],
   "source": [
    "test_match = nlp(test_doc)\n",
    "matches = phrase_matcher(test_match)\n",
    "[match for match in matches]"
   ]
  },
  {
   "cell_type": "code",
   "execution_count": 20,
   "metadata": {},
   "outputs": [
    {
     "output_type": "stream",
     "name": "stdout",
     "text": "COVIDACTION vaccine\n"
    }
   ],
   "source": [
    "match_id, start, end = matches[0]\n",
    "print(nlp.vocab.strings[match_id], test_match[start:end])"
   ]
  },
  {
   "cell_type": "code",
   "execution_count": 21,
   "metadata": {},
   "outputs": [],
   "source": [
    "sample_sentences = [_ for _ in documents.loc[lambda d: d['cleaned_text'].str.lower().str.contains(\"isolation\") | d['cleaned_text'].str.lower().str.contains(\"vaccine\") | d['cleaned_text'].str.lower().str.contains(\"hospital\") ]['cleaned_text']] "
   ]
  },
  {
   "cell_type": "code",
   "execution_count": 22,
   "metadata": {},
   "outputs": [
    {
     "output_type": "execute_result",
     "data": {
      "text/plain": "312"
     },
     "metadata": {},
     "execution_count": 22
    }
   ],
   "source": [
    "len(sample_sentences)"
   ]
  },
  {
   "cell_type": "code",
   "execution_count": 23,
   "metadata": {},
   "outputs": [],
   "source": [
    "import random\n",
    "\n",
    "sample_sentences_for_training = random.choices(sample_sentences,k = 4)"
   ]
  },
  {
   "cell_type": "code",
   "execution_count": 24,
   "metadata": {},
   "outputs": [
    {
     "output_type": "execute_result",
     "data": {
      "text/plain": "['this isolation period making realise that need work fkn hard and buy myself house where can live',\n 'lying was sent the covid isolation ward room major hospital from separate urgent care facility',\n 'during the third pandemic the bubonic plague savitribai carried patient her back the hospital the process',\n 'context overburdened hospital medical workers will have quarantined for possible infection while the deliv']"
     },
     "metadata": {},
     "execution_count": 24
    }
   ],
   "source": [
    "sample_sentences_for_training"
   ]
  },
  {
   "cell_type": "code",
   "execution_count": 25,
   "metadata": {},
   "outputs": [],
   "source": [
    "# with open('sample_training.txt', 'w') as f:\n",
    "#     for item in sample_sentences_for_training:\n",
    "#         f.write(\"%s\\n\" % item)\n",
    "# f.close()       "
   ]
  },
  {
   "cell_type": "markdown",
   "metadata": {},
   "source": [
    "### Spacy Training Data Annotater\n",
    " https://medium.com/@manivannan_data/how-to-train-ner-with-custom-training-data-using-spacy-188e0e508c6"
   ]
  },
  {
   "cell_type": "code",
   "execution_count": 26,
   "metadata": {},
   "outputs": [],
   "source": [
    "training_data = [('Germany has accepted nearly Italian COVID patients far Most them were airlifted hospitals speci\\r', {'entities': [(70, 79, 'COVID_ACTION')]}),\n",
    "('Kashmir people who came contact with Covid-19 patient put quarantineForty-eight people who had come contact with the first coronavirus fatality Kashmir are quarantine and authorities are touch with the states visited the man track those who may have been infected him official said Thursday The 65-year-old man hailing from Hyderpora area the city here died Thursday morning becoming the first fatality Jammu and Kashmir due coronavirus Four his contacts the valley all from north Kashmir Bandipora district also tested positive Wednesday The person attended religious gatherings New Delhi Deoband Uttar Pradesh Jammu Samba Sopore and then came back here Srinagar and was admitted chest diseases hospital where expired Director Health Services Kashmir Samir Matoo told PTI\\r', {'entities': [(513, 528, 'COVID_TESTS'), (681, 695, 'COVID_TESTS'), (696, 704, 'COVID_TREATMENT')]}),\n",
    "('rapid access neutronscience instruments resources for researchers working medicines vaccine for', {'entities': [(84,91, 'COVID_TREATMENT')]}),('update last evening the executive vice chairperson apollo hospitals preetha reddy met with health officials', {'entities': [(58, 67, 'COVID_TREATMENT'), (91, 107, 'COVID_ACTION')]}),\n",
    "('Nashik District administration Ahmednagar releases first positive person after his test turned out negative following the treatment given isolation ward Ahmednagar The patients now have remain home quarantine for next days', {'entities': [(138, 147, 'COVID_ACTION'), (198, 208, 'COVID_ACTION'), (99, 107, 'COVID_TESTS'), (57, 65, 'COVID_TESTS')]}),\n",
    "('India sends first shipment of 5.5 million tablets of hydroxychloroquine to UAE, another consignment enroute to Nepal', {'entities': [(53, 71, 'COVID_TREATMENT'), (42, 49, 'COVID_TREATMENT')]}),\n",
    "('Ambassador of India to Afghanistan Vinay Kumar today handed over the consignments of 300,000 tablets of hydroxychloroquine and 70,000 tablets of paracetamol tablets to Minister of Public Health Ferozuddin Feroz: Embassy of India, Kabul', {'entities': [(104, 122, 'COVID_TREATMENT'), (145, 156, 'COVID_TREATMENT')]})]"
   ]
  },
  {
   "cell_type": "code",
   "execution_count": 27,
   "metadata": {},
   "outputs": [],
   "source": [
    "from __future__ import unicode_literals, print_function\n",
    "import random\n",
    "from spacy.util import minibatch, compounding\n",
    "from spacy.gold import GoldParse \n",
    "\n",
    "def train_spacy_model(training_data,n_iter,model=None):\n",
    "\n",
    "    # model = 'en_core_web_sm'\n",
    "    if model is not None:\n",
    "        nlp = spacy.load(model)  # load existing spaCy model\n",
    "        print(\"Loaded model '%s'\" % model)\n",
    "    else:\n",
    "        nlp = spacy.blank(\"en\")  # create blank Language class\n",
    "        print(\"Created blank 'en' model\")\n",
    "\n",
    "    if 'ner' not in nlp.pipe_names:\n",
    "        ner = nlp.create_pipe('ner')\n",
    "        nlp.add_pipe(ner,last=True)\n",
    "    else:\n",
    "        ner = nlp.get_pipe('ner')\n",
    "    \n",
    "    ner.add_label('COVID_TREATMENT')\n",
    "    ner.add_label('COVID_ACTION')\n",
    "    ner.add_label('COVID_TESTS')\n",
    "\n",
    "    for _, annotations in training_data:\n",
    "        for ent in annotations.get('entities'):\n",
    "            ner.add_label(ent[2])\n",
    "    \n",
    "    # get names of other pipes to disable them during training\n",
    "    pipe_exceptions = [\"ner\", \"trf_wordpiecer\", \"trf_tok2vec\"]\n",
    "    optimizer = nlp.begin_training()\n",
    "    other_pipes = [pipe for pipe in nlp.pipe_names if pipe not in pipe_exceptions]\n",
    "    with nlp.disable_pipes(*other_pipes):\n",
    "        sizes = compounding(1.0, 4.0, 1.001)\n",
    "        # batch up the examples using spaCy's minibatch\n",
    "        for itn in range(n_iter):\n",
    "            random.shuffle(training_data)\n",
    "            batches = minibatch(training_data, size=sizes)\n",
    "            losses = {}\n",
    "            for batch in batches:\n",
    "                texts, annotations = zip(*batch)\n",
    "                nlp.update(texts, annotations, sgd=optimizer, drop=0.35, losses=losses)\n",
    "            print(\"Losses\", losses)\n",
    "\n",
    "        # for itn in range(100):\n",
    "        #     random.shuffle(training_data)\n",
    "        #     for raw_text, entity_offsets in training_data:\n",
    "        #         doc = nlp.make_doc(raw_text)\n",
    "        #         gold = GoldParse(doc, entities=entity_offsets)\n",
    "        #         nlp.update([doc], [gold], drop=0.5, sgd=optimizer)\n",
    "\n",
    "    test_sentence = 'zara owner offers make scrubs for spain hospitals covid esp covid'\n",
    "    doc = nlp(test_sentence)\n",
    "\n",
    "    print('Entities',[(ent.text,ent.label_) for ent in doc.ents])\n",
    "\n",
    "\n",
    "    for text, _ in training_data:\n",
    "        doc = nlp(text)\n",
    "        print(\"Entities\", [(ent.text, ent.label_) for ent in doc.ents])\n",
    "        \n",
    "\n",
    "    return nlp\n",
    "\n",
    "\n",
    ""
   ]
  },
  {
   "cell_type": "code",
   "execution_count": 28,
   "metadata": {
    "tags": [
     "outputPrepend",
     "outputPrepend",
     "outputPrepend",
     "outputPrepend"
    ]
   },
   "outputs": [
    {
     "output_type": "stream",
     "name": "stdout",
     "text": "Created blank 'en' model\nLosses {'ner': 204.56548881530762}\nLosses {'ner': 99.23289455380291}\nLosses {'ner': 29.79086407656081}\nLosses {'ner': 28.943086289350504}\nLosses {'ner': 28.276060064439662}\nLosses {'ner': 25.10290589954093}\nLosses {'ner': 22.19757759727395}\nLosses {'ner': 19.064093712849882}\nLosses {'ner': 24.205701709985345}\nLosses {'ner': 18.075559342823478}\nLosses {'ner': 14.761023444001152}\nLosses {'ner': 12.725316102060505}\nLosses {'ner': 14.0310277220158}\nLosses {'ner': 11.202549027475477}\nLosses {'ner': 29.00807052020705}\nLosses {'ner': 11.506148487423761}\nLosses {'ner': 6.346608908398621}\nLosses {'ner': 8.513994474139569}\nLosses {'ner': 7.23219952023791}\nLosses {'ner': 4.860264432078506}\nEntities [('scrubs', 'COVID_TREATMENT')]\nEntities [('hydroxychloroquine', 'COVID_TREATMENT'), ('paracetamol', 'COVID_TREATMENT')]\nEntities [('hospitals', 'COVID_TREATMENT'), ('health officials', 'COVID_ACTION')]\nEntities [('positive', 'COVID_TESTS'), ('negative', 'COVID_TESTS'), ('isolation', 'COVID_ACTION'), ('quarantine', 'COVID_ACTION')]\nEntities [('tested positive', 'COVID_TESTS'), ('chest diseases', 'COVID_TESTS'), ('hospital', 'COVID_TREATMENT')]\nEntities [('airlifted', 'COVID_ACTION')]\nEntities [('tablets', 'COVID_TREATMENT'), ('hydroxychloroquine', 'COVID_TREATMENT')]\nEntities [('vaccine', 'COVID_TREATMENT')]\n"
    }
   ],
   "source": [
    "new_trained_model = train_spacy_model(training_data=training_data,n_iter = 20)"
   ]
  },
  {
   "cell_type": "code",
   "execution_count": 29,
   "metadata": {},
   "outputs": [
    {
     "output_type": "execute_result",
     "data": {
      "text/plain": "['innovators help beat social isolation deliver remote care and tackle mental health issues launched tech challenge']"
     },
     "metadata": {},
     "execution_count": 29
    }
   ],
   "source": [
    "random.choices(sample_sentences)"
   ]
  },
  {
   "cell_type": "code",
   "execution_count": 30,
   "metadata": {},
   "outputs": [
    {
     "output_type": "stream",
     "name": "stdout",
     "text": "Entities [('positive', 'COVID_TESTS'), ('negative', 'COVID_TESTS'), ('isolation', 'COVID_ACTION'), ('quarantine', 'COVID_ACTION')]\n"
    }
   ],
   "source": [
    "doc = new_trained_model('Nashik District administration Ahmednagar releases first positive person after his test turned out negative following the treatment given isolation ward Ahmednagar The patients now have remain home quarantine for next days')\n",
    "\n",
    "print('Entities',[(ent.text,ent.label_) for ent in doc.ents])"
   ]
  },
  {
   "cell_type": "code",
   "execution_count": 40,
   "metadata": {},
   "outputs": [
    {
     "output_type": "stream",
     "name": "stdout",
     "text": "Entities [('tablets', 'COVID_TREATMENT'), ('hydroxychloroquine', 'COVID_TREATMENT')]\n"
    }
   ],
   "source": [
    "from spacy import displacy\n",
    "doc2 = new_trained_model('India sends first shipment of 5.5 million tablets of hydroxychloroquine to UAE, another consignment enroute to Nepal')\n",
    "print('Entities',[(ent.text,ent.label_) for ent in doc2.ents])\n",
    "\n",
    "\n",
    "# colors = {\"COVID_TESTS\": \"#FFC300\"}\n",
    "# options = {\"ents\": [\"COVID_TESTS\"], \"colors\": colors}\n",
    "# displacy.serve(doc2, style=\"ent\")"
   ]
  },
  {
   "cell_type": "code",
   "execution_count": null,
   "metadata": {},
   "outputs": [],
   "source": []
  },
  {
   "cell_type": "markdown",
   "metadata": {},
   "source": [
    "### Save the model"
   ]
  },
  {
   "cell_type": "code",
   "execution_count": 45,
   "metadata": {},
   "outputs": [],
   "source": [
    "def save_model(model,new_model_name,output_dir):\n",
    "    model.meta['name'] = new_model_name  # rename model\n",
    "    model.to_disk(output_dir)\n",
    "    print(\"Saved model to\", output_dir)    "
   ]
  },
  {
   "cell_type": "code",
   "execution_count": 46,
   "metadata": {},
   "outputs": [
    {
     "output_type": "stream",
     "name": "stdout",
     "text": "Saved model to ./model/\n"
    }
   ],
   "source": [
    "save_model(new_trained_model,'en_covid','./model/')"
   ]
  },
  {
   "cell_type": "code",
   "execution_count": 47,
   "metadata": {},
   "outputs": [
    {
     "output_type": "stream",
     "name": "stdout",
     "text": "India sends first shipment of 5.5 million tablets of hydroxychloroquine to UAE, another consignment enroute to Nepal\nLoading from ./model/\nEntities [('tablets', 'COVID_TREATMENT'), ('hydroxychloroquine', 'COVID_TREATMENT')]\n"
    }
   ],
   "source": [
    "# Test the saved model\n",
    "test_sentence = 'India sends first shipment of 5.5 million tablets of hydroxychloroquine to UAE, another consignment enroute to Nepal'\n",
    "print(test_sentence)\n",
    "print(\"Loading from\", './model/')\n",
    "nlp2 = spacy.load('./model/')\n",
    "doc2 = nlp2(test_sentence)\n",
    "print('Entities',[(ent.text,ent.label_) for ent in doc2.ents])"
   ]
  },
  {
   "cell_type": "markdown",
   "metadata": {},
   "source": [
    "### Creating training data using Matcher"
   ]
  },
  {
   "cell_type": "code",
   "execution_count": 105,
   "metadata": {},
   "outputs": [],
   "source": [
    "def covid_action_pattern():\n",
    "    patterns = [\n",
    "                [{'LOWER' : 'cure'}],\n",
    "                    [{'LOWER' : 'isolation'}],\n",
    "                    [{'LOWER' : 'lockdown'}],\n",
    "                    [{'LOWER' : 'quarantine'}],\n",
    "                    [{'LOWER' : 'positive'}],\n",
    "                    [{'LOWER' : 'tests'}],\n",
    "                    [{'LOWER' : 'curfew'}],\n",
    "                  [\n",
    "                    \n",
    "                    {'LOWER' : 'social'},\n",
    "                    {'IS_PUNCT':True, 'OP': '?'},\n",
    "                    {'LOWER' : 'distancing'}\n",
    "                ]\n",
    "\n",
    "            ]\n",
    "\n",
    "    return patterns"
   ]
  },
  {
   "cell_type": "code",
   "execution_count": 106,
   "metadata": {},
   "outputs": [],
   "source": [
    "def covid_treatment_pattern():\n",
    "    patterns = [\n",
    "                [{'LOWER' : 'paracetamol'}],\n",
    "                [{'LOWER' : 'vaccine'}],\n",
    "                [{'LOWER' : 'tablets'}],\n",
    "                [{'LOWER' : 'medicine'}],\n",
    "             ]\n",
    "\n",
    "    return patterns"
   ]
  },
  {
   "cell_type": "code",
   "execution_count": 129,
   "metadata": {},
   "outputs": [],
   "source": [
    "from spacy.matcher import Matcher\n",
    "\n",
    "matcher = Matcher(nlp.vocab, validate=True)\n",
    "matcher.add(\"COVID_ACTION\", None, *covid_action_pattern())\n",
    "# matcher.add(\"COVID_TREATMENT\", None, *covid_treatment_pattern())"
   ]
  },
  {
   "cell_type": "code",
   "execution_count": 130,
   "metadata": {},
   "outputs": [
    {
     "output_type": "execute_result",
     "data": {
      "text/plain": "('Germany has accepted nearly Italian COVID patients far Most them were airlifted hospitals  came contact with Covid-19 patient put quarantine Forty-eight people who had come contact with thes are touch with the states visited the man track those who may have been infected are being given medicine him official saity here died Thursday morning becoming the first fatality Jammu and Kashmir due coronavirus Four also tested positive Wednesday The person attended religious gatherings New Delhi admitted chest diseases hospital where expired Director Health Services Kashmir',\n {'entities': [(130, 140, 'COVID_ACTION'), (422, 430, 'COVID_ACTION')]})"
     },
     "metadata": {},
     "execution_count": 130
    }
   ],
   "source": [
    "def parse_train_data(doc,entity_to_tag):\n",
    "    detections = [(doc[start:end].start_char, doc[start:end].end_char, entity_to_tag ) for idx, start, end in matcher(doc)]\n",
    "    return (doc.text, {'entities': detections})\n",
    "\n",
    "text = 'Germany has accepted nearly Italian COVID patients far Most them were airlifted hospitals  came contact with Covid-19 patient put quarantine Forty-eight people who had come contact with thes are touch with the states visited the man track those who may have been infected are being given medicine him official saity here died Thursday morning becoming the first fatality Jammu and Kashmir due coronavirus Four also tested positive Wednesday The person attended religious gatherings New Delhi admitted chest diseases hospital where expired Director Health Services Kashmir'\n",
    "parse_train_data(nlp(text),'COVID_ACTION')"
   ]
  },
  {
   "cell_type": "code",
   "execution_count": 112,
   "metadata": {},
   "outputs": [
    {
     "output_type": "execute_result",
     "data": {
      "text/plain": "'medicine'"
     },
     "metadata": {},
     "execution_count": 112
    }
   ],
   "source": [
    "text[288:296]"
   ]
  },
  {
   "cell_type": "code",
   "execution_count": 126,
   "metadata": {},
   "outputs": [
    {
     "output_type": "stream",
     "name": "stdout",
     "text": "[('Germany', 'GPE'), ('Italian', 'NORP'), ('COVID', 'ORG'), ('quarantine', 'COVID_ACTION'), ('Forty-eight', 'CARDINAL'), ('Thursday', 'DATE'), ('morning', 'TIME'), ('first', 'ORDINAL'), ('Jammu', 'GPE'), ('Kashmir', 'LOC'), ('Four', 'CARDINAL'), ('positive', 'COVID_ACTION'), ('Wednesday', 'DATE'), ('New Delhi', 'GPE')]\n"
    }
   ],
   "source": [
    "import spacy\n",
    "from spacy.pipeline import EntityRuler\n",
    "\n",
    "nlp = spacy.load(\"en_core_web_sm\")\n",
    "ruler = EntityRuler(nlp)\n",
    "patterns = [{\"label\": \"COVID_ACTION\", \n",
    "            \"pattern\": [{\"LOWER\": {\"IN\": [\"quarantine\", \"curfew\", \"positive\"]}}]          \n",
    "            }]\n",
    "ruler.add_patterns(patterns)\n",
    "nlp.add_pipe(ruler)\n",
    "\n",
    "doc = nlp(text)\n",
    "print([(ent.text, ent.label_) for ent in doc.ents])"
   ]
  },
  {
   "cell_type": "code",
   "execution_count": null,
   "metadata": {},
   "outputs": [],
   "source": []
  },
  {
   "cell_type": "code",
   "execution_count": null,
   "metadata": {},
   "outputs": [],
   "source": []
  }
 ],
 "metadata": {
  "kernelspec": {
   "display_name": "Python 3",
   "language": "python",
   "name": "python3"
  },
  "language_info": {
   "codemirror_mode": {
    "name": "ipython",
    "version": 3
   },
   "file_extension": ".py",
   "mimetype": "text/x-python",
   "name": "python",
   "nbconvert_exporter": "python",
   "pygments_lexer": "ipython3",
   "version": "3.7.7-final"
  },
  "widgets": {
   "application/vnd.jupyter.widget-state+json": {
    "state": {
     "074dfe06f9624bd7abc9ace56b99f97f": {
      "model_module": "@jupyter-widgets/controls",
      "model_module_version": "1.5.0",
      "model_name": "HBoxModel",
      "state": {
       "children": [
        "IPY_MODEL_d10cbcc96a5f451ab0339c33fdf067f7",
        "IPY_MODEL_66f1e5ef9f5f49c0878713b4f20174a6"
       ],
       "layout": "IPY_MODEL_97acd2d267fa4f75838ab760f1a97e68"
      }
     },
     "24946d16883847bd9c12816cc7596ae6": {
      "model_module": "@jupyter-widgets/base",
      "model_module_version": "1.2.0",
      "model_name": "LayoutModel",
      "state": {}
     },
     "56652d26a35f42b6974d458402ffeab1": {
      "model_module": "@jupyter-widgets/controls",
      "model_module_version": "1.5.0",
      "model_name": "DescriptionStyleModel",
      "state": {
       "description_width": ""
      }
     },
     "61f7ba6a01254e1d9f2ef5a6b856efab": {
      "model_module": "@jupyter-widgets/controls",
      "model_module_version": "1.5.0",
      "model_name": "ProgressStyleModel",
      "state": {
       "description_width": "initial"
      }
     },
     "66f1e5ef9f5f49c0878713b4f20174a6": {
      "model_module": "@jupyter-widgets/controls",
      "model_module_version": "1.5.0",
      "model_name": "HTMLModel",
      "state": {
       "layout": "IPY_MODEL_24946d16883847bd9c12816cc7596ae6",
       "style": "IPY_MODEL_56652d26a35f42b6974d458402ffeab1",
       "value": " 6859/6859 [00:28&lt;00:00, 237.90it/s]"
      }
     },
     "792b7794812a4386866908f2b79ba768": {
      "model_module": "@jupyter-widgets/base",
      "model_module_version": "1.2.0",
      "model_name": "LayoutModel",
      "state": {}
     },
     "97acd2d267fa4f75838ab760f1a97e68": {
      "model_module": "@jupyter-widgets/base",
      "model_module_version": "1.2.0",
      "model_name": "LayoutModel",
      "state": {}
     },
     "d10cbcc96a5f451ab0339c33fdf067f7": {
      "model_module": "@jupyter-widgets/controls",
      "model_module_version": "1.5.0",
      "model_name": "FloatProgressModel",
      "state": {
       "bar_style": "success",
       "description": "100%",
       "layout": "IPY_MODEL_792b7794812a4386866908f2b79ba768",
       "max": 6859,
       "style": "IPY_MODEL_61f7ba6a01254e1d9f2ef5a6b856efab",
       "value": 6859
      }
     }
    },
    "version_major": 2,
    "version_minor": 0
   }
  }
 },
 "nbformat": 4,
 "nbformat_minor": 4
}