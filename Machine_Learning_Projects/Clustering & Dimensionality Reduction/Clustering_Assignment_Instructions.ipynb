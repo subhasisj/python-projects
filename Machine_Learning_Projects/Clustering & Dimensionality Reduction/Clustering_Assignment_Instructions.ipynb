{
 "cells": [
  {
   "cell_type": "code",
   "execution_count": 0,
   "metadata": {
    "colab": {},
    "colab_type": "code",
    "id": "F80ttrvIF4YF",
    "outputId": "38561fd6-5a46-447c-fc79-8465058be04e"
   },
   "outputs": [
    {
     "name": "stderr",
     "output_type": "stream",
     "text": [
      "Using TensorFlow backend.\n"
     ]
    }
   ],
   "source": [
    "import networkx as nx\n",
    "from networkx.algorithms import bipartite\n",
    "import matplotlib.pyplot as plt\n",
    "from sklearn.cluster import KMeans\n",
    "import numpy as np\n",
    "import warnings\n",
    "warnings.filterwarnings(\"ignore\")\n",
    "import pandas as pd\n",
    "# you need to have tensorflow \n",
    "from stellargraph.data import UniformRandomMetaPathWalk\n",
    "from stellargraph import StellarGraph"
   ]
  },
  {
   "cell_type": "markdown",
   "metadata": {
    "colab_type": "text",
    "id": "2iKjPzMEF4YY"
   },
   "source": [
    "1. Read Graph from the given movie_actor_network.csv note that the graph is bipartite graph\n",
    "2. using stellergaph and gensim packages, get the dense representation(128dimensional vector) of every node in the graph\n",
    "3. Apply Clustering Algorithm to group similar actors\n",
    "\n",
    "\ta. For this task consider only the actor nodes <br>\n",
    "\tb. Apply any clustering algorithm of your choice <br>\n",
    "\tc. Choose the number of clusters for which you have maximum score of <b>$Cost1*F(Cost2)*Cost3$</b> where $F(x) = x*(1-x)$<br>\n",
    "\t\n",
    "    Cost1 = $\\frac{1}{N}\\sum_{\\text{each cluster i}}  \\frac{\\text{(number of nodes in the largest connected component in the graph with the actor nodes and its movie neighbours in cluster i)}}{\\text{(total number of nodes in that cluster i)}}$ where N= number of clusters <br><br>\n",
    "\tCost2 = $\\frac{\\text{max(number of actor nodes in cluster)}}{\\text{total_number_of_actor_nodes}}$ <br><br>\n",
    "    \n",
    "\tCost3 = $\\frac{1}{N}\\sum_{\\text{each cluster i}}  \\frac{\\text{(sum of degress of actor nodes in the graph with the actor nodes and its movie neighbours in cluster i)}}{\\text{(number of unique movie nodes in the graph with the actor nodes and its movie neighbours in cluster i)}}$ where N= number of clusters \n",
    "    \n",
    "\t<pre>\n",
    "\tfor number_of_clusters in [3, 5, 10, 30, 50, 100, 200, 500]:\n",
    "\t\talgo = clustering_algorith(clusters=number_of_clusters)\n",
    "        # you will be passing a matrix of size N*d where N number of actor nodes and d is dimension from gensim\n",
    "\t\talgo.fit(the dense vectors of actor nodes) \n",
    "\t\tcomputer the metric Cost = Cost1*F(Cost2)*Cost3\n",
    "\treturn number_of_clusters which have maximum Cost\n",
    "\t</pre>\n",
    "\n",
    "\td. Fit the clustering algorithm with the opimal number_of_clusters and get the cluster number for each node<br>\n",
    "\te. Convert the d-dimensional dense vectors of nodes into 2-dimensional using dimensionality reduction techniques (preferably TSNE)<br>\n",
    "\tf. Plot the 2d scatter plot, with the node vectors after step e and give colors to nodes such that same cluster nodes will have same color\n",
    "\n",
    "\n",
    "4. Apply Clustering Algorithm to group similar movies\n",
    "\ta. for this task consider only the movie nodes\n",
    "\tb. apply any clustering algorithm of your choice\n",
    "\tc. choose the number of clusters for which you have maximum score of $Cost1*F(Cost2)*Cost3$ <br>\n",
    "\n",
    "    Cost1 = $\\frac{1}{N}\\sum_{\\text{each cluster i}}  \\frac{\\text{(number of nodes in the largest connected component in the graph with the movie nodes and its actor neighbours in cluster i)}}{\\text{(total number of nodes in that cluster i)}}$ where N= number of clusters <br><br>\n",
    "\tCost2 = $\\frac{\\text{max(number of movie nodes in cluster)}}{\\text{total_number_of_movie_nodes}}$ <br><br>\n",
    "\tCost3 = $\\frac{1}{N}\\sum_{\\text{each cluster i}}  \\frac{\\text{(sum of degress of movie nodes in the graph with the movie nodes and its actor neighbours in cluster i)}}{\\text{(number of unique actor nodes in the graph with the movie nodes and its actor neighbours in cluster i)}}$ where N= number of clusters \n",
    "\n",
    "\t<pre>\n",
    "\tfor number_of_clusters in [3, 5, 10, 30, 50, 100, 200, 500]:\n",
    "\t\talgo = clustering_algorith(clusters=number_of_clusters)\n",
    "        # you will be passing a matrix of size N*d where N number of actor nodes and d is dimension from gensim\n",
    "\t\talgo.fit(the dense vectors of actor nodes) \n",
    "\t\tcomputer the metric Cost = Cost1*(Cost2)*(1-Cost2)*Cost3\n",
    "\treturn number_of_clusters which have maximum Cost\n",
    "\t</pre>\n",
    "\n",
    "\td. Fit the clustering algorithm with the opimal number_of_clusters and get the cluster number for each node <br>\n",
    "\te. Convert the d-dimensional dense vectors of nodes into 2-dimensional using dimensionality reduction techniques (preferably TSNE)<br>\n",
    "\tf. Plot the 2d scatter plot, with the node vectors after step e and give colors to nodes such that same cluster nodes will have same color\n",
    "\t\n"
   ]
  },
  {
   "cell_type": "markdown",
   "metadata": {
    "colab_type": "text",
    "id": "gLzlSNO6F4Ya"
   },
   "source": [
    "<img src='https://i.imgur.com/ZLWQEhL.jpg'>"
   ]
  },
  {
   "cell_type": "markdown",
   "metadata": {
    "colab_type": "text",
    "id": "aTg5qUxAF4Yd"
   },
   "source": [
    "### these links and function might be usefull while solving this assignment\n",
    "1. what is bipartite graph: https://en.wikipedia.org/wiki/Bipartite_graph\n",
    "2. Ego graph: https://networkx.github.io/documentation/stable/reference/generated/networkx.generators.ego.ego_graph.html\n",
    "3. Combining two are more graphs: https://stackoverflow.com/a/32652764/4084039\n",
    "    ex: if you want to merge three graphs which are mentiond in the above image, you can write like this\n",
    "    <pre>\n",
    "    U=nx.Graph()\n",
    "    for i in number of clusters:\n",
    "        if U is empty:\n",
    "            U.add_edges_from(ith Cluster's graph.edges(data=True))\n",
    "            U.add_nodes_from(ith Cluster's graph.nodes(data=True)) \n",
    "        else:\n",
    "            U.add_edges_from(ith Cluster's graph.edges(data=True)+U.edges(data=True))\n",
    "            U.add_nodes_from(ith Cluster's graph.nodes(data=True)+U.nodes(data=True))\n",
    "    </pre>\n",
    "4. connected components:  https://networkx.github.io/documentation/stable/reference/algorithms/generated/networkx.algorithms.components.connected_components.html\n",
    "5. Degree of a node: https://networkx.github.io/documentation/stable/reference/classes/generated/networkx.Graph.degree.html\n",
    "6. Neighbors of node: https://networkx.github.io/documentation/networkx-1.10/reference/generated/networkx.Graph.neighbors.html"
   ]
  },
  {
   "cell_type": "code",
   "execution_count": 0,
   "metadata": {
    "colab": {},
    "colab_type": "code",
    "id": "WiELaqgbF4Yg"
   },
   "outputs": [],
   "source": [
    "# hint: you can refer facebook case study notebook to solve this assignment in couple of hours\n",
    "data=pd.read_csv('movie_actor_network.csv', index_col=False, names=['movie','actor'])"
   ]
  }
 ],
 "metadata": {
  "colab": {
   "name": "Assignment_Instructions.ipynb",
   "provenance": [],
   "version": "0.3.2"
  },
  "kernelspec": {
   "display_name": "Python 3",
   "language": "python",
   "name": "python3"
  },
  "language_info": {
   "codemirror_mode": {
    "name": "ipython",
    "version": 3
   },
   "file_extension": ".py",
   "mimetype": "text/x-python",
   "name": "python",
   "nbconvert_exporter": "python",
   "pygments_lexer": "ipython3",
   "version": "3.7.3"
  }
 },
 "nbformat": 4,
 "nbformat_minor": 1
}
