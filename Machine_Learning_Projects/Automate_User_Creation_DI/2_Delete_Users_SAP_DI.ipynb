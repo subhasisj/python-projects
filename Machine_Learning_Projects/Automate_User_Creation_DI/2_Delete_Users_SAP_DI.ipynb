{
 "cells": [
  {
   "cell_type": "markdown",
   "metadata": {},
   "source": [
    "## Script for Deleting Users \n",
    "\n",
    "##### This Notebook deletes the users created with the Notebook 1_Create_Users_SAP_DI.ipynb "
   ]
  },
  {
   "cell_type": "markdown",
   "metadata": {},
   "source": [
    "Please follow the prerequisite steps mentioned in the Notebook 1_Create_Users_SAP_DI.ipynb "
   ]
  },
  {
   "cell_type": "code",
   "execution_count": 1,
   "metadata": {},
   "outputs": [],
   "source": [
    "from selenium.webdriver import Chrome, ChromeOptions\n",
    "import time\n",
    "import credentials as cred"
   ]
  },
  {
   "cell_type": "code",
   "execution_count": 2,
   "metadata": {},
   "outputs": [],
   "source": [
    "def slow_typing(element, text):\n",
    "   for character in text:\n",
    "      element.send_keys(character)\n",
    "      time.sleep(0.01)"
   ]
  },
  {
   "cell_type": "code",
   "execution_count": 3,
   "metadata": {},
   "outputs": [],
   "source": [
    "# Visit chrome://version/ and copy profile path in place of '<chrome user profile>'\n",
    "options = ChromeOptions().add_argument(\"--user-data-dir=<chrome user profile>\")\n",
    "\n",
    "browser = Chrome(chrome_options=options)\n",
    "browser.get(cred.url_to_user)\n",
    "\n",
    "time.sleep(2)\n",
    "\n",
    "tenant = browser.find_element_by_id('tenant-in')\n",
    "slow_typing(tenant, cred.tenant_to_be_filled )\n",
    "proceed_button = browser.find_element_by_xpath('/html/body/section/section/section/section[1]/div[1]/form/div[2]/button')\n",
    "proceed_button.click()\n",
    "\n",
    "time.sleep(2)\n",
    "\n",
    "\n",
    "uname = browser.find_element_by_xpath('//*[@id=\"username-in\"]')\n",
    "slow_typing(uname,cred.user_name_to_login )\n",
    "password = browser.find_element_by_xpath('//*[@id=\"password-in\"]')\n",
    "slow_typing(password, cred.pass_to_login)\n",
    "\n",
    "signin_buttton = browser.find_element_by_xpath('/html/body/section/section/section/section[1]/div[2]/div/div[1]/form/div[4]/button')\n",
    "signin_buttton.click()\n",
    "\n",
    "time.sleep(60) # Increase this value if logging in takes time\n",
    "\n",
    "navigate_to_users = browser.find_element_by_xpath('/html/body/f-shell/div/div[1]/div/f-shell-bar/div/div[2]/ul/li[2]/a')\n",
    "navigate_to_users.click()\n",
    "\n",
    "time.sleep(3)\n",
    "\n"
   ]
  },
  {
   "cell_type": "code",
   "execution_count": 4,
   "metadata": {},
   "outputs": [],
   "source": [
    "# Delete the users with the pattern : ta00 ,ta01 ,ta02.......\n",
    "user_names_to_be_deleted = [\"ta%.2d\" % i for i in range(cred.n_users_required)]"
   ]
  },
  {
   "cell_type": "code",
   "execution_count": 5,
   "metadata": {},
   "outputs": [
    {
     "name": "stdout",
     "output_type": "stream",
     "text": [
      "User ta00 has been deleted\n",
      "User ta01 has been deleted\n",
      "User ta02 has been deleted\n",
      "User ta03 has been deleted\n",
      "User ta04 has been deleted\n",
      "Wall time: 32.9 s\n"
     ]
    }
   ],
   "source": [
    "%%time\n",
    "# User deletion process\n",
    "for i in range(cred.n_users_required):\n",
    "      \n",
    "    user_search = browser.find_element_by_xpath('/html/body/f-shell/div/div[2]/div/div[2]/div/router-view/router-view/div/div/table-action-bar/div/div[2]/f-search/f-input-group/input')\n",
    "    \n",
    "    slow_typing(user_search,user_names_to_be_deleted[i] )\n",
    "    time.sleep(2)\n",
    "    \n",
    "    delete_user_xpath = '/html/body/f-shell/div/div[2]/div/div[2]/div/router-view/router-view/div/div/f-table/div[1]/table/tbody/tr[2]/td[4]/div/button'\n",
    "    click_on_delete = browser.find_element_by_xpath(delete_user_xpath)\n",
    "    click_on_delete.click()\n",
    "    \n",
    "    confirm_delete_xpath = '/html/body/ux-dialog-container/div/div/div/div/div/div/div/div[3]/div/button[1]'\n",
    "    confirm_delete = browser.find_element_by_xpath(confirm_delete_xpath)\n",
    "    confirm_delete.click()\n",
    "    \n",
    "    time.sleep(3)\n",
    "    \n",
    "    clear_search_field_xpath = '/html/body/f-shell/div/div[2]/div/div[2]/div/router-view/router-view/div/div/table-action-bar/div/div[2]/f-search/f-input-group/f-input-group-addon[1]/button'\n",
    "    clear_search_field = browser.find_element_by_xpath(clear_search_field_xpath)\n",
    "    clear_search_field.click()\n",
    "    time.sleep(1)\n",
    "    \n",
    "    print('User {} has been deleted'.format(user_names_to_be_deleted[i]))\n"
   ]
  },
  {
   "cell_type": "code",
   "execution_count": null,
   "metadata": {},
   "outputs": [],
   "source": []
  },
  {
   "cell_type": "code",
   "execution_count": null,
   "metadata": {},
   "outputs": [],
   "source": []
  }
 ],
 "metadata": {
  "kernelspec": {
   "display_name": "Python 3",
   "language": "python",
   "name": "python3"
  },
  "language_info": {
   "codemirror_mode": {
    "name": "ipython",
    "version": 3
   },
   "file_extension": ".py",
   "mimetype": "text/x-python",
   "name": "python",
   "nbconvert_exporter": "python",
   "pygments_lexer": "ipython3",
   "version": "3.7.6"
  },
  "widgets": {
   "application/vnd.jupyter.widget-state+json": {
    "state": {},
    "version_major": 2,
    "version_minor": 0
   }
  }
 },
 "nbformat": 4,
 "nbformat_minor": 4
}
