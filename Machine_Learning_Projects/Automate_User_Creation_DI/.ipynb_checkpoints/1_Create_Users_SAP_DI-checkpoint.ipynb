{
 "cells": [
  {
   "cell_type": "markdown",
   "metadata": {},
   "source": [
    "## Script for Creating Users in SAP DI"
   ]
  },
  {
   "cell_type": "markdown",
   "metadata": {},
   "source": [
    "Please follow the below steps before carefully starting :\n",
    "1. Open the __credentials.py__ file\n",
    "2. Replace the value of __url_to_user__ with the URL to users tab inside system management:\n",
    "    - Launchpad > System Management > Users tab\n",
    "3. Replace the value of the variables as below:\n",
    "    1. __tenant_to_be_filled__ : SAP DI Tenant (Ex - Default)\n",
    "    2. __user_name_to_login__ :  SAP DI User Name\n",
    "    3. __pass_to_login__ : Account Password \n",
    "4. Provide the value of __n_users_required__ : The number of users to be processed\n",
    "\n",
    "Once you are done with the above steps : You can click on Kernel > Restart Kernel and Run All Cells to execute the entire notebook.\n",
    "\n",
    "_FYI : The code contains sleep statements ( EX - time.sleep(5) ) at several places, if at all you are facing issues regarding element not found during execution it is probably because of your network speed. You can adjust the number here in case your network is slow._"
   ]
  },
  {
   "cell_type": "code",
   "execution_count": 1,
   "metadata": {},
   "outputs": [],
   "source": [
    "from selenium.webdriver import Chrome, ChromeOptions\n",
    "import time\n",
    "import credentials as cred"
   ]
  },
  {
   "cell_type": "code",
   "execution_count": 2,
   "metadata": {},
   "outputs": [],
   "source": [
    "def slow_typing(element, text):\n",
    "   for character in text:\n",
    "      element.send_keys(character)\n",
    "      time.sleep(0.01)"
   ]
  },
  {
   "cell_type": "code",
   "execution_count": 3,
   "metadata": {},
   "outputs": [
    {
     "ename": "NoSuchElementException",
     "evalue": "Message: no such element: Unable to locate element: {\"method\":\"xpath\",\"selector\":\"/html/body/f-shell/div/div[1]/div/f-shell-bar/div/div[2]/ul/li[2]/a\"}\n  (Session info: chrome=80.0.3987.132)\n",
     "output_type": "error",
     "traceback": [
      "\u001b[1;31m---------------------------------------------------------------------------\u001b[0m",
      "\u001b[1;31mNoSuchElementException\u001b[0m                    Traceback (most recent call last)",
      "\u001b[1;32m<ipython-input-3-1c6ac8b4d9f2>\u001b[0m in \u001b[0;36m<module>\u001b[1;34m\u001b[0m\n\u001b[0;32m     25\u001b[0m \u001b[0mtime\u001b[0m\u001b[1;33m.\u001b[0m\u001b[0msleep\u001b[0m\u001b[1;33m(\u001b[0m\u001b[1;36m50\u001b[0m\u001b[1;33m)\u001b[0m \u001b[1;31m# Increase this value if logging in takes time\u001b[0m\u001b[1;33m\u001b[0m\u001b[1;33m\u001b[0m\u001b[0m\n\u001b[0;32m     26\u001b[0m \u001b[1;33m\u001b[0m\u001b[0m\n\u001b[1;32m---> 27\u001b[1;33m \u001b[0mnavigate_to_users\u001b[0m \u001b[1;33m=\u001b[0m \u001b[0mbrowser\u001b[0m\u001b[1;33m.\u001b[0m\u001b[0mfind_element_by_xpath\u001b[0m\u001b[1;33m(\u001b[0m\u001b[1;34m'/html/body/f-shell/div/div[1]/div/f-shell-bar/div/div[2]/ul/li[2]/a'\u001b[0m\u001b[1;33m)\u001b[0m\u001b[1;33m\u001b[0m\u001b[1;33m\u001b[0m\u001b[0m\n\u001b[0m\u001b[0;32m     28\u001b[0m \u001b[0mnavigate_to_users\u001b[0m\u001b[1;33m.\u001b[0m\u001b[0mclick\u001b[0m\u001b[1;33m(\u001b[0m\u001b[1;33m)\u001b[0m\u001b[1;33m\u001b[0m\u001b[1;33m\u001b[0m\u001b[0m\n\u001b[0;32m     29\u001b[0m \u001b[1;33m\u001b[0m\u001b[0m\n",
      "\u001b[1;32m~\\AppData\\Local\\Continuum\\anaconda3\\lib\\site-packages\\selenium\\webdriver\\remote\\webdriver.py\u001b[0m in \u001b[0;36mfind_element_by_xpath\u001b[1;34m(self, xpath)\u001b[0m\n\u001b[0;32m    392\u001b[0m             \u001b[0melement\u001b[0m \u001b[1;33m=\u001b[0m \u001b[0mdriver\u001b[0m\u001b[1;33m.\u001b[0m\u001b[0mfind_element_by_xpath\u001b[0m\u001b[1;33m(\u001b[0m\u001b[1;34m'//div/td[1]'\u001b[0m\u001b[1;33m)\u001b[0m\u001b[1;33m\u001b[0m\u001b[1;33m\u001b[0m\u001b[0m\n\u001b[0;32m    393\u001b[0m         \"\"\"\n\u001b[1;32m--> 394\u001b[1;33m         \u001b[1;32mreturn\u001b[0m \u001b[0mself\u001b[0m\u001b[1;33m.\u001b[0m\u001b[0mfind_element\u001b[0m\u001b[1;33m(\u001b[0m\u001b[0mby\u001b[0m\u001b[1;33m=\u001b[0m\u001b[0mBy\u001b[0m\u001b[1;33m.\u001b[0m\u001b[0mXPATH\u001b[0m\u001b[1;33m,\u001b[0m \u001b[0mvalue\u001b[0m\u001b[1;33m=\u001b[0m\u001b[0mxpath\u001b[0m\u001b[1;33m)\u001b[0m\u001b[1;33m\u001b[0m\u001b[1;33m\u001b[0m\u001b[0m\n\u001b[0m\u001b[0;32m    395\u001b[0m \u001b[1;33m\u001b[0m\u001b[0m\n\u001b[0;32m    396\u001b[0m     \u001b[1;32mdef\u001b[0m \u001b[0mfind_elements_by_xpath\u001b[0m\u001b[1;33m(\u001b[0m\u001b[0mself\u001b[0m\u001b[1;33m,\u001b[0m \u001b[0mxpath\u001b[0m\u001b[1;33m)\u001b[0m\u001b[1;33m:\u001b[0m\u001b[1;33m\u001b[0m\u001b[1;33m\u001b[0m\u001b[0m\n",
      "\u001b[1;32m~\\AppData\\Local\\Continuum\\anaconda3\\lib\\site-packages\\selenium\\webdriver\\remote\\webdriver.py\u001b[0m in \u001b[0;36mfind_element\u001b[1;34m(self, by, value)\u001b[0m\n\u001b[0;32m    976\u001b[0m         return self.execute(Command.FIND_ELEMENT, {\n\u001b[0;32m    977\u001b[0m             \u001b[1;34m'using'\u001b[0m\u001b[1;33m:\u001b[0m \u001b[0mby\u001b[0m\u001b[1;33m,\u001b[0m\u001b[1;33m\u001b[0m\u001b[1;33m\u001b[0m\u001b[0m\n\u001b[1;32m--> 978\u001b[1;33m             'value': value})['value']\n\u001b[0m\u001b[0;32m    979\u001b[0m \u001b[1;33m\u001b[0m\u001b[0m\n\u001b[0;32m    980\u001b[0m     \u001b[1;32mdef\u001b[0m \u001b[0mfind_elements\u001b[0m\u001b[1;33m(\u001b[0m\u001b[0mself\u001b[0m\u001b[1;33m,\u001b[0m \u001b[0mby\u001b[0m\u001b[1;33m=\u001b[0m\u001b[0mBy\u001b[0m\u001b[1;33m.\u001b[0m\u001b[0mID\u001b[0m\u001b[1;33m,\u001b[0m \u001b[0mvalue\u001b[0m\u001b[1;33m=\u001b[0m\u001b[1;32mNone\u001b[0m\u001b[1;33m)\u001b[0m\u001b[1;33m:\u001b[0m\u001b[1;33m\u001b[0m\u001b[1;33m\u001b[0m\u001b[0m\n",
      "\u001b[1;32m~\\AppData\\Local\\Continuum\\anaconda3\\lib\\site-packages\\selenium\\webdriver\\remote\\webdriver.py\u001b[0m in \u001b[0;36mexecute\u001b[1;34m(self, driver_command, params)\u001b[0m\n\u001b[0;32m    319\u001b[0m         \u001b[0mresponse\u001b[0m \u001b[1;33m=\u001b[0m \u001b[0mself\u001b[0m\u001b[1;33m.\u001b[0m\u001b[0mcommand_executor\u001b[0m\u001b[1;33m.\u001b[0m\u001b[0mexecute\u001b[0m\u001b[1;33m(\u001b[0m\u001b[0mdriver_command\u001b[0m\u001b[1;33m,\u001b[0m \u001b[0mparams\u001b[0m\u001b[1;33m)\u001b[0m\u001b[1;33m\u001b[0m\u001b[1;33m\u001b[0m\u001b[0m\n\u001b[0;32m    320\u001b[0m         \u001b[1;32mif\u001b[0m \u001b[0mresponse\u001b[0m\u001b[1;33m:\u001b[0m\u001b[1;33m\u001b[0m\u001b[1;33m\u001b[0m\u001b[0m\n\u001b[1;32m--> 321\u001b[1;33m             \u001b[0mself\u001b[0m\u001b[1;33m.\u001b[0m\u001b[0merror_handler\u001b[0m\u001b[1;33m.\u001b[0m\u001b[0mcheck_response\u001b[0m\u001b[1;33m(\u001b[0m\u001b[0mresponse\u001b[0m\u001b[1;33m)\u001b[0m\u001b[1;33m\u001b[0m\u001b[1;33m\u001b[0m\u001b[0m\n\u001b[0m\u001b[0;32m    322\u001b[0m             response['value'] = self._unwrap_value(\n\u001b[0;32m    323\u001b[0m                 response.get('value', None))\n",
      "\u001b[1;32m~\\AppData\\Local\\Continuum\\anaconda3\\lib\\site-packages\\selenium\\webdriver\\remote\\errorhandler.py\u001b[0m in \u001b[0;36mcheck_response\u001b[1;34m(self, response)\u001b[0m\n\u001b[0;32m    240\u001b[0m                 \u001b[0malert_text\u001b[0m \u001b[1;33m=\u001b[0m \u001b[0mvalue\u001b[0m\u001b[1;33m[\u001b[0m\u001b[1;34m'alert'\u001b[0m\u001b[1;33m]\u001b[0m\u001b[1;33m.\u001b[0m\u001b[0mget\u001b[0m\u001b[1;33m(\u001b[0m\u001b[1;34m'text'\u001b[0m\u001b[1;33m)\u001b[0m\u001b[1;33m\u001b[0m\u001b[1;33m\u001b[0m\u001b[0m\n\u001b[0;32m    241\u001b[0m             \u001b[1;32mraise\u001b[0m \u001b[0mexception_class\u001b[0m\u001b[1;33m(\u001b[0m\u001b[0mmessage\u001b[0m\u001b[1;33m,\u001b[0m \u001b[0mscreen\u001b[0m\u001b[1;33m,\u001b[0m \u001b[0mstacktrace\u001b[0m\u001b[1;33m,\u001b[0m \u001b[0malert_text\u001b[0m\u001b[1;33m)\u001b[0m\u001b[1;33m\u001b[0m\u001b[1;33m\u001b[0m\u001b[0m\n\u001b[1;32m--> 242\u001b[1;33m         \u001b[1;32mraise\u001b[0m \u001b[0mexception_class\u001b[0m\u001b[1;33m(\u001b[0m\u001b[0mmessage\u001b[0m\u001b[1;33m,\u001b[0m \u001b[0mscreen\u001b[0m\u001b[1;33m,\u001b[0m \u001b[0mstacktrace\u001b[0m\u001b[1;33m)\u001b[0m\u001b[1;33m\u001b[0m\u001b[1;33m\u001b[0m\u001b[0m\n\u001b[0m\u001b[0;32m    243\u001b[0m \u001b[1;33m\u001b[0m\u001b[0m\n\u001b[0;32m    244\u001b[0m     \u001b[1;32mdef\u001b[0m \u001b[0m_value_or_default\u001b[0m\u001b[1;33m(\u001b[0m\u001b[0mself\u001b[0m\u001b[1;33m,\u001b[0m \u001b[0mobj\u001b[0m\u001b[1;33m,\u001b[0m \u001b[0mkey\u001b[0m\u001b[1;33m,\u001b[0m \u001b[0mdefault\u001b[0m\u001b[1;33m)\u001b[0m\u001b[1;33m:\u001b[0m\u001b[1;33m\u001b[0m\u001b[1;33m\u001b[0m\u001b[0m\n",
      "\u001b[1;31mNoSuchElementException\u001b[0m: Message: no such element: Unable to locate element: {\"method\":\"xpath\",\"selector\":\"/html/body/f-shell/div/div[1]/div/f-shell-bar/div/div[2]/ul/li[2]/a\"}\n  (Session info: chrome=80.0.3987.132)\n"
     ]
    }
   ],
   "source": [
    "# Visit chrome://version/ and copy profile path in place of '<chrome user profile>'\n",
    "options = ChromeOptions().add_argument(\"--user-data-dir=<chrome user profile>\")\n",
    "\n",
    "browser = Chrome(chrome_options=options)\n",
    "browser.get(cred.url_to_user)\n",
    "\n",
    "time.sleep(2)\n",
    "\n",
    "tenant = browser.find_element_by_id('tenant-in')\n",
    "slow_typing(tenant, cred.tenant_to_be_filled )\n",
    "proceed_button = browser.find_element_by_xpath('/html/body/section/section/section/section[1]/div[1]/form/div[2]/button')\n",
    "proceed_button.click()\n",
    "\n",
    "time.sleep(2)\n",
    "\n",
    "\n",
    "uname = browser.find_element_by_xpath('//*[@id=\"username-in\"]')\n",
    "slow_typing(uname,cred.user_name_to_login )\n",
    "password = browser.find_element_by_xpath('//*[@id=\"password-in\"]')\n",
    "slow_typing(password, cred.pass_to_login)\n",
    "\n",
    "signin_buttton = browser.find_element_by_xpath('/html/body/section/section/section/section[1]/div[2]/div/div[1]/form/div[4]/button')\n",
    "signin_buttton.click()\n",
    "\n",
    "time.sleep(60) # Increase this value if logging in takes time\n",
    "\n",
    "navigate_to_users = browser.find_element_by_xpath('/html/body/f-shell/div/div[1]/div/f-shell-bar/div/div[2]/ul/li[2]/a')\n",
    "navigate_to_users.click()\n",
    "\n",
    "time.sleep(3)\n",
    "\n"
   ]
  },
  {
   "cell_type": "code",
   "execution_count": null,
   "metadata": {},
   "outputs": [],
   "source": [
    "# Create the users with the pattern : ta00 ,ta01 ,ta02.......\n",
    "user_names_to_be_created = [\"ta%.2d\" % i for i in range(cred.n_users_required)]\n"
   ]
  },
  {
   "cell_type": "code",
   "execution_count": null,
   "metadata": {},
   "outputs": [],
   "source": [
    "%%time\n",
    "# User creation process\n",
    "for i in range(cred.n_users_required):\n",
    "    create_button = browser.find_element_by_xpath('/html/body/f-shell/div/div[2]/div/div[2]/div/router-view/router-view/div/div/table-action-bar/div/div[2]/button[1]')\n",
    "    create_button.click()\n",
    "    new_user = browser.find_element_by_xpath('//*[@id=\"vsys-um-username\"]')\n",
    "    \n",
    "    slow_typing(new_user, user_names_to_be_created[i])\n",
    "    new_password = browser.find_element_by_xpath('//*[@id=\"vsys-um-password\"]')\n",
    "    slow_typing(new_password, 'Welcome@1')\n",
    "    confirm_password = browser.find_element_by_xpath('//*[@id=\"vsys-um-confirm-password\"]')\n",
    "    slow_typing(confirm_password, 'Welcome@1')\n",
    "\n",
    "    confirm_button = browser.find_element_by_xpath('/html/body/ux-dialog-container/div/div/div/div/div/div/div/div[3]/div/button[1]'\n",
    "    )\n",
    "    \n",
    "    print(\"User {} Created\".format(user_names_to_be_created[i]))\n",
    "    confirm_button.click()\n",
    "    time.sleep(5)\n",
    "    \n",
    "    user_search = browser.find_element_by_xpath('/html/body/f-shell/div/div[2]/div/div[2]/div/router-view/router-view/div/div/table-action-bar/div/div[2]/f-search/f-input-group/input')\n",
    "    \n",
    "    slow_typing(user_search,user_names_to_be_created[i] )\n",
    "    time.sleep(2)\n",
    "    \n",
    "    \n",
    "    created_user_xpath = '/html/body/f-shell/div/div[2]/div/div[2]/div/router-view/router-view/div/div/f-table/div[1]/table/tbody/tr[2]/td[1]/div'\n",
    "    click_on_user = browser.find_element_by_xpath(created_user_xpath)\n",
    "    click_on_user.click()\n",
    "    \n",
    "    time.sleep(2)\n",
    "    \n",
    "    for j in range(3):\n",
    "        create_roles_to_click_xpath = '/html/body/f-shell/div/div[2]/div/div[2]/div/router-view/router-view/fixed-layout/div/main/div/section/router-view/div/table-action-bar/div/div[2]/button[1]'\n",
    "        create_roles_button = browser.find_element_by_xpath(create_roles_to_click_xpath)\n",
    "        create_roles_button.click()\n",
    "        time.sleep(2)\n",
    "        \n",
    "        role_line = browser.find_element_by_xpath('/html/body/ux-dialog-container/div/div/div/div/div/div/div/div[2]/compose/div/div/f-table/div[1]/table/tbody/tr[2]/td[2]')\n",
    "        role_line.click()\n",
    "            \n",
    "        assign_xpath = '/html/body/ux-dialog-container/div/div/div/div/div/div/div/div[3]/div/button[1]'\n",
    "        assign_button = browser.find_element_by_xpath(assign_xpath)\n",
    "        assign_button.click()\n",
    "        time.sleep(2)\n",
    "        \n",
    "    print('Roles assigned for user {}'.format(user_names_to_be_created[i]))\n",
    "    back_button = browser.find_element_by_xpath('/html/body/f-shell/div/div[2]/div/div[2]/div/router-view/router-view/fixed-layout/div/main/header/div/f-breadcrumb/ul/li/a')\n",
    "    back_button.click()\n",
    "    time.sleep(2)\n",
    "\n"
   ]
  }
 ],
 "metadata": {
  "kernelspec": {
   "display_name": "Python 3",
   "language": "python",
   "name": "python3"
  },
  "language_info": {
   "codemirror_mode": {
    "name": "ipython",
    "version": 3
   },
   "file_extension": ".py",
   "mimetype": "text/x-python",
   "name": "python",
   "nbconvert_exporter": "python",
   "pygments_lexer": "ipython3",
   "version": "3.7.3"
  },
  "widgets": {
   "application/vnd.jupyter.widget-state+json": {
    "state": {},
    "version_major": 2,
    "version_minor": 0
   }
  }
 },
 "nbformat": 4,
 "nbformat_minor": 4
}
