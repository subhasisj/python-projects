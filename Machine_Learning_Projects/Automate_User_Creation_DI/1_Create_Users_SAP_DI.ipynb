{
 "cells": [
  {
   "cell_type": "markdown",
   "metadata": {},
   "source": [
    "## Script for Creating Users in SAP DI"
   ]
  },
  {
   "cell_type": "markdown",
   "metadata": {},
   "source": [
    "Please follow the below steps before carefully starting :\n",
    "1. Open the __credentials.py__ file\n",
    "2. Replace the value of __url_to_user__ with the URL to users tab inside system management:\n",
    "    - Launchpad > System Management > Users tab\n",
    "3. Replace the value of the variables as below:\n",
    "    1. __tenant_to_be_filled__ : SAP DI Tenant (Ex - Default)\n",
    "    2. __user_name_to_login__ :  SAP DI User Name\n",
    "    3. __pass_to_login__ : Account Password \n",
    "4. Provide the value of __n_users_required__ : The number of users to be processed\n",
    "\n",
    "Once you are done with the above steps : You can click on Kernel > Restart Kernel and Run All Cells to execute the entire notebook.\n",
    "\n",
    "_FYI : The code contains sleep statements ( EX - time.sleep(5) ) at several places, if at all you are facing issues regarding element not found during execution it is probably because of your network speed. You can adjust the number here in case your network is slow._"
   ]
  },
  {
   "cell_type": "code",
   "execution_count": 1,
   "metadata": {},
   "outputs": [],
   "source": [
    "from selenium.webdriver import Chrome, ChromeOptions\n",
    "import time\n",
    "import credentials as cred"
   ]
  },
  {
   "cell_type": "code",
   "execution_count": 2,
   "metadata": {},
   "outputs": [],
   "source": [
    "def slow_typing(element, text):\n",
    "   for character in text:\n",
    "      element.send_keys(character)\n",
    "      time.sleep(0.01)"
   ]
  },
  {
   "cell_type": "code",
   "execution_count": 3,
   "metadata": {},
   "outputs": [],
   "source": [
    "# Visit chrome://version/ and copy profile path in place of '<chrome user profile>'\n",
    "options = ChromeOptions().add_argument(\"--user-data-dir=<chrome user profile>\")\n",
    "\n",
    "browser = Chrome(chrome_options=options)\n",
    "browser.get(cred.url_to_user)\n",
    "\n",
    "time.sleep(2)\n",
    "\n",
    "tenant = browser.find_element_by_id('tenant-in')\n",
    "slow_typing(tenant, cred.tenant_to_be_filled )\n",
    "proceed_button = browser.find_element_by_xpath('/html/body/section/section/section/section[1]/div[1]/form/div[2]/button')\n",
    "proceed_button.click()\n",
    "\n",
    "time.sleep(2)\n",
    "\n",
    "\n",
    "uname = browser.find_element_by_xpath('//*[@id=\"username-in\"]')\n",
    "slow_typing(uname,cred.user_name_to_login )\n",
    "password = browser.find_element_by_xpath('//*[@id=\"password-in\"]')\n",
    "slow_typing(password, cred.pass_to_login)\n",
    "\n",
    "signin_buttton = browser.find_element_by_xpath('/html/body/section/section/section/section[1]/div[2]/div/div[1]/form/div[4]/button')\n",
    "signin_buttton.click()\n",
    "\n",
    "time.sleep(60) # Increase this value if logging in takes time\n",
    "\n",
    "navigate_to_users = browser.find_element_by_xpath('/html/body/f-shell/div/div[1]/div/f-shell-bar/div/div[2]/ul/li[2]/a')\n",
    "navigate_to_users.click()\n",
    "\n",
    "time.sleep(3)\n",
    "\n"
   ]
  },
  {
   "cell_type": "code",
   "execution_count": 4,
   "metadata": {},
   "outputs": [],
   "source": [
    "# Create the users with the pattern : ta00 ,ta01 ,ta02.......\n",
    "user_names_to_be_created = [\"ta%.2d\" % i for i in range(cred.n_users_required)]\n"
   ]
  },
  {
   "cell_type": "code",
   "execution_count": 5,
   "metadata": {},
   "outputs": [
    {
     "name": "stdout",
     "output_type": "stream",
     "text": [
      "User ta00 Created\n",
      "Roles assigned for user ta00\n",
      "User ta01 Created\n",
      "Roles assigned for user ta01\n",
      "User ta02 Created\n",
      "Roles assigned for user ta02\n",
      "User ta03 Created\n",
      "Roles assigned for user ta03\n",
      "User ta04 Created\n",
      "Roles assigned for user ta04\n",
      "Wall time: 2min 4s\n"
     ]
    }
   ],
   "source": [
    "%%time\n",
    "# User creation process\n",
    "for i in range(cred.n_users_required):\n",
    "    create_button = browser.find_element_by_xpath('/html/body/f-shell/div/div[2]/div/div[2]/div/router-view/router-view/div/div/table-action-bar/div/div[2]/button[1]')\n",
    "    create_button.click()\n",
    "    new_user = browser.find_element_by_xpath('//*[@id=\"vsys-um-username\"]')\n",
    "    \n",
    "    slow_typing(new_user, user_names_to_be_created[i])\n",
    "    new_password = browser.find_element_by_xpath('//*[@id=\"vsys-um-password\"]')\n",
    "    slow_typing(new_password, 'Welcome@1')\n",
    "    confirm_password = browser.find_element_by_xpath('//*[@id=\"vsys-um-confirm-password\"]')\n",
    "    slow_typing(confirm_password, 'Welcome@1')\n",
    "\n",
    "    confirm_button = browser.find_element_by_xpath('/html/body/ux-dialog-container/div/div/div/div/div/div/div/div[3]/div/button[1]'\n",
    "    )\n",
    "    \n",
    "    print(\"User {} Created\".format(user_names_to_be_created[i]))\n",
    "    confirm_button.click()\n",
    "    time.sleep(5)\n",
    "    \n",
    "    user_search = browser.find_element_by_xpath('/html/body/f-shell/div/div[2]/div/div[2]/div/router-view/router-view/div/div/table-action-bar/div/div[2]/f-search/f-input-group/input')\n",
    "    \n",
    "    slow_typing(user_search,user_names_to_be_created[i] )\n",
    "    time.sleep(2)\n",
    "    \n",
    "    \n",
    "    created_user_xpath = '/html/body/f-shell/div/div[2]/div/div[2]/div/router-view/router-view/div/div/f-table/div[1]/table/tbody/tr[2]/td[1]/div'\n",
    "    click_on_user = browser.find_element_by_xpath(created_user_xpath)\n",
    "    click_on_user.click()\n",
    "    \n",
    "    time.sleep(2)\n",
    "    \n",
    "    for j in range(3):\n",
    "        create_roles_to_click_xpath = '/html/body/f-shell/div/div[2]/div/div[2]/div/router-view/router-view/fixed-layout/div/main/div/section/router-view/div/table-action-bar/div/div[2]/button[1]'\n",
    "        create_roles_button = browser.find_element_by_xpath(create_roles_to_click_xpath)\n",
    "        create_roles_button.click()\n",
    "        time.sleep(2)\n",
    "        \n",
    "        role_line = browser.find_element_by_xpath('/html/body/ux-dialog-container/div/div/div/div/div/div/div/div[2]/compose/div/div/f-table/div[1]/table/tbody/tr[2]/td[2]')\n",
    "        role_line.click()\n",
    "            \n",
    "        assign_xpath = '/html/body/ux-dialog-container/div/div/div/div/div/div/div/div[3]/div/button[1]'\n",
    "        assign_button = browser.find_element_by_xpath(assign_xpath)\n",
    "        assign_button.click()\n",
    "        time.sleep(2)\n",
    "        \n",
    "    print('Roles assigned for user {}'.format(user_names_to_be_created[i]))\n",
    "    back_button = browser.find_element_by_xpath('/html/body/f-shell/div/div[2]/div/div[2]/div/router-view/router-view/fixed-layout/div/main/header/div/f-breadcrumb/ul/li/a')\n",
    "    back_button.click()\n",
    "    time.sleep(2)\n",
    "\n"
   ]
  }
 ],
 "metadata": {
  "kernelspec": {
   "display_name": "Python 3",
   "language": "python",
   "name": "python3"
  },
  "language_info": {
   "codemirror_mode": {
    "name": "ipython",
    "version": 3
   },
   "file_extension": ".py",
   "mimetype": "text/x-python",
   "name": "python",
   "nbconvert_exporter": "python",
   "pygments_lexer": "ipython3",
   "version": "3.7.3"
  },
  "widgets": {
   "application/vnd.jupyter.widget-state+json": {
    "state": {},
    "version_major": 2,
    "version_minor": 0
   }
  }
 },
 "nbformat": 4,
 "nbformat_minor": 4
}
