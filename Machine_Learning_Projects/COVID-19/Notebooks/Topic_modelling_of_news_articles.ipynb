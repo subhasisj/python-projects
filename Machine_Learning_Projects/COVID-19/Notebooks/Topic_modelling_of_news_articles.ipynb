{
 "cells": [
  {
   "cell_type": "code",
   "execution_count": 52,
   "metadata": {},
   "outputs": [],
   "source": [
    "import pandas as pd\n",
    "import spacy\n",
    "import gensim\n",
    "import gensim.corpora as corpora\n",
    "from gensim.models.ldamodel import LdaModel\n",
    "from gensim.models import TfidfModel\n",
    "from bs4 import BeautifulSoup\n",
    "from nltk.stem.porter import PorterStemmer\n",
    "from nltk.corpus import stopwords\n",
    "from nltk import sent_tokenize, word_tokenize\n",
    "\n",
    "import string\n",
    "from textblob import TextBlob\n",
    "from vaderSentiment.vaderSentiment import SentimentIntensityAnalyzer\n",
    "\n",
    "import pyLDAvis\n",
    "import pyLDAvis.gensim \n",
    "import matplotlib.pyplot as plt\n",
    "%matplotlib inline\n",
    "import warnings\n",
    "warnings.filterwarnings('ignore')"
   ]
  },
  {
   "cell_type": "code",
   "execution_count": 2,
   "metadata": {},
   "outputs": [
    {
     "data": {
      "text/html": [
       "<div>\n",
       "<style scoped>\n",
       "    .dataframe tbody tr th:only-of-type {\n",
       "        vertical-align: middle;\n",
       "    }\n",
       "\n",
       "    .dataframe tbody tr th {\n",
       "        vertical-align: top;\n",
       "    }\n",
       "\n",
       "    .dataframe thead th {\n",
       "        text-align: right;\n",
       "    }\n",
       "</style>\n",
       "<table border=\"1\" class=\"dataframe\">\n",
       "  <thead>\n",
       "    <tr style=\"text-align: right;\">\n",
       "      <th></th>\n",
       "      <th>datetime</th>\n",
       "      <th>text</th>\n",
       "    </tr>\n",
       "  </thead>\n",
       "  <tbody>\n",
       "    <tr>\n",
       "      <th>0</th>\n",
       "      <td>17:58 (IST), Mar 19</td>\n",
       "      <td>Those asked to undergo quarantine should follo...</td>\n",
       "    </tr>\n",
       "    <tr>\n",
       "      <th>1</th>\n",
       "      <td>17:57 (IST), Mar 19</td>\n",
       "      <td>We have succeeded in keeping coronavirus at co...</td>\n",
       "    </tr>\n",
       "    <tr>\n",
       "      <th>2</th>\n",
       "      <td>17:55 (IST), Mar 19</td>\n",
       "      <td>201 Indians evacuated from Iran yesterday: Avi...</td>\n",
       "    </tr>\n",
       "    <tr>\n",
       "      <th>3</th>\n",
       "      <td>17:55 (IST), Mar 19</td>\n",
       "      <td>Vistara to temporarily suspend international o...</td>\n",
       "    </tr>\n",
       "    <tr>\n",
       "      <th>4</th>\n",
       "      <td>17:52 (IST), Mar 19</td>\n",
       "      <td>Lav Agarwal, Joint Secretary, Health Ministry:...</td>\n",
       "    </tr>\n",
       "  </tbody>\n",
       "</table>\n",
       "</div>"
      ],
      "text/plain": [
       "              datetime                                               text\n",
       "0  17:58 (IST), Mar 19  Those asked to undergo quarantine should follo...\n",
       "1  17:57 (IST), Mar 19  We have succeeded in keeping coronavirus at co...\n",
       "2  17:55 (IST), Mar 19  201 Indians evacuated from Iran yesterday: Avi...\n",
       "3  17:55 (IST), Mar 19  Vistara to temporarily suspend international o...\n",
       "4  17:52 (IST), Mar 19  Lav Agarwal, Joint Secretary, Health Ministry:..."
      ]
     },
     "execution_count": 2,
     "metadata": {},
     "output_type": "execute_result"
    }
   ],
   "source": [
    "news = pd.read_csv('../Data/corona_news_scraped_on_19th_march.csv')\n",
    "news.head()"
   ]
  },
  {
   "cell_type": "code",
   "execution_count": 3,
   "metadata": {},
   "outputs": [
    {
     "name": "stdout",
     "output_type": "stream",
     "text": [
      "<class 'pandas.core.frame.DataFrame'>\n",
      "RangeIndex: 285 entries, 0 to 284\n",
      "Data columns (total 2 columns):\n",
      "datetime    285 non-null object\n",
      "text        285 non-null object\n",
      "dtypes: object(2)\n",
      "memory usage: 4.5+ KB\n"
     ]
    }
   ],
   "source": [
    "news.info()"
   ]
  },
  {
   "cell_type": "code",
   "execution_count": 4,
   "metadata": {},
   "outputs": [],
   "source": [
    "nlp = spacy.load('en_core_web_sm')"
   ]
  },
  {
   "cell_type": "markdown",
   "metadata": {},
   "source": [
    "### Cleaning up for NLP tasks"
   ]
  },
  {
   "cell_type": "code",
   "execution_count": 5,
   "metadata": {},
   "outputs": [],
   "source": [
    "# Remove HTML Tags\n",
    "def remove_html(text):\n",
    "    soup = BeautifulSoup(text,'lxml')\n",
    "    html_free_text = soup.get_text()\n",
    "    return html_free_text\n",
    "\n",
    "# Remove Punctuations\n",
    "def punctuation_remover(text):\n",
    "    punctuation_free_text = \" \".join([word for word in text if word \\\n",
    "                                    not in string.punctuation])\n",
    "    return punctuation_free_text\n",
    "\n",
    "\n",
    "# Stop Word Removal\n",
    "cached_stop_words = stopwords.words('english') # Provides 70 X Speedup\n",
    "def stop_words_remover(text):\n",
    "    text = text.lower().split()\n",
    "    words = [word for word in text if \\\n",
    "             word not in cached_stop_words]\n",
    "    return words\n",
    "\n",
    "# Lemmatization\n",
    "def lemmatize_words(text):\n",
    "    words = nlp(str(text))\n",
    "    return [word.lemma_ for word in words if word.lemma_ != '-PRON-']    \n",
    "        "
   ]
  },
  {
   "cell_type": "code",
   "execution_count": 6,
   "metadata": {},
   "outputs": [],
   "source": [
    "news['cleaned_text'] = news.text.apply(remove_html)\n",
    "news['cleaned_text'] = news.cleaned_text.apply(stop_words_remover)\n",
    "news['cleaned_text'] = news.cleaned_text.apply(lemmatize_words)\n",
    "news['cleaned_text'] = news.cleaned_text.apply(punctuation_remover)\n",
    "news['cleaned_text'] = news.cleaned_text.apply(word_tokenize)"
   ]
  },
  {
   "cell_type": "code",
   "execution_count": 7,
   "metadata": {},
   "outputs": [
    {
     "data": {
      "text/html": [
       "<div>\n",
       "<style scoped>\n",
       "    .dataframe tbody tr th:only-of-type {\n",
       "        vertical-align: middle;\n",
       "    }\n",
       "\n",
       "    .dataframe tbody tr th {\n",
       "        vertical-align: top;\n",
       "    }\n",
       "\n",
       "    .dataframe thead th {\n",
       "        text-align: right;\n",
       "    }\n",
       "</style>\n",
       "<table border=\"1\" class=\"dataframe\">\n",
       "  <thead>\n",
       "    <tr style=\"text-align: right;\">\n",
       "      <th></th>\n",
       "      <th>datetime</th>\n",
       "      <th>text</th>\n",
       "      <th>cleaned_text</th>\n",
       "    </tr>\n",
       "  </thead>\n",
       "  <tbody>\n",
       "    <tr>\n",
       "      <th>0</th>\n",
       "      <td>17:58 (IST), Mar 19</td>\n",
       "      <td>Those asked to undergo quarantine should follo...</td>\n",
       "      <td>[ask, undergo, quarantine, follow, rule, else,...</td>\n",
       "    </tr>\n",
       "    <tr>\n",
       "      <th>1</th>\n",
       "      <td>17:57 (IST), Mar 19</td>\n",
       "      <td>We have succeeded in keeping coronavirus at co...</td>\n",
       "      <td>[succeed, keep, coronavirus, containment, leve...</td>\n",
       "    </tr>\n",
       "    <tr>\n",
       "      <th>2</th>\n",
       "      <td>17:55 (IST), Mar 19</td>\n",
       "      <td>201 Indians evacuated from Iran yesterday: Avi...</td>\n",
       "      <td>[201, indian, evacuate, iran, yesterday, aviat...</td>\n",
       "    </tr>\n",
       "    <tr>\n",
       "      <th>3</th>\n",
       "      <td>17:55 (IST), Mar 19</td>\n",
       "      <td>Vistara to temporarily suspend international o...</td>\n",
       "      <td>[vistara, temporarily, suspend, international,...</td>\n",
       "    </tr>\n",
       "    <tr>\n",
       "      <th>4</th>\n",
       "      <td>17:52 (IST), Mar 19</td>\n",
       "      <td>Lav Agarwal, Joint Secretary, Health Ministry:...</td>\n",
       "      <td>[lav, agarwal, joint, secretary, health, minis...</td>\n",
       "    </tr>\n",
       "  </tbody>\n",
       "</table>\n",
       "</div>"
      ],
      "text/plain": [
       "              datetime                                               text  \\\n",
       "0  17:58 (IST), Mar 19  Those asked to undergo quarantine should follo...   \n",
       "1  17:57 (IST), Mar 19  We have succeeded in keeping coronavirus at co...   \n",
       "2  17:55 (IST), Mar 19  201 Indians evacuated from Iran yesterday: Avi...   \n",
       "3  17:55 (IST), Mar 19  Vistara to temporarily suspend international o...   \n",
       "4  17:52 (IST), Mar 19  Lav Agarwal, Joint Secretary, Health Ministry:...   \n",
       "\n",
       "                                        cleaned_text  \n",
       "0  [ask, undergo, quarantine, follow, rule, else,...  \n",
       "1  [succeed, keep, coronavirus, containment, leve...  \n",
       "2  [201, indian, evacuate, iran, yesterday, aviat...  \n",
       "3  [vistara, temporarily, suspend, international,...  \n",
       "4  [lav, agarwal, joint, secretary, health, minis...  "
      ]
     },
     "execution_count": 7,
     "metadata": {},
     "output_type": "execute_result"
    }
   ],
   "source": [
    "news.head()"
   ]
  },
  {
   "cell_type": "markdown",
   "metadata": {},
   "source": [
    "### Topic Modelling"
   ]
  },
  {
   "cell_type": "markdown",
   "metadata": {},
   "source": [
    "#### Unigram"
   ]
  },
  {
   "cell_type": "code",
   "execution_count": 8,
   "metadata": {},
   "outputs": [],
   "source": [
    "# Create Corpora\n",
    "dictionary = corpora.Dictionary(news.cleaned_text)\n",
    "\n",
    "# Create document term Matrix (Bag of words)\n",
    "document_bow = [dictionary.doc2bow(doc) for doc in news.cleaned_text ]"
   ]
  },
  {
   "cell_type": "code",
   "execution_count": 9,
   "metadata": {},
   "outputs": [],
   "source": [
    "lda_model = LdaModel(corpus=document_bow ,num_topics=10, id2word=dictionary,passes = 100)"
   ]
  },
  {
   "cell_type": "code",
   "execution_count": 10,
   "metadata": {},
   "outputs": [
    {
     "name": "stdout",
     "output_type": "stream",
     "text": [
      "Topic: 0 Words :0.014*\"coronavirus\" + 0.012*\"say\" + 0.010*\"minister\" + 0.010*\"pm\" + 0.010*\"take\" + 0.009*\"cut\" + 0.007*\"modi\" + 0.007*\"cm\" + 0.007*\"delhi\" + 0.007*\"home\"\n",
      "Topic: 1 Words :0.031*\"case\" + 0.030*\"coronavirus\" + 0.022*\"report\" + 0.018*\"say\" + 0.015*\"first\" + 0.014*\"positive\" + 0.013*\"new\" + 0.012*\"test\" + 0.012*\"#\" + 0.010*\"train\"\n",
      "Topic: 2 Words :0.021*\"march\" + 0.018*\"mumbai\" + 0.016*\"till\" + 0.013*\"suspend\" + 0.012*\"service\" + 0.010*\"board\" + 0.009*\"31\" + 0.009*\"'s\" + 0.008*\"today\" + 0.008*\"school\"\n",
      "Topic: 3 Words :0.024*\"coronavirus\" + 0.014*\"say\" + 0.011*\"#\" + 0.011*\"state\" + 0.010*\"uddhav\" + 0.009*\"work\" + 0.008*\"covid-19\" + 0.008*\"cm\" + 0.008*\"fight\" + 0.008*\"pandemic\"\n",
      "Topic: 4 Words :0.014*\"quarantine\" + 0.014*\"coronavirus\" + 0.010*\"day\" + 0.009*\"passenger\" + 0.009*\"people\" + 0.008*\"suspect\" + 0.007*\"travel\" + 0.007*\"tuesday\" + 0.007*\"uddhav\" + 0.006*\"thackeray\"\n",
      "Topic: 5 Words :0.022*\"coronavirus\" + 0.010*\"say\" + 0.008*\"covid-19\" + 0.008*\"country\" + 0.007*\"wednesday\" + 0.006*\"lockdown\" + 0.006*\"#\" + 0.006*\"government\" + 0.006*\"call\" + 0.006*\"emergency\"\n",
      "Topic: 6 Words :0.017*\"suspend\" + 0.012*\"covid-19\" + 0.010*\"say\" + 0.010*\"international\" + 0.009*\"flight\" + 0.008*\"public\" + 0.008*\"april\" + 0.008*\"march\" + 0.008*\"coronavirus\" + 0.007*\"government\"\n",
      "Topic: 7 Words :0.030*\"coronavirus\" + 0.012*\"student\" + 0.011*\"postpone\" + 0.011*\"indian\" + 0.011*\"#\" + 0.011*\"say\" + 0.011*\"march\" + 0.010*\"exam\" + 0.009*\"university\" + 0.009*\"till\"\n",
      "Topic: 8 Words :0.016*\"covid-19\" + 0.016*\"coronavirus\" + 0.010*\"new\" + 0.009*\"symptom\" + 0.009*\"travel\" + 0.008*\"number\" + 0.008*\"health\" + 0.008*\"say\" + 0.007*\"infection\" + 0.007*\"medical\"\n",
      "Topic: 9 Words :0.021*\"march\" + 0.018*\"coronavirus\" + 0.011*\"office\" + 0.011*\"work\" + 0.009*\"till\" + 0.008*\"home\" + 0.008*\"india\" + 0.008*\"covid-19\" + 0.008*\"italy\" + 0.007*\"'s\"\n"
     ]
    }
   ],
   "source": [
    "for i, topic in lda_model.print_topics(-1):\n",
    "    print('Topic: {} Words :{}'.format(i,topic))"
   ]
  },
  {
   "cell_type": "code",
   "execution_count": 11,
   "metadata": {},
   "outputs": [
    {
     "data": {
      "text/html": [
       "\n",
       "<link rel=\"stylesheet\" type=\"text/css\" href=\"https://cdn.rawgit.com/bmabey/pyLDAvis/files/ldavis.v1.0.0.css\">\n",
       "\n",
       "\n",
       "<div id=\"ldavis_el3136817878623143443839035986\"></div>\n",
       "<script type=\"text/javascript\">\n",
       "\n",
       "var ldavis_el3136817878623143443839035986_data = {\"mdsDat\": {\"x\": [-0.1026646953745345, 0.19529224294976968, -0.05533962838827037, -0.012867151512578084, -0.048971125973176856, -0.01688383627097019, -0.08429144169849938, 0.0383730843420498, 0.05385864556147416, 0.03349390636473597], \"y\": [-0.07023895816366979, 0.03022012008502439, 0.09859928724133461, -0.09889754426408601, -0.02909666391845817, -0.08049292264762622, 0.13285315113182672, 0.019288133815298283, -0.05793050955374881, 0.055695906274104666], \"topics\": [1, 2, 3, 4, 5, 6, 7, 8, 9, 10], \"cluster\": [1, 1, 1, 1, 1, 1, 1, 1, 1, 1], \"Freq\": [7.742260932922363, 24.652099609375, 3.0394506454467773, 12.743748664855957, 5.7149977684021, 11.275150299072266, 6.6472954750061035, 9.99795150756836, 9.367566108703613, 8.819486618041992]}, \"tinfo\": {\"Category\": [\"Default\", \"Default\", \"Default\", \"Default\", \"Default\", \"Default\", \"Default\", \"Default\", \"Default\", \"Default\", \"Default\", \"Default\", \"Default\", \"Default\", \"Default\", \"Default\", \"Default\", \"Default\", \"Default\", \"Default\", \"Default\", \"Default\", \"Default\", \"Default\", \"Default\", \"Default\", \"Default\", \"Default\", \"Default\", \"Default\", \"Topic1\", \"Topic1\", \"Topic1\", \"Topic1\", \"Topic1\", \"Topic1\", \"Topic1\", \"Topic1\", \"Topic1\", \"Topic1\", \"Topic1\", \"Topic1\", \"Topic1\", \"Topic1\", \"Topic1\", \"Topic1\", \"Topic1\", \"Topic1\", \"Topic1\", \"Topic1\", \"Topic1\", \"Topic1\", \"Topic1\", \"Topic1\", \"Topic1\", \"Topic1\", \"Topic1\", \"Topic1\", \"Topic1\", \"Topic1\", \"Topic1\", \"Topic1\", \"Topic1\", \"Topic1\", \"Topic1\", \"Topic1\", \"Topic1\", \"Topic1\", \"Topic1\", \"Topic1\", \"Topic1\", \"Topic1\", \"Topic1\", \"Topic1\", \"Topic1\", \"Topic1\", \"Topic1\", \"Topic1\", \"Topic1\", \"Topic1\", \"Topic1\", \"Topic1\", \"Topic1\", \"Topic1\", \"Topic1\", \"Topic1\", \"Topic1\", \"Topic1\", \"Topic1\", \"Topic1\", \"Topic1\", \"Topic1\", \"Topic1\", \"Topic2\", \"Topic2\", \"Topic2\", \"Topic2\", \"Topic2\", \"Topic2\", \"Topic2\", \"Topic2\", \"Topic2\", \"Topic2\", \"Topic2\", \"Topic2\", \"Topic2\", \"Topic2\", \"Topic2\", \"Topic2\", \"Topic2\", \"Topic2\", \"Topic2\", \"Topic2\", \"Topic2\", \"Topic2\", \"Topic2\", \"Topic2\", \"Topic2\", \"Topic2\", \"Topic2\", \"Topic2\", \"Topic2\", \"Topic2\", \"Topic2\", \"Topic2\", \"Topic2\", \"Topic2\", \"Topic2\", \"Topic2\", \"Topic2\", \"Topic2\", \"Topic2\", \"Topic2\", \"Topic2\", \"Topic2\", \"Topic2\", \"Topic2\", \"Topic2\", \"Topic2\", \"Topic2\", \"Topic2\", \"Topic2\", \"Topic2\", \"Topic2\", \"Topic2\", \"Topic2\", \"Topic2\", \"Topic2\", \"Topic2\", \"Topic2\", \"Topic2\", \"Topic2\", \"Topic2\", \"Topic2\", \"Topic2\", \"Topic2\", \"Topic2\", \"Topic3\", \"Topic3\", \"Topic3\", \"Topic3\", \"Topic3\", \"Topic3\", \"Topic3\", \"Topic3\", \"Topic3\", \"Topic3\", \"Topic3\", \"Topic3\", \"Topic3\", \"Topic3\", \"Topic3\", \"Topic3\", \"Topic3\", \"Topic3\", \"Topic3\", \"Topic3\", \"Topic3\", \"Topic3\", \"Topic3\", \"Topic3\", \"Topic3\", \"Topic3\", \"Topic3\", \"Topic3\", \"Topic3\", \"Topic3\", \"Topic3\", \"Topic3\", \"Topic3\", \"Topic3\", \"Topic3\", \"Topic3\", \"Topic3\", \"Topic3\", \"Topic3\", \"Topic3\", \"Topic3\", \"Topic3\", \"Topic3\", \"Topic3\", \"Topic3\", \"Topic3\", \"Topic3\", \"Topic3\", \"Topic3\", \"Topic3\", \"Topic3\", \"Topic3\", \"Topic3\", \"Topic3\", \"Topic3\", \"Topic3\", \"Topic4\", \"Topic4\", \"Topic4\", \"Topic4\", \"Topic4\", \"Topic4\", \"Topic4\", \"Topic4\", \"Topic4\", \"Topic4\", \"Topic4\", \"Topic4\", \"Topic4\", \"Topic4\", \"Topic4\", \"Topic4\", \"Topic4\", \"Topic4\", \"Topic4\", \"Topic4\", \"Topic4\", \"Topic4\", \"Topic4\", \"Topic4\", \"Topic4\", \"Topic4\", \"Topic4\", \"Topic4\", \"Topic4\", \"Topic4\", \"Topic4\", \"Topic4\", \"Topic4\", \"Topic4\", \"Topic4\", \"Topic4\", \"Topic4\", \"Topic4\", \"Topic4\", \"Topic4\", \"Topic4\", \"Topic4\", \"Topic4\", \"Topic4\", \"Topic4\", \"Topic4\", \"Topic4\", \"Topic4\", \"Topic4\", \"Topic4\", \"Topic4\", \"Topic4\", \"Topic4\", \"Topic4\", \"Topic4\", \"Topic4\", \"Topic4\", \"Topic4\", \"Topic4\", \"Topic4\", \"Topic4\", \"Topic4\", \"Topic4\", \"Topic4\", \"Topic4\", \"Topic4\", \"Topic4\", \"Topic4\", \"Topic4\", \"Topic4\", \"Topic4\", \"Topic4\", \"Topic4\", \"Topic4\", \"Topic5\", \"Topic5\", \"Topic5\", \"Topic5\", \"Topic5\", \"Topic5\", \"Topic5\", \"Topic5\", \"Topic5\", \"Topic5\", \"Topic5\", \"Topic5\", \"Topic5\", \"Topic5\", \"Topic5\", \"Topic5\", \"Topic5\", \"Topic5\", \"Topic5\", \"Topic5\", \"Topic5\", \"Topic5\", \"Topic5\", \"Topic5\", \"Topic5\", \"Topic5\", \"Topic5\", \"Topic5\", \"Topic5\", \"Topic5\", \"Topic5\", \"Topic5\", \"Topic5\", \"Topic5\", \"Topic5\", \"Topic5\", \"Topic5\", \"Topic5\", \"Topic5\", \"Topic5\", \"Topic5\", \"Topic5\", \"Topic5\", \"Topic5\", \"Topic5\", \"Topic5\", \"Topic5\", \"Topic5\", \"Topic5\", \"Topic5\", \"Topic5\", \"Topic5\", \"Topic5\", \"Topic5\", \"Topic5\", \"Topic5\", \"Topic5\", \"Topic5\", \"Topic5\", \"Topic5\", \"Topic5\", \"Topic6\", \"Topic6\", \"Topic6\", \"Topic6\", \"Topic6\", \"Topic6\", \"Topic6\", \"Topic6\", \"Topic6\", \"Topic6\", \"Topic6\", \"Topic6\", \"Topic6\", \"Topic6\", \"Topic6\", \"Topic6\", \"Topic6\", \"Topic6\", \"Topic6\", \"Topic6\", \"Topic6\", \"Topic6\", \"Topic6\", \"Topic6\", \"Topic6\", \"Topic6\", \"Topic6\", \"Topic6\", \"Topic6\", \"Topic6\", \"Topic6\", \"Topic6\", \"Topic6\", \"Topic6\", \"Topic6\", \"Topic6\", \"Topic6\", \"Topic6\", \"Topic6\", \"Topic6\", \"Topic6\", \"Topic6\", \"Topic6\", \"Topic6\", \"Topic6\", \"Topic6\", \"Topic6\", \"Topic6\", \"Topic6\", \"Topic6\", \"Topic6\", \"Topic6\", \"Topic6\", \"Topic6\", \"Topic6\", \"Topic6\", \"Topic6\", \"Topic6\", \"Topic6\", \"Topic6\", \"Topic6\", \"Topic6\", \"Topic6\", \"Topic6\", \"Topic6\", \"Topic6\", \"Topic6\", \"Topic6\", \"Topic7\", \"Topic7\", \"Topic7\", \"Topic7\", \"Topic7\", \"Topic7\", \"Topic7\", \"Topic7\", \"Topic7\", \"Topic7\", \"Topic7\", \"Topic7\", \"Topic7\", \"Topic7\", \"Topic7\", \"Topic7\", \"Topic7\", \"Topic7\", \"Topic7\", \"Topic7\", \"Topic7\", \"Topic7\", \"Topic7\", \"Topic7\", \"Topic7\", \"Topic7\", \"Topic7\", \"Topic7\", \"Topic7\", \"Topic7\", \"Topic7\", \"Topic7\", \"Topic7\", \"Topic7\", \"Topic7\", \"Topic7\", \"Topic7\", \"Topic7\", \"Topic7\", \"Topic7\", \"Topic7\", \"Topic7\", \"Topic7\", \"Topic7\", \"Topic7\", \"Topic7\", \"Topic7\", \"Topic7\", \"Topic7\", \"Topic7\", \"Topic7\", \"Topic7\", \"Topic7\", \"Topic7\", \"Topic7\", \"Topic7\", \"Topic7\", \"Topic7\", \"Topic7\", \"Topic7\", \"Topic7\", \"Topic7\", \"Topic8\", \"Topic8\", \"Topic8\", \"Topic8\", \"Topic8\", \"Topic8\", \"Topic8\", \"Topic8\", \"Topic8\", \"Topic8\", \"Topic8\", \"Topic8\", \"Topic8\", \"Topic8\", \"Topic8\", \"Topic8\", \"Topic8\", \"Topic8\", \"Topic8\", \"Topic8\", \"Topic8\", \"Topic8\", \"Topic8\", \"Topic8\", \"Topic8\", \"Topic8\", \"Topic8\", \"Topic8\", \"Topic8\", \"Topic8\", \"Topic8\", \"Topic8\", \"Topic8\", \"Topic8\", \"Topic8\", \"Topic8\", \"Topic8\", \"Topic8\", \"Topic8\", \"Topic8\", \"Topic8\", \"Topic8\", \"Topic8\", \"Topic8\", \"Topic8\", \"Topic8\", \"Topic8\", \"Topic8\", \"Topic8\", \"Topic8\", \"Topic8\", \"Topic8\", \"Topic8\", \"Topic8\", \"Topic8\", \"Topic8\", \"Topic8\", \"Topic8\", \"Topic8\", \"Topic8\", \"Topic8\", \"Topic8\", \"Topic8\", \"Topic8\", \"Topic8\", \"Topic9\", \"Topic9\", \"Topic9\", \"Topic9\", \"Topic9\", \"Topic9\", \"Topic9\", \"Topic9\", \"Topic9\", \"Topic9\", \"Topic9\", \"Topic9\", \"Topic9\", \"Topic9\", \"Topic9\", \"Topic9\", \"Topic9\", \"Topic9\", \"Topic9\", \"Topic9\", \"Topic9\", \"Topic9\", \"Topic9\", \"Topic9\", \"Topic9\", \"Topic9\", \"Topic9\", \"Topic9\", \"Topic9\", \"Topic9\", \"Topic9\", \"Topic9\", \"Topic9\", \"Topic9\", \"Topic9\", \"Topic9\", \"Topic9\", \"Topic9\", \"Topic9\", \"Topic9\", \"Topic9\", \"Topic9\", \"Topic9\", \"Topic9\", \"Topic9\", \"Topic9\", \"Topic9\", \"Topic9\", \"Topic9\", \"Topic9\", \"Topic9\", \"Topic9\", \"Topic9\", \"Topic9\", \"Topic9\", \"Topic9\", \"Topic9\", \"Topic9\", \"Topic9\", \"Topic9\", \"Topic9\", \"Topic9\", \"Topic9\", \"Topic9\", \"Topic9\", \"Topic9\", \"Topic9\", \"Topic10\", \"Topic10\", \"Topic10\", \"Topic10\", \"Topic10\", \"Topic10\", \"Topic10\", \"Topic10\", \"Topic10\", \"Topic10\", \"Topic10\", \"Topic10\", \"Topic10\", \"Topic10\", \"Topic10\", \"Topic10\", \"Topic10\", \"Topic10\", \"Topic10\", \"Topic10\", \"Topic10\", \"Topic10\", \"Topic10\", \"Topic10\", \"Topic10\", \"Topic10\", \"Topic10\", \"Topic10\", \"Topic10\", \"Topic10\", \"Topic10\", \"Topic10\", \"Topic10\", \"Topic10\", \"Topic10\", \"Topic10\", \"Topic10\", \"Topic10\", \"Topic10\", \"Topic10\", \"Topic10\", \"Topic10\", \"Topic10\", \"Topic10\", \"Topic10\", \"Topic10\", \"Topic10\", \"Topic10\", \"Topic10\", \"Topic10\", \"Topic10\", \"Topic10\", \"Topic10\", \"Topic10\", \"Topic10\", \"Topic10\", \"Topic10\", \"Topic10\", \"Topic10\", \"Topic10\", \"Topic10\", \"Topic10\", \"Topic10\", \"Topic10\"], \"Freq\": [63.0, 86.0, 31.0, 18.0, 21.0, 62.0, 19.0, 23.0, 45.0, 25.0, 17.0, 16.0, 20.0, 19.0, 21.0, 46.0, 13.0, 14.0, 17.0, 45.0, 14.0, 23.0, 10.0, 27.0, 21.0, 23.0, 33.0, 14.0, 34.0, 26.0, 6.059652805328369, 3.0672435760498047, 3.0672354698181152, 3.0672249794006348, 2.319110155105591, 2.319110155105591, 2.319110155105591, 2.319110155105591, 2.3190975189208984, 1.5709713697433472, 1.5709716081619263, 1.5709716081619263, 1.5709716081619263, 1.5709713697433472, 1.5709713697433472, 1.5709713697433472, 1.5709713697433472, 1.5709704160690308, 1.570967674255371, 1.5709646940231323, 1.5709655284881592, 1.570952296257019, 1.570952296257019, 1.570935845375061, 1.5709277391433716, 1.5709139108657837, 1.5708982944488525, 1.570797324180603, 1.5705926418304443, 1.5704379081726074, 3.067237138748169, 3.815373182296753, 2.319110631942749, 3.067246198654175, 3.067246198654175, 3.0672483444213867, 4.5635199546813965, 6.807945251464844, 3.0345499515533447, 5.0965423583984375, 3.747854709625244, 6.671425819396973, 6.951333999633789, 2.319108486175537, 5.109777927398682, 4.844015121459961, 4.301616668701172, 2.3191137313842773, 4.563521862030029, 3.0672550201416016, 3.06724214553833, 8.15715503692627, 4.563523292541504, 9.570919036865234, 3.0672523975372314, 4.56351375579834, 3.9655609130859375, 2.9898269176483154, 3.687981605529785, 3.521009922027588, 3.1311020851135254, 3.1401784420013428, 3.067257881164551, 19.80223274230957, 14.42629337310791, 7.195947647094727, 6.361710071563721, 6.361668109893799, 6.361656188964844, 6.361605167388916, 6.361347675323486, 5.46567964553833, 5.465394496917725, 4.569616794586182, 4.569615840911865, 4.569609642028809, 4.569609642028809, 4.569609642028809, 4.569605350494385, 4.569610118865967, 4.569595813751221, 4.569540977478027, 4.569448471069336, 4.56935977935791, 4.56887149810791, 4.569113254547119, 3.673551082611084, 3.673550605773926, 3.6735503673553467, 3.6735494136810303, 3.6735455989837646, 3.6735455989837646, 3.6735424995422363, 69.24542999267578, 49.603553771972656, 21.573453903198242, 14.205099105834961, 34.43996810913086, 6.361745357513428, 5.465682506561279, 31.08088493347168, 17.98170280456543, 28.825729370117188, 16.401613235473633, 14.426085472106934, 27.672447204589844, 11.646482467651367, 20.773738861083984, 9.04979419708252, 13.93484878540039, 67.16122436523438, 16.89227867126465, 14.872580528259277, 39.207740783691406, 14.361817359924316, 27.20315170288086, 15.522268295288086, 13.16546630859375, 17.951993942260742, 9.04991626739502, 14.457804679870605, 10.958868026733398, 17.620988845825195, 10.105585098266602, 13.057503700256348, 13.905253410339355, 12.293062210083008, 1.703386902809143, 1.7033871412277222, 1.7033865451812744, 1.703386902809143, 1.7033220529556274, 1.7032510042190552, 1.153891921043396, 1.153891921043396, 1.1538918018341064, 1.1538918018341064, 1.1538918018341064, 1.153735876083374, 2.7570228576660156, 1.7033941745758057, 2.246427536010742, 0.6043903231620789, 0.6043903231620789, 0.6043903231620789, 0.6043903231620789, 0.6043896675109863, 0.6043897867202759, 0.6043897867202759, 0.6043897867202759, 0.6043897867202759, 0.6043897867202759, 0.6043897867202759, 0.6043897867202759, 0.6043897867202759, 0.6043897867202759, 0.6043897867202759, 0.6043896675109863, 0.6043897867202759, 0.6043896675109863, 4.893374919891357, 3.351917266845703, 1.1539020538330078, 2.252906084060669, 3.535036087036133, 4.448503494262695, 2.043299674987793, 5.883763313293457, 0.9126604795455933, 1.6044411659240723, 2.5550060272216797, 1.1538971662521362, 1.4681967496871948, 1.5001540184020996, 1.7033933401107788, 2.4041757583618164, 1.8125829696655273, 1.2940690517425537, 1.2425533533096313, 1.2179728746414185, 1.1775586605072021, 1.1539306640625, 1.1539090871810913, 4.187249660491943, 4.187249660491943, 2.54512882232666, 2.54512882232666, 2.545130491256714, 2.545130491256714, 2.5451292991638184, 2.545093297958374, 1.7240570783615112, 1.7240580320358276, 1.7240580320358276, 1.7240570783615112, 1.7240570783615112, 1.7240570783615112, 1.7240570783615112, 1.7240570783615112, 1.7240570783615112, 1.7240580320358276, 1.7240562438964844, 1.7240568399429321, 1.7240562438964844, 1.7240568399429321, 1.7240568399429321, 1.7240560054779053, 1.7240560054779053, 1.7240560054779053, 1.7240560054779053, 1.7240560054779053, 1.7240544557571411, 1.724054217338562, 1.7240523099899292, 3.3660080432891846, 8.142221450805664, 3.366199254989624, 3.3661909103393555, 3.3591866493225098, 11.576807975769043, 9.111618041992188, 7.471426963806152, 9.347768783569336, 6.6503376960754395, 8.292616844177246, 4.1871562004089355, 4.187272071838379, 3.3659636974334717, 2.5451316833496094, 4.178060054779053, 3.3661983013153076, 2.5451366901397705, 8.945051193237305, 4.18724250793457, 9.934694290161133, 8.603766441345215, 6.644898414611816, 5.008313179016113, 12.397926330566406, 27.94947624206543, 5.008249759674072, 16.41010093688965, 8.292534828186035, 8.135946273803711, 13.133234024047852, 5.359116554260254, 6.650323867797852, 7.900530815124512, 7.410538673400879, 9.761198043823242, 7.5682854652404785, 6.7634429931640625, 5.829401016235352, 5.043498516082764, 5.345229148864746, 5.4965972900390625, 5.571907043457031, 2.832834243774414, 2.1418793201446533, 2.1418793201446533, 2.141879081726074, 2.141878604888916, 2.1418778896331787, 2.1418278217315674, 2.1418278217315674, 1.4509224891662598, 1.4509224891662598, 1.450920820236206, 1.4509211778640747, 1.4509221315383911, 1.4509221315383911, 1.4509221315383911, 1.45083487033844, 1.4508299827575684, 1.4508298635482788, 1.4508298635482788, 1.4507663249969482, 1.4507075548171997, 1.4507075548171997, 2.141828775405884, 2.1418802738189697, 2.141881227493286, 4.2147064208984375, 1.930715560913086, 0.7599520087242126, 0.7599520087242126, 0.7599520087242126, 0.7599520087242126, 0.7599520087242126, 0.7599520087242126, 1.4508901834487915, 1.4507595300674438, 1.4509141445159912, 2.832689046859741, 7.172658920288086, 4.870544910430908, 5.249919414520264, 3.5237982273101807, 2.1418843269348145, 2.141833782196045, 2.141831636428833, 4.531660079956055, 3.5237975120544434, 3.2868077754974365, 2.1417911052703857, 2.1418957710266113, 7.1668829917907715, 3.5322864055633545, 2.1121158599853516, 3.2559423446655273, 2.37930965423584, 3.0877346992492676, 3.240696430206299, 2.5446527004241943, 2.5611705780029297, 2.284747838973999, 2.22464919090271, 2.1418914794921875, 5.728204727172852, 4.9213995933532715, 4.9213948249816895, 4.11458683013916, 4.114146709442139, 3.3077759742736816, 3.307774543762207, 3.307746410369873, 2.5009653568267822, 2.5009636878967285, 2.5009636878967285, 2.5009636878967285, 2.500964641571045, 2.5009615421295166, 2.500960111618042, 2.500960111618042, 2.500955581665039, 2.499998092651367, 4.921402454376221, 1.6941460371017456, 1.694145679473877, 1.6941454410552979, 1.6941453218460083, 1.6941454410552979, 1.694145679473877, 1.69414484500885, 1.69414484500885, 1.6941444873809814, 1.694144368171692, 1.6941441297531128, 1.6941441297531128, 1.6941441297531128, 4.92140007019043, 1.69414484500885, 1.6941441297531128, 6.535025596618652, 4.921408176422119, 3.307785987854004, 5.728213787078857, 4.114486217498779, 5.728210926055908, 4.921401023864746, 3.307579755783081, 2.5009655952453613, 5.728214740753174, 4.114596366882324, 5.581427574157715, 5.728214740753174, 4.114571571350098, 22.773147583007812, 8.148646354675293, 3.307727813720703, 6.760380268096924, 4.70386266708374, 4.1145830154418945, 4.114596366882324, 10.087322235107422, 8.521580696105957, 5.728231430053711, 4.921411514282227, 4.470556259155273, 5.643080234527588, 5.547296524047852, 5.822439670562744, 4.974400043487549, 4.82681941986084, 4.325598239898682, 4.114602565765381, 2.9668259620666504, 2.9668259620666504, 2.966778039932251, 2.2431905269622803, 2.243190288543701, 2.2431905269622803, 2.2431886196136475, 4.414111614227295, 4.409121036529541, 3.690476894378662, 1.5195478200912476, 1.5195478200912476, 1.5195478200912476, 1.5195478200912476, 1.5195478200912476, 1.5195473432540894, 1.5195468664169312, 1.5195468664169312, 1.5195457935333252, 1.5195441246032715, 1.5195441246032715, 1.5195441246032715, 1.5195441246032715, 1.5195441246032715, 1.5195441246032715, 1.5195441246032715, 1.5195441246032715, 1.5195438861846924, 1.5195434093475342, 1.5195178985595703, 1.5195178985595703, 1.5195178985595703, 4.402874946594238, 2.9666213989257812, 2.966831684112549, 5.039187431335449, 9.923084259033203, 5.079091548919678, 2.236203908920288, 5.107295989990234, 5.735495567321777, 2.9668362140655518, 2.9668047428131104, 2.966768264770508, 2.243191957473755, 4.347681999206543, 2.2431938648223877, 3.5718612670898438, 7.292686462402344, 2.2431960105895996, 3.690490245819092, 2.243196964263916, 4.501651763916016, 6.046021461486816, 4.794579982757568, 3.690488576889038, 4.689204692840576, 2.966823101043701, 2.844134569168091, 2.871757984161377, 2.67992901802063, 2.8527612686157227, 4.817709922790527, 4.817712783813477, 4.817709922790527, 4.027921676635742, 4.027921199798584, 4.0279107093811035, 3.238107681274414, 3.2381081581115723, 3.238107681274414, 3.2381067276000977, 3.2379605770111084, 8.68624210357666, 2.448291540145874, 2.448291540145874, 2.448291540145874, 2.448291540145874, 2.448291540145874, 2.448284864425659, 2.4482035636901855, 4.609205722808838, 7.976992130279541, 10.346424102783203, 4.0279221534729, 1.6584702730178833, 1.6584702730178833, 1.6584702730178833, 1.6584702730178833, 1.658470630645752, 1.658470630645752, 1.658470630645752, 3.2381086349487305, 1.658470630645752, 1.6584700345993042, 1.658470630645752, 11.102259635925293, 1.658470630645752, 1.658469319343567, 1.658469319343567, 1.658469319343567, 3.2381093502044678, 2.4482924938201904, 4.531224727630615, 2.4482908248901367, 10.331345558166504, 4.027924537658691, 27.399330139160156, 4.817678451538086, 5.60756254196167, 6.6860575675964355, 7.796125411987305, 9.61233901977539, 10.205039978027344, 4.817762851715088, 7.432682514190674, 10.192801475524902, 6.26990270614624, 5.624181747436523, 6.159082889556885, 4.654533863067627, 4.817750930786133, 5.638914108276367, 5.156215667724609, 4.582348346710205, 4.233527660369873, 4.19238805770874, 3.9848098754882812, 3.203444242477417, 3.2034013271331787, 3.2033708095550537, 2.422088623046875, 2.422088623046875, 2.4220874309539795, 1.6407232284545898, 1.640723466873169, 1.6407240629196167, 1.6407240629196167, 1.6407229900360107, 1.6407222747802734, 1.6407216787338257, 1.6407222747802734, 1.6407222747802734, 1.6407160758972168, 1.6407160758972168, 1.640710473060608, 1.640710473060608, 1.640710473060608, 1.6406924724578857, 1.6406911611557007, 1.6406750679016113, 1.6406749486923218, 1.6406738758087158, 1.64037024974823, 1.6403619050979614, 1.640108346939087, 3.203439712524414, 7.466227054595947, 3.984818696975708, 3.9847543239593506, 2.422091245651245, 2.4220871925354004, 4.766188144683838, 3.955723762512207, 6.32889986038208, 2.422090768814087, 3.857187032699585, 4.697604656219482, 6.3301873207092285, 13.866204261779785, 7.350362300872803, 5.547553539276123, 2.422088861465454, 2.422091245651245, 2.4220964908599854, 8.349761009216309, 6.7953338623046875, 2.422093152999878, 5.377635955810547, 6.1309099197387695, 13.80760669708252, 6.7472333908081055, 5.445572376251221, 3.2034685611724854, 5.028868198394775, 4.766158580780029, 6.711560249328613, 6.219470024108887, 3.203420877456665, 3.946326494216919, 4.244490146636963, 3.6760826110839844, 3.561699151992798, 3.2034497261047363, 4.7140350341796875, 3.16841197013855, 3.16841197013855, 3.1684093475341797, 3.1682496070861816, 2.3955986499786377, 2.395599365234375, 2.3955321311950684, 3.9412500858306885, 1.6227819919586182, 1.6227813959121704, 1.6227819919586182, 1.6227813959121704, 1.6227819919586182, 1.6227810382843018, 1.622780680656433, 1.622780680656433, 1.6227785348892212, 1.6227785348892212, 1.6227730512619019, 1.6227697134017944, 1.6227271556854248, 1.6225637197494507, 1.6225104331970215, 3.16841197013855, 3.1684205532073975, 3.1684134006500244, 2.9676167964935303, 2.3956003189086914, 1.6227844953536987, 8.50625991821289, 5.984859943389893, 16.981704711914062, 3.941236972808838, 8.420178413391113, 3.168419361114502, 3.1684224605560303, 4.304683685302734, 5.120780944824219, 3.9412343502044678, 2.395596981048584, 3.941232442855835, 7.032413482666016, 6.500420093536377, 3.168281078338623, 2.3955986499786377, 3.1684179306030273, 14.276392936706543, 6.3558220863342285, 3.9412567615509033, 4.713959693908691, 5.7116899490356445, 3.9412317276000977, 4.8068952560424805, 5.997745513916016, 3.8830130100250244, 3.941237688064575, 4.722463130950928, 3.941232919692993, 3.7915613651275635, 4.40561580657959, 3.3992600440979004, 3.1955149173736572, 3.168440580368042], \"Term\": [\"march\", \"case\", \"till\", \"mumbai\", \"suspend\", \"report\", \"quarantine\", \"31\", \"first\", \"work\", \"student\", \"office\", \"woman\", \"uddhav\", \"day\", \"positive\", \"service\", \"postpone\", \"cm\", \"new\", \"international\", \"total\", \"exam\", \"home\", \"modi\", \"pm\", \"number\", \"passenger\", \"minister\", \"train\", \"cut\", \"indore\", \"indigo\", \"undergo\", \"wrist\", \"jp\", \"patel\", \"shrink\", \"salary\", \"colour\", \"economist\", \"feroli\", \"morgan\", \"wear\", \"14-day\", \"assembly\", \"band\", \"cms\", \"israel\", \"away\", \"else\", \"dutta\", \"ronojoy\", \"trillion\", \"singh\", \"footing\", \"provincial\", \"104\", \"reschedule\", \"teaching\", \"store\", \"pay\", \"quarter\", \"kejriwal\", \"arvind\", \"speak\", \"economy\", \"pm\", \"video\", \"cm\", \"narendra\", \"take\", \"minister\", \"tomorrow\", \"modi\", \"delhi\", \"chief\", \"via\", \"quarantine\", \"continue\", \"announce\", \"say\", \"home\", \"coronavirus\", \"percent\", \"#\", \"health\", \"call\", \"covid-19\", \"march\", \"death\", \"'s\", \"maharashtra\", \"woman\", \"cancel\", \"karnataka\", \"foreigner\", \"34\", \"mainland\", \"import\", \"local\", \"drive\", \"covid19\", \"wr\", \"17\", \"ford\", \"fiat\", \"chrysler\", \"155\", \"nagar\", \"23-year\", \"chinese\", \"pti\", \"history\", \"western\", \"figure\", \"sunder\", \"nhc\", \"suburban\", \"drunken\", \"indira\", \"share\", \"84\", \"case\", \"report\", \"train\", \"old\", \"first\", \"commuter\", \"raipur\", \"positive\", \"confirm\", \"new\", \"total\", \"railway\", \"test\", \"time\", \"number\", \"domestic\", \"china\", \"coronavirus\", \"include\", \"death\", \"say\", \"official\", \"#\", \"return\", \"novel\", \"'s\", \"national\", \"thursday\", \"day\", \"covid-19\", \"mumbai\", \"state\", \"march\", \"health\", \"dabbawala\", \"tiffin\", \"bed\", \"standby\", \"20,000\", \"icse\", \"psl\", \"military\", \"briefing\", \"parliament\", \"party\", \"certificate\", \"board\", \"personnel\", \"school\", \"fame\", \"explosion\", \"dabbawalas\", \"31and\", \"31all\", \"british\", \"coronavirusup\", \"player\", \"defence\", \"pcbthe\", \"pcb\", \"owner\", \"match\", \"cricket\", \"128\", \"tmc\", \"broadcaster\", \"trinamool\", \"mumbai\", \"service\", \"31st\", \"today\", \"suspend\", \"till\", \"staff\", \"march\", \"halt\", \"back\", \"31\", \"negative\", \"singapore\", \"central\", \"come\", \"'s\", \"coronavirus\", \"quarantine\", \"outbreak\", \"thursday\", \"student\", \"ani\", \"medium\", \"22\", \"land\", \"residential\", \"estate\", \"ilo\", \"lose\", \"panic\", \"together\", \"mahamari\", \"employment\", \"un\", \"kalyug\", \"junior\", \"judge\", \"fighting\", \"court\", \"advocate\", \"labour\", \"silchar\", \"shortly\", \"nabbed\", \"friend\", \"reunion\", \"slowdown\", \"inter\", \"rating\", \"crack\", \"nifty50\", \"unnecessary\", \"britain\", \"irandammu\", \"restrict\", \"mea\", \"@\", \"commercial\", \"agency\", \"uddhav\", \"fight\", \"address\", \"cm\", \"nation\", \"thackeray\", \"million\", \"set\", \"need\", \"worldwide\", \"economic\", \"job\", \"real\", \"pandemic\", \"bad\", \"work\", \"modi\", \"measure\", \"impact\", \"state\", \"coronavirus\", \"hit\", \"say\", \"people\", \"government\", \"#\", \"iran\", \"pm\", \"india\", \"outbreak\", \"covid-19\", \"'s\", \"minister\", \"maharashtra\", \"international\", \"due\", \"indian\", \"health\", \"result\", \"relaxation\", \"filing\", \"volatility\", \"exposure\", \"african\", \"deboarde\", \"station\", \"sebi\", \"regulator\", \"championship\", \"madhya\", \"infrastructure\", \"crypto\", \"creak\", \"45\", \"vadodara\", \"saurashtra\", \"borivali\", \"collector\", \"23rd\", \"vistara\", \"stamp\", \"young\", \"couple\", \"suspect\", \"corporate\", \"quarterly\", \"extension\", \"q4\", \"45-day\", \"circular\", \"concernsmarket\", \"not\", \"brief\", \"de\", \"\\u2014\", \"quarantine\", \"passenger\", \"day\", \"tuesday\", \"company\", \"6\", \"express\", \"people\", \"uddhav\", \"thackeray\", \"war\", \"give\", \"coronavirus\", \"travel\", \"four\", \"one\", \"singapore\", \"home\", \"say\", \"return\", \"#\", \"maharashtra\", \"report\", \"amid\", \"aid\", \"act\", \"package\", \"chidambaram\", \"gurugram\", \"town\", \"depute\", \"fine\", \"multi\", \"farooq\", \"abdullah\", \"assistance\", \"gate\", \"75\", \"rank\", \"assist\", \"100\", \"137\", \"sign\", \"bounce\", \"senate\", \"offering\", \"restore\", \"bandyopadhyay\", \"vote\", \"spitting\", \"bmc\", \"fund\", \"bold\", \"consider\", \"easy\", \"loan\", \"billion\", \"174\", \"p\", \"lockdown\", \"joint\", \"saarc\", \"secretary\", \"leader\", \"4\", \"2\", \"negative\", \"g\", \"emergency\", \"officer\", \"trump\", \"call\", \"immediate\", \"coronavirus\", \"country\", \"moscow\", \"wednesday\", \"testing\", \"die\", \"s\", \"say\", \"covid-19\", \"government\", \"read\", \"\\u2019\", \"health\", \"test\", \"#\", \"state\", \"first\", \"positive\", \"spread\", \"spicejet\", \"majority\", \"jawan\", \"balart\", \"hyderabad\", \"diaz\", \"rumour\", \"door\", \"operation\", \"tibetan\", \"utah\", \"washington\", \"voting\", \"saturday\", \"mcadam\", \"deny\", \"fake\", \"competition\", \"mislead\", \"vidyalya\", \"tehran\", \"sangathan\", \"kathmandu\", \"kendriya\", \"kv\", \"kvs\", \"locate\", \"soon\", \"21-april\", \"takeaway\", \"marriage\", \"banquet\", \"friday\", \"temporarily\", \"screening\", \"april\", \"suspend\", \"public\", \"resume\", \"flight\", \"international\", \"online\", \"threat\", \"since\", \"to\", \"punjab\", \"sport\", \"transport\", \"covid-19\", \"start\", \"view\", \"evening\", \"government\", \"say\", \"march\", \"state\", \"coronavirus\", \"india\", \"include\", \"positive\", \"home\", \"#\", \"institution\", \"ugc\", \"class\", \"embassy\", \"noida\", \"evaluation\", \"hcl\", \"safe\", \"customer\", \"educational\", \"welfare\", \"exam\", \"banking\", \"virtual\", \"axis\", \"g-20\", \"summit\", \"visa\", \"stick\", \"examination\", \"university\", \"postpone\", \"tally\", \"instead\", \"mobile\", \"app\", \"branch\", \"currently\", \"evolve\", \"protocol\", \"bank\", \"safeguard\", \"direct\", \"tech\", \"student\", \"technology\", \"physical\", \"grip\", \"mhrd\", \"assure\", \"urge\", \"second\", \"top\", \"indian\", \"next\", \"coronavirus\", \"follow\", \"office\", \"31\", \"till\", \"march\", \"#\", \"employee\", \"india\", \"say\", \"outbreak\", \"return\", \"positive\", \"ministry\", \"one\", \"report\", \"test\", \"minister\", \"due\", \"thursday\", \"digestive\", \"overseas\", \"chair\", \"traveller\", \"convict\", \"mull\", \"imambara\", \"rane\", \"diagnosis\", \"present\", \"diarrhea\", \"parole\", \"yagna\", \"only\", \"prayer\", \"lord\", \"nifty\", \"tank\", \"yesterday\", \"201\", \"link\", \"over\", \"along\", \"individual\", \"mechanism\", \"engage\", \"trip\", \"kodagu\", \"wait\", \"life\", \"symptom\", \"zealand\", \"screen\", \"covid\", \"sell\", \"airport\", \"review\", \"medical\", \"director\", \"meeting\", \"across\", \"infection\", \"covid-19\", \"travel\", \"patient\", \"goa\", \"do\", \"release\", \"new\", \"number\", \"study\", \"total\", \"minister\", \"coronavirus\", \"health\", \"thursday\", \"department\", \"india\", \"indian\", \"say\", \"case\", \"level\", \"country\", \"'s\", \"outbreak\", \"#\", \"people\", \"fuel\", \"stagger\", \"attend\", \"concessional\", \"cent\", \"baptist\", \"petroleum\", \"fortnight\", \"church\", \"consume\", \"slot\", \"pc\", \"rush\", \"tonne\", \"odia\", \"plastic\", \"protective\", \"category\", \"divyangjan\", \"succeed\", \"everything\", \"steep\", \"72-year\", \"burden\", \"name\", \"activity\", \"ticket\", \"district\", \"hour\", \"product\", \"office\", \"italy\", \"march\", \"decide\", \"work\", \"11\", \"50\", \"remain\", \"employee\", \"staff\", \"prevent\", \"central\", \"till\", \"home\", \"per\", \"use\", \"demand\", \"coronavirus\", \"india\", \"ask\", \"31\", \"'s\", \"measure\", \"take\", \"covid-19\", \"come\", \"spread\", \"health\", \"two\", \"close\", \"case\", \"first\", \"suspend\", \"10\"], \"Total\": [63.0, 86.0, 31.0, 18.0, 21.0, 62.0, 19.0, 23.0, 45.0, 25.0, 17.0, 16.0, 20.0, 19.0, 21.0, 46.0, 13.0, 14.0, 17.0, 45.0, 14.0, 23.0, 10.0, 27.0, 21.0, 23.0, 33.0, 14.0, 34.0, 26.0, 6.742868900299072, 3.7504425048828125, 3.7504355907440186, 3.7504255771636963, 3.0023090839385986, 3.0023090839385986, 3.0023090839385986, 3.0023090839385986, 3.00229811668396, 2.2541701793670654, 2.2541704177856445, 2.2541704177856445, 2.2541704177856445, 2.2541701793670654, 2.2541701793670654, 2.2541701793670654, 2.2541701793670654, 2.254169225692749, 2.254166603088379, 2.2541635036468506, 2.254164457321167, 2.2541539669036865, 2.2541539669036865, 2.254138469696045, 2.254133701324463, 2.254120111465454, 2.2541048526763916, 2.2540135383605957, 2.2538607120513916, 2.2537190914154053, 4.531632900238037, 6.126041412353516, 3.6931657791137695, 5.295929431915283, 5.295929431915283, 5.435734748840332, 9.260493278503418, 23.748828887939453, 6.977574825286865, 17.14200782775879, 10.09523868560791, 28.97573471069336, 34.30781555175781, 4.644254207611084, 21.38164520263672, 19.65432357788086, 15.875568389892578, 4.793984889984131, 19.629465103149414, 9.127302169799805, 9.813063621520996, 102.3614501953125, 27.821016311645508, 196.6067657470703, 11.130821228027344, 74.22530364990234, 42.41939926147461, 11.047463417053223, 73.38818359375, 63.48676300048828, 26.082807540893555, 46.80907440185547, 25.157028198242188, 20.47089195251465, 15.867344856262207, 7.918186187744141, 7.03012228012085, 7.030087471008301, 7.030083656311035, 7.030051231384277, 7.029816627502441, 6.134085655212402, 6.133847713470459, 5.238022804260254, 5.2380218505859375, 5.238016605377197, 5.238016605377197, 5.238016605377197, 5.238011837005615, 5.238017559051514, 5.238004684448242, 5.237960338592529, 5.237884521484375, 5.237810134887695, 5.237421035766602, 5.23782205581665, 4.341957092285156, 4.341956615447998, 4.341956615447998, 4.341955661773682, 4.341951847076416, 4.341952323913574, 4.341949462890625, 86.2060775756836, 62.11519241333008, 26.77744483947754, 17.423521041870117, 45.045169830322266, 7.83676815032959, 6.683526515960693, 46.83900451660156, 25.733543395996094, 45.125816345214844, 23.842172622680664, 20.619958877563477, 46.65220260620117, 16.331920623779297, 33.58184051513672, 12.868796348571777, 22.743064880371094, 196.6067657470703, 30.846946716308594, 26.082807540893555, 102.3614501953125, 26.43388557434082, 74.22530364990234, 31.396766662597656, 25.136844635009766, 46.80907440185547, 13.500258445739746, 36.33127975463867, 21.856836318969727, 73.38818359375, 18.477201461791992, 45.434505462646484, 63.48676300048828, 42.41939926147461, 2.406449794769287, 2.406450033187866, 2.406449317932129, 2.406449794769287, 2.4063971042633057, 2.4063472747802734, 1.85695481300354, 1.85695481300354, 1.856954574584961, 1.856954574584961, 1.856954574584961, 1.856838345527649, 5.028672218322754, 3.3020923137664795, 4.512380599975586, 1.3074530363082886, 1.3074530363082886, 1.3074530363082886, 1.3074530363082886, 1.3074524402618408, 1.3074525594711304, 1.3074525594711304, 1.3074525594711304, 1.3074525594711304, 1.3074525594711304, 1.3074525594711304, 1.3074525594711304, 1.3074525594711304, 1.3074525594711304, 1.3074525594711304, 1.3074524402618408, 1.3074525594711304, 1.3074524402618408, 18.477201461791992, 13.660401344299316, 3.559004068374634, 10.159305572509766, 21.27852439880371, 31.810531616210938, 9.550334930419922, 63.48676300048828, 2.6567740440368652, 8.620474815368652, 23.15670394897461, 5.083884239196777, 9.614264488220215, 10.442272186279297, 14.571267127990723, 46.80907440185547, 196.6067657470703, 19.629465103149414, 35.24135208129883, 36.33127975463867, 17.616561889648438, 6.604007720947266, 8.959938049316406, 4.863155841827393, 4.863155841827393, 3.2210347652435303, 3.2210347652435303, 3.221036434173584, 3.221036434173584, 3.2210352420806885, 3.221003770828247, 2.399962902069092, 2.399963855743408, 2.399963855743408, 2.399962902069092, 2.399962902069092, 2.399962902069092, 2.399962902069092, 2.399962902069092, 2.399962902069092, 2.399963855743408, 2.3999621868133545, 2.3999626636505127, 2.3999621868133545, 2.3999626636505127, 2.3999626636505127, 2.3999619483947754, 2.3999619483947754, 2.3999619483947754, 2.3999619483947754, 2.3999619483947754, 2.3999602794647217, 2.3999600410461426, 2.3999581336975098, 4.789949893951416, 12.727739334106445, 4.937747001647949, 4.9377360343933105, 4.93682336807251, 19.012296676635742, 15.244287490844727, 12.753124237060547, 17.14200782775879, 11.727325439453125, 16.68259048461914, 7.215198993682861, 7.239311218261719, 5.522390842437744, 3.9118921756744385, 7.355919361114502, 5.655568599700928, 4.010666847229004, 21.60357093811035, 7.937849998474121, 25.682708740234375, 21.38164520263672, 15.030562400817871, 10.373324394226074, 45.434505462646484, 196.6067657470703, 11.152719497680664, 102.3614501953125, 30.236433029174805, 29.19821548461914, 74.22530364990234, 13.4495210647583, 23.748828887939453, 39.19659423828125, 35.24135208129883, 73.38818359375, 46.80907440185547, 34.30781555175781, 25.157028198242188, 14.764911651611328, 20.65015411376953, 33.50223159790039, 42.41939926147461, 3.5217511653900146, 2.830796241760254, 2.830796241760254, 2.830796003341675, 2.8307955265045166, 2.8307948112487793, 2.8307578563690186, 2.8307578563690186, 2.1398391723632812, 2.1398391723632812, 2.1398375034332275, 2.1398379802703857, 2.139838933944702, 2.139838933944702, 2.139838933944702, 2.1397829055786133, 2.1397783756256104, 2.1397783756256104, 2.1397783756256104, 2.1397151947021484, 2.1396687030792236, 2.1396687030792236, 3.5787599086761475, 3.637415885925293, 3.651642084121704, 7.968768119812012, 3.672553300857544, 1.4488688707351685, 1.4488688707351685, 1.4488688707351685, 1.4488688707351685, 1.4488688707351685, 1.4488688707351685, 2.887810707092285, 2.8876919746398926, 2.9210309982299805, 6.464997291564941, 19.629465103149414, 14.635689735412598, 21.856836318969727, 13.500615119934082, 5.216902732849121, 5.230887413024902, 5.253908157348633, 30.236433029174805, 19.012296676635742, 16.68259048461914, 5.798407077789307, 6.074244022369385, 196.6067657470703, 26.26409912109375, 6.423574447631836, 25.3879337310791, 9.614264488220215, 27.821016311645508, 102.3614501953125, 31.396766662597656, 74.22530364990234, 25.157028198242188, 62.11519241333008, 7.586402416229248, 6.40553617477417, 5.59873104095459, 5.598726272583008, 4.7919182777404785, 4.7915544509887695, 3.985107183456421, 3.9851057529449463, 3.9850800037384033, 3.1782965660095215, 3.1782948970794678, 3.1782948970794678, 3.1782948970794678, 3.178295850753784, 3.178292751312256, 3.1782913208007812, 3.1782913208007812, 3.1782867908477783, 3.177495002746582, 6.346652984619141, 2.3714771270751953, 2.371476888656616, 2.371476650238037, 2.371476411819458, 2.371476650238037, 2.371476888656616, 2.3714759349823, 2.3714759349823, 2.3714756965637207, 2.3714754581451416, 2.3714752197265625, 2.3714752197265625, 2.3714752197265625, 6.9805498123168945, 2.3714759349823, 2.3714752197265625, 9.456439971923828, 7.161299705505371, 4.805942535400391, 8.749480247497559, 6.305001258850098, 9.340691566467285, 7.957030773162842, 5.083884239196777, 3.7277348041534424, 10.47077465057373, 6.9945855140686035, 10.310169219970703, 11.047463417053223, 7.9733195304870605, 196.6067657470703, 28.951173782348633, 5.432242393493652, 23.90062141418457, 12.101675987243652, 9.5416841506958, 9.780045509338379, 102.3614501953125, 73.38818359375, 29.19821548461914, 17.94911003112793, 12.984764099121094, 42.41939926147461, 46.65220260620117, 74.22530364990234, 45.434505462646484, 45.045169830322266, 46.83900451660156, 15.936578750610352, 3.6524746417999268, 3.6524746417999268, 3.652433395385742, 2.9288389682769775, 2.9288387298583984, 2.9288389682769775, 2.9288370609283447, 5.84767484664917, 5.921232223510742, 5.165754318237305, 2.2051961421966553, 2.2051961421966553, 2.2051961421966553, 2.2051961421966553, 2.2051961421966553, 2.205195665359497, 2.205195188522339, 2.205195188522339, 2.2051942348480225, 2.2051925659179688, 2.2051925659179688, 2.2051925659179688, 2.2051925659179688, 2.2051925659179688, 2.2051925659179688, 2.2051925659179688, 2.2051925659179688, 2.2051925659179688, 2.2051923274993896, 2.2051711082458496, 2.2051711082458496, 2.2051711082458496, 6.621111869812012, 4.425099849700928, 4.433677673339844, 8.030457496643066, 21.27852439880371, 11.588445663452148, 3.750626564025879, 12.244712829589844, 14.764911651611328, 6.055583953857422, 6.353382587432861, 6.695259094238281, 4.367697715759277, 15.180488586425781, 4.597141265869141, 12.400859832763672, 73.38818359375, 5.256105422973633, 16.50646209716797, 5.393333435058594, 29.19821548461914, 102.3614501953125, 63.48676300048828, 45.434505462646484, 196.6067657470703, 39.19659423828125, 30.846946716308594, 46.83900451660156, 27.821016311645508, 74.22530364990234, 5.4967427253723145, 5.496747970581055, 5.496745586395264, 4.706952095031738, 4.706952095031738, 4.706943511962891, 3.9171385765075684, 3.9171390533447266, 3.9171385765075684, 3.917137622833252, 3.9170048236846924, 10.743417739868164, 3.1273224353790283, 3.1273224353790283, 3.1273224353790283, 3.1273224353790283, 3.1273224353790283, 3.1273157596588135, 3.1272523403167725, 5.982711315155029, 10.358274459838867, 14.000760078430176, 5.454873085021973, 2.337501287460327, 2.337501287460327, 2.337501287460327, 2.337501287460327, 2.3375015258789062, 2.3375015258789062, 2.3375015258789062, 4.665140628814697, 2.3375015258789062, 2.337500810623169, 2.3375015258789062, 17.616561889648438, 2.3375015258789062, 2.3375003337860107, 2.3375003337860107, 2.3375003337860107, 5.559089183807373, 3.875279188156128, 8.733659744262695, 3.9339358806610107, 33.50223159790039, 8.593196868896484, 196.6067657470703, 11.791816711425781, 16.162076950073242, 23.15670394897461, 31.810531616210938, 63.48676300048828, 74.22530364990234, 14.18020248413086, 39.19659423828125, 102.3614501953125, 35.24135208129883, 31.396766662597656, 46.83900451660156, 19.448257446289062, 25.3879337310791, 62.11519241333008, 46.65220260620117, 34.30781555175781, 20.65015411376953, 36.33127975463867, 4.66468620300293, 3.8833212852478027, 3.883283853530884, 3.8832554817199707, 3.1019649505615234, 3.1019649505615234, 3.101963758468628, 2.3205995559692383, 2.3205997943878174, 2.3206005096435547, 2.3206005096435547, 2.320599317550659, 2.320598602294922, 2.3205981254577637, 2.320598602294922, 2.320598602294922, 2.3205924034118652, 2.3205924034118652, 2.320586681365967, 2.320586681365967, 2.3205881118774414, 2.320573568344116, 2.3205740451812744, 2.3205575942993164, 2.3205575942993164, 2.3205580711364746, 2.320279598236084, 2.320272445678711, 2.320101737976074, 4.778963088989258, 12.319388389587402, 6.4564595222473145, 6.8998589515686035, 3.792816400527954, 3.922808885574341, 10.172932624816895, 7.899718761444092, 15.410832405090332, 3.9976165294647217, 7.810273170471191, 10.98212718963623, 17.37940216064453, 73.38818359375, 26.26409912109375, 18.237119674682617, 4.483791828155518, 4.63961124420166, 4.6812591552734375, 45.125816345214844, 33.58184051513672, 4.893533229827881, 23.842172622680664, 34.30781555175781, 196.6067657470703, 42.41939926147461, 36.33127975463867, 9.280363082885742, 39.19659423828125, 33.50223159790039, 102.3614501953125, 86.2060775756836, 10.025321960449219, 28.951173782348633, 46.80907440185547, 35.24135208129883, 74.22530364990234, 30.236433029174805, 5.394765853881836, 3.8491430282592773, 3.8491430282592773, 3.8491404056549072, 3.8490114212036133, 3.0763297080993652, 3.0763304233551025, 3.07627010345459, 5.411578178405762, 2.3035130500793457, 2.3035125732421875, 2.3035130500793457, 2.3035125732421875, 2.3035130500793457, 2.3035120964050293, 2.303511619567871, 2.303511619567871, 2.3035097122192383, 2.3035097122192383, 2.30350399017334, 2.3035025596618652, 2.303468942642212, 2.303316831588745, 2.3032760620117188, 4.572667121887207, 4.744787216186523, 4.7447896003723145, 4.518655776977539, 3.857530117034912, 2.852952003479004, 16.162076950073242, 13.149744033813477, 63.48676300048828, 8.213766098022461, 25.682708740234375, 6.190334796905518, 6.280729293823242, 10.554259300231934, 14.18020248413086, 9.550334930419922, 4.446616172790527, 10.442272186279297, 31.810531616210938, 27.821016311645508, 7.718960762023926, 4.655818462371826, 7.808322906494141, 196.6067657470703, 39.19659423828125, 13.030762672424316, 23.15670394897461, 46.80907440185547, 15.030562400817871, 28.97573471069336, 73.38818359375, 14.571267127990723, 15.936578750610352, 42.41939926147461, 18.901105880737305, 19.905977249145508, 86.2060775756836, 45.045169830322266, 21.27852439880371, 13.089492797851562], \"loglift\": [30.0, 29.0, 28.0, 27.0, 26.0, 25.0, 24.0, 23.0, 22.0, 21.0, 20.0, 19.0, 18.0, 17.0, 16.0, 15.0, 14.0, 13.0, 12.0, 11.0, 10.0, 9.0, 8.0, 7.0, 6.0, 5.0, 4.0, 3.0, 2.0, 1.0, 2.4516000747680664, 2.3573999404907227, 2.3573999404907227, 2.3573999404907227, 2.300299882888794, 2.300299882888794, 2.300299882888794, 2.300299882888794, 2.300299882888794, 2.1974000930786133, 2.1974000930786133, 2.1974000930786133, 2.1974000930786133, 2.1974000930786133, 2.1974000930786133, 2.1974000930786133, 2.1974000930786133, 2.1974000930786133, 2.1974000930786133, 2.1974000930786133, 2.1974000930786133, 2.1974000930786133, 2.1974000930786133, 2.1974000930786133, 2.1974000930786133, 2.1974000930786133, 2.1974000930786133, 2.1972999572753906, 2.1972999572753906, 2.197200059890747, 2.1682000160217285, 2.0850000381469727, 2.0931999683380127, 2.0123000144958496, 2.0123000144958496, 1.986299991607666, 1.8508000373840332, 1.309000015258789, 1.7258000373840332, 1.3454999923706055, 1.5676000118255615, 1.089900016784668, 0.9620000123977661, 1.8639999628067017, 1.1270999908447266, 1.1578999757766724, 1.2526999711990356, 1.8322999477386475, 1.0994999408721924, 1.468000054359436, 1.3954999446868896, 0.02889999933540821, 0.7508000135421753, -0.46399998664855957, 1.2695000171661377, -0.2304999977350235, 0.18850000202655792, 1.2515000104904175, -0.43220001459121704, -0.3336000144481659, 0.43860000371932983, -0.14329999685287476, 0.45410001277923584, 1.3671000003814697, 1.3050999641418457, 1.3047000169754028, 1.3004000186920166, 1.3004000186920166, 1.3004000186920166, 1.3004000186920166, 1.3004000186920166, 1.2848999500274658, 1.2848999500274658, 1.263800024986267, 1.263800024986267, 1.263800024986267, 1.263800024986267, 1.263800024986267, 1.263800024986267, 1.263800024986267, 1.263800024986267, 1.263800024986267, 1.263800024986267, 1.263800024986267, 1.263700008392334, 1.263700008392334, 1.2331000566482544, 1.2331000566482544, 1.2331000566482544, 1.2331000566482544, 1.2331000566482544, 1.2331000566482544, 1.2331000566482544, 1.1812000274658203, 1.1754000186920166, 1.1842000484466553, 1.1960999965667725, 1.1318999528884888, 1.1917999982833862, 1.1992000341415405, 0.9901999831199646, 1.0419000387191772, 0.9520999789237976, 1.0262000560760498, 1.0430999994277954, 0.878000020980835, 1.0621999502182007, 0.9200000166893005, 1.048200011253357, 0.9103999733924866, 0.326200008392334, 0.7980999946594238, 0.8385999798774719, 0.4406999945640564, 0.7901999950408936, 0.39649999141693115, 0.695900022983551, 0.753600001335144, 0.44190001487731934, 1.0003999471664429, 0.4788999855518341, 0.7099000215530396, -0.026399999856948853, 0.7968999743461609, 0.1534000039100647, -0.11829999834299088, 0.16169999539852142, 3.1480000019073486, 3.1480000019073486, 3.1480000019073486, 3.1480000019073486, 3.147900104522705, 3.147900104522705, 3.017699956893921, 3.017699956893921, 3.017699956893921, 3.017699956893921, 3.017699956893921, 3.0176000595092773, 2.8924999237060547, 2.8315999507904053, 2.7960000038146973, 2.72189998626709, 2.72189998626709, 2.72189998626709, 2.72189998626709, 2.72189998626709, 2.72189998626709, 2.72189998626709, 2.72189998626709, 2.72189998626709, 2.72189998626709, 2.72189998626709, 2.72189998626709, 2.72189998626709, 2.72189998626709, 2.72189998626709, 2.72189998626709, 2.72189998626709, 2.72189998626709, 2.164799928665161, 2.0885000228881836, 2.3671998977661133, 1.9873000383377075, 1.6985000371932983, 1.5262999534606934, 1.9515000581741333, 1.11489999294281, 2.424999952316284, 1.8121000528335571, 1.2892999649047852, 2.0106000900268555, 1.614300012588501, 1.5532000064849854, 1.347100019454956, 0.5246000289916992, -1.1929999589920044, 0.7742999792098999, 0.14839999377727509, 0.09799999743700027, 0.788100004196167, 1.7489999532699585, 1.4438999891281128, 1.9105000495910645, 1.9105000495910645, 1.8245999813079834, 1.8245999813079834, 1.8245999813079834, 1.8245999813079834, 1.8245999813079834, 1.8245999813079834, 1.7294000387191772, 1.7294000387191772, 1.7294000387191772, 1.7294000387191772, 1.7294000387191772, 1.7294000387191772, 1.7294000387191772, 1.7294000387191772, 1.7294000387191772, 1.7294000387191772, 1.7294000387191772, 1.7294000387191772, 1.7294000387191772, 1.7294000387191772, 1.7294000387191772, 1.7294000387191772, 1.7294000387191772, 1.7294000387191772, 1.7294000387191772, 1.7294000387191772, 1.7294000387191772, 1.7294000387191772, 1.7294000387191772, 1.7072999477386475, 1.6133999824523926, 1.6770000457763672, 1.6770000457763672, 1.6750999689102173, 1.5640000104904175, 1.5455000400543213, 1.5254000425338745, 1.4536999464035034, 1.492900013923645, 1.3610999584197998, 1.5160000324249268, 1.5126999616622925, 1.565000057220459, 1.6303000450134277, 1.4945000410079956, 1.5413000583648682, 1.6053999662399292, 1.1784000396728516, 1.4205000400543213, 1.1102999448776245, 1.1497999429702759, 1.243899941444397, 1.3320000171661377, 0.7613999843597412, 0.10930000245571136, 1.2595000267028809, 0.22949999570846558, 0.7663999795913696, 0.7822999954223633, 0.32820001244544983, 1.1399999856948853, 0.7872999906539917, 0.4584999978542328, 0.5008000135421753, 0.04280000180006027, 0.23800000548362732, 0.43630000948905945, 0.5978999733924866, 0.9860000014305115, 0.7085999846458435, 0.2526000142097473, 0.030300000682473183, 2.644399881362915, 2.583199977874756, 2.583199977874756, 2.583199977874756, 2.583199977874756, 2.583199977874756, 2.583199977874756, 2.583199977874756, 2.4735000133514404, 2.4735000133514404, 2.4735000133514404, 2.4735000133514404, 2.4735000133514404, 2.4735000133514404, 2.4735000133514404, 2.4735000133514404, 2.4735000133514404, 2.4735000133514404, 2.4735000133514404, 2.4735000133514404, 2.4735000133514404, 2.4735000133514404, 2.3487000465393066, 2.3324999809265137, 2.3285999298095703, 2.225100040435791, 2.219099998474121, 2.2167999744415283, 2.2167999744415283, 2.2167999744415283, 2.2167999744415283, 2.2167999744415283, 2.2167999744415283, 2.173799991607666, 2.1737000942230225, 2.1623001098632812, 2.036900043487549, 1.855299949645996, 1.7618000507354736, 1.4357999563217163, 1.5189000368118286, 1.9718999862670898, 1.9692000150680542, 1.9648000001907349, 0.9641000032424927, 1.1764999628067017, 1.2375999689102173, 1.8660999536514282, 1.819700002670288, -0.4496999979019165, 0.8557999730110168, 1.7497999668121338, 0.8083000183105469, 1.4656000137329102, 0.6636999845504761, -0.5906000137329102, 0.34940001368522644, -0.5045999884605408, 0.46320000290870667, -0.4672999978065491, 1.5973999500274658, 2.0708000659942627, 2.0536000728607178, 2.0536000728607178, 2.0302000045776367, 2.030100107192993, 1.9962999820709229, 1.9962999820709229, 1.9962999820709229, 1.9428999423980713, 1.9428999423980713, 1.9428999423980713, 1.9428999423980713, 1.9428999423980713, 1.9428999423980713, 1.9428999423980713, 1.9428999423980713, 1.9428999423980713, 1.9428000450134277, 1.9282000064849854, 1.8461999893188477, 1.8461999893188477, 1.8461999893188477, 1.8461999893188477, 1.8461999893188477, 1.8461999893188477, 1.8461999893188477, 1.8461999893188477, 1.8461999893188477, 1.8461999893188477, 1.8461999893188477, 1.8461999893188477, 1.8461999893188477, 1.8329999446868896, 1.8461999893188477, 1.8461999893188477, 1.812999963760376, 1.8075000047683716, 1.809000015258789, 1.7589999437332153, 1.7556999921798706, 1.693600058555603, 1.7021000385284424, 1.7526999711990356, 1.783400058746338, 1.5793999433517456, 1.6519999504089355, 1.5688999891281128, 1.5257999897003174, 1.5210000276565552, 0.026900000870227814, 0.9147999882698059, 1.6864999532699585, 0.919700026512146, 1.2375999689102173, 1.3414000272750854, 1.3167999982833862, -0.1347000002861023, 0.029400000348687172, 0.5539000034332275, 0.8885999917984009, 1.1162999868392944, 0.16539999842643738, 0.053199999034404755, -0.3628000020980835, -0.029400000348687172, -0.05090000107884407, -0.1995999962091446, 0.828499972820282, 2.503000020980835, 2.503000020980835, 2.503000020980835, 2.4442999362945557, 2.4442999362945557, 2.4442999362945557, 2.4442999362945557, 2.4296998977661133, 2.416100025177002, 2.3747000694274902, 2.338599920272827, 2.338599920272827, 2.338599920272827, 2.338599920272827, 2.338599920272827, 2.338599920272827, 2.338599920272827, 2.338599920272827, 2.338599920272827, 2.338599920272827, 2.338599920272827, 2.338599920272827, 2.338599920272827, 2.338599920272827, 2.338599920272827, 2.338599920272827, 2.338599920272827, 2.338599920272827, 2.338599920272827, 2.3385000228881836, 2.3385000228881836, 2.3385000228881836, 2.302999973297119, 2.3111000061035156, 2.3092000484466553, 2.244999885559082, 1.948099970817566, 1.8861000537872314, 2.1937999725341797, 1.8365000486373901, 1.7654000520706177, 1.997499942779541, 1.9494999647140503, 1.8969999551773071, 2.044600009918213, 1.4606000185012817, 1.993399977684021, 1.4663000106811523, 0.40209999680519104, 1.8595000505447388, 1.2130000591278076, 1.8336999416351318, 0.8413000106811523, -0.11810000240802765, 0.12759999930858612, 0.2003999948501587, -1.024999976158142, 0.1298999935388565, 0.3271999955177307, -0.08079999685287476, 0.3709999918937683, -0.5479000210762024, 2.1709001064300537, 2.1709001064300537, 2.1709001064300537, 2.1470000743865967, 2.1470000743865967, 2.1470000743865967, 2.1124000549316406, 2.1124000549316406, 2.1124000549316406, 2.1124000549316406, 2.1124000549316406, 2.0901999473571777, 2.058000087738037, 2.058000087738037, 2.058000087738037, 2.058000087738037, 2.058000087738037, 2.058000087738037, 2.058000087738037, 2.0420000553131104, 2.041599988937378, 2.0002999305725098, 1.999500036239624, 1.9595999717712402, 1.9595999717712402, 1.9595999717712402, 1.9595999717712402, 1.9595999717712402, 1.9595999717712402, 1.9595999717712402, 1.9377000331878662, 1.9595999717712402, 1.9595999717712402, 1.9595999717712402, 1.8410999774932861, 1.9595999717712402, 1.9595999717712402, 1.9595999717712402, 1.9595999717712402, 1.7623000144958496, 1.8436000347137451, 1.6466000080108643, 1.8285000324249268, 1.1263999938964844, 1.5450999736785889, 0.3321000039577484, 1.4076999425888062, 1.2441999912261963, 1.0605000257492065, 0.8966000080108643, 0.41499999165534973, 0.31859999895095825, 1.2232999801635742, 0.6401000022888184, -0.004000000189989805, 0.5763000249862671, 0.5831999778747559, 0.27399998903274536, 0.8729000091552734, 0.6407999992370605, -0.09650000184774399, 0.10029999911785126, 0.2896000146865845, 0.7181000113487244, 0.14339999854564667, 2.210400104522705, 2.17549991607666, 2.1754000186920166, 2.1754000186920166, 2.120500087738037, 2.120500087738037, 2.120500087738037, 2.021199941635132, 2.021199941635132, 2.021199941635132, 2.021199941635132, 2.021199941635132, 2.021199941635132, 2.021199941635132, 2.021199941635132, 2.021199941635132, 2.021199941635132, 2.021199941635132, 2.021199941635132, 2.021199941635132, 2.021199941635132, 2.021199941635132, 2.021199941635132, 2.021199941635132, 2.021199941635132, 2.021199941635132, 2.021199941635132, 2.0211000442504883, 2.0211000442504883, 1.967900037765503, 1.8671000003814697, 1.8853000402450562, 1.8188999891281128, 1.9193999767303467, 1.885699987411499, 1.6096999645233154, 1.676300048828125, 1.4780000448226929, 1.8667999505996704, 1.6624000072479248, 1.5187000036239624, 1.3580000400543213, 0.7016000151634216, 1.094499945640564, 1.1778000593185425, 1.7520999908447266, 1.717900037765503, 1.7089999914169312, 0.6807000041007996, 0.7702000141143799, 1.6646000146865845, 0.8787000179290771, 0.6459000110626221, -0.288100004196167, 0.5293999910354614, 0.4699999988079071, 1.3042999505996704, 0.31450000405311584, 0.41780000925064087, -0.35679998993873596, -0.26109999418258667, 1.2269999980926514, 0.3750999867916107, -0.032499998807907104, 0.10750000178813934, -0.6690000295639038, 0.12309999763965607, 2.293299913406372, 2.233599901199341, 2.233599901199341, 2.233599901199341, 2.233599901199341, 2.178100109100342, 2.178100109100342, 2.178100109100342, 2.1112000942230225, 2.077899932861328, 2.077899932861328, 2.077899932861328, 2.077899932861328, 2.077899932861328, 2.077899932861328, 2.077899932861328, 2.077899932861328, 2.077899932861328, 2.077899932861328, 2.077899932861328, 2.077899932861328, 2.077899932861328, 2.077899932861328, 2.0778000354766846, 2.061300039291382, 2.024399995803833, 2.024399995803833, 2.0078001022338867, 1.951799988746643, 1.8639999628067017, 1.7862999439239502, 1.6410000324249268, 1.1095000505447388, 1.6938999891281128, 1.312999963760376, 1.7584999799728394, 1.74399995803833, 1.5313999652862549, 1.4097000360488892, 1.5430999994277954, 1.8097000122070312, 1.4537999629974365, 0.9189000129699707, 0.9743000268936157, 1.5377000570297241, 1.763700008392334, 1.5262000560760498, -0.19439999759197235, 0.609000027179718, 1.2323999404907227, 0.8364999890327454, 0.3246000111103058, 1.0895999670028687, 0.6317999958992004, -0.07620000094175339, 1.1058000326156616, 1.0311000347137451, 0.2328999936580658, 0.8604999780654907, 0.7699999809265137, -0.5457000136375427, -0.1559000015258789, 0.5322999954223633, 1.009600043296814], \"logprob\": [30.0, 29.0, 28.0, 27.0, 26.0, 25.0, 24.0, 23.0, 22.0, 21.0, 20.0, 19.0, 18.0, 17.0, 16.0, 15.0, 14.0, 13.0, 12.0, 11.0, 10.0, 9.0, 8.0, 7.0, 6.0, 5.0, 4.0, 3.0, 2.0, 1.0, -4.748799800872803, -5.429699897766113, -5.429699897766113, -5.429699897766113, -5.7093000411987305, -5.7093000411987305, -5.7093000411987305, -5.7093000411987305, -5.7093000411987305, -6.098800182342529, -6.098800182342529, -6.098800182342529, -6.098800182342529, -6.098800182342529, -6.098800182342529, -6.098800182342529, -6.098800182342529, -6.098800182342529, -6.098800182342529, -6.098800182342529, -6.098800182342529, -6.098800182342529, -6.098800182342529, -6.098800182342529, -6.098800182342529, -6.098800182342529, -6.098800182342529, -6.098899841308594, -6.098999977111816, -6.099100112915039, -5.429699897766113, -5.21150016784668, -5.7093000411987305, -5.429699897766113, -5.429699897766113, -5.429699897766113, -5.032400131225586, -4.632400035858154, -5.440400123596191, -4.921899795532227, -5.229300022125244, -4.652699947357178, -4.611599922180176, -5.7093000411987305, -4.919300079345703, -4.972799777984619, -5.0914998054504395, -5.7093000411987305, -5.032400131225586, -5.429699897766113, -5.429699897766113, -4.451600074768066, -5.032400131225586, -4.291800022125244, -5.429699897766113, -5.032400131225586, -5.172800064086914, -5.4552998542785645, -5.2453999519348145, -5.2916998863220215, -5.40910005569458, -5.406199932098389, -5.429699897766113, -4.722899913787842, -5.039599895477295, -5.735099792480469, -5.858399868011475, -5.858399868011475, -5.858399868011475, -5.858399868011475, -5.858399868011475, -6.010200023651123, -6.010200023651123, -6.189199924468994, -6.189199924468994, -6.189199924468994, -6.189199924468994, -6.189199924468994, -6.189199924468994, -6.189199924468994, -6.189199924468994, -6.189300060272217, -6.189300060272217, -6.189300060272217, -6.1894001960754395, -6.189300060272217, -6.40749979019165, -6.40749979019165, -6.40749979019165, -6.40749979019165, -6.40749979019165, -6.40749979019165, -6.40749979019165, -3.4709999561309814, -3.8046000003814697, -4.637199878692627, -5.055099964141846, -4.169400215148926, -5.858399868011475, -6.010200023651123, -4.27209997177124, -4.819300174713135, -4.347400188446045, -4.911300182342529, -5.039599895477295, -4.388199806213379, -5.253699779510498, -4.675000190734863, -5.505899906158447, -5.0742998123168945, -3.5016000270843506, -4.881800174713135, -5.009099960327148, -4.03980016708374, -5.044099807739258, -4.405300140380859, -4.966400146484375, -5.131100177764893, -4.821000099182129, -5.505899906158447, -5.037399768829346, -5.314499855041504, -4.839600086212158, -5.395599842071533, -5.1392998695373535, -5.076399803161621, -5.1996002197265625, -5.082900047302246, -5.082900047302246, -5.082900047302246, -5.082900047302246, -5.082900047302246, -5.082900047302246, -5.472300052642822, -5.472300052642822, -5.472300052642822, -5.472300052642822, -5.472300052642822, -5.472499847412109, -4.60129976272583, -5.082900047302246, -4.806099891662598, -6.11899995803833, -6.11899995803833, -6.11899995803833, -6.11899995803833, -6.11899995803833, -6.11899995803833, -6.11899995803833, -6.11899995803833, -6.11899995803833, -6.11899995803833, -6.11899995803833, -6.11899995803833, -6.11899995803833, -6.11899995803833, -6.11899995803833, -6.11899995803833, -6.11899995803833, -6.11899995803833, -4.027599811553955, -4.405900001525879, -5.472300052642822, -4.803299903869629, -4.352799892425537, -4.122900009155273, -4.900899887084961, -3.8433001041412354, -5.706900119781494, -5.1427001953125, -4.6774001121521, -5.472300052642822, -5.231400012969971, -5.20989990234375, -5.082900047302246, -4.73829984664917, -5.020699977874756, -5.357699871063232, -5.3983001708984375, -5.418300151824951, -5.452000141143799, -5.472300052642822, -5.472300052642822, -5.616799831390381, -5.616799831390381, -6.114699840545654, -6.114699840545654, -6.114699840545654, -6.114699840545654, -6.114699840545654, -6.114699840545654, -6.504199981689453, -6.504199981689453, -6.504199981689453, -6.504199981689453, -6.504199981689453, -6.504199981689453, -6.504199981689453, -6.504199981689453, -6.504199981689453, -6.504199981689453, -6.504199981689453, -6.504199981689453, -6.504199981689453, -6.504199981689453, -6.504199981689453, -6.504199981689453, -6.504199981689453, -6.504199981689453, -6.504199981689453, -6.504199981689453, -6.504199981689453, -6.504199981689453, -6.504199981689453, -5.835100173950195, -4.9517998695373535, -5.835100173950195, -5.835100173950195, -5.837100028991699, -4.599800109863281, -4.839300155639648, -5.037799835205078, -4.813700199127197, -5.154200077056885, -4.933499813079834, -5.616799831390381, -5.616799831390381, -5.835100173950195, -6.114699840545654, -5.61899995803833, -5.835100173950195, -6.114699840545654, -4.857699871063232, -5.616799831390381, -4.752799987792969, -4.896599769592285, -5.15500020980835, -5.437699794769287, -4.531300067901611, -3.718400001525879, -5.43779993057251, -4.250899791717529, -4.933499813079834, -4.952600002288818, -4.473700046539307, -5.369999885559082, -5.154200077056885, -4.981900215148926, -5.045899868011475, -4.770400047302246, -5.024899959564209, -5.13730001449585, -5.285900115966797, -5.430699825286865, -5.372600078582764, -5.344699859619141, -5.331099987030029, -5.205599784851074, -5.485199928283691, -5.485199928283691, -5.485199928283691, -5.485199928283691, -5.485199928283691, -5.485199928283691, -5.485199928283691, -5.87470006942749, -5.87470006942749, -5.87470006942749, -5.87470006942749, -5.87470006942749, -5.87470006942749, -5.87470006942749, -5.874800205230713, -5.874800205230713, -5.874800205230713, -5.874800205230713, -5.874800205230713, -5.874800205230713, -5.874800205230713, -5.485199928283691, -5.485199928283691, -5.485199928283691, -4.808300018310547, -5.589000225067139, -6.521399974822998, -6.521399974822998, -6.521399974822998, -6.521399974822998, -6.521399974822998, -6.521399974822998, -5.87470006942749, -5.874800205230713, -5.87470006942749, -5.205699920654297, -4.276599884033203, -4.663700103759766, -4.588699817657471, -4.987400054931641, -5.485199928283691, -5.485199928283691, -5.485199928283691, -4.735799789428711, -4.987400054931641, -5.057000160217285, -5.485300064086914, -5.485199928283691, -4.277400016784668, -4.985000133514404, -5.499199867248535, -5.066400051116943, -5.380099773406982, -5.119500160217285, -5.071100234985352, -5.312900066375732, -5.306399822235107, -5.420599937438965, -5.447299957275391, -5.485199928283691, -5.181000232696533, -5.332799911499023, -5.332799911499023, -5.511899948120117, -5.51200008392334, -5.730100154876709, -5.730100154876709, -5.730100154876709, -6.009699821472168, -6.009699821472168, -6.009699821472168, -6.009699821472168, -6.009699821472168, -6.009699821472168, -6.009699821472168, -6.009699821472168, -6.009699821472168, -6.0100998878479, -5.332799911499023, -6.399199962615967, -6.399199962615967, -6.399199962615967, -6.399199962615967, -6.399199962615967, -6.399199962615967, -6.399199962615967, -6.399199962615967, -6.399199962615967, -6.399199962615967, -6.399199962615967, -6.399199962615967, -6.399199962615967, -5.332799911499023, -6.399199962615967, -6.399199962615967, -5.049200057983398, -5.332799911499023, -5.730100154876709, -5.181000232696533, -5.511899948120117, -5.181000232696533, -5.332799911499023, -5.730199813842773, -6.009699821472168, -5.181000232696533, -5.511899948120117, -5.206999778747559, -5.181000232696533, -5.511899948120117, -3.800800085067749, -4.82859992980957, -5.730100154876709, -5.0152997970581055, -5.377999782562256, -5.511899948120117, -5.511899948120117, -4.615099906921387, -4.78380012512207, -5.181000232696533, -5.332799911499023, -5.428899765014648, -5.196000099182129, -5.213099956512451, -5.164700031280518, -5.3221001625061035, -5.352200031280518, -5.461900234222412, -5.511899948120117, -5.310500144958496, -5.310500144958496, -5.310500144958496, -5.590099811553955, -5.590099811553955, -5.590099811553955, -5.590099811553955, -4.9131999015808105, -4.914299964904785, -5.092299938201904, -5.979599952697754, -5.979599952697754, -5.979599952697754, -5.979599952697754, -5.979599952697754, -5.979599952697754, -5.979599952697754, -5.979599952697754, -5.979599952697754, -5.979599952697754, -5.979599952697754, -5.979599952697754, -5.979599952697754, -5.979599952697754, -5.979599952697754, -5.979599952697754, -5.979599952697754, -5.979599952697754, -5.979599952697754, -5.979599952697754, -5.979599952697754, -5.979599952697754, -4.915800094604492, -5.3105998039245605, -5.310500144958496, -4.780799865722656, -4.103099822998047, -4.772900104522705, -5.593200206756592, -4.767300128936768, -4.651299953460693, -5.310500144958496, -5.310500144958496, -5.310500144958496, -5.590099811553955, -4.928400039672852, -5.590099811553955, -5.124899864196777, -4.411099910736084, -5.590099811553955, -5.092299938201904, -5.590099811553955, -4.893599987030029, -4.598599910736084, -4.83050012588501, -5.092299938201904, -4.852700233459473, -5.310500144958496, -5.352799892425537, -5.343100070953369, -5.412199974060059, -5.349699974060059, -5.23390007019043, -5.23390007019043, -5.23390007019043, -5.412899971008301, -5.412899971008301, -5.412899971008301, -5.631199836730957, -5.631199836730957, -5.631199836730957, -5.631199836730957, -5.631199836730957, -4.644400119781494, -5.910799980163574, -5.910799980163574, -5.910799980163574, -5.910799980163574, -5.910799980163574, -5.910799980163574, -5.910799980163574, -5.27810001373291, -4.729599952697754, -4.4695000648498535, -5.412899971008301, -6.300300121307373, -6.300300121307373, -6.300300121307373, -6.300300121307373, -6.300300121307373, -6.300300121307373, -6.300300121307373, -5.631199836730957, -6.300300121307373, -6.300300121307373, -6.300300121307373, -4.39900016784668, -6.300300121307373, -6.300300121307373, -6.300300121307373, -6.300300121307373, -5.631199836730957, -5.910799980163574, -5.295199871063232, -5.910799980163574, -4.4710001945495605, -5.412899971008301, -3.495699882507324, -5.23390007019043, -5.082099914550781, -4.906199932098389, -4.752600193023682, -4.543099880218506, -4.48330020904541, -5.23390007019043, -4.800300121307373, -4.484499931335449, -4.970399856567383, -5.079100131988525, -4.98829984664917, -5.2683000564575195, -5.23390007019043, -5.076499938964844, -5.165999889373779, -5.283999919891357, -5.363100051879883, -5.372900009155273, -5.35860013961792, -5.5767998695373535, -5.5767998695373535, -5.576900005340576, -5.856400012969971, -5.856400012969971, -5.856400012969971, -6.2459001541137695, -6.2459001541137695, -6.2459001541137695, -6.2459001541137695, -6.2459001541137695, -6.2459001541137695, -6.2459001541137695, -6.2459001541137695, -6.2459001541137695, -6.2459001541137695, -6.2459001541137695, -6.2459001541137695, -6.2459001541137695, -6.2459001541137695, -6.2459001541137695, -6.2459001541137695, -6.2459001541137695, -6.2459001541137695, -6.2459001541137695, -6.246099948883057, -6.246099948883057, -6.246300220489502, -5.5767998695373535, -4.7307000160217285, -5.35860013961792, -5.35860013961792, -5.856400012969971, -5.856400012969971, -5.179500102996826, -5.365900039672852, -4.895899772644043, -5.856400012969971, -5.39109992980957, -5.193999767303467, -4.895699977874756, -4.111599922180176, -4.746300220489502, -5.027699947357178, -5.856400012969971, -5.856400012969971, -5.856400012969971, -4.618800163269043, -4.82480001449585, -5.856400012969971, -5.058800220489502, -4.927700042724609, -4.115799903869629, -4.831900119781494, -5.046299934387207, -5.5767998695373535, -5.125899791717529, -5.179500102996826, -4.837200164794922, -4.913400173187256, -5.5767998695373535, -5.368299961090088, -5.295400142669678, -5.439199924468994, -5.470799922943115, -5.5767998695373535, -5.130199909210205, -5.527500152587891, -5.527500152587891, -5.527500152587891, -5.527599811553955, -5.80709981918335, -5.80709981918335, -5.807199954986572, -5.309299945831299, -6.196599960327148, -6.196599960327148, -6.196599960327148, -6.196599960327148, -6.196599960327148, -6.196599960327148, -6.196599960327148, -6.196599960327148, -6.196599960327148, -6.196599960327148, -6.196599960327148, -6.196599960327148, -6.196700096130371, -6.196800231933594, -6.196800231933594, -5.527500152587891, -5.527500152587891, -5.527500152587891, -5.5929999351501465, -5.80709981918335, -6.196599960327148, -4.539999961853027, -4.891499996185303, -3.848599910736084, -5.309299945831299, -4.550099849700928, -5.527500152587891, -5.527500152587891, -5.221099853515625, -5.047500133514404, -5.309299945831299, -5.80709981918335, -5.309299945831299, -4.730199813842773, -4.808899879455566, -5.527599811553955, -5.80709981918335, -5.527500152587891, -4.022200107574463, -4.831399917602539, -5.309299945831299, -5.130199909210205, -4.938300132751465, -5.309299945831299, -5.1107001304626465, -4.889400005340576, -5.32420015335083, -5.309299945831299, -5.128399848937988, -5.309299945831299, -5.3480000495910645, -5.19789981842041, -5.457200050354004, -5.519000053405762, -5.527500152587891]}, \"token.table\": {\"Topic\": [1, 2, 3, 4, 5, 6, 7, 8, 9, 10, 1, 2, 3, 4, 6, 7, 8, 9, 10, 2, 4, 6, 8, 10, 6, 1, 2, 3, 10, 3, 6, 1, 2, 2, 6, 1, 4, 6, 8, 3, 9, 7, 4, 2, 5, 1, 2, 3, 8, 9, 10, 3, 3, 2, 3, 6, 2, 1, 5, 6, 5, 5, 4, 8, 10, 4, 5, 6, 10, 10, 6, 2, 2, 4, 6, 1, 2, 4, 5, 8, 9, 6, 2, 10, 1, 4, 6, 7, 8, 4, 5, 2, 4, 6, 1, 2, 5, 9, 9, 1, 4, 5, 7, 3, 4, 5, 10, 1, 3, 6, 7, 9, 8, 1, 5, 7, 10, 1, 10, 1, 3, 6, 8, 10, 1, 6, 6, 4, 8, 10, 1, 8, 3, 5, 6, 7, 8, 1, 4, 9, 10, 7, 1, 6, 1, 8, 8, 7, 10, 3, 5, 6, 6, 3, 4, 5, 6, 5, 6, 8, 1, 5, 3, 4, 3, 3, 10, 1, 4, 6, 2, 10, 2, 4, 5, 6, 8, 9, 10, 10, 10, 2, 3, 5, 7, 10, 3, 9, 5, 6, 1, 2, 4, 5, 6, 8, 9, 1, 2, 7, 8, 9, 10, 2, 2, 8, 10, 5, 8, 1, 2, 6, 8, 9, 10, 1, 3, 4, 10, 1, 5, 1, 1, 2, 3, 4, 6, 8, 10, 2, 4, 2, 6, 5, 6, 8, 7, 5, 10, 2, 6, 8, 9, 10, 6, 10, 1, 4, 7, 9, 10, 9, 1, 2, 3, 4, 5, 6, 7, 8, 9, 10, 3, 5, 6, 2, 4, 5, 6, 7, 8, 9, 10, 4, 5, 4, 5, 9, 1, 2, 3, 4, 5, 6, 7, 8, 9, 10, 2, 4, 5, 3, 5, 8, 8, 1, 3, 3, 2, 4, 5, 9, 10, 5, 9, 1, 2, 6, 8, 9, 5, 1, 3, 7, 8, 9, 10, 3, 1, 2, 7, 8, 9, 10, 1, 4, 10, 7, 6, 7, 8, 9, 10, 6, 9, 9, 7, 4, 6, 8, 10, 9, 8, 2, 9, 5, 10, 10, 1, 8, 9, 2, 6, 9, 1, 7, 2, 2, 1, 2, 4, 5, 6, 8, 9, 10, 1, 6, 2, 4, 6, 8, 1, 1, 4, 6, 8, 8, 1, 8, 4, 6, 9, 1, 2, 4, 8, 10, 4, 9, 4, 8, 1, 2, 4, 7, 10, 8, 3, 8, 10, 3, 8, 3, 5, 4, 5, 9, 5, 7, 3, 6, 1, 2, 4, 5, 6, 9, 4, 2, 5, 6, 2, 6, 7, 9, 10, 4, 7, 8, 9, 10, 1, 4, 6, 8, 9, 1, 2, 2, 10, 2, 5, 1, 7, 10, 4, 10, 6, 3, 6, 8, 6, 4, 5, 6, 5, 9, 1, 2, 4, 6, 7, 8, 9, 10, 8, 6, 3, 7, 8, 1, 2, 4, 6, 8, 9, 10, 2, 4, 6, 8, 9, 10, 1, 2, 4, 5, 6, 7, 10, 9, 10, 7, 3, 4, 9, 4, 6, 8, 9, 1, 4, 6, 10, 2, 2, 4, 5, 6, 7, 9, 10, 2, 3, 4, 6, 7, 8, 9, 10, 2, 3, 4, 5, 6, 8, 9, 10, 1, 2, 9, 1, 1, 2, 4, 8, 9, 5, 8, 8, 4, 2, 4, 7, 8, 4, 5, 6, 9, 4, 1, 2, 8, 10, 7, 4, 6, 6, 9, 1, 4, 4, 4, 2, 7, 1, 10, 7, 9, 7, 7, 4, 4, 6, 7, 8, 1, 6, 9, 10, 2, 9, 9, 6, 2, 7, 1, 6, 7, 10, 9, 4, 5, 4, 1, 2, 3, 4, 5, 8, 2, 7, 1, 2, 3, 4, 5, 7, 8, 9, 10, 7, 3, 7, 4, 5, 6, 9, 2, 3, 4, 6, 9, 10, 9, 2, 5, 8, 9, 10, 3, 4, 6, 7, 8, 4, 9, 10, 8, 3, 4, 6, 10, 1, 2, 4, 6, 8, 9, 10, 1, 2, 3, 4, 6, 7, 8, 9, 10, 7, 8, 1, 4, 6, 8, 9, 1, 6, 7, 9, 6, 1, 2, 3, 5, 7, 4, 2, 7, 10, 1, 4, 6, 8, 9, 1, 4, 5, 6, 1, 2, 7, 8, 10, 4, 5, 8, 3, 6, 2, 4, 6, 7, 8, 9, 10, 1, 4, 8, 2, 9, 4, 8, 1, 5, 2, 4, 5, 6, 8, 9, 10, 2, 3, 5, 6, 8, 9, 10, 10, 6, 3, 4, 8, 10, 4, 5, 6, 2, 3, 4, 5, 6, 7, 8, 10, 2, 4, 6, 7, 2, 4, 5, 6, 8, 10, 6, 7, 8, 9, 4, 7, 2, 3, 4, 5, 6, 7, 8, 9, 10, 9, 9, 3, 6, 6, 2, 3, 4, 5, 6, 8, 9, 10, 4, 3, 9, 3, 1, 2, 4, 5, 9, 1, 1, 2, 5, 6, 8, 9, 10, 1, 4, 6, 10, 3, 3, 2, 4, 5, 6, 7, 8, 9, 10, 2, 3, 6, 7, 10, 1, 2, 4, 5, 10, 2, 3, 10, 8, 10, 3, 1, 2, 4, 6, 8, 10, 2, 4, 5, 6, 7, 8, 4, 5, 8, 10, 9, 9, 3, 4, 10, 3, 10, 10, 8, 1, 3, 2, 2, 4, 6, 7, 9, 10, 1, 2, 6, 7, 8, 5, 1, 2, 3, 4, 5, 6, 7, 1, 5, 5, 2, 4, 6, 10, 2, 3, 9, 6, 4, 2, 5, 6, 7, 8, 9, 4, 8, 5, 5, 8, 9, 2, 4, 6, 10, 2, 3, 4, 5, 6, 7, 8, 10, 1, 4, 6, 1, 4, 5, 4, 7, 1, 2, 4, 5, 6, 7, 8, 4, 2, 8, 9, 10, 1, 7, 10, 3, 5, 6, 7, 8, 4, 6, 8, 8, 1, 7, 7, 5, 1, 2, 3, 4, 5, 6, 7, 8, 9, 10, 3, 9, 10, 4, 5, 7, 9, 7, 9, 5, 1, 2, 8, 9, 6, 9, 4, 9, 6, 2, 3, 4, 6, 7, 8, 10, 2, 4, 5, 8, 2, 4, 1, 1, 6, 4, 5, 6, 7, 10, 2, 3, 5, 8, 1, 10, 4, 7, 1, 2, 8, 7, 6, 2, 7, 10, 1, 2, 4, 5, 6, 7, 8, 10, 2, 3, 6, 10, 10, 1, 5, 3, 1, 7, 8, 1, 2, 3, 4, 5, 6, 7, 8, 9, 10, 5, 10, 8, 1, 9, 3, 6, 8, 9, 10, 2, 9, 2, 10, 8, 2, 1, 4, 5, 2, 3, 7, 8, 10, 1, 4, 5, 7, 9, 10, 1, 2, 4, 5, 6, 8, 9, 10, 7, 1, 8, 9, 1, 8, 8, 7, 7, 10, 1, 2, 3, 5, 6, 7, 8, 9, 1, 2, 5, 6, 8, 9, 1, 2, 4, 5, 8, 3, 4, 7, 9, 1, 2, 3, 4, 5, 6, 7, 8, 9, 10, 7, 8, 2, 10, 3, 2, 3, 4, 7, 8, 9, 10, 2, 4, 8, 9, 10, 3, 1, 5, 7, 1, 2, 3, 6, 9, 10, 4, 1, 4, 10, 6, 8, 2, 5, 9, 10, 6, 2, 3, 4, 7, 9, 1, 2, 4, 5, 7, 10, 2, 4, 5, 7, 8, 9, 10, 9, 1, 3, 9, 1, 2, 5, 6, 8, 2, 4, 5, 6, 2, 5, 7, 8, 10, 2, 4, 5, 7, 8, 8, 4, 1, 2, 6, 8, 4, 1, 8, 8, 10, 7, 5, 1, 2, 1, 4, 6, 8, 7, 2, 3, 5, 7, 8, 10, 8, 8, 5, 5, 6, 7, 9, 1, 5, 7, 7, 1, 2, 4, 6, 7, 8, 10, 8, 2, 2, 2, 4, 6, 8, 10, 4, 5, 2, 1, 9, 9, 5, 6, 2, 9, 1, 5, 7, 1, 3, 4, 5, 6, 7, 8], \"Freq\": [0.0673624724149704, 0.36375734210014343, 0.013472494669258595, 0.17514242231845856, 0.04041748493909836, 0.08083496987819672, 0.04041748493909836, 0.1347249448299408, 0.05388997867703438, 0.04041748493909836, 0.06409014016389847, 0.3845408260822296, 0.04272675886750221, 0.17090703547000885, 0.06409014016389847, 0.021363379433751106, 0.04272675886750221, 0.08545351773500443, 0.12818028032779694, 0.30558860301971436, 0.15279430150985718, 0.07639715075492859, 0.15279430150985718, 0.22919146716594696, 0.9439047574996948, 0.8873060941696167, 0.32308429479599, 0.161542147397995, 0.484626442193985, 0.7648460865020752, 0.6294266581535339, 0.887244462966919, 0.9545606374740601, 0.9545588493347168, 0.8433566689491272, 0.1256750226020813, 0.1256750226020813, 0.6283751130104065, 0.1256750226020813, 0.8311180472373962, 0.8618510365486145, 0.9069503545761108, 0.8225111961364746, 0.9545619487762451, 0.46736207604408264, 0.04318403825163841, 0.3022882640361786, 0.12955211102962494, 0.3022882640361786, 0.04318403825163841, 0.21592019498348236, 0.7648462057113647, 0.7648458480834961, 0.2809774875640869, 0.2809774875640869, 0.2809774875640869, 0.8534744381904602, 0.2141169011592865, 0.10705845057964325, 0.6423507332801819, 0.46733713150024414, 0.6901935935020447, 0.31843435764312744, 0.15921717882156372, 0.47765153646469116, 0.19117215275764465, 0.3823443055152893, 0.19117215275764465, 0.19117215275764465, 0.8683130145072937, 0.9439029693603516, 0.9212451577186584, 0.20252151787281036, 0.6075645685195923, 0.943902313709259, 0.09105703979730606, 0.09105703979730606, 0.18211407959461212, 0.09105703979730606, 0.09105703979730606, 0.4552851915359497, 0.893059492111206, 0.21075761318206787, 0.6322728395462036, 0.15682432055473328, 0.5488851070404053, 0.07841216027736664, 0.07841216027736664, 0.15682432055473328, 0.8333461880683899, 0.706515371799469, 0.20255941152572632, 0.607678234577179, 0.9366897344589233, 0.19660013914108276, 0.19660013914108276, 0.09830006957054138, 0.4915003478527069, 0.861855685710907, 0.13181477785110474, 0.3954443633556366, 0.2636295557022095, 0.13181477785110474, 0.15142320096492767, 0.4542696177959442, 0.15142320096492767, 0.15142320096492767, 0.3057149350643158, 0.1019049733877182, 0.3057149350643158, 0.1019049733877182, 0.2038099467754364, 0.8556144833564758, 0.12452590465545654, 0.12452590465545654, 0.6226295232772827, 0.12452590465545654, 0.5664728283882141, 0.3776485323905945, 0.15348295867443085, 0.07674147933721542, 0.23022443056106567, 0.3069659173488617, 0.3069659173488617, 0.887244462966919, 0.943903386592865, 0.943902313709259, 0.35977116227149963, 0.5396567583084106, 0.779394268989563, 0.8872470855712891, 0.6395246982574463, 0.232005774974823, 0.1160028874874115, 0.3480086624622345, 0.1160028874874115, 0.232005774974823, 0.12597869336605072, 0.5039147734642029, 0.12597869336605072, 0.25195738673210144, 0.6828644275665283, 0.887244462966919, 0.8433563709259033, 0.21435581147670746, 0.6430674195289612, 0.6395246982574463, 0.9069591164588928, 0.6501253843307495, 0.8310999870300293, 0.14325518906116486, 0.7162759304046631, 0.8433566689491272, 0.5965789556503296, 0.19885964691638947, 0.19885964691638947, 0.8433568477630615, 0.46733811497688293, 0.8433562517166138, 0.8556144833564758, 0.34629732370376587, 0.34629732370376587, 0.5385161638259888, 0.8333472013473511, 0.7648460865020752, 0.7648460865020752, 0.8683283925056458, 0.2715555429458618, 0.181037038564682, 0.5431110858917236, 0.8823152184486389, 0.06302251666784286, 0.8004075884819031, 0.023200219497084618, 0.011600109748542309, 0.023200219497084618, 0.011600109748542309, 0.0696006640791893, 0.046400438994169235, 0.8682402968406677, 0.7794209122657776, 0.28729379177093506, 0.19152919948101044, 0.09576459974050522, 0.09576459974050522, 0.3830583989620209, 0.5385498404502869, 0.7725420594215393, 0.46732521057128906, 0.8347387909889221, 0.2519594728946686, 0.18896961212158203, 0.18896961212158203, 0.06298986822366714, 0.06298986822366714, 0.1259797364473343, 0.06298986822366714, 0.043969448655843735, 0.6155722737312317, 0.043969448655843735, 0.08793889731168747, 0.1319083422422409, 0.043969448655843735, 0.9545700550079346, 0.9545598030090332, 0.18478897213935852, 0.7391558885574341, 0.6901935935020447, 0.9096291661262512, 0.1004723310470581, 0.5023616552352905, 0.05023616552352905, 0.05023616552352905, 0.1004723310470581, 0.2009446620941162, 0.29168111085891724, 0.058336224406957626, 0.5250260233879089, 0.11667244881391525, 0.8872448205947876, 0.46735191345214844, 0.887244462966919, 0.0686282142996788, 0.2058846354484558, 0.1372564285993576, 0.1372564285993576, 0.0686282142996788, 0.1372564285993576, 0.2745128571987152, 0.20252196490764618, 0.6075658798217773, 0.7656217217445374, 0.12760362029075623, 0.38336923718452454, 0.19168461859226227, 0.38336923718452454, 0.9069492220878601, 0.6901935935020447, 0.779394805431366, 0.6994761824607849, 0.038859784603118896, 0.07771956920623779, 0.11657936125993729, 0.07771956920623779, 0.8433569073677063, 0.8682390451431274, 0.3286842107772827, 0.10956139862537384, 0.21912279725074768, 0.21912279725074768, 0.21912279725074768, 0.6447526216506958, 0.05086294934153557, 0.3407817482948303, 0.010172589682042599, 0.14241625368595123, 0.03560406342148781, 0.1169847846031189, 0.025431474670767784, 0.13732996582984924, 0.07120812684297562, 0.07120812684297562, 0.7648460865020752, 0.5445802807807922, 0.2722901403903961, 0.13816365599632263, 0.13816365599632263, 0.03454091399908066, 0.27632731199264526, 0.03454091399908066, 0.10362274199724197, 0.13816365599632263, 0.10362274199724197, 0.27384939789772034, 0.5476987957954407, 0.8333461880683899, 0.2636563181877136, 0.5273126363754272, 0.05450468882918358, 0.24527108669281006, 0.013626172207295895, 0.1362617164850235, 0.02725234441459179, 0.12263554334640503, 0.09538320451974869, 0.05450468882918358, 0.19076640903949738, 0.08175703138113022, 0.8151490092277527, 0.8333465456962585, 0.4673248827457428, 0.7648460865020752, 0.4673248827457428, 0.855614423751831, 0.7658651471138, 0.8898289799690247, 0.831099808216095, 0.7648458480834961, 0.5032750368118286, 0.0915045514702797, 0.22876137495040894, 0.13725683093070984, 0.04575227573513985, 0.34234488010406494, 0.34234488010406494, 0.11501829326152802, 0.5750914812088013, 0.11501829326152802, 0.15335772931575775, 0.03833943232893944, 0.7065245509147644, 0.12174683064222336, 0.12174683064222336, 0.12174683064222336, 0.12174683064222336, 0.12174683064222336, 0.48698732256889343, 0.7648460865020752, 0.2543969452381134, 0.5087938904762268, 0.05087938904762268, 0.05087938904762268, 0.05087938904762268, 0.10175877809524536, 0.256136953830719, 0.3842054307460785, 0.3842054307460785, 0.906948983669281, 0.10775440186262131, 0.21550880372524261, 0.21550880372524261, 0.3232632279396057, 0.10775440186262131, 0.7528030872344971, 0.8618461489677429, 0.8618459105491638, 0.6828644275665283, 0.2096066027879715, 0.419213205575943, 0.10480330139398575, 0.2096066027879715, 0.8575067520141602, 0.8556146621704102, 0.25014904141426086, 0.5002980828285217, 0.2213047593832016, 0.6639142632484436, 0.8682402968406677, 0.21553529798984528, 0.21553529798984528, 0.43107059597969055, 0.6993660926818848, 0.07770734280347824, 0.15541468560695648, 0.1710081398487091, 0.6840325593948364, 0.8151174187660217, 0.9212438464164734, 0.09685157984495163, 0.09685157984495163, 0.24212893843650818, 0.048425789922475815, 0.048425789922475815, 0.19370315968990326, 0.09685157984495163, 0.09685157984495163, 0.8872508406639099, 0.8433569073677063, 0.1359449326992035, 0.543779730796814, 0.1359449326992035, 0.1359449326992035, 0.8872443437576294, 0.5399280190467834, 0.10798560827970505, 0.2159712165594101, 0.2159712165594101, 0.7658653855323792, 0.8872467279434204, 0.8498068451881409, 0.28651174902915955, 0.5730234980583191, 0.09550391882658005, 0.07052085548639297, 0.07052085548639297, 0.14104171097278595, 0.3526042699813843, 0.3526042699813843, 0.833345890045166, 0.8618616461753845, 0.9313777089118958, 0.849808394908905, 0.18541409075260162, 0.18541409075260162, 0.18541409075260162, 0.37082818150520325, 0.8682430386543274, 0.855614423751831, 0.09308025240898132, 0.8377222418785095, 0.09308025240898132, 0.16714829206466675, 0.8357414603233337, 0.7648458480834961, 0.7065151929855347, 0.3806689977645874, 0.3806689977645874, 0.1903344988822937, 0.6901935935020447, 0.9069492220878601, 0.7648458480834961, 0.943902313709259, 0.8872443437576294, 0.9545598030090332, 0.5903850793838501, 0.06559834629297256, 0.1967950314283371, 0.13119669258594513, 0.8333461880683899, 0.9545952677726746, 0.7065150141716003, 0.7528079748153687, 0.7547979354858398, 0.110999695956707, 0.02219993807375431, 0.02219993807375431, 0.06659981608390808, 0.24500370025634766, 0.4083395004272461, 0.16333580017089844, 0.08166790008544922, 0.08166790008544922, 0.16960914433002472, 0.2544137239456177, 0.08480457216501236, 0.4240228831768036, 0.08480457216501236, 0.8872641921043396, 0.9545598030090332, 0.8534702062606812, 0.6501379609107971, 0.6227062344551086, 0.3113531172275543, 0.15103203058242798, 0.6041281223297119, 0.15103203058242798, 0.8333463072776794, 0.9268242716789246, 0.843356728553772, 0.2682594358921051, 0.8047782778739929, 0.6395246982574463, 0.9439020752906799, 0.16462953388690948, 0.32925906777381897, 0.32925906777381897, 0.22302551567554474, 0.4460510313510895, 0.03424866870045662, 0.03424866870045662, 0.27398934960365295, 0.20549200475215912, 0.1712433397769928, 0.13699467480182648, 0.06849733740091324, 0.06849733740091324, 0.8556148409843445, 0.8348021507263184, 0.3763963282108307, 0.3763963282108307, 0.7658651471138, 0.09429647773504257, 0.2828894257545471, 0.14144471287727356, 0.14144471287727356, 0.07072235643863678, 0.16501884162425995, 0.11787059903144836, 0.9545974135398865, 0.448321133852005, 0.08966422826051712, 0.08966422826051712, 0.08966422826051712, 0.26899269223213196, 0.17972025275230408, 0.07188809663057327, 0.17972025275230408, 0.10783214867115021, 0.14377619326114655, 0.10783214867115021, 0.25160834193229675, 0.2592332363128662, 0.5184664726257324, 0.6828644871711731, 0.8311352133750916, 0.9313772320747375, 0.6447528600692749, 0.1254182755947113, 0.5016731023788452, 0.2508365511894226, 0.1254182755947113, 0.19280222058296204, 0.4820055663585663, 0.28920334577560425, 0.09640111029148102, 0.8534788489341736, 0.5511080026626587, 0.12967248260974884, 0.03241812065243721, 0.06483624130487442, 0.09725435823202133, 0.03241812065243721, 0.06483624130487442, 0.2040993720293045, 0.025512421503663063, 0.2040993720293045, 0.025512421503663063, 0.07653725892305374, 0.178586944937706, 0.12756210565567017, 0.15307451784610748, 0.17909254133701324, 0.02984875813126564, 0.1492437869310379, 0.02984875813126564, 0.05969751626253128, 0.2984875738620758, 0.1492437869310379, 0.08954627066850662, 0.7999070882797241, 0.9212446808815002, 0.8618618249893188, 0.7999055981636047, 0.057539377361536026, 0.4603150188922882, 0.057539377361536026, 0.057539377361536026, 0.34523627161979675, 0.4673248827457428, 0.8556144833564758, 0.9096296429634094, 0.8333465456962585, 0.06772813946008682, 0.3386406898498535, 0.40636885166168213, 0.13545627892017365, 0.37176045775413513, 0.07435209304094315, 0.2974083721637726, 0.1487041860818863, 0.8333478569984436, 0.8872458934783936, 0.4562826454639435, 0.07604710757732391, 0.4562826454639435, 0.8213701844215393, 0.5304506421089172, 0.3536337614059448, 0.6981973052024841, 0.2792789041996002, 0.6661539077758789, 0.8333461880683899, 0.8333461880683899, 0.8333461880683899, 0.8840408325195312, 0.9069502949714661, 0.5664728283882141, 0.3776485323905945, 0.9069502949714661, 0.8619677424430847, 0.9069502949714661, 0.9069502949714661, 0.833345890045166, 0.8225111961364746, 0.6344169974327087, 0.15860424935817719, 0.15860424935817719, 0.1994948387145996, 0.0997474193572998, 0.2992422580718994, 0.2992422580718994, 0.20925042033195496, 0.6277512311935425, 0.8618505001068115, 0.8433569073677063, 0.8535073399543762, 0.9069502949714661, 0.10574804246425629, 0.7402362823486328, 0.10574804246425629, 0.10574804246425629, 0.8618465662002563, 0.9313772320747375, 0.4673250913619995, 0.8333461880683899, 0.11925096809864044, 0.39750322699546814, 0.039750322699546814, 0.23850193619728088, 0.07950064539909363, 0.11925096809864044, 0.8534749150276184, 0.8213609457015991, 0.06300526112318039, 0.22051841020584106, 0.09450788795948029, 0.07875657826662064, 0.031502630561590195, 0.07875657826662064, 0.15751315653324127, 0.031502630561590195, 0.2677723467350006, 0.9069591164588928, 0.7648460865020752, 0.9069488048553467, 0.6285483837127686, 0.15713709592819214, 0.15713709592819214, 0.07856854796409607, 0.06653110682964325, 0.06653110682964325, 0.46571776270866394, 0.1330622136592865, 0.06653110682964325, 0.266124427318573, 0.8618618249893188, 0.3244470953941345, 0.06488942354917526, 0.06488942354917526, 0.3893365263938904, 0.12977884709835052, 0.11160791665315628, 0.33482375741004944, 0.22321583330631256, 0.22321583330631256, 0.22321583330631256, 0.1280364990234375, 0.51214599609375, 0.256072998046875, 0.8556148409843445, 0.5385160446166992, 0.554385244846344, 0.138596311211586, 0.277192622423172, 0.20403514802455902, 0.1457393914461136, 0.20403514802455902, 0.029147876426577568, 0.1457393914461136, 0.1748872697353363, 0.08744363486766815, 0.102836973965168, 0.051418486982584, 0.051418486982584, 0.1542554646730423, 0.102836973965168, 0.102836973965168, 0.2570924460887909, 0.1542554646730423, 0.051418486982584, 0.9069495797157288, 0.8556144833564758, 0.23384542763233185, 0.42092177271842957, 0.18707634508609772, 0.04676908627152443, 0.1403072625398636, 0.8872443437576294, 0.5522581338882446, 0.3681720793247223, 0.6447526216506958, 0.9439018368721008, 0.0541207492351532, 0.541207492351532, 0.270603746175766, 0.0541207492351532, 0.0541207492351532, 0.8333464860916138, 0.9545596241950989, 0.21869075298309326, 0.6560722589492798, 0.3962264060974121, 0.19811320304870605, 0.09905660152435303, 0.09905660152435303, 0.19811320304870605, 0.17054186761379242, 0.5968965291976929, 0.17054186761379242, 0.08527093380689621, 0.14814531803131104, 0.6666539311408997, 0.07407265901565552, 0.07407265901565552, 0.07407265901565552, 0.5432429909706116, 0.18108099699020386, 0.18108099699020386, 0.19669999182224274, 0.5900999903678894, 0.6426476240158081, 0.02216026373207569, 0.06648079305887222, 0.02216026373207569, 0.04432052746415138, 0.17728210985660553, 0.04432052746415138, 0.23274224996566772, 0.23274224996566772, 0.46548449993133545, 0.9212436676025391, 0.8618488907814026, 0.8333465456962585, 0.8498068451881409, 0.34628307819366455, 0.34628307819366455, 0.5171691179275513, 0.039782240986824036, 0.039782240986824036, 0.07956448197364807, 0.15912896394729614, 0.07956448197364807, 0.07956448197364807, 0.6253379583358765, 0.029777998104691505, 0.029777998104691505, 0.029777998104691505, 0.05955599620938301, 0.20844599604606628, 0.05955599620938301, 0.8682394027709961, 0.8433563709259033, 0.06187323480844498, 0.06187323480844498, 0.37123942375183105, 0.5568591356277466, 0.14296773076057434, 0.14296773076057434, 0.5718709230422974, 0.5296232104301453, 0.037830229848623276, 0.07566045969724655, 0.037830229848623276, 0.11349069327116013, 0.07566045969724655, 0.037830229848623276, 0.037830229848623276, 0.8035115003585815, 0.05739368125796318, 0.05739368125796318, 0.05739368125796318, 0.3938879072666168, 0.1969439536333084, 0.11816637217998505, 0.03938879072666168, 0.1969439536333084, 0.03938879072666168, 0.33027368783950806, 0.4954105317592621, 0.16513684391975403, 0.8618467450141907, 0.1688837707042694, 0.6755350828170776, 0.22700604796409607, 0.02837575599551201, 0.19863028824329376, 0.02837575599551201, 0.11350302398204803, 0.02837575599551201, 0.17025452852249146, 0.11350302398204803, 0.08512726426124573, 0.8618558645248413, 0.7725346088409424, 0.7648460865020752, 0.8433569073677063, 0.8930602669715881, 0.23144322633743286, 0.04628864303231239, 0.41659778356552124, 0.04628864303231239, 0.04628864303231239, 0.09257728606462479, 0.04628864303231239, 0.09257728606462479, 0.9313775897026062, 0.5385161638259888, 0.8618463277816772, 0.5385161638259888, 0.13665226101875305, 0.20497837662696838, 0.20497837662696838, 0.34163063764572144, 0.13665226101875305, 0.6661539077758789, 0.10966643691062927, 0.1644996553659439, 0.054833218455314636, 0.10966643691062927, 0.10966643691062927, 0.3289993107318878, 0.10966643691062927, 0.6529502272605896, 0.1632375568151474, 0.1632375568151474, 0.8682390451431274, 0.7648460865020752, 0.7648460865020752, 0.16536341607570648, 0.26458147168159485, 0.16536341607570648, 0.13229073584079742, 0.033072683960199356, 0.09921805560588837, 0.09921805560588837, 0.033072683960199356, 0.2591022253036499, 0.12955111265182495, 0.12955111265182495, 0.12955111265182495, 0.38865336775779724, 0.26952189207077026, 0.35936251282691956, 0.17968125641345978, 0.08984062820672989, 0.08984062820672989, 0.3028382956981659, 0.6056765913963318, 0.6501252055168152, 0.8556148409843445, 0.8682395815849304, 0.7648460865020752, 0.29475137591362, 0.08421467989683151, 0.29475137591362, 0.12632201611995697, 0.08421467989683151, 0.12632201611995697, 0.6618415713310242, 0.021349728107452393, 0.021349728107452393, 0.08539891242980957, 0.06404918432235718, 0.12809836864471436, 0.0714246928691864, 0.0714246928691864, 0.714246928691864, 0.0714246928691864, 0.8618465662002563, 0.8618459105491638, 0.2248901128768921, 0.2248901128768921, 0.4497802257537842, 0.35051414370536804, 0.7010282874107361, 0.8682395815849304, 0.855614423751831, 0.8872701525688171, 0.5385160446166992, 0.9545838832855225, 0.17258569598197937, 0.08629284799098969, 0.08629284799098969, 0.4314642548561096, 0.08629284799098969, 0.08629284799098969, 0.13174806535243988, 0.39524418115615845, 0.13174806535243988, 0.26349613070487976, 0.13174806535243988, 0.6901935935020447, 0.2547191083431244, 0.05094382166862488, 0.05094382166862488, 0.15283146500587463, 0.35660675168037415, 0.10188764333724976, 0.05094382166862488, 0.541540801525116, 0.270770400762558, 0.6901935935020447, 0.6789538264274597, 0.04849670082330704, 0.09699340164661407, 0.1454901099205017, 0.7481080293655396, 0.1496216058731079, 0.8618462681770325, 0.943903386592865, 0.8333465456962585, 0.334278404712677, 0.055713068693876266, 0.27856534719467163, 0.11142613738775253, 0.1671392023563385, 0.055713068693876266, 0.7480052709579468, 0.24933509528636932, 0.4673248529434204, 0.7065150141716003, 0.42723548412323, 0.42723548412323, 0.28424543142318726, 0.1894969493150711, 0.09474847465753555, 0.3789938986301422, 0.8049560785293579, 0.016099121421575546, 0.016099121421575546, 0.03219824284315109, 0.016099121421575546, 0.016099121421575546, 0.09659472852945328, 0.016099121421575546, 0.8873662948608398, 0.9313777089118958, 0.8433564901351929, 0.20877045392990112, 0.6263113617897034, 0.8518489599227905, 0.2666221261024475, 0.533244252204895, 0.031850412487983704, 0.5096065998077393, 0.031850412487983704, 0.09555123746395111, 0.12740164995193481, 0.06370082497596741, 0.19110247492790222, 0.8333463072776794, 0.12658677995204926, 0.12658677995204926, 0.506347119808197, 0.2531735599040985, 0.8872508406639099, 0.6828649044036865, 0.8682392239570618, 0.10224901139736176, 0.10224901139736176, 0.408996045589447, 0.2044980227947235, 0.2044980227947235, 0.20807573199272156, 0.6242271661758423, 0.7658650875091553, 0.855614423751831, 0.6661563515663147, 0.9069502949714661, 0.9069488048553467, 0.46733811497688293, 0.07815442234277725, 0.381002813577652, 0.009769302792847157, 0.1563088446855545, 0.029307907447218895, 0.09769302606582642, 0.05861581489443779, 0.09769302606582642, 0.06838511675596237, 0.019538605585694313, 0.44322502613067627, 0.22161251306533813, 0.22161251306533813, 0.14493049681186676, 0.14493049681186676, 0.14493049681186676, 0.579721987247467, 0.676639199256897, 0.22554638981819153, 0.4673248529434204, 0.1144995391368866, 0.1144995391368866, 0.5724976658821106, 0.2289990782737732, 0.6857550144195557, 0.22858500480651855, 0.2549193799495697, 0.5098387598991394, 0.8433563113212585, 0.1464085876941681, 0.21961286664009094, 0.21961286664009094, 0.07320429384708405, 0.1464085876941681, 0.1464085876941681, 0.07320429384708405, 0.1381346881389618, 0.5525387525558472, 0.1381346881389618, 0.1381346881389618, 0.9212445616722107, 0.8333463072776794, 0.6661539077758789, 0.15756335854530334, 0.7878168225288391, 0.8333464860916138, 0.14935941994190216, 0.14935941994190216, 0.4480782449245453, 0.2987188398838043, 0.31203633546829224, 0.10401211678981781, 0.20802423357963562, 0.20802423357963562, 0.8872588276863098, 0.8682392239570618, 0.8333465456962585, 0.9069502949714661, 0.5519033074378967, 0.18396776914596558, 0.18396776914596558, 0.8213609457015991, 0.8433566689491272, 0.21752649545669556, 0.4350529909133911, 0.21752649545669556, 0.06274872273206711, 0.18824617564678192, 0.12549744546413422, 0.06274872273206711, 0.25099489092826843, 0.06274872273206711, 0.06274872273206711, 0.25099489092826843, 0.2094167321920395, 0.2094167321920395, 0.10470836609601974, 0.418833464384079, 0.779394268989563, 0.2794263958930969, 0.5588527917861938, 0.831099808216095, 0.19025494158267975, 0.3805098831653595, 0.3805098831653595, 0.04401940852403641, 0.28612613677978516, 0.022009704262018204, 0.26411643624305725, 0.022009704262018204, 0.11004851758480072, 0.08803881704807281, 0.06602910906076431, 0.06602910906076431, 0.04401940852403641, 0.7065245509147644, 0.8682556748390198, 0.6395390629768372, 0.6620129942893982, 0.22067101299762726, 0.056764766573905945, 0.11352953314781189, 0.6244124174118042, 0.056764766573905945, 0.11352953314781189, 0.40870264172554016, 0.40870264172554016, 0.9212436676025391, 0.8682425022125244, 0.6395246982574463, 0.9212435483932495, 0.25097981095314026, 0.12548990547657013, 0.5019596219062805, 0.04699574038386345, 0.1879829615354538, 0.4699574112892151, 0.14098721742630005, 0.14098721742630005, 0.08117286115884781, 0.08117286115884781, 0.08117286115884781, 0.08117286115884781, 0.5682100057601929, 0.08117286115884781, 0.24158145487308502, 0.3106047213077545, 0.06902327388525009, 0.034511636942625046, 0.10353490710258484, 0.06902327388525009, 0.034511636942625046, 0.17255817353725433, 0.9069591164588928, 0.18332232534885406, 0.7332893013954163, 0.8618488907814026, 0.8874220252037048, 0.855614423751831, 0.855614423751831, 0.9069502949714661, 0.6779507994651794, 0.2259836047887802, 0.04287043213844299, 0.6001860499382019, 0.021435216069221497, 0.021435216069221497, 0.12861129641532898, 0.06430564820766449, 0.10717607289552689, 0.04287043213844299, 0.08263318240642548, 0.24789954721927643, 0.08263318240642548, 0.4131659269332886, 0.08263318240642548, 0.16526636481285095, 0.05994272977113724, 0.17982818186283112, 0.4795418381690979, 0.17982818186283112, 0.05994272977113724, 0.15739646553993225, 0.15739646553993225, 0.47218942642211914, 0.15739646553993225, 0.05504898354411125, 0.38534286618232727, 0.027524491772055626, 0.08257347345352173, 0.027524491772055626, 0.027524491772055626, 0.05504898354411125, 0.1100979670882225, 0.13762246072292328, 0.05504898354411125, 0.7743302583694458, 0.19358256459236145, 0.21075749397277832, 0.632272481918335, 0.8310997486114502, 0.2514890432357788, 0.1257445216178894, 0.03143613040447235, 0.0628722608089447, 0.2514890432357788, 0.03143613040447235, 0.22005291283130646, 0.7347574234008789, 0.06122978404164314, 0.06122978404164314, 0.06122978404164314, 0.12245956808328629, 0.7648462057113647, 0.22895357012748718, 0.22895357012748718, 0.45790714025497437, 0.19686384499073029, 0.19686384499073029, 0.19686384499073029, 0.19686384499073029, 0.09843192249536514, 0.09843192249536514, 0.9313866496086121, 0.4306396543979645, 0.4306396543979645, 0.8682390451431274, 0.2541983425617218, 0.5083966851234436, 0.6710797548294067, 0.04194248467683792, 0.2097124308347702, 0.04194248467683792, 0.752802848815918, 0.8215869665145874, 0.03734486177563667, 0.11203458905220032, 0.03734486177563667, 0.03734486177563667, 0.08063957095146179, 0.16127914190292358, 0.24191871285438538, 0.08063957095146179, 0.32255828380584717, 0.16127914190292358, 0.2665235102176666, 0.07614957541227341, 0.15229915082454681, 0.038074787706136703, 0.15229915082454681, 0.2665235102176666, 0.038074787706136703, 0.7725476622581482, 0.887256920337677, 0.7648462057113647, 0.8619650602340698, 0.09699162095785141, 0.09699162095785141, 0.09699162095785141, 0.5819497108459473, 0.19398324191570282, 0.2962827980518341, 0.07407069951295853, 0.2962827980518341, 0.2962827980518341, 0.5290695428848267, 0.10581391304731369, 0.052906956523656845, 0.15872086584568024, 0.21162782609462738, 0.1051950752735138, 0.6311704516410828, 0.2103901505470276, 0.0525975376367569, 0.0525975376367569, 0.9096287488937378, 0.833345890045166, 0.799909234046936, 0.09654117375612259, 0.09654117375612259, 0.7723293900489807, 0.8333471417427063, 0.25804591178894043, 0.5160918235778809, 0.4295700192451477, 0.4295700192451477, 0.9069488048553467, 0.46733811497688293, 0.41718947887420654, 0.41718947887420654, 0.4299488067626953, 0.14331626892089844, 0.2866325378417969, 0.14331626892089844, 0.9069502949714661, 0.36349400877952576, 0.06058233231306076, 0.06058233231306076, 0.24232932925224304, 0.12116466462612152, 0.12116466462612152, 0.6395246982574463, 0.6395260691642761, 0.46736207604408264, 0.7065150737762451, 0.8433563113212585, 0.9069488048553467, 0.8620311617851257, 0.3449223041534424, 0.3449223041534424, 0.1724611520767212, 0.9069488048553467, 0.887244462966919, 0.3765592575073242, 0.08367983251810074, 0.2928794026374817, 0.1255197525024414, 0.08367983251810074, 0.04183991625905037, 0.7658913135528564, 0.9546683430671692, 0.9769970178604126, 0.07787340879440308, 0.389367014169693, 0.07787340879440308, 0.11681010574102402, 0.3114936351776123, 0.7668923139572144, 0.255630761384964, 0.9545586705207825, 0.6661539077758789, 0.8618465662002563, 0.8618510365486145, 0.5498408675193787, 0.27492043375968933, 0.30976730585098267, 0.6195346117019653, 0.3093582093715668, 0.46403732895851135, 0.3093582093715668, 0.07701333612203598, 0.07701333612203598, 0.15402667224407196, 0.07701333612203598, 0.3080533444881439, 0.15402667224407196, 0.15402667224407196], \"Term\": [\"#\", \"#\", \"#\", \"#\", \"#\", \"#\", \"#\", \"#\", \"#\", \"#\", \"'s\", \"'s\", \"'s\", \"'s\", \"'s\", \"'s\", \"'s\", \"'s\", \"'s\", \"10\", \"10\", \"10\", \"10\", \"10\", \"100\", \"104\", \"11\", \"11\", \"11\", \"128\", \"137\", \"14-day\", \"155\", \"17\", \"174\", \"2\", \"2\", \"2\", \"2\", \"20,000\", \"201\", \"21-april\", \"22\", \"23-year\", \"23rd\", \"31\", \"31\", \"31\", \"31\", \"31\", \"31\", \"31all\", \"31and\", \"31st\", \"31st\", \"31st\", \"34\", \"4\", \"4\", \"4\", \"45\", \"45-day\", \"50\", \"50\", \"50\", \"6\", \"6\", \"6\", \"6\", \"72-year\", \"75\", \"84\", \"@\", \"@\", \"abdullah\", \"across\", \"across\", \"across\", \"across\", \"across\", \"across\", \"act\", \"activity\", \"activity\", \"address\", \"address\", \"address\", \"address\", \"address\", \"advocate\", \"african\", \"agency\", \"agency\", \"aid\", \"airport\", \"airport\", \"airport\", \"airport\", \"along\", \"amid\", \"amid\", \"amid\", \"amid\", \"ani\", \"ani\", \"ani\", \"ani\", \"announce\", \"announce\", \"announce\", \"announce\", \"announce\", \"app\", \"april\", \"april\", \"april\", \"april\", \"arvind\", \"arvind\", \"ask\", \"ask\", \"ask\", \"ask\", \"ask\", \"assembly\", \"assist\", \"assistance\", \"assure\", \"assure\", \"attend\", \"away\", \"axis\", \"back\", \"back\", \"back\", \"back\", \"back\", \"bad\", \"bad\", \"bad\", \"bad\", \"balart\", \"band\", \"bandyopadhyay\", \"bank\", \"bank\", \"banking\", \"banquet\", \"baptist\", \"bed\", \"billion\", \"billion\", \"bmc\", \"board\", \"board\", \"board\", \"bold\", \"borivali\", \"bounce\", \"branch\", \"brief\", \"brief\", \"briefing\", \"britain\", \"british\", \"broadcaster\", \"burden\", \"call\", \"call\", \"call\", \"cancel\", \"cancel\", \"case\", \"case\", \"case\", \"case\", \"case\", \"case\", \"case\", \"category\", \"cent\", \"central\", \"central\", \"central\", \"central\", \"central\", \"certificate\", \"chair\", \"championship\", \"chidambaram\", \"chief\", \"chief\", \"chief\", \"chief\", \"chief\", \"chief\", \"chief\", \"china\", \"china\", \"china\", \"china\", \"china\", \"china\", \"chinese\", \"chrysler\", \"church\", \"church\", \"circular\", \"class\", \"close\", \"close\", \"close\", \"close\", \"close\", \"close\", \"cm\", \"cm\", \"cm\", \"cm\", \"cms\", \"collector\", \"colour\", \"come\", \"come\", \"come\", \"come\", \"come\", \"come\", \"come\", \"commercial\", \"commercial\", \"commuter\", \"commuter\", \"company\", \"company\", \"company\", \"competition\", \"concernsmarket\", \"concessional\", \"confirm\", \"confirm\", \"confirm\", \"confirm\", \"confirm\", \"consider\", \"consume\", \"continue\", \"continue\", \"continue\", \"continue\", \"continue\", \"convict\", \"coronavirus\", \"coronavirus\", \"coronavirus\", \"coronavirus\", \"coronavirus\", \"coronavirus\", \"coronavirus\", \"coronavirus\", \"coronavirus\", \"coronavirus\", \"coronavirusup\", \"corporate\", \"corporate\", \"country\", \"country\", \"country\", \"country\", \"country\", \"country\", \"country\", \"country\", \"couple\", \"couple\", \"court\", \"covid\", \"covid\", \"covid-19\", \"covid-19\", \"covid-19\", \"covid-19\", \"covid-19\", \"covid-19\", \"covid-19\", \"covid-19\", \"covid-19\", \"covid-19\", \"covid19\", \"crack\", \"creak\", \"cricket\", \"crypto\", \"currently\", \"customer\", \"cut\", \"dabbawala\", \"dabbawalas\", \"day\", \"day\", \"day\", \"day\", \"day\", \"de\", \"de\", \"death\", \"death\", \"death\", \"death\", \"death\", \"deboarde\", \"decide\", \"decide\", \"decide\", \"decide\", \"decide\", \"decide\", \"defence\", \"delhi\", \"delhi\", \"delhi\", \"delhi\", \"delhi\", \"delhi\", \"demand\", \"demand\", \"demand\", \"deny\", \"department\", \"department\", \"department\", \"department\", \"department\", \"depute\", \"diagnosis\", \"diarrhea\", \"diaz\", \"die\", \"die\", \"die\", \"die\", \"digestive\", \"direct\", \"director\", \"director\", \"district\", \"district\", \"divyangjan\", \"do\", \"do\", \"do\", \"domestic\", \"domestic\", \"domestic\", \"door\", \"door\", \"drive\", \"drunken\", \"due\", \"due\", \"due\", \"due\", \"due\", \"due\", \"due\", \"due\", \"dutta\", \"easy\", \"economic\", \"economic\", \"economic\", \"economic\", \"economist\", \"economy\", \"economy\", \"economy\", \"economy\", \"educational\", \"else\", \"embassy\", \"emergency\", \"emergency\", \"emergency\", \"employee\", \"employee\", \"employee\", \"employee\", \"employee\", \"employment\", \"engage\", \"estate\", \"evaluation\", \"evening\", \"evening\", \"evening\", \"evening\", \"everything\", \"evolve\", \"exam\", \"exam\", \"exam\", \"examination\", \"examination\", \"explosion\", \"exposure\", \"express\", \"express\", \"express\", \"extension\", \"fake\", \"fame\", \"farooq\", \"feroli\", \"fiat\", \"fight\", \"fight\", \"fight\", \"fight\", \"fighting\", \"figure\", \"filing\", \"fine\", \"first\", \"first\", \"first\", \"first\", \"first\", \"flight\", \"flight\", \"flight\", \"flight\", \"flight\", \"follow\", \"follow\", \"follow\", \"follow\", \"follow\", \"footing\", \"ford\", \"foreigner\", \"fortnight\", \"four\", \"four\", \"friday\", \"friday\", \"friday\", \"friend\", \"fuel\", \"fund\", \"g\", \"g\", \"g-20\", \"gate\", \"give\", \"give\", \"give\", \"goa\", \"goa\", \"government\", \"government\", \"government\", \"government\", \"government\", \"government\", \"government\", \"government\", \"grip\", \"gurugram\", \"halt\", \"halt\", \"hcl\", \"health\", \"health\", \"health\", \"health\", \"health\", \"health\", \"health\", \"history\", \"hit\", \"hit\", \"hit\", \"hit\", \"hit\", \"home\", \"home\", \"home\", \"home\", \"home\", \"home\", \"home\", \"hour\", \"hour\", \"hyderabad\", \"icse\", \"ilo\", \"imambara\", \"immediate\", \"immediate\", \"immediate\", \"immediate\", \"impact\", \"impact\", \"impact\", \"impact\", \"import\", \"include\", \"include\", \"include\", \"include\", \"include\", \"include\", \"include\", \"india\", \"india\", \"india\", \"india\", \"india\", \"india\", \"india\", \"india\", \"indian\", \"indian\", \"indian\", \"indian\", \"indian\", \"indian\", \"indian\", \"indian\", \"indigo\", \"indira\", \"individual\", \"indore\", \"infection\", \"infection\", \"infection\", \"infection\", \"infection\", \"infrastructure\", \"instead\", \"institution\", \"inter\", \"international\", \"international\", \"international\", \"international\", \"iran\", \"iran\", \"iran\", \"iran\", \"irandammu\", \"israel\", \"italy\", \"italy\", \"italy\", \"jawan\", \"job\", \"job\", \"joint\", \"joint\", \"jp\", \"judge\", \"junior\", \"kalyug\", \"karnataka\", \"kathmandu\", \"kejriwal\", \"kejriwal\", \"kendriya\", \"kodagu\", \"kv\", \"kvs\", \"labour\", \"land\", \"leader\", \"leader\", \"leader\", \"level\", \"level\", \"level\", \"level\", \"life\", \"life\", \"link\", \"loan\", \"local\", \"locate\", \"lockdown\", \"lockdown\", \"lockdown\", \"lockdown\", \"lord\", \"lose\", \"madhya\", \"mahamari\", \"maharashtra\", \"maharashtra\", \"maharashtra\", \"maharashtra\", \"maharashtra\", \"maharashtra\", \"mainland\", \"majority\", \"march\", \"march\", \"march\", \"march\", \"march\", \"march\", \"march\", \"march\", \"march\", \"marriage\", \"match\", \"mcadam\", \"mea\", \"mea\", \"mea\", \"mea\", \"measure\", \"measure\", \"measure\", \"measure\", \"measure\", \"measure\", \"mechanism\", \"medical\", \"medical\", \"medical\", \"medical\", \"medical\", \"medium\", \"medium\", \"medium\", \"medium\", \"medium\", \"meeting\", \"meeting\", \"meeting\", \"mhrd\", \"military\", \"million\", \"million\", \"million\", \"minister\", \"minister\", \"minister\", \"minister\", \"minister\", \"minister\", \"minister\", \"ministry\", \"ministry\", \"ministry\", \"ministry\", \"ministry\", \"ministry\", \"ministry\", \"ministry\", \"ministry\", \"mislead\", \"mobile\", \"modi\", \"modi\", \"modi\", \"modi\", \"modi\", \"morgan\", \"moscow\", \"moscow\", \"mull\", \"multi\", \"mumbai\", \"mumbai\", \"mumbai\", \"mumbai\", \"mumbai\", \"nabbed\", \"nagar\", \"name\", \"name\", \"narendra\", \"narendra\", \"narendra\", \"narendra\", \"narendra\", \"nation\", \"nation\", \"nation\", \"nation\", \"national\", \"national\", \"national\", \"national\", \"national\", \"need\", \"need\", \"need\", \"negative\", \"negative\", \"new\", \"new\", \"new\", \"new\", \"new\", \"new\", \"new\", \"next\", \"next\", \"next\", \"nhc\", \"nifty\", \"nifty50\", \"noida\", \"not\", \"not\", \"novel\", \"novel\", \"novel\", \"novel\", \"novel\", \"novel\", \"novel\", \"number\", \"number\", \"number\", \"number\", \"number\", \"number\", \"number\", \"odia\", \"offering\", \"office\", \"office\", \"office\", \"office\", \"officer\", \"officer\", \"officer\", \"official\", \"official\", \"official\", \"official\", \"official\", \"official\", \"official\", \"official\", \"old\", \"old\", \"old\", \"old\", \"one\", \"one\", \"one\", \"one\", \"one\", \"one\", \"online\", \"online\", \"online\", \"only\", \"operation\", \"operation\", \"outbreak\", \"outbreak\", \"outbreak\", \"outbreak\", \"outbreak\", \"outbreak\", \"outbreak\", \"outbreak\", \"outbreak\", \"over\", \"overseas\", \"owner\", \"p\", \"package\", \"pandemic\", \"pandemic\", \"pandemic\", \"pandemic\", \"pandemic\", \"pandemic\", \"pandemic\", \"pandemic\", \"panic\", \"parliament\", \"parole\", \"party\", \"passenger\", \"passenger\", \"passenger\", \"passenger\", \"passenger\", \"patel\", \"patient\", \"patient\", \"patient\", \"patient\", \"patient\", \"patient\", \"patient\", \"pay\", \"pay\", \"pay\", \"pc\", \"pcb\", \"pcbthe\", \"people\", \"people\", \"people\", \"people\", \"people\", \"people\", \"people\", \"people\", \"per\", \"per\", \"per\", \"per\", \"per\", \"percent\", \"percent\", \"percent\", \"percent\", \"percent\", \"personnel\", \"personnel\", \"petroleum\", \"physical\", \"plastic\", \"player\", \"pm\", \"pm\", \"pm\", \"pm\", \"pm\", \"pm\", \"positive\", \"positive\", \"positive\", \"positive\", \"positive\", \"positive\", \"postpone\", \"postpone\", \"postpone\", \"postpone\", \"prayer\", \"present\", \"prevent\", \"prevent\", \"prevent\", \"product\", \"product\", \"protective\", \"protocol\", \"provincial\", \"psl\", \"pti\", \"public\", \"public\", \"public\", \"public\", \"public\", \"public\", \"punjab\", \"punjab\", \"punjab\", \"punjab\", \"punjab\", \"q4\", \"quarantine\", \"quarantine\", \"quarantine\", \"quarantine\", \"quarantine\", \"quarantine\", \"quarantine\", \"quarter\", \"quarter\", \"quarterly\", \"railway\", \"railway\", \"railway\", \"railway\", \"raipur\", \"raipur\", \"rane\", \"rank\", \"rating\", \"read\", \"read\", \"read\", \"read\", \"read\", \"read\", \"real\", \"real\", \"regulator\", \"relaxation\", \"release\", \"release\", \"remain\", \"remain\", \"remain\", \"remain\", \"report\", \"report\", \"report\", \"report\", \"report\", \"report\", \"report\", \"report\", \"reschedule\", \"residential\", \"restore\", \"restrict\", \"restrict\", \"result\", \"resume\", \"resume\", \"return\", \"return\", \"return\", \"return\", \"return\", \"return\", \"return\", \"reunion\", \"review\", \"review\", \"review\", \"review\", \"ronojoy\", \"rumour\", \"rush\", \"s\", \"s\", \"s\", \"s\", \"s\", \"saarc\", \"saarc\", \"safe\", \"safeguard\", \"salary\", \"sangathan\", \"saturday\", \"saurashtra\", \"say\", \"say\", \"say\", \"say\", \"say\", \"say\", \"say\", \"say\", \"say\", \"say\", \"school\", \"school\", \"school\", \"screen\", \"screen\", \"screen\", \"screen\", \"screening\", \"screening\", \"sebi\", \"second\", \"second\", \"second\", \"second\", \"secretary\", \"secretary\", \"sell\", \"sell\", \"senate\", \"service\", \"service\", \"service\", \"service\", \"service\", \"service\", \"service\", \"set\", \"set\", \"set\", \"set\", \"share\", \"shortly\", \"shrink\", \"sign\", \"sign\", \"silchar\", \"since\", \"since\", \"since\", \"since\", \"singapore\", \"singapore\", \"singapore\", \"singapore\", \"singh\", \"slot\", \"slowdown\", \"soon\", \"speak\", \"speak\", \"speak\", \"spicejet\", \"spitting\", \"sport\", \"sport\", \"sport\", \"spread\", \"spread\", \"spread\", \"spread\", \"spread\", \"spread\", \"spread\", \"spread\", \"staff\", \"staff\", \"staff\", \"staff\", \"stagger\", \"stamp\", \"stamp\", \"standby\", \"start\", \"start\", \"start\", \"state\", \"state\", \"state\", \"state\", \"state\", \"state\", \"state\", \"state\", \"state\", \"state\", \"station\", \"steep\", \"stick\", \"store\", \"store\", \"student\", \"student\", \"student\", \"student\", \"student\", \"study\", \"study\", \"suburban\", \"succeed\", \"summit\", \"sunder\", \"suspect\", \"suspect\", \"suspect\", \"suspend\", \"suspend\", \"suspend\", \"suspend\", \"suspend\", \"symptom\", \"symptom\", \"symptom\", \"symptom\", \"symptom\", \"symptom\", \"take\", \"take\", \"take\", \"take\", \"take\", \"take\", \"take\", \"take\", \"takeaway\", \"tally\", \"tally\", \"tank\", \"teaching\", \"tech\", \"technology\", \"tehran\", \"temporarily\", \"temporarily\", \"test\", \"test\", \"test\", \"test\", \"test\", \"test\", \"test\", \"test\", \"testing\", \"testing\", \"testing\", \"testing\", \"testing\", \"testing\", \"thackeray\", \"thackeray\", \"thackeray\", \"thackeray\", \"thackeray\", \"threat\", \"threat\", \"threat\", \"threat\", \"thursday\", \"thursday\", \"thursday\", \"thursday\", \"thursday\", \"thursday\", \"thursday\", \"thursday\", \"thursday\", \"thursday\", \"tibetan\", \"tibetan\", \"ticket\", \"ticket\", \"tiffin\", \"till\", \"till\", \"till\", \"till\", \"till\", \"till\", \"till\", \"time\", \"time\", \"time\", \"time\", \"time\", \"tmc\", \"to\", \"to\", \"to\", \"today\", \"today\", \"today\", \"today\", \"today\", \"today\", \"together\", \"tomorrow\", \"tomorrow\", \"tonne\", \"top\", \"top\", \"total\", \"total\", \"total\", \"total\", \"town\", \"train\", \"train\", \"train\", \"train\", \"train\", \"transport\", \"transport\", \"transport\", \"transport\", \"transport\", \"transport\", \"travel\", \"travel\", \"travel\", \"travel\", \"travel\", \"travel\", \"travel\", \"traveller\", \"trillion\", \"trinamool\", \"trip\", \"trump\", \"trump\", \"trump\", \"trump\", \"trump\", \"tuesday\", \"tuesday\", \"tuesday\", \"tuesday\", \"two\", \"two\", \"two\", \"two\", \"two\", \"uddhav\", \"uddhav\", \"uddhav\", \"uddhav\", \"uddhav\", \"ugc\", \"un\", \"undergo\", \"university\", \"university\", \"university\", \"unnecessary\", \"urge\", \"urge\", \"use\", \"use\", \"utah\", \"vadodara\", \"via\", \"via\", \"video\", \"video\", \"video\", \"video\", \"vidyalya\", \"view\", \"view\", \"view\", \"view\", \"view\", \"view\", \"virtual\", \"visa\", \"vistara\", \"volatility\", \"vote\", \"voting\", \"wait\", \"war\", \"war\", \"war\", \"washington\", \"wear\", \"wednesday\", \"wednesday\", \"wednesday\", \"wednesday\", \"wednesday\", \"wednesday\", \"welfare\", \"western\", \"woman\", \"work\", \"work\", \"work\", \"work\", \"work\", \"worldwide\", \"worldwide\", \"wr\", \"wrist\", \"yagna\", \"yesterday\", \"young\", \"young\", \"zealand\", \"zealand\", \"\\u2014\", \"\\u2014\", \"\\u2014\", \"\\u2019\", \"\\u2019\", \"\\u2019\", \"\\u2019\", \"\\u2019\", \"\\u2019\", \"\\u2019\"]}, \"R\": 30, \"lambda.step\": 0.01, \"plot.opts\": {\"xlab\": \"PC1\", \"ylab\": \"PC2\"}, \"topic.order\": [1, 2, 3, 4, 5, 6, 7, 8, 9, 10]};\n",
       "\n",
       "function LDAvis_load_lib(url, callback){\n",
       "  var s = document.createElement('script');\n",
       "  s.src = url;\n",
       "  s.async = true;\n",
       "  s.onreadystatechange = s.onload = callback;\n",
       "  s.onerror = function(){console.warn(\"failed to load library \" + url);};\n",
       "  document.getElementsByTagName(\"head\")[0].appendChild(s);\n",
       "}\n",
       "\n",
       "if(typeof(LDAvis) !== \"undefined\"){\n",
       "   // already loaded: just create the visualization\n",
       "   !function(LDAvis){\n",
       "       new LDAvis(\"#\" + \"ldavis_el3136817878623143443839035986\", ldavis_el3136817878623143443839035986_data);\n",
       "   }(LDAvis);\n",
       "}else if(typeof define === \"function\" && define.amd){\n",
       "   // require.js is available: use it to load d3/LDAvis\n",
       "   require.config({paths: {d3: \"https://cdnjs.cloudflare.com/ajax/libs/d3/3.5.5/d3.min\"}});\n",
       "   require([\"d3\"], function(d3){\n",
       "      window.d3 = d3;\n",
       "      LDAvis_load_lib(\"https://cdn.rawgit.com/bmabey/pyLDAvis/files/ldavis.v1.0.0.js\", function(){\n",
       "        new LDAvis(\"#\" + \"ldavis_el3136817878623143443839035986\", ldavis_el3136817878623143443839035986_data);\n",
       "      });\n",
       "    });\n",
       "}else{\n",
       "    // require.js not available: dynamically load d3 & LDAvis\n",
       "    LDAvis_load_lib(\"https://cdnjs.cloudflare.com/ajax/libs/d3/3.5.5/d3.min.js\", function(){\n",
       "         LDAvis_load_lib(\"https://cdn.rawgit.com/bmabey/pyLDAvis/files/ldavis.v1.0.0.js\", function(){\n",
       "                 new LDAvis(\"#\" + \"ldavis_el3136817878623143443839035986\", ldavis_el3136817878623143443839035986_data);\n",
       "            })\n",
       "         });\n",
       "}\n",
       "</script>"
      ],
      "text/plain": [
       "<IPython.core.display.HTML object>"
      ]
     },
     "execution_count": 11,
     "metadata": {},
     "output_type": "execute_result"
    }
   ],
   "source": [
    "lda_display = pyLDAvis.gensim.prepare(lda_model,document_bow,dictionary,sort_topics=False)\n",
    "pyLDAvis.display(lda_display)"
   ]
  },
  {
   "cell_type": "markdown",
   "metadata": {},
   "source": [
    "### Sentiment Analysis"
   ]
  },
  {
   "cell_type": "code",
   "execution_count": 12,
   "metadata": {},
   "outputs": [],
   "source": [
    "def test_sentiment_analyzer(use_textblob = True ,use_vader=False):\n",
    "    for sentence in news.text[50:60]:\n",
    "        print(sentence,'\\n')\n",
    "        analyzed_sentence = TextBlob(sentence) if use_textblob==True  \\\n",
    "                             else SentimentIntensityAnalyzer().polarity_scores(sentence)\n",
    "        print(analyzed_sentence.sentiment if use_textblob==True else analyzed_sentence,'\\n')"
   ]
  },
  {
   "cell_type": "code",
   "execution_count": 13,
   "metadata": {},
   "outputs": [
    {
     "name": "stdout",
     "output_type": "stream",
     "text": [
      "MEA briefs media on coronavirus \n",
      "\n",
      "Sentiment(polarity=0.0, subjectivity=0.0) \n",
      "\n",
      "One more person has been tested positive in Tamil Nadu, says health minister C Vijaya Baskar \n",
      "\n",
      "Sentiment(polarity=0.36363636363636365, subjectivity=0.5227272727272727) \n",
      "\n",
      "Chhattisgarh CM Bhupesh Baghel: Section 144 has been imposed in Raipur and all other municipal corporation areas in the state to prohibit large gatherings \n",
      "\n",
      "Sentiment(polarity=0.04464285714285714, subjectivity=0.4017857142857143) \n",
      "\n",
      "Work from home, staggered working hours for central govt employeesThe Central government on Thursday allowed 50 per cent of its employees to work from home and the remaining to attend office every day besides implementing different time slots for working hours in its effort to further check the spread of the coronavirus disease. In the first week, heads of departments have been asked to include only staff who reside in close proximity to their office or use own transport to travel to office. It suggested that three groups of employees be formed and asked to attend office during three time slots - 9 AM to 5.30 PM, 9.30 AM to 6 PM and 10 AM to 6.30 PM. \n",
      "\n",
      "Sentiment(polarity=0.12142857142857143, subjectivity=0.5619047619047619) \n",
      "\n",
      "Punjab to suspend public transport from Friday midnightHotels, marriage palaces, outdoor and indoor dining and banquets will also remain closed. The government has allowed home delivery service and takeaways. Public dealing in government offices has been restricted. Read more \n",
      "\n",
      "Sentiment(polarity=0.1, subjectivity=0.18333333333333335) \n",
      "\n",
      "Read: Why masses on in Catholic churches? HC asks Maharashtra \n",
      "\n",
      "Sentiment(polarity=0.0, subjectivity=0.1) \n",
      "\n",
      "Markets plunge again as coronavirus cases continue to rise; Sensex tanks 581 points to close at 28,288; Nifty ends below 8,300 \n",
      "\n",
      "Sentiment(polarity=0.0, subjectivity=0.0) \n",
      "\n",
      "SpiceJet: We are forced to temporarily suspend majority of our international operations from March 21 till April 30. We will resume the suspended flights as soon as the situation normalises \n",
      "\n",
      "Sentiment(polarity=-0.15000000000000002, subjectivity=0.1) \n",
      "\n",
      "All hotels in Uttarakhand's Nainital will remain closed from March 21 to March 31: ANI \n",
      "\n",
      "Sentiment(polarity=-0.1, subjectivity=0.1) \n",
      "\n",
      "All Holy Masses and other services in our parishes are to be suspended till March 31: Anil Couto, Archbishop of Delhi \n",
      "\n",
      "Sentiment(polarity=-0.125, subjectivity=0.375) \n",
      "\n"
     ]
    }
   ],
   "source": [
    "test_sentiment_analyzer(use_textblob=True)"
   ]
  },
  {
   "cell_type": "code",
   "execution_count": 14,
   "metadata": {},
   "outputs": [
    {
     "name": "stdout",
     "output_type": "stream",
     "text": [
      "MEA briefs media on coronavirus \n",
      "\n",
      "{'neg': 0.0, 'neu': 1.0, 'pos': 0.0, 'compound': 0.0} \n",
      "\n",
      "One more person has been tested positive in Tamil Nadu, says health minister C Vijaya Baskar \n",
      "\n",
      "{'neg': 0.0, 'neu': 0.795, 'pos': 0.205, 'compound': 0.5574} \n",
      "\n",
      "Chhattisgarh CM Bhupesh Baghel: Section 144 has been imposed in Raipur and all other municipal corporation areas in the state to prohibit large gatherings \n",
      "\n",
      "{'neg': 0.053, 'neu': 0.947, 'pos': 0.0, 'compound': -0.0772} \n",
      "\n",
      "Work from home, staggered working hours for central govt employeesThe Central government on Thursday allowed 50 per cent of its employees to work from home and the remaining to attend office every day besides implementing different time slots for working hours in its effort to further check the spread of the coronavirus disease. In the first week, heads of departments have been asked to include only staff who reside in close proximity to their office or use own transport to travel to office. It suggested that three groups of employees be formed and asked to attend office during three time slots - 9 AM to 5.30 PM, 9.30 AM to 6 PM and 10 AM to 6.30 PM. \n",
      "\n",
      "{'neg': 0.0, 'neu': 1.0, 'pos': 0.0, 'compound': 0.0} \n",
      "\n",
      "Punjab to suspend public transport from Friday midnightHotels, marriage palaces, outdoor and indoor dining and banquets will also remain closed. The government has allowed home delivery service and takeaways. Public dealing in government offices has been restricted. Read more \n",
      "\n",
      "{'neg': 0.117, 'neu': 0.883, 'pos': 0.0, 'compound': -0.5994} \n",
      "\n",
      "Read: Why masses on in Catholic churches? HC asks Maharashtra \n",
      "\n",
      "{'neg': 0.0, 'neu': 1.0, 'pos': 0.0, 'compound': 0.0} \n",
      "\n",
      "Markets plunge again as coronavirus cases continue to rise; Sensex tanks 581 points to close at 28,288; Nifty ends below 8,300 \n",
      "\n",
      "{'neg': 0.0, 'neu': 0.881, 'pos': 0.119, 'compound': 0.4019} \n",
      "\n",
      "SpiceJet: We are forced to temporarily suspend majority of our international operations from March 21 till April 30. We will resume the suspended flights as soon as the situation normalises \n",
      "\n",
      "{'neg': 0.237, 'neu': 0.763, 'pos': 0.0, 'compound': -0.8126} \n",
      "\n",
      "All hotels in Uttarakhand's Nainital will remain closed from March 21 to March 31: ANI \n",
      "\n",
      "{'neg': 0.0, 'neu': 1.0, 'pos': 0.0, 'compound': 0.0} \n",
      "\n",
      "All Holy Masses and other services in our parishes are to be suspended till March 31: Anil Couto, Archbishop of Delhi \n",
      "\n",
      "{'neg': 0.134, 'neu': 0.866, 'pos': 0.0, 'compound': -0.4767} \n",
      "\n"
     ]
    }
   ],
   "source": [
    "test_sentiment_analyzer(use_textblob=False,use_vader=True)"
   ]
  },
  {
   "cell_type": "markdown",
   "metadata": {},
   "source": [
    "#### _We will use vader sentiment analyzer as results are somewhat better_"
   ]
  },
  {
   "cell_type": "code",
   "execution_count": 15,
   "metadata": {},
   "outputs": [],
   "source": [
    "def sentiment_calculator(text):\n",
    "    analyzer =  SentimentIntensityAnalyzer().polarity_scores(text)\n",
    "    return analyzer['compound']\n",
    "\n",
    "news['sentiment_score'] = news.text.apply(sentiment_calculator)"
   ]
  },
  {
   "cell_type": "code",
   "execution_count": 16,
   "metadata": {},
   "outputs": [],
   "source": [
    "label = ( lambda x : 'positive' if x > 0.05 else 'negative' )\n",
    "\n",
    "news['sentiment'] = news.sentiment_score.apply(label)"
   ]
  },
  {
   "cell_type": "markdown",
   "metadata": {},
   "source": [
    "### TF-IDF"
   ]
  },
  {
   "cell_type": "code",
   "execution_count": 24,
   "metadata": {},
   "outputs": [],
   "source": [
    "tfidf = TfidfModel(document_bow)\n",
    "corpus_tfidf = tfidf[document_bow]"
   ]
  },
  {
   "cell_type": "code",
   "execution_count": 32,
   "metadata": {},
   "outputs": [],
   "source": [
    "d ={}\n",
    "for doc in corpus_tfidf:\n",
    "    for id, value in doc:\n",
    "        word = dictionary.get(id)\n",
    "        d[word] = value"
   ]
  },
  {
   "cell_type": "code",
   "execution_count": 49,
   "metadata": {},
   "outputs": [
    {
     "data": {
      "text/html": [
       "<div>\n",
       "<style scoped>\n",
       "    .dataframe tbody tr th:only-of-type {\n",
       "        vertical-align: middle;\n",
       "    }\n",
       "\n",
       "    .dataframe tbody tr th {\n",
       "        vertical-align: top;\n",
       "    }\n",
       "\n",
       "    .dataframe thead th {\n",
       "        text-align: right;\n",
       "    }\n",
       "</style>\n",
       "<table border=\"1\" class=\"dataframe\">\n",
       "  <thead>\n",
       "    <tr style=\"text-align: right;\">\n",
       "      <th></th>\n",
       "      <th>score</th>\n",
       "    </tr>\n",
       "  </thead>\n",
       "  <tbody>\n",
       "    <tr>\n",
       "      <th>tracking</th>\n",
       "      <td>0.993745</td>\n",
       "    </tr>\n",
       "    <tr>\n",
       "      <th>teaching</th>\n",
       "      <td>0.754652</td>\n",
       "    </tr>\n",
       "    <tr>\n",
       "      <th>dm</th>\n",
       "      <td>0.703124</td>\n",
       "    </tr>\n",
       "    <tr>\n",
       "      <th>fear</th>\n",
       "      <td>0.699354</td>\n",
       "    </tr>\n",
       "    <tr>\n",
       "      <th>soldier</th>\n",
       "      <td>0.688727</td>\n",
       "    </tr>\n",
       "    <tr>\n",
       "      <th>name</th>\n",
       "      <td>0.677794</td>\n",
       "    </tr>\n",
       "    <tr>\n",
       "      <th>pr</th>\n",
       "      <td>0.658389</td>\n",
       "    </tr>\n",
       "    <tr>\n",
       "      <th>jawan</th>\n",
       "      <td>0.651677</td>\n",
       "    </tr>\n",
       "    <tr>\n",
       "      <th>bed</th>\n",
       "      <td>0.639902</td>\n",
       "    </tr>\n",
       "    <tr>\n",
       "      <th>bengaluru</th>\n",
       "      <td>0.601477</td>\n",
       "    </tr>\n",
       "    <tr>\n",
       "      <th>9/11</th>\n",
       "      <td>0.598099</td>\n",
       "    </tr>\n",
       "    <tr>\n",
       "      <th>adequate</th>\n",
       "      <td>0.595491</td>\n",
       "    </tr>\n",
       "    <tr>\n",
       "      <th>african</th>\n",
       "      <td>0.593666</td>\n",
       "    </tr>\n",
       "    <tr>\n",
       "      <th>indore</th>\n",
       "      <td>0.592793</td>\n",
       "    </tr>\n",
       "    <tr>\n",
       "      <th>church</th>\n",
       "      <td>0.564688</td>\n",
       "    </tr>\n",
       "    <tr>\n",
       "      <th>mexico</th>\n",
       "      <td>0.560226</td>\n",
       "    </tr>\n",
       "    <tr>\n",
       "      <th>tiffin</th>\n",
       "      <td>0.557856</td>\n",
       "    </tr>\n",
       "    <tr>\n",
       "      <th>imambara</th>\n",
       "      <td>0.550021</td>\n",
       "    </tr>\n",
       "    <tr>\n",
       "      <th>medication</th>\n",
       "      <td>0.543640</td>\n",
       "    </tr>\n",
       "    <tr>\n",
       "      <th>ibuprofen</th>\n",
       "      <td>0.543640</td>\n",
       "    </tr>\n",
       "  </tbody>\n",
       "</table>\n",
       "</div>"
      ],
      "text/plain": [
       "               score\n",
       "tracking    0.993745\n",
       "teaching    0.754652\n",
       "dm          0.703124\n",
       "fear        0.699354\n",
       "soldier     0.688727\n",
       "name        0.677794\n",
       "pr          0.658389\n",
       "jawan       0.651677\n",
       "bed         0.639902\n",
       "bengaluru   0.601477\n",
       "9/11        0.598099\n",
       "adequate    0.595491\n",
       "african     0.593666\n",
       "indore      0.592793\n",
       "church      0.564688\n",
       "mexico      0.560226\n",
       "tiffin      0.557856\n",
       "imambara    0.550021\n",
       "medication  0.543640\n",
       "ibuprofen   0.543640"
      ]
     },
     "execution_count": 49,
     "metadata": {},
     "output_type": "execute_result"
    }
   ],
   "source": [
    "tfidf_word_with_score = pd.DataFrame.from_dict( d ,orient = 'index',columns = ['score'])\n",
    "tfidf_word_with_score.sort_values(by = 'score',ascending =False,inplace=True)\n",
    "tfidf_word_with_score.head(20)"
   ]
  },
  {
   "cell_type": "code",
   "execution_count": 64,
   "metadata": {},
   "outputs": [
    {
     "data": {
      "image/png": "[encoded data removed]",
      "text/plain": [
       "<Figure size 864x648 with 1 Axes>"
      ]
     },
     "metadata": {},
     "output_type": "display_data"
    }
   ],
   "source": [
    "plt.style.use('ggplot')\n",
    "plt.figure(figsize=(12,9))\n",
    "plt.xticks(rotation='45')\n",
    "plt.bar(tfidf_word_with_score.index[:30],tfidf_word_with_score.score[:30])\n",
    "plt.show()"
   ]
  },
  {
   "cell_type": "code",
   "execution_count": 29,
   "metadata": {},
   "outputs": [],
   "source": [
    "lda_model_tfidf = LdaModel(corpus=corpus_tfidf ,num_topics=10,id2word=dictionary,passes =150)"
   ]
  },
  {
   "cell_type": "code",
   "execution_count": 30,
   "metadata": {},
   "outputs": [
    {
     "name": "stdout",
     "output_type": "stream",
     "text": [
      "Topic: 0 Words :0.004*\"joint\" + 0.004*\"secretary\" + 0.003*\"ministry\" + 0.003*\"work\" + 0.003*\"50\" + 0.003*\"tracking\" + 0.003*\"transmission\" + 0.003*\"office\" + 0.003*\"agarwal\" + 0.003*\"lav\"\n",
      "Topic: 1 Words :0.004*\"aircraft\" + 0.003*\"teaching\" + 0.002*\"economy\" + 0.002*\"mea\" + 0.002*\"vc\" + 0.002*\"thing\" + 0.002*\"recover\" + 0.002*\"reach\" + 0.002*\"137\" + 0.002*\"andhra\"\n",
      "Topic: 2 Words :0.003*\"moscow\" + 0.003*\"covid19\" + 0.002*\"social\" + 0.002*\"rumour\" + 0.002*\"tibetan\" + 0.002*\"locate\" + 0.002*\"vidyalya\" + 0.002*\"tehran\" + 0.002*\"sangathan\" + 0.002*\"kv\"\n",
      "Topic: 3 Words :0.003*\"ani\" + 0.002*\"now\" + 0.002*\"bed\" + 0.002*\"contain\" + 0.002*\"mea\" + 0.002*\"iran\" + 0.002*\"cut\" + 0.002*\"ongoing\" + 0.002*\"chalking\" + 0.002*\"actively\"\n",
      "Topic: 4 Words :0.010*\"case\" + 0.008*\"report\" + 0.008*\"new\" + 0.007*\"say\" + 0.007*\"positive\" + 0.006*\"coronavirus\" + 0.006*\"test\" + 0.006*\"#\" + 0.006*\"first\" + 0.006*\"death\"\n",
      "Topic: 5 Words :0.005*\"uddhav\" + 0.004*\"emergency\" + 0.004*\"singapore\" + 0.004*\"private\" + 0.004*\"mea\" + 0.004*\"student\" + 0.003*\"work\" + 0.003*\"strand\" + 0.003*\"essential\" + 0.003*\"health\"\n",
      "Topic: 6 Words :0.008*\"international\" + 0.006*\"22\" + 0.006*\"land\" + 0.006*\"flight\" + 0.005*\"march\" + 0.005*\"schedule\" + 0.005*\"commercial\" + 0.004*\"operation\" + 0.004*\"suspend\" + 0.004*\"india\"\n",
      "Topic: 7 Words :0.004*\"iran\" + 0.003*\"31\" + 0.003*\"march\" + 0.003*\"2020\" + 0.003*\"yesterday\" + 0.003*\"201\" + 0.003*\"till\" + 0.003*\"s\" + 0.003*\"indian\" + 0.003*\"evacuate\"\n",
      "Topic: 8 Words :0.004*\"punjab\" + 0.004*\"die\" + 0.004*\"man\" + 0.004*\"germany\" + 0.003*\"railway\" + 0.003*\"test\" + 0.003*\"name\" + 0.003*\"pr\" + 0.002*\"stay\" + 0.002*\"cancel\"\n",
      "Topic: 9 Words :0.004*\"10\" + 0.003*\"child\" + 0.003*\"concessional\" + 0.003*\"cancel\" + 0.003*\"union\" + 0.003*\"remain\" + 0.003*\"ticket\" + 0.003*\"advise\" + 0.003*\"icse\" + 0.003*\"year\"\n"
     ]
    }
   ],
   "source": [
    "for i, topic in lda_model_tfidf.print_topics(-1):\n",
    "    print('Topic: {} Words :{}'.format(i,topic))"
   ]
  },
  {
   "cell_type": "code",
   "execution_count": 65,
   "metadata": {},
   "outputs": [
    {
     "name": "stdout",
     "output_type": "stream",
     "text": [
      "\n",
      "Score: 0.4991118013858795\t \n",
      "Topic: 0.010*\"case\" + 0.008*\"report\" + 0.008*\"new\" + 0.007*\"say\" + 0.007*\"positive\" + 0.006*\"coronavirus\" + 0.006*\"test\" + 0.006*\"#\" + 0.006*\"first\" + 0.006*\"death\"\n",
      "\n",
      "Score: 0.4281404912471771\t \n",
      "Topic: 0.004*\"10\" + 0.003*\"child\" + 0.003*\"concessional\" + 0.003*\"cancel\" + 0.003*\"union\" + 0.003*\"remain\" + 0.003*\"ticket\" + 0.003*\"advise\" + 0.003*\"icse\" + 0.003*\"year\"\n"
     ]
    }
   ],
   "source": [
    "for index, score in sorted(lda_model_tfidf[document_bow[100]], key=lambda tup: -1*tup[1]):\n",
    "    print(\"\\nScore: {}\\t \\nTopic: {}\".format(score, lda_model_tfidf.print_topic(index, 10)))"
   ]
  },
  {
   "cell_type": "code",
   "execution_count": 108,
   "metadata": {},
   "outputs": [],
   "source": [
    "topics_list = []\n",
    "for index in news.index:\n",
    "    topic_dic = {}\n",
    "    \n",
    "    for i, score in sorted(lda_model_tfidf[document_bow[index]], key=lambda tup: -1*tup[1]):\n",
    "        topic_dic['i'] = i\n",
    "        topic_dic['score'] = score\n",
    "        continue\n",
    "    \n",
    "    topics_list.append(topic_dic.get('i'))"
   ]
  },
  {
   "cell_type": "code",
   "execution_count": 110,
   "metadata": {},
   "outputs": [],
   "source": [
    "news['topic'] = topics_list"
   ]
  },
  {
   "cell_type": "code",
   "execution_count": 111,
   "metadata": {},
   "outputs": [
    {
     "data": {
      "text/html": [
       "<div>\n",
       "<style scoped>\n",
       "    .dataframe tbody tr th:only-of-type {\n",
       "        vertical-align: middle;\n",
       "    }\n",
       "\n",
       "    .dataframe tbody tr th {\n",
       "        vertical-align: top;\n",
       "    }\n",
       "\n",
       "    .dataframe thead th {\n",
       "        text-align: right;\n",
       "    }\n",
       "</style>\n",
       "<table border=\"1\" class=\"dataframe\">\n",
       "  <thead>\n",
       "    <tr style=\"text-align: right;\">\n",
       "      <th></th>\n",
       "      <th>datetime</th>\n",
       "      <th>text</th>\n",
       "      <th>cleaned_text</th>\n",
       "      <th>sentiment_score</th>\n",
       "      <th>sentiment</th>\n",
       "      <th>topic</th>\n",
       "    </tr>\n",
       "  </thead>\n",
       "  <tbody>\n",
       "    <tr>\n",
       "      <th>0</th>\n",
       "      <td>17:58 (IST), Mar 19</td>\n",
       "      <td>Those asked to undergo quarantine should follo...</td>\n",
       "      <td>[ask, undergo, quarantine, follow, rule, else,...</td>\n",
       "      <td>0.0000</td>\n",
       "      <td>negative</td>\n",
       "      <td>4</td>\n",
       "    </tr>\n",
       "    <tr>\n",
       "      <th>1</th>\n",
       "      <td>17:57 (IST), Mar 19</td>\n",
       "      <td>We have succeeded in keeping coronavirus at co...</td>\n",
       "      <td>[succeed, keep, coronavirus, containment, leve...</td>\n",
       "      <td>0.4215</td>\n",
       "      <td>positive</td>\n",
       "      <td>4</td>\n",
       "    </tr>\n",
       "    <tr>\n",
       "      <th>2</th>\n",
       "      <td>17:55 (IST), Mar 19</td>\n",
       "      <td>201 Indians evacuated from Iran yesterday: Avi...</td>\n",
       "      <td>[201, indian, evacuate, iran, yesterday, aviat...</td>\n",
       "      <td>0.0000</td>\n",
       "      <td>negative</td>\n",
       "      <td>8</td>\n",
       "    </tr>\n",
       "    <tr>\n",
       "      <th>3</th>\n",
       "      <td>17:55 (IST), Mar 19</td>\n",
       "      <td>Vistara to temporarily suspend international o...</td>\n",
       "      <td>[vistara, temporarily, suspend, international,...</td>\n",
       "      <td>-0.3182</td>\n",
       "      <td>negative</td>\n",
       "      <td>3</td>\n",
       "    </tr>\n",
       "    <tr>\n",
       "      <th>4</th>\n",
       "      <td>17:52 (IST), Mar 19</td>\n",
       "      <td>Lav Agarwal, Joint Secretary, Health Ministry:...</td>\n",
       "      <td>[lav, agarwal, joint, secretary, health, minis...</td>\n",
       "      <td>-0.2960</td>\n",
       "      <td>negative</td>\n",
       "      <td>8</td>\n",
       "    </tr>\n",
       "  </tbody>\n",
       "</table>\n",
       "</div>"
      ],
      "text/plain": [
       "              datetime                                               text  \\\n",
       "0  17:58 (IST), Mar 19  Those asked to undergo quarantine should follo...   \n",
       "1  17:57 (IST), Mar 19  We have succeeded in keeping coronavirus at co...   \n",
       "2  17:55 (IST), Mar 19  201 Indians evacuated from Iran yesterday: Avi...   \n",
       "3  17:55 (IST), Mar 19  Vistara to temporarily suspend international o...   \n",
       "4  17:52 (IST), Mar 19  Lav Agarwal, Joint Secretary, Health Ministry:...   \n",
       "\n",
       "                                        cleaned_text  sentiment_score  \\\n",
       "0  [ask, undergo, quarantine, follow, rule, else,...           0.0000   \n",
       "1  [succeed, keep, coronavirus, containment, leve...           0.4215   \n",
       "2  [201, indian, evacuate, iran, yesterday, aviat...           0.0000   \n",
       "3  [vistara, temporarily, suspend, international,...          -0.3182   \n",
       "4  [lav, agarwal, joint, secretary, health, minis...          -0.2960   \n",
       "\n",
       "  sentiment  topic  \n",
       "0  negative      4  \n",
       "1  positive      4  \n",
       "2  negative      8  \n",
       "3  negative      3  \n",
       "4  negative      8  "
      ]
     },
     "execution_count": 111,
     "metadata": {},
     "output_type": "execute_result"
    }
   ],
   "source": [
    "news.head()"
   ]
  },
  {
   "cell_type": "code",
   "execution_count": 112,
   "metadata": {},
   "outputs": [
    {
     "data": {
      "text/plain": [
       "negative    194\n",
       "positive     91\n",
       "Name: sentiment, dtype: int64"
      ]
     },
     "execution_count": 112,
     "metadata": {},
     "output_type": "execute_result"
    }
   ],
   "source": [
    "news.sentiment.value_counts()"
   ]
  },
  {
   "cell_type": "code",
   "execution_count": 113,
   "metadata": {},
   "outputs": [
    {
     "data": {
      "text/plain": [
       "4    111\n",
       "5     31\n",
       "6     30\n",
       "9     29\n",
       "0     25\n",
       "8     14\n",
       "3     13\n",
       "2     11\n",
       "1     11\n",
       "7     10\n",
       "Name: topic, dtype: int64"
      ]
     },
     "execution_count": 113,
     "metadata": {},
     "output_type": "execute_result"
    }
   ],
   "source": [
    "news.topic.value_counts()"
   ]
  },
  {
   "cell_type": "code",
   "execution_count": null,
   "metadata": {},
   "outputs": [],
   "source": []
  }
 ],
 "metadata": {
  "kernelspec": {
   "display_name": "Python 3",
   "language": "python",
   "name": "python3"
  },
  "language_info": {
   "codemirror_mode": {
    "name": "ipython",
    "version": 3
   },
   "file_extension": ".py",
   "mimetype": "text/x-python",
   "name": "python",
   "nbconvert_exporter": "python",
   "pygments_lexer": "ipython3",
   "version": "3.7.3"
  }
 },
 "nbformat": 4,
 "nbformat_minor": 4
}
