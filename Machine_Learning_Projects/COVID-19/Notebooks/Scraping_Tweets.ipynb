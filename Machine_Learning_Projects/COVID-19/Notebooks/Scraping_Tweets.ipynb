{
 "cells": [
  {
   "cell_type": "code",
   "execution_count": 17,
   "metadata": {},
   "outputs": [],
   "source": [
    "import secret_keys as key\n",
    "from tqdm import tqdm_notebook as tqdm\n",
    "import pandas as pd\n"
   ]
  },
  {
   "cell_type": "code",
   "execution_count": 2,
   "metadata": {},
   "outputs": [],
   "source": [
    "import tweepy\n",
    "\n",
    "# Creating the authentication object\n",
    "auth = tweepy.OAuthHandler(key.consumer_key, key.consumer_secret)\n",
    "# Setting your access token and secret\n",
    "auth.set_access_token(key.access_token, key.access_token_secret)\n",
    "# Creating the API object while passing in auth information\n",
    "api = tweepy.API(auth,wait_on_rate_limit=True) "
   ]
  },
  {
   "cell_type": "code",
   "execution_count": 52,
   "metadata": {},
   "outputs": [],
   "source": [
    "search_words = '#corona OR #covid-19 OR #covid OR #flattenthecurve'\n",
    "date_since = '2020-03-21'"
   ]
  },
  {
   "cell_type": "code",
   "execution_count": 53,
   "metadata": {},
   "outputs": [],
   "source": [
    "tweets = tweepy.Cursor(api.search ,\n",
    "                       q = search_words,\n",
    "                       lang = 'en',\n",
    "                       since = date_since\n",
    "                      ).items(1000)"
   ]
  },
  {
   "cell_type": "code",
   "execution_count": 54,
   "metadata": {},
   "outputs": [],
   "source": [
    "tweet_list = [[ tweet.geo, tweet.text, tweet.user.screen_name, tweet.user.location ] for tweet in tweets]"
   ]
  },
  {
   "cell_type": "code",
   "execution_count": 55,
   "metadata": {},
   "outputs": [],
   "source": [
    "df_tweets = pd.DataFrame(tweet_list, columns = ['geo', 'tweet' , 'user_handle','location'])"
   ]
  },
  {
   "cell_type": "code",
   "execution_count": 56,
   "metadata": {},
   "outputs": [
    {
     "name": "stdout",
     "output_type": "stream",
     "text": [
      "<class 'pandas.core.frame.DataFrame'>\n",
      "RangeIndex: 1000 entries, 0 to 999\n",
      "Data columns (total 4 columns):\n",
      "geo            1 non-null object\n",
      "tweet          1000 non-null object\n",
      "user_handle    1000 non-null object\n",
      "location       1000 non-null object\n",
      "dtypes: object(4)\n",
      "memory usage: 31.3+ KB\n"
     ]
    }
   ],
   "source": [
    "df_tweets.info()"
   ]
  },
  {
   "cell_type": "code",
   "execution_count": 58,
   "metadata": {},
   "outputs": [],
   "source": [
    "# https://towardsdatascience.com/another-twitter-sentiment-analysis-bb5b01ebad90\n",
    "# Tweet data cleaning\n",
    "import re\n",
    "from bs4 import BeautifulSoup\n",
    "from nltk.tokenize import WordPunctTokenizer\n",
    "tok = WordPunctTokenizer()\n",
    "pat1 = r'@[A-Za-z0-9]+'\n",
    "pat2 = r'https?://[A-Za-z0-9./]+'\n",
    "combined_pat = r'|'.join((pat1, pat2))\n",
    "def tweet_cleaner(text):\n",
    "    soup = BeautifulSoup(text, 'lxml')\n",
    "    souped = soup.get_text()\n",
    "    stripped = re.sub(combined_pat, '', souped)\n",
    "    try:\n",
    "        clean = stripped.decode(\"utf-8-sig\").replace(u\"\\ufffd\", \"?\")\n",
    "    except:\n",
    "        clean = stripped\n",
    "    letters_only = re.sub(\"[^a-zA-Z]\", \" \", clean)\n",
    "    lower_case = letters_only.lower()\n",
    "    # During the letters_only process two lines above, it has created unnecessay white spaces,\n",
    "    # I will tokenize and join together to remove unneccessary white spaces\n",
    "    words = tok.tokenize(lower_case)\n",
    "    return (\" \".join(words)).strip()"
   ]
  },
  {
   "cell_type": "code",
   "execution_count": 65,
   "metadata": {},
   "outputs": [
    {
     "data": {
      "application/vnd.jupyter.widget-view+json": {
       "model_id": "c5e60193d5044445a91a1c0d92d48bbb",
       "version_major": 2,
       "version_minor": 0
      },
      "text/plain": [
       "HBox(children=(FloatProgress(value=0.0, max=1000.0), HTML(value='')))"
      ]
     },
     "metadata": {},
     "output_type": "display_data"
    },
    {
     "name": "stdout",
     "output_type": "stream",
     "text": [
      "\n"
     ]
    }
   ],
   "source": [
    "df_tweets['cleaned_tweets'] = df_tweets.tweet.progress_apply(tweet_cleaner)"
   ]
  },
  {
   "cell_type": "code",
   "execution_count": 66,
   "metadata": {},
   "outputs": [
    {
     "data": {
      "text/html": [
       "<div>\n",
       "<style scoped>\n",
       "    .dataframe tbody tr th:only-of-type {\n",
       "        vertical-align: middle;\n",
       "    }\n",
       "\n",
       "    .dataframe tbody tr th {\n",
       "        vertical-align: top;\n",
       "    }\n",
       "\n",
       "    .dataframe thead th {\n",
       "        text-align: right;\n",
       "    }\n",
       "</style>\n",
       "<table border=\"1\" class=\"dataframe\">\n",
       "  <thead>\n",
       "    <tr style=\"text-align: right;\">\n",
       "      <th></th>\n",
       "      <th>geo</th>\n",
       "      <th>tweet</th>\n",
       "      <th>user_handle</th>\n",
       "      <th>location</th>\n",
       "      <th>cleaned_tweets</th>\n",
       "    </tr>\n",
       "  </thead>\n",
       "  <tbody>\n",
       "    <tr>\n",
       "      <th>0</th>\n",
       "      <td>None</td>\n",
       "      <td>RT @dustin_SFA: My wife and I pastor a church ...</td>\n",
       "      <td>mmmmaybachmusik</td>\n",
       "      <td></td>\n",
       "      <td>rt sfa my wife and i pastor a church in sherid...</td>\n",
       "    </tr>\n",
       "    <tr>\n",
       "      <th>1</th>\n",
       "      <td>None</td>\n",
       "      <td>RT @UNOCHA: 🚨 MEDIA ALERT\\n\\n@antonioguterres ...</td>\n",
       "      <td>UNinSyria</td>\n",
       "      <td>Syria</td>\n",
       "      <td>rt media alert will virtually launch the covid...</td>\n",
       "    </tr>\n",
       "    <tr>\n",
       "      <th>2</th>\n",
       "      <td>None</td>\n",
       "      <td>RT @francesleach_: Cuban doctors arriving into...</td>\n",
       "      <td>Dorli28</td>\n",
       "      <td></td>\n",
       "      <td>rt cuban doctors arriving into italy to suppor...</td>\n",
       "    </tr>\n",
       "    <tr>\n",
       "      <th>3</th>\n",
       "      <td>None</td>\n",
       "      <td>COVID-19: Union Bank Activates Remote Working ...</td>\n",
       "      <td>tcpmultimedia</td>\n",
       "      <td></td>\n",
       "      <td>covid union bank activates remote working for ...</td>\n",
       "    </tr>\n",
       "    <tr>\n",
       "      <th>4</th>\n",
       "      <td>None</td>\n",
       "      <td>via @PerilofAfrica  Russian Fitness Model Draw...</td>\n",
       "      <td>mlnangalama</td>\n",
       "      <td>New Brunswick, Canada</td>\n",
       "      <td>via russian fitness model draws ire after maki...</td>\n",
       "    </tr>\n",
       "  </tbody>\n",
       "</table>\n",
       "</div>"
      ],
      "text/plain": [
       "    geo                                              tweet      user_handle  \\\n",
       "0  None  RT @dustin_SFA: My wife and I pastor a church ...  mmmmaybachmusik   \n",
       "1  None  RT @UNOCHA: 🚨 MEDIA ALERT\\n\\n@antonioguterres ...        UNinSyria   \n",
       "2  None  RT @francesleach_: Cuban doctors arriving into...          Dorli28   \n",
       "3  None  COVID-19: Union Bank Activates Remote Working ...    tcpmultimedia   \n",
       "4  None  via @PerilofAfrica  Russian Fitness Model Draw...      mlnangalama   \n",
       "\n",
       "                location                                     cleaned_tweets  \n",
       "0                         rt sfa my wife and i pastor a church in sherid...  \n",
       "1                  Syria  rt media alert will virtually launch the covid...  \n",
       "2                         rt cuban doctors arriving into italy to suppor...  \n",
       "3                         covid union bank activates remote working for ...  \n",
       "4  New Brunswick, Canada  via russian fitness model draws ire after maki...  "
      ]
     },
     "execution_count": 66,
     "metadata": {},
     "output_type": "execute_result"
    }
   ],
   "source": [
    "df_tweets.head()"
   ]
  },
  {
   "cell_type": "code",
   "execution_count": 72,
   "metadata": {},
   "outputs": [],
   "source": [
    "df_tweets['cleaned_tweets'] = df_tweets.cleaned_tweets.str.replace('rt', '')"
   ]
  },
  {
   "cell_type": "code",
   "execution_count": 73,
   "metadata": {},
   "outputs": [
    {
     "data": {
      "text/html": [
       "<div>\n",
       "<style scoped>\n",
       "    .dataframe tbody tr th:only-of-type {\n",
       "        vertical-align: middle;\n",
       "    }\n",
       "\n",
       "    .dataframe tbody tr th {\n",
       "        vertical-align: top;\n",
       "    }\n",
       "\n",
       "    .dataframe thead th {\n",
       "        text-align: right;\n",
       "    }\n",
       "</style>\n",
       "<table border=\"1\" class=\"dataframe\">\n",
       "  <thead>\n",
       "    <tr style=\"text-align: right;\">\n",
       "      <th></th>\n",
       "      <th>geo</th>\n",
       "      <th>tweet</th>\n",
       "      <th>user_handle</th>\n",
       "      <th>location</th>\n",
       "      <th>cleaned_tweets</th>\n",
       "    </tr>\n",
       "  </thead>\n",
       "  <tbody>\n",
       "    <tr>\n",
       "      <th>0</th>\n",
       "      <td>None</td>\n",
       "      <td>RT @dustin_SFA: My wife and I pastor a church ...</td>\n",
       "      <td>mmmmaybachmusik</td>\n",
       "      <td></td>\n",
       "      <td>sfa my wife and i pastor a church in sheridan...</td>\n",
       "    </tr>\n",
       "    <tr>\n",
       "      <th>1</th>\n",
       "      <td>None</td>\n",
       "      <td>RT @UNOCHA: 🚨 MEDIA ALERT\\n\\n@antonioguterres ...</td>\n",
       "      <td>UNinSyria</td>\n",
       "      <td>Syria</td>\n",
       "      <td>media ale will viually launch the covid globa...</td>\n",
       "    </tr>\n",
       "    <tr>\n",
       "      <th>2</th>\n",
       "      <td>None</td>\n",
       "      <td>RT @francesleach_: Cuban doctors arriving into...</td>\n",
       "      <td>Dorli28</td>\n",
       "      <td></td>\n",
       "      <td>cuban doctors arriving into italy to suppo th...</td>\n",
       "    </tr>\n",
       "    <tr>\n",
       "      <th>3</th>\n",
       "      <td>None</td>\n",
       "      <td>COVID-19: Union Bank Activates Remote Working ...</td>\n",
       "      <td>tcpmultimedia</td>\n",
       "      <td></td>\n",
       "      <td>covid union bank activates remote working for ...</td>\n",
       "    </tr>\n",
       "    <tr>\n",
       "      <th>4</th>\n",
       "      <td>None</td>\n",
       "      <td>via @PerilofAfrica  Russian Fitness Model Draw...</td>\n",
       "      <td>mlnangalama</td>\n",
       "      <td>New Brunswick, Canada</td>\n",
       "      <td>via russian fitness model draws ire after maki...</td>\n",
       "    </tr>\n",
       "  </tbody>\n",
       "</table>\n",
       "</div>"
      ],
      "text/plain": [
       "    geo                                              tweet      user_handle  \\\n",
       "0  None  RT @dustin_SFA: My wife and I pastor a church ...  mmmmaybachmusik   \n",
       "1  None  RT @UNOCHA: 🚨 MEDIA ALERT\\n\\n@antonioguterres ...        UNinSyria   \n",
       "2  None  RT @francesleach_: Cuban doctors arriving into...          Dorli28   \n",
       "3  None  COVID-19: Union Bank Activates Remote Working ...    tcpmultimedia   \n",
       "4  None  via @PerilofAfrica  Russian Fitness Model Draw...      mlnangalama   \n",
       "\n",
       "                location                                     cleaned_tweets  \n",
       "0                          sfa my wife and i pastor a church in sheridan...  \n",
       "1                  Syria   media ale will viually launch the covid globa...  \n",
       "2                          cuban doctors arriving into italy to suppo th...  \n",
       "3                         covid union bank activates remote working for ...  \n",
       "4  New Brunswick, Canada  via russian fitness model draws ire after maki...  "
      ]
     },
     "execution_count": 73,
     "metadata": {},
     "output_type": "execute_result"
    }
   ],
   "source": [
    "df_tweets.head()"
   ]
  },
  {
   "cell_type": "code",
   "execution_count": 74,
   "metadata": {},
   "outputs": [],
   "source": [
    "df_tweets.to_csv('../Data/Tweets_scraped_23rd_CORONA_COVID_FTC.csv')"
   ]
  },
  {
   "cell_type": "code",
   "execution_count": null,
   "metadata": {},
   "outputs": [],
   "source": []
  }
 ],
 "metadata": {
  "kernelspec": {
   "display_name": "Python 3",
   "language": "python",
   "name": "python3"
  },
  "language_info": {
   "codemirror_mode": {
    "name": "ipython",
    "version": 3
   },
   "file_extension": ".py",
   "mimetype": "text/x-python",
   "name": "python",
   "nbconvert_exporter": "python",
   "pygments_lexer": "ipython3",
   "version": "3.7.3"
  }
 },
 "nbformat": 4,
 "nbformat_minor": 4
}
