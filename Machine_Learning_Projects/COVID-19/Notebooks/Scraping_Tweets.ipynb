{
 "cells": [
  {
   "cell_type": "code",
   "execution_count": 1,
   "metadata": {},
   "outputs": [],
   "source": [
    "import secret_keys as key\n",
    "# from tqdm import tqdm_notebook as tqdm\n",
    "from tqdm.notebook import tqdm_notebook\n",
    "tqdm_notebook.pandas()\n",
    "import pandas as pd"
   ]
  },
  {
   "cell_type": "code",
   "execution_count": 2,
   "metadata": {},
   "outputs": [],
   "source": [
    "import tweepy\n",
    "\n",
    "# Creating the authentication object\n",
    "auth = tweepy.OAuthHandler(key.consumer_key, key.consumer_secret)\n",
    "# Setting your access token and secret\n",
    "auth.set_access_token(key.access_token, key.access_token_secret)\n",
    "# Creating the API object while passing in auth information\n",
    "api = tweepy.API(auth,wait_on_rate_limit=True) "
   ]
  },
  {
   "cell_type": "code",
   "execution_count": 14,
   "metadata": {},
   "outputs": [],
   "source": [
    "search_words = '#corona OR #covid19 OR #covid OR #vaccine'\n",
    "date_since = '2020-03-27'"
   ]
  },
  {
   "cell_type": "code",
   "execution_count": 18,
   "metadata": {},
   "outputs": [],
   "source": [
    "tweets = tweepy.Cursor(api.search ,\n",
    "                       q = search_words,\n",
    "                       lang = 'en',\n",
    "                       since = date_since\n",
    "                      ).items(2000)"
   ]
  },
  {
   "cell_type": "code",
   "execution_count": 19,
   "metadata": {},
   "outputs": [
    {
     "data": {
      "application/vnd.jupyter.widget-view+json": {
       "model_id": "7aaabbe2efab422a9be0aebbb3d86e5d",
       "version_major": 2,
       "version_minor": 0
      },
      "text/plain": [
       "HBox(children=(FloatProgress(value=0.0, max=2000.0), HTML(value='')))"
      ]
     },
     "metadata": {},
     "output_type": "display_data"
    },
    {
     "name": "stdout",
     "output_type": "stream",
     "text": [
      "\n"
     ]
    }
   ],
   "source": [
    "tweet_list = [[ tweet.geo, tweet.text, tweet.user.screen_name, tweet.user.location ] for tweet in tqdm_notebook(tweets,total = 2000)]"
   ]
  },
  {
   "cell_type": "code",
   "execution_count": 20,
   "metadata": {},
   "outputs": [],
   "source": [
    "df_tweets = pd.DataFrame(tweet_list, columns = ['geo', 'tweet' , 'user_handle','location'])"
   ]
  },
  {
   "cell_type": "code",
   "execution_count": 21,
   "metadata": {},
   "outputs": [
    {
     "name": "stdout",
     "output_type": "stream",
     "text": [
      "<class 'pandas.core.frame.DataFrame'>\n",
      "RangeIndex: 2000 entries, 0 to 1999\n",
      "Data columns (total 4 columns):\n",
      "geo            2 non-null object\n",
      "tweet          2000 non-null object\n",
      "user_handle    2000 non-null object\n",
      "location       2000 non-null object\n",
      "dtypes: object(4)\n",
      "memory usage: 62.6+ KB\n"
     ]
    }
   ],
   "source": [
    "df_tweets.info()"
   ]
  },
  {
   "cell_type": "code",
   "execution_count": 22,
   "metadata": {},
   "outputs": [],
   "source": [
    "# https://towardsdatascience.com/another-twitter-sentiment-analysis-bb5b01ebad90\n",
    "# Tweet data cleaning\n",
    "import re\n",
    "from bs4 import BeautifulSoup\n",
    "from nltk.tokenize import WordPunctTokenizer\n",
    "tok = WordPunctTokenizer()\n",
    "pat1 = r'@[A-Za-z0-9]+'\n",
    "pat2 = r'https?://[A-Za-z0-9./]+'\n",
    "combined_pat = r'|'.join((pat1, pat2))\n",
    "def tweet_cleaner(text):\n",
    "    soup = BeautifulSoup(text, 'lxml')\n",
    "    souped = soup.get_text()\n",
    "    stripped = re.sub(combined_pat, '', souped)\n",
    "    try:\n",
    "        clean = stripped.decode(\"utf-8-sig\").replace(u\"\\ufffd\", \"?\")\n",
    "    except:\n",
    "        clean = stripped\n",
    "    letters_only = re.sub(\"[^a-zA-Z]\", \" \", clean)\n",
    "#     lower_case = letters_only.lower()\n",
    "    # During the letters_only process two lines above, it has created unnecessay white spaces,\n",
    "    # I will tokenize and join together to remove unneccessary white spaces\n",
    "#     words = tok.tokenize(lower_case)\n",
    "    words = tok.tokenize(letters_only)\n",
    "    return (\" \".join(words)).strip()"
   ]
  },
  {
   "cell_type": "code",
   "execution_count": 23,
   "metadata": {},
   "outputs": [
    {
     "data": {
      "application/vnd.jupyter.widget-view+json": {
       "model_id": "7285af456ee24587b48f64c90c7d822e",
       "version_major": 2,
       "version_minor": 0
      },
      "text/plain": [
       "HBox(children=(FloatProgress(value=0.0, max=2000.0), HTML(value='')))"
      ]
     },
     "metadata": {},
     "output_type": "display_data"
    },
    {
     "name": "stdout",
     "output_type": "stream",
     "text": [
      "\n"
     ]
    }
   ],
   "source": [
    "df_tweets['cleaned_tweets'] = df_tweets.tweet.progress_apply(tweet_cleaner)"
   ]
  },
  {
   "cell_type": "code",
   "execution_count": 24,
   "metadata": {},
   "outputs": [
    {
     "data": {
      "text/html": [
       "<div>\n",
       "<style scoped>\n",
       "    .dataframe tbody tr th:only-of-type {\n",
       "        vertical-align: middle;\n",
       "    }\n",
       "\n",
       "    .dataframe tbody tr th {\n",
       "        vertical-align: top;\n",
       "    }\n",
       "\n",
       "    .dataframe thead th {\n",
       "        text-align: right;\n",
       "    }\n",
       "</style>\n",
       "<table border=\"1\" class=\"dataframe\">\n",
       "  <thead>\n",
       "    <tr style=\"text-align: right;\">\n",
       "      <th></th>\n",
       "      <th>geo</th>\n",
       "      <th>tweet</th>\n",
       "      <th>user_handle</th>\n",
       "      <th>location</th>\n",
       "      <th>cleaned_tweets</th>\n",
       "    </tr>\n",
       "  </thead>\n",
       "  <tbody>\n",
       "    <tr>\n",
       "      <th>0</th>\n",
       "      <td>None</td>\n",
       "      <td>RT @DDNewslive: #PopeFrancis backs UN chief's ...</td>\n",
       "      <td>itsdubeyrishabh</td>\n",
       "      <td>Gonda, Uttar Pradesh, India</td>\n",
       "      <td>RT PopeFrancis backs UN chief s call for a cea...</td>\n",
       "    </tr>\n",
       "    <tr>\n",
       "      <th>1</th>\n",
       "      <td>None</td>\n",
       "      <td>Memo to the @nytimes Maybe you should check wi...</td>\n",
       "      <td>drgrcevich</td>\n",
       "      <td>Chagrin Falls, OH</td>\n",
       "      <td>Memo to the Maybe you should check with these ...</td>\n",
       "    </tr>\n",
       "    <tr>\n",
       "      <th>2</th>\n",
       "      <td>None</td>\n",
       "      <td>RT @GovNL: Physical (social) distancing means ...</td>\n",
       "      <td>eilanda23</td>\n",
       "      <td></td>\n",
       "      <td>RT Physical social distancing means limiting y...</td>\n",
       "    </tr>\n",
       "    <tr>\n",
       "      <th>3</th>\n",
       "      <td>None</td>\n",
       "      <td>RT @DrBeniRusani: [BREAKING NEWS]\\n\\nThis doct...</td>\n",
       "      <td>gdwnsmnt_</td>\n",
       "      <td></td>\n",
       "      <td>RT BREAKING NEWS This doctor identifies the mi...</td>\n",
       "    </tr>\n",
       "    <tr>\n",
       "      <th>4</th>\n",
       "      <td>None</td>\n",
       "      <td>RT @RKSharma__: Divided by states, United by @...</td>\n",
       "      <td>Pparimal24</td>\n",
       "      <td>Surat,Gujarat</td>\n",
       "      <td>RT Divided by states United by On the appeal o...</td>\n",
       "    </tr>\n",
       "  </tbody>\n",
       "</table>\n",
       "</div>"
      ],
      "text/plain": [
       "    geo                                              tweet      user_handle  \\\n",
       "0  None  RT @DDNewslive: #PopeFrancis backs UN chief's ...  itsdubeyrishabh   \n",
       "1  None  Memo to the @nytimes Maybe you should check wi...       drgrcevich   \n",
       "2  None  RT @GovNL: Physical (social) distancing means ...        eilanda23   \n",
       "3  None  RT @DrBeniRusani: [BREAKING NEWS]\\n\\nThis doct...        gdwnsmnt_   \n",
       "4  None  RT @RKSharma__: Divided by states, United by @...       Pparimal24   \n",
       "\n",
       "                      location  \\\n",
       "0  Gonda, Uttar Pradesh, India   \n",
       "1            Chagrin Falls, OH   \n",
       "2                                \n",
       "3                                \n",
       "4                Surat,Gujarat   \n",
       "\n",
       "                                      cleaned_tweets  \n",
       "0  RT PopeFrancis backs UN chief s call for a cea...  \n",
       "1  Memo to the Maybe you should check with these ...  \n",
       "2  RT Physical social distancing means limiting y...  \n",
       "3  RT BREAKING NEWS This doctor identifies the mi...  \n",
       "4  RT Divided by states United by On the appeal o...  "
      ]
     },
     "execution_count": 24,
     "metadata": {},
     "output_type": "execute_result"
    }
   ],
   "source": [
    "df_tweets.head()"
   ]
  },
  {
   "cell_type": "code",
   "execution_count": 27,
   "metadata": {},
   "outputs": [],
   "source": [
    "df_tweets['cleaned_tweets'] = df_tweets.cleaned_tweets.str.replace('RT', '')"
   ]
  },
  {
   "cell_type": "code",
   "execution_count": 28,
   "metadata": {},
   "outputs": [
    {
     "data": {
      "text/html": [
       "<div>\n",
       "<style scoped>\n",
       "    .dataframe tbody tr th:only-of-type {\n",
       "        vertical-align: middle;\n",
       "    }\n",
       "\n",
       "    .dataframe tbody tr th {\n",
       "        vertical-align: top;\n",
       "    }\n",
       "\n",
       "    .dataframe thead th {\n",
       "        text-align: right;\n",
       "    }\n",
       "</style>\n",
       "<table border=\"1\" class=\"dataframe\">\n",
       "  <thead>\n",
       "    <tr style=\"text-align: right;\">\n",
       "      <th></th>\n",
       "      <th>geo</th>\n",
       "      <th>tweet</th>\n",
       "      <th>user_handle</th>\n",
       "      <th>location</th>\n",
       "      <th>cleaned_tweets</th>\n",
       "    </tr>\n",
       "  </thead>\n",
       "  <tbody>\n",
       "    <tr>\n",
       "      <th>0</th>\n",
       "      <td>None</td>\n",
       "      <td>RT @DDNewslive: #PopeFrancis backs UN chief's ...</td>\n",
       "      <td>itsdubeyrishabh</td>\n",
       "      <td>Gonda, Uttar Pradesh, India</td>\n",
       "      <td>PopeFrancis backs UN chief s call for a cease...</td>\n",
       "    </tr>\n",
       "    <tr>\n",
       "      <th>1</th>\n",
       "      <td>None</td>\n",
       "      <td>Memo to the @nytimes Maybe you should check wi...</td>\n",
       "      <td>drgrcevich</td>\n",
       "      <td>Chagrin Falls, OH</td>\n",
       "      <td>Memo to the Maybe you should check with these ...</td>\n",
       "    </tr>\n",
       "    <tr>\n",
       "      <th>2</th>\n",
       "      <td>None</td>\n",
       "      <td>RT @GovNL: Physical (social) distancing means ...</td>\n",
       "      <td>eilanda23</td>\n",
       "      <td></td>\n",
       "      <td>Physical social distancing means limiting you...</td>\n",
       "    </tr>\n",
       "    <tr>\n",
       "      <th>3</th>\n",
       "      <td>None</td>\n",
       "      <td>RT @DrBeniRusani: [BREAKING NEWS]\\n\\nThis doct...</td>\n",
       "      <td>gdwnsmnt_</td>\n",
       "      <td></td>\n",
       "      <td>BREAKING NEWS This doctor identifies the mist...</td>\n",
       "    </tr>\n",
       "    <tr>\n",
       "      <th>4</th>\n",
       "      <td>None</td>\n",
       "      <td>RT @RKSharma__: Divided by states, United by @...</td>\n",
       "      <td>Pparimal24</td>\n",
       "      <td>Surat,Gujarat</td>\n",
       "      <td>Divided by states United by On the appeal of ...</td>\n",
       "    </tr>\n",
       "  </tbody>\n",
       "</table>\n",
       "</div>"
      ],
      "text/plain": [
       "    geo                                              tweet      user_handle  \\\n",
       "0  None  RT @DDNewslive: #PopeFrancis backs UN chief's ...  itsdubeyrishabh   \n",
       "1  None  Memo to the @nytimes Maybe you should check wi...       drgrcevich   \n",
       "2  None  RT @GovNL: Physical (social) distancing means ...        eilanda23   \n",
       "3  None  RT @DrBeniRusani: [BREAKING NEWS]\\n\\nThis doct...        gdwnsmnt_   \n",
       "4  None  RT @RKSharma__: Divided by states, United by @...       Pparimal24   \n",
       "\n",
       "                      location  \\\n",
       "0  Gonda, Uttar Pradesh, India   \n",
       "1            Chagrin Falls, OH   \n",
       "2                                \n",
       "3                                \n",
       "4                Surat,Gujarat   \n",
       "\n",
       "                                      cleaned_tweets  \n",
       "0   PopeFrancis backs UN chief s call for a cease...  \n",
       "1  Memo to the Maybe you should check with these ...  \n",
       "2   Physical social distancing means limiting you...  \n",
       "3   BREAKING NEWS This doctor identifies the mist...  \n",
       "4   Divided by states United by On the appeal of ...  "
      ]
     },
     "execution_count": 28,
     "metadata": {},
     "output_type": "execute_result"
    }
   ],
   "source": [
    "df_tweets.head()"
   ]
  },
  {
   "cell_type": "code",
   "execution_count": 29,
   "metadata": {},
   "outputs": [],
   "source": [
    "df_tweets.to_csv('../Data/Tweets_scraped_2000_29th_CORONA_COVID.csv',index=False)"
   ]
  },
  {
   "cell_type": "code",
   "execution_count": null,
   "metadata": {},
   "outputs": [],
   "source": []
  },
  {
   "cell_type": "code",
   "execution_count": null,
   "metadata": {},
   "outputs": [],
   "source": []
  }
 ],
 "metadata": {
  "kernelspec": {
   "display_name": "Python 3",
   "language": "python",
   "name": "python3"
  },
  "language_info": {
   "codemirror_mode": {
    "name": "ipython",
    "version": 3
   },
   "file_extension": ".py",
   "mimetype": "text/x-python",
   "name": "python",
   "nbconvert_exporter": "python",
   "pygments_lexer": "ipython3",
   "version": "3.7.3"
  },
  "widgets": {
   "application/vnd.jupyter.widget-state+json": {
    "state": {
     "0adaf401862e4a7b98d43a2359ff5e58": {
      "model_module": "@jupyter-widgets/controls",
      "model_module_version": "1.4.0",
      "model_name": "ProgressStyleModel",
      "state": {
       "_model_module_version": "1.4.0",
       "_view_module_version": "1.1.0",
       "description_width": "initial"
      }
     },
     "0bbf1fa05d7a451eac259321bfe96c7a": {
      "model_module": "@jupyter-widgets/controls",
      "model_module_version": "1.4.0",
      "model_name": "HTMLModel",
      "state": {
       "_model_module_version": "1.4.0",
       "_view_module_version": "1.4.0",
       "layout": "IPY_MODEL_2d5c8140a2684c42a3631d02e63f6552",
       "style": "IPY_MODEL_210e14c1a3114f93ad6ae90311d30310",
       "value": " 2000/2000 [02:52&lt;00:00, 11.62it/s]"
      }
     },
     "162aae39a25844b19015ad72c83351e9": {
      "model_module": "@jupyter-widgets/controls",
      "model_module_version": "1.4.0",
      "model_name": "DescriptionStyleModel",
      "state": {
       "_model_module_version": "1.4.0",
       "_view_module_version": "1.1.0",
       "description_width": ""
      }
     },
     "184383e0b8ff4be98e14bcdcb1422e11": {
      "model_module": "@jupyter-widgets/base",
      "model_module_version": "1.1.0",
      "model_name": "LayoutModel",
      "state": {
       "_model_module_version": "1.1.0",
       "_view_module_version": "1.1.0"
      }
     },
     "210e14c1a3114f93ad6ae90311d30310": {
      "model_module": "@jupyter-widgets/controls",
      "model_module_version": "1.4.0",
      "model_name": "DescriptionStyleModel",
      "state": {
       "_model_module_version": "1.4.0",
       "_view_module_version": "1.1.0",
       "description_width": ""
      }
     },
     "219035f7eaca46afb8315ed52a7d926a": {
      "model_module": "@jupyter-widgets/base",
      "model_module_version": "1.1.0",
      "model_name": "LayoutModel",
      "state": {
       "_model_module_version": "1.1.0",
       "_view_module_version": "1.1.0"
      }
     },
     "23b1fca613e740168cbce654a1ac9f99": {
      "model_module": "@jupyter-widgets/base",
      "model_module_version": "1.1.0",
      "model_name": "LayoutModel",
      "state": {
       "_model_module_version": "1.1.0",
       "_view_module_version": "1.1.0"
      }
     },
     "2ca7a72788bf4e8db15052c12793e1be": {
      "model_module": "@jupyter-widgets/controls",
      "model_module_version": "1.4.0",
      "model_name": "DescriptionStyleModel",
      "state": {
       "_model_module_version": "1.4.0",
       "_view_module_version": "1.1.0",
       "description_width": ""
      }
     },
     "2d5c8140a2684c42a3631d02e63f6552": {
      "model_module": "@jupyter-widgets/base",
      "model_module_version": "1.1.0",
      "model_name": "LayoutModel",
      "state": {
       "_model_module_version": "1.1.0",
       "_view_module_version": "1.1.0"
      }
     },
     "2e5585806f3847e993bceee79c344f04": {
      "model_module": "@jupyter-widgets/controls",
      "model_module_version": "1.4.0",
      "model_name": "ProgressStyleModel",
      "state": {
       "_model_module_version": "1.4.0",
       "_view_module_version": "1.1.0",
       "description_width": "initial"
      }
     },
     "379dfd6c12804b0391e3d48f83fd7529": {
      "model_module": "@jupyter-widgets/controls",
      "model_module_version": "1.4.0",
      "model_name": "FloatProgressModel",
      "state": {
       "_model_module_version": "1.4.0",
       "_view_module_version": "1.4.0",
       "bar_style": "success",
       "description": "100%",
       "layout": "IPY_MODEL_69ddf618bd034f8ebe4dffd4c01b4dc3",
       "max": 2000,
       "style": "IPY_MODEL_4c36259e212d4b3bbc56a4b5cb44b127",
       "value": 2000
      }
     },
     "4c36259e212d4b3bbc56a4b5cb44b127": {
      "model_module": "@jupyter-widgets/controls",
      "model_module_version": "1.4.0",
      "model_name": "ProgressStyleModel",
      "state": {
       "_model_module_version": "1.4.0",
       "_view_module_version": "1.1.0",
       "description_width": "initial"
      }
     },
     "61f2491d2d1d4f49b2562f17af1f99ed": {
      "model_module": "@jupyter-widgets/base",
      "model_module_version": "1.1.0",
      "model_name": "LayoutModel",
      "state": {
       "_model_module_version": "1.1.0",
       "_view_module_version": "1.1.0"
      }
     },
     "65eecc1f05744dabb96809c6314ca81a": {
      "model_module": "@jupyter-widgets/base",
      "model_module_version": "1.1.0",
      "model_name": "LayoutModel",
      "state": {
       "_model_module_version": "1.1.0",
       "_view_module_version": "1.1.0"
      }
     },
     "69ddf618bd034f8ebe4dffd4c01b4dc3": {
      "model_module": "@jupyter-widgets/base",
      "model_module_version": "1.1.0",
      "model_name": "LayoutModel",
      "state": {
       "_model_module_version": "1.1.0",
       "_view_module_version": "1.1.0"
      }
     },
     "7285af456ee24587b48f64c90c7d822e": {
      "model_module": "@jupyter-widgets/controls",
      "model_module_version": "1.4.0",
      "model_name": "HBoxModel",
      "state": {
       "_model_module_version": "1.4.0",
       "_view_module_version": "1.4.0",
       "children": [
        "IPY_MODEL_ad437e227b7542858068825c012f8d22",
        "IPY_MODEL_a31b63fed76c41e5b952129a0d34dcaa"
       ],
       "layout": "IPY_MODEL_23b1fca613e740168cbce654a1ac9f99"
      }
     },
     "7aaabbe2efab422a9be0aebbb3d86e5d": {
      "model_module": "@jupyter-widgets/controls",
      "model_module_version": "1.4.0",
      "model_name": "HBoxModel",
      "state": {
       "_model_module_version": "1.4.0",
       "_view_module_version": "1.4.0",
       "children": [
        "IPY_MODEL_379dfd6c12804b0391e3d48f83fd7529",
        "IPY_MODEL_0bbf1fa05d7a451eac259321bfe96c7a"
       ],
       "layout": "IPY_MODEL_61f2491d2d1d4f49b2562f17af1f99ed"
      }
     },
     "8379d221cfac4c2b9f2dfe15f84608b4": {
      "model_module": "@jupyter-widgets/controls",
      "model_module_version": "1.4.0",
      "model_name": "FloatProgressModel",
      "state": {
       "_model_module_version": "1.4.0",
       "_view_module_version": "1.4.0",
       "bar_style": "danger",
       "layout": "IPY_MODEL_d41c1ffdf24a45129257960375863d65",
       "max": 1,
       "style": "IPY_MODEL_2e5585806f3847e993bceee79c344f04",
       "value": 1
      }
     },
     "901690b94f94410ea04313fe88e7bd47": {
      "model_module": "@jupyter-widgets/controls",
      "model_module_version": "1.4.0",
      "model_name": "ProgressStyleModel",
      "state": {
       "_model_module_version": "1.4.0",
       "_view_module_version": "1.1.0",
       "description_width": "initial"
      }
     },
     "9136d64c69474fa7ba833a87187b60cd": {
      "model_module": "@jupyter-widgets/controls",
      "model_module_version": "1.4.0",
      "model_name": "DescriptionStyleModel",
      "state": {
       "_model_module_version": "1.4.0",
       "_view_module_version": "1.1.0",
       "description_width": ""
      }
     },
     "9775caf471254985a5629bf84952b5d2": {
      "model_module": "@jupyter-widgets/base",
      "model_module_version": "1.1.0",
      "model_name": "LayoutModel",
      "state": {
       "_model_module_version": "1.1.0",
       "_view_module_version": "1.1.0"
      }
     },
     "9a239b1d78254d62acb53c761285c7cb": {
      "model_module": "@jupyter-widgets/controls",
      "model_module_version": "1.4.0",
      "model_name": "FloatProgressModel",
      "state": {
       "_model_module_version": "1.4.0",
       "_view_module_version": "1.4.0",
       "bar_style": "success",
       "description": "100%",
       "layout": "IPY_MODEL_a913363344b1474abe4a85eb197e82cb",
       "max": 2000,
       "style": "IPY_MODEL_0adaf401862e4a7b98d43a2359ff5e58",
       "value": 2000
      }
     },
     "9b492cb9185e458099b7c1fb98d6d8a2": {
      "model_module": "@jupyter-widgets/controls",
      "model_module_version": "1.4.0",
      "model_name": "HBoxModel",
      "state": {
       "_model_module_version": "1.4.0",
       "_view_module_version": "1.4.0",
       "children": [
        "IPY_MODEL_9a239b1d78254d62acb53c761285c7cb",
        "IPY_MODEL_ad5b99c94bb4420aa0388f2f63ce65df"
       ],
       "layout": "IPY_MODEL_65eecc1f05744dabb96809c6314ca81a"
      }
     },
     "a31b63fed76c41e5b952129a0d34dcaa": {
      "model_module": "@jupyter-widgets/controls",
      "model_module_version": "1.4.0",
      "model_name": "HTMLModel",
      "state": {
       "_model_module_version": "1.4.0",
       "_view_module_version": "1.4.0",
       "layout": "IPY_MODEL_184383e0b8ff4be98e14bcdcb1422e11",
       "style": "IPY_MODEL_9136d64c69474fa7ba833a87187b60cd",
       "value": " 2000/2000 [00:00&lt;00:00, 2285.46it/s]"
      }
     },
     "a913363344b1474abe4a85eb197e82cb": {
      "model_module": "@jupyter-widgets/base",
      "model_module_version": "1.1.0",
      "model_name": "LayoutModel",
      "state": {
       "_model_module_version": "1.1.0",
       "_view_module_version": "1.1.0"
      }
     },
     "ad437e227b7542858068825c012f8d22": {
      "model_module": "@jupyter-widgets/controls",
      "model_module_version": "1.4.0",
      "model_name": "FloatProgressModel",
      "state": {
       "_model_module_version": "1.4.0",
       "_view_module_version": "1.4.0",
       "bar_style": "success",
       "description": "100%",
       "layout": "IPY_MODEL_bba0a94346294ea68ae007d7902af77b",
       "max": 2000,
       "style": "IPY_MODEL_901690b94f94410ea04313fe88e7bd47",
       "value": 2000
      }
     },
     "ad5b99c94bb4420aa0388f2f63ce65df": {
      "model_module": "@jupyter-widgets/controls",
      "model_module_version": "1.4.0",
      "model_name": "HTMLModel",
      "state": {
       "_model_module_version": "1.4.0",
       "_view_module_version": "1.4.0",
       "layout": "IPY_MODEL_9775caf471254985a5629bf84952b5d2",
       "style": "IPY_MODEL_162aae39a25844b19015ad72c83351e9",
       "value": " 2000/2000 [38:31&lt;00:00,  1.16s/it]"
      }
     },
     "afe484b90b224b1cb16376c9dad6fcd6": {
      "model_module": "@jupyter-widgets/controls",
      "model_module_version": "1.4.0",
      "model_name": "HTMLModel",
      "state": {
       "_model_module_version": "1.4.0",
       "_view_module_version": "1.4.0",
       "layout": "IPY_MODEL_d7d40e28202142ab8a54442b7f5ebe0b",
       "style": "IPY_MODEL_2ca7a72788bf4e8db15052c12793e1be",
       "value": " 673/? [10:15&lt;00:00,  9.35it/s]"
      }
     },
     "bba0a94346294ea68ae007d7902af77b": {
      "model_module": "@jupyter-widgets/base",
      "model_module_version": "1.1.0",
      "model_name": "LayoutModel",
      "state": {
       "_model_module_version": "1.1.0",
       "_view_module_version": "1.1.0"
      }
     },
     "d41c1ffdf24a45129257960375863d65": {
      "model_module": "@jupyter-widgets/base",
      "model_module_version": "1.1.0",
      "model_name": "LayoutModel",
      "state": {
       "_model_module_version": "1.1.0",
       "_view_module_version": "1.1.0"
      }
     },
     "d7d40e28202142ab8a54442b7f5ebe0b": {
      "model_module": "@jupyter-widgets/base",
      "model_module_version": "1.1.0",
      "model_name": "LayoutModel",
      "state": {
       "_model_module_version": "1.1.0",
       "_view_module_version": "1.1.0"
      }
     },
     "e675e2aa423f4a5fb90db435cd37ce86": {
      "model_module": "@jupyter-widgets/controls",
      "model_module_version": "1.4.0",
      "model_name": "HBoxModel",
      "state": {
       "_model_module_version": "1.4.0",
       "_view_module_version": "1.4.0",
       "children": [
        "IPY_MODEL_8379d221cfac4c2b9f2dfe15f84608b4",
        "IPY_MODEL_afe484b90b224b1cb16376c9dad6fcd6"
       ],
       "layout": "IPY_MODEL_219035f7eaca46afb8315ed52a7d926a"
      }
     }
    },
    "version_major": 2,
    "version_minor": 0
   }
  }
 },
 "nbformat": 4,
 "nbformat_minor": 4
}
