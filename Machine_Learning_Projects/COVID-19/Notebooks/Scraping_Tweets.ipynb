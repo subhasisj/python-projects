{
 "cells": [
  {
   "cell_type": "code",
   "execution_count": 1,
   "metadata": {},
   "outputs": [],
   "source": [
    "import secret_keys as key\n",
    "# from tqdm import tqdm_notebook as tqdm\n",
    "from tqdm.notebook import tqdm_notebook\n",
    "tqdm_notebook.pandas()\n",
    "import pandas as pd"
   ]
  },
  {
   "cell_type": "code",
   "execution_count": 2,
   "metadata": {},
   "outputs": [],
   "source": [
    "import tweepy\n",
    "\n",
    "# Creating the authentication object\n",
    "auth = tweepy.OAuthHandler(key.consumer_key, key.consumer_secret)\n",
    "# Setting your access token and secret\n",
    "auth.set_access_token(key.access_token, key.access_token_secret)\n",
    "# Creating the API object while passing in auth information\n",
    "api = tweepy.API(auth,wait_on_rate_limit=True) "
   ]
  },
  {
   "cell_type": "code",
   "execution_count": 3,
   "metadata": {},
   "outputs": [],
   "source": [
    "search_words = '#corona OR #covid19 OR #covid OR #vaccine'\n",
    "date_since = '2020-03-24'"
   ]
  },
  {
   "cell_type": "code",
   "execution_count": 4,
   "metadata": {},
   "outputs": [],
   "source": [
    "tweets = tweepy.Cursor(api.search ,\n",
    "                       q = search_words,\n",
    "                       lang = 'en',\n",
    "                       since = date_since\n",
    "                      ).items(2000)"
   ]
  },
  {
   "cell_type": "code",
   "execution_count": 5,
   "metadata": {},
   "outputs": [],
   "source": [
    "tweet_list = [[ tweet.geo, tweet.text, tweet.user.screen_name, tweet.user.location ] for tweet in tweets]"
   ]
  },
  {
   "cell_type": "code",
   "execution_count": 6,
   "metadata": {},
   "outputs": [],
   "source": [
    "df_tweets = pd.DataFrame(tweet_list, columns = ['geo', 'tweet' , 'user_handle','location'])"
   ]
  },
  {
   "cell_type": "code",
   "execution_count": 7,
   "metadata": {},
   "outputs": [
    {
     "name": "stdout",
     "output_type": "stream",
     "text": [
      "<class 'pandas.core.frame.DataFrame'>\n",
      "RangeIndex: 2000 entries, 0 to 1999\n",
      "Data columns (total 4 columns):\n",
      "geo            2 non-null object\n",
      "tweet          2000 non-null object\n",
      "user_handle    2000 non-null object\n",
      "location       2000 non-null object\n",
      "dtypes: object(4)\n",
      "memory usage: 62.6+ KB\n"
     ]
    }
   ],
   "source": [
    "df_tweets.info()"
   ]
  },
  {
   "cell_type": "code",
   "execution_count": 8,
   "metadata": {},
   "outputs": [],
   "source": [
    "# https://towardsdatascience.com/another-twitter-sentiment-analysis-bb5b01ebad90\n",
    "# Tweet data cleaning\n",
    "import re\n",
    "from bs4 import BeautifulSoup\n",
    "from nltk.tokenize import WordPunctTokenizer\n",
    "tok = WordPunctTokenizer()\n",
    "pat1 = r'@[A-Za-z0-9]+'\n",
    "pat2 = r'https?://[A-Za-z0-9./]+'\n",
    "combined_pat = r'|'.join((pat1, pat2))\n",
    "def tweet_cleaner(text):\n",
    "    soup = BeautifulSoup(text, 'lxml')\n",
    "    souped = soup.get_text()\n",
    "    stripped = re.sub(combined_pat, '', souped)\n",
    "    try:\n",
    "        clean = stripped.decode(\"utf-8-sig\").replace(u\"\\ufffd\", \"?\")\n",
    "    except:\n",
    "        clean = stripped\n",
    "    letters_only = re.sub(\"[^a-zA-Z]\", \" \", clean)\n",
    "    lower_case = letters_only.lower()\n",
    "    # During the letters_only process two lines above, it has created unnecessay white spaces,\n",
    "    # I will tokenize and join together to remove unneccessary white spaces\n",
    "    words = tok.tokenize(lower_case)\n",
    "    return (\" \".join(words)).strip()"
   ]
  },
  {
   "cell_type": "code",
   "execution_count": 9,
   "metadata": {},
   "outputs": [
    {
     "data": {
      "application/vnd.jupyter.widget-view+json": {
       "model_id": "59468c9c4dee423d96187c42723fe894",
       "version_major": 2,
       "version_minor": 0
      },
      "text/plain": [
       "HBox(children=(FloatProgress(value=0.0, max=2000.0), HTML(value='')))"
      ]
     },
     "metadata": {},
     "output_type": "display_data"
    },
    {
     "name": "stdout",
     "output_type": "stream",
     "text": [
      "\n"
     ]
    }
   ],
   "source": [
    "df_tweets['cleaned_tweets'] = df_tweets.tweet.progress_apply(tweet_cleaner)"
   ]
  },
  {
   "cell_type": "code",
   "execution_count": 10,
   "metadata": {},
   "outputs": [
    {
     "data": {
      "text/html": [
       "<div>\n",
       "<style scoped>\n",
       "    .dataframe tbody tr th:only-of-type {\n",
       "        vertical-align: middle;\n",
       "    }\n",
       "\n",
       "    .dataframe tbody tr th {\n",
       "        vertical-align: top;\n",
       "    }\n",
       "\n",
       "    .dataframe thead th {\n",
       "        text-align: right;\n",
       "    }\n",
       "</style>\n",
       "<table border=\"1\" class=\"dataframe\">\n",
       "  <thead>\n",
       "    <tr style=\"text-align: right;\">\n",
       "      <th></th>\n",
       "      <th>geo</th>\n",
       "      <th>tweet</th>\n",
       "      <th>user_handle</th>\n",
       "      <th>location</th>\n",
       "      <th>cleaned_tweets</th>\n",
       "    </tr>\n",
       "  </thead>\n",
       "  <tbody>\n",
       "    <tr>\n",
       "      <th>0</th>\n",
       "      <td>None</td>\n",
       "      <td>RT @MelBala: The #Corona virus whatsapp line d...</td>\n",
       "      <td>__MJDr</td>\n",
       "      <td>Johannesburg.</td>\n",
       "      <td>rt the corona virus whatsapp line developed in...</td>\n",
       "    </tr>\n",
       "    <tr>\n",
       "      <th>1</th>\n",
       "      <td>None</td>\n",
       "      <td>RT @ShashiTharoor: As an MP, I appeal to @PMOI...</td>\n",
       "      <td>ankushsharma200</td>\n",
       "      <td>Within 5 Oceans</td>\n",
       "      <td>rt as an mp i appeal to to divert the cr earma...</td>\n",
       "    </tr>\n",
       "    <tr>\n",
       "      <th>2</th>\n",
       "      <td>None</td>\n",
       "      <td>RT @EUErasmusPlus: Read the Erasmus Student Ne...</td>\n",
       "      <td>EU_Careers</td>\n",
       "      <td>Brussels</td>\n",
       "      <td>rt read the erasmus student network statement ...</td>\n",
       "    </tr>\n",
       "    <tr>\n",
       "      <th>3</th>\n",
       "      <td>None</td>\n",
       "      <td>RT @BWGovernment: Take heed of and follow heal...</td>\n",
       "      <td>RragoYaya</td>\n",
       "      <td>Dikwididi, Kgatleng East, BW</td>\n",
       "      <td>rt take heed of and follow health professional...</td>\n",
       "    </tr>\n",
       "    <tr>\n",
       "      <th>4</th>\n",
       "      <td>None</td>\n",
       "      <td>RT @ArewaTwiter: All Governors, Senators, Reps...</td>\n",
       "      <td>sagysagir</td>\n",
       "      <td>Nigeria</td>\n",
       "      <td>rt all governors senators reps or ministers et...</td>\n",
       "    </tr>\n",
       "  </tbody>\n",
       "</table>\n",
       "</div>"
      ],
      "text/plain": [
       "    geo                                              tweet      user_handle  \\\n",
       "0  None  RT @MelBala: The #Corona virus whatsapp line d...           __MJDr   \n",
       "1  None  RT @ShashiTharoor: As an MP, I appeal to @PMOI...  ankushsharma200   \n",
       "2  None  RT @EUErasmusPlus: Read the Erasmus Student Ne...       EU_Careers   \n",
       "3  None  RT @BWGovernment: Take heed of and follow heal...        RragoYaya   \n",
       "4  None  RT @ArewaTwiter: All Governors, Senators, Reps...        sagysagir   \n",
       "\n",
       "                       location  \\\n",
       "0                Johannesburg.    \n",
       "1               Within 5 Oceans   \n",
       "2                      Brussels   \n",
       "3  Dikwididi, Kgatleng East, BW   \n",
       "4                       Nigeria   \n",
       "\n",
       "                                      cleaned_tweets  \n",
       "0  rt the corona virus whatsapp line developed in...  \n",
       "1  rt as an mp i appeal to to divert the cr earma...  \n",
       "2  rt read the erasmus student network statement ...  \n",
       "3  rt take heed of and follow health professional...  \n",
       "4  rt all governors senators reps or ministers et...  "
      ]
     },
     "execution_count": 10,
     "metadata": {},
     "output_type": "execute_result"
    }
   ],
   "source": [
    "df_tweets.head()"
   ]
  },
  {
   "cell_type": "code",
   "execution_count": 11,
   "metadata": {},
   "outputs": [],
   "source": [
    "df_tweets['cleaned_tweets'] = df_tweets.cleaned_tweets.str.replace('rt', '')"
   ]
  },
  {
   "cell_type": "code",
   "execution_count": 12,
   "metadata": {},
   "outputs": [
    {
     "data": {
      "text/html": [
       "<div>\n",
       "<style scoped>\n",
       "    .dataframe tbody tr th:only-of-type {\n",
       "        vertical-align: middle;\n",
       "    }\n",
       "\n",
       "    .dataframe tbody tr th {\n",
       "        vertical-align: top;\n",
       "    }\n",
       "\n",
       "    .dataframe thead th {\n",
       "        text-align: right;\n",
       "    }\n",
       "</style>\n",
       "<table border=\"1\" class=\"dataframe\">\n",
       "  <thead>\n",
       "    <tr style=\"text-align: right;\">\n",
       "      <th></th>\n",
       "      <th>geo</th>\n",
       "      <th>tweet</th>\n",
       "      <th>user_handle</th>\n",
       "      <th>location</th>\n",
       "      <th>cleaned_tweets</th>\n",
       "    </tr>\n",
       "  </thead>\n",
       "  <tbody>\n",
       "    <tr>\n",
       "      <th>0</th>\n",
       "      <td>None</td>\n",
       "      <td>RT @MelBala: The #Corona virus whatsapp line d...</td>\n",
       "      <td>__MJDr</td>\n",
       "      <td>Johannesburg.</td>\n",
       "      <td>the corona virus whatsapp line developed in s...</td>\n",
       "    </tr>\n",
       "    <tr>\n",
       "      <th>1</th>\n",
       "      <td>None</td>\n",
       "      <td>RT @ShashiTharoor: As an MP, I appeal to @PMOI...</td>\n",
       "      <td>ankushsharma200</td>\n",
       "      <td>Within 5 Oceans</td>\n",
       "      <td>as an mp i appeal to to dive the cr earmarked...</td>\n",
       "    </tr>\n",
       "    <tr>\n",
       "      <th>2</th>\n",
       "      <td>None</td>\n",
       "      <td>RT @EUErasmusPlus: Read the Erasmus Student Ne...</td>\n",
       "      <td>EU_Careers</td>\n",
       "      <td>Brussels</td>\n",
       "      <td>read the erasmus student network statement on...</td>\n",
       "    </tr>\n",
       "    <tr>\n",
       "      <th>3</th>\n",
       "      <td>None</td>\n",
       "      <td>RT @BWGovernment: Take heed of and follow heal...</td>\n",
       "      <td>RragoYaya</td>\n",
       "      <td>Dikwididi, Kgatleng East, BW</td>\n",
       "      <td>take heed of and follow health professionals ...</td>\n",
       "    </tr>\n",
       "    <tr>\n",
       "      <th>4</th>\n",
       "      <td>None</td>\n",
       "      <td>RT @ArewaTwiter: All Governors, Senators, Reps...</td>\n",
       "      <td>sagysagir</td>\n",
       "      <td>Nigeria</td>\n",
       "      <td>all governors senators reps or ministers etc ...</td>\n",
       "    </tr>\n",
       "  </tbody>\n",
       "</table>\n",
       "</div>"
      ],
      "text/plain": [
       "    geo                                              tweet      user_handle  \\\n",
       "0  None  RT @MelBala: The #Corona virus whatsapp line d...           __MJDr   \n",
       "1  None  RT @ShashiTharoor: As an MP, I appeal to @PMOI...  ankushsharma200   \n",
       "2  None  RT @EUErasmusPlus: Read the Erasmus Student Ne...       EU_Careers   \n",
       "3  None  RT @BWGovernment: Take heed of and follow heal...        RragoYaya   \n",
       "4  None  RT @ArewaTwiter: All Governors, Senators, Reps...        sagysagir   \n",
       "\n",
       "                       location  \\\n",
       "0                Johannesburg.    \n",
       "1               Within 5 Oceans   \n",
       "2                      Brussels   \n",
       "3  Dikwididi, Kgatleng East, BW   \n",
       "4                       Nigeria   \n",
       "\n",
       "                                      cleaned_tweets  \n",
       "0   the corona virus whatsapp line developed in s...  \n",
       "1   as an mp i appeal to to dive the cr earmarked...  \n",
       "2   read the erasmus student network statement on...  \n",
       "3   take heed of and follow health professionals ...  \n",
       "4   all governors senators reps or ministers etc ...  "
      ]
     },
     "execution_count": 12,
     "metadata": {},
     "output_type": "execute_result"
    }
   ],
   "source": [
    "df_tweets.head()"
   ]
  },
  {
   "cell_type": "code",
   "execution_count": 13,
   "metadata": {},
   "outputs": [],
   "source": [
    "df_tweets.to_csv('../Data/Tweets_scraped_2000_26th_CORONA_COVID.csv',index=False)"
   ]
  },
  {
   "cell_type": "code",
   "execution_count": null,
   "metadata": {},
   "outputs": [],
   "source": []
  },
  {
   "cell_type": "code",
   "execution_count": null,
   "metadata": {},
   "outputs": [],
   "source": []
  }
 ],
 "metadata": {
  "kernelspec": {
   "display_name": "Python 3",
   "language": "python",
   "name": "python3"
  },
  "language_info": {
   "codemirror_mode": {
    "name": "ipython",
    "version": 3
   },
   "file_extension": ".py",
   "mimetype": "text/x-python",
   "name": "python",
   "nbconvert_exporter": "python",
   "pygments_lexer": "ipython3",
   "version": "3.7.3"
  }
 },
 "nbformat": 4,
 "nbformat_minor": 4
}
