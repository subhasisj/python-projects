{
 "cells": [
  {
   "cell_type": "code",
   "execution_count": 22,
   "metadata": {},
   "outputs": [],
   "source": [
    "import secret_keys as key\n",
    "# from tqdm import tqdm_notebook as tqdm\n",
    "from tqdm.notebook import tqdm_notebook\n",
    "tqdm_notebook.pandas()\n",
    "import pandas as pd"
   ]
  },
  {
   "cell_type": "code",
   "execution_count": 14,
   "metadata": {},
   "outputs": [],
   "source": [
    "import tweepy\n",
    "\n",
    "# Creating the authentication object\n",
    "auth = tweepy.OAuthHandler(key.consumer_key, key.consumer_secret)\n",
    "# Setting your access token and secret\n",
    "auth.set_access_token(key.access_token, key.access_token_secret)\n",
    "# Creating the API object while passing in auth information\n",
    "api = tweepy.API(auth,wait_on_rate_limit=True) "
   ]
  },
  {
   "cell_type": "code",
   "execution_count": 6,
   "metadata": {},
   "outputs": [],
   "source": [
    "search_words = '#corona OR #covid-19 OR #covid OR #flattenthecurve'\n",
    "date_since = '2020-03-21'"
   ]
  },
  {
   "cell_type": "code",
   "execution_count": 7,
   "metadata": {},
   "outputs": [],
   "source": [
    "tweets = tweepy.Cursor(api.search ,\n",
    "                       q = search_words,\n",
    "                       lang = 'en',\n",
    "                       since = date_since\n",
    "                      ).items(2000)"
   ]
  },
  {
   "cell_type": "code",
   "execution_count": 8,
   "metadata": {},
   "outputs": [],
   "source": [
    "tweet_list = [[ tweet.geo, tweet.text, tweet.user.screen_name, tweet.user.location ] for tweet in tweets]"
   ]
  },
  {
   "cell_type": "code",
   "execution_count": 9,
   "metadata": {},
   "outputs": [],
   "source": [
    "df_tweets = pd.DataFrame(tweet_list, columns = ['geo', 'tweet' , 'user_handle','location'])"
   ]
  },
  {
   "cell_type": "code",
   "execution_count": 10,
   "metadata": {},
   "outputs": [
    {
     "name": "stdout",
     "output_type": "stream",
     "text": [
      "<class 'pandas.core.frame.DataFrame'>\n",
      "RangeIndex: 2000 entries, 0 to 1999\n",
      "Data columns (total 4 columns):\n",
      "geo            0 non-null object\n",
      "tweet          2000 non-null object\n",
      "user_handle    2000 non-null object\n",
      "location       2000 non-null object\n",
      "dtypes: object(4)\n",
      "memory usage: 62.6+ KB\n"
     ]
    }
   ],
   "source": [
    "df_tweets.info()"
   ]
  },
  {
   "cell_type": "code",
   "execution_count": 11,
   "metadata": {},
   "outputs": [],
   "source": [
    "# https://towardsdatascience.com/another-twitter-sentiment-analysis-bb5b01ebad90\n",
    "# Tweet data cleaning\n",
    "import re\n",
    "from bs4 import BeautifulSoup\n",
    "from nltk.tokenize import WordPunctTokenizer\n",
    "tok = WordPunctTokenizer()\n",
    "pat1 = r'@[A-Za-z0-9]+'\n",
    "pat2 = r'https?://[A-Za-z0-9./]+'\n",
    "combined_pat = r'|'.join((pat1, pat2))\n",
    "def tweet_cleaner(text):\n",
    "    soup = BeautifulSoup(text, 'lxml')\n",
    "    souped = soup.get_text()\n",
    "    stripped = re.sub(combined_pat, '', souped)\n",
    "    try:\n",
    "        clean = stripped.decode(\"utf-8-sig\").replace(u\"\\ufffd\", \"?\")\n",
    "    except:\n",
    "        clean = stripped\n",
    "    letters_only = re.sub(\"[^a-zA-Z]\", \" \", clean)\n",
    "    lower_case = letters_only.lower()\n",
    "    # During the letters_only process two lines above, it has created unnecessay white spaces,\n",
    "    # I will tokenize and join together to remove unneccessary white spaces\n",
    "    words = tok.tokenize(lower_case)\n",
    "    return (\" \".join(words)).strip()"
   ]
  },
  {
   "cell_type": "code",
   "execution_count": 23,
   "metadata": {},
   "outputs": [
    {
     "data": {
      "application/vnd.jupyter.widget-view+json": {
       "model_id": "a368fdf6db9242a6be8866e7850e9a18",
       "version_major": 2,
       "version_minor": 0
      },
      "text/plain": [
       "HBox(children=(FloatProgress(value=0.0, max=2000.0), HTML(value='')))"
      ]
     },
     "metadata": {},
     "output_type": "display_data"
    },
    {
     "name": "stdout",
     "output_type": "stream",
     "text": [
      "\n"
     ]
    }
   ],
   "source": [
    "df_tweets['cleaned_tweets'] = df_tweets.tweet.progress_apply(tweet_cleaner)"
   ]
  },
  {
   "cell_type": "code",
   "execution_count": 24,
   "metadata": {},
   "outputs": [
    {
     "data": {
      "text/html": [
       "<div>\n",
       "<style scoped>\n",
       "    .dataframe tbody tr th:only-of-type {\n",
       "        vertical-align: middle;\n",
       "    }\n",
       "\n",
       "    .dataframe tbody tr th {\n",
       "        vertical-align: top;\n",
       "    }\n",
       "\n",
       "    .dataframe thead th {\n",
       "        text-align: right;\n",
       "    }\n",
       "</style>\n",
       "<table border=\"1\" class=\"dataframe\">\n",
       "  <thead>\n",
       "    <tr style=\"text-align: right;\">\n",
       "      <th></th>\n",
       "      <th>geo</th>\n",
       "      <th>tweet</th>\n",
       "      <th>user_handle</th>\n",
       "      <th>location</th>\n",
       "      <th>cleaned_tweets</th>\n",
       "    </tr>\n",
       "  </thead>\n",
       "  <tbody>\n",
       "    <tr>\n",
       "      <th>0</th>\n",
       "      <td>None</td>\n",
       "      <td>RT @YWCAUSA: Let your legislator know how impo...</td>\n",
       "      <td>DocantoLicy</td>\n",
       "      <td>Washington, DC</td>\n",
       "      <td>rt let your legislator know how important nonp...</td>\n",
       "    </tr>\n",
       "    <tr>\n",
       "      <th>1</th>\n",
       "      <td>None</td>\n",
       "      <td>RT @TristanCorkPost: Other shoppers 'stormed' ...</td>\n",
       "      <td>dyan_deen</td>\n",
       "      <td></td>\n",
       "      <td>rt other shoppers stormed into tesco during th...</td>\n",
       "    </tr>\n",
       "    <tr>\n",
       "      <th>2</th>\n",
       "      <td>None</td>\n",
       "      <td>RT @vtdigger: Substance abuse treatment provid...</td>\n",
       "      <td>suptmoran</td>\n",
       "      <td></td>\n",
       "      <td>rt substance abuse treatment providers and rec...</td>\n",
       "    </tr>\n",
       "    <tr>\n",
       "      <th>3</th>\n",
       "      <td>None</td>\n",
       "      <td>RT @ACLU: Congress must act now to ensure the ...</td>\n",
       "      <td>JenPetterson</td>\n",
       "      <td>Planet 🌍 Earth</td>\n",
       "      <td>rt congress must act now to ensure the safety ...</td>\n",
       "    </tr>\n",
       "    <tr>\n",
       "      <th>4</th>\n",
       "      <td>None</td>\n",
       "      <td>RT @francesleach_: Cuban doctors arriving into...</td>\n",
       "      <td>afro_rriquena</td>\n",
       "      <td>Manhattan, NY</td>\n",
       "      <td>rt cuban doctors arriving into italy to suppor...</td>\n",
       "    </tr>\n",
       "  </tbody>\n",
       "</table>\n",
       "</div>"
      ],
      "text/plain": [
       "    geo                                              tweet    user_handle  \\\n",
       "0  None  RT @YWCAUSA: Let your legislator know how impo...    DocantoLicy   \n",
       "1  None  RT @TristanCorkPost: Other shoppers 'stormed' ...      dyan_deen   \n",
       "2  None  RT @vtdigger: Substance abuse treatment provid...      suptmoran   \n",
       "3  None  RT @ACLU: Congress must act now to ensure the ...   JenPetterson   \n",
       "4  None  RT @francesleach_: Cuban doctors arriving into...  afro_rriquena   \n",
       "\n",
       "         location                                     cleaned_tweets  \n",
       "0  Washington, DC  rt let your legislator know how important nonp...  \n",
       "1                  rt other shoppers stormed into tesco during th...  \n",
       "2                  rt substance abuse treatment providers and rec...  \n",
       "3  Planet 🌍 Earth  rt congress must act now to ensure the safety ...  \n",
       "4   Manhattan, NY  rt cuban doctors arriving into italy to suppor...  "
      ]
     },
     "execution_count": 24,
     "metadata": {},
     "output_type": "execute_result"
    }
   ],
   "source": [
    "df_tweets.head()"
   ]
  },
  {
   "cell_type": "code",
   "execution_count": 25,
   "metadata": {},
   "outputs": [],
   "source": [
    "df_tweets['cleaned_tweets'] = df_tweets.cleaned_tweets.str.replace('rt', '')"
   ]
  },
  {
   "cell_type": "code",
   "execution_count": 26,
   "metadata": {},
   "outputs": [
    {
     "data": {
      "text/html": [
       "<div>\n",
       "<style scoped>\n",
       "    .dataframe tbody tr th:only-of-type {\n",
       "        vertical-align: middle;\n",
       "    }\n",
       "\n",
       "    .dataframe tbody tr th {\n",
       "        vertical-align: top;\n",
       "    }\n",
       "\n",
       "    .dataframe thead th {\n",
       "        text-align: right;\n",
       "    }\n",
       "</style>\n",
       "<table border=\"1\" class=\"dataframe\">\n",
       "  <thead>\n",
       "    <tr style=\"text-align: right;\">\n",
       "      <th></th>\n",
       "      <th>geo</th>\n",
       "      <th>tweet</th>\n",
       "      <th>user_handle</th>\n",
       "      <th>location</th>\n",
       "      <th>cleaned_tweets</th>\n",
       "    </tr>\n",
       "  </thead>\n",
       "  <tbody>\n",
       "    <tr>\n",
       "      <th>0</th>\n",
       "      <td>None</td>\n",
       "      <td>RT @YWCAUSA: Let your legislator know how impo...</td>\n",
       "      <td>DocantoLicy</td>\n",
       "      <td>Washington, DC</td>\n",
       "      <td>let your legislator know how impoant nonprofi...</td>\n",
       "    </tr>\n",
       "    <tr>\n",
       "      <th>1</th>\n",
       "      <td>None</td>\n",
       "      <td>RT @TristanCorkPost: Other shoppers 'stormed' ...</td>\n",
       "      <td>dyan_deen</td>\n",
       "      <td></td>\n",
       "      <td>other shoppers stormed into tesco during the ...</td>\n",
       "    </tr>\n",
       "    <tr>\n",
       "      <th>2</th>\n",
       "      <td>None</td>\n",
       "      <td>RT @vtdigger: Substance abuse treatment provid...</td>\n",
       "      <td>suptmoran</td>\n",
       "      <td></td>\n",
       "      <td>substance abuse treatment providers and recov...</td>\n",
       "    </tr>\n",
       "    <tr>\n",
       "      <th>3</th>\n",
       "      <td>None</td>\n",
       "      <td>RT @ACLU: Congress must act now to ensure the ...</td>\n",
       "      <td>JenPetterson</td>\n",
       "      <td>Planet 🌍 Earth</td>\n",
       "      <td>congress must act now to ensure the safety of...</td>\n",
       "    </tr>\n",
       "    <tr>\n",
       "      <th>4</th>\n",
       "      <td>None</td>\n",
       "      <td>RT @francesleach_: Cuban doctors arriving into...</td>\n",
       "      <td>afro_rriquena</td>\n",
       "      <td>Manhattan, NY</td>\n",
       "      <td>cuban doctors arriving into italy to suppo th...</td>\n",
       "    </tr>\n",
       "  </tbody>\n",
       "</table>\n",
       "</div>"
      ],
      "text/plain": [
       "    geo                                              tweet    user_handle  \\\n",
       "0  None  RT @YWCAUSA: Let your legislator know how impo...    DocantoLicy   \n",
       "1  None  RT @TristanCorkPost: Other shoppers 'stormed' ...      dyan_deen   \n",
       "2  None  RT @vtdigger: Substance abuse treatment provid...      suptmoran   \n",
       "3  None  RT @ACLU: Congress must act now to ensure the ...   JenPetterson   \n",
       "4  None  RT @francesleach_: Cuban doctors arriving into...  afro_rriquena   \n",
       "\n",
       "         location                                     cleaned_tweets  \n",
       "0  Washington, DC   let your legislator know how impoant nonprofi...  \n",
       "1                   other shoppers stormed into tesco during the ...  \n",
       "2                   substance abuse treatment providers and recov...  \n",
       "3  Planet 🌍 Earth   congress must act now to ensure the safety of...  \n",
       "4   Manhattan, NY   cuban doctors arriving into italy to suppo th...  "
      ]
     },
     "execution_count": 26,
     "metadata": {},
     "output_type": "execute_result"
    }
   ],
   "source": [
    "df_tweets.head()"
   ]
  },
  {
   "cell_type": "code",
   "execution_count": 27,
   "metadata": {},
   "outputs": [],
   "source": [
    "df_tweets.to_csv('../Data/Tweets_scraped_2000_23rd_CORONA_COVID_FTC.csv')"
   ]
  },
  {
   "cell_type": "code",
   "execution_count": null,
   "metadata": {},
   "outputs": [],
   "source": []
  },
  {
   "cell_type": "code",
   "execution_count": null,
   "metadata": {},
   "outputs": [],
   "source": []
  }
 ],
 "metadata": {
  "kernelspec": {
   "display_name": "Python 3",
   "language": "python",
   "name": "python3"
  },
  "language_info": {
   "codemirror_mode": {
    "name": "ipython",
    "version": 3
   },
   "file_extension": ".py",
   "mimetype": "text/x-python",
   "name": "python",
   "nbconvert_exporter": "python",
   "pygments_lexer": "ipython3",
   "version": "3.7.3"
  }
 },
 "nbformat": 4,
 "nbformat_minor": 4
}
