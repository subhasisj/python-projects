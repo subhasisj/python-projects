{
 "cells": [
  {
   "cell_type": "code",
   "execution_count": 1,
   "metadata": {},
   "outputs": [],
   "source": [
    "# !pip install requests\n",
    "# !pip install bs4\n",
    "# !pip install pandas"
   ]
  },
  {
   "cell_type": "code",
   "execution_count": 2,
   "metadata": {},
   "outputs": [],
   "source": [
    "import requests\n",
    "from bs4 import BeautifulSoup\n",
    "import pandas as pd\n",
    "import spacy"
   ]
  },
  {
   "cell_type": "code",
   "execution_count": 3,
   "metadata": {},
   "outputs": [],
   "source": [
    "toi_url = 'https://timesofindia.indiatimes.com/india/coronavirus-live-updates-total-number-of-coronavirus-cases-in-india-rises-march-19-2020/liveblog/74701641.cms?curpg={}'"
   ]
  },
  {
   "cell_type": "code",
   "execution_count": 4,
   "metadata": {},
   "outputs": [],
   "source": [
    "def get_toi_corona_live_updates(toi_url, no_of_pages_to_scrape):\n",
    "\n",
    "    corona_news = []\n",
    "    for i in range(no_of_pages_to_scrape):\n",
    "        print('Scraping Data from URL: {}'.format(toi_url.format(i)))\n",
    "        response = requests.get(toi_url.format(i))\n",
    "\n",
    "        try:\n",
    "            soup = BeautifulSoup(response.text,'html.parser')\n",
    "            top_news_container = soup.find('div',class_ = '_3i7A1')\n",
    "            for news_container in top_news_container.find_all('div',class_ = '_2tvI3'):\n",
    "                news = {}\n",
    "            #     news_time_tag = news_container.find('div',class_ = 'uu5Lm')\n",
    "                news['datetime'] = news_container.span.text\n",
    "\n",
    "                news_text = news_container.find('div',class_ = '_1KydD').get_text()\n",
    "                news['text'] = news_text  #news_container.p.b.text\n",
    "                corona_news.append(news)\n",
    "                \n",
    "        except:\n",
    "            print('No more news at page {}'.format(i))\n",
    "            break\n",
    "    return corona_news"
   ]
  },
  {
   "cell_type": "code",
   "execution_count": 5,
   "metadata": {},
   "outputs": [
    {
     "name": "stdout",
     "output_type": "stream",
     "text": [
      "Scraping Data from URL: https://timesofindia.indiatimes.com/india/coronavirus-live-updates-total-number-of-coronavirus-cases-in-india-rises-march-19-2020/liveblog/74701641.cms?curpg=0\n",
      "Scraping Data from URL: https://timesofindia.indiatimes.com/india/coronavirus-live-updates-total-number-of-coronavirus-cases-in-india-rises-march-19-2020/liveblog/74701641.cms?curpg=1\n",
      "Scraping Data from URL: https://timesofindia.indiatimes.com/india/coronavirus-live-updates-total-number-of-coronavirus-cases-in-india-rises-march-19-2020/liveblog/74701641.cms?curpg=2\n",
      "Scraping Data from URL: https://timesofindia.indiatimes.com/india/coronavirus-live-updates-total-number-of-coronavirus-cases-in-india-rises-march-19-2020/liveblog/74701641.cms?curpg=3\n",
      "Scraping Data from URL: https://timesofindia.indiatimes.com/india/coronavirus-live-updates-total-number-of-coronavirus-cases-in-india-rises-march-19-2020/liveblog/74701641.cms?curpg=4\n",
      "Scraping Data from URL: https://timesofindia.indiatimes.com/india/coronavirus-live-updates-total-number-of-coronavirus-cases-in-india-rises-march-19-2020/liveblog/74701641.cms?curpg=5\n",
      "Scraping Data from URL: https://timesofindia.indiatimes.com/india/coronavirus-live-updates-total-number-of-coronavirus-cases-in-india-rises-march-19-2020/liveblog/74701641.cms?curpg=6\n",
      "Scraping Data from URL: https://timesofindia.indiatimes.com/india/coronavirus-live-updates-total-number-of-coronavirus-cases-in-india-rises-march-19-2020/liveblog/74701641.cms?curpg=7\n",
      "Scraping Data from URL: https://timesofindia.indiatimes.com/india/coronavirus-live-updates-total-number-of-coronavirus-cases-in-india-rises-march-19-2020/liveblog/74701641.cms?curpg=8\n",
      "No more news at page 8\n"
     ]
    }
   ],
   "source": [
    "corona_news = get_toi_corona_live_updates( toi_url= toi_url , no_of_pages_to_scrape= 10 )"
   ]
  },
  {
   "cell_type": "code",
   "execution_count": 6,
   "metadata": {},
   "outputs": [],
   "source": [
    "df = pd.DataFrame(corona_news)"
   ]
  },
  {
   "cell_type": "code",
   "execution_count": 7,
   "metadata": {},
   "outputs": [
    {
     "data": {
      "text/html": [
       "<div>\n",
       "<style scoped>\n",
       "    .dataframe tbody tr th:only-of-type {\n",
       "        vertical-align: middle;\n",
       "    }\n",
       "\n",
       "    .dataframe tbody tr th {\n",
       "        vertical-align: top;\n",
       "    }\n",
       "\n",
       "    .dataframe thead th {\n",
       "        text-align: right;\n",
       "    }\n",
       "</style>\n",
       "<table border=\"1\" class=\"dataframe\">\n",
       "  <thead>\n",
       "    <tr style=\"text-align: right;\">\n",
       "      <th></th>\n",
       "      <th>datetime</th>\n",
       "      <th>text</th>\n",
       "    </tr>\n",
       "  </thead>\n",
       "  <tbody>\n",
       "    <tr>\n",
       "      <th>0</th>\n",
       "      <td>17:58 (IST), Mar 19</td>\n",
       "      <td>Those asked to undergo quarantine should follo...</td>\n",
       "    </tr>\n",
       "    <tr>\n",
       "      <th>1</th>\n",
       "      <td>17:57 (IST), Mar 19</td>\n",
       "      <td>We have succeeded in keeping coronavirus at co...</td>\n",
       "    </tr>\n",
       "    <tr>\n",
       "      <th>2</th>\n",
       "      <td>17:55 (IST), Mar 19</td>\n",
       "      <td>201 Indians evacuated from Iran yesterday: Avi...</td>\n",
       "    </tr>\n",
       "    <tr>\n",
       "      <th>3</th>\n",
       "      <td>17:55 (IST), Mar 19</td>\n",
       "      <td>Vistara to temporarily suspend international o...</td>\n",
       "    </tr>\n",
       "    <tr>\n",
       "      <th>4</th>\n",
       "      <td>17:52 (IST), Mar 19</td>\n",
       "      <td>Lav Agarwal, Joint Secretary, Health Ministry:...</td>\n",
       "    </tr>\n",
       "  </tbody>\n",
       "</table>\n",
       "</div>"
      ],
      "text/plain": [
       "              datetime                                               text\n",
       "0  17:58 (IST), Mar 19  Those asked to undergo quarantine should follo...\n",
       "1  17:57 (IST), Mar 19  We have succeeded in keeping coronavirus at co...\n",
       "2  17:55 (IST), Mar 19  201 Indians evacuated from Iran yesterday: Avi...\n",
       "3  17:55 (IST), Mar 19  Vistara to temporarily suspend international o...\n",
       "4  17:52 (IST), Mar 19  Lav Agarwal, Joint Secretary, Health Ministry:..."
      ]
     },
     "execution_count": 7,
     "metadata": {},
     "output_type": "execute_result"
    }
   ],
   "source": [
    "df.head()"
   ]
  },
  {
   "cell_type": "code",
   "execution_count": 8,
   "metadata": {},
   "outputs": [
    {
     "name": "stdout",
     "output_type": "stream",
     "text": [
      "<class 'pandas.core.frame.DataFrame'>\n",
      "RangeIndex: 159 entries, 0 to 158\n",
      "Data columns (total 2 columns):\n",
      "datetime    159 non-null object\n",
      "text        159 non-null object\n",
      "dtypes: object(2)\n",
      "memory usage: 2.6+ KB\n"
     ]
    }
   ],
   "source": [
    "df.info()"
   ]
  },
  {
   "cell_type": "code",
   "execution_count": 9,
   "metadata": {},
   "outputs": [],
   "source": [
    "nlp = spacy.load('en_core_web_sm')"
   ]
  },
  {
   "cell_type": "code",
   "execution_count": 10,
   "metadata": {},
   "outputs": [],
   "source": [
    "# for news in df.text:\n",
    "#     print('NEWS : {}'.format(news))\n",
    "#     for ent in nlp(news).ents:\n",
    "#         print('\\t Text : {} , Entities : {}'.format(ent.text ,ent.label_))"
   ]
  },
  {
   "cell_type": "code",
   "execution_count": 11,
   "metadata": {},
   "outputs": [],
   "source": [
    "entities = []\n",
    "for news in df.text:\n",
    "    entity = []\n",
    "#     print('NEWS : {}'.format(news))\n",
    "    entity = [(ent.text) for ent in nlp(news).ents]\n",
    "#     for ent in nlp(news).ents:\n",
    "#         entity['text'] = ent.text\n",
    "#         entity['label'] = ent.label_\n",
    "    entities.append(entity)"
   ]
  },
  {
   "cell_type": "code",
   "execution_count": 12,
   "metadata": {},
   "outputs": [],
   "source": [
    "from pandas.core.common import flatten\n",
    "\n",
    "words = list(flatten(entities))"
   ]
  },
  {
   "cell_type": "code",
   "execution_count": 13,
   "metadata": {},
   "outputs": [],
   "source": [
    "# !pip install wordcloud\n",
    "# !pip install matplotlib"
   ]
  },
  {
   "cell_type": "code",
   "execution_count": 14,
   "metadata": {},
   "outputs": [
    {
     "data": {
      "image/png": "[encoded data removed]",
      "text/plain": [
       "<Figure size 432x288 with 1 Axes>"
      ]
     },
     "metadata": {
      "needs_background": "light"
     },
     "output_type": "display_data"
    }
   ],
   "source": [
    "from wordcloud import WordCloud\n",
    "import matplotlib.pyplot as plt\n",
    "%matplotlib inline\n",
    "\n",
    "\n",
    "wordcloud = WordCloud().generate(str(entities))\n",
    "\n",
    "plt.imshow(wordcloud, interpolation='bilinear')\n",
    "plt.axis(\"off\")\n",
    "plt.show()\n"
   ]
  },
  {
   "cell_type": "code",
   "execution_count": 15,
   "metadata": {},
   "outputs": [],
   "source": [
    "economic_times_url = 'https://economictimes.indiatimes.com/news/politics-and-nation/coronavirus-cases-in-india-live-news-latest-updates-march17/liveblog/74664903.cms'"
   ]
  },
  {
   "cell_type": "code",
   "execution_count": 16,
   "metadata": {},
   "outputs": [],
   "source": [
    "response = requests.get(economic_times_url)\n",
    "soup = BeautifulSoup(response.text,'html.parser')\n",
    "top_news_container = soup.find('div',class_ = 'pageliveblog')"
   ]
  },
  {
   "cell_type": "code",
   "execution_count": 17,
   "metadata": {},
   "outputs": [],
   "source": [
    "econ_times_corona_news = []\n",
    "for news_container in top_news_container.find_all('div',class_ = 'updateText'):\n",
    "    news = {}\n",
    "    news_time_tag = news_container.find('div',class_ = 'shareTime')\n",
    "    time = news_time_tag.find('div',class_ = 'timeStamp').text.replace('\\n','')\n",
    "    #     news['datetime'] = time.text\n",
    "    news['datetime'] = time\n",
    "    try:\n",
    "        headline = news_container.find('h3').text.replace('\\n','')\n",
    "    except:\n",
    "        headline = ' '\n",
    "        continue\n",
    "    try:   \n",
    "        text = news_container.find('div',class_ = 'blogSysn').text.replace('\\n','')\n",
    "    except:\n",
    "        text = ' '\n",
    "        \n",
    "    news['text'] = headline + ' ' + text\n",
    "    \n",
    "    econ_times_corona_news.append(news)"
   ]
  },
  {
   "cell_type": "code",
   "execution_count": 18,
   "metadata": {},
   "outputs": [],
   "source": [
    "df_economic_times  = pd.DataFrame(econ_times_corona_news)"
   ]
  },
  {
   "cell_type": "code",
   "execution_count": 19,
   "metadata": {},
   "outputs": [
    {
     "data": {
      "text/html": [
       "<div>\n",
       "<style scoped>\n",
       "    .dataframe tbody tr th:only-of-type {\n",
       "        vertical-align: middle;\n",
       "    }\n",
       "\n",
       "    .dataframe tbody tr th {\n",
       "        vertical-align: top;\n",
       "    }\n",
       "\n",
       "    .dataframe thead th {\n",
       "        text-align: right;\n",
       "    }\n",
       "</style>\n",
       "<table border=\"1\" class=\"dataframe\">\n",
       "  <thead>\n",
       "    <tr style=\"text-align: right;\">\n",
       "      <th></th>\n",
       "      <th>datetime</th>\n",
       "      <th>text</th>\n",
       "    </tr>\n",
       "  </thead>\n",
       "  <tbody>\n",
       "    <tr>\n",
       "      <th>0</th>\n",
       "      <td>12:09 AM</td>\n",
       "      <td>Britain sets out emergency laws to tackle coro...</td>\n",
       "    </tr>\n",
       "    <tr>\n",
       "      <th>1</th>\n",
       "      <td>11:36 PM</td>\n",
       "      <td>Ministry of Health &amp; Family Welfare, Governmen...</td>\n",
       "    </tr>\n",
       "    <tr>\n",
       "      <th>2</th>\n",
       "      <td>11:33 PM</td>\n",
       "      <td>West Bengal reports first positive case of cor...</td>\n",
       "    </tr>\n",
       "    <tr>\n",
       "      <th>3</th>\n",
       "      <td>11:31 PM</td>\n",
       "      <td>H&amp;M closes all stores in biggest markets Germa...</td>\n",
       "    </tr>\n",
       "    <tr>\n",
       "      <th>4</th>\n",
       "      <td>11:17 PM</td>\n",
       "      <td>Army sources: First positive case of COVID19 c...</td>\n",
       "    </tr>\n",
       "  </tbody>\n",
       "</table>\n",
       "</div>"
      ],
      "text/plain": [
       "   datetime                                               text\n",
       "0  12:09 AM  Britain sets out emergency laws to tackle coro...\n",
       "1  11:36 PM  Ministry of Health & Family Welfare, Governmen...\n",
       "2  11:33 PM  West Bengal reports first positive case of cor...\n",
       "3  11:31 PM  H&M closes all stores in biggest markets Germa...\n",
       "4  11:17 PM  Army sources: First positive case of COVID19 c..."
      ]
     },
     "execution_count": 19,
     "metadata": {},
     "output_type": "execute_result"
    }
   ],
   "source": [
    "df_economic_times.head()"
   ]
  },
  {
   "cell_type": "code",
   "execution_count": 20,
   "metadata": {},
   "outputs": [
    {
     "data": {
      "text/html": [
       "<div>\n",
       "<style scoped>\n",
       "    .dataframe tbody tr th:only-of-type {\n",
       "        vertical-align: middle;\n",
       "    }\n",
       "\n",
       "    .dataframe tbody tr th {\n",
       "        vertical-align: top;\n",
       "    }\n",
       "\n",
       "    .dataframe thead th {\n",
       "        text-align: right;\n",
       "    }\n",
       "</style>\n",
       "<table border=\"1\" class=\"dataframe\">\n",
       "  <thead>\n",
       "    <tr style=\"text-align: right;\">\n",
       "      <th></th>\n",
       "      <th>datetime</th>\n",
       "      <th>text</th>\n",
       "    </tr>\n",
       "  </thead>\n",
       "  <tbody>\n",
       "    <tr>\n",
       "      <th>54</th>\n",
       "      <td>05:36 PM</td>\n",
       "      <td>Total number of confirmed cases across India r...</td>\n",
       "    </tr>\n",
       "    <tr>\n",
       "      <th>55</th>\n",
       "      <td>05:33 PM</td>\n",
       "      <td>A Russian delegation led by Deputy Prime Minis...</td>\n",
       "    </tr>\n",
       "    <tr>\n",
       "      <th>56</th>\n",
       "      <td>05:32 PM</td>\n",
       "      <td>Air Force spokesperson Group Captain Anupam Ba...</td>\n",
       "    </tr>\n",
       "    <tr>\n",
       "      <th>57</th>\n",
       "      <td>05:31 PM</td>\n",
       "      <td>Uttarakhand govt declares Covid-19 as epidemic...</td>\n",
       "    </tr>\n",
       "    <tr>\n",
       "      <th>58</th>\n",
       "      <td>05:27 PM</td>\n",
       "      <td>MP couple quarantined for suspected exposure A...</td>\n",
       "    </tr>\n",
       "  </tbody>\n",
       "</table>\n",
       "</div>"
      ],
      "text/plain": [
       "    datetime                                               text\n",
       "54  05:36 PM  Total number of confirmed cases across India r...\n",
       "55  05:33 PM  A Russian delegation led by Deputy Prime Minis...\n",
       "56  05:32 PM  Air Force spokesperson Group Captain Anupam Ba...\n",
       "57  05:31 PM  Uttarakhand govt declares Covid-19 as epidemic...\n",
       "58  05:27 PM  MP couple quarantined for suspected exposure A..."
      ]
     },
     "execution_count": 20,
     "metadata": {},
     "output_type": "execute_result"
    }
   ],
   "source": [
    "df_economic_times.tail()"
   ]
  },
  {
   "cell_type": "code",
   "execution_count": 21,
   "metadata": {},
   "outputs": [
    {
     "name": "stdout",
     "output_type": "stream",
     "text": [
      "Requirement already satisfied: selenium in c:\\users\\i323570\\appdata\\local\\continuum\\anaconda3\\lib\\site-packages (3.141.0)\n",
      "Requirement already satisfied: urllib3 in c:\\users\\i323570\\appdata\\local\\continuum\\anaconda3\\lib\\site-packages (from selenium) (1.24.2)\n"
     ]
    }
   ],
   "source": [
    "!pip install selenium"
   ]
  },
  {
   "cell_type": "code",
   "execution_count": 22,
   "metadata": {},
   "outputs": [],
   "source": [
    "from selenium import webdriver\n",
    "\n",
    "options = webdriver.ChromeOptions()\n",
    "options.add_argument('--ignore-certificate-errors')\n",
    "options.add_argument('--incognito')\n",
    "options.add_argument('--headless')\n",
    "driver = webdriver.Chrome(executable_path='C:/chrome_driver/chromedriver.exe')\n"
   ]
  },
  {
   "cell_type": "code",
   "execution_count": 23,
   "metadata": {},
   "outputs": [],
   "source": [
    "import time\n",
    "\n",
    "driver.get(\"https://www.cnbctv18.com/healthcare/coronavirus-india-live-updates-coronavirus-live-news-updates-coronavirus-covid-19-pune-maharashtra-mumbai-delhi-noida-uttar-pradesh-bengaluru-gurgaon-coronavirus-cases-in-india-5512961.htm\")\n",
    "more_buttons = driver.find_element_by_link_text('View More')"
   ]
  },
  {
   "cell_type": "code",
   "execution_count": 24,
   "metadata": {},
   "outputs": [],
   "source": [
    "for x in range(7):\n",
    "  if more_buttons.is_displayed():\n",
    "      driver.execute_script(\"arguments[0].click();\", more_buttons)\n",
    "      time.sleep(7)\n",
    "page_source = driver.page_source"
   ]
  },
  {
   "cell_type": "code",
   "execution_count": 25,
   "metadata": {},
   "outputs": [],
   "source": [
    "soup_cnbc = BeautifulSoup(page_source,'lxml')\n",
    "top_news_container = soup_cnbc.find_all('div',class_ = 'live-blog-row blog-border-red share-post')"
   ]
  },
  {
   "cell_type": "code",
   "execution_count": 26,
   "metadata": {},
   "outputs": [],
   "source": [
    "cnbc_corona_news = []\n",
    "for each_news in top_news_container:\n",
    "    cnbc_news = {}\n",
    "    \n",
    "    try:\n",
    "        cnbc_news['datetime'] = each_news.find('div',class_ = 'date-n-time').get_text().replace('\\n','')\n",
    "        cnbc_news['text'] = each_news.find('div',class_= 'copy').get_text().replace('\\n','')\n",
    "    except:\n",
    "        continue\n",
    "    cnbc_corona_news.append(cnbc_news)"
   ]
  },
  {
   "cell_type": "code",
   "execution_count": 27,
   "metadata": {},
   "outputs": [],
   "source": [
    "top_news_container_2 = soup_cnbc.find_all('div',class_ = 'live-blog-row blog-border-red')\n",
    "for each_news in top_news_container_2:\n",
    "    cnbc_news = {}\n",
    "    \n",
    "    try:\n",
    "        cnbc_news['datetime'] = each_news.find('div',class_ = 'date-n-time').get_text().replace('\\n','')\n",
    "        cnbc_news['text'] = each_news.find('div',class_= 'copy').get_text().replace('\\n','')\n",
    "    except:\n",
    "        continue\n",
    "    cnbc_corona_news.append(cnbc_news)"
   ]
  },
  {
   "cell_type": "code",
   "execution_count": 28,
   "metadata": {},
   "outputs": [],
   "source": [
    "df_cnbc  = pd.DataFrame(cnbc_corona_news)"
   ]
  },
  {
   "cell_type": "code",
   "execution_count": 29,
   "metadata": {},
   "outputs": [
    {
     "name": "stdout",
     "output_type": "stream",
     "text": [
      "<class 'pandas.core.frame.DataFrame'>\n",
      "RangeIndex: 67 entries, 0 to 66\n",
      "Data columns (total 2 columns):\n",
      "datetime    67 non-null object\n",
      "text        67 non-null object\n",
      "dtypes: object(2)\n",
      "memory usage: 1.1+ KB\n"
     ]
    }
   ],
   "source": [
    "df_cnbc.info()"
   ]
  },
  {
   "cell_type": "code",
   "execution_count": 32,
   "metadata": {},
   "outputs": [],
   "source": [
    "df_all_news_scraped = pd.concat([df,df_economic_times,df_cnbc],ignore_index=True)"
   ]
  },
  {
   "cell_type": "code",
   "execution_count": 33,
   "metadata": {},
   "outputs": [
    {
     "name": "stdout",
     "output_type": "stream",
     "text": [
      "<class 'pandas.core.frame.DataFrame'>\n",
      "RangeIndex: 285 entries, 0 to 284\n",
      "Data columns (total 2 columns):\n",
      "datetime    285 non-null object\n",
      "text        285 non-null object\n",
      "dtypes: object(2)\n",
      "memory usage: 4.5+ KB\n"
     ]
    }
   ],
   "source": [
    "df_all_news_scraped.info()"
   ]
  },
  {
   "cell_type": "code",
   "execution_count": 41,
   "metadata": {},
   "outputs": [],
   "source": [
    "df_all_news_scraped.to_csv('../Data/corona_news_scraped_on_19th_march.csv',index = False)"
   ]
  },
  {
   "cell_type": "code",
   "execution_count": null,
   "metadata": {},
   "outputs": [],
   "source": []
  }
 ],
 "metadata": {
  "kernelspec": {
   "display_name": "Python 3",
   "language": "python",
   "name": "python3"
  },
  "language_info": {
   "codemirror_mode": {
    "name": "ipython",
    "version": 3
   },
   "file_extension": ".py",
   "mimetype": "text/x-python",
   "name": "python",
   "nbconvert_exporter": "python",
   "pygments_lexer": "ipython3",
   "version": "3.7.3"
  }
 },
 "nbformat": 4,
 "nbformat_minor": 4
}
