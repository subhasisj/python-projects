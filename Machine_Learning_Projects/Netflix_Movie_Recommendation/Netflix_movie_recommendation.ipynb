{
 "cells": [
  {
   "cell_type": "markdown",
   "metadata": {},
   "source": [
    "## Netflix Movie Recommendation"
   ]
  },
  {
   "cell_type": "markdown",
   "metadata": {},
   "source": [
    "### Business Problem"
   ]
  },
  {
   "cell_type": "markdown",
   "metadata": {},
   "source": [
    "We want to recommend movies to users by\n",
    "- By predicting the rating for a movie which has been unrated by the user\n",
    "- Build a model with RMSE (between actual and predicted ratings) as the metric"
   ]
  },
  {
   "cell_type": "markdown",
   "metadata": {},
   "source": [
    "The ratings prediction need not be calculated instantaneosly as these ratings would be precomputed on a daily basis (May be Nightly)"
   ]
  },
  {
   "cell_type": "markdown",
   "metadata": {},
   "source": [
    "### Data"
   ]
  },
  {
   "cell_type": "markdown",
   "metadata": {},
   "source": [
    "The dataset can be downloaded from https://www.kaggle.com/netflix-inc/netflix-prize-data"
   ]
  },
  {
   "cell_type": "markdown",
   "metadata": {},
   "source": [
    "Each subsequent line in the file corresponds to a rating from a customer and its date in the following format:\n",
    "\n",
    "Columns : __CustomerID, Rating, Date__\n",
    "\n",
    "- MovieIDs range from 1 to 17770 sequentially.\n",
    "- CustomerIDs range from 1 to 2649429, with gaps. There are 480189 users.\n",
    "- Ratings are on a five star (integral) scale from 1 to 5.\n",
    "- Dates have the format YYYY-MM-DD."
   ]
  },
  {
   "cell_type": "markdown",
   "metadata": {},
   "source": [
    "Movie information in \"movie_titles.txt\" is in the following format:\n",
    "\n",
    "MovieID,YearOfRelease,Title\n",
    "\n",
    "- MovieID do not correspond to actual Netflix movie ids or IMDB movie ids.\n",
    "- YearOfRelease can range from 1890 to 2005 and may correspond to the release of corresponding DVD, not necessarily its theaterical release.\n",
    "- Title is the Netflix movie title and may not correspond to titles used on other sites. Titles are in English."
   ]
  },
  {
   "cell_type": "markdown",
   "metadata": {},
   "source": [
    "### ML Problem"
   ]
  },
  {
   "cell_type": "markdown",
   "metadata": {},
   "source": [
    "If we pose this a ML problem,we can categorize it as :\n",
    "- Recommendation Problem to Recommend Movies\n",
    "- Regression task to predict the ratings for an unrated movie"
   ]
  },
  {
   "cell_type": "markdown",
   "metadata": {},
   "source": [
    "### Importing Libraries"
   ]
  },
  {
   "cell_type": "code",
   "execution_count": 125,
   "metadata": {},
   "outputs": [],
   "source": [
    "import pandas as pd\n",
    "import numpy as np\n",
    "import os\n",
    "from itertools import islice\n",
    "import re\n",
    "from tqdm import tqdm_notebook\n",
    "from datetime import datetime\n",
    "\n",
    "from sklearn.metrics.pairwise import cosine_similarity\n",
    "from sklearn.metrics import mean_squared_error\n",
    "from scipy import sparse\n",
    "from surprise import Reader,Dataset\n",
    "from surprise import NormalPredictor\n",
    "from surprise import SVD\n",
    "from surprise import KNNBaseline\n",
    "from surprise import KNNBasic\n",
    "from surprise import KNNWithMeans\n",
    "from surprise import BaselineOnly\n",
    "from surprise import CoClustering\n",
    "from surprise import NMF\n",
    "from surprise.model_selection import cross_validate\n",
    "from surprise.accuracy import rmse\n",
    "\n",
    "import xgboost as xgb\n",
    "\n",
    "import matplotlib.pyplot as plt\n",
    "import seaborn as sns\n",
    "\n",
    "import warnings\n",
    "warnings.filterwarnings('ignore')"
   ]
  },
  {
   "cell_type": "markdown",
   "metadata": {
    "toc-hr-collapsed": false
   },
   "source": [
    "### Exploratory Data Analysis"
   ]
  },
  {
   "cell_type": "markdown",
   "metadata": {},
   "source": [
    "#### Data Preprocessing"
   ]
  },
  {
   "cell_type": "code",
   "execution_count": 2,
   "metadata": {},
   "outputs": [
    {
     "name": "stdout",
     "output_type": "stream",
     "text": [
      "Filename: .gitignore --> 0.0MB\n",
      "Filename: .ipynb_checkpoints --> 0.0MB\n",
      "Filename: all_data_combined.csv --> 2711.02MB\n",
      "Filename: combined_data_1.txt --> 495.03MB\n",
      "Filename: combined_data_2.txt --> 555.21MB\n",
      "Filename: combined_data_3.txt --> 465.16MB\n",
      "Filename: combined_data_4.txt --> 552.54MB\n",
      "Filename: movie_titles.csv --> 0.58MB\n",
      "Filename: probe.txt --> 10.78MB\n",
      "Filename: qualifying.txt --> 52.45MB\n",
      "Filename: sample_train_sparse_matrix.npz --> 0.24MB\n",
      "Filename: test.csv --> 542.53MB\n",
      "Filename: train.csv --> 2168.49MB\n",
      "Filename: train_sparse.npz --> 167.42MB\n"
     ]
    }
   ],
   "source": [
    "# List all files \n",
    "for file in os.listdir('./data'):\n",
    "    print('Filename: {0} --> {1}'.format(file.ljust(30).rstrip(),\n",
    "                                       str(round(os.path.getsize('./data/'+file)/1000000,2))+'MB'))"
   ]
  },
  {
   "cell_type": "code",
   "execution_count": 3,
   "metadata": {},
   "outputs": [
    {
     "name": "stdout",
     "output_type": "stream",
     "text": [
      "First 10 rows: ......\n",
      "['1:\\n', '1488844,3,2005-09-06\\n', '822109,5,2005-05-13\\n', '885013,4,2005-10-19\\n', '30878,4,2005-12-26\\n', '823519,3,2004-05-03\\n', '893988,3,2005-11-17\\n', '124105,4,2004-08-05\\n', '1248029,3,2004-04-22\\n', '1842128,4,2004-05-09\\n']\n"
     ]
    }
   ],
   "source": [
    "# Sample Read\n",
    "with open('./data/combined_data_1.txt') as file:\n",
    "    head = list(islice(file,10))\n",
    "print('First 10 rows: ......')\n",
    "print([h for h in head])\n",
    "file.close()"
   ]
  },
  {
   "cell_type": "code",
   "execution_count": 4,
   "metadata": {},
   "outputs": [
    {
     "data": {
      "text/plain": [
       "['combined_data_1.txt',\n",
       " 'combined_data_2.txt',\n",
       " 'combined_data_3.txt',\n",
       " 'combined_data_4.txt']"
      ]
     },
     "execution_count": 4,
     "metadata": {},
     "output_type": "execute_result"
    }
   ],
   "source": [
    "# get all data files\n",
    "files = [f for f in os.listdir('./data/') \\\n",
    "         if re.match('combined_data.*\\.txt',f)]\n",
    "files"
   ]
  },
  {
   "cell_type": "code",
   "execution_count": 5,
   "metadata": {},
   "outputs": [],
   "source": [
    "# Write a file with the final data\n",
    "start_time = datetime.now()\n",
    "if not os.path.isfile('./data/all_data_combined.csv'):\n",
    "    all_data_combined = open('./data/all_data_combined.csv',mode = 'w')\n",
    "# combine all the data into the format movieid','userid','rating','date'\n",
    "    row = list()\n",
    "    for file in tqdm(files):\n",
    "        with open(os.path.join('./data/',file)) as f:\n",
    "            for line in f:\n",
    "                line = line.strip()\n",
    "                if line.endswith(':'):\n",
    "               # Then all that follow are ratings untill me revisit the same ':' pattern\n",
    "                    movie_id = line.replace(':','')\n",
    "                else:\n",
    "                    row = [word for word in line.split(',')]\n",
    "                    row.insert(0,movie_id)\n",
    "                    all_data_combined.write(','.join(row))\n",
    "                    all_data_combined.write('\\n')\n",
    "    all_data_combined.close()\n",
    "    print('All data has been combined')\n",
    "    print('Total Time Taken: {}'.format(datetime.now() - start_time))\n",
    "                "
   ]
  },
  {
   "cell_type": "markdown",
   "metadata": {},
   "source": [
    "#### Create a dataframe from the combined data"
   ]
  },
  {
   "cell_type": "code",
   "execution_count": 6,
   "metadata": {},
   "outputs": [
    {
     "data": {
      "text/html": [
       "<div>\n",
       "<style scoped>\n",
       "    .dataframe tbody tr th:only-of-type {\n",
       "        vertical-align: middle;\n",
       "    }\n",
       "\n",
       "    .dataframe tbody tr th {\n",
       "        vertical-align: top;\n",
       "    }\n",
       "\n",
       "    .dataframe thead th {\n",
       "        text-align: right;\n",
       "    }\n",
       "</style>\n",
       "<table border=\"1\" class=\"dataframe\">\n",
       "  <thead>\n",
       "    <tr style=\"text-align: right;\">\n",
       "      <th></th>\n",
       "      <th>movie</th>\n",
       "      <th>user</th>\n",
       "      <th>rating</th>\n",
       "      <th>date</th>\n",
       "    </tr>\n",
       "  </thead>\n",
       "  <tbody>\n",
       "    <tr>\n",
       "      <th>0</th>\n",
       "      <td>1</td>\n",
       "      <td>1488844</td>\n",
       "      <td>3</td>\n",
       "      <td>2005-09-06</td>\n",
       "    </tr>\n",
       "    <tr>\n",
       "      <th>1</th>\n",
       "      <td>1</td>\n",
       "      <td>822109</td>\n",
       "      <td>5</td>\n",
       "      <td>2005-05-13</td>\n",
       "    </tr>\n",
       "    <tr>\n",
       "      <th>2</th>\n",
       "      <td>1</td>\n",
       "      <td>885013</td>\n",
       "      <td>4</td>\n",
       "      <td>2005-10-19</td>\n",
       "    </tr>\n",
       "    <tr>\n",
       "      <th>3</th>\n",
       "      <td>1</td>\n",
       "      <td>30878</td>\n",
       "      <td>4</td>\n",
       "      <td>2005-12-26</td>\n",
       "    </tr>\n",
       "    <tr>\n",
       "      <th>4</th>\n",
       "      <td>1</td>\n",
       "      <td>823519</td>\n",
       "      <td>3</td>\n",
       "      <td>2004-05-03</td>\n",
       "    </tr>\n",
       "  </tbody>\n",
       "</table>\n",
       "</div>"
      ],
      "text/plain": [
       "   movie     user  rating        date\n",
       "0      1  1488844       3  2005-09-06\n",
       "1      1   822109       5  2005-05-13\n",
       "2      1   885013       4  2005-10-19\n",
       "3      1    30878       4  2005-12-26\n",
       "4      1   823519       3  2004-05-03"
      ]
     },
     "execution_count": 6,
     "metadata": {},
     "output_type": "execute_result"
    }
   ],
   "source": [
    "df = pd.read_csv('./data/all_data_combined.csv',sep = ',',names = ['movie','user','rating','date'])\n",
    "df.head()"
   ]
  },
  {
   "cell_type": "markdown",
   "metadata": {},
   "source": [
    "#### Sort the data"
   ]
  },
  {
   "cell_type": "code",
   "execution_count": 7,
   "metadata": {},
   "outputs": [
    {
     "data": {
      "text/html": [
       "<div>\n",
       "<style scoped>\n",
       "    .dataframe tbody tr th:only-of-type {\n",
       "        vertical-align: middle;\n",
       "    }\n",
       "\n",
       "    .dataframe tbody tr th {\n",
       "        vertical-align: top;\n",
       "    }\n",
       "\n",
       "    .dataframe thead th {\n",
       "        text-align: right;\n",
       "    }\n",
       "</style>\n",
       "<table border=\"1\" class=\"dataframe\">\n",
       "  <thead>\n",
       "    <tr style=\"text-align: right;\">\n",
       "      <th></th>\n",
       "      <th>movie</th>\n",
       "      <th>user</th>\n",
       "      <th>rating</th>\n",
       "      <th>date</th>\n",
       "    </tr>\n",
       "  </thead>\n",
       "  <tbody>\n",
       "    <tr>\n",
       "      <th>56431994</th>\n",
       "      <td>10341</td>\n",
       "      <td>510180</td>\n",
       "      <td>4</td>\n",
       "      <td>1999-11-11</td>\n",
       "    </tr>\n",
       "    <tr>\n",
       "      <th>9056171</th>\n",
       "      <td>1798</td>\n",
       "      <td>510180</td>\n",
       "      <td>5</td>\n",
       "      <td>1999-11-11</td>\n",
       "    </tr>\n",
       "    <tr>\n",
       "      <th>58698779</th>\n",
       "      <td>10774</td>\n",
       "      <td>510180</td>\n",
       "      <td>3</td>\n",
       "      <td>1999-11-11</td>\n",
       "    </tr>\n",
       "    <tr>\n",
       "      <th>48101611</th>\n",
       "      <td>8651</td>\n",
       "      <td>510180</td>\n",
       "      <td>2</td>\n",
       "      <td>1999-11-11</td>\n",
       "    </tr>\n",
       "    <tr>\n",
       "      <th>81893208</th>\n",
       "      <td>14660</td>\n",
       "      <td>510180</td>\n",
       "      <td>2</td>\n",
       "      <td>1999-11-11</td>\n",
       "    </tr>\n",
       "  </tbody>\n",
       "</table>\n",
       "</div>"
      ],
      "text/plain": [
       "          movie    user  rating        date\n",
       "56431994  10341  510180       4  1999-11-11\n",
       "9056171    1798  510180       5  1999-11-11\n",
       "58698779  10774  510180       3  1999-11-11\n",
       "48101611   8651  510180       2  1999-11-11\n",
       "81893208  14660  510180       2  1999-11-11"
      ]
     },
     "execution_count": 7,
     "metadata": {},
     "output_type": "execute_result"
    }
   ],
   "source": [
    "# lets sort the data by the data\n",
    "df.sort_values(by='date',inplace=True)\n",
    "df.head()"
   ]
  },
  {
   "cell_type": "code",
   "execution_count": 8,
   "metadata": {},
   "outputs": [
    {
     "name": "stdout",
     "output_type": "stream",
     "text": [
      "<class 'pandas.core.frame.DataFrame'>\n",
      "Int64Index: 100480507 entries, 56431994 to 25464092\n",
      "Data columns (total 4 columns):\n",
      "movie     int64\n",
      "user      int64\n",
      "rating    int64\n",
      "date      object\n",
      "dtypes: int64(3), object(1)\n",
      "memory usage: 3.7+ GB\n"
     ]
    }
   ],
   "source": [
    "df.info()"
   ]
  },
  {
   "cell_type": "code",
   "execution_count": 9,
   "metadata": {},
   "outputs": [
    {
     "data": {
      "text/html": [
       "<div>\n",
       "<style scoped>\n",
       "    .dataframe tbody tr th:only-of-type {\n",
       "        vertical-align: middle;\n",
       "    }\n",
       "\n",
       "    .dataframe tbody tr th {\n",
       "        vertical-align: top;\n",
       "    }\n",
       "\n",
       "    .dataframe thead th {\n",
       "        text-align: right;\n",
       "    }\n",
       "</style>\n",
       "<table border=\"1\" class=\"dataframe\">\n",
       "  <thead>\n",
       "    <tr style=\"text-align: right;\">\n",
       "      <th></th>\n",
       "      <th>movie</th>\n",
       "      <th>user</th>\n",
       "      <th>rating</th>\n",
       "    </tr>\n",
       "  </thead>\n",
       "  <tbody>\n",
       "    <tr>\n",
       "      <th>count</th>\n",
       "      <td>1.004805e+08</td>\n",
       "      <td>1.004805e+08</td>\n",
       "      <td>1.004805e+08</td>\n",
       "    </tr>\n",
       "    <tr>\n",
       "      <th>mean</th>\n",
       "      <td>9.070915e+03</td>\n",
       "      <td>1.322489e+06</td>\n",
       "      <td>3.604290e+00</td>\n",
       "    </tr>\n",
       "    <tr>\n",
       "      <th>std</th>\n",
       "      <td>5.131891e+03</td>\n",
       "      <td>7.645368e+05</td>\n",
       "      <td>1.085219e+00</td>\n",
       "    </tr>\n",
       "    <tr>\n",
       "      <th>min</th>\n",
       "      <td>1.000000e+00</td>\n",
       "      <td>6.000000e+00</td>\n",
       "      <td>1.000000e+00</td>\n",
       "    </tr>\n",
       "    <tr>\n",
       "      <th>25%</th>\n",
       "      <td>4.677000e+03</td>\n",
       "      <td>6.611980e+05</td>\n",
       "      <td>3.000000e+00</td>\n",
       "    </tr>\n",
       "    <tr>\n",
       "      <th>50%</th>\n",
       "      <td>9.051000e+03</td>\n",
       "      <td>1.319012e+06</td>\n",
       "      <td>4.000000e+00</td>\n",
       "    </tr>\n",
       "    <tr>\n",
       "      <th>75%</th>\n",
       "      <td>1.363500e+04</td>\n",
       "      <td>1.984455e+06</td>\n",
       "      <td>4.000000e+00</td>\n",
       "    </tr>\n",
       "    <tr>\n",
       "      <th>max</th>\n",
       "      <td>1.777000e+04</td>\n",
       "      <td>2.649429e+06</td>\n",
       "      <td>5.000000e+00</td>\n",
       "    </tr>\n",
       "  </tbody>\n",
       "</table>\n",
       "</div>"
      ],
      "text/plain": [
       "              movie          user        rating\n",
       "count  1.004805e+08  1.004805e+08  1.004805e+08\n",
       "mean   9.070915e+03  1.322489e+06  3.604290e+00\n",
       "std    5.131891e+03  7.645368e+05  1.085219e+00\n",
       "min    1.000000e+00  6.000000e+00  1.000000e+00\n",
       "25%    4.677000e+03  6.611980e+05  3.000000e+00\n",
       "50%    9.051000e+03  1.319012e+06  4.000000e+00\n",
       "75%    1.363500e+04  1.984455e+06  4.000000e+00\n",
       "max    1.777000e+04  2.649429e+06  5.000000e+00"
      ]
     },
     "execution_count": 9,
     "metadata": {},
     "output_type": "execute_result"
    }
   ],
   "source": [
    "df.describe()"
   ]
  },
  {
   "cell_type": "markdown",
   "metadata": {},
   "source": [
    "#### Check for any NaN values\n"
   ]
  },
  {
   "cell_type": "code",
   "execution_count": 10,
   "metadata": {},
   "outputs": [
    {
     "data": {
      "text/plain": [
       "movie     0\n",
       "user      0\n",
       "rating    0\n",
       "date      0\n",
       "dtype: int64"
      ]
     },
     "execution_count": 10,
     "metadata": {},
     "output_type": "execute_result"
    }
   ],
   "source": [
    "df.isnull().sum()"
   ]
  },
  {
   "cell_type": "markdown",
   "metadata": {},
   "source": [
    "#### find duplicates, if any."
   ]
  },
  {
   "cell_type": "code",
   "execution_count": 11,
   "metadata": {},
   "outputs": [
    {
     "data": {
      "text/plain": [
       "False"
      ]
     },
     "execution_count": 11,
     "metadata": {},
     "output_type": "execute_result"
    }
   ],
   "source": [
    "boolean = any(df.duplicated(subset=['movie','user','rating'])) \n",
    "boolean"
   ]
  },
  {
   "cell_type": "markdown",
   "metadata": {},
   "source": [
    "There are no duplicates"
   ]
  },
  {
   "cell_type": "markdown",
   "metadata": {},
   "source": [
    "#### Unique Records"
   ]
  },
  {
   "cell_type": "code",
   "execution_count": 12,
   "metadata": {},
   "outputs": [
    {
     "name": "stdout",
     "output_type": "stream",
     "text": [
      "Total unique users :  480189\n",
      "Total unique movies :  17770\n",
      "Total ratings :  100480507\n"
     ]
    }
   ],
   "source": [
    "print('Total unique users : ',df.user.nunique())\n",
    "print('Total unique movies : ',df.movie.nunique())\n",
    "print('Total ratings : ',df.shape[0])"
   ]
  },
  {
   "cell_type": "markdown",
   "metadata": {},
   "source": [
    "#### Train/ Test Split"
   ]
  },
  {
   "cell_type": "markdown",
   "metadata": {},
   "source": [
    "- As we have sorted the data in ascending order of dates, we will have the oldest ratings at the top and latest rating at the end.\n",
    "- Here, we need to make use of the data's temporal (time) nature. We will use the older data everytime to make predictions for the future.\n",
    "- The ratings model would be trained frequently on current day to day data and used to infer ratings for the future"
   ]
  },
  {
   "cell_type": "code",
   "execution_count": 13,
   "metadata": {},
   "outputs": [
    {
     "name": "stdout",
     "output_type": "stream",
     "text": [
      "180 µs ± 9 µs per loop (mean ± std. dev. of 7 runs, 10000 loops each)\n"
     ]
    }
   ],
   "source": [
    "%%timeit\n",
    "if not os.path.isfile('./data/train.csv'):\n",
    "    # First 80 % \n",
    "    train = df.iloc[:int(len(df)*0.80)]\n",
    "    train.to_csv('./data/train.csv',index = False)\n",
    "if not os.path.isfile('./data/test.csv'):\n",
    "    # Remaining 20 %\n",
    "    test = df.iloc[int(len(df)*0.80):]\n",
    "    test.to_csv('./data/test.csv',index = False)\n"
   ]
  },
  {
   "cell_type": "code",
   "execution_count": 14,
   "metadata": {},
   "outputs": [],
   "source": [
    "train_df = pd.read_csv(\"./data/train.csv\",parse_dates = ['date'])"
   ]
  },
  {
   "cell_type": "code",
   "execution_count": 15,
   "metadata": {},
   "outputs": [],
   "source": [
    "test_df = pd.read_csv(\"./data/test.csv\",parse_dates = ['date'])"
   ]
  },
  {
   "cell_type": "markdown",
   "metadata": {},
   "source": [
    "#### Check the distribution of the ratings in Train set"
   ]
  },
  {
   "cell_type": "code",
   "execution_count": 16,
   "metadata": {},
   "outputs": [
    {
     "data": {
      "image/png": "[encoded data removed]",
      "text/plain": [
       "<Figure size 432x288 with 1 Axes>"
      ]
     },
     "metadata": {
      "needs_background": "light"
     },
     "output_type": "display_data"
    }
   ],
   "source": [
    "sns.countplot(train_df.rating)\n",
    "plt.ylabel('No. of Ratings')\n",
    "plt.show()"
   ]
  },
  {
   "cell_type": "markdown",
   "metadata": {},
   "source": [
    "Most people rate 3 & 4. Very few people rate a movie as low as 1"
   ]
  },
  {
   "cell_type": "markdown",
   "metadata": {},
   "source": [
    "We will add a column called a day_of_week and see if it can used to infer ratings"
   ]
  },
  {
   "cell_type": "code",
   "execution_count": 17,
   "metadata": {},
   "outputs": [
    {
     "data": {
      "text/html": [
       "<div>\n",
       "<style scoped>\n",
       "    .dataframe tbody tr th:only-of-type {\n",
       "        vertical-align: middle;\n",
       "    }\n",
       "\n",
       "    .dataframe tbody tr th {\n",
       "        vertical-align: top;\n",
       "    }\n",
       "\n",
       "    .dataframe thead th {\n",
       "        text-align: right;\n",
       "    }\n",
       "</style>\n",
       "<table border=\"1\" class=\"dataframe\">\n",
       "  <thead>\n",
       "    <tr style=\"text-align: right;\">\n",
       "      <th></th>\n",
       "      <th>movie</th>\n",
       "      <th>user</th>\n",
       "      <th>rating</th>\n",
       "      <th>date</th>\n",
       "      <th>day_of_week</th>\n",
       "    </tr>\n",
       "  </thead>\n",
       "  <tbody>\n",
       "    <tr>\n",
       "      <th>0</th>\n",
       "      <td>10341</td>\n",
       "      <td>510180</td>\n",
       "      <td>4</td>\n",
       "      <td>1999-11-11</td>\n",
       "      <td>Thursday</td>\n",
       "    </tr>\n",
       "    <tr>\n",
       "      <th>1</th>\n",
       "      <td>1798</td>\n",
       "      <td>510180</td>\n",
       "      <td>5</td>\n",
       "      <td>1999-11-11</td>\n",
       "      <td>Thursday</td>\n",
       "    </tr>\n",
       "    <tr>\n",
       "      <th>2</th>\n",
       "      <td>10774</td>\n",
       "      <td>510180</td>\n",
       "      <td>3</td>\n",
       "      <td>1999-11-11</td>\n",
       "      <td>Thursday</td>\n",
       "    </tr>\n",
       "    <tr>\n",
       "      <th>3</th>\n",
       "      <td>8651</td>\n",
       "      <td>510180</td>\n",
       "      <td>2</td>\n",
       "      <td>1999-11-11</td>\n",
       "      <td>Thursday</td>\n",
       "    </tr>\n",
       "    <tr>\n",
       "      <th>4</th>\n",
       "      <td>14660</td>\n",
       "      <td>510180</td>\n",
       "      <td>2</td>\n",
       "      <td>1999-11-11</td>\n",
       "      <td>Thursday</td>\n",
       "    </tr>\n",
       "  </tbody>\n",
       "</table>\n",
       "</div>"
      ],
      "text/plain": [
       "   movie    user  rating       date day_of_week\n",
       "0  10341  510180       4 1999-11-11    Thursday\n",
       "1   1798  510180       5 1999-11-11    Thursday\n",
       "2  10774  510180       3 1999-11-11    Thursday\n",
       "3   8651  510180       2 1999-11-11    Thursday\n",
       "4  14660  510180       2 1999-11-11    Thursday"
      ]
     },
     "execution_count": 17,
     "metadata": {},
     "output_type": "execute_result"
    }
   ],
   "source": [
    "train_df['day_of_week'] = train_df.date.dt.weekday_name\n",
    "train_df.head()"
   ]
  },
  {
   "cell_type": "markdown",
   "metadata": {
    "toc-hr-collapsed": false
   },
   "source": [
    "#### Ratings per user"
   ]
  },
  {
   "cell_type": "code",
   "execution_count": 18,
   "metadata": {
    "scrolled": true
   },
   "outputs": [
    {
     "data": {
      "text/plain": [
       "user\n",
       "305344     17112\n",
       "2439493    15896\n",
       "387418     15402\n",
       "1639792     9767\n",
       "1461435     9447\n",
       "Name: rating, dtype: int64"
      ]
     },
     "execution_count": 18,
     "metadata": {},
     "output_type": "execute_result"
    }
   ],
   "source": [
    "ratings_per_user_df = train_df.groupby(['user'])['rating'].count().sort_values(ascending=False)\n",
    "\n",
    "ratings_per_user_df.head()"
   ]
  },
  {
   "cell_type": "markdown",
   "metadata": {},
   "source": [
    "A user has rated 17,112 times !"
   ]
  },
  {
   "cell_type": "markdown",
   "metadata": {},
   "source": [
    "##### Plot the ratings per user in a PDF / CDF plot"
   ]
  },
  {
   "cell_type": "code",
   "execution_count": 19,
   "metadata": {},
   "outputs": [
    {
     "data": {
      "image/png": "[encoded data removed]",
      "text/plain": [
       "<Figure size 432x288 with 2 Axes>"
      ]
     },
     "metadata": {
      "needs_background": "light"
     },
     "output_type": "display_data"
    }
   ],
   "source": [
    "ax1 = plt.subplot(121)\n",
    "sns.kdeplot(ratings_per_user_df,shade = True,ax = ax1)\n",
    "plt.xlabel(\"No. of Ratings by user\")\n",
    "plt.title('PDF')\n",
    "\n",
    "ax2 = plt.subplot(122)\n",
    "plt.hist(ratings_per_user_df,cumulative=True, density=True, bins=30)\n",
    "\n",
    "plt.xlabel(\"No. of Ratings by user\")\n",
    "plt.title('CDF')\n",
    "\n",
    "plt.show()"
   ]
  },
  {
   "cell_type": "markdown",
   "metadata": {},
   "source": [
    "Most users only rate a few movies"
   ]
  },
  {
   "cell_type": "markdown",
   "metadata": {
    "toc-hr-collapsed": true
   },
   "source": [
    "#### Ratings by day of the week"
   ]
  },
  {
   "cell_type": "code",
   "execution_count": 20,
   "metadata": {},
   "outputs": [
    {
     "data": {
      "image/png": "[encoded data removed]",
      "text/plain": [
       "<Figure size 432x288 with 1 Axes>"
      ]
     },
     "metadata": {
      "needs_background": "light"
     },
     "output_type": "display_data"
    }
   ],
   "source": [
    "sns.countplot(train_df.day_of_week)\n",
    "plt.ylabel('No. of Ratings')\n",
    "plt.title('Ratings per day of the week')\n",
    "plt.show()"
   ]
  },
  {
   "cell_type": "markdown",
   "metadata": {},
   "source": [
    "Saturdays and Sundays have the least ratings in numbers as people tend to spend time outdoors"
   ]
  },
  {
   "cell_type": "markdown",
   "metadata": {},
   "source": [
    "##### Box plot for ratings by the day of the week"
   ]
  },
  {
   "cell_type": "code",
   "execution_count": 21,
   "metadata": {},
   "outputs": [
    {
     "data": {
      "image/png": "[encoded data removed]",
      "text/plain": [
       "<Figure size 432x288 with 1 Axes>"
      ]
     },
     "metadata": {
      "needs_background": "light"
     },
     "output_type": "display_data"
    }
   ],
   "source": [
    "sns.boxplot(x= 'day_of_week', y = 'rating', data = train_df)\n",
    "plt.show()"
   ]
  },
  {
   "cell_type": "markdown",
   "metadata": {},
   "source": [
    "No , the feature day_of_week doesn't help us in identifying a rating given by a user for a movie"
   ]
  },
  {
   "cell_type": "markdown",
   "metadata": {},
   "source": [
    "#### Create Sparse Matrix for the users and ratings"
   ]
  },
  {
   "cell_type": "code",
   "execution_count": 45,
   "metadata": {},
   "outputs": [
    {
     "name": "stdout",
     "output_type": "stream",
     "text": [
      "Time taken : 0:00:00.000994\n"
     ]
    }
   ],
   "source": [
    "start = datetime.now()\n",
    "if not os.path.isfile('./data/train_sparse.npz'):\n",
    "    print('Creating Sparse Matrix for Training Data')\n",
    "    train_sparse_matrix = sparse.csr_matrix((train_df.rating.values,(train_df.user.values,train_df.movie.values)),)\n",
    "    print('Done: Shape of matrix : ',train_sparse_matrix.shape)\n",
    "end = datetime.now()\n",
    "\n",
    "print('Time taken : {}'.format(end-start))"
   ]
  },
  {
   "cell_type": "code",
   "execution_count": 46,
   "metadata": {},
   "outputs": [],
   "source": [
    "if not os.path.isfile('./data/train_sparse.npz'):\n",
    "    sparse.save_npz('./data/train_sparse.npz',train_sparse_matrix)"
   ]
  },
  {
   "attachments": {
    "image.png": {
     "image/png": "[encoded data removed]"
    }
   },
   "cell_type": "markdown",
   "metadata": {},
   "source": [
    "#### Calculate Sparsity of the Matrix\n",
    "\n",
    "![image.png](attachment:image.png)"
   ]
  },
  {
   "cell_type": "code",
   "execution_count": 47,
   "metadata": {},
   "outputs": [],
   "source": [
    "# Load the sparse matrix\n",
    "if os.path.isfile('./data/train_sparse.npz'):\n",
    "    train_sparse_matrix = sparse.load_npz('./data/train_sparse.npz')"
   ]
  },
  {
   "cell_type": "code",
   "execution_count": 48,
   "metadata": {},
   "outputs": [
    {
     "data": {
      "text/plain": [
       "(2649430, 17771)"
      ]
     },
     "execution_count": 48,
     "metadata": {},
     "output_type": "execute_result"
    }
   ],
   "source": [
    "train_sparse_matrix.shape"
   ]
  },
  {
   "cell_type": "code",
   "execution_count": 49,
   "metadata": {},
   "outputs": [
    {
     "data": {
      "text/plain": [
       "99.8292709259195"
      ]
     },
     "execution_count": 49,
     "metadata": {},
     "output_type": "execute_result"
    }
   ],
   "source": [
    "users,movies = train_sparse_matrix.shape\n",
    "elements = train_sparse_matrix.count_nonzero()\n",
    "sparsity = (1-(elements/(users*movies))) * 100\n",
    "sparsity"
   ]
  },
  {
   "cell_type": "markdown",
   "metadata": {},
   "source": [
    "#### Sparse Matrix for test data"
   ]
  },
  {
   "cell_type": "code",
   "execution_count": 51,
   "metadata": {},
   "outputs": [
    {
     "name": "stdout",
     "output_type": "stream",
     "text": [
      "Time taken : 0:00:00.000959\n"
     ]
    }
   ],
   "source": [
    "start = datetime.now()\n",
    "if not os.path.isfile('./data/test_sparse_matrix.npz'):\n",
    "    print('Creating Sparse Matrix for Testing Data')\n",
    "    test_sparse_matrix = sparse.csr_matrix((test_df.rating.values,(test_df.user.values,test_df.movie.values)),)\n",
    "    print('Done: Shape of matrix : ',test_sparse_matrix.shape)\n",
    "end = datetime.now()\n",
    "\n",
    "print('Time taken : {}'.format(end-start))"
   ]
  },
  {
   "cell_type": "code",
   "execution_count": 52,
   "metadata": {},
   "outputs": [],
   "source": [
    "if not os.path.isfile('./data/test_sparse_matrix.npz'):\n",
    "    sparse.save_npz('./data/test_sparse_matrix.npz',test_sparse_matrix)\n",
    "# Load the sparse matrix\n",
    "if os.path.isfile('./data/test_sparse_matrix.npz'):\n",
    "    test_sparse_matrix = sparse.load_npz('./data/test_sparse_matrix.npz')"
   ]
  },
  {
   "cell_type": "markdown",
   "metadata": {},
   "source": [
    "#### Sparsity of test data"
   ]
  },
  {
   "cell_type": "code",
   "execution_count": 53,
   "metadata": {},
   "outputs": [
    {
     "data": {
      "text/plain": [
       "99.95731772988694"
      ]
     },
     "execution_count": 53,
     "metadata": {},
     "output_type": "execute_result"
    }
   ],
   "source": [
    "users,movies = test_sparse_matrix.shape\n",
    "elements = sparse_matrix.count_nonzero()\n",
    "sparsity = (1-(elements/(users*movies))) * 100\n",
    "sparsity"
   ]
  },
  {
   "cell_type": "markdown",
   "metadata": {},
   "source": [
    "The matrix is 99 % sparse"
   ]
  },
  {
   "cell_type": "markdown",
   "metadata": {},
   "source": [
    "#### Global Averages"
   ]
  },
  {
   "cell_type": "markdown",
   "metadata": {},
   "source": [
    "We will now calculate the global mean of all the movies ratings"
   ]
  },
  {
   "cell_type": "code",
   "execution_count": 27,
   "metadata": {},
   "outputs": [],
   "source": [
    "def get_average_ratings(sparse_matrix,calculate_for_users=True):\n",
    "    if calculate_for_users:\n",
    "        axis_to_consider = 1\n",
    "    else:\n",
    "        axis_to_consider = 0\n",
    "        # .A1 to convert to 1-D np array\n",
    "    sum_of_ratings = sparse_matrix.sum(axis = axis_to_consider).A1 \n",
    "    movies_that_are_rated_matrix = sparse_matrix!=0\n",
    "    no_of_ratings = movies_that_are_rated_matrix.sum(axis_to_consider).A1\n",
    "    \n",
    "    total_users,total_movies = sparse_matrix.shape\n",
    "    # Calculate the average for users/movies\n",
    "    average_ratings = {i: sum_of_ratings[i]/no_of_ratings[i]\n",
    "                      for i in range(total_users if calculate_for_users else total_movies)\n",
    "                      if no_of_ratings[i]!=0\n",
    "                      }\n",
    "    return average_ratings"
   ]
  },
  {
   "cell_type": "markdown",
   "metadata": {},
   "source": [
    "##### Global Average of all ratings"
   ]
  },
  {
   "cell_type": "code",
   "execution_count": 28,
   "metadata": {},
   "outputs": [
    {
     "data": {
      "text/plain": [
       "{'global': 3.582890686321557}"
      ]
     },
     "execution_count": 28,
     "metadata": {},
     "output_type": "execute_result"
    }
   ],
   "source": [
    "train_data_averages = {}\n",
    "ratings_global_average = sparse_matrix.sum()/sparse_matrix.count_nonzero()\n",
    "train_data_averages['global'] = ratings_global_average\n",
    "train_data_averages"
   ]
  },
  {
   "cell_type": "markdown",
   "metadata": {},
   "source": [
    "##### Average ratings per user"
   ]
  },
  {
   "cell_type": "code",
   "execution_count": 29,
   "metadata": {},
   "outputs": [
    {
     "name": "stdout",
     "output_type": "stream",
     "text": [
      "Average rating for user 210 : 3.605714285714286\n"
     ]
    }
   ],
   "source": [
    "train_data_averages['user'] = get_average_ratings(sparse_matrix)\n",
    "print('Average rating for user 210 : {}'.format(train_data_averages['user'][201]))"
   ]
  },
  {
   "cell_type": "markdown",
   "metadata": {},
   "source": [
    "##### Average ratings per movie"
   ]
  },
  {
   "cell_type": "code",
   "execution_count": 30,
   "metadata": {},
   "outputs": [
    {
     "name": "stdout",
     "output_type": "stream",
     "text": [
      "Average rating for the movie 6 : 3.5160550458715596\n"
     ]
    }
   ],
   "source": [
    "train_data_averages['movie'] = get_average_ratings(sparse_matrix)\n",
    "print('Average rating for the movie 6 : {}'.format(train_data_averages['movie'][6]))"
   ]
  },
  {
   "cell_type": "markdown",
   "metadata": {},
   "source": [
    "- ___The movie averages can tell us about the performance of the movie___\n",
    "- ___The User averages can tell us about the ratings pattern for a particular user___"
   ]
  },
  {
   "cell_type": "markdown",
   "metadata": {},
   "source": [
    "### Building the Model"
   ]
  },
  {
   "cell_type": "markdown",
   "metadata": {},
   "source": [
    "#### Sampling data"
   ]
  },
  {
   "cell_type": "code",
   "execution_count": 31,
   "metadata": {},
   "outputs": [],
   "source": [
    "def get_sample_sparse_matrix(sparse_matrix, no_users, no_movies, path, verbose = True):\n",
    "    \"\"\"\n",
    "        It will get it from the ''path'' if it is present  or It will create \n",
    "        and store the sampled sparse matrix in the path specified.\n",
    "    \"\"\"\n",
    "\n",
    "    # get (row, col) and (rating) tuple from sparse_matrix...\n",
    "    row_ind, col_ind, ratings = sparse.find(sparse_matrix)\n",
    "    users = np.unique(row_ind)\n",
    "    movies = np.unique(col_ind)\n",
    "\n",
    "    print(\"Original Matrix : (users, movies) -- ({} {})\".format(len(users), len(movies)))\n",
    "    print(\"Original Matrix : Ratings -- {}\\n\".format(len(ratings)))\n",
    "\n",
    "    # It just to make sure to get same sample everytime we run this program..\n",
    "    # and pick without replacement....\n",
    "    np.random.seed(15)\n",
    "    sample_users = np.random.choice(users, no_users, replace=False)\n",
    "    sample_movies = np.random.choice(movies, no_movies, replace=False)\n",
    "    # get the boolean mask or these sampled_items in originl row/col_inds..\n",
    "    mask = np.logical_and( np.isin(row_ind, sample_users),\n",
    "                      np.isin(col_ind, sample_movies) )\n",
    "    \n",
    "    sample_sparse_matrix = sparse.csr_matrix((ratings[mask], (row_ind[mask], col_ind[mask])),\n",
    "                                             shape=(max(sample_users)+1, max(sample_movies)+1))\n",
    "\n",
    "    if verbose:\n",
    "        print(\"Sampled Matrix : (users, movies) -- ({} {})\".format(len(sample_users), len(sample_movies)))\n",
    "        print(\"Sampled Matrix : Ratings --\", format(ratings[mask].shape[0]))\n",
    "\n",
    "    print('Saving it into disk for further usage..')\n",
    "    # save it into disk\n",
    "    sparse.save_npz(path, sample_sparse_matrix)\n",
    "    if verbose:\n",
    "            print('Done..\\n')\n",
    "    \n",
    "    return sample_sparse_matrix"
   ]
  },
  {
   "cell_type": "markdown",
   "metadata": {},
   "source": [
    "#### Sample Train data"
   ]
  },
  {
   "cell_type": "code",
   "execution_count": 57,
   "metadata": {},
   "outputs": [
    {
     "name": "stdout",
     "output_type": "stream",
     "text": [
      "Original Matrix : (users, movies) -- (349312 17757)\n",
      "Original Matrix : Ratings -- 20096102\n",
      "\n",
      "Sampled Matrix : (users, movies) -- (1000 500)\n",
      "Sampled Matrix : Ratings -- 1388\n",
      "Saving it into disk for further usage..\n",
      "Done..\n",
      "\n",
      "0:00:15.567383\n"
     ]
    }
   ],
   "source": [
    "start = datetime.now()\n",
    "path = \"./data/sample_train_sparse_matrix.npz\"\n",
    "if os.path.isfile(path):\n",
    "    print(\"It is present in your working directory, getting it from disk....\")\n",
    "    # just get it from the disk instead of computing it\n",
    "    sample_train_sparse_matrix = sparse.load_npz(path)\n",
    "    print(\"DONE..\")\n",
    "else: \n",
    "    # get 1k users and 500 movies from available data \n",
    "    sample_train_sparse_matrix = get_sample_sparse_matrix(sparse_matrix, no_users=1000, no_movies=500,\n",
    "                                             path = path)\n",
    "\n",
    "print(datetime.now() - start)"
   ]
  },
  {
   "cell_type": "markdown",
   "metadata": {},
   "source": [
    "#### Sample Test data"
   ]
  },
  {
   "cell_type": "code",
   "execution_count": 79,
   "metadata": {},
   "outputs": [
    {
     "name": "stdout",
     "output_type": "stream",
     "text": [
      "It is present in your working directory, getting it from disk....\n",
      "DONE..\n",
      "0:00:00.034908\n"
     ]
    }
   ],
   "source": [
    "start = datetime.now()\n",
    "path = \"./data/sample_test_sparse_matrix.npz\"\n",
    "if os.path.isfile(path):\n",
    "    print(\"It is present in your working directory, getting it from disk....\")\n",
    "    # just get it from the disk instead of computing it\n",
    "    sample_test_sparse_matrix = sparse.load_npz(path)\n",
    "    print(\"DONE..\")\n",
    "else: \n",
    "    # get 1k users and 500 movies from available data \n",
    "    sample_test_sparse_matrix = get_sample_sparse_matrix(test_sparse_matrix, no_users=1000, no_movies=500,\n",
    "                                             path = path)\n",
    "\n",
    "print(datetime.now() - start)"
   ]
  },
  {
   "cell_type": "markdown",
   "metadata": {},
   "source": [
    "#### Averages for the sample data"
   ]
  },
  {
   "cell_type": "code",
   "execution_count": 80,
   "metadata": {},
   "outputs": [
    {
     "name": "stdout",
     "output_type": "stream",
     "text": [
      "\n",
      "Average rating of user 23354 : 4.363636363636363\n"
     ]
    }
   ],
   "source": [
    "sample_train_averages = dict()\n",
    "# get the global average of ratings in our train set.\n",
    "global_average = sample_train_sparse_matrix.sum()/sample_train_sparse_matrix.count_nonzero()\n",
    "sample_train_averages['global'] = global_average\n",
    "sample_train_averages\n",
    "\n",
    "# User rating Average\n",
    "sample_train_averages['user'] = get_average_ratings(sample_train_sparse_matrix, calculate_for_users=True)\n",
    "print('\\nAverage rating of user 23354 :',sample_train_averages['user'][23354])"
   ]
  },
  {
   "cell_type": "code",
   "execution_count": 81,
   "metadata": {},
   "outputs": [
    {
     "name": "stdout",
     "output_type": "stream",
     "text": [
      "\n",
      " AVerage rating of movie 348 : 4.0\n"
     ]
    }
   ],
   "source": [
    "# Movie Rating Average\n",
    "sample_train_averages['movie'] =  get_average_ratings(sample_train_sparse_matrix,calculate_for_users=False)\n",
    "print('\\n AVerage rating of movie 348 :',sample_train_averages['movie'][348])"
   ]
  },
  {
   "cell_type": "markdown",
   "metadata": {},
   "source": [
    "### Feature Engineering"
   ]
  },
  {
   "cell_type": "code",
   "execution_count": 82,
   "metadata": {},
   "outputs": [
    {
     "name": "stdout",
     "output_type": "stream",
     "text": [
      "\n",
      " No of ratings in Our Sampled train matrix is : 1388\n",
      "\n",
      "\n",
      " No of ratings in Our Sampled test matrix is : 1388\n",
      "\n"
     ]
    }
   ],
   "source": [
    "print('\\n No of ratings in Our Sampled train matrix is : {}\\n'.format(sample_train_sparse_matrix.count_nonzero()))\n",
    "print('\\n No of ratings in Our Sampled test matrix is : {}\\n'.format(sample_test_sparse_matrix.count_nonzero()))"
   ]
  },
  {
   "cell_type": "code",
   "execution_count": 83,
   "metadata": {},
   "outputs": [],
   "source": [
    "sample_train_users, sample_train_movies, sample_train_ratings = sparse.find(sample_train_sparse_matrix)"
   ]
  },
  {
   "cell_type": "code",
   "execution_count": 87,
   "metadata": {},
   "outputs": [
    {
     "name": "stdout",
     "output_type": "stream",
     "text": [
      "preparing 1388 tuples for the dataset..\n",
      "\n",
      "0:08:20.541729\n"
     ]
    }
   ],
   "source": [
    "start = datetime.now()\n",
    "if os.path.isfile('./data/reg_train.csv'):\n",
    "    print(\"File already exists you don't have to prepare again...\" )\n",
    "else:\n",
    "    print('preparing {} tuples for the dataset..\\n'.format(len(sample_train_ratings)))\n",
    "    with open('./data/reg_train.csv', mode='w') as reg_data_file:\n",
    "        count = 0\n",
    "        for (user, movie, rating)  in zip(sample_train_users, sample_train_movies, sample_train_ratings):\n",
    "            st = datetime.now()\n",
    "        #     print(user, movie)    \n",
    "            #--------------------- Ratings of \"movie\" by similar users of \"user\" ---------------------\n",
    "            # compute the similar Users of the \"user\"        \n",
    "            user_sim = cosine_similarity(sample_train_sparse_matrix[user], sample_train_sparse_matrix).ravel()\n",
    "            top_sim_users = user_sim.argsort()[::-1][1:] # we are ignoring 'The User' from its similar users.\n",
    "            # get the ratings of most similar users for this movie\n",
    "            top_ratings = sample_train_sparse_matrix[top_sim_users, movie].toarray().ravel()\n",
    "            # we will make it's length \"5\" by adding movie averages to .\n",
    "            top_sim_users_ratings = list(top_ratings[top_ratings != 0][:5])\n",
    "            top_sim_users_ratings.extend([sample_train_averages['movie'][movie]]*(5 - len(top_sim_users_ratings)))\n",
    "        #     print(top_sim_users_ratings, end=\" \")    \n",
    "\n",
    "\n",
    "            #--------------------- Ratings by \"user\"  to similar movies of \"movie\" ---------------------\n",
    "            # compute the similar movies of the \"movie\"        \n",
    "            movie_sim = cosine_similarity(sample_train_sparse_matrix[:,movie].T, sample_train_sparse_matrix.T).ravel()\n",
    "            top_sim_movies = movie_sim.argsort()[::-1][1:] # we are ignoring 'The User' from its similar users.\n",
    "            # get the ratings of most similar movie rated by this user..\n",
    "            top_ratings = sample_train_sparse_matrix[user, top_sim_movies].toarray().ravel()\n",
    "            # we will make it's length \"5\" by adding user averages to.\n",
    "            top_sim_movies_ratings = list(top_ratings[top_ratings != 0][:5])\n",
    "            top_sim_movies_ratings.extend([sample_train_averages['user'][user]]*(5-len(top_sim_movies_ratings))) \n",
    "        #     print(top_sim_movies_ratings, end=\" : -- \")\n",
    "\n",
    "            #-----------------prepare the row to be stores in a file-----------------#\n",
    "            row = list()\n",
    "            row.append(user)\n",
    "            row.append(movie)\n",
    "            # Now add the other features to this data...\n",
    "            row.append(sample_train_averages['global']) # first feature\n",
    "            # next 5 features are similar_users \"movie\" ratings\n",
    "            row.extend(top_sim_users_ratings)\n",
    "            # next 5 features are \"user\" ratings for similar_movies\n",
    "            row.extend(top_sim_movies_ratings)\n",
    "            # Avg_user rating\n",
    "            row.append(sample_train_averages['user'][user])\n",
    "            # Avg_movie rating\n",
    "            row.append(sample_train_averages['movie'][movie])\n",
    "\n",
    "            # finalley, The actual Rating of this user-movie pair...\n",
    "            row.append(rating)\n",
    "            count = count + 1\n",
    "\n",
    "            # add rows to the file opened..\n",
    "            reg_data_file.write(','.join(map(str, row)))\n",
    "            reg_data_file.write('\\n')        \n",
    "            if (count)%10000 == 0:\n",
    "                # print(','.join(map(str, row)))\n",
    "                print(\"Done for {} rows----- {}\".format(count, datetime.now() - start))\n",
    "\n",
    "\n",
    "print(datetime.now() - start)"
   ]
  },
  {
   "cell_type": "markdown",
   "metadata": {},
   "source": [
    "The new features are :\n",
    "- __global_average__ :  Average rating of all the ratings                                                           \n",
    "- __sim_user_1-----sim_user_5__: Top 5 similar users who rated that movie\n",
    "- __sim_mov_1---sim_mov_5__ : Top 5 similar movies rated by this movie.\n",
    "- __user_averge_rating__ : User's Average rating\n",
    "- __movie_average_rating__ : Average rating of this movie\n",
    "- __rating__ : Rating of this movie by this user"
   ]
  },
  {
   "cell_type": "code",
   "execution_count": 89,
   "metadata": {},
   "outputs": [
    {
     "data": {
      "text/html": [
       "<div>\n",
       "<style scoped>\n",
       "    .dataframe tbody tr th:only-of-type {\n",
       "        vertical-align: middle;\n",
       "    }\n",
       "\n",
       "    .dataframe tbody tr th {\n",
       "        vertical-align: top;\n",
       "    }\n",
       "\n",
       "    .dataframe thead th {\n",
       "        text-align: right;\n",
       "    }\n",
       "</style>\n",
       "<table border=\"1\" class=\"dataframe\">\n",
       "  <thead>\n",
       "    <tr style=\"text-align: right;\">\n",
       "      <th></th>\n",
       "      <th>user</th>\n",
       "      <th>movie</th>\n",
       "      <th>global_avg</th>\n",
       "      <th>sim_user_1</th>\n",
       "      <th>sim_user_2</th>\n",
       "      <th>sim_user_3</th>\n",
       "      <th>sim_user_4</th>\n",
       "      <th>sim_user_5</th>\n",
       "      <th>sim_mov_1</th>\n",
       "      <th>sim_mov_2</th>\n",
       "      <th>sim_mov_3</th>\n",
       "      <th>sim_mov_4</th>\n",
       "      <th>sim_mov_5</th>\n",
       "      <th>user_averge_rating</th>\n",
       "      <th>movie_average_rating</th>\n",
       "      <th>rating</th>\n",
       "    </tr>\n",
       "  </thead>\n",
       "  <tbody>\n",
       "    <tr>\n",
       "      <th>0</th>\n",
       "      <td>356035</td>\n",
       "      <td>111</td>\n",
       "      <td>3.596542</td>\n",
       "      <td>2.0</td>\n",
       "      <td>4.0</td>\n",
       "      <td>4.0</td>\n",
       "      <td>3.0</td>\n",
       "      <td>2.0</td>\n",
       "      <td>5.0</td>\n",
       "      <td>2.0</td>\n",
       "      <td>2.0</td>\n",
       "      <td>2.0</td>\n",
       "      <td>3.0</td>\n",
       "      <td>2.750000</td>\n",
       "      <td>3.111111</td>\n",
       "      <td>3</td>\n",
       "    </tr>\n",
       "    <tr>\n",
       "      <th>1</th>\n",
       "      <td>422234</td>\n",
       "      <td>111</td>\n",
       "      <td>3.596542</td>\n",
       "      <td>3.0</td>\n",
       "      <td>4.0</td>\n",
       "      <td>4.0</td>\n",
       "      <td>3.0</td>\n",
       "      <td>4.0</td>\n",
       "      <td>2.0</td>\n",
       "      <td>2.0</td>\n",
       "      <td>2.0</td>\n",
       "      <td>2.0</td>\n",
       "      <td>2.0</td>\n",
       "      <td>2.000000</td>\n",
       "      <td>3.111111</td>\n",
       "      <td>2</td>\n",
       "    </tr>\n",
       "    <tr>\n",
       "      <th>2</th>\n",
       "      <td>981995</td>\n",
       "      <td>111</td>\n",
       "      <td>3.596542</td>\n",
       "      <td>2.0</td>\n",
       "      <td>3.0</td>\n",
       "      <td>3.0</td>\n",
       "      <td>4.0</td>\n",
       "      <td>3.0</td>\n",
       "      <td>5.0</td>\n",
       "      <td>5.0</td>\n",
       "      <td>4.0</td>\n",
       "      <td>5.0</td>\n",
       "      <td>4.0</td>\n",
       "      <td>4.222222</td>\n",
       "      <td>3.111111</td>\n",
       "      <td>4</td>\n",
       "    </tr>\n",
       "    <tr>\n",
       "      <th>3</th>\n",
       "      <td>1083033</td>\n",
       "      <td>111</td>\n",
       "      <td>3.596542</td>\n",
       "      <td>3.0</td>\n",
       "      <td>3.0</td>\n",
       "      <td>2.0</td>\n",
       "      <td>3.0</td>\n",
       "      <td>3.0</td>\n",
       "      <td>3.0</td>\n",
       "      <td>4.0</td>\n",
       "      <td>4.0</td>\n",
       "      <td>3.0</td>\n",
       "      <td>4.0</td>\n",
       "      <td>3.347826</td>\n",
       "      <td>3.111111</td>\n",
       "      <td>2</td>\n",
       "    </tr>\n",
       "    <tr>\n",
       "      <th>4</th>\n",
       "      <td>1990451</td>\n",
       "      <td>111</td>\n",
       "      <td>3.596542</td>\n",
       "      <td>4.0</td>\n",
       "      <td>2.0</td>\n",
       "      <td>3.0</td>\n",
       "      <td>3.0</td>\n",
       "      <td>3.0</td>\n",
       "      <td>5.0</td>\n",
       "      <td>5.0</td>\n",
       "      <td>5.0</td>\n",
       "      <td>4.0</td>\n",
       "      <td>4.6</td>\n",
       "      <td>4.600000</td>\n",
       "      <td>3.111111</td>\n",
       "      <td>4</td>\n",
       "    </tr>\n",
       "  </tbody>\n",
       "</table>\n",
       "</div>"
      ],
      "text/plain": [
       "      user  movie  global_avg  sim_user_1  sim_user_2  sim_user_3  sim_user_4  \\\n",
       "0   356035    111    3.596542         2.0         4.0         4.0         3.0   \n",
       "1   422234    111    3.596542         3.0         4.0         4.0         3.0   \n",
       "2   981995    111    3.596542         2.0         3.0         3.0         4.0   \n",
       "3  1083033    111    3.596542         3.0         3.0         2.0         3.0   \n",
       "4  1990451    111    3.596542         4.0         2.0         3.0         3.0   \n",
       "\n",
       "   sim_user_5  sim_mov_1  sim_mov_2  sim_mov_3  sim_mov_4  sim_mov_5  \\\n",
       "0         2.0        5.0        2.0        2.0        2.0        3.0   \n",
       "1         4.0        2.0        2.0        2.0        2.0        2.0   \n",
       "2         3.0        5.0        5.0        4.0        5.0        4.0   \n",
       "3         3.0        3.0        4.0        4.0        3.0        4.0   \n",
       "4         3.0        5.0        5.0        5.0        4.0        4.6   \n",
       "\n",
       "   user_averge_rating  movie_average_rating  rating  \n",
       "0            2.750000              3.111111       3  \n",
       "1            2.000000              3.111111       2  \n",
       "2            4.222222              3.111111       4  \n",
       "3            3.347826              3.111111       2  \n",
       "4            4.600000              3.111111       4  "
      ]
     },
     "execution_count": 89,
     "metadata": {},
     "output_type": "execute_result"
    }
   ],
   "source": [
    "reg_train_data = pd.read_csv('./data/reg_train.csv',names = ['user','movie',\n",
    "                                                             'global_avg',\n",
    "                                                             'sim_user_1',\n",
    "                                                             'sim_user_2',\n",
    "                                                             'sim_user_3',\n",
    "                                                             'sim_user_4',\n",
    "                                                             'sim_user_5',\n",
    "                                                             'sim_mov_1',\n",
    "                                                             'sim_mov_2',\n",
    "                                                             'sim_mov_3',\n",
    "                                                             'sim_mov_4',\n",
    "                                                             'sim_mov_5',\n",
    "                                                             'user_averge_rating',\n",
    "                                                             'movie_average_rating',\n",
    "                                                             'rating'])\n",
    "reg_train_data.head()"
   ]
  },
  {
   "cell_type": "markdown",
   "metadata": {},
   "source": [
    "#### Features for the test data"
   ]
  },
  {
   "cell_type": "code",
   "execution_count": 90,
   "metadata": {},
   "outputs": [],
   "source": [
    "sample_test_users, sample_test_movies, sample_test_ratings = sparse.find(sample_test_sparse_matrix)"
   ]
  },
  {
   "cell_type": "code",
   "execution_count": 91,
   "metadata": {},
   "outputs": [
    {
     "name": "stdout",
     "output_type": "stream",
     "text": [
      "preparing 1388 tuples for the dataset..\n",
      "\n",
      "Done for 1000 rows----- 0:05:49.401871\n",
      " 0:08:19.086657\n"
     ]
    }
   ],
   "source": [
    "start = datetime.now()\n",
    "\n",
    "if os.path.isfile('./data/reg_test.csv'):\n",
    "    print(\"It is already created...\")\n",
    "else:\n",
    "\n",
    "    print('preparing {} tuples for the dataset..\\n'.format(len(sample_test_ratings)))\n",
    "    with open('./data/reg_test.csv', mode='w') as reg_data_file:\n",
    "        count = 0 \n",
    "        for (user, movie, rating)  in zip(sample_test_users, sample_test_movies, sample_test_ratings):\n",
    "            st = datetime.now()\n",
    "\n",
    "        #--------------------- Ratings of \"movie\" by similar users of \"user\" ---------------------\n",
    "            #print(user, movie)\n",
    "            try:\n",
    "                # compute the similar Users of the \"user\"        \n",
    "                user_sim = cosine_similarity(sample_train_sparse_matrix[user], sample_train_sparse_matrix).ravel()\n",
    "                top_sim_users = user_sim.argsort()[::-1][1:] # we are ignoring 'The User' from its similar users.\n",
    "                # get the ratings of most similar users for this movie\n",
    "                top_ratings = sample_train_sparse_matrix[top_sim_users, movie].toarray().ravel()\n",
    "                # we will make it's length \"5\" by adding movie averages to .\n",
    "                top_sim_users_ratings = list(top_ratings[top_ratings != 0][:5])\n",
    "                top_sim_users_ratings.extend([sample_train_averages['movie'][movie]]*(5 - len(top_sim_users_ratings)))\n",
    "                # print(top_sim_users_ratings, end=\"--\")\n",
    "\n",
    "            except (IndexError, KeyError):\n",
    "                # It is a new User or new Movie or there are no ratings for given user for top similar movies...\n",
    "                ########## Cold STart Problem ##########\n",
    "                top_sim_users_ratings.extend([sample_train_averages['global']]*(5 - len(top_sim_users_ratings)))\n",
    "                #print(top_sim_users_ratings)\n",
    "            except:\n",
    "                print(user, movie)\n",
    "                # we just want KeyErrors to be resolved. Not every Exception...\n",
    "                raise\n",
    "\n",
    "\n",
    "\n",
    "            #--------------------- Ratings by \"user\"  to similar movies of \"movie\" ---------------------\n",
    "            try:\n",
    "                # compute the similar movies of the \"movie\"        \n",
    "                movie_sim = cosine_similarity(sample_train_sparse_matrix[:,movie].T, sample_train_sparse_matrix.T).ravel()\n",
    "                top_sim_movies = movie_sim.argsort()[::-1][1:] # we are ignoring 'The User' from its similar users.\n",
    "                # get the ratings of most similar movie rated by this user..\n",
    "                top_ratings = sample_train_sparse_matrix[user, top_sim_movies].toarray().ravel()\n",
    "                # we will make it's length \"5\" by adding user averages to.\n",
    "                top_sim_movies_ratings = list(top_ratings[top_ratings != 0][:5])\n",
    "                top_sim_movies_ratings.extend([sample_train_averages['user'][user]]*(5-len(top_sim_movies_ratings))) \n",
    "                #print(top_sim_movies_ratings)\n",
    "            except (IndexError, KeyError):\n",
    "                #print(top_sim_movies_ratings, end=\" : -- \")\n",
    "                top_sim_movies_ratings.extend([sample_train_averages['global']]*(5-len(top_sim_movies_ratings)))\n",
    "                #print(top_sim_movies_ratings)\n",
    "            except :\n",
    "                raise\n",
    "\n",
    "            #-----------------prepare the row to be stores in a file-----------------#\n",
    "            row = list()\n",
    "            # add usser and movie name first\n",
    "            row.append(user)\n",
    "            row.append(movie)\n",
    "            row.append(sample_train_averages['global']) # first feature\n",
    "            #print(row)\n",
    "            # next 5 features are similar_users \"movie\" ratings\n",
    "            row.extend(top_sim_users_ratings)\n",
    "            #print(row)\n",
    "            # next 5 features are \"user\" ratings for similar_movies\n",
    "            row.extend(top_sim_movies_ratings)\n",
    "            #print(row)\n",
    "            # Avg_user rating\n",
    "            try:\n",
    "                row.append(sample_train_averages['user'][user])\n",
    "            except KeyError:\n",
    "                row.append(sample_train_averages['global'])\n",
    "            except:\n",
    "                raise\n",
    "            #print(row)\n",
    "            # Avg_movie rating\n",
    "            try:\n",
    "                row.append(sample_train_averages['movie'][movie])\n",
    "            except KeyError:\n",
    "                row.append(sample_train_averages['global'])\n",
    "            except:\n",
    "                raise\n",
    "            #print(row)\n",
    "            # finalley, The actual Rating of this user-movie pair...\n",
    "            row.append(rating)\n",
    "            #print(row)\n",
    "            count = count + 1\n",
    "\n",
    "            # add rows to the file opened..\n",
    "            reg_data_file.write(','.join(map(str, row)))\n",
    "            #print(','.join(map(str, row)))\n",
    "            reg_data_file.write('\\n')        \n",
    "            if (count)%1000 == 0:\n",
    "                #print(','.join(map(str, row)))\n",
    "                print(\"Done for {} rows----- {}\".format(count, datetime.now() - start))\n",
    "    print(\"\",datetime.now() - start)  "
   ]
  },
  {
   "cell_type": "code",
   "execution_count": 92,
   "metadata": {},
   "outputs": [
    {
     "data": {
      "text/html": [
       "<div>\n",
       "<style scoped>\n",
       "    .dataframe tbody tr th:only-of-type {\n",
       "        vertical-align: middle;\n",
       "    }\n",
       "\n",
       "    .dataframe tbody tr th {\n",
       "        vertical-align: top;\n",
       "    }\n",
       "\n",
       "    .dataframe thead th {\n",
       "        text-align: right;\n",
       "    }\n",
       "</style>\n",
       "<table border=\"1\" class=\"dataframe\">\n",
       "  <thead>\n",
       "    <tr style=\"text-align: right;\">\n",
       "      <th></th>\n",
       "      <th>user</th>\n",
       "      <th>movie</th>\n",
       "      <th>global_avg</th>\n",
       "      <th>sim_user_1</th>\n",
       "      <th>sim_user_2</th>\n",
       "      <th>sim_user_3</th>\n",
       "      <th>sim_user_4</th>\n",
       "      <th>sim_user_5</th>\n",
       "      <th>sim_mov_1</th>\n",
       "      <th>sim_mov_2</th>\n",
       "      <th>sim_mov_3</th>\n",
       "      <th>sim_mov_4</th>\n",
       "      <th>sim_mov_5</th>\n",
       "      <th>user_averge_rating</th>\n",
       "      <th>movie_average_rating</th>\n",
       "      <th>rating</th>\n",
       "    </tr>\n",
       "  </thead>\n",
       "  <tbody>\n",
       "    <tr>\n",
       "      <th>0</th>\n",
       "      <td>356035</td>\n",
       "      <td>111</td>\n",
       "      <td>3.596542</td>\n",
       "      <td>2.0</td>\n",
       "      <td>4.0</td>\n",
       "      <td>4.0</td>\n",
       "      <td>3.0</td>\n",
       "      <td>2.0</td>\n",
       "      <td>5.0</td>\n",
       "      <td>2.0</td>\n",
       "      <td>2.0</td>\n",
       "      <td>2.0</td>\n",
       "      <td>3.0</td>\n",
       "      <td>2.750000</td>\n",
       "      <td>3.111111</td>\n",
       "      <td>3</td>\n",
       "    </tr>\n",
       "    <tr>\n",
       "      <th>1</th>\n",
       "      <td>422234</td>\n",
       "      <td>111</td>\n",
       "      <td>3.596542</td>\n",
       "      <td>3.0</td>\n",
       "      <td>4.0</td>\n",
       "      <td>4.0</td>\n",
       "      <td>3.0</td>\n",
       "      <td>4.0</td>\n",
       "      <td>2.0</td>\n",
       "      <td>2.0</td>\n",
       "      <td>2.0</td>\n",
       "      <td>2.0</td>\n",
       "      <td>2.0</td>\n",
       "      <td>2.000000</td>\n",
       "      <td>3.111111</td>\n",
       "      <td>2</td>\n",
       "    </tr>\n",
       "    <tr>\n",
       "      <th>2</th>\n",
       "      <td>981995</td>\n",
       "      <td>111</td>\n",
       "      <td>3.596542</td>\n",
       "      <td>2.0</td>\n",
       "      <td>3.0</td>\n",
       "      <td>3.0</td>\n",
       "      <td>4.0</td>\n",
       "      <td>3.0</td>\n",
       "      <td>5.0</td>\n",
       "      <td>5.0</td>\n",
       "      <td>4.0</td>\n",
       "      <td>5.0</td>\n",
       "      <td>4.0</td>\n",
       "      <td>4.222222</td>\n",
       "      <td>3.111111</td>\n",
       "      <td>4</td>\n",
       "    </tr>\n",
       "    <tr>\n",
       "      <th>3</th>\n",
       "      <td>1083033</td>\n",
       "      <td>111</td>\n",
       "      <td>3.596542</td>\n",
       "      <td>3.0</td>\n",
       "      <td>3.0</td>\n",
       "      <td>2.0</td>\n",
       "      <td>3.0</td>\n",
       "      <td>3.0</td>\n",
       "      <td>3.0</td>\n",
       "      <td>4.0</td>\n",
       "      <td>4.0</td>\n",
       "      <td>3.0</td>\n",
       "      <td>4.0</td>\n",
       "      <td>3.347826</td>\n",
       "      <td>3.111111</td>\n",
       "      <td>2</td>\n",
       "    </tr>\n",
       "    <tr>\n",
       "      <th>4</th>\n",
       "      <td>1990451</td>\n",
       "      <td>111</td>\n",
       "      <td>3.596542</td>\n",
       "      <td>4.0</td>\n",
       "      <td>2.0</td>\n",
       "      <td>3.0</td>\n",
       "      <td>3.0</td>\n",
       "      <td>3.0</td>\n",
       "      <td>5.0</td>\n",
       "      <td>5.0</td>\n",
       "      <td>5.0</td>\n",
       "      <td>4.0</td>\n",
       "      <td>4.6</td>\n",
       "      <td>4.600000</td>\n",
       "      <td>3.111111</td>\n",
       "      <td>4</td>\n",
       "    </tr>\n",
       "  </tbody>\n",
       "</table>\n",
       "</div>"
      ],
      "text/plain": [
       "      user  movie  global_avg  sim_user_1  sim_user_2  sim_user_3  sim_user_4  \\\n",
       "0   356035    111    3.596542         2.0         4.0         4.0         3.0   \n",
       "1   422234    111    3.596542         3.0         4.0         4.0         3.0   \n",
       "2   981995    111    3.596542         2.0         3.0         3.0         4.0   \n",
       "3  1083033    111    3.596542         3.0         3.0         2.0         3.0   \n",
       "4  1990451    111    3.596542         4.0         2.0         3.0         3.0   \n",
       "\n",
       "   sim_user_5  sim_mov_1  sim_mov_2  sim_mov_3  sim_mov_4  sim_mov_5  \\\n",
       "0         2.0        5.0        2.0        2.0        2.0        3.0   \n",
       "1         4.0        2.0        2.0        2.0        2.0        2.0   \n",
       "2         3.0        5.0        5.0        4.0        5.0        4.0   \n",
       "3         3.0        3.0        4.0        4.0        3.0        4.0   \n",
       "4         3.0        5.0        5.0        5.0        4.0        4.6   \n",
       "\n",
       "   user_averge_rating  movie_average_rating  rating  \n",
       "0            2.750000              3.111111       3  \n",
       "1            2.000000              3.111111       2  \n",
       "2            4.222222              3.111111       4  \n",
       "3            3.347826              3.111111       2  \n",
       "4            4.600000              3.111111       4  "
      ]
     },
     "execution_count": 92,
     "metadata": {},
     "output_type": "execute_result"
    }
   ],
   "source": [
    "reg_test_data = pd.read_csv('./data/reg_test.csv',names = ['user','movie',\n",
    "                                                             'global_avg',\n",
    "                                                             'sim_user_1',\n",
    "                                                             'sim_user_2',\n",
    "                                                             'sim_user_3',\n",
    "                                                             'sim_user_4',\n",
    "                                                             'sim_user_5',\n",
    "                                                             'sim_mov_1',\n",
    "                                                             'sim_mov_2',\n",
    "                                                             'sim_mov_3',\n",
    "                                                             'sim_mov_4',\n",
    "                                                             'sim_mov_5',\n",
    "                                                             'user_averge_rating',\n",
    "                                                             'movie_average_rating',\n",
    "                                                             'rating'])\n",
    "reg_test_data.head()"
   ]
  },
  {
   "cell_type": "markdown",
   "metadata": {},
   "source": [
    "### Surprise Library"
   ]
  },
  {
   "cell_type": "markdown",
   "metadata": {},
   "source": [
    "We will make use of algorithms in the Suprise family  "
   ]
  },
  {
   "cell_type": "code",
   "execution_count": 36,
   "metadata": {},
   "outputs": [],
   "source": [
    "reader = Reader(rating_scale=(1,5))"
   ]
  },
  {
   "cell_type": "code",
   "execution_count": 93,
   "metadata": {},
   "outputs": [
    {
     "name": "stdout",
     "output_type": "stream",
     "text": [
      "<class 'pandas.core.frame.DataFrame'>\n",
      "RangeIndex: 1388 entries, 0 to 1387\n",
      "Data columns (total 16 columns):\n",
      "user                    1388 non-null int64\n",
      "movie                   1388 non-null int64\n",
      "global_avg              1388 non-null float64\n",
      "sim_user_1              1388 non-null float64\n",
      "sim_user_2              1388 non-null float64\n",
      "sim_user_3              1388 non-null float64\n",
      "sim_user_4              1388 non-null float64\n",
      "sim_user_5              1388 non-null float64\n",
      "sim_mov_1               1388 non-null float64\n",
      "sim_mov_2               1388 non-null float64\n",
      "sim_mov_3               1388 non-null float64\n",
      "sim_mov_4               1388 non-null float64\n",
      "sim_mov_5               1388 non-null float64\n",
      "user_averge_rating      1388 non-null float64\n",
      "movie_average_rating    1388 non-null float64\n",
      "rating                  1388 non-null int64\n",
      "dtypes: float64(13), int64(3)\n",
      "memory usage: 173.6 KB\n"
     ]
    }
   ],
   "source": [
    "reg_train_data.info()"
   ]
  },
  {
   "cell_type": "markdown",
   "metadata": {},
   "source": [
    "#### Tranforming train data for Surprise Models"
   ]
  },
  {
   "cell_type": "code",
   "execution_count": 94,
   "metadata": {},
   "outputs": [],
   "source": [
    "train_data = Dataset.load_from_df(reg_train_data[['user','movie','rating']],reader)\n",
    "train_set_surprise = train_data.build_full_trainset()"
   ]
  },
  {
   "cell_type": "markdown",
   "metadata": {},
   "source": [
    "#### Transforming test data for Surprise models"
   ]
  },
  {
   "cell_type": "code",
   "execution_count": 96,
   "metadata": {},
   "outputs": [
    {
     "data": {
      "text/plain": [
       "[(356035, 111, 3), (422234, 111, 2), (981995, 111, 4)]"
      ]
     },
     "execution_count": 96,
     "metadata": {},
     "output_type": "execute_result"
    }
   ],
   "source": [
    "test_set_surprise = list(zip(reg_test_data.user.values, reg_test_data.movie.values, reg_test_data.rating.values))\n",
    "test_set_surprise[:3]"
   ]
  },
  {
   "cell_type": "code",
   "execution_count": 97,
   "metadata": {},
   "outputs": [
    {
     "name": "stdout",
     "output_type": "stream",
     "text": [
      "Estimating biases using als...\n",
      "Estimating biases using als...\n",
      "Estimating biases using als...\n",
      "Estimating biases using als...\n",
      "Computing the msd similarity matrix...\n",
      "Done computing similarity matrix.\n",
      "Estimating biases using als...\n",
      "Computing the msd similarity matrix...\n",
      "Done computing similarity matrix.\n",
      "Estimating biases using als...\n",
      "Computing the msd similarity matrix...\n",
      "Done computing similarity matrix.\n",
      "Computing the msd similarity matrix...\n",
      "Done computing similarity matrix.\n",
      "Computing the msd similarity matrix...\n",
      "Done computing similarity matrix.\n",
      "Computing the msd similarity matrix...\n",
      "Done computing similarity matrix.\n",
      "Computing the msd similarity matrix...\n",
      "Done computing similarity matrix.\n",
      "Computing the msd similarity matrix...\n",
      "Done computing similarity matrix.\n",
      "Computing the msd similarity matrix...\n",
      "Done computing similarity matrix.\n"
     ]
    }
   ],
   "source": [
    "benchmark = []\n",
    "for algorithm in [SVD(),\n",
    "                  CoClustering(),\n",
    "                  BaselineOnly(),\n",
    "                  KNNBaseline(),\n",
    "                  KNNBasic(),\n",
    "                  KNNWithMeans(),\n",
    "                  NormalPredictor()\n",
    "#                   NMF()\n",
    "                 ]:\n",
    "    result = cross_validate(algorithm,train_data,measures=['RMSE'],cv=3,verbose=False)\n",
    "    results_df = pd.DataFrame.from_dict(result).mean(axis=0)\n",
    "    results_df = results_df.append(pd.Series([str(algorithm).split(' ')[0].split('.')[-1]],index=['Algorithm']))\n",
    "    benchmark.append(results_df)"
   ]
  },
  {
   "cell_type": "code",
   "execution_count": 98,
   "metadata": {},
   "outputs": [
    {
     "data": {
      "text/html": [
       "<div>\n",
       "<style scoped>\n",
       "    .dataframe tbody tr th:only-of-type {\n",
       "        vertical-align: middle;\n",
       "    }\n",
       "\n",
       "    .dataframe tbody tr th {\n",
       "        vertical-align: top;\n",
       "    }\n",
       "\n",
       "    .dataframe thead th {\n",
       "        text-align: right;\n",
       "    }\n",
       "</style>\n",
       "<table border=\"1\" class=\"dataframe\">\n",
       "  <thead>\n",
       "    <tr style=\"text-align: right;\">\n",
       "      <th></th>\n",
       "      <th>test_rmse</th>\n",
       "      <th>fit_time</th>\n",
       "      <th>test_time</th>\n",
       "    </tr>\n",
       "    <tr>\n",
       "      <th>Algorithm</th>\n",
       "      <th></th>\n",
       "      <th></th>\n",
       "      <th></th>\n",
       "    </tr>\n",
       "  </thead>\n",
       "  <tbody>\n",
       "    <tr>\n",
       "      <th>SVD</th>\n",
       "      <td>0.998900</td>\n",
       "      <td>0.067817</td>\n",
       "      <td>0.004322</td>\n",
       "    </tr>\n",
       "    <tr>\n",
       "      <th>BaselineOnly</th>\n",
       "      <td>1.016523</td>\n",
       "      <td>0.005984</td>\n",
       "      <td>0.004321</td>\n",
       "    </tr>\n",
       "    <tr>\n",
       "      <th>KNNBaseline</th>\n",
       "      <td>1.082104</td>\n",
       "      <td>0.015626</td>\n",
       "      <td>0.024267</td>\n",
       "    </tr>\n",
       "    <tr>\n",
       "      <th>KNNBasic</th>\n",
       "      <td>1.113009</td>\n",
       "      <td>0.007979</td>\n",
       "      <td>0.014960</td>\n",
       "    </tr>\n",
       "    <tr>\n",
       "      <th>CoClustering</th>\n",
       "      <td>1.141728</td>\n",
       "      <td>0.076462</td>\n",
       "      <td>0.003991</td>\n",
       "    </tr>\n",
       "    <tr>\n",
       "      <th>KNNWithMeans</th>\n",
       "      <td>1.149201</td>\n",
       "      <td>0.013962</td>\n",
       "      <td>0.012966</td>\n",
       "    </tr>\n",
       "    <tr>\n",
       "      <th>NormalPredictor</th>\n",
       "      <td>1.472623</td>\n",
       "      <td>0.001661</td>\n",
       "      <td>0.004322</td>\n",
       "    </tr>\n",
       "  </tbody>\n",
       "</table>\n",
       "</div>"
      ],
      "text/plain": [
       "                 test_rmse  fit_time  test_time\n",
       "Algorithm                                      \n",
       "SVD               0.998900  0.067817   0.004322\n",
       "BaselineOnly      1.016523  0.005984   0.004321\n",
       "KNNBaseline       1.082104  0.015626   0.024267\n",
       "KNNBasic          1.113009  0.007979   0.014960\n",
       "CoClustering      1.141728  0.076462   0.003991\n",
       "KNNWithMeans      1.149201  0.013962   0.012966\n",
       "NormalPredictor   1.472623  0.001661   0.004322"
      ]
     },
     "execution_count": 98,
     "metadata": {},
     "output_type": "execute_result"
    }
   ],
   "source": [
    "surprise_results = pd.DataFrame(benchmark).set_index('Algorithm').sort_values('test_rmse')\n",
    "surprise_results"
   ]
  },
  {
   "cell_type": "markdown",
   "metadata": {},
   "source": [
    "SVD algorithm has the least test_rmse"
   ]
  },
  {
   "cell_type": "markdown",
   "metadata": {},
   "source": [
    "#### Get the predictions for SVD model"
   ]
  },
  {
   "cell_type": "code",
   "execution_count": 99,
   "metadata": {},
   "outputs": [
    {
     "name": "stdout",
     "output_type": "stream",
     "text": [
      "Training the model...\n",
      "Done. time taken : 0:00:00.107768 \n",
      "\n"
     ]
    }
   ],
   "source": [
    "st = datetime.now()\n",
    "print('Training the model...')\n",
    "svd_model = SVD()\n",
    "svd_model.fit(train_set_surprise)\n",
    "print('Done. time taken : {} \\n'.format(datetime.now()-st))"
   ]
  },
  {
   "cell_type": "code",
   "execution_count": 112,
   "metadata": {},
   "outputs": [],
   "source": [
    "svd_train_preds_raw = svd_model.test(train_set_surprise.build_testset())\n",
    "\n",
    "svd_train_preds = np.array([pred.est for pred in svd_train_preds_raw])"
   ]
  },
  {
   "cell_type": "code",
   "execution_count": 113,
   "metadata": {},
   "outputs": [],
   "source": [
    "svd_test_preds_raw = svd_model.test(test_set_surprise)\n",
    "\n",
    "svd_test_preds = np.array([pred.est for pred in svd_test_preds_raw])"
   ]
  },
  {
   "cell_type": "markdown",
   "metadata": {},
   "source": [
    "### Using training/test predictions as a feature for next Model"
   ]
  },
  {
   "cell_type": "code",
   "execution_count": 109,
   "metadata": {},
   "outputs": [
    {
     "data": {
      "text/html": [
       "<div>\n",
       "<style scoped>\n",
       "    .dataframe tbody tr th:only-of-type {\n",
       "        vertical-align: middle;\n",
       "    }\n",
       "\n",
       "    .dataframe tbody tr th {\n",
       "        vertical-align: top;\n",
       "    }\n",
       "\n",
       "    .dataframe thead th {\n",
       "        text-align: right;\n",
       "    }\n",
       "</style>\n",
       "<table border=\"1\" class=\"dataframe\">\n",
       "  <thead>\n",
       "    <tr style=\"text-align: right;\">\n",
       "      <th></th>\n",
       "      <th>user</th>\n",
       "      <th>movie</th>\n",
       "      <th>global_avg</th>\n",
       "      <th>sim_user_1</th>\n",
       "      <th>sim_user_2</th>\n",
       "      <th>sim_user_3</th>\n",
       "      <th>sim_user_4</th>\n",
       "      <th>sim_user_5</th>\n",
       "      <th>sim_mov_1</th>\n",
       "      <th>sim_mov_2</th>\n",
       "      <th>sim_mov_3</th>\n",
       "      <th>sim_mov_4</th>\n",
       "      <th>sim_mov_5</th>\n",
       "      <th>user_averge_rating</th>\n",
       "      <th>movie_average_rating</th>\n",
       "      <th>rating</th>\n",
       "      <th>preds</th>\n",
       "    </tr>\n",
       "  </thead>\n",
       "  <tbody>\n",
       "    <tr>\n",
       "      <th>0</th>\n",
       "      <td>356035</td>\n",
       "      <td>111</td>\n",
       "      <td>3.596542</td>\n",
       "      <td>2.0</td>\n",
       "      <td>4.0</td>\n",
       "      <td>4.0</td>\n",
       "      <td>3.0</td>\n",
       "      <td>2.0</td>\n",
       "      <td>5.0</td>\n",
       "      <td>2.0</td>\n",
       "      <td>2.0</td>\n",
       "      <td>2.0</td>\n",
       "      <td>3.0</td>\n",
       "      <td>2.750000</td>\n",
       "      <td>3.111111</td>\n",
       "      <td>3</td>\n",
       "      <td>2.941570</td>\n",
       "    </tr>\n",
       "    <tr>\n",
       "      <th>1</th>\n",
       "      <td>422234</td>\n",
       "      <td>111</td>\n",
       "      <td>3.596542</td>\n",
       "      <td>3.0</td>\n",
       "      <td>4.0</td>\n",
       "      <td>4.0</td>\n",
       "      <td>3.0</td>\n",
       "      <td>4.0</td>\n",
       "      <td>2.0</td>\n",
       "      <td>2.0</td>\n",
       "      <td>2.0</td>\n",
       "      <td>2.0</td>\n",
       "      <td>2.0</td>\n",
       "      <td>2.000000</td>\n",
       "      <td>3.111111</td>\n",
       "      <td>2</td>\n",
       "      <td>3.116763</td>\n",
       "    </tr>\n",
       "    <tr>\n",
       "      <th>2</th>\n",
       "      <td>981995</td>\n",
       "      <td>111</td>\n",
       "      <td>3.596542</td>\n",
       "      <td>2.0</td>\n",
       "      <td>3.0</td>\n",
       "      <td>3.0</td>\n",
       "      <td>4.0</td>\n",
       "      <td>3.0</td>\n",
       "      <td>5.0</td>\n",
       "      <td>5.0</td>\n",
       "      <td>4.0</td>\n",
       "      <td>5.0</td>\n",
       "      <td>4.0</td>\n",
       "      <td>4.222222</td>\n",
       "      <td>3.111111</td>\n",
       "      <td>4</td>\n",
       "      <td>2.518408</td>\n",
       "    </tr>\n",
       "    <tr>\n",
       "      <th>3</th>\n",
       "      <td>1083033</td>\n",
       "      <td>111</td>\n",
       "      <td>3.596542</td>\n",
       "      <td>3.0</td>\n",
       "      <td>3.0</td>\n",
       "      <td>2.0</td>\n",
       "      <td>3.0</td>\n",
       "      <td>3.0</td>\n",
       "      <td>3.0</td>\n",
       "      <td>4.0</td>\n",
       "      <td>4.0</td>\n",
       "      <td>3.0</td>\n",
       "      <td>4.0</td>\n",
       "      <td>3.347826</td>\n",
       "      <td>3.111111</td>\n",
       "      <td>2</td>\n",
       "      <td>3.065859</td>\n",
       "    </tr>\n",
       "    <tr>\n",
       "      <th>4</th>\n",
       "      <td>1990451</td>\n",
       "      <td>111</td>\n",
       "      <td>3.596542</td>\n",
       "      <td>4.0</td>\n",
       "      <td>2.0</td>\n",
       "      <td>3.0</td>\n",
       "      <td>3.0</td>\n",
       "      <td>3.0</td>\n",
       "      <td>5.0</td>\n",
       "      <td>5.0</td>\n",
       "      <td>5.0</td>\n",
       "      <td>4.0</td>\n",
       "      <td>4.6</td>\n",
       "      <td>4.600000</td>\n",
       "      <td>3.111111</td>\n",
       "      <td>4</td>\n",
       "      <td>3.635044</td>\n",
       "    </tr>\n",
       "  </tbody>\n",
       "</table>\n",
       "</div>"
      ],
      "text/plain": [
       "      user  movie  global_avg  sim_user_1  sim_user_2  sim_user_3  sim_user_4  \\\n",
       "0   356035    111    3.596542         2.0         4.0         4.0         3.0   \n",
       "1   422234    111    3.596542         3.0         4.0         4.0         3.0   \n",
       "2   981995    111    3.596542         2.0         3.0         3.0         4.0   \n",
       "3  1083033    111    3.596542         3.0         3.0         2.0         3.0   \n",
       "4  1990451    111    3.596542         4.0         2.0         3.0         3.0   \n",
       "\n",
       "   sim_user_5  sim_mov_1  sim_mov_2  sim_mov_3  sim_mov_4  sim_mov_5  \\\n",
       "0         2.0        5.0        2.0        2.0        2.0        3.0   \n",
       "1         4.0        2.0        2.0        2.0        2.0        2.0   \n",
       "2         3.0        5.0        5.0        4.0        5.0        4.0   \n",
       "3         3.0        3.0        4.0        4.0        3.0        4.0   \n",
       "4         3.0        5.0        5.0        5.0        4.0        4.6   \n",
       "\n",
       "   user_averge_rating  movie_average_rating  rating     preds  \n",
       "0            2.750000              3.111111       3  2.941570  \n",
       "1            2.000000              3.111111       2  3.116763  \n",
       "2            4.222222              3.111111       4  2.518408  \n",
       "3            3.347826              3.111111       2  3.065859  \n",
       "4            4.600000              3.111111       4  3.635044  "
      ]
     },
     "execution_count": 109,
     "metadata": {},
     "output_type": "execute_result"
    }
   ],
   "source": [
    "reg_train_data['preds'] = svd_train_preds\n",
    "reg_train_data.head()"
   ]
  },
  {
   "cell_type": "code",
   "execution_count": 120,
   "metadata": {},
   "outputs": [
    {
     "data": {
      "text/html": [
       "<div>\n",
       "<style scoped>\n",
       "    .dataframe tbody tr th:only-of-type {\n",
       "        vertical-align: middle;\n",
       "    }\n",
       "\n",
       "    .dataframe tbody tr th {\n",
       "        vertical-align: top;\n",
       "    }\n",
       "\n",
       "    .dataframe thead th {\n",
       "        text-align: right;\n",
       "    }\n",
       "</style>\n",
       "<table border=\"1\" class=\"dataframe\">\n",
       "  <thead>\n",
       "    <tr style=\"text-align: right;\">\n",
       "      <th></th>\n",
       "      <th>user</th>\n",
       "      <th>movie</th>\n",
       "      <th>global_avg</th>\n",
       "      <th>sim_user_1</th>\n",
       "      <th>sim_user_2</th>\n",
       "      <th>sim_user_3</th>\n",
       "      <th>sim_user_4</th>\n",
       "      <th>sim_user_5</th>\n",
       "      <th>sim_mov_1</th>\n",
       "      <th>sim_mov_2</th>\n",
       "      <th>sim_mov_3</th>\n",
       "      <th>sim_mov_4</th>\n",
       "      <th>sim_mov_5</th>\n",
       "      <th>user_averge_rating</th>\n",
       "      <th>movie_average_rating</th>\n",
       "      <th>rating</th>\n",
       "      <th>preds</th>\n",
       "    </tr>\n",
       "  </thead>\n",
       "  <tbody>\n",
       "    <tr>\n",
       "      <th>0</th>\n",
       "      <td>356035</td>\n",
       "      <td>111</td>\n",
       "      <td>3.596542</td>\n",
       "      <td>2.0</td>\n",
       "      <td>4.0</td>\n",
       "      <td>4.0</td>\n",
       "      <td>3.0</td>\n",
       "      <td>2.0</td>\n",
       "      <td>5.0</td>\n",
       "      <td>2.0</td>\n",
       "      <td>2.0</td>\n",
       "      <td>2.0</td>\n",
       "      <td>3.0</td>\n",
       "      <td>2.750000</td>\n",
       "      <td>3.111111</td>\n",
       "      <td>3</td>\n",
       "      <td>2.941570</td>\n",
       "    </tr>\n",
       "    <tr>\n",
       "      <th>1</th>\n",
       "      <td>422234</td>\n",
       "      <td>111</td>\n",
       "      <td>3.596542</td>\n",
       "      <td>3.0</td>\n",
       "      <td>4.0</td>\n",
       "      <td>4.0</td>\n",
       "      <td>3.0</td>\n",
       "      <td>4.0</td>\n",
       "      <td>2.0</td>\n",
       "      <td>2.0</td>\n",
       "      <td>2.0</td>\n",
       "      <td>2.0</td>\n",
       "      <td>2.0</td>\n",
       "      <td>2.000000</td>\n",
       "      <td>3.111111</td>\n",
       "      <td>2</td>\n",
       "      <td>2.844820</td>\n",
       "    </tr>\n",
       "    <tr>\n",
       "      <th>2</th>\n",
       "      <td>981995</td>\n",
       "      <td>111</td>\n",
       "      <td>3.596542</td>\n",
       "      <td>2.0</td>\n",
       "      <td>3.0</td>\n",
       "      <td>3.0</td>\n",
       "      <td>4.0</td>\n",
       "      <td>3.0</td>\n",
       "      <td>5.0</td>\n",
       "      <td>5.0</td>\n",
       "      <td>4.0</td>\n",
       "      <td>5.0</td>\n",
       "      <td>4.0</td>\n",
       "      <td>4.222222</td>\n",
       "      <td>3.111111</td>\n",
       "      <td>4</td>\n",
       "      <td>3.741656</td>\n",
       "    </tr>\n",
       "    <tr>\n",
       "      <th>3</th>\n",
       "      <td>1083033</td>\n",
       "      <td>111</td>\n",
       "      <td>3.596542</td>\n",
       "      <td>3.0</td>\n",
       "      <td>3.0</td>\n",
       "      <td>2.0</td>\n",
       "      <td>3.0</td>\n",
       "      <td>3.0</td>\n",
       "      <td>3.0</td>\n",
       "      <td>4.0</td>\n",
       "      <td>4.0</td>\n",
       "      <td>3.0</td>\n",
       "      <td>4.0</td>\n",
       "      <td>3.347826</td>\n",
       "      <td>3.111111</td>\n",
       "      <td>2</td>\n",
       "      <td>2.854758</td>\n",
       "    </tr>\n",
       "    <tr>\n",
       "      <th>4</th>\n",
       "      <td>1990451</td>\n",
       "      <td>111</td>\n",
       "      <td>3.596542</td>\n",
       "      <td>4.0</td>\n",
       "      <td>2.0</td>\n",
       "      <td>3.0</td>\n",
       "      <td>3.0</td>\n",
       "      <td>3.0</td>\n",
       "      <td>5.0</td>\n",
       "      <td>5.0</td>\n",
       "      <td>5.0</td>\n",
       "      <td>4.0</td>\n",
       "      <td>4.6</td>\n",
       "      <td>4.600000</td>\n",
       "      <td>3.111111</td>\n",
       "      <td>4</td>\n",
       "      <td>3.853232</td>\n",
       "    </tr>\n",
       "  </tbody>\n",
       "</table>\n",
       "</div>"
      ],
      "text/plain": [
       "      user  movie  global_avg  sim_user_1  sim_user_2  sim_user_3  sim_user_4  \\\n",
       "0   356035    111    3.596542         2.0         4.0         4.0         3.0   \n",
       "1   422234    111    3.596542         3.0         4.0         4.0         3.0   \n",
       "2   981995    111    3.596542         2.0         3.0         3.0         4.0   \n",
       "3  1083033    111    3.596542         3.0         3.0         2.0         3.0   \n",
       "4  1990451    111    3.596542         4.0         2.0         3.0         3.0   \n",
       "\n",
       "   sim_user_5  sim_mov_1  sim_mov_2  sim_mov_3  sim_mov_4  sim_mov_5  \\\n",
       "0         2.0        5.0        2.0        2.0        2.0        3.0   \n",
       "1         4.0        2.0        2.0        2.0        2.0        2.0   \n",
       "2         3.0        5.0        5.0        4.0        5.0        4.0   \n",
       "3         3.0        3.0        4.0        4.0        3.0        4.0   \n",
       "4         3.0        5.0        5.0        5.0        4.0        4.6   \n",
       "\n",
       "   user_averge_rating  movie_average_rating  rating     preds  \n",
       "0            2.750000              3.111111       3  2.941570  \n",
       "1            2.000000              3.111111       2  2.844820  \n",
       "2            4.222222              3.111111       4  3.741656  \n",
       "3            3.347826              3.111111       2  2.854758  \n",
       "4            4.600000              3.111111       4  3.853232  "
      ]
     },
     "execution_count": 120,
     "metadata": {},
     "output_type": "execute_result"
    }
   ],
   "source": [
    "reg_test_data['preds'] = svd_test_preds\n",
    "reg_test_data.head()"
   ]
  },
  {
   "cell_type": "markdown",
   "metadata": {},
   "source": [
    "#### XGBoost with 13 features + Predictions of SVD Model"
   ]
  },
  {
   "cell_type": "code",
   "execution_count": 122,
   "metadata": {},
   "outputs": [
    {
     "name": "stdout",
     "output_type": "stream",
     "text": [
      "[18:38:48] WARNING: C:/Jenkins/workspace/xgboost-win64_release_0.90/src/objective/regression_obj.cu:152: reg:linear is now deprecated in favor of reg:squarederror.\n"
     ]
    }
   ],
   "source": [
    "X_train = reg_train_data.drop(['user', 'movie', 'rating'],axis = 1)\n",
    "y_train = reg_train_data.rating\n",
    "\n",
    "X_test = reg_test_data.drop(['user', 'movie', 'rating'],axis = 1)\n",
    "y_test = reg_test_data.rating\n",
    "\n",
    "xgbreg = xgb.XGBRegressor(n_jobs=10,random_state=2,n_estimators=100)\n",
    "xgbreg.fit(X_train,y_train,eval_metric='rmse')\n",
    "y_pred = xgbreg.predict(X_test)"
   ]
  },
  {
   "cell_type": "code",
   "execution_count": 130,
   "metadata": {},
   "outputs": [],
   "source": [
    "mse = mean_squared_error(y_test,y_pred)"
   ]
  },
  {
   "cell_type": "code",
   "execution_count": 131,
   "metadata": {},
   "outputs": [
    {
     "name": "stdout",
     "output_type": "stream",
     "text": [
      "Root Mean Square Error : 0.5661173289291949\n"
     ]
    }
   ],
   "source": [
    "rmse = np.sqrt(mse)\n",
    "print('Root Mean Square Error : {}'.format(rmse))"
   ]
  },
  {
   "cell_type": "markdown",
   "metadata": {},
   "source": [
    "So we have achieved a Root Mean Square Error of 0.5661173289291949"
   ]
  },
  {
   "cell_type": "code",
   "execution_count": null,
   "metadata": {},
   "outputs": [],
   "source": []
  }
 ],
 "metadata": {
  "kernelspec": {
   "display_name": "Python 3",
   "language": "python",
   "name": "python3"
  },
  "language_info": {
   "codemirror_mode": {
    "name": "ipython",
    "version": 3
   },
   "file_extension": ".py",
   "mimetype": "text/x-python",
   "name": "python",
   "nbconvert_exporter": "python",
   "pygments_lexer": "ipython3",
   "version": "3.7.3"
  }
 },
 "nbformat": 4,
 "nbformat_minor": 4
}
