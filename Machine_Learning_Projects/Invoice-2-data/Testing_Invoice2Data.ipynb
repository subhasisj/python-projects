{
 "cells": [
  {
   "cell_type": "markdown",
   "metadata": {},
   "source": [
    "### PDF data extraction using Invoice2data"
   ]
  },
  {
   "cell_type": "code",
   "execution_count": 2,
   "metadata": {},
   "outputs": [],
   "source": [
    "import re,subprocess\n",
    "import os\n",
    "from fuzzywuzzy import fuzz,process\n",
    "import pandas as pd"
   ]
  },
  {
   "cell_type": "code",
   "execution_count": 3,
   "metadata": {},
   "outputs": [
    {
     "data": {
      "text/plain": [
       "'C:\\\\Users\\\\i323570\\\\OneDrive - SAP SE\\\\Documents\\\\Skills\\\\Repositories\\\\python-projects\\\\Machine Learning Projects\\\\Invoice-2-data'"
      ]
     },
     "execution_count": 3,
     "metadata": {},
     "output_type": "execute_result"
    }
   ],
   "source": [
    "os.getcwd()"
   ]
  },
  {
   "cell_type": "code",
   "execution_count": 4,
   "metadata": {},
   "outputs": [],
   "source": [
    "path = os.path.join(os.getcwd(),'data','FlipkartInvoice.pdf')"
   ]
  },
  {
   "cell_type": "code",
   "execution_count": 5,
   "metadata": {},
   "outputs": [],
   "source": [
    "command = ['pdftotext','-layout',path,'-']\n",
    "output = subprocess.check_output(command).decode()"
   ]
  },
  {
   "cell_type": "code",
   "execution_count": 6,
   "metadata": {},
   "outputs": [
    {
     "data": {
      "text/plain": [
       "\"                                                                              Retail Invoices/Bill\\r\\n                                                                                                                                       Invoice No : # BLR_WFLD20151000982590\\r\\nSold By : WS Retail Services Pvt. Ltd.,\\r\\nWarehouse Address: NO. 42/1 & 43, KACHERAKANAHALLI VILLAGE,, JADIGENAHALLI HOBLI, HOSKOTE TALUK, Bangalore, Karnataka, India - 560067\\r\\n\\r\\nOrder ID: OD304175096047380001                          Billing Address                                          Shipping Address\\r\\n                                                        Anushrut Singh                                           Anushrut Singh\\r\\nOrder Date: 15-10-2015\\r\\n                                                        3/64, Vishwas Khand,Gomti Nagar,,                        3/64, Vishwas Khand,Gomti Nagar,,                   *Keep this invoice and\\r\\nInvoice Date: 20-10-2015                                near Fun republic mall and nehru                         near Fun republic mall and nehru                      manufacturer box for\\r\\n                                                        enclave.                                                 enclave.                                                warranty purposes.\\r\\nVAT/TIN: 29670869006\\r\\n                                                        Lucknow 226010 Uttar Pradesh                             Lucknow 226010 Uttar Pradesh\\r\\nService tax #: AAACW8725FSD001                          Phone: 8756390642                                        Phone: 8756390642\\r\\n\\r\\nProduct                              Title                                                                               Qty   Price           Tax(%)           Tax              Total\\r\\n\\r\\nMemory cards                         SanDisk Ultra 16 GB MicroSDHC Class                                                   1     278.61        14.50%              40.39            319.00\\r\\nFSN:                                 10 48 MB/s Memory Card                                                                                       CST\\r\\nACCEA5E3GPBQJ9P9                     Price is inclusive of Promotional Discount of Rs -40.00,\\r\\nWID: VM72516\\r\\n\\r\\n                                                                                                         Total            1    278.61                           40.39           319.00\\r\\n\\r\\n\\r\\n                                                                                                                                Grand Total                                  319.00\\r\\n                                                                                *This is a computer generated invoice.                                   WS Retail Services Pvt. Ltd :\\r\\n\\r\\n\\r\\n\\r\\n\\r\\n                                                                                                                                                                    (Authorized Signatory)\\r\\n\\r\\n\\r\\n\\r\\n\\r\\n                                                                                                                  Ordered Through :\\r\\n                                                                                                Flipkart.com Customer Care : 1800 208 9898 || www.flipkart.com/support\\r\\n\\r\\n    Returns Policy: At Flipkart we try to deliver perfectly each and every time. But in the off-chance that you need to return the item, please do so with the original Brand\\r\\n    box/price tag, original packing and invoice without which it will be really difficult for us to act on your request. Please help us in helping you. Terms and conditions apply.\\r\\n\\r\\n    The goods sold as part of this shipment are intended for end user consumption / retail sale and not for re-sale.\\r\\n    Regd. office: WS Retail Services Private Limited, Ozone Manay Tech Park, No 56/18, 'B' Block, 9th Floor, Garvebhavipalya, Hosur Road, Bangalore-560068, Karnataka, India, Phone No : 91\\r\\n    80 49083999. CIN : U72900KA2009PTC050123.\\r\\n\\r\\n        PL:             T:            Pack: BX                                                                                                       S: S132415345             page 1 of 1\\r\\n\\x0c\""
      ]
     },
     "execution_count": 6,
     "metadata": {},
     "output_type": "execute_result"
    }
   ],
   "source": [
    "output"
   ]
  },
  {
   "cell_type": "code",
   "execution_count": 7,
   "metadata": {},
   "outputs": [],
   "source": [
    "final_data = pd.DataFrame(columns=['invoice_no','invoice_date','shipping_address','total'])"
   ]
  },
  {
   "cell_type": "code",
   "execution_count": 8,
   "metadata": {},
   "outputs": [],
   "source": [
    "invoice_date = re.search(r'Invoice Date:\\s*(\\S+)',output).group(1)"
   ]
  },
  {
   "cell_type": "code",
   "execution_count": 9,
   "metadata": {},
   "outputs": [
    {
     "data": {
      "text/plain": [
       "'20-10-2015'"
      ]
     },
     "execution_count": 9,
     "metadata": {},
     "output_type": "execute_result"
    }
   ],
   "source": [
    "invoice_date"
   ]
  },
  {
   "cell_type": "code",
   "execution_count": 10,
   "metadata": {},
   "outputs": [
    {
     "data": {
      "text/plain": [
       "\"                                                                              Retail Invoices/Bill\\r\\n                                                                                                                                       Invoice No : # BLR_WFLD20151000982590\\r\\nSold By : WS Retail Services Pvt. Ltd.,\\r\\nWarehouse Address: NO. 42/1 & 43, KACHERAKANAHALLI VILLAGE,, JADIGENAHALLI HOBLI, HOSKOTE TALUK, Bangalore, Karnataka, India - 560067\\r\\n\\r\\nOrder ID: OD304175096047380001                          Billing Address                                          Shipping Address\\r\\n                                                        Anushrut Singh                                           Anushrut Singh\\r\\nOrder Date: 15-10-2015\\r\\n                                                        3/64, Vishwas Khand,Gomti Nagar,,                        3/64, Vishwas Khand,Gomti Nagar,,                   *Keep this invoice and\\r\\nInvoice Date: 20-10-2015                                near Fun republic mall and nehru                         near Fun republic mall and nehru                      manufacturer box for\\r\\n                                                        enclave.                                                 enclave.                                                warranty purposes.\\r\\nVAT/TIN: 29670869006\\r\\n                                                        Lucknow 226010 Uttar Pradesh                             Lucknow 226010 Uttar Pradesh\\r\\nService tax #: AAACW8725FSD001                          Phone: 8756390642                                        Phone: 8756390642\\r\\n\\r\\nProduct                              Title                                                                               Qty   Price           Tax(%)           Tax              Total\\r\\n\\r\\nMemory cards                         SanDisk Ultra 16 GB MicroSDHC Class                                                   1     278.61        14.50%              40.39            319.00\\r\\nFSN:                                 10 48 MB/s Memory Card                                                                                       CST\\r\\nACCEA5E3GPBQJ9P9                     Price is inclusive of Promotional Discount of Rs -40.00,\\r\\nWID: VM72516\\r\\n\\r\\n                                                                                                         Total            1    278.61                           40.39           319.00\\r\\n\\r\\n\\r\\n                                                                                                                                Grand Total                                  319.00\\r\\n                                                                                *This is a computer generated invoice.                                   WS Retail Services Pvt. Ltd :\\r\\n\\r\\n\\r\\n\\r\\n\\r\\n                                                                                                                                                                    (Authorized Signatory)\\r\\n\\r\\n\\r\\n\\r\\n\\r\\n                                                                                                                  Ordered Through :\\r\\n                                                                                                Flipkart.com Customer Care : 1800 208 9898 || www.flipkart.com/support\\r\\n\\r\\n    Returns Policy: At Flipkart we try to deliver perfectly each and every time. But in the off-chance that you need to return the item, please do so with the original Brand\\r\\n    box/price tag, original packing and invoice without which it will be really difficult for us to act on your request. Please help us in helping you. Terms and conditions apply.\\r\\n\\r\\n    The goods sold as part of this shipment are intended for end user consumption / retail sale and not for re-sale.\\r\\n    Regd. office: WS Retail Services Private Limited, Ozone Manay Tech Park, No 56/18, 'B' Block, 9th Floor, Garvebhavipalya, Hosur Road, Bangalore-560068, Karnataka, India, Phone No : 91\\r\\n    80 49083999. CIN : U72900KA2009PTC050123.\\r\\n\\r\\n        PL:             T:            Pack: BX                                                                                                       S: S132415345             page 1 of 1\\r\\n\\x0c\""
      ]
     },
     "execution_count": 10,
     "metadata": {},
     "output_type": "execute_result"
    }
   ],
   "source": [
    "output"
   ]
  },
  {
   "cell_type": "code",
   "execution_count": 11,
   "metadata": {},
   "outputs": [],
   "source": [
    "# shipping_address = re.search(r'(?s)(Billing Address\\s*.+?(?=Phone))',output).group()"
   ]
  },
  {
   "cell_type": "code",
   "execution_count": 28,
   "metadata": {},
   "outputs": [],
   "source": [
    "billing_address = re.search('(?<=Billing Address )(.*)(?=Shipping Address )',output)"
   ]
  },
  {
   "cell_type": "code",
   "execution_count": 29,
   "metadata": {},
   "outputs": [],
   "source": [
    "billing_address"
   ]
  },
  {
   "cell_type": "code",
   "execution_count": null,
   "metadata": {},
   "outputs": [],
   "source": []
  }
 ],
 "metadata": {
  "kernelspec": {
   "display_name": "Python 3",
   "language": "python",
   "name": "python3"
  },
  "language_info": {
   "codemirror_mode": {
    "name": "ipython",
    "version": 3
   },
   "file_extension": ".py",
   "mimetype": "text/x-python",
   "name": "python",
   "nbconvert_exporter": "python",
   "pygments_lexer": "ipython3",
   "version": "3.7.3"
  }
 },
 "nbformat": 4,
 "nbformat_minor": 4
}
