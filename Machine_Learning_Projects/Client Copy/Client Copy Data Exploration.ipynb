{
 "cells": [
  {
   "cell_type": "markdown",
   "metadata": {},
   "source": [
    "### Importing Libraries"
   ]
  },
  {
   "cell_type": "code",
   "execution_count": 1,
   "metadata": {
    "scrolled": true
   },
   "outputs": [
    {
     "data": {
      "text/html": [
       "        <script type=\"text/javascript\">\n",
       "        window.PlotlyConfig = {MathJaxConfig: 'local'};\n",
       "        if (window.MathJax) {MathJax.Hub.Config({SVG: {font: \"STIX-Web\"}});}\n",
       "        if (typeof require !== 'undefined') {\n",
       "        require.undef(\"plotly\");\n",
       "        requirejs.config({\n",
       "            paths: {\n",
       "                'plotly': ['https://cdn.plot.ly/plotly-latest.min']\n",
       "            }\n",
       "        });\n",
       "        require(['plotly'], function(Plotly) {\n",
       "            window._Plotly = Plotly;\n",
       "        });\n",
       "        }\n",
       "        </script>\n",
       "        "
      ]
     },
     "metadata": {},
     "output_type": "display_data"
    }
   ],
   "source": [
    "import pandas as pd\n",
    "import numpy as np\n",
    "from sklearn.preprocessing import StandardScaler,PolynomialFeatures\n",
    "import matplotlib.pyplot as plt\n",
    "import warnings\n",
    "import os\n",
    "import seaborn as sns\n",
    "import chart_studio.plotly as py\n",
    "import plotly.graph_objs as go\n",
    "import plotly.io as pio\n",
    "from plotly.offline import plot , iplot ,init_notebook_mode\n",
    "init_notebook_mode(connected=True)\n",
    "%matplotlib inline\n",
    "\n",
    "warnings.filterwarnings('ignore')\n"
   ]
  },
  {
   "cell_type": "markdown",
   "metadata": {},
   "source": [
    "### Read available datasets"
   ]
  },
  {
   "cell_type": "code",
   "execution_count": 2,
   "metadata": {},
   "outputs": [
    {
     "data": {
      "text/html": [
       "<div>\n",
       "<style scoped>\n",
       "    .dataframe tbody tr th:only-of-type {\n",
       "        vertical-align: middle;\n",
       "    }\n",
       "\n",
       "    .dataframe tbody tr th {\n",
       "        vertical-align: top;\n",
       "    }\n",
       "\n",
       "    .dataframe thead th {\n",
       "        text-align: right;\n",
       "    }\n",
       "</style>\n",
       "<table border=\"1\" class=\"dataframe\">\n",
       "  <thead>\n",
       "    <tr style=\"text-align: right;\">\n",
       "      <th></th>\n",
       "      <th>timestamp</th>\n",
       "      <th>copy_mode</th>\n",
       "      <th>profile</th>\n",
       "      <th>total_runtime</th>\n",
       "      <th>status</th>\n",
       "      <th>records_processed</th>\n",
       "      <th>total_data_processed</th>\n",
       "    </tr>\n",
       "  </thead>\n",
       "  <tbody>\n",
       "    <tr>\n",
       "      <th>0</th>\n",
       "      <td>20190819131549</td>\n",
       "      <td>LOCAL</td>\n",
       "      <td>SAP_UCSV</td>\n",
       "      <td>1290</td>\n",
       "      <td>FINISHED</td>\n",
       "      <td>30619937</td>\n",
       "      <td>2721723523</td>\n",
       "    </tr>\n",
       "    <tr>\n",
       "      <th>1</th>\n",
       "      <td>20190812065310</td>\n",
       "      <td>LOCAL</td>\n",
       "      <td>SAP_UCSV</td>\n",
       "      <td>1192</td>\n",
       "      <td>FINISHED</td>\n",
       "      <td>48666506</td>\n",
       "      <td>3902691720</td>\n",
       "    </tr>\n",
       "    <tr>\n",
       "      <th>2</th>\n",
       "      <td>20190902092042</td>\n",
       "      <td>LOCAL</td>\n",
       "      <td>SAP_UCSV</td>\n",
       "      <td>343</td>\n",
       "      <td>CANCELLED</td>\n",
       "      <td>32653243</td>\n",
       "      <td>2246436756</td>\n",
       "    </tr>\n",
       "    <tr>\n",
       "      <th>3</th>\n",
       "      <td>20190907063037</td>\n",
       "      <td>REMOTE</td>\n",
       "      <td>SAP_ALL</td>\n",
       "      <td>1800</td>\n",
       "      <td>FINISHED</td>\n",
       "      <td>60944409</td>\n",
       "      <td>5673935415</td>\n",
       "    </tr>\n",
       "    <tr>\n",
       "      <th>4</th>\n",
       "      <td>20190902064418</td>\n",
       "      <td>LOCAL</td>\n",
       "      <td>SAP_UCSV</td>\n",
       "      <td>249</td>\n",
       "      <td>CANCELLED</td>\n",
       "      <td>118175632</td>\n",
       "      <td>8857599641</td>\n",
       "    </tr>\n",
       "  </tbody>\n",
       "</table>\n",
       "</div>"
      ],
      "text/plain": [
       "        timestamp copy_mode   profile  total_runtime           status  \\\n",
       "0  20190819131549    LOCAL   SAP_UCSV           1290  FINISHED          \n",
       "1  20190812065310    LOCAL   SAP_UCSV           1192  FINISHED          \n",
       "2  20190902092042    LOCAL   SAP_UCSV            343  CANCELLED         \n",
       "3  20190907063037    REMOTE  SAP_ALL            1800  FINISHED          \n",
       "4  20190902064418    LOCAL   SAP_UCSV            249  CANCELLED         \n",
       "\n",
       "   records_processed  total_data_processed  \n",
       "0           30619937            2721723523  \n",
       "1           48666506            3902691720  \n",
       "2           32653243            2246436756  \n",
       "3           60944409            5673935415  \n",
       "4          118175632            8857599641  "
      ]
     },
     "execution_count": 2,
     "metadata": {},
     "output_type": "execute_result"
    }
   ],
   "source": [
    "pd.set_option('display.float_format', lambda x: '%.f' % x)\n",
    "data = pd.read_excel(r'dataset\\flow_data.xlsx')\n",
    "data.head()"
   ]
  },
  {
   "cell_type": "code",
   "execution_count": 3,
   "metadata": {},
   "outputs": [
    {
     "data": {
      "text/plain": [
       "(362, 7)"
      ]
     },
     "execution_count": 3,
     "metadata": {},
     "output_type": "execute_result"
    }
   ],
   "source": [
    "data.shape"
   ]
  },
  {
   "cell_type": "code",
   "execution_count": 4,
   "metadata": {
    "scrolled": true
   },
   "outputs": [
    {
     "data": {
      "text/html": [
       "<div>\n",
       "<style scoped>\n",
       "    .dataframe tbody tr th:only-of-type {\n",
       "        vertical-align: middle;\n",
       "    }\n",
       "\n",
       "    .dataframe tbody tr th {\n",
       "        vertical-align: top;\n",
       "    }\n",
       "\n",
       "    .dataframe thead th {\n",
       "        text-align: right;\n",
       "    }\n",
       "</style>\n",
       "<table border=\"1\" class=\"dataframe\">\n",
       "  <thead>\n",
       "    <tr style=\"text-align: right;\">\n",
       "      <th></th>\n",
       "      <th>timestamp</th>\n",
       "      <th>setting_name</th>\n",
       "      <th>setting_value</th>\n",
       "    </tr>\n",
       "  </thead>\n",
       "  <tbody>\n",
       "    <tr>\n",
       "      <th>0</th>\n",
       "      <td>20191119080640</td>\n",
       "      <td>IGNORE_EXIT_ERRORS</td>\n",
       "      <td>X</td>\n",
       "    </tr>\n",
       "    <tr>\n",
       "      <th>1</th>\n",
       "      <td>20191119080640</td>\n",
       "      <td>IGNORE_TABLE_ERRORS</td>\n",
       "      <td>NaN</td>\n",
       "    </tr>\n",
       "    <tr>\n",
       "      <th>2</th>\n",
       "      <td>20191119080640</td>\n",
       "      <td>LOCK_SOURCE_CLIENT</td>\n",
       "      <td>NaN</td>\n",
       "    </tr>\n",
       "    <tr>\n",
       "      <th>3</th>\n",
       "      <td>20191119080640</td>\n",
       "      <td>PARALLEL_NUMBER</td>\n",
       "      <td>30</td>\n",
       "    </tr>\n",
       "    <tr>\n",
       "      <th>4</th>\n",
       "      <td>20191119080640</td>\n",
       "      <td>USE_EXCLUSIVE_LOCKS</td>\n",
       "      <td>X</td>\n",
       "    </tr>\n",
       "  </tbody>\n",
       "</table>\n",
       "</div>"
      ],
      "text/plain": [
       "        timestamp                    setting_name setting_value\n",
       "0  20191119080640  IGNORE_EXIT_ERRORS                         X\n",
       "1  20191119080640  IGNORE_TABLE_ERRORS                      NaN\n",
       "2  20191119080640  LOCK_SOURCE_CLIENT                       NaN\n",
       "3  20191119080640  PARALLEL_NUMBER                           30\n",
       "4  20191119080640  USE_EXCLUSIVE_LOCKS                        X"
      ]
     },
     "execution_count": 4,
     "metadata": {},
     "output_type": "execute_result"
    }
   ],
   "source": [
    "# pd.set_option('display.precision',9)\n",
    "settings_data = pd.read_excel(r'dataset\\flow_settings.xlsx')\n",
    "settings_data.head()"
   ]
  },
  {
   "cell_type": "markdown",
   "metadata": {},
   "source": [
    "#### Prepare and Join both datasets"
   ]
  },
  {
   "cell_type": "code",
   "execution_count": 5,
   "metadata": {},
   "outputs": [],
   "source": [
    "settings_cleaned = settings_data.replace('X','SET')"
   ]
  },
  {
   "cell_type": "code",
   "execution_count": 6,
   "metadata": {},
   "outputs": [
    {
     "data": {
      "text/html": [
       "<div>\n",
       "<style scoped>\n",
       "    .dataframe tbody tr th:only-of-type {\n",
       "        vertical-align: middle;\n",
       "    }\n",
       "\n",
       "    .dataframe tbody tr th {\n",
       "        vertical-align: top;\n",
       "    }\n",
       "\n",
       "    .dataframe thead th {\n",
       "        text-align: right;\n",
       "    }\n",
       "</style>\n",
       "<table border=\"1\" class=\"dataframe\">\n",
       "  <thead>\n",
       "    <tr style=\"text-align: right;\">\n",
       "      <th></th>\n",
       "      <th>timestamp</th>\n",
       "      <th>IGNORE_EXIT_ERRORS</th>\n",
       "      <th>IGNORE_TABLE_ERRORS</th>\n",
       "      <th>LOCK_SOURCE_CLIENT</th>\n",
       "      <th>PARALLEL_NUMBER</th>\n",
       "      <th>USE_EXCLUSIVE_LOCKS</th>\n",
       "      <th>USE_TABLE_SEGMENTER</th>\n",
       "    </tr>\n",
       "  </thead>\n",
       "  <tbody>\n",
       "    <tr>\n",
       "      <th>190</th>\n",
       "      <td>20190605051543</td>\n",
       "      <td>NaN</td>\n",
       "      <td>NaN</td>\n",
       "      <td>NaN</td>\n",
       "      <td>7</td>\n",
       "      <td>NaN</td>\n",
       "      <td>NaN</td>\n",
       "    </tr>\n",
       "    <tr>\n",
       "      <th>228</th>\n",
       "      <td>20190619033036</td>\n",
       "      <td>SET</td>\n",
       "      <td>SET</td>\n",
       "      <td>NaN</td>\n",
       "      <td>10</td>\n",
       "      <td>NaN</td>\n",
       "      <td>NaN</td>\n",
       "    </tr>\n",
       "    <tr>\n",
       "      <th>302</th>\n",
       "      <td>20190801100732</td>\n",
       "      <td>SET</td>\n",
       "      <td>SET</td>\n",
       "      <td>SET</td>\n",
       "      <td>10</td>\n",
       "      <td>NaN</td>\n",
       "      <td>NaN</td>\n",
       "    </tr>\n",
       "    <tr>\n",
       "      <th>45</th>\n",
       "      <td>20190313050539</td>\n",
       "      <td>NaN</td>\n",
       "      <td>NaN</td>\n",
       "      <td>SET</td>\n",
       "      <td>15</td>\n",
       "      <td>NaN</td>\n",
       "      <td>NaN</td>\n",
       "    </tr>\n",
       "    <tr>\n",
       "      <th>139</th>\n",
       "      <td>20190513113001</td>\n",
       "      <td>NaN</td>\n",
       "      <td>NaN</td>\n",
       "      <td>SET</td>\n",
       "      <td>7</td>\n",
       "      <td>NaN</td>\n",
       "      <td>NaN</td>\n",
       "    </tr>\n",
       "  </tbody>\n",
       "</table>\n",
       "</div>"
      ],
      "text/plain": [
       "          timestamp IGNORE_EXIT_ERRORS              \\\n",
       "190  20190605051543                            NaN   \n",
       "228  20190619033036                            SET   \n",
       "302  20190801100732                            SET   \n",
       "45   20190313050539                            NaN   \n",
       "139  20190513113001                            NaN   \n",
       "\n",
       "    IGNORE_TABLE_ERRORS            LOCK_SOURCE_CLIENT              \\\n",
       "190                            NaN                            NaN   \n",
       "228                            SET                            NaN   \n",
       "302                            SET                            SET   \n",
       "45                             NaN                            SET   \n",
       "139                            NaN                            SET   \n",
       "\n",
       "    PARALLEL_NUMBER                USE_EXCLUSIVE_LOCKS             \\\n",
       "190                              7                            NaN   \n",
       "228                             10                            NaN   \n",
       "302                             10                            NaN   \n",
       "45                              15                            NaN   \n",
       "139                              7                            NaN   \n",
       "\n",
       "    USE_TABLE_SEGMENTER             \n",
       "190                            NaN  \n",
       "228                            NaN  \n",
       "302                            NaN  \n",
       "45                             NaN  \n",
       "139                            NaN  "
      ]
     },
     "execution_count": 6,
     "metadata": {},
     "output_type": "execute_result"
    }
   ],
   "source": [
    "flow_settings=pd.DataFrame(settings_cleaned.pivot(index='timestamp', columns='setting_name', values='setting_value')).reset_index().rename_axis(None, axis=1)\n",
    "flow_settings.sample(5)"
   ]
  },
  {
   "cell_type": "code",
   "execution_count": 7,
   "metadata": {},
   "outputs": [
    {
     "data": {
      "text/plain": [
       "timestamp                           0\n",
       "IGNORE_EXIT_ERRORS                284\n",
       "IGNORE_TABLE_ERRORS               402\n",
       "LOCK_SOURCE_CLIENT                305\n",
       "PARALLEL_NUMBER                     0\n",
       "USE_EXCLUSIVE_LOCKS               355\n",
       "USE_TABLE_SEGMENTER               484\n",
       "dtype: int64"
      ]
     },
     "execution_count": 7,
     "metadata": {},
     "output_type": "execute_result"
    }
   ],
   "source": [
    "flow_settings.isna().sum()"
   ]
  },
  {
   "cell_type": "code",
   "execution_count": 8,
   "metadata": {},
   "outputs": [],
   "source": [
    "flow_settings = flow_settings.fillna(value = 'NOT_SET')"
   ]
  },
  {
   "cell_type": "markdown",
   "metadata": {},
   "source": [
    "##### Lets join both tables"
   ]
  },
  {
   "cell_type": "code",
   "execution_count": 9,
   "metadata": {},
   "outputs": [
    {
     "data": {
      "text/html": [
       "<div>\n",
       "<style scoped>\n",
       "    .dataframe tbody tr th:only-of-type {\n",
       "        vertical-align: middle;\n",
       "    }\n",
       "\n",
       "    .dataframe tbody tr th {\n",
       "        vertical-align: top;\n",
       "    }\n",
       "\n",
       "    .dataframe thead th {\n",
       "        text-align: right;\n",
       "    }\n",
       "</style>\n",
       "<table border=\"1\" class=\"dataframe\">\n",
       "  <thead>\n",
       "    <tr style=\"text-align: right;\">\n",
       "      <th></th>\n",
       "      <th>timestamp</th>\n",
       "      <th>copy_mode</th>\n",
       "      <th>profile</th>\n",
       "      <th>total_runtime</th>\n",
       "      <th>status</th>\n",
       "      <th>records_processed</th>\n",
       "      <th>total_data_processed</th>\n",
       "      <th>IGNORE_EXIT_ERRORS</th>\n",
       "      <th>IGNORE_TABLE_ERRORS</th>\n",
       "      <th>LOCK_SOURCE_CLIENT</th>\n",
       "      <th>PARALLEL_NUMBER</th>\n",
       "      <th>USE_EXCLUSIVE_LOCKS</th>\n",
       "      <th>USE_TABLE_SEGMENTER</th>\n",
       "    </tr>\n",
       "  </thead>\n",
       "  <tbody>\n",
       "    <tr>\n",
       "      <th>0</th>\n",
       "      <td>20190819131549</td>\n",
       "      <td>LOCAL</td>\n",
       "      <td>SAP_UCSV</td>\n",
       "      <td>1290</td>\n",
       "      <td>FINISHED</td>\n",
       "      <td>30619937</td>\n",
       "      <td>2721723523</td>\n",
       "      <td>SET</td>\n",
       "      <td>NOT_SET</td>\n",
       "      <td>NOT_SET</td>\n",
       "      <td>6</td>\n",
       "      <td>NOT_SET</td>\n",
       "      <td>NOT_SET</td>\n",
       "    </tr>\n",
       "    <tr>\n",
       "      <th>1</th>\n",
       "      <td>20190812065310</td>\n",
       "      <td>LOCAL</td>\n",
       "      <td>SAP_UCSV</td>\n",
       "      <td>1192</td>\n",
       "      <td>FINISHED</td>\n",
       "      <td>48666506</td>\n",
       "      <td>3902691720</td>\n",
       "      <td>SET</td>\n",
       "      <td>NOT_SET</td>\n",
       "      <td>NOT_SET</td>\n",
       "      <td>6</td>\n",
       "      <td>NOT_SET</td>\n",
       "      <td>NOT_SET</td>\n",
       "    </tr>\n",
       "    <tr>\n",
       "      <th>2</th>\n",
       "      <td>20190902092042</td>\n",
       "      <td>LOCAL</td>\n",
       "      <td>SAP_UCSV</td>\n",
       "      <td>343</td>\n",
       "      <td>CANCELLED</td>\n",
       "      <td>32653243</td>\n",
       "      <td>2246436756</td>\n",
       "      <td>NOT_SET</td>\n",
       "      <td>NOT_SET</td>\n",
       "      <td>SET</td>\n",
       "      <td>7</td>\n",
       "      <td>SET</td>\n",
       "      <td>NOT_SET</td>\n",
       "    </tr>\n",
       "    <tr>\n",
       "      <th>3</th>\n",
       "      <td>20190907063037</td>\n",
       "      <td>REMOTE</td>\n",
       "      <td>SAP_ALL</td>\n",
       "      <td>1800</td>\n",
       "      <td>FINISHED</td>\n",
       "      <td>60944409</td>\n",
       "      <td>5673935415</td>\n",
       "      <td>SET</td>\n",
       "      <td>SET</td>\n",
       "      <td>SET</td>\n",
       "      <td>10</td>\n",
       "      <td>NOT_SET</td>\n",
       "      <td>NOT_SET</td>\n",
       "    </tr>\n",
       "    <tr>\n",
       "      <th>4</th>\n",
       "      <td>20190902064418</td>\n",
       "      <td>LOCAL</td>\n",
       "      <td>SAP_UCSV</td>\n",
       "      <td>249</td>\n",
       "      <td>CANCELLED</td>\n",
       "      <td>118175632</td>\n",
       "      <td>8857599641</td>\n",
       "      <td>SET</td>\n",
       "      <td>NOT_SET</td>\n",
       "      <td>NOT_SET</td>\n",
       "      <td>6</td>\n",
       "      <td>SET</td>\n",
       "      <td>NOT_SET</td>\n",
       "    </tr>\n",
       "  </tbody>\n",
       "</table>\n",
       "</div>"
      ],
      "text/plain": [
       "        timestamp copy_mode   profile  total_runtime           status  \\\n",
       "0  20190819131549    LOCAL   SAP_UCSV           1290  FINISHED          \n",
       "1  20190812065310    LOCAL   SAP_UCSV           1192  FINISHED          \n",
       "2  20190902092042    LOCAL   SAP_UCSV            343  CANCELLED         \n",
       "3  20190907063037    REMOTE  SAP_ALL            1800  FINISHED          \n",
       "4  20190902064418    LOCAL   SAP_UCSV            249  CANCELLED         \n",
       "\n",
       "   records_processed  total_data_processed IGNORE_EXIT_ERRORS              \\\n",
       "0           30619937            2721723523                            SET   \n",
       "1           48666506            3902691720                            SET   \n",
       "2           32653243            2246436756                        NOT_SET   \n",
       "3           60944409            5673935415                            SET   \n",
       "4          118175632            8857599641                            SET   \n",
       "\n",
       "  IGNORE_TABLE_ERRORS            LOCK_SOURCE_CLIENT              \\\n",
       "0                        NOT_SET                        NOT_SET   \n",
       "1                        NOT_SET                        NOT_SET   \n",
       "2                        NOT_SET                            SET   \n",
       "3                            SET                            SET   \n",
       "4                        NOT_SET                        NOT_SET   \n",
       "\n",
       "   PARALLEL_NUMBER                USE_EXCLUSIVE_LOCKS             \\\n",
       "0                               6                        NOT_SET   \n",
       "1                               6                        NOT_SET   \n",
       "2                               7                            SET   \n",
       "3                              10                        NOT_SET   \n",
       "4                               6                            SET   \n",
       "\n",
       "  USE_TABLE_SEGMENTER             \n",
       "0                        NOT_SET  \n",
       "1                        NOT_SET  \n",
       "2                        NOT_SET  \n",
       "3                        NOT_SET  \n",
       "4                        NOT_SET  "
      ]
     },
     "execution_count": 9,
     "metadata": {},
     "output_type": "execute_result"
    }
   ],
   "source": [
    "cc_data = data.join(flow_settings.set_index('timestamp'),on= 'timestamp',how='inner')\n",
    "cc_data.head()"
   ]
  },
  {
   "cell_type": "code",
   "execution_count": 10,
   "metadata": {
    "scrolled": true
   },
   "outputs": [
    {
     "data": {
      "text/html": [
       "<div>\n",
       "<style scoped>\n",
       "    .dataframe tbody tr th:only-of-type {\n",
       "        vertical-align: middle;\n",
       "    }\n",
       "\n",
       "    .dataframe tbody tr th {\n",
       "        vertical-align: top;\n",
       "    }\n",
       "\n",
       "    .dataframe thead th {\n",
       "        text-align: right;\n",
       "    }\n",
       "</style>\n",
       "<table border=\"1\" class=\"dataframe\">\n",
       "  <thead>\n",
       "    <tr style=\"text-align: right;\">\n",
       "      <th></th>\n",
       "      <th>timestamp</th>\n",
       "      <th>copy_mode</th>\n",
       "      <th>profile</th>\n",
       "      <th>total_runtime</th>\n",
       "      <th>status</th>\n",
       "      <th>records_processed</th>\n",
       "      <th>total_data_processed</th>\n",
       "      <th>ignore_exit_errors</th>\n",
       "      <th>ignore_table_errors</th>\n",
       "      <th>lock_source_client</th>\n",
       "      <th>parallel_number</th>\n",
       "      <th>use_exclusive_locks</th>\n",
       "      <th>use_table_segmenter</th>\n",
       "    </tr>\n",
       "  </thead>\n",
       "  <tbody>\n",
       "    <tr>\n",
       "      <th>0</th>\n",
       "      <td>20190819131549</td>\n",
       "      <td>LOCAL</td>\n",
       "      <td>SAP_UCSV</td>\n",
       "      <td>1290</td>\n",
       "      <td>FINISHED</td>\n",
       "      <td>30619937</td>\n",
       "      <td>2721723523</td>\n",
       "      <td>SET</td>\n",
       "      <td>NOT_SET</td>\n",
       "      <td>NOT_SET</td>\n",
       "      <td>6</td>\n",
       "      <td>NOT_SET</td>\n",
       "      <td>NOT_SET</td>\n",
       "    </tr>\n",
       "    <tr>\n",
       "      <th>1</th>\n",
       "      <td>20190812065310</td>\n",
       "      <td>LOCAL</td>\n",
       "      <td>SAP_UCSV</td>\n",
       "      <td>1192</td>\n",
       "      <td>FINISHED</td>\n",
       "      <td>48666506</td>\n",
       "      <td>3902691720</td>\n",
       "      <td>SET</td>\n",
       "      <td>NOT_SET</td>\n",
       "      <td>NOT_SET</td>\n",
       "      <td>6</td>\n",
       "      <td>NOT_SET</td>\n",
       "      <td>NOT_SET</td>\n",
       "    </tr>\n",
       "    <tr>\n",
       "      <th>2</th>\n",
       "      <td>20190902092042</td>\n",
       "      <td>LOCAL</td>\n",
       "      <td>SAP_UCSV</td>\n",
       "      <td>343</td>\n",
       "      <td>CANCELLED</td>\n",
       "      <td>32653243</td>\n",
       "      <td>2246436756</td>\n",
       "      <td>NOT_SET</td>\n",
       "      <td>NOT_SET</td>\n",
       "      <td>SET</td>\n",
       "      <td>7</td>\n",
       "      <td>SET</td>\n",
       "      <td>NOT_SET</td>\n",
       "    </tr>\n",
       "    <tr>\n",
       "      <th>3</th>\n",
       "      <td>20190907063037</td>\n",
       "      <td>REMOTE</td>\n",
       "      <td>SAP_ALL</td>\n",
       "      <td>1800</td>\n",
       "      <td>FINISHED</td>\n",
       "      <td>60944409</td>\n",
       "      <td>5673935415</td>\n",
       "      <td>SET</td>\n",
       "      <td>SET</td>\n",
       "      <td>SET</td>\n",
       "      <td>10</td>\n",
       "      <td>NOT_SET</td>\n",
       "      <td>NOT_SET</td>\n",
       "    </tr>\n",
       "    <tr>\n",
       "      <th>4</th>\n",
       "      <td>20190902064418</td>\n",
       "      <td>LOCAL</td>\n",
       "      <td>SAP_UCSV</td>\n",
       "      <td>249</td>\n",
       "      <td>CANCELLED</td>\n",
       "      <td>118175632</td>\n",
       "      <td>8857599641</td>\n",
       "      <td>SET</td>\n",
       "      <td>NOT_SET</td>\n",
       "      <td>NOT_SET</td>\n",
       "      <td>6</td>\n",
       "      <td>SET</td>\n",
       "      <td>NOT_SET</td>\n",
       "    </tr>\n",
       "  </tbody>\n",
       "</table>\n",
       "</div>"
      ],
      "text/plain": [
       "        timestamp copy_mode   profile  total_runtime           status  \\\n",
       "0  20190819131549    LOCAL   SAP_UCSV           1290  FINISHED          \n",
       "1  20190812065310    LOCAL   SAP_UCSV           1192  FINISHED          \n",
       "2  20190902092042    LOCAL   SAP_UCSV            343  CANCELLED         \n",
       "3  20190907063037    REMOTE  SAP_ALL            1800  FINISHED          \n",
       "4  20190902064418    LOCAL   SAP_UCSV            249  CANCELLED         \n",
       "\n",
       "   records_processed  total_data_processed ignore_exit_errors              \\\n",
       "0           30619937            2721723523                            SET   \n",
       "1           48666506            3902691720                            SET   \n",
       "2           32653243            2246436756                        NOT_SET   \n",
       "3           60944409            5673935415                            SET   \n",
       "4          118175632            8857599641                            SET   \n",
       "\n",
       "  ignore_table_errors            lock_source_client              \\\n",
       "0                        NOT_SET                        NOT_SET   \n",
       "1                        NOT_SET                        NOT_SET   \n",
       "2                        NOT_SET                            SET   \n",
       "3                            SET                            SET   \n",
       "4                        NOT_SET                        NOT_SET   \n",
       "\n",
       "   parallel_number                use_exclusive_locks             \\\n",
       "0                               6                        NOT_SET   \n",
       "1                               6                        NOT_SET   \n",
       "2                               7                            SET   \n",
       "3                              10                        NOT_SET   \n",
       "4                               6                            SET   \n",
       "\n",
       "  use_table_segmenter             \n",
       "0                        NOT_SET  \n",
       "1                        NOT_SET  \n",
       "2                        NOT_SET  \n",
       "3                        NOT_SET  \n",
       "4                        NOT_SET  "
      ]
     },
     "execution_count": 10,
     "metadata": {},
     "output_type": "execute_result"
    }
   ],
   "source": [
    "cc_data.columns = map(str.lower,cc_data.columns)\n",
    "cc_data.head()"
   ]
  },
  {
   "cell_type": "markdown",
   "metadata": {},
   "source": [
    "### Cleaning Data"
   ]
  },
  {
   "cell_type": "code",
   "execution_count": 11,
   "metadata": {},
   "outputs": [
    {
     "data": {
      "text/plain": [
       "timestamp                         0\n",
       "copy_mode                         0\n",
       "profile                           0\n",
       "total_runtime                     0\n",
       "status                            0\n",
       "records_processed                 0\n",
       "total_data_processed              0\n",
       "ignore_exit_errors                0\n",
       "ignore_table_errors               0\n",
       "lock_source_client                0\n",
       "parallel_number                   0\n",
       "use_exclusive_locks               0\n",
       "use_table_segmenter               0\n",
       "dtype: int64"
      ]
     },
     "execution_count": 11,
     "metadata": {},
     "output_type": "execute_result"
    }
   ],
   "source": [
    "# Lets see how many NaN values are present\n",
    "cc_data.isna().sum()"
   ]
  },
  {
   "cell_type": "code",
   "execution_count": 12,
   "metadata": {},
   "outputs": [
    {
     "data": {
      "text/plain": [
       "Index(['timestamp', 'copy_mode', 'profile', 'total_runtime', 'status',\n",
       "       'records_processed', 'total_data_processed',\n",
       "       'ignore_exit_errors            ', 'ignore_table_errors           ',\n",
       "       'lock_source_client            ', 'parallel_number               ',\n",
       "       'use_exclusive_locks           ', 'use_table_segmenter           '],\n",
       "      dtype='object')"
      ]
     },
     "execution_count": 12,
     "metadata": {},
     "output_type": "execute_result"
    }
   ],
   "source": [
    "cc_data.columns"
   ]
  },
  {
   "cell_type": "code",
   "execution_count": 13,
   "metadata": {},
   "outputs": [
    {
     "data": {
      "text/plain": [
       "Index(['timestamp', 'copy_mode', 'profile', 'total_runtime', 'status',\n",
       "       'records_processed', 'total_data_processed', 'ignore_exit_errors',\n",
       "       'ignore_table_errors', 'lock_source_client', 'parallel_number',\n",
       "       'use_exclusive_locks', 'use_table_segmenter'],\n",
       "      dtype='object')"
      ]
     },
     "execution_count": 13,
     "metadata": {},
     "output_type": "execute_result"
    }
   ],
   "source": [
    "cc_data.columns = cc_data.columns.str.replace(' ', '')\n",
    "cc_data.columns"
   ]
  },
  {
   "cell_type": "code",
   "execution_count": 14,
   "metadata": {},
   "outputs": [
    {
     "data": {
      "text/plain": [
       "FINISHED     281\n",
       "CANCELLED     80\n",
       "Name: status, dtype: int64"
      ]
     },
     "execution_count": 14,
     "metadata": {},
     "output_type": "execute_result"
    }
   ],
   "source": [
    "cc_data['status'] = cc_data['status'].str.replace(\" \",\"\")\n",
    "def remove_whitespace(x):\n",
    "    try:\n",
    "        # remove spaces inside and outside of string\n",
    "        x = \"\".join(x.split())\n",
    "\n",
    "    except:\n",
    "        pass\n",
    "    return x\n",
    "\n",
    "# Apply remove_whitespace to column only\n",
    "cc_data = cc_data.apply(remove_whitespace)\n",
    "cc_data.status.value_counts()"
   ]
  },
  {
   "cell_type": "code",
   "execution_count": 15,
   "metadata": {},
   "outputs": [],
   "source": [
    "# import pandas_profiling\n",
    "# pandas_profiling.ProfileReport(cc_data)\n",
    "\n",
    "# Rename Columns\n",
    "cc_data.rename(columns={'total_runtime':'runtime_in_seconds',\n",
    "                        'total_data_processed' : 'size_in_bytes',\n",
    "                       },\n",
    "              inplace=True)\n",
    "cc_data.drop(columns='timestamp',inplace=True)\n"
   ]
  },
  {
   "cell_type": "code",
   "execution_count": 16,
   "metadata": {},
   "outputs": [
    {
     "data": {
      "text/html": [
       "<div>\n",
       "<style scoped>\n",
       "    .dataframe tbody tr th:only-of-type {\n",
       "        vertical-align: middle;\n",
       "    }\n",
       "\n",
       "    .dataframe tbody tr th {\n",
       "        vertical-align: top;\n",
       "    }\n",
       "\n",
       "    .dataframe thead th {\n",
       "        text-align: right;\n",
       "    }\n",
       "</style>\n",
       "<table border=\"1\" class=\"dataframe\">\n",
       "  <thead>\n",
       "    <tr style=\"text-align: right;\">\n",
       "      <th></th>\n",
       "      <th>copy_mode</th>\n",
       "      <th>profile</th>\n",
       "      <th>runtime_in_seconds</th>\n",
       "      <th>status</th>\n",
       "      <th>records_processed</th>\n",
       "      <th>size_in_bytes</th>\n",
       "      <th>ignore_exit_errors</th>\n",
       "      <th>ignore_table_errors</th>\n",
       "      <th>lock_source_client</th>\n",
       "      <th>parallel_number</th>\n",
       "      <th>use_exclusive_locks</th>\n",
       "      <th>use_table_segmenter</th>\n",
       "    </tr>\n",
       "  </thead>\n",
       "  <tbody>\n",
       "    <tr>\n",
       "      <th>0</th>\n",
       "      <td>LOCAL</td>\n",
       "      <td>SAP_UCSV</td>\n",
       "      <td>1290</td>\n",
       "      <td>FINISHED</td>\n",
       "      <td>30619937</td>\n",
       "      <td>2721723523</td>\n",
       "      <td>SET</td>\n",
       "      <td>NOT_SET</td>\n",
       "      <td>NOT_SET</td>\n",
       "      <td>6</td>\n",
       "      <td>NOT_SET</td>\n",
       "      <td>NOT_SET</td>\n",
       "    </tr>\n",
       "    <tr>\n",
       "      <th>1</th>\n",
       "      <td>LOCAL</td>\n",
       "      <td>SAP_UCSV</td>\n",
       "      <td>1192</td>\n",
       "      <td>FINISHED</td>\n",
       "      <td>48666506</td>\n",
       "      <td>3902691720</td>\n",
       "      <td>SET</td>\n",
       "      <td>NOT_SET</td>\n",
       "      <td>NOT_SET</td>\n",
       "      <td>6</td>\n",
       "      <td>NOT_SET</td>\n",
       "      <td>NOT_SET</td>\n",
       "    </tr>\n",
       "    <tr>\n",
       "      <th>2</th>\n",
       "      <td>LOCAL</td>\n",
       "      <td>SAP_UCSV</td>\n",
       "      <td>343</td>\n",
       "      <td>CANCELLED</td>\n",
       "      <td>32653243</td>\n",
       "      <td>2246436756</td>\n",
       "      <td>NOT_SET</td>\n",
       "      <td>NOT_SET</td>\n",
       "      <td>SET</td>\n",
       "      <td>7</td>\n",
       "      <td>SET</td>\n",
       "      <td>NOT_SET</td>\n",
       "    </tr>\n",
       "    <tr>\n",
       "      <th>3</th>\n",
       "      <td>REMOTE</td>\n",
       "      <td>SAP_ALL</td>\n",
       "      <td>1800</td>\n",
       "      <td>FINISHED</td>\n",
       "      <td>60944409</td>\n",
       "      <td>5673935415</td>\n",
       "      <td>SET</td>\n",
       "      <td>SET</td>\n",
       "      <td>SET</td>\n",
       "      <td>10</td>\n",
       "      <td>NOT_SET</td>\n",
       "      <td>NOT_SET</td>\n",
       "    </tr>\n",
       "    <tr>\n",
       "      <th>4</th>\n",
       "      <td>LOCAL</td>\n",
       "      <td>SAP_UCSV</td>\n",
       "      <td>249</td>\n",
       "      <td>CANCELLED</td>\n",
       "      <td>118175632</td>\n",
       "      <td>8857599641</td>\n",
       "      <td>SET</td>\n",
       "      <td>NOT_SET</td>\n",
       "      <td>NOT_SET</td>\n",
       "      <td>6</td>\n",
       "      <td>SET</td>\n",
       "      <td>NOT_SET</td>\n",
       "    </tr>\n",
       "  </tbody>\n",
       "</table>\n",
       "</div>"
      ],
      "text/plain": [
       "  copy_mode   profile  runtime_in_seconds     status  records_processed  \\\n",
       "0    LOCAL   SAP_UCSV                1290   FINISHED           30619937   \n",
       "1    LOCAL   SAP_UCSV                1192   FINISHED           48666506   \n",
       "2    LOCAL   SAP_UCSV                 343  CANCELLED           32653243   \n",
       "3    REMOTE  SAP_ALL                 1800   FINISHED           60944409   \n",
       "4    LOCAL   SAP_UCSV                 249  CANCELLED          118175632   \n",
       "\n",
       "   size_in_bytes ignore_exit_errors ignore_table_errors lock_source_client  \\\n",
       "0     2721723523                SET             NOT_SET            NOT_SET   \n",
       "1     3902691720                SET             NOT_SET            NOT_SET   \n",
       "2     2246436756            NOT_SET             NOT_SET                SET   \n",
       "3     5673935415                SET                 SET                SET   \n",
       "4     8857599641                SET             NOT_SET            NOT_SET   \n",
       "\n",
       "   parallel_number use_exclusive_locks use_table_segmenter  \n",
       "0                6             NOT_SET             NOT_SET  \n",
       "1                6             NOT_SET             NOT_SET  \n",
       "2                7                 SET             NOT_SET  \n",
       "3               10             NOT_SET             NOT_SET  \n",
       "4                6                 SET             NOT_SET  "
      ]
     },
     "execution_count": 16,
     "metadata": {},
     "output_type": "execute_result"
    }
   ],
   "source": [
    "cc_data.head()"
   ]
  },
  {
   "cell_type": "markdown",
   "metadata": {},
   "source": [
    "#### Adjust the datatypes"
   ]
  },
  {
   "cell_type": "code",
   "execution_count": 17,
   "metadata": {},
   "outputs": [],
   "source": [
    "# Change to numeric columns\n",
    "cc_data[['runtime_in_seconds','records_processed','size_in_bytes','parallel_number']] = \\\n",
    "cc_data[['runtime_in_seconds','records_processed','size_in_bytes','parallel_number']].apply(pd.to_numeric)\n"
   ]
  },
  {
   "cell_type": "markdown",
   "metadata": {},
   "source": [
    "### Save the cleaned and processed Dataset"
   ]
  },
  {
   "cell_type": "code",
   "execution_count": 18,
   "metadata": {},
   "outputs": [
    {
     "data": {
      "text/html": [
       "<div>\n",
       "<style scoped>\n",
       "    .dataframe tbody tr th:only-of-type {\n",
       "        vertical-align: middle;\n",
       "    }\n",
       "\n",
       "    .dataframe tbody tr th {\n",
       "        vertical-align: top;\n",
       "    }\n",
       "\n",
       "    .dataframe thead th {\n",
       "        text-align: right;\n",
       "    }\n",
       "</style>\n",
       "<table border=\"1\" class=\"dataframe\">\n",
       "  <thead>\n",
       "    <tr style=\"text-align: right;\">\n",
       "      <th></th>\n",
       "      <th>copy_mode</th>\n",
       "      <th>profile</th>\n",
       "      <th>runtime_in_seconds</th>\n",
       "      <th>status</th>\n",
       "      <th>records_processed</th>\n",
       "      <th>size_in_bytes</th>\n",
       "      <th>ignore_exit_errors</th>\n",
       "      <th>ignore_table_errors</th>\n",
       "      <th>lock_source_client</th>\n",
       "      <th>parallel_number</th>\n",
       "      <th>use_exclusive_locks</th>\n",
       "      <th>use_table_segmenter</th>\n",
       "    </tr>\n",
       "  </thead>\n",
       "  <tbody>\n",
       "    <tr>\n",
       "      <th>0</th>\n",
       "      <td>LOCAL</td>\n",
       "      <td>SAP_UCSV</td>\n",
       "      <td>1290</td>\n",
       "      <td>FINISHED</td>\n",
       "      <td>30619937</td>\n",
       "      <td>2721723523</td>\n",
       "      <td>SET</td>\n",
       "      <td>NOT_SET</td>\n",
       "      <td>NOT_SET</td>\n",
       "      <td>6</td>\n",
       "      <td>NOT_SET</td>\n",
       "      <td>NOT_SET</td>\n",
       "    </tr>\n",
       "    <tr>\n",
       "      <th>1</th>\n",
       "      <td>LOCAL</td>\n",
       "      <td>SAP_UCSV</td>\n",
       "      <td>1192</td>\n",
       "      <td>FINISHED</td>\n",
       "      <td>48666506</td>\n",
       "      <td>3902691720</td>\n",
       "      <td>SET</td>\n",
       "      <td>NOT_SET</td>\n",
       "      <td>NOT_SET</td>\n",
       "      <td>6</td>\n",
       "      <td>NOT_SET</td>\n",
       "      <td>NOT_SET</td>\n",
       "    </tr>\n",
       "    <tr>\n",
       "      <th>2</th>\n",
       "      <td>LOCAL</td>\n",
       "      <td>SAP_UCSV</td>\n",
       "      <td>343</td>\n",
       "      <td>CANCELLED</td>\n",
       "      <td>32653243</td>\n",
       "      <td>2246436756</td>\n",
       "      <td>NOT_SET</td>\n",
       "      <td>NOT_SET</td>\n",
       "      <td>SET</td>\n",
       "      <td>7</td>\n",
       "      <td>SET</td>\n",
       "      <td>NOT_SET</td>\n",
       "    </tr>\n",
       "    <tr>\n",
       "      <th>3</th>\n",
       "      <td>REMOTE</td>\n",
       "      <td>SAP_ALL</td>\n",
       "      <td>1800</td>\n",
       "      <td>FINISHED</td>\n",
       "      <td>60944409</td>\n",
       "      <td>5673935415</td>\n",
       "      <td>SET</td>\n",
       "      <td>SET</td>\n",
       "      <td>SET</td>\n",
       "      <td>10</td>\n",
       "      <td>NOT_SET</td>\n",
       "      <td>NOT_SET</td>\n",
       "    </tr>\n",
       "    <tr>\n",
       "      <th>4</th>\n",
       "      <td>LOCAL</td>\n",
       "      <td>SAP_UCSV</td>\n",
       "      <td>249</td>\n",
       "      <td>CANCELLED</td>\n",
       "      <td>118175632</td>\n",
       "      <td>8857599641</td>\n",
       "      <td>SET</td>\n",
       "      <td>NOT_SET</td>\n",
       "      <td>NOT_SET</td>\n",
       "      <td>6</td>\n",
       "      <td>SET</td>\n",
       "      <td>NOT_SET</td>\n",
       "    </tr>\n",
       "  </tbody>\n",
       "</table>\n",
       "</div>"
      ],
      "text/plain": [
       "  copy_mode   profile  runtime_in_seconds     status  records_processed  \\\n",
       "0    LOCAL   SAP_UCSV                1290   FINISHED           30619937   \n",
       "1    LOCAL   SAP_UCSV                1192   FINISHED           48666506   \n",
       "2    LOCAL   SAP_UCSV                 343  CANCELLED           32653243   \n",
       "3    REMOTE  SAP_ALL                 1800   FINISHED           60944409   \n",
       "4    LOCAL   SAP_UCSV                 249  CANCELLED          118175632   \n",
       "\n",
       "   size_in_bytes ignore_exit_errors ignore_table_errors lock_source_client  \\\n",
       "0     2721723523                SET             NOT_SET            NOT_SET   \n",
       "1     3902691720                SET             NOT_SET            NOT_SET   \n",
       "2     2246436756            NOT_SET             NOT_SET                SET   \n",
       "3     5673935415                SET                 SET                SET   \n",
       "4     8857599641                SET             NOT_SET            NOT_SET   \n",
       "\n",
       "   parallel_number use_exclusive_locks use_table_segmenter  \n",
       "0                6             NOT_SET             NOT_SET  \n",
       "1                6             NOT_SET             NOT_SET  \n",
       "2                7                 SET             NOT_SET  \n",
       "3               10             NOT_SET             NOT_SET  \n",
       "4                6                 SET             NOT_SET  "
      ]
     },
     "execution_count": 18,
     "metadata": {},
     "output_type": "execute_result"
    }
   ],
   "source": [
    "if not os.path.isfile('./dataset/copies_data_merged.csv'):\n",
    "    \n",
    "    cc_data.to_csv('./dataset/copies_data_merged.csv',index=None,header=True,)\n",
    "cc_data.head()"
   ]
  },
  {
   "cell_type": "markdown",
   "metadata": {},
   "source": [
    "### Feature Engineering"
   ]
  },
  {
   "cell_type": "markdown",
   "metadata": {},
   "source": [
    "We will try creating additional features from the current feature set (Columns) so that our Model and learn from these features for better predictions.\n",
    "<br>\n",
    "But before that let us examine the distribution for our numeric features"
   ]
  },
  {
   "cell_type": "code",
   "execution_count": 19,
   "metadata": {},
   "outputs": [
    {
     "data": {
      "text/html": [
       "<div>\n",
       "<style scoped>\n",
       "    .dataframe tbody tr th:only-of-type {\n",
       "        vertical-align: middle;\n",
       "    }\n",
       "\n",
       "    .dataframe tbody tr th {\n",
       "        vertical-align: top;\n",
       "    }\n",
       "\n",
       "    .dataframe thead th {\n",
       "        text-align: right;\n",
       "    }\n",
       "</style>\n",
       "<table border=\"1\" class=\"dataframe\">\n",
       "  <thead>\n",
       "    <tr style=\"text-align: right;\">\n",
       "      <th></th>\n",
       "      <th>index</th>\n",
       "      <th>Datatype</th>\n",
       "    </tr>\n",
       "  </thead>\n",
       "  <tbody>\n",
       "    <tr>\n",
       "      <th>0</th>\n",
       "      <td>copy_mode</td>\n",
       "      <td>object</td>\n",
       "    </tr>\n",
       "    <tr>\n",
       "      <th>1</th>\n",
       "      <td>profile</td>\n",
       "      <td>object</td>\n",
       "    </tr>\n",
       "    <tr>\n",
       "      <th>2</th>\n",
       "      <td>runtime_in_seconds</td>\n",
       "      <td>int64</td>\n",
       "    </tr>\n",
       "    <tr>\n",
       "      <th>3</th>\n",
       "      <td>status</td>\n",
       "      <td>object</td>\n",
       "    </tr>\n",
       "    <tr>\n",
       "      <th>4</th>\n",
       "      <td>records_processed</td>\n",
       "      <td>int64</td>\n",
       "    </tr>\n",
       "    <tr>\n",
       "      <th>5</th>\n",
       "      <td>size_in_bytes</td>\n",
       "      <td>int64</td>\n",
       "    </tr>\n",
       "    <tr>\n",
       "      <th>6</th>\n",
       "      <td>ignore_exit_errors</td>\n",
       "      <td>object</td>\n",
       "    </tr>\n",
       "    <tr>\n",
       "      <th>7</th>\n",
       "      <td>ignore_table_errors</td>\n",
       "      <td>object</td>\n",
       "    </tr>\n",
       "    <tr>\n",
       "      <th>8</th>\n",
       "      <td>lock_source_client</td>\n",
       "      <td>object</td>\n",
       "    </tr>\n",
       "    <tr>\n",
       "      <th>9</th>\n",
       "      <td>parallel_number</td>\n",
       "      <td>int64</td>\n",
       "    </tr>\n",
       "    <tr>\n",
       "      <th>10</th>\n",
       "      <td>use_exclusive_locks</td>\n",
       "      <td>object</td>\n",
       "    </tr>\n",
       "    <tr>\n",
       "      <th>11</th>\n",
       "      <td>use_table_segmenter</td>\n",
       "      <td>object</td>\n",
       "    </tr>\n",
       "  </tbody>\n",
       "</table>\n",
       "</div>"
      ],
      "text/plain": [
       "                  index Datatype\n",
       "0             copy_mode   object\n",
       "1               profile   object\n",
       "2    runtime_in_seconds    int64\n",
       "3                status   object\n",
       "4     records_processed    int64\n",
       "5         size_in_bytes    int64\n",
       "6    ignore_exit_errors   object\n",
       "7   ignore_table_errors   object\n",
       "8    lock_source_client   object\n",
       "9       parallel_number    int64\n",
       "10  use_exclusive_locks   object\n",
       "11  use_table_segmenter   object"
      ]
     },
     "execution_count": 19,
     "metadata": {},
     "output_type": "execute_result"
    }
   ],
   "source": [
    "cols = pd.DataFrame(data = cc_data.dtypes , columns=['Datatype']).reset_index()\n",
    "cols"
   ]
  },
  {
   "cell_type": "code",
   "execution_count": 20,
   "metadata": {},
   "outputs": [
    {
     "data": {
      "text/html": [
       "<div>\n",
       "<style scoped>\n",
       "    .dataframe tbody tr th:only-of-type {\n",
       "        vertical-align: middle;\n",
       "    }\n",
       "\n",
       "    .dataframe tbody tr th {\n",
       "        vertical-align: top;\n",
       "    }\n",
       "\n",
       "    .dataframe thead th {\n",
       "        text-align: right;\n",
       "    }\n",
       "</style>\n",
       "<table border=\"1\" class=\"dataframe\">\n",
       "  <thead>\n",
       "    <tr style=\"text-align: right;\">\n",
       "      <th></th>\n",
       "      <th>runtime_in_seconds</th>\n",
       "      <th>records_processed</th>\n",
       "      <th>size_in_bytes</th>\n",
       "      <th>parallel_number</th>\n",
       "    </tr>\n",
       "  </thead>\n",
       "  <tbody>\n",
       "    <tr>\n",
       "      <th>count</th>\n",
       "      <td>361</td>\n",
       "      <td>361</td>\n",
       "      <td>361</td>\n",
       "      <td>361</td>\n",
       "    </tr>\n",
       "    <tr>\n",
       "      <th>mean</th>\n",
       "      <td>4181</td>\n",
       "      <td>223259233</td>\n",
       "      <td>14423810028</td>\n",
       "      <td>8</td>\n",
       "    </tr>\n",
       "    <tr>\n",
       "      <th>std</th>\n",
       "      <td>41826</td>\n",
       "      <td>362906728</td>\n",
       "      <td>26216755498</td>\n",
       "      <td>5</td>\n",
       "    </tr>\n",
       "    <tr>\n",
       "      <th>min</th>\n",
       "      <td>13</td>\n",
       "      <td>0</td>\n",
       "      <td>0</td>\n",
       "      <td>0</td>\n",
       "    </tr>\n",
       "    <tr>\n",
       "      <th>25%</th>\n",
       "      <td>529</td>\n",
       "      <td>18329049</td>\n",
       "      <td>1534435820</td>\n",
       "      <td>6</td>\n",
       "    </tr>\n",
       "    <tr>\n",
       "      <th>50%</th>\n",
       "      <td>1334</td>\n",
       "      <td>89658494</td>\n",
       "      <td>6627857295</td>\n",
       "      <td>7</td>\n",
       "    </tr>\n",
       "    <tr>\n",
       "      <th>75%</th>\n",
       "      <td>2246</td>\n",
       "      <td>273542779</td>\n",
       "      <td>13405474528</td>\n",
       "      <td>10</td>\n",
       "    </tr>\n",
       "    <tr>\n",
       "      <th>max</th>\n",
       "      <td>795047</td>\n",
       "      <td>2178681778</td>\n",
       "      <td>158639896060</td>\n",
       "      <td>35</td>\n",
       "    </tr>\n",
       "  </tbody>\n",
       "</table>\n",
       "</div>"
      ],
      "text/plain": [
       "       runtime_in_seconds  records_processed  size_in_bytes  parallel_number\n",
       "count                 361                361            361              361\n",
       "mean                 4181          223259233    14423810028                8\n",
       "std                 41826          362906728    26216755498                5\n",
       "min                    13                  0              0                0\n",
       "25%                   529           18329049     1534435820                6\n",
       "50%                  1334           89658494     6627857295                7\n",
       "75%                  2246          273542779    13405474528               10\n",
       "max                795047         2178681778   158639896060               35"
      ]
     },
     "execution_count": 20,
     "metadata": {},
     "output_type": "execute_result"
    }
   ],
   "source": [
    "cc_data.describe()"
   ]
  },
  {
   "cell_type": "markdown",
   "metadata": {},
   "source": [
    "#### Distribution of records_processed"
   ]
  },
  {
   "cell_type": "code",
   "execution_count": 21,
   "metadata": {},
   "outputs": [
    {
     "data": {
      "image/png": "[encoded data removed]",
      "text/plain": [
       "<Figure size 864x504 with 1 Axes>"
      ]
     },
     "metadata": {
      "needs_background": "light"
     },
     "output_type": "display_data"
    }
   ],
   "source": [
    "plt.figure(figsize=(12,7))\n",
    "sns.distplot(cc_data['records_processed'],\n",
    "             label = '1',\n",
    "             color = 'red',\n",
    "             bins=50,\n",
    "             norm_hist=True,\n",
    "            )\n",
    "plt.show()"
   ]
  },
  {
   "cell_type": "markdown",
   "metadata": {},
   "source": [
    "#### Feature Binning using Quantiles"
   ]
  },
  {
   "cell_type": "markdown",
   "metadata": {},
   "source": [
    " We will categorize the columns\n",
    " - __records_processed__ \n",
    " - __size_in_bytes__\n",
    " <br>\n",
    " into multiple bins using the Quantile Information and create new features"
   ]
  },
  {
   "cell_type": "code",
   "execution_count": 22,
   "metadata": {},
   "outputs": [
    {
     "data": {
      "text/html": [
       "<div>\n",
       "<style scoped>\n",
       "    .dataframe tbody tr th:only-of-type {\n",
       "        vertical-align: middle;\n",
       "    }\n",
       "\n",
       "    .dataframe tbody tr th {\n",
       "        vertical-align: top;\n",
       "    }\n",
       "\n",
       "    .dataframe thead th {\n",
       "        text-align: right;\n",
       "    }\n",
       "</style>\n",
       "<table border=\"1\" class=\"dataframe\">\n",
       "  <thead>\n",
       "    <tr style=\"text-align: right;\">\n",
       "      <th></th>\n",
       "      <th>records_processed</th>\n",
       "      <th>size_in_bytes</th>\n",
       "    </tr>\n",
       "  </thead>\n",
       "  <tbody>\n",
       "    <tr>\n",
       "      <th>count</th>\n",
       "      <td>361</td>\n",
       "      <td>361</td>\n",
       "    </tr>\n",
       "    <tr>\n",
       "      <th>mean</th>\n",
       "      <td>223259233</td>\n",
       "      <td>14423810028</td>\n",
       "    </tr>\n",
       "    <tr>\n",
       "      <th>std</th>\n",
       "      <td>362906728</td>\n",
       "      <td>26216755498</td>\n",
       "    </tr>\n",
       "    <tr>\n",
       "      <th>min</th>\n",
       "      <td>0</td>\n",
       "      <td>0</td>\n",
       "    </tr>\n",
       "    <tr>\n",
       "      <th>25%</th>\n",
       "      <td>18329049</td>\n",
       "      <td>1534435820</td>\n",
       "    </tr>\n",
       "    <tr>\n",
       "      <th>50%</th>\n",
       "      <td>89658494</td>\n",
       "      <td>6627857295</td>\n",
       "    </tr>\n",
       "    <tr>\n",
       "      <th>75%</th>\n",
       "      <td>273542779</td>\n",
       "      <td>13405474528</td>\n",
       "    </tr>\n",
       "    <tr>\n",
       "      <th>max</th>\n",
       "      <td>2178681778</td>\n",
       "      <td>158639896060</td>\n",
       "    </tr>\n",
       "  </tbody>\n",
       "</table>\n",
       "</div>"
      ],
      "text/plain": [
       "       records_processed  size_in_bytes\n",
       "count                361            361\n",
       "mean           223259233    14423810028\n",
       "std            362906728    26216755498\n",
       "min                    0              0\n",
       "25%             18329049     1534435820\n",
       "50%             89658494     6627857295\n",
       "75%            273542779    13405474528\n",
       "max           2178681778   158639896060"
      ]
     },
     "execution_count": 22,
     "metadata": {},
     "output_type": "execute_result"
    }
   ],
   "source": [
    "cc_data[['records_processed','size_in_bytes']].describe()"
   ]
  },
  {
   "cell_type": "code",
   "execution_count": 23,
   "metadata": {},
   "outputs": [],
   "source": [
    "def get_quantile_category(data,quantile_labels):\n",
    "    return pd.qcut(data,q=4,labels=quantile_labels)"
   ]
  },
  {
   "cell_type": "code",
   "execution_count": 24,
   "metadata": {},
   "outputs": [
    {
     "data": {
      "text/html": [
       "<div>\n",
       "<style scoped>\n",
       "    .dataframe tbody tr th:only-of-type {\n",
       "        vertical-align: middle;\n",
       "    }\n",
       "\n",
       "    .dataframe tbody tr th {\n",
       "        vertical-align: top;\n",
       "    }\n",
       "\n",
       "    .dataframe thead th {\n",
       "        text-align: right;\n",
       "    }\n",
       "</style>\n",
       "<table border=\"1\" class=\"dataframe\">\n",
       "  <thead>\n",
       "    <tr style=\"text-align: right;\">\n",
       "      <th></th>\n",
       "      <th>copy_mode</th>\n",
       "      <th>profile</th>\n",
       "      <th>runtime_in_seconds</th>\n",
       "      <th>status</th>\n",
       "      <th>records_processed</th>\n",
       "      <th>size_in_bytes</th>\n",
       "      <th>ignore_exit_errors</th>\n",
       "      <th>ignore_table_errors</th>\n",
       "      <th>lock_source_client</th>\n",
       "      <th>parallel_number</th>\n",
       "      <th>use_exclusive_locks</th>\n",
       "      <th>use_table_segmenter</th>\n",
       "      <th>records_processed_category</th>\n",
       "      <th>size_category</th>\n",
       "    </tr>\n",
       "  </thead>\n",
       "  <tbody>\n",
       "    <tr>\n",
       "      <th>0</th>\n",
       "      <td>LOCAL</td>\n",
       "      <td>SAP_UCSV</td>\n",
       "      <td>1290</td>\n",
       "      <td>FINISHED</td>\n",
       "      <td>30619937</td>\n",
       "      <td>2721723523</td>\n",
       "      <td>SET</td>\n",
       "      <td>NOT_SET</td>\n",
       "      <td>NOT_SET</td>\n",
       "      <td>6</td>\n",
       "      <td>NOT_SET</td>\n",
       "      <td>NOT_SET</td>\n",
       "      <td>MEDIUM</td>\n",
       "      <td>MEDIUM</td>\n",
       "    </tr>\n",
       "    <tr>\n",
       "      <th>1</th>\n",
       "      <td>LOCAL</td>\n",
       "      <td>SAP_UCSV</td>\n",
       "      <td>1192</td>\n",
       "      <td>FINISHED</td>\n",
       "      <td>48666506</td>\n",
       "      <td>3902691720</td>\n",
       "      <td>SET</td>\n",
       "      <td>NOT_SET</td>\n",
       "      <td>NOT_SET</td>\n",
       "      <td>6</td>\n",
       "      <td>NOT_SET</td>\n",
       "      <td>NOT_SET</td>\n",
       "      <td>MEDIUM</td>\n",
       "      <td>MEDIUM</td>\n",
       "    </tr>\n",
       "    <tr>\n",
       "      <th>2</th>\n",
       "      <td>LOCAL</td>\n",
       "      <td>SAP_UCSV</td>\n",
       "      <td>343</td>\n",
       "      <td>CANCELLED</td>\n",
       "      <td>32653243</td>\n",
       "      <td>2246436756</td>\n",
       "      <td>NOT_SET</td>\n",
       "      <td>NOT_SET</td>\n",
       "      <td>SET</td>\n",
       "      <td>7</td>\n",
       "      <td>SET</td>\n",
       "      <td>NOT_SET</td>\n",
       "      <td>MEDIUM</td>\n",
       "      <td>MEDIUM</td>\n",
       "    </tr>\n",
       "    <tr>\n",
       "      <th>3</th>\n",
       "      <td>REMOTE</td>\n",
       "      <td>SAP_ALL</td>\n",
       "      <td>1800</td>\n",
       "      <td>FINISHED</td>\n",
       "      <td>60944409</td>\n",
       "      <td>5673935415</td>\n",
       "      <td>SET</td>\n",
       "      <td>SET</td>\n",
       "      <td>SET</td>\n",
       "      <td>10</td>\n",
       "      <td>NOT_SET</td>\n",
       "      <td>NOT_SET</td>\n",
       "      <td>MEDIUM</td>\n",
       "      <td>MEDIUM</td>\n",
       "    </tr>\n",
       "    <tr>\n",
       "      <th>4</th>\n",
       "      <td>LOCAL</td>\n",
       "      <td>SAP_UCSV</td>\n",
       "      <td>249</td>\n",
       "      <td>CANCELLED</td>\n",
       "      <td>118175632</td>\n",
       "      <td>8857599641</td>\n",
       "      <td>SET</td>\n",
       "      <td>NOT_SET</td>\n",
       "      <td>NOT_SET</td>\n",
       "      <td>6</td>\n",
       "      <td>SET</td>\n",
       "      <td>NOT_SET</td>\n",
       "      <td>LARGE</td>\n",
       "      <td>LARGE</td>\n",
       "    </tr>\n",
       "  </tbody>\n",
       "</table>\n",
       "</div>"
      ],
      "text/plain": [
       "  copy_mode   profile  runtime_in_seconds     status  records_processed  \\\n",
       "0    LOCAL   SAP_UCSV                1290   FINISHED           30619937   \n",
       "1    LOCAL   SAP_UCSV                1192   FINISHED           48666506   \n",
       "2    LOCAL   SAP_UCSV                 343  CANCELLED           32653243   \n",
       "3    REMOTE  SAP_ALL                 1800   FINISHED           60944409   \n",
       "4    LOCAL   SAP_UCSV                 249  CANCELLED          118175632   \n",
       "\n",
       "   size_in_bytes ignore_exit_errors ignore_table_errors lock_source_client  \\\n",
       "0     2721723523                SET             NOT_SET            NOT_SET   \n",
       "1     3902691720                SET             NOT_SET            NOT_SET   \n",
       "2     2246436756            NOT_SET             NOT_SET                SET   \n",
       "3     5673935415                SET                 SET                SET   \n",
       "4     8857599641                SET             NOT_SET            NOT_SET   \n",
       "\n",
       "   parallel_number use_exclusive_locks use_table_segmenter  \\\n",
       "0                6             NOT_SET             NOT_SET   \n",
       "1                6             NOT_SET             NOT_SET   \n",
       "2                7                 SET             NOT_SET   \n",
       "3               10             NOT_SET             NOT_SET   \n",
       "4                6                 SET             NOT_SET   \n",
       "\n",
       "  records_processed_category size_category  \n",
       "0                     MEDIUM        MEDIUM  \n",
       "1                     MEDIUM        MEDIUM  \n",
       "2                     MEDIUM        MEDIUM  \n",
       "3                     MEDIUM        MEDIUM  \n",
       "4                      LARGE         LARGE  "
      ]
     },
     "execution_count": 24,
     "metadata": {},
     "output_type": "execute_result"
    }
   ],
   "source": [
    "quantile_labels = ['SMALL', 'MEDIUM', 'LARGE', 'XL']\n",
    "cc_data['records_processed_category'] = get_quantile_category(cc_data.records_processed,quantile_labels)\n",
    "cc_data['size_category'] = get_quantile_category(cc_data.size_in_bytes,quantile_labels)\n",
    "cc_data.head()"
   ]
  },
  {
   "cell_type": "markdown",
   "metadata": {},
   "source": [
    "#### Feature Interactions"
   ]
  },
  {
   "cell_type": "markdown",
   "metadata": {},
   "source": [
    "Supervised machine learning models usually try to model the output responses (discrete classes or continuous values) as a function of the input feature variables. \n",
    "<br>\n",
    "But before that let's see how the numeric features are varying.\n"
   ]
  },
  {
   "cell_type": "code",
   "execution_count": 25,
   "metadata": {},
   "outputs": [
    {
     "data": {
      "text/plain": [
       "<seaborn.axisgrid.PairGrid at 0x19b668e1400>"
      ]
     },
     "execution_count": 25,
     "metadata": {},
     "output_type": "execute_result"
    },
    {
     "data": {
      "image/png": "[encoded data removed]",
      "text/plain": [
       "<Figure size 540x540 with 12 Axes>"
      ]
     },
     "metadata": {
      "needs_background": "light"
     },
     "output_type": "display_data"
    }
   ],
   "source": [
    "sns.pairplot(cc_data,vars=['runtime_in_seconds','records_processed','size_in_bytes'])"
   ]
  },
  {
   "cell_type": "code",
   "execution_count": 26,
   "metadata": {},
   "outputs": [
    {
     "data": {
      "image/png": "[encoded data removed]",
      "text/plain": [
       "<Figure size 864x504 with 1 Axes>"
      ]
     },
     "metadata": {
      "needs_background": "light"
     },
     "output_type": "display_data"
    }
   ],
   "source": [
    "plt.figure(figsize=(12,7))\n",
    "sns.distplot(cc_data['records_processed'],\n",
    "             label = '1',\n",
    "             color = 'red',\n",
    "             bins=50\n",
    "            )\n",
    "plt.show()"
   ]
  },
  {
   "cell_type": "markdown",
   "metadata": {},
   "source": [
    "#### Detecting Outliers"
   ]
  },
  {
   "cell_type": "code",
   "execution_count": 27,
   "metadata": {},
   "outputs": [
    {
     "name": "stdout",
     "output_type": "stream",
     "text": [
      "runtime_in_seconds          1717\n",
      "records_processed      255213730\n",
      "size_in_bytes        11871038708\n",
      "parallel_number                4\n",
      "dtype: float64\n"
     ]
    }
   ],
   "source": [
    "q1 = cc_data.quantile(.25)\n",
    "q3 = cc_data.quantile(0.75)\n",
    "iqr = q3-q1\n",
    "print(iqr)"
   ]
  },
  {
   "cell_type": "markdown",
   "metadata": {},
   "source": [
    "#### Remove Outliers"
   ]
  },
  {
   "cell_type": "code",
   "execution_count": 28,
   "metadata": {},
   "outputs": [
    {
     "name": "stdout",
     "output_type": "stream",
     "text": [
      "capping the  copy_mode\n",
      "capping the  profile\n",
      "capping the  runtime_in_seconds\n",
      "capping the  status\n",
      "capping the  records_processed\n",
      "capping the  size_in_bytes\n",
      "capping the  ignore_exit_errors\n",
      "capping the  ignore_table_errors\n",
      "capping the  lock_source_client\n",
      "capping the  parallel_number\n",
      "capping the  use_exclusive_locks\n",
      "capping the  use_table_segmenter\n",
      "capping the  records_processed_category\n",
      "capping the  size_category\n"
     ]
    }
   ],
   "source": [
    "def cap_data(df):\n",
    "    for col in df.columns:\n",
    "        print(\"capping the \",col)\n",
    "        if (((df[col].dtype)=='float64') | ((df[col].dtype)=='int64')):\n",
    "            percentiles = df[col].quantile([0.01,0.99]).values\n",
    "            df[col][df[col] <= percentiles[0]] = percentiles[0]\n",
    "            df[col][df[col] >= percentiles[1]] = percentiles[1]\n",
    "        else:\n",
    "            df[col]=df[col]\n",
    "    return df\n",
    "\n",
    "final_df=cap_data(cc_data)"
   ]
  },
  {
   "cell_type": "code",
   "execution_count": 29,
   "metadata": {},
   "outputs": [
    {
     "data": {
      "text/plain": [
       "<seaborn.axisgrid.PairGrid at 0x19b670b1828>"
      ]
     },
     "execution_count": 29,
     "metadata": {},
     "output_type": "execute_result"
    },
    {
     "data": {
      "image/png": "[encoded data removed]",
      "text/plain": [
       "<Figure size 540x540 with 12 Axes>"
      ]
     },
     "metadata": {
      "needs_background": "light"
     },
     "output_type": "display_data"
    }
   ],
   "source": [
    "sns.pairplot(cc_data,vars=['runtime_in_seconds','records_processed','size_in_bytes'])"
   ]
  },
  {
   "cell_type": "code",
   "execution_count": 30,
   "metadata": {},
   "outputs": [],
   "source": [
    "if not os.path.isfile('./dataset/cc_new_features_outliers_removed.csv'):\n",
    "    final_df.to_csv('./dataset/cc_new_features_outliers_removed.csv',index=None,header=True,)\n",
    "    final_df.head()"
   ]
  },
  {
   "cell_type": "code",
   "execution_count": 31,
   "metadata": {},
   "outputs": [
    {
     "data": {
      "text/plain": [
       "LOCAL     273\n",
       "REMOTE     32\n",
       "CMPLCL     22\n",
       "DELETE     12\n",
       "SIZE        9\n",
       "IMPORT      7\n",
       "EXPORT      6\n",
       "Name: copy_mode, dtype: int64"
      ]
     },
     "execution_count": 31,
     "metadata": {},
     "output_type": "execute_result"
    }
   ],
   "source": [
    "# Check the number of local client copy samples\n",
    "final_df.copy_mode.value_counts()"
   ]
  },
  {
   "cell_type": "markdown",
   "metadata": {},
   "source": [
    "### Standardization & Handling Categorical variables"
   ]
  },
  {
   "cell_type": "markdown",
   "metadata": {},
   "source": [
    "Earlier we replaced the NaN values in the settings variable (binary variables) to NOT_SET. \n",
    "- X       ---> SET\n",
    "- (SPACE) ----> NOT_SET     "
   ]
  },
  {
   "cell_type": "code",
   "execution_count": 32,
   "metadata": {},
   "outputs": [
    {
     "data": {
      "text/html": [
       "<div>\n",
       "<style scoped>\n",
       "    .dataframe tbody tr th:only-of-type {\n",
       "        vertical-align: middle;\n",
       "    }\n",
       "\n",
       "    .dataframe tbody tr th {\n",
       "        vertical-align: top;\n",
       "    }\n",
       "\n",
       "    .dataframe thead th {\n",
       "        text-align: right;\n",
       "    }\n",
       "</style>\n",
       "<table border=\"1\" class=\"dataframe\">\n",
       "  <thead>\n",
       "    <tr style=\"text-align: right;\">\n",
       "      <th></th>\n",
       "      <th>runtime_in_seconds</th>\n",
       "      <th>records_processed</th>\n",
       "      <th>size_in_bytes</th>\n",
       "      <th>parallel_number</th>\n",
       "      <th>copy_mode_CMPLCL</th>\n",
       "      <th>copy_mode_DELETE</th>\n",
       "      <th>copy_mode_EXPORT</th>\n",
       "      <th>copy_mode_IMPORT</th>\n",
       "      <th>copy_mode_LOCAL</th>\n",
       "      <th>copy_mode_REMOTE</th>\n",
       "      <th>...</th>\n",
       "      <th>use_table_segmenter_NOT_SET</th>\n",
       "      <th>use_table_segmenter_SET</th>\n",
       "      <th>records_processed_category_SMALL</th>\n",
       "      <th>records_processed_category_MEDIUM</th>\n",
       "      <th>records_processed_category_LARGE</th>\n",
       "      <th>records_processed_category_XL</th>\n",
       "      <th>size_category_SMALL</th>\n",
       "      <th>size_category_MEDIUM</th>\n",
       "      <th>size_category_LARGE</th>\n",
       "      <th>size_category_XL</th>\n",
       "    </tr>\n",
       "  </thead>\n",
       "  <tbody>\n",
       "    <tr>\n",
       "      <th>0</th>\n",
       "      <td>1290</td>\n",
       "      <td>30619937</td>\n",
       "      <td>2721723523</td>\n",
       "      <td>6</td>\n",
       "      <td>0</td>\n",
       "      <td>0</td>\n",
       "      <td>0</td>\n",
       "      <td>0</td>\n",
       "      <td>1</td>\n",
       "      <td>0</td>\n",
       "      <td>...</td>\n",
       "      <td>1</td>\n",
       "      <td>0</td>\n",
       "      <td>0</td>\n",
       "      <td>1</td>\n",
       "      <td>0</td>\n",
       "      <td>0</td>\n",
       "      <td>0</td>\n",
       "      <td>1</td>\n",
       "      <td>0</td>\n",
       "      <td>0</td>\n",
       "    </tr>\n",
       "    <tr>\n",
       "      <th>1</th>\n",
       "      <td>1192</td>\n",
       "      <td>48666506</td>\n",
       "      <td>3902691720</td>\n",
       "      <td>6</td>\n",
       "      <td>0</td>\n",
       "      <td>0</td>\n",
       "      <td>0</td>\n",
       "      <td>0</td>\n",
       "      <td>1</td>\n",
       "      <td>0</td>\n",
       "      <td>...</td>\n",
       "      <td>1</td>\n",
       "      <td>0</td>\n",
       "      <td>0</td>\n",
       "      <td>1</td>\n",
       "      <td>0</td>\n",
       "      <td>0</td>\n",
       "      <td>0</td>\n",
       "      <td>1</td>\n",
       "      <td>0</td>\n",
       "      <td>0</td>\n",
       "    </tr>\n",
       "    <tr>\n",
       "      <th>2</th>\n",
       "      <td>343</td>\n",
       "      <td>32653243</td>\n",
       "      <td>2246436756</td>\n",
       "      <td>7</td>\n",
       "      <td>0</td>\n",
       "      <td>0</td>\n",
       "      <td>0</td>\n",
       "      <td>0</td>\n",
       "      <td>1</td>\n",
       "      <td>0</td>\n",
       "      <td>...</td>\n",
       "      <td>1</td>\n",
       "      <td>0</td>\n",
       "      <td>0</td>\n",
       "      <td>1</td>\n",
       "      <td>0</td>\n",
       "      <td>0</td>\n",
       "      <td>0</td>\n",
       "      <td>1</td>\n",
       "      <td>0</td>\n",
       "      <td>0</td>\n",
       "    </tr>\n",
       "    <tr>\n",
       "      <th>3</th>\n",
       "      <td>1800</td>\n",
       "      <td>60944409</td>\n",
       "      <td>5673935415</td>\n",
       "      <td>10</td>\n",
       "      <td>0</td>\n",
       "      <td>0</td>\n",
       "      <td>0</td>\n",
       "      <td>0</td>\n",
       "      <td>0</td>\n",
       "      <td>1</td>\n",
       "      <td>...</td>\n",
       "      <td>1</td>\n",
       "      <td>0</td>\n",
       "      <td>0</td>\n",
       "      <td>1</td>\n",
       "      <td>0</td>\n",
       "      <td>0</td>\n",
       "      <td>0</td>\n",
       "      <td>1</td>\n",
       "      <td>0</td>\n",
       "      <td>0</td>\n",
       "    </tr>\n",
       "    <tr>\n",
       "      <th>4</th>\n",
       "      <td>249</td>\n",
       "      <td>118175632</td>\n",
       "      <td>8857599641</td>\n",
       "      <td>6</td>\n",
       "      <td>0</td>\n",
       "      <td>0</td>\n",
       "      <td>0</td>\n",
       "      <td>0</td>\n",
       "      <td>1</td>\n",
       "      <td>0</td>\n",
       "      <td>...</td>\n",
       "      <td>1</td>\n",
       "      <td>0</td>\n",
       "      <td>0</td>\n",
       "      <td>0</td>\n",
       "      <td>1</td>\n",
       "      <td>0</td>\n",
       "      <td>0</td>\n",
       "      <td>0</td>\n",
       "      <td>1</td>\n",
       "      <td>0</td>\n",
       "    </tr>\n",
       "  </tbody>\n",
       "</table>\n",
       "<p>5 rows × 42 columns</p>\n",
       "</div>"
      ],
      "text/plain": [
       "   runtime_in_seconds  records_processed  size_in_bytes  parallel_number  \\\n",
       "0                1290           30619937     2721723523                6   \n",
       "1                1192           48666506     3902691720                6   \n",
       "2                 343           32653243     2246436756                7   \n",
       "3                1800           60944409     5673935415               10   \n",
       "4                 249          118175632     8857599641                6   \n",
       "\n",
       "   copy_mode_CMPLCL  copy_mode_DELETE  copy_mode_EXPORT  copy_mode_IMPORT  \\\n",
       "0                 0                 0                 0                 0   \n",
       "1                 0                 0                 0                 0   \n",
       "2                 0                 0                 0                 0   \n",
       "3                 0                 0                 0                 0   \n",
       "4                 0                 0                 0                 0   \n",
       "\n",
       "   copy_mode_LOCAL   copy_mode_REMOTE  ...  use_table_segmenter_NOT_SET  \\\n",
       "0                 1                 0  ...                            1   \n",
       "1                 1                 0  ...                            1   \n",
       "2                 1                 0  ...                            1   \n",
       "3                 0                 1  ...                            1   \n",
       "4                 1                 0  ...                            1   \n",
       "\n",
       "   use_table_segmenter_SET  records_processed_category_SMALL  \\\n",
       "0                        0                                 0   \n",
       "1                        0                                 0   \n",
       "2                        0                                 0   \n",
       "3                        0                                 0   \n",
       "4                        0                                 0   \n",
       "\n",
       "   records_processed_category_MEDIUM  records_processed_category_LARGE  \\\n",
       "0                                  1                                 0   \n",
       "1                                  1                                 0   \n",
       "2                                  1                                 0   \n",
       "3                                  1                                 0   \n",
       "4                                  0                                 1   \n",
       "\n",
       "   records_processed_category_XL  size_category_SMALL  size_category_MEDIUM  \\\n",
       "0                              0                    0                     1   \n",
       "1                              0                    0                     1   \n",
       "2                              0                    0                     1   \n",
       "3                              0                    0                     1   \n",
       "4                              0                    0                     0   \n",
       "\n",
       "   size_category_LARGE  size_category_XL  \n",
       "0                    0                 0  \n",
       "1                    0                 0  \n",
       "2                    0                 0  \n",
       "3                    0                 0  \n",
       "4                    1                 0  \n",
       "\n",
       "[5 rows x 42 columns]"
      ]
     },
     "execution_count": 32,
     "metadata": {},
     "output_type": "execute_result"
    }
   ],
   "source": [
    "local_w_dummies = pd.get_dummies(final_df ,\n",
    "                                 columns=[col for col in list(final_df.select_dtypes(include=['category','object']).columns\n",
    ")\n",
    "                                         ] \n",
    ")\n",
    "\n",
    "cc_data.select_dtypes(include=['category','object']).columns\n",
    "local_w_dummies.head()"
   ]
  },
  {
   "cell_type": "code",
   "execution_count": 33,
   "metadata": {},
   "outputs": [],
   "source": [
    "if not os.path.isfile('./dataset/cc_cleaned_data_with_dummies.csv'):\n",
    "    local_w_dummies.to_csv('./dataset/cc_cleaned_data_with_dummies.csv')"
   ]
  },
  {
   "cell_type": "code",
   "execution_count": 34,
   "metadata": {},
   "outputs": [
    {
     "data": {
      "text/plain": [
       "<matplotlib.axes._subplots.AxesSubplot at 0x19b664a2b38>"
      ]
     },
     "execution_count": 34,
     "metadata": {},
     "output_type": "execute_result"
    },
    {
     "data": {
      "image/png": "[encoded data removed]",
      "text/plain": [
       "<Figure size 864x504 with 2 Axes>"
      ]
     },
     "metadata": {
      "needs_background": "light"
     },
     "output_type": "display_data"
    }
   ],
   "source": [
    "plt.figure(figsize=(12,7))\n",
    "sns.heatmap(local_w_dummies.corr())"
   ]
  },
  {
   "cell_type": "markdown",
   "metadata": {},
   "source": [
    "Lets separate the features and the target variables"
   ]
  },
  {
   "cell_type": "code",
   "execution_count": 35,
   "metadata": {},
   "outputs": [],
   "source": [
    "target = pd.DataFrame(local_w_dummies.runtime_in_seconds)\n",
    "features = local_w_dummies.drop(['runtime_in_seconds'],axis=1)"
   ]
  },
  {
   "cell_type": "markdown",
   "metadata": {},
   "source": [
    "Now lets scale all numeric features"
   ]
  },
  {
   "cell_type": "code",
   "execution_count": 36,
   "metadata": {},
   "outputs": [],
   "source": [
    "numeric_features = features.select_dtypes(include=['int64']).columns.tolist()\n",
    "\n",
    "scaler = StandardScaler()\n",
    "# scaler.fit(features[numeric_features])\n",
    "# features[numeric_features]=scaler.transform(features[numeric_features])\n",
    "# target = scaler.transform(target)"
   ]
  },
  {
   "cell_type": "code",
   "execution_count": 37,
   "metadata": {},
   "outputs": [
    {
     "data": {
      "text/html": [
       "<div>\n",
       "<style scoped>\n",
       "    .dataframe tbody tr th:only-of-type {\n",
       "        vertical-align: middle;\n",
       "    }\n",
       "\n",
       "    .dataframe tbody tr th {\n",
       "        vertical-align: top;\n",
       "    }\n",
       "\n",
       "    .dataframe thead th {\n",
       "        text-align: right;\n",
       "    }\n",
       "</style>\n",
       "<table border=\"1\" class=\"dataframe\">\n",
       "  <thead>\n",
       "    <tr style=\"text-align: right;\">\n",
       "      <th></th>\n",
       "      <th>records_processed</th>\n",
       "      <th>size_in_bytes</th>\n",
       "      <th>parallel_number</th>\n",
       "      <th>copy_mode_CMPLCL</th>\n",
       "      <th>copy_mode_DELETE</th>\n",
       "      <th>copy_mode_EXPORT</th>\n",
       "      <th>copy_mode_IMPORT</th>\n",
       "      <th>copy_mode_LOCAL</th>\n",
       "      <th>copy_mode_REMOTE</th>\n",
       "      <th>copy_mode_SIZE</th>\n",
       "      <th>...</th>\n",
       "      <th>use_table_segmenter_NOT_SET</th>\n",
       "      <th>use_table_segmenter_SET</th>\n",
       "      <th>records_processed_category_SMALL</th>\n",
       "      <th>records_processed_category_MEDIUM</th>\n",
       "      <th>records_processed_category_LARGE</th>\n",
       "      <th>records_processed_category_XL</th>\n",
       "      <th>size_category_SMALL</th>\n",
       "      <th>size_category_MEDIUM</th>\n",
       "      <th>size_category_LARGE</th>\n",
       "      <th>size_category_XL</th>\n",
       "    </tr>\n",
       "  </thead>\n",
       "  <tbody>\n",
       "    <tr>\n",
       "      <th>0</th>\n",
       "      <td>30619937</td>\n",
       "      <td>2721723523</td>\n",
       "      <td>6</td>\n",
       "      <td>0</td>\n",
       "      <td>0</td>\n",
       "      <td>0</td>\n",
       "      <td>0</td>\n",
       "      <td>1</td>\n",
       "      <td>0</td>\n",
       "      <td>0</td>\n",
       "      <td>...</td>\n",
       "      <td>1</td>\n",
       "      <td>0</td>\n",
       "      <td>0</td>\n",
       "      <td>1</td>\n",
       "      <td>0</td>\n",
       "      <td>0</td>\n",
       "      <td>0</td>\n",
       "      <td>1</td>\n",
       "      <td>0</td>\n",
       "      <td>0</td>\n",
       "    </tr>\n",
       "    <tr>\n",
       "      <th>1</th>\n",
       "      <td>48666506</td>\n",
       "      <td>3902691720</td>\n",
       "      <td>6</td>\n",
       "      <td>0</td>\n",
       "      <td>0</td>\n",
       "      <td>0</td>\n",
       "      <td>0</td>\n",
       "      <td>1</td>\n",
       "      <td>0</td>\n",
       "      <td>0</td>\n",
       "      <td>...</td>\n",
       "      <td>1</td>\n",
       "      <td>0</td>\n",
       "      <td>0</td>\n",
       "      <td>1</td>\n",
       "      <td>0</td>\n",
       "      <td>0</td>\n",
       "      <td>0</td>\n",
       "      <td>1</td>\n",
       "      <td>0</td>\n",
       "      <td>0</td>\n",
       "    </tr>\n",
       "    <tr>\n",
       "      <th>2</th>\n",
       "      <td>32653243</td>\n",
       "      <td>2246436756</td>\n",
       "      <td>7</td>\n",
       "      <td>0</td>\n",
       "      <td>0</td>\n",
       "      <td>0</td>\n",
       "      <td>0</td>\n",
       "      <td>1</td>\n",
       "      <td>0</td>\n",
       "      <td>0</td>\n",
       "      <td>...</td>\n",
       "      <td>1</td>\n",
       "      <td>0</td>\n",
       "      <td>0</td>\n",
       "      <td>1</td>\n",
       "      <td>0</td>\n",
       "      <td>0</td>\n",
       "      <td>0</td>\n",
       "      <td>1</td>\n",
       "      <td>0</td>\n",
       "      <td>0</td>\n",
       "    </tr>\n",
       "    <tr>\n",
       "      <th>3</th>\n",
       "      <td>60944409</td>\n",
       "      <td>5673935415</td>\n",
       "      <td>10</td>\n",
       "      <td>0</td>\n",
       "      <td>0</td>\n",
       "      <td>0</td>\n",
       "      <td>0</td>\n",
       "      <td>0</td>\n",
       "      <td>1</td>\n",
       "      <td>0</td>\n",
       "      <td>...</td>\n",
       "      <td>1</td>\n",
       "      <td>0</td>\n",
       "      <td>0</td>\n",
       "      <td>1</td>\n",
       "      <td>0</td>\n",
       "      <td>0</td>\n",
       "      <td>0</td>\n",
       "      <td>1</td>\n",
       "      <td>0</td>\n",
       "      <td>0</td>\n",
       "    </tr>\n",
       "    <tr>\n",
       "      <th>4</th>\n",
       "      <td>118175632</td>\n",
       "      <td>8857599641</td>\n",
       "      <td>6</td>\n",
       "      <td>0</td>\n",
       "      <td>0</td>\n",
       "      <td>0</td>\n",
       "      <td>0</td>\n",
       "      <td>1</td>\n",
       "      <td>0</td>\n",
       "      <td>0</td>\n",
       "      <td>...</td>\n",
       "      <td>1</td>\n",
       "      <td>0</td>\n",
       "      <td>0</td>\n",
       "      <td>0</td>\n",
       "      <td>1</td>\n",
       "      <td>0</td>\n",
       "      <td>0</td>\n",
       "      <td>0</td>\n",
       "      <td>1</td>\n",
       "      <td>0</td>\n",
       "    </tr>\n",
       "  </tbody>\n",
       "</table>\n",
       "<p>5 rows × 41 columns</p>\n",
       "</div>"
      ],
      "text/plain": [
       "   records_processed  size_in_bytes  parallel_number  copy_mode_CMPLCL  \\\n",
       "0           30619937     2721723523                6                 0   \n",
       "1           48666506     3902691720                6                 0   \n",
       "2           32653243     2246436756                7                 0   \n",
       "3           60944409     5673935415               10                 0   \n",
       "4          118175632     8857599641                6                 0   \n",
       "\n",
       "   copy_mode_DELETE  copy_mode_EXPORT  copy_mode_IMPORT  copy_mode_LOCAL   \\\n",
       "0                 0                 0                 0                 1   \n",
       "1                 0                 0                 0                 1   \n",
       "2                 0                 0                 0                 1   \n",
       "3                 0                 0                 0                 0   \n",
       "4                 0                 0                 0                 1   \n",
       "\n",
       "   copy_mode_REMOTE  copy_mode_SIZE    ...  use_table_segmenter_NOT_SET  \\\n",
       "0                 0                 0  ...                            1   \n",
       "1                 0                 0  ...                            1   \n",
       "2                 0                 0  ...                            1   \n",
       "3                 1                 0  ...                            1   \n",
       "4                 0                 0  ...                            1   \n",
       "\n",
       "   use_table_segmenter_SET  records_processed_category_SMALL  \\\n",
       "0                        0                                 0   \n",
       "1                        0                                 0   \n",
       "2                        0                                 0   \n",
       "3                        0                                 0   \n",
       "4                        0                                 0   \n",
       "\n",
       "   records_processed_category_MEDIUM  records_processed_category_LARGE  \\\n",
       "0                                  1                                 0   \n",
       "1                                  1                                 0   \n",
       "2                                  1                                 0   \n",
       "3                                  1                                 0   \n",
       "4                                  0                                 1   \n",
       "\n",
       "   records_processed_category_XL  size_category_SMALL  size_category_MEDIUM  \\\n",
       "0                              0                    0                     1   \n",
       "1                              0                    0                     1   \n",
       "2                              0                    0                     1   \n",
       "3                              0                    0                     1   \n",
       "4                              0                    0                     0   \n",
       "\n",
       "   size_category_LARGE  size_category_XL  \n",
       "0                    0                 0  \n",
       "1                    0                 0  \n",
       "2                    0                 0  \n",
       "3                    0                 0  \n",
       "4                    1                 0  \n",
       "\n",
       "[5 rows x 41 columns]"
      ]
     },
     "execution_count": 37,
     "metadata": {},
     "output_type": "execute_result"
    }
   ],
   "source": [
    "features.head()"
   ]
  },
  {
   "cell_type": "code",
   "execution_count": 58,
   "metadata": {},
   "outputs": [],
   "source": [
    "from sklearn.model_selection import train_test_split\n",
    "\n",
    "X_train, X_test , y_train , y_test = train_test_split(features ,target ,test_size = 0.3)"
   ]
  },
  {
   "cell_type": "code",
   "execution_count": null,
   "metadata": {},
   "outputs": [],
   "source": [
    "X_train = scaler.fit_transform(X_train)\n",
    "X_test = scaler.transform(X_test)\n",
    "\n",
    "scaler_y = StandardScaler()\n",
    "\n",
    "y_train = scaler_y.fit_transform(y_train)\n",
    "y_test = scaler_y.transform(y_test)"
   ]
  },
  {
   "cell_type": "code",
   "execution_count": 59,
   "metadata": {},
   "outputs": [],
   "source": [
    "import xgboost as xgb\n",
    "from sklearn.metrics import mean_squared_error\n",
    "xgbModel = xgb.XGBRegressor()\n",
    "# xgbModel.fit(X_train ,y_train)\n",
    "# y_xgb_predictions = xgbModel.predict(X_test)\n",
    "# print(y_xgb_predictions)\n"
   ]
  },
  {
   "cell_type": "code",
   "execution_count": 60,
   "metadata": {},
   "outputs": [
    {
     "name": "stdout",
     "output_type": "stream",
     "text": [
      "[01:54:51] WARNING: C:/Jenkins/workspace/xgboost-win64_release_0.90/src/objective/regression_obj.cu:152: reg:linear is now deprecated in favor of reg:squarederror.\n",
      "[01:54:51] WARNING: C:/Jenkins/workspace/xgboost-win64_release_0.90/src/objective/regression_obj.cu:152: reg:linear is now deprecated in favor of reg:squarederror.\n",
      "[01:54:51] WARNING: C:/Jenkins/workspace/xgboost-win64_release_0.90/src/objective/regression_obj.cu:152: reg:linear is now deprecated in favor of reg:squarederror.\n"
     ]
    }
   ],
   "source": [
    "params = {\"objective\":\"reg:linear\",'colsample_bytree': 0.3,'learning_rate': 0.1,\n",
    "                'max_depth': 15, 'alpha': 10}\n",
    "dtrain_mat = xgb.DMatrix(X_train, y_train)\n",
    "cv_results = xgb.cv(dtrain=dtrain_mat, params=params, nfold=3,\n",
    "                    num_boost_round=50,early_stopping_rounds=10,metrics=\"rmse\", as_pandas=True, seed=123)"
   ]
  },
  {
   "cell_type": "code",
   "execution_count": 61,
   "metadata": {},
   "outputs": [
    {
     "data": {
      "text/html": [
       "<div>\n",
       "<style scoped>\n",
       "    .dataframe tbody tr th:only-of-type {\n",
       "        vertical-align: middle;\n",
       "    }\n",
       "\n",
       "    .dataframe tbody tr th {\n",
       "        vertical-align: top;\n",
       "    }\n",
       "\n",
       "    .dataframe thead th {\n",
       "        text-align: right;\n",
       "    }\n",
       "</style>\n",
       "<table border=\"1\" class=\"dataframe\">\n",
       "  <thead>\n",
       "    <tr style=\"text-align: right;\">\n",
       "      <th></th>\n",
       "      <th>train-rmse-mean</th>\n",
       "      <th>train-rmse-std</th>\n",
       "      <th>test-rmse-mean</th>\n",
       "      <th>test-rmse-std</th>\n",
       "    </tr>\n",
       "  </thead>\n",
       "  <tbody>\n",
       "    <tr>\n",
       "      <th>0</th>\n",
       "      <td>3243</td>\n",
       "      <td>205</td>\n",
       "      <td>3244</td>\n",
       "      <td>460</td>\n",
       "    </tr>\n",
       "    <tr>\n",
       "      <th>1</th>\n",
       "      <td>3024</td>\n",
       "      <td>202</td>\n",
       "      <td>3038</td>\n",
       "      <td>467</td>\n",
       "    </tr>\n",
       "    <tr>\n",
       "      <th>2</th>\n",
       "      <td>2827</td>\n",
       "      <td>209</td>\n",
       "      <td>2862</td>\n",
       "      <td>472</td>\n",
       "    </tr>\n",
       "    <tr>\n",
       "      <th>3</th>\n",
       "      <td>2641</td>\n",
       "      <td>197</td>\n",
       "      <td>2712</td>\n",
       "      <td>476</td>\n",
       "    </tr>\n",
       "    <tr>\n",
       "      <th>4</th>\n",
       "      <td>2486</td>\n",
       "      <td>179</td>\n",
       "      <td>2594</td>\n",
       "      <td>481</td>\n",
       "    </tr>\n",
       "  </tbody>\n",
       "</table>\n",
       "</div>"
      ],
      "text/plain": [
       "   train-rmse-mean  train-rmse-std  test-rmse-mean  test-rmse-std\n",
       "0             3243             205            3244            460\n",
       "1             3024             202            3038            467\n",
       "2             2827             209            2862            472\n",
       "3             2641             197            2712            476\n",
       "4             2486             179            2594            481"
      ]
     },
     "execution_count": 61,
     "metadata": {},
     "output_type": "execute_result"
    }
   ],
   "source": [
    "cv_results.head()"
   ]
  },
  {
   "cell_type": "code",
   "execution_count": 62,
   "metadata": {},
   "outputs": [
    {
     "name": "stdout",
     "output_type": "stream",
     "text": [
      "49   1778\n",
      "Name: test-rmse-mean, dtype: float64\n"
     ]
    }
   ],
   "source": [
    "print((cv_results[\"test-rmse-mean\"]).tail(1))\n",
    "# predictions = [round(value) for value in y_xgb_predictions]\n",
    "# rmse = np.sqrt(mean_squared_error(y_test,y_xgb_predictions))"
   ]
  },
  {
   "cell_type": "code",
   "execution_count": 45,
   "metadata": {},
   "outputs": [],
   "source": [
    "# print(\"RMSE: %f\" % (rmse))"
   ]
  },
  {
   "cell_type": "code",
   "execution_count": 63,
   "metadata": {},
   "outputs": [
    {
     "data": {
      "text/plain": [
       "LinearRegression(copy_X=True, fit_intercept=False, n_jobs=None, normalize=False)"
      ]
     },
     "execution_count": 63,
     "metadata": {},
     "output_type": "execute_result"
    }
   ],
   "source": [
    "from sklearn.linear_model import LinearRegression\n",
    "regressor = LinearRegression(fit_intercept=False)\n",
    "regressor.fit(X_train ,y_train)"
   ]
  },
  {
   "cell_type": "code",
   "execution_count": 64,
   "metadata": {},
   "outputs": [],
   "source": [
    "linear_preds=regressor.predict(X_test)"
   ]
  },
  {
   "cell_type": "code",
   "execution_count": 65,
   "metadata": {},
   "outputs": [
    {
     "data": {
      "text/plain": [
       "0.4406681666064136"
      ]
     },
     "execution_count": 65,
     "metadata": {},
     "output_type": "execute_result"
    }
   ],
   "source": [
    "from sklearn.metrics import r2_score\n",
    "r2_score(y_test,linear_preds)"
   ]
  },
  {
   "cell_type": "code",
   "execution_count": 66,
   "metadata": {},
   "outputs": [
    {
     "data": {
      "text/plain": [
       "0.44066816660641356"
      ]
     },
     "execution_count": 66,
     "metadata": {},
     "output_type": "execute_result"
    }
   ],
   "source": [
    "regressor.score(X_test,y_test)"
   ]
  },
  {
   "cell_type": "code",
   "execution_count": 67,
   "metadata": {},
   "outputs": [
    {
     "name": "stdout",
     "output_type": "stream",
     "text": [
      "[01:55:22] WARNING: C:/Jenkins/workspace/xgboost-win64_release_0.90/src/objective/regression_obj.cu:152: reg:linear is now deprecated in favor of reg:squarederror.\n"
     ]
    },
    {
     "data": {
      "text/plain": [
       "RandomizedSearchCV(cv=9, error_score=nan,\n",
       "                   estimator=Pipeline(memory=None,\n",
       "                                      steps=[('xgbmod',\n",
       "                                              XGBRFRegressor(base_score=0.5,\n",
       "                                                             colsample_bylevel=1,\n",
       "                                                             colsample_bynode=0.8,\n",
       "                                                             colsample_bytree=1,\n",
       "                                                             gamma=0,\n",
       "                                                             learning_rate=1,\n",
       "                                                             max_delta_step=0,\n",
       "                                                             max_depth=3,\n",
       "                                                             min_child_weight=1,\n",
       "                                                             missing=None,\n",
       "                                                             n_estimators=100,\n",
       "                                                             n_jobs=1,\n",
       "                                                             nthread=None,\n",
       "                                                             objective='reg:linear',\n",
       "                                                             random_state=0,\n",
       "                                                             reg_alpha=...\n",
       "                                        'xgbmod__learning_rate': array([0.05, 0.1 , 0.15, 0.2 , 0.25, 0.3 , 0.35, 0.4 , 0.45, 0.5 , 0.55,\n",
       "       0.6 , 0.65, 0.7 , 0.75, 0.8 , 0.85, 0.9 , 0.95]),\n",
       "                                        'xgbmod__max_depth': array([ 3,  4,  5,  6,  7,  8,  9, 10, 11, 12, 13, 14, 15, 16, 17, 18, 19]),\n",
       "                                        'xgbmod__n_estimators': array([ 50, 100, 150]),\n",
       "                                        'xgbmod__objective': ['reg:linear'],\n",
       "                                        'xgbmod__subsample': array([0.05])},\n",
       "                   pre_dispatch='2*n_jobs', random_state=None, refit=True,\n",
       "                   return_train_score=True, scoring='r2', verbose=0)"
      ]
     },
     "execution_count": 67,
     "metadata": {},
     "output_type": "execute_result"
    }
   ],
   "source": [
    "from sklearn.pipeline import Pipeline\n",
    "from sklearn.model_selection import RandomizedSearchCV\n",
    "\n",
    "xgb_pipeline = Pipeline([(\"xgbmod\", xgb.XGBRFRegressor())])\n",
    "xgb_param_grid = {'xgbmod__subsample': np.arange(.05,.1,.05),\n",
    "                  'xgbmod__objective': ['reg:linear'],\n",
    "                  'xgbmod__max_depth': np.arange(3,20,1),\n",
    "                  'xgbmod__colsample_bytree':np.arange(0.1,1.05,0.05),\n",
    "                  'xgbmod__learning_rate':np.arange(0.05 ,1 ,0.05),\n",
    "                  'xgbmod__n_estimators':np.arange(50,200 ,50)}\n",
    "search = RandomizedSearchCV(estimator=xgb_pipeline,\n",
    "                            param_distributions=xgb_param_grid,\n",
    "                            n_iter=10,\n",
    "                            cv=9,\n",
    "#                             verbose=1,\n",
    "                            n_jobs =-1,\n",
    "                            scoring='r2',\n",
    "                            return_train_score=True)\n",
    "search.fit(X_train,y_train)"
   ]
  },
  {
   "cell_type": "code",
   "execution_count": 68,
   "metadata": {},
   "outputs": [
    {
     "data": {
      "text/plain": [
       "0.02112927779355452"
      ]
     },
     "execution_count": 68,
     "metadata": {},
     "output_type": "execute_result"
    }
   ],
   "source": [
    "search.best_score_"
   ]
  },
  {
   "cell_type": "code",
   "execution_count": 52,
   "metadata": {},
   "outputs": [],
   "source": [
    "from sklearn.linear_model import Ridge\n",
    "from sklearn.ensemble import RandomForestRegressor\n",
    "from sklearn.svm import SVR\n"
   ]
  },
  {
   "cell_type": "code",
   "execution_count": 53,
   "metadata": {},
   "outputs": [
    {
     "name": "stdout",
     "output_type": "stream",
     "text": [
      "0.5199103116566745\n",
      "0.7296932678330597\n",
      "1.0901329751335285\n",
      "0.4681625683384001\n"
     ]
    }
   ],
   "source": [
    "rr = Ridge(alpha=0.01)\n",
    "rr.fit(X_train, y_train) \n",
    "pred_train_rr= rr.predict(X_train)\n",
    "print(np.sqrt(mean_squared_error(y_train,pred_train_rr)))\n",
    "print(r2_score(y_train, pred_train_rr))\n",
    "\n",
    "pred_test_rr= rr.predict(X_test)\n",
    "print(np.sqrt(mean_squared_error(y_test,pred_test_rr))) \n",
    "print(r2_score(y_test, pred_test_rr))"
   ]
  },
  {
   "cell_type": "code",
   "execution_count": 54,
   "metadata": {},
   "outputs": [
    {
     "name": "stdout",
     "output_type": "stream",
     "text": [
      "0.5151181415680376\n",
      "0.7346533002274913\n",
      "1.1564532870162838\n",
      "0.40148348729650385\n"
     ]
    }
   ],
   "source": [
    "m_svr = SVR()\n",
    "m_svr.fit(X_train, y_train) \n",
    "pred_train_rr= m_svr.predict(X_train)\n",
    "print(np.sqrt(mean_squared_error(y_train,pred_train_rr)))\n",
    "print(r2_score(y_train, pred_train_rr))\n",
    "\n",
    "pred_test_rr= m_svr.predict(X_test)\n",
    "print(np.sqrt(mean_squared_error(y_test,pred_test_rr))) \n",
    "print(r2_score(y_test, pred_test_rr))"
   ]
  },
  {
   "cell_type": "code",
   "execution_count": 55,
   "metadata": {},
   "outputs": [
    {
     "name": "stdout",
     "output_type": "stream",
     "text": [
      "0.2558973282090192\n",
      "0.9345165574154854\n",
      "1.0890526891699093\n",
      "0.4692161129096517\n"
     ]
    }
   ],
   "source": [
    "m_rr = RandomForestRegressor()\n",
    "m_rr.fit(X_train, y_train) \n",
    "pred_train_rr= m_rr.predict(X_train)\n",
    "print(np.sqrt(mean_squared_error(y_train,pred_train_rr)))\n",
    "print(r2_score(y_train, pred_train_rr))\n",
    "\n",
    "pred_test_rr= m_rr.predict(X_test)\n",
    "print(np.sqrt(mean_squared_error(y_test,pred_test_rr))) \n",
    "print(r2_score(y_test, pred_test_rr))"
   ]
  },
  {
   "cell_type": "code",
   "execution_count": 56,
   "metadata": {},
   "outputs": [
    {
     "name": "stdout",
     "output_type": "stream",
     "text": [
      "1.1892822306628326\n",
      "0.3670202635799391\n"
     ]
    }
   ],
   "source": [
    "from sklearn.model_selection import GridSearchCV\n",
    "random_regressor = RandomForestRegressor()\n",
    "parameters = { 'max_features':np.arange(5,10),\n",
    "              'n_estimators':[500],\n",
    "              'min_samples_leaf': [10,50,100,200,500],\n",
    "              'max_depth': [5,10,15]}\n",
    "random_grid = GridSearchCV(random_regressor, parameters, cv = 5)\n",
    "random_grid.fit(X_train, y_train)\n",
    "pred_test_rr= random_grid.predict(X_test)\n",
    "print(np.sqrt(mean_squared_error(y_test,pred_test_rr))) \n",
    "print(r2_score(y_test, pred_test_rr))"
   ]
  },
  {
   "cell_type": "code",
   "execution_count": 57,
   "metadata": {},
   "outputs": [
    {
     "name": "stdout",
     "output_type": "stream",
     "text": [
      "1.0900890525097116\n",
      "0.46820542407321764\n"
     ]
    }
   ],
   "source": [
    "# Hyper parameter Tuning Ridge Regression\n",
    "ridge = Ridge()\n",
    "parameters = {'alpha':[0.01, 0.024, 0.025, 0.026, 0.03]}\n",
    "random_grid = GridSearchCV(ridge, parameters, cv = 9)\n",
    "random_grid.fit(X_train, y_train)\n",
    "pred_test_ridge= random_grid.predict(X_test)\n",
    "print(np.sqrt(mean_squared_error(y_test,pred_test_ridge))) \n",
    "print(r2_score(y_test, pred_test_ridge))"
   ]
  },
  {
   "cell_type": "code",
   "execution_count": null,
   "metadata": {},
   "outputs": [],
   "source": []
  },
  {
   "cell_type": "code",
   "execution_count": null,
   "metadata": {},
   "outputs": [],
   "source": []
  },
  {
   "cell_type": "markdown",
   "metadata": {},
   "source": [
    "#### Adding Polynomial Features\n",
    "\n",
    "As seen from the plot between size and records processed a straight line cannot capture the patterns in the data. \n",
    "This is __under-fitting__ . <br>\n",
    "To overcome under-fitting, we need to increase the complexity of the model"
   ]
  },
  {
   "cell_type": "code",
   "execution_count": null,
   "metadata": {},
   "outputs": [],
   "source": [
    "poly = PolynomialFeatures(degree=2,interaction_only=False,include_bias=False)\n",
    "poly_features = poly"
   ]
  },
  {
   "cell_type": "code",
   "execution_count": null,
   "metadata": {},
   "outputs": [],
   "source": []
  },
  {
   "cell_type": "code",
   "execution_count": null,
   "metadata": {},
   "outputs": [],
   "source": []
  },
  {
   "cell_type": "code",
   "execution_count": null,
   "metadata": {},
   "outputs": [],
   "source": []
  },
  {
   "cell_type": "code",
   "execution_count": null,
   "metadata": {},
   "outputs": [],
   "source": []
  },
  {
   "cell_type": "code",
   "execution_count": null,
   "metadata": {},
   "outputs": [],
   "source": []
  },
  {
   "cell_type": "code",
   "execution_count": null,
   "metadata": {},
   "outputs": [],
   "source": []
  },
  {
   "cell_type": "code",
   "execution_count": null,
   "metadata": {},
   "outputs": [],
   "source": []
  },
  {
   "cell_type": "code",
   "execution_count": null,
   "metadata": {},
   "outputs": [],
   "source": []
  },
  {
   "cell_type": "code",
   "execution_count": null,
   "metadata": {},
   "outputs": [],
   "source": []
  },
  {
   "cell_type": "code",
   "execution_count": null,
   "metadata": {},
   "outputs": [],
   "source": []
  },
  {
   "cell_type": "code",
   "execution_count": null,
   "metadata": {},
   "outputs": [],
   "source": []
  },
  {
   "cell_type": "code",
   "execution_count": null,
   "metadata": {},
   "outputs": [],
   "source": []
  },
  {
   "cell_type": "code",
   "execution_count": null,
   "metadata": {},
   "outputs": [],
   "source": []
  },
  {
   "cell_type": "code",
   "execution_count": null,
   "metadata": {},
   "outputs": [],
   "source": []
  }
 ],
 "metadata": {
  "kernelspec": {
   "display_name": "Python 3",
   "language": "python",
   "name": "python3"
  },
  "language_info": {
   "codemirror_mode": {
    "name": "ipython",
    "version": 3
   },
   "file_extension": ".py",
   "mimetype": "text/x-python",
   "name": "python",
   "nbconvert_exporter": "python",
   "pygments_lexer": "ipython3",
   "version": "3.7.3"
  }
 },
 "nbformat": 4,
 "nbformat_minor": 4
}
