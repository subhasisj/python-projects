{
 "cells": [
  {
   "cell_type": "code",
   "execution_count": 1,
   "metadata": {
    "scrolled": true
   },
   "outputs": [
    {
     "data": {
      "text/html": [
       "        <script type=\"text/javascript\">\n",
       "        window.PlotlyConfig = {MathJaxConfig: 'local'};\n",
       "        if (window.MathJax) {MathJax.Hub.Config({SVG: {font: \"STIX-Web\"}});}\n",
       "        if (typeof require !== 'undefined') {\n",
       "        require.undef(\"plotly\");\n",
       "        requirejs.config({\n",
       "            paths: {\n",
       "                'plotly': ['https://cdn.plot.ly/plotly-latest.min']\n",
       "            }\n",
       "        });\n",
       "        require(['plotly'], function(Plotly) {\n",
       "            window._Plotly = Plotly;\n",
       "        });\n",
       "        }\n",
       "        </script>\n",
       "        "
      ]
     },
     "metadata": {},
     "output_type": "display_data"
    }
   ],
   "source": [
    "import pandas as pd\n",
    "import numpy as np\n",
    "from sklearn.preprocessing import StandardScaler, RobustScaler\n",
    "import matplotlib.pyplot as plt\n",
    "import warnings\n",
    "import os\n",
    "import seaborn as sns\n",
    "import chart_studio.plotly as py\n",
    "import plotly.graph_objs as go\n",
    "import plotly.io as pio\n",
    "from plotly.offline import plot , iplot ,init_notebook_mode\n",
    "init_notebook_mode(connected=True)\n",
    "%matplotlib inline\n",
    "\n",
    "warnings.filterwarnings('ignore')\n"
   ]
  },
  {
   "cell_type": "code",
   "execution_count": 2,
   "metadata": {},
   "outputs": [
    {
     "data": {
      "text/html": [
       "<div>\n",
       "<style scoped>\n",
       "    .dataframe tbody tr th:only-of-type {\n",
       "        vertical-align: middle;\n",
       "    }\n",
       "\n",
       "    .dataframe tbody tr th {\n",
       "        vertical-align: top;\n",
       "    }\n",
       "\n",
       "    .dataframe thead th {\n",
       "        text-align: right;\n",
       "    }\n",
       "</style>\n",
       "<table border=\"1\" class=\"dataframe\">\n",
       "  <thead>\n",
       "    <tr style=\"text-align: right;\">\n",
       "      <th></th>\n",
       "      <th>timestamp</th>\n",
       "      <th>copy_mode</th>\n",
       "      <th>profile</th>\n",
       "      <th>total_runtime</th>\n",
       "      <th>status</th>\n",
       "      <th>records_processed</th>\n",
       "      <th>total_data_processed</th>\n",
       "    </tr>\n",
       "  </thead>\n",
       "  <tbody>\n",
       "    <tr>\n",
       "      <th>0</th>\n",
       "      <td>20190819131549</td>\n",
       "      <td>LOCAL</td>\n",
       "      <td>SAP_UCSV</td>\n",
       "      <td>1290</td>\n",
       "      <td>FINISHED</td>\n",
       "      <td>30619937</td>\n",
       "      <td>2721723523</td>\n",
       "    </tr>\n",
       "    <tr>\n",
       "      <th>1</th>\n",
       "      <td>20190812065310</td>\n",
       "      <td>LOCAL</td>\n",
       "      <td>SAP_UCSV</td>\n",
       "      <td>1192</td>\n",
       "      <td>FINISHED</td>\n",
       "      <td>48666506</td>\n",
       "      <td>3902691720</td>\n",
       "    </tr>\n",
       "    <tr>\n",
       "      <th>2</th>\n",
       "      <td>20190902092042</td>\n",
       "      <td>LOCAL</td>\n",
       "      <td>SAP_UCSV</td>\n",
       "      <td>343</td>\n",
       "      <td>CANCELLED</td>\n",
       "      <td>32653243</td>\n",
       "      <td>2246436756</td>\n",
       "    </tr>\n",
       "    <tr>\n",
       "      <th>3</th>\n",
       "      <td>20190907063037</td>\n",
       "      <td>REMOTE</td>\n",
       "      <td>SAP_ALL</td>\n",
       "      <td>1800</td>\n",
       "      <td>FINISHED</td>\n",
       "      <td>60944409</td>\n",
       "      <td>5673935415</td>\n",
       "    </tr>\n",
       "    <tr>\n",
       "      <th>4</th>\n",
       "      <td>20190902064418</td>\n",
       "      <td>LOCAL</td>\n",
       "      <td>SAP_UCSV</td>\n",
       "      <td>249</td>\n",
       "      <td>CANCELLED</td>\n",
       "      <td>118175632</td>\n",
       "      <td>8857599641</td>\n",
       "    </tr>\n",
       "  </tbody>\n",
       "</table>\n",
       "</div>"
      ],
      "text/plain": [
       "        timestamp copy_mode   profile  total_runtime           status  \\\n",
       "0  20190819131549    LOCAL   SAP_UCSV           1290  FINISHED          \n",
       "1  20190812065310    LOCAL   SAP_UCSV           1192  FINISHED          \n",
       "2  20190902092042    LOCAL   SAP_UCSV            343  CANCELLED         \n",
       "3  20190907063037    REMOTE  SAP_ALL            1800  FINISHED          \n",
       "4  20190902064418    LOCAL   SAP_UCSV            249  CANCELLED         \n",
       "\n",
       "   records_processed  total_data_processed  \n",
       "0           30619937            2721723523  \n",
       "1           48666506            3902691720  \n",
       "2           32653243            2246436756  \n",
       "3           60944409            5673935415  \n",
       "4          118175632            8857599641  "
      ]
     },
     "execution_count": 2,
     "metadata": {},
     "output_type": "execute_result"
    }
   ],
   "source": [
    "pd.set_option('display.float_format', lambda x: '%.f' % x)\n",
    "data = pd.read_excel(r'dataset\\flow_data.xlsx')\n",
    "data.head()"
   ]
  },
  {
   "cell_type": "code",
   "execution_count": 3,
   "metadata": {},
   "outputs": [
    {
     "data": {
      "text/plain": [
       "(362, 7)"
      ]
     },
     "execution_count": 3,
     "metadata": {},
     "output_type": "execute_result"
    }
   ],
   "source": [
    "data.shape"
   ]
  },
  {
   "cell_type": "code",
   "execution_count": 4,
   "metadata": {
    "scrolled": true
   },
   "outputs": [
    {
     "data": {
      "text/html": [
       "<div>\n",
       "<style scoped>\n",
       "    .dataframe tbody tr th:only-of-type {\n",
       "        vertical-align: middle;\n",
       "    }\n",
       "\n",
       "    .dataframe tbody tr th {\n",
       "        vertical-align: top;\n",
       "    }\n",
       "\n",
       "    .dataframe thead th {\n",
       "        text-align: right;\n",
       "    }\n",
       "</style>\n",
       "<table border=\"1\" class=\"dataframe\">\n",
       "  <thead>\n",
       "    <tr style=\"text-align: right;\">\n",
       "      <th></th>\n",
       "      <th>timestamp</th>\n",
       "      <th>setting_name</th>\n",
       "      <th>setting_value</th>\n",
       "    </tr>\n",
       "  </thead>\n",
       "  <tbody>\n",
       "    <tr>\n",
       "      <th>0</th>\n",
       "      <td>20191119080640</td>\n",
       "      <td>IGNORE_EXIT_ERRORS</td>\n",
       "      <td>X</td>\n",
       "    </tr>\n",
       "    <tr>\n",
       "      <th>1</th>\n",
       "      <td>20191119080640</td>\n",
       "      <td>IGNORE_TABLE_ERRORS</td>\n",
       "      <td>NaN</td>\n",
       "    </tr>\n",
       "    <tr>\n",
       "      <th>2</th>\n",
       "      <td>20191119080640</td>\n",
       "      <td>LOCK_SOURCE_CLIENT</td>\n",
       "      <td>NaN</td>\n",
       "    </tr>\n",
       "    <tr>\n",
       "      <th>3</th>\n",
       "      <td>20191119080640</td>\n",
       "      <td>PARALLEL_NUMBER</td>\n",
       "      <td>30</td>\n",
       "    </tr>\n",
       "    <tr>\n",
       "      <th>4</th>\n",
       "      <td>20191119080640</td>\n",
       "      <td>USE_EXCLUSIVE_LOCKS</td>\n",
       "      <td>X</td>\n",
       "    </tr>\n",
       "  </tbody>\n",
       "</table>\n",
       "</div>"
      ],
      "text/plain": [
       "        timestamp                    setting_name setting_value\n",
       "0  20191119080640  IGNORE_EXIT_ERRORS                         X\n",
       "1  20191119080640  IGNORE_TABLE_ERRORS                      NaN\n",
       "2  20191119080640  LOCK_SOURCE_CLIENT                       NaN\n",
       "3  20191119080640  PARALLEL_NUMBER                           30\n",
       "4  20191119080640  USE_EXCLUSIVE_LOCKS                        X"
      ]
     },
     "execution_count": 4,
     "metadata": {},
     "output_type": "execute_result"
    }
   ],
   "source": [
    "# pd.set_option('display.precision',9)\n",
    "settings_data = pd.read_excel(r'dataset\\flow_settings.xlsx')\n",
    "settings_data.head()"
   ]
  },
  {
   "cell_type": "code",
   "execution_count": 5,
   "metadata": {},
   "outputs": [
    {
     "data": {
      "text/html": [
       "<div>\n",
       "<style scoped>\n",
       "    .dataframe tbody tr th:only-of-type {\n",
       "        vertical-align: middle;\n",
       "    }\n",
       "\n",
       "    .dataframe tbody tr th {\n",
       "        vertical-align: top;\n",
       "    }\n",
       "\n",
       "    .dataframe thead th {\n",
       "        text-align: right;\n",
       "    }\n",
       "</style>\n",
       "<table border=\"1\" class=\"dataframe\">\n",
       "  <thead>\n",
       "    <tr style=\"text-align: right;\">\n",
       "      <th></th>\n",
       "      <th>timestamp</th>\n",
       "      <th>IGNORE_EXIT_ERRORS</th>\n",
       "      <th>IGNORE_TABLE_ERRORS</th>\n",
       "      <th>LOCK_SOURCE_CLIENT</th>\n",
       "      <th>PARALLEL_NUMBER</th>\n",
       "      <th>USE_EXCLUSIVE_LOCKS</th>\n",
       "      <th>USE_TABLE_SEGMENTER</th>\n",
       "    </tr>\n",
       "  </thead>\n",
       "  <tbody>\n",
       "    <tr>\n",
       "      <th>468</th>\n",
       "      <td>20191028100236</td>\n",
       "      <td>X</td>\n",
       "      <td>NaN</td>\n",
       "      <td>NaN</td>\n",
       "      <td>6</td>\n",
       "      <td>X</td>\n",
       "      <td>NaN</td>\n",
       "    </tr>\n",
       "    <tr>\n",
       "      <th>250</th>\n",
       "      <td>20190715193021</td>\n",
       "      <td>NaN</td>\n",
       "      <td>NaN</td>\n",
       "      <td>NaN</td>\n",
       "      <td>7</td>\n",
       "      <td>NaN</td>\n",
       "      <td>NaN</td>\n",
       "    </tr>\n",
       "    <tr>\n",
       "      <th>347</th>\n",
       "      <td>20190824060814</td>\n",
       "      <td>NaN</td>\n",
       "      <td>NaN</td>\n",
       "      <td>X</td>\n",
       "      <td>1</td>\n",
       "      <td>X</td>\n",
       "      <td>X</td>\n",
       "    </tr>\n",
       "    <tr>\n",
       "      <th>76</th>\n",
       "      <td>20190410090746</td>\n",
       "      <td>NaN</td>\n",
       "      <td>NaN</td>\n",
       "      <td>X</td>\n",
       "      <td>10</td>\n",
       "      <td>NaN</td>\n",
       "      <td>NaN</td>\n",
       "    </tr>\n",
       "    <tr>\n",
       "      <th>3</th>\n",
       "      <td>20190131121445</td>\n",
       "      <td>NaN</td>\n",
       "      <td>NaN</td>\n",
       "      <td>NaN</td>\n",
       "      <td>10</td>\n",
       "      <td>NaN</td>\n",
       "      <td>NaN</td>\n",
       "    </tr>\n",
       "  </tbody>\n",
       "</table>\n",
       "</div>"
      ],
      "text/plain": [
       "          timestamp IGNORE_EXIT_ERRORS              \\\n",
       "468  20191028100236                              X   \n",
       "250  20190715193021                            NaN   \n",
       "347  20190824060814                            NaN   \n",
       "76   20190410090746                            NaN   \n",
       "3    20190131121445                            NaN   \n",
       "\n",
       "    IGNORE_TABLE_ERRORS            LOCK_SOURCE_CLIENT              \\\n",
       "468                            NaN                            NaN   \n",
       "250                            NaN                            NaN   \n",
       "347                            NaN                              X   \n",
       "76                             NaN                              X   \n",
       "3                              NaN                            NaN   \n",
       "\n",
       "    PARALLEL_NUMBER                USE_EXCLUSIVE_LOCKS             \\\n",
       "468                              6                              X   \n",
       "250                              7                            NaN   \n",
       "347                              1                              X   \n",
       "76                              10                            NaN   \n",
       "3                               10                            NaN   \n",
       "\n",
       "    USE_TABLE_SEGMENTER             \n",
       "468                            NaN  \n",
       "250                            NaN  \n",
       "347                              X  \n",
       "76                             NaN  \n",
       "3                              NaN  "
      ]
     },
     "execution_count": 5,
     "metadata": {},
     "output_type": "execute_result"
    }
   ],
   "source": [
    "flow_settings=pd.DataFrame(settings_data.pivot(index='timestamp', columns='setting_name', values='setting_value')).reset_index().rename_axis(None, axis=1)\n",
    "flow_settings.sample(5)"
   ]
  },
  {
   "cell_type": "markdown",
   "metadata": {},
   "source": [
    "##### Lets join both tables"
   ]
  },
  {
   "cell_type": "code",
   "execution_count": 6,
   "metadata": {},
   "outputs": [
    {
     "data": {
      "text/html": [
       "<div>\n",
       "<style scoped>\n",
       "    .dataframe tbody tr th:only-of-type {\n",
       "        vertical-align: middle;\n",
       "    }\n",
       "\n",
       "    .dataframe tbody tr th {\n",
       "        vertical-align: top;\n",
       "    }\n",
       "\n",
       "    .dataframe thead th {\n",
       "        text-align: right;\n",
       "    }\n",
       "</style>\n",
       "<table border=\"1\" class=\"dataframe\">\n",
       "  <thead>\n",
       "    <tr style=\"text-align: right;\">\n",
       "      <th></th>\n",
       "      <th>timestamp</th>\n",
       "      <th>copy_mode</th>\n",
       "      <th>profile</th>\n",
       "      <th>total_runtime</th>\n",
       "      <th>status</th>\n",
       "      <th>records_processed</th>\n",
       "      <th>total_data_processed</th>\n",
       "      <th>IGNORE_EXIT_ERRORS</th>\n",
       "      <th>IGNORE_TABLE_ERRORS</th>\n",
       "      <th>LOCK_SOURCE_CLIENT</th>\n",
       "      <th>PARALLEL_NUMBER</th>\n",
       "      <th>USE_EXCLUSIVE_LOCKS</th>\n",
       "      <th>USE_TABLE_SEGMENTER</th>\n",
       "    </tr>\n",
       "  </thead>\n",
       "  <tbody>\n",
       "    <tr>\n",
       "      <th>0</th>\n",
       "      <td>20190819131549</td>\n",
       "      <td>LOCAL</td>\n",
       "      <td>SAP_UCSV</td>\n",
       "      <td>1290</td>\n",
       "      <td>FINISHED</td>\n",
       "      <td>30619937</td>\n",
       "      <td>2721723523</td>\n",
       "      <td>X</td>\n",
       "      <td>NaN</td>\n",
       "      <td>NaN</td>\n",
       "      <td>6</td>\n",
       "      <td>NaN</td>\n",
       "      <td>NaN</td>\n",
       "    </tr>\n",
       "    <tr>\n",
       "      <th>1</th>\n",
       "      <td>20190812065310</td>\n",
       "      <td>LOCAL</td>\n",
       "      <td>SAP_UCSV</td>\n",
       "      <td>1192</td>\n",
       "      <td>FINISHED</td>\n",
       "      <td>48666506</td>\n",
       "      <td>3902691720</td>\n",
       "      <td>X</td>\n",
       "      <td>NaN</td>\n",
       "      <td>NaN</td>\n",
       "      <td>6</td>\n",
       "      <td>NaN</td>\n",
       "      <td>NaN</td>\n",
       "    </tr>\n",
       "    <tr>\n",
       "      <th>2</th>\n",
       "      <td>20190902092042</td>\n",
       "      <td>LOCAL</td>\n",
       "      <td>SAP_UCSV</td>\n",
       "      <td>343</td>\n",
       "      <td>CANCELLED</td>\n",
       "      <td>32653243</td>\n",
       "      <td>2246436756</td>\n",
       "      <td>NaN</td>\n",
       "      <td>NaN</td>\n",
       "      <td>X</td>\n",
       "      <td>7</td>\n",
       "      <td>X</td>\n",
       "      <td>NaN</td>\n",
       "    </tr>\n",
       "    <tr>\n",
       "      <th>3</th>\n",
       "      <td>20190907063037</td>\n",
       "      <td>REMOTE</td>\n",
       "      <td>SAP_ALL</td>\n",
       "      <td>1800</td>\n",
       "      <td>FINISHED</td>\n",
       "      <td>60944409</td>\n",
       "      <td>5673935415</td>\n",
       "      <td>X</td>\n",
       "      <td>X</td>\n",
       "      <td>X</td>\n",
       "      <td>10</td>\n",
       "      <td>NaN</td>\n",
       "      <td>NaN</td>\n",
       "    </tr>\n",
       "    <tr>\n",
       "      <th>4</th>\n",
       "      <td>20190902064418</td>\n",
       "      <td>LOCAL</td>\n",
       "      <td>SAP_UCSV</td>\n",
       "      <td>249</td>\n",
       "      <td>CANCELLED</td>\n",
       "      <td>118175632</td>\n",
       "      <td>8857599641</td>\n",
       "      <td>X</td>\n",
       "      <td>NaN</td>\n",
       "      <td>NaN</td>\n",
       "      <td>6</td>\n",
       "      <td>X</td>\n",
       "      <td>NaN</td>\n",
       "    </tr>\n",
       "  </tbody>\n",
       "</table>\n",
       "</div>"
      ],
      "text/plain": [
       "        timestamp copy_mode   profile  total_runtime           status  \\\n",
       "0  20190819131549    LOCAL   SAP_UCSV           1290  FINISHED          \n",
       "1  20190812065310    LOCAL   SAP_UCSV           1192  FINISHED          \n",
       "2  20190902092042    LOCAL   SAP_UCSV            343  CANCELLED         \n",
       "3  20190907063037    REMOTE  SAP_ALL            1800  FINISHED          \n",
       "4  20190902064418    LOCAL   SAP_UCSV            249  CANCELLED         \n",
       "\n",
       "   records_processed  total_data_processed IGNORE_EXIT_ERRORS              \\\n",
       "0           30619937            2721723523                              X   \n",
       "1           48666506            3902691720                              X   \n",
       "2           32653243            2246436756                            NaN   \n",
       "3           60944409            5673935415                              X   \n",
       "4          118175632            8857599641                              X   \n",
       "\n",
       "  IGNORE_TABLE_ERRORS            LOCK_SOURCE_CLIENT              \\\n",
       "0                            NaN                            NaN   \n",
       "1                            NaN                            NaN   \n",
       "2                            NaN                              X   \n",
       "3                              X                              X   \n",
       "4                            NaN                            NaN   \n",
       "\n",
       "  PARALLEL_NUMBER                USE_EXCLUSIVE_LOCKS             \\\n",
       "0                              6                            NaN   \n",
       "1                              6                            NaN   \n",
       "2                              7                              X   \n",
       "3                             10                            NaN   \n",
       "4                              6                              X   \n",
       "\n",
       "  USE_TABLE_SEGMENTER             \n",
       "0                            NaN  \n",
       "1                            NaN  \n",
       "2                            NaN  \n",
       "3                            NaN  \n",
       "4                            NaN  "
      ]
     },
     "execution_count": 6,
     "metadata": {},
     "output_type": "execute_result"
    }
   ],
   "source": [
    "cc_data = data.join(flow_settings.set_index('timestamp'),on= 'timestamp',how='inner')\n",
    "cc_data.head()"
   ]
  },
  {
   "cell_type": "code",
   "execution_count": 7,
   "metadata": {
    "scrolled": true
   },
   "outputs": [
    {
     "data": {
      "text/html": [
       "<div>\n",
       "<style scoped>\n",
       "    .dataframe tbody tr th:only-of-type {\n",
       "        vertical-align: middle;\n",
       "    }\n",
       "\n",
       "    .dataframe tbody tr th {\n",
       "        vertical-align: top;\n",
       "    }\n",
       "\n",
       "    .dataframe thead th {\n",
       "        text-align: right;\n",
       "    }\n",
       "</style>\n",
       "<table border=\"1\" class=\"dataframe\">\n",
       "  <thead>\n",
       "    <tr style=\"text-align: right;\">\n",
       "      <th></th>\n",
       "      <th>timestamp</th>\n",
       "      <th>copy_mode</th>\n",
       "      <th>profile</th>\n",
       "      <th>total_runtime</th>\n",
       "      <th>status</th>\n",
       "      <th>records_processed</th>\n",
       "      <th>total_data_processed</th>\n",
       "      <th>ignore_exit_errors</th>\n",
       "      <th>ignore_table_errors</th>\n",
       "      <th>lock_source_client</th>\n",
       "      <th>parallel_number</th>\n",
       "      <th>use_exclusive_locks</th>\n",
       "      <th>use_table_segmenter</th>\n",
       "    </tr>\n",
       "  </thead>\n",
       "  <tbody>\n",
       "    <tr>\n",
       "      <th>0</th>\n",
       "      <td>20190819131549</td>\n",
       "      <td>LOCAL</td>\n",
       "      <td>SAP_UCSV</td>\n",
       "      <td>1290</td>\n",
       "      <td>FINISHED</td>\n",
       "      <td>30619937</td>\n",
       "      <td>2721723523</td>\n",
       "      <td>X</td>\n",
       "      <td>NaN</td>\n",
       "      <td>NaN</td>\n",
       "      <td>6</td>\n",
       "      <td>NaN</td>\n",
       "      <td>NaN</td>\n",
       "    </tr>\n",
       "    <tr>\n",
       "      <th>1</th>\n",
       "      <td>20190812065310</td>\n",
       "      <td>LOCAL</td>\n",
       "      <td>SAP_UCSV</td>\n",
       "      <td>1192</td>\n",
       "      <td>FINISHED</td>\n",
       "      <td>48666506</td>\n",
       "      <td>3902691720</td>\n",
       "      <td>X</td>\n",
       "      <td>NaN</td>\n",
       "      <td>NaN</td>\n",
       "      <td>6</td>\n",
       "      <td>NaN</td>\n",
       "      <td>NaN</td>\n",
       "    </tr>\n",
       "    <tr>\n",
       "      <th>2</th>\n",
       "      <td>20190902092042</td>\n",
       "      <td>LOCAL</td>\n",
       "      <td>SAP_UCSV</td>\n",
       "      <td>343</td>\n",
       "      <td>CANCELLED</td>\n",
       "      <td>32653243</td>\n",
       "      <td>2246436756</td>\n",
       "      <td>NaN</td>\n",
       "      <td>NaN</td>\n",
       "      <td>X</td>\n",
       "      <td>7</td>\n",
       "      <td>X</td>\n",
       "      <td>NaN</td>\n",
       "    </tr>\n",
       "    <tr>\n",
       "      <th>3</th>\n",
       "      <td>20190907063037</td>\n",
       "      <td>REMOTE</td>\n",
       "      <td>SAP_ALL</td>\n",
       "      <td>1800</td>\n",
       "      <td>FINISHED</td>\n",
       "      <td>60944409</td>\n",
       "      <td>5673935415</td>\n",
       "      <td>X</td>\n",
       "      <td>X</td>\n",
       "      <td>X</td>\n",
       "      <td>10</td>\n",
       "      <td>NaN</td>\n",
       "      <td>NaN</td>\n",
       "    </tr>\n",
       "    <tr>\n",
       "      <th>4</th>\n",
       "      <td>20190902064418</td>\n",
       "      <td>LOCAL</td>\n",
       "      <td>SAP_UCSV</td>\n",
       "      <td>249</td>\n",
       "      <td>CANCELLED</td>\n",
       "      <td>118175632</td>\n",
       "      <td>8857599641</td>\n",
       "      <td>X</td>\n",
       "      <td>NaN</td>\n",
       "      <td>NaN</td>\n",
       "      <td>6</td>\n",
       "      <td>X</td>\n",
       "      <td>NaN</td>\n",
       "    </tr>\n",
       "  </tbody>\n",
       "</table>\n",
       "</div>"
      ],
      "text/plain": [
       "        timestamp copy_mode   profile  total_runtime           status  \\\n",
       "0  20190819131549    LOCAL   SAP_UCSV           1290  FINISHED          \n",
       "1  20190812065310    LOCAL   SAP_UCSV           1192  FINISHED          \n",
       "2  20190902092042    LOCAL   SAP_UCSV            343  CANCELLED         \n",
       "3  20190907063037    REMOTE  SAP_ALL            1800  FINISHED          \n",
       "4  20190902064418    LOCAL   SAP_UCSV            249  CANCELLED         \n",
       "\n",
       "   records_processed  total_data_processed ignore_exit_errors              \\\n",
       "0           30619937            2721723523                              X   \n",
       "1           48666506            3902691720                              X   \n",
       "2           32653243            2246436756                            NaN   \n",
       "3           60944409            5673935415                              X   \n",
       "4          118175632            8857599641                              X   \n",
       "\n",
       "  ignore_table_errors            lock_source_client              \\\n",
       "0                            NaN                            NaN   \n",
       "1                            NaN                            NaN   \n",
       "2                            NaN                              X   \n",
       "3                              X                              X   \n",
       "4                            NaN                            NaN   \n",
       "\n",
       "  parallel_number                use_exclusive_locks             \\\n",
       "0                              6                            NaN   \n",
       "1                              6                            NaN   \n",
       "2                              7                              X   \n",
       "3                             10                            NaN   \n",
       "4                              6                              X   \n",
       "\n",
       "  use_table_segmenter             \n",
       "0                            NaN  \n",
       "1                            NaN  \n",
       "2                            NaN  \n",
       "3                            NaN  \n",
       "4                            NaN  "
      ]
     },
     "execution_count": 7,
     "metadata": {},
     "output_type": "execute_result"
    }
   ],
   "source": [
    "cc_data.columns = map(str.lower,cc_data.columns)\n",
    "cc_data.head()"
   ]
  },
  {
   "cell_type": "markdown",
   "metadata": {},
   "source": [
    "### Cleaning Data"
   ]
  },
  {
   "cell_type": "code",
   "execution_count": 8,
   "metadata": {},
   "outputs": [
    {
     "data": {
      "text/plain": [
       "timestamp                           0\n",
       "copy_mode                           0\n",
       "profile                             0\n",
       "total_runtime                       0\n",
       "status                              0\n",
       "records_processed                   0\n",
       "total_data_processed                0\n",
       "ignore_exit_errors                162\n",
       "ignore_table_errors               278\n",
       "lock_source_client                212\n",
       "parallel_number                     0\n",
       "use_exclusive_locks               212\n",
       "use_table_segmenter               335\n",
       "dtype: int64"
      ]
     },
     "execution_count": 8,
     "metadata": {},
     "output_type": "execute_result"
    }
   ],
   "source": [
    "# Lets see how many NaN values are present\n",
    "cc_data.isna().sum()"
   ]
  },
  {
   "cell_type": "code",
   "execution_count": 9,
   "metadata": {},
   "outputs": [
    {
     "data": {
      "text/plain": [
       "timestamp                         0\n",
       "copy_mode                         0\n",
       "profile                           0\n",
       "total_runtime                     0\n",
       "status                            0\n",
       "records_processed                 0\n",
       "total_data_processed              0\n",
       "ignore_exit_errors                0\n",
       "ignore_table_errors               0\n",
       "lock_source_client                0\n",
       "parallel_number                   0\n",
       "use_exclusive_locks               0\n",
       "use_table_segmenter               0\n",
       "dtype: int64"
      ]
     },
     "execution_count": 9,
     "metadata": {},
     "output_type": "execute_result"
    }
   ],
   "source": [
    "cc_data.fillna(0,inplace=True)\n",
    "cc_data.isna().sum()"
   ]
  },
  {
   "cell_type": "code",
   "execution_count": 10,
   "metadata": {},
   "outputs": [
    {
     "data": {
      "text/plain": [
       "Index(['timestamp', 'copy_mode', 'profile', 'total_runtime', 'status',\n",
       "       'records_processed', 'total_data_processed',\n",
       "       'ignore_exit_errors            ', 'ignore_table_errors           ',\n",
       "       'lock_source_client            ', 'parallel_number               ',\n",
       "       'use_exclusive_locks           ', 'use_table_segmenter           '],\n",
       "      dtype='object')"
      ]
     },
     "execution_count": 10,
     "metadata": {},
     "output_type": "execute_result"
    }
   ],
   "source": [
    "cc_data.columns"
   ]
  },
  {
   "cell_type": "code",
   "execution_count": 11,
   "metadata": {},
   "outputs": [
    {
     "data": {
      "text/plain": [
       "Index(['timestamp', 'copy_mode', 'profile', 'total_runtime', 'status',\n",
       "       'records_processed', 'total_data_processed', 'ignore_exit_errors',\n",
       "       'ignore_table_errors', 'lock_source_client', 'parallel_number',\n",
       "       'use_exclusive_locks', 'use_table_segmenter'],\n",
       "      dtype='object')"
      ]
     },
     "execution_count": 11,
     "metadata": {},
     "output_type": "execute_result"
    }
   ],
   "source": [
    "cc_data.columns = cc_data.columns.str.replace(' ', '')\n",
    "cc_data.columns"
   ]
  },
  {
   "cell_type": "code",
   "execution_count": 12,
   "metadata": {},
   "outputs": [
    {
     "data": {
      "text/plain": [
       "FINISHED     281\n",
       "CANCELLED     80\n",
       "Name: status, dtype: int64"
      ]
     },
     "execution_count": 12,
     "metadata": {},
     "output_type": "execute_result"
    }
   ],
   "source": [
    "cc_data['status'] = cc_data['status'].str.replace(\" \",\"\")\n",
    "def remove_whitespace(x):\n",
    "    try:\n",
    "        # remove spaces inside and outside of string\n",
    "        x = \"\".join(x.split())\n",
    "\n",
    "    except:\n",
    "        pass\n",
    "    return x\n",
    "\n",
    "# Apply remove_whitespace to column only\n",
    "cc_data = cc_data.apply(remove_whitespace)\n",
    "cc_data.status.value_counts()"
   ]
  },
  {
   "cell_type": "code",
   "execution_count": 13,
   "metadata": {},
   "outputs": [],
   "source": [
    "# import pandas_profiling\n",
    "# pandas_profiling.ProfileReport(cc_data)\n",
    "\n",
    "# Rename Columns\n",
    "cc_data.rename(columns={'total_runtime':'runtime_in_ms',\n",
    "                        'total_data_processed' : 'size_in_bytes',\n",
    "                       },\n",
    "              inplace=True)\n"
   ]
  },
  {
   "cell_type": "code",
   "execution_count": 14,
   "metadata": {},
   "outputs": [
    {
     "data": {
      "text/html": [
       "<div>\n",
       "<style scoped>\n",
       "    .dataframe tbody tr th:only-of-type {\n",
       "        vertical-align: middle;\n",
       "    }\n",
       "\n",
       "    .dataframe tbody tr th {\n",
       "        vertical-align: top;\n",
       "    }\n",
       "\n",
       "    .dataframe thead th {\n",
       "        text-align: right;\n",
       "    }\n",
       "</style>\n",
       "<table border=\"1\" class=\"dataframe\">\n",
       "  <thead>\n",
       "    <tr style=\"text-align: right;\">\n",
       "      <th></th>\n",
       "      <th>timestamp</th>\n",
       "      <th>copy_mode</th>\n",
       "      <th>profile</th>\n",
       "      <th>runtime_in_ms</th>\n",
       "      <th>status</th>\n",
       "      <th>records_processed</th>\n",
       "      <th>size_in_bytes</th>\n",
       "      <th>ignore_exit_errors</th>\n",
       "      <th>ignore_table_errors</th>\n",
       "      <th>lock_source_client</th>\n",
       "      <th>parallel_number</th>\n",
       "      <th>use_exclusive_locks</th>\n",
       "      <th>use_table_segmenter</th>\n",
       "    </tr>\n",
       "  </thead>\n",
       "  <tbody>\n",
       "    <tr>\n",
       "      <th>0</th>\n",
       "      <td>20190819131549</td>\n",
       "      <td>LOCAL</td>\n",
       "      <td>SAP_UCSV</td>\n",
       "      <td>1290</td>\n",
       "      <td>FINISHED</td>\n",
       "      <td>30619937</td>\n",
       "      <td>2721723523</td>\n",
       "      <td>X</td>\n",
       "      <td>0</td>\n",
       "      <td>0</td>\n",
       "      <td>6</td>\n",
       "      <td>0</td>\n",
       "      <td>0</td>\n",
       "    </tr>\n",
       "    <tr>\n",
       "      <th>1</th>\n",
       "      <td>20190812065310</td>\n",
       "      <td>LOCAL</td>\n",
       "      <td>SAP_UCSV</td>\n",
       "      <td>1192</td>\n",
       "      <td>FINISHED</td>\n",
       "      <td>48666506</td>\n",
       "      <td>3902691720</td>\n",
       "      <td>X</td>\n",
       "      <td>0</td>\n",
       "      <td>0</td>\n",
       "      <td>6</td>\n",
       "      <td>0</td>\n",
       "      <td>0</td>\n",
       "    </tr>\n",
       "    <tr>\n",
       "      <th>2</th>\n",
       "      <td>20190902092042</td>\n",
       "      <td>LOCAL</td>\n",
       "      <td>SAP_UCSV</td>\n",
       "      <td>343</td>\n",
       "      <td>CANCELLED</td>\n",
       "      <td>32653243</td>\n",
       "      <td>2246436756</td>\n",
       "      <td>0</td>\n",
       "      <td>0</td>\n",
       "      <td>X</td>\n",
       "      <td>7</td>\n",
       "      <td>X</td>\n",
       "      <td>0</td>\n",
       "    </tr>\n",
       "    <tr>\n",
       "      <th>3</th>\n",
       "      <td>20190907063037</td>\n",
       "      <td>REMOTE</td>\n",
       "      <td>SAP_ALL</td>\n",
       "      <td>1800</td>\n",
       "      <td>FINISHED</td>\n",
       "      <td>60944409</td>\n",
       "      <td>5673935415</td>\n",
       "      <td>X</td>\n",
       "      <td>X</td>\n",
       "      <td>X</td>\n",
       "      <td>10</td>\n",
       "      <td>0</td>\n",
       "      <td>0</td>\n",
       "    </tr>\n",
       "    <tr>\n",
       "      <th>4</th>\n",
       "      <td>20190902064418</td>\n",
       "      <td>LOCAL</td>\n",
       "      <td>SAP_UCSV</td>\n",
       "      <td>249</td>\n",
       "      <td>CANCELLED</td>\n",
       "      <td>118175632</td>\n",
       "      <td>8857599641</td>\n",
       "      <td>X</td>\n",
       "      <td>0</td>\n",
       "      <td>0</td>\n",
       "      <td>6</td>\n",
       "      <td>X</td>\n",
       "      <td>0</td>\n",
       "    </tr>\n",
       "  </tbody>\n",
       "</table>\n",
       "</div>"
      ],
      "text/plain": [
       "        timestamp copy_mode   profile  runtime_in_ms     status  \\\n",
       "0  20190819131549    LOCAL   SAP_UCSV           1290   FINISHED   \n",
       "1  20190812065310    LOCAL   SAP_UCSV           1192   FINISHED   \n",
       "2  20190902092042    LOCAL   SAP_UCSV            343  CANCELLED   \n",
       "3  20190907063037    REMOTE  SAP_ALL            1800   FINISHED   \n",
       "4  20190902064418    LOCAL   SAP_UCSV            249  CANCELLED   \n",
       "\n",
       "   records_processed  size_in_bytes ignore_exit_errors ignore_table_errors  \\\n",
       "0           30619937     2721723523                  X                   0   \n",
       "1           48666506     3902691720                  X                   0   \n",
       "2           32653243     2246436756                  0                   0   \n",
       "3           60944409     5673935415                  X                   X   \n",
       "4          118175632     8857599641                  X                   0   \n",
       "\n",
       "  lock_source_client  parallel_number use_exclusive_locks use_table_segmenter  \n",
       "0                  0                6                   0                   0  \n",
       "1                  0                6                   0                   0  \n",
       "2                  X                7                   X                   0  \n",
       "3                  X               10                   0                   0  \n",
       "4                  0                6                   X                   0  "
      ]
     },
     "execution_count": 14,
     "metadata": {},
     "output_type": "execute_result"
    }
   ],
   "source": [
    "cc_data.head()"
   ]
  },
  {
   "cell_type": "code",
   "execution_count": 15,
   "metadata": {},
   "outputs": [],
   "source": [
    "# Change to numeric columns\n",
    "cc_data[['runtime_in_ms','records_processed','size_in_bytes','parallel_number']] = \\\n",
    "cc_data[['runtime_in_ms','records_processed','size_in_bytes','parallel_number']].apply(pd.to_numeric)\n"
   ]
  },
  {
   "cell_type": "markdown",
   "metadata": {},
   "source": [
    "#### Lets check the distribution of runtime data for local client copy"
   ]
  },
  {
   "cell_type": "code",
   "execution_count": 16,
   "metadata": {},
   "outputs": [
    {
     "data": {
      "image/png": "[encoded data removed]",
      "text/plain": [
       "<Figure size 864x504 with 1 Axes>"
      ]
     },
     "metadata": {
      "needs_background": "light"
     },
     "output_type": "display_data"
    }
   ],
   "source": [
    "cc_data['copy_mode'] = cc_data['copy_mode'].str.strip()\n",
    "criteria = cc_data.copy_mode=='LOCAL'\n",
    "plt.figure(figsize=(12,7))\n",
    "sns.distplot(cc_data.loc[criteria]['runtime_in_ms'],\n",
    "             label = '1',\n",
    "             color = 'red',\n",
    "             bins=50\n",
    "            )\n",
    "plt.show()\n"
   ]
  },
  {
   "cell_type": "markdown",
   "metadata": {},
   "source": [
    "Here we can see that there are a few outliers that have comparatively high runtimes"
   ]
  },
  {
   "cell_type": "markdown",
   "metadata": {},
   "source": [
    "#### Plot for Processed records"
   ]
  },
  {
   "cell_type": "code",
   "execution_count": 17,
   "metadata": {},
   "outputs": [
    {
     "data": {
      "image/png": "[encoded data removed]",
      "text/plain": [
       "<Figure size 864x504 with 1 Axes>"
      ]
     },
     "metadata": {
      "needs_background": "light"
     },
     "output_type": "display_data"
    }
   ],
   "source": [
    "plt.figure(figsize=(12,7))\n",
    "sns.distplot(cc_data.loc[criteria]['records_processed'],\n",
    "             label = '1',\n",
    "             color = 'red',\n",
    "             bins=50\n",
    "            )\n",
    "plt.show()"
   ]
  },
  {
   "cell_type": "markdown",
   "metadata": {},
   "source": [
    "##### The data is right skewed"
   ]
  },
  {
   "cell_type": "markdown",
   "metadata": {},
   "source": [
    "#### Plot the distribution for size copied in bytes"
   ]
  },
  {
   "cell_type": "code",
   "execution_count": 18,
   "metadata": {},
   "outputs": [
    {
     "data": {
      "image/png": "[encoded data removed]",
      "text/plain": [
       "<Figure size 864x504 with 1 Axes>"
      ]
     },
     "metadata": {
      "needs_background": "light"
     },
     "output_type": "display_data"
    }
   ],
   "source": [
    "plt.figure(figsize=(12,7))\n",
    "sns.distplot(cc_data.loc[criteria]['size_in_bytes'],\n",
    "             label = '1',\n",
    "             color = 'red',\n",
    "             bins=50\n",
    "            )\n",
    "plt.show()"
   ]
  },
  {
   "cell_type": "code",
   "execution_count": 19,
   "metadata": {},
   "outputs": [
    {
     "data": {
      "text/html": [
       "<div>\n",
       "<style scoped>\n",
       "    .dataframe tbody tr th:only-of-type {\n",
       "        vertical-align: middle;\n",
       "    }\n",
       "\n",
       "    .dataframe tbody tr th {\n",
       "        vertical-align: top;\n",
       "    }\n",
       "\n",
       "    .dataframe thead th {\n",
       "        text-align: right;\n",
       "    }\n",
       "</style>\n",
       "<table border=\"1\" class=\"dataframe\">\n",
       "  <thead>\n",
       "    <tr style=\"text-align: right;\">\n",
       "      <th></th>\n",
       "      <th>timestamp</th>\n",
       "      <th>runtime_in_ms</th>\n",
       "      <th>records_processed</th>\n",
       "      <th>size_in_bytes</th>\n",
       "      <th>parallel_number</th>\n",
       "    </tr>\n",
       "  </thead>\n",
       "  <tbody>\n",
       "    <tr>\n",
       "      <th>count</th>\n",
       "      <td>361</td>\n",
       "      <td>361</td>\n",
       "      <td>361</td>\n",
       "      <td>361</td>\n",
       "      <td>361</td>\n",
       "    </tr>\n",
       "    <tr>\n",
       "      <th>mean</th>\n",
       "      <td>20190784131893</td>\n",
       "      <td>4181</td>\n",
       "      <td>223259233</td>\n",
       "      <td>14423810028</td>\n",
       "      <td>8</td>\n",
       "    </tr>\n",
       "    <tr>\n",
       "      <th>std</th>\n",
       "      <td>204039183</td>\n",
       "      <td>41826</td>\n",
       "      <td>362906728</td>\n",
       "      <td>26216755498</td>\n",
       "      <td>5</td>\n",
       "    </tr>\n",
       "    <tr>\n",
       "      <th>min</th>\n",
       "      <td>20190430044556</td>\n",
       "      <td>13</td>\n",
       "      <td>0</td>\n",
       "      <td>0</td>\n",
       "      <td>0</td>\n",
       "    </tr>\n",
       "    <tr>\n",
       "      <th>25%</th>\n",
       "      <td>20190607104954</td>\n",
       "      <td>529</td>\n",
       "      <td>18329049</td>\n",
       "      <td>1534435820</td>\n",
       "      <td>6</td>\n",
       "    </tr>\n",
       "    <tr>\n",
       "      <th>50%</th>\n",
       "      <td>20190815182824</td>\n",
       "      <td>1334</td>\n",
       "      <td>89658494</td>\n",
       "      <td>6627857295</td>\n",
       "      <td>7</td>\n",
       "    </tr>\n",
       "    <tr>\n",
       "      <th>75%</th>\n",
       "      <td>20190918090851</td>\n",
       "      <td>2246</td>\n",
       "      <td>273542779</td>\n",
       "      <td>13405474528</td>\n",
       "      <td>10</td>\n",
       "    </tr>\n",
       "    <tr>\n",
       "      <th>max</th>\n",
       "      <td>20191119103532</td>\n",
       "      <td>795047</td>\n",
       "      <td>2178681778</td>\n",
       "      <td>158639896060</td>\n",
       "      <td>35</td>\n",
       "    </tr>\n",
       "  </tbody>\n",
       "</table>\n",
       "</div>"
      ],
      "text/plain": [
       "           timestamp  runtime_in_ms  records_processed  size_in_bytes  \\\n",
       "count            361            361                361            361   \n",
       "mean  20190784131893           4181          223259233    14423810028   \n",
       "std        204039183          41826          362906728    26216755498   \n",
       "min   20190430044556             13                  0              0   \n",
       "25%   20190607104954            529           18329049     1534435820   \n",
       "50%   20190815182824           1334           89658494     6627857295   \n",
       "75%   20190918090851           2246          273542779    13405474528   \n",
       "max   20191119103532         795047         2178681778   158639896060   \n",
       "\n",
       "       parallel_number  \n",
       "count              361  \n",
       "mean                 8  \n",
       "std                  5  \n",
       "min                  0  \n",
       "25%                  6  \n",
       "50%                  7  \n",
       "75%                 10  \n",
       "max                 35  "
      ]
     },
     "execution_count": 19,
     "metadata": {},
     "output_type": "execute_result"
    }
   ],
   "source": [
    "cc_data.describe()"
   ]
  },
  {
   "cell_type": "code",
   "execution_count": 20,
   "metadata": {},
   "outputs": [
    {
     "data": {
      "text/plain": [
       "LOCAL     273\n",
       "REMOTE     32\n",
       "CMPLCL     22\n",
       "DELETE     12\n",
       "SIZE        9\n",
       "IMPORT      7\n",
       "EXPORT      6\n",
       "Name: copy_mode, dtype: int64"
      ]
     },
     "execution_count": 20,
     "metadata": {},
     "output_type": "execute_result"
    }
   ],
   "source": [
    "# Check the number of local client copy samples\n",
    "cc_data.copy_mode.value_counts()"
   ]
  },
  {
   "cell_type": "markdown",
   "metadata": {},
   "source": [
    "Remove all other modes of cc , because lets fight one battle a day !"
   ]
  },
  {
   "cell_type": "code",
   "execution_count": 21,
   "metadata": {},
   "outputs": [
    {
     "data": {
      "text/html": [
       "<div>\n",
       "<style scoped>\n",
       "    .dataframe tbody tr th:only-of-type {\n",
       "        vertical-align: middle;\n",
       "    }\n",
       "\n",
       "    .dataframe tbody tr th {\n",
       "        vertical-align: top;\n",
       "    }\n",
       "\n",
       "    .dataframe thead th {\n",
       "        text-align: right;\n",
       "    }\n",
       "</style>\n",
       "<table border=\"1\" class=\"dataframe\">\n",
       "  <thead>\n",
       "    <tr style=\"text-align: right;\">\n",
       "      <th></th>\n",
       "      <th>profile</th>\n",
       "      <th>runtime_in_ms</th>\n",
       "      <th>status</th>\n",
       "      <th>records_processed</th>\n",
       "      <th>size_in_bytes</th>\n",
       "      <th>ignore_exit_errors</th>\n",
       "      <th>ignore_table_errors</th>\n",
       "      <th>lock_source_client</th>\n",
       "      <th>parallel_number</th>\n",
       "      <th>use_exclusive_locks</th>\n",
       "      <th>use_table_segmenter</th>\n",
       "    </tr>\n",
       "  </thead>\n",
       "  <tbody>\n",
       "    <tr>\n",
       "      <th>0</th>\n",
       "      <td>SAP_UCSV</td>\n",
       "      <td>1290</td>\n",
       "      <td>FINISHED</td>\n",
       "      <td>30619937</td>\n",
       "      <td>2721723523</td>\n",
       "      <td>X</td>\n",
       "      <td>0</td>\n",
       "      <td>0</td>\n",
       "      <td>6</td>\n",
       "      <td>0</td>\n",
       "      <td>0</td>\n",
       "    </tr>\n",
       "    <tr>\n",
       "      <th>1</th>\n",
       "      <td>SAP_UCSV</td>\n",
       "      <td>1192</td>\n",
       "      <td>FINISHED</td>\n",
       "      <td>48666506</td>\n",
       "      <td>3902691720</td>\n",
       "      <td>X</td>\n",
       "      <td>0</td>\n",
       "      <td>0</td>\n",
       "      <td>6</td>\n",
       "      <td>0</td>\n",
       "      <td>0</td>\n",
       "    </tr>\n",
       "    <tr>\n",
       "      <th>5</th>\n",
       "      <td>SAP_UCSV</td>\n",
       "      <td>2875</td>\n",
       "      <td>FINISHED</td>\n",
       "      <td>152299974</td>\n",
       "      <td>13405474528</td>\n",
       "      <td>X</td>\n",
       "      <td>0</td>\n",
       "      <td>0</td>\n",
       "      <td>6</td>\n",
       "      <td>X</td>\n",
       "      <td>0</td>\n",
       "    </tr>\n",
       "    <tr>\n",
       "      <th>8</th>\n",
       "      <td>SAP_UCSV</td>\n",
       "      <td>1176</td>\n",
       "      <td>FINISHED</td>\n",
       "      <td>50315435</td>\n",
       "      <td>3035348648</td>\n",
       "      <td>X</td>\n",
       "      <td>0</td>\n",
       "      <td>0</td>\n",
       "      <td>6</td>\n",
       "      <td>0</td>\n",
       "      <td>0</td>\n",
       "    </tr>\n",
       "    <tr>\n",
       "      <th>9</th>\n",
       "      <td>SAP_ALL</td>\n",
       "      <td>1180</td>\n",
       "      <td>FINISHED</td>\n",
       "      <td>82981731</td>\n",
       "      <td>9182413424</td>\n",
       "      <td>X</td>\n",
       "      <td>0</td>\n",
       "      <td>0</td>\n",
       "      <td>6</td>\n",
       "      <td>0</td>\n",
       "      <td>0</td>\n",
       "    </tr>\n",
       "  </tbody>\n",
       "</table>\n",
       "</div>"
      ],
      "text/plain": [
       "    profile  runtime_in_ms    status  records_processed  size_in_bytes  \\\n",
       "0  SAP_UCSV           1290  FINISHED           30619937     2721723523   \n",
       "1  SAP_UCSV           1192  FINISHED           48666506     3902691720   \n",
       "5  SAP_UCSV           2875  FINISHED          152299974    13405474528   \n",
       "8  SAP_UCSV           1176  FINISHED           50315435     3035348648   \n",
       "9  SAP_ALL            1180  FINISHED           82981731     9182413424   \n",
       "\n",
       "  ignore_exit_errors ignore_table_errors lock_source_client  parallel_number  \\\n",
       "0                  X                   0                  0                6   \n",
       "1                  X                   0                  0                6   \n",
       "5                  X                   0                  0                6   \n",
       "8                  X                   0                  0                6   \n",
       "9                  X                   0                  0                6   \n",
       "\n",
       "  use_exclusive_locks use_table_segmenter  \n",
       "0                   0                   0  \n",
       "1                   0                   0  \n",
       "5                   X                   0  \n",
       "8                   0                   0  \n",
       "9                   0                   0  "
      ]
     },
     "execution_count": 21,
     "metadata": {},
     "output_type": "execute_result"
    }
   ],
   "source": [
    "criteria = (cc_data.copy_mode=='LOCAL') & (cc_data.status == 'FINISHED')\n",
    "local_cc_data = cc_data.loc[criteria]\n",
    "# dont need timestamp, copy_mode\n",
    "local_cc_data.drop(columns = ['timestamp','copy_mode'],inplace=True)\n",
    "local_cc_data.head()"
   ]
  },
  {
   "cell_type": "markdown",
   "metadata": {},
   "source": [
    "### Standardization & Handling Categorical variables"
   ]
  },
  {
   "cell_type": "code",
   "execution_count": 22,
   "metadata": {},
   "outputs": [
    {
     "data": {
      "text/plain": [
       "profile                object\n",
       "runtime_in_ms           int64\n",
       "status                 object\n",
       "records_processed       int64\n",
       "size_in_bytes           int64\n",
       "ignore_exit_errors     object\n",
       "ignore_table_errors    object\n",
       "lock_source_client     object\n",
       "parallel_number         int64\n",
       "use_exclusive_locks    object\n",
       "use_table_segmenter    object\n",
       "dtype: object"
      ]
     },
     "execution_count": 22,
     "metadata": {},
     "output_type": "execute_result"
    }
   ],
   "source": [
    "# List the data types, so that we know what kind \n",
    "# of preprocessing is required\n",
    "local_cc_data.dtypes"
   ]
  },
  {
   "cell_type": "markdown",
   "metadata": {},
   "source": [
    "Earlier we replaced the NaN values in the settings variable (binary variables) to O. Now, to be able to use the data with Machine Learning Algorithms we have to replace the X with 1.\n",
    "so : \n",
    "- 1--> X\n",
    "- 0--> (SPACE)     "
   ]
  },
  {
   "cell_type": "code",
   "execution_count": 23,
   "metadata": {},
   "outputs": [
    {
     "data": {
      "text/html": [
       "<div>\n",
       "<style scoped>\n",
       "    .dataframe tbody tr th:only-of-type {\n",
       "        vertical-align: middle;\n",
       "    }\n",
       "\n",
       "    .dataframe tbody tr th {\n",
       "        vertical-align: top;\n",
       "    }\n",
       "\n",
       "    .dataframe thead th {\n",
       "        text-align: right;\n",
       "    }\n",
       "</style>\n",
       "<table border=\"1\" class=\"dataframe\">\n",
       "  <thead>\n",
       "    <tr style=\"text-align: right;\">\n",
       "      <th></th>\n",
       "      <th>runtime_in_ms</th>\n",
       "      <th>records_processed</th>\n",
       "      <th>size_in_bytes</th>\n",
       "      <th>parallel_number</th>\n",
       "      <th>profile_SAP_ALL</th>\n",
       "      <th>profile_SAP_APPX</th>\n",
       "      <th>profile_SAP_CUST</th>\n",
       "      <th>profile_SAP_UCSV</th>\n",
       "      <th>profile_SAP_UONL</th>\n",
       "      <th>profile_SAP_USER</th>\n",
       "      <th>...</th>\n",
       "      <th>ignore_exit_errors_0</th>\n",
       "      <th>ignore_exit_errors_X</th>\n",
       "      <th>ignore_table_errors_0</th>\n",
       "      <th>ignore_table_errors_X</th>\n",
       "      <th>lock_source_client_0</th>\n",
       "      <th>lock_source_client_X</th>\n",
       "      <th>use_exclusive_locks_0</th>\n",
       "      <th>use_exclusive_locks_X</th>\n",
       "      <th>use_table_segmenter_0</th>\n",
       "      <th>use_table_segmenter_X</th>\n",
       "    </tr>\n",
       "  </thead>\n",
       "  <tbody>\n",
       "    <tr>\n",
       "      <th>0</th>\n",
       "      <td>1290</td>\n",
       "      <td>30619937</td>\n",
       "      <td>2721723523</td>\n",
       "      <td>6</td>\n",
       "      <td>0</td>\n",
       "      <td>0</td>\n",
       "      <td>0</td>\n",
       "      <td>1</td>\n",
       "      <td>0</td>\n",
       "      <td>0</td>\n",
       "      <td>...</td>\n",
       "      <td>0</td>\n",
       "      <td>1</td>\n",
       "      <td>1</td>\n",
       "      <td>0</td>\n",
       "      <td>1</td>\n",
       "      <td>0</td>\n",
       "      <td>1</td>\n",
       "      <td>0</td>\n",
       "      <td>1</td>\n",
       "      <td>0</td>\n",
       "    </tr>\n",
       "    <tr>\n",
       "      <th>1</th>\n",
       "      <td>1192</td>\n",
       "      <td>48666506</td>\n",
       "      <td>3902691720</td>\n",
       "      <td>6</td>\n",
       "      <td>0</td>\n",
       "      <td>0</td>\n",
       "      <td>0</td>\n",
       "      <td>1</td>\n",
       "      <td>0</td>\n",
       "      <td>0</td>\n",
       "      <td>...</td>\n",
       "      <td>0</td>\n",
       "      <td>1</td>\n",
       "      <td>1</td>\n",
       "      <td>0</td>\n",
       "      <td>1</td>\n",
       "      <td>0</td>\n",
       "      <td>1</td>\n",
       "      <td>0</td>\n",
       "      <td>1</td>\n",
       "      <td>0</td>\n",
       "    </tr>\n",
       "    <tr>\n",
       "      <th>5</th>\n",
       "      <td>2875</td>\n",
       "      <td>152299974</td>\n",
       "      <td>13405474528</td>\n",
       "      <td>6</td>\n",
       "      <td>0</td>\n",
       "      <td>0</td>\n",
       "      <td>0</td>\n",
       "      <td>1</td>\n",
       "      <td>0</td>\n",
       "      <td>0</td>\n",
       "      <td>...</td>\n",
       "      <td>0</td>\n",
       "      <td>1</td>\n",
       "      <td>1</td>\n",
       "      <td>0</td>\n",
       "      <td>1</td>\n",
       "      <td>0</td>\n",
       "      <td>0</td>\n",
       "      <td>1</td>\n",
       "      <td>1</td>\n",
       "      <td>0</td>\n",
       "    </tr>\n",
       "    <tr>\n",
       "      <th>8</th>\n",
       "      <td>1176</td>\n",
       "      <td>50315435</td>\n",
       "      <td>3035348648</td>\n",
       "      <td>6</td>\n",
       "      <td>0</td>\n",
       "      <td>0</td>\n",
       "      <td>0</td>\n",
       "      <td>1</td>\n",
       "      <td>0</td>\n",
       "      <td>0</td>\n",
       "      <td>...</td>\n",
       "      <td>0</td>\n",
       "      <td>1</td>\n",
       "      <td>1</td>\n",
       "      <td>0</td>\n",
       "      <td>1</td>\n",
       "      <td>0</td>\n",
       "      <td>1</td>\n",
       "      <td>0</td>\n",
       "      <td>1</td>\n",
       "      <td>0</td>\n",
       "    </tr>\n",
       "    <tr>\n",
       "      <th>9</th>\n",
       "      <td>1180</td>\n",
       "      <td>82981731</td>\n",
       "      <td>9182413424</td>\n",
       "      <td>6</td>\n",
       "      <td>1</td>\n",
       "      <td>0</td>\n",
       "      <td>0</td>\n",
       "      <td>0</td>\n",
       "      <td>0</td>\n",
       "      <td>0</td>\n",
       "      <td>...</td>\n",
       "      <td>0</td>\n",
       "      <td>1</td>\n",
       "      <td>1</td>\n",
       "      <td>0</td>\n",
       "      <td>1</td>\n",
       "      <td>0</td>\n",
       "      <td>1</td>\n",
       "      <td>0</td>\n",
       "      <td>1</td>\n",
       "      <td>0</td>\n",
       "    </tr>\n",
       "  </tbody>\n",
       "</table>\n",
       "<p>5 rows × 22 columns</p>\n",
       "</div>"
      ],
      "text/plain": [
       "   runtime_in_ms  records_processed  size_in_bytes  parallel_number  \\\n",
       "0           1290           30619937     2721723523                6   \n",
       "1           1192           48666506     3902691720                6   \n",
       "5           2875          152299974    13405474528                6   \n",
       "8           1176           50315435     3035348648                6   \n",
       "9           1180           82981731     9182413424                6   \n",
       "\n",
       "   profile_SAP_ALL   profile_SAP_APPX  profile_SAP_CUST  profile_SAP_UCSV  \\\n",
       "0                 0                 0                 0                 1   \n",
       "1                 0                 0                 0                 1   \n",
       "5                 0                 0                 0                 1   \n",
       "8                 0                 0                 0                 1   \n",
       "9                 1                 0                 0                 0   \n",
       "\n",
       "   profile_SAP_UONL  profile_SAP_USER  ...  ignore_exit_errors_0  \\\n",
       "0                 0                 0  ...                     0   \n",
       "1                 0                 0  ...                     0   \n",
       "5                 0                 0  ...                     0   \n",
       "8                 0                 0  ...                     0   \n",
       "9                 0                 0  ...                     0   \n",
       "\n",
       "   ignore_exit_errors_X  ignore_table_errors_0  ignore_table_errors_X  \\\n",
       "0                     1                      1                      0   \n",
       "1                     1                      1                      0   \n",
       "5                     1                      1                      0   \n",
       "8                     1                      1                      0   \n",
       "9                     1                      1                      0   \n",
       "\n",
       "   lock_source_client_0  lock_source_client_X  use_exclusive_locks_0  \\\n",
       "0                     1                     0                      1   \n",
       "1                     1                     0                      1   \n",
       "5                     1                     0                      0   \n",
       "8                     1                     0                      1   \n",
       "9                     1                     0                      1   \n",
       "\n",
       "   use_exclusive_locks_X  use_table_segmenter_0  use_table_segmenter_X  \n",
       "0                      0                      1                      0  \n",
       "1                      0                      1                      0  \n",
       "5                      1                      1                      0  \n",
       "8                      0                      1                      0  \n",
       "9                      0                      1                      0  \n",
       "\n",
       "[5 rows x 22 columns]"
      ]
     },
     "execution_count": 23,
     "metadata": {},
     "output_type": "execute_result"
    }
   ],
   "source": [
    "local_w_dummies = pd.get_dummies(local_cc_data ,\n",
    "                                 columns=[col for col in local_cc_data.columns.tolist() \n",
    "                                          if local_cc_data[col].dtype in ['object']\n",
    "                                         ] \n",
    ")\n",
    "local_w_dummies.head()"
   ]
  },
  {
   "cell_type": "code",
   "execution_count": 24,
   "metadata": {},
   "outputs": [],
   "source": [
    "if not os.path.isfile('./dataset/cc_cleaned_data.csv'):\n",
    "    local_w_dummies.to_csv('./dataset/cc_cleaned_data.csv')"
   ]
  },
  {
   "cell_type": "code",
   "execution_count": 25,
   "metadata": {},
   "outputs": [
    {
     "data": {
      "text/plain": [
       "<matplotlib.axes._subplots.AxesSubplot at 0x1d25ff2d320>"
      ]
     },
     "execution_count": 25,
     "metadata": {},
     "output_type": "execute_result"
    },
    {
     "data": {
      "image/png": "[encoded data removed]",
      "text/plain": [
       "<Figure size 864x504 with 2 Axes>"
      ]
     },
     "metadata": {
      "needs_background": "light"
     },
     "output_type": "display_data"
    }
   ],
   "source": [
    "plt.figure(figsize=(12,7))\n",
    "sns.heatmap(local_w_dummies.corr())\n",
    "# local_w_dummies.corr()"
   ]
  },
  {
   "cell_type": "markdown",
   "metadata": {},
   "source": [
    "Lets separate the features and the target variables"
   ]
  },
  {
   "cell_type": "code",
   "execution_count": 26,
   "metadata": {},
   "outputs": [],
   "source": [
    "target = pd.DataFrame(local_w_dummies.runtime_in_ms)\n",
    "features = local_w_dummies.drop(['runtime_in_ms'],axis=1)"
   ]
  },
  {
   "cell_type": "code",
   "execution_count": 27,
   "metadata": {},
   "outputs": [],
   "source": [
    "# numeric_features = features.select_dtypes(include=['int64']).columns.tolist()\n",
    "# features[numeric_features] = features[numeric_features].astype(float)\n",
    "# features.sample(5)\n",
    "\n"
   ]
  },
  {
   "cell_type": "markdown",
   "metadata": {},
   "source": [
    "Now lets scale all numeric features"
   ]
  },
  {
   "cell_type": "code",
   "execution_count": 28,
   "metadata": {},
   "outputs": [],
   "source": [
    "numeric_features = features.select_dtypes(include=['int64']).columns.tolist()\n",
    "\n",
    "scaler = StandardScaler()\n",
    "# scaler.fit(features[numeric_features])\n",
    "# features[numeric_features]=scaler.transform(features[numeric_features])\n",
    "# target = scaler.transform(target)"
   ]
  },
  {
   "cell_type": "code",
   "execution_count": 29,
   "metadata": {},
   "outputs": [
    {
     "data": {
      "text/html": [
       "<div>\n",
       "<style scoped>\n",
       "    .dataframe tbody tr th:only-of-type {\n",
       "        vertical-align: middle;\n",
       "    }\n",
       "\n",
       "    .dataframe tbody tr th {\n",
       "        vertical-align: top;\n",
       "    }\n",
       "\n",
       "    .dataframe thead th {\n",
       "        text-align: right;\n",
       "    }\n",
       "</style>\n",
       "<table border=\"1\" class=\"dataframe\">\n",
       "  <thead>\n",
       "    <tr style=\"text-align: right;\">\n",
       "      <th></th>\n",
       "      <th>records_processed</th>\n",
       "      <th>size_in_bytes</th>\n",
       "      <th>parallel_number</th>\n",
       "      <th>profile_SAP_ALL</th>\n",
       "      <th>profile_SAP_APPX</th>\n",
       "      <th>profile_SAP_CUST</th>\n",
       "      <th>profile_SAP_UCSV</th>\n",
       "      <th>profile_SAP_UONL</th>\n",
       "      <th>profile_SAP_USER</th>\n",
       "      <th>profile_TABRANGE</th>\n",
       "      <th>...</th>\n",
       "      <th>ignore_exit_errors_0</th>\n",
       "      <th>ignore_exit_errors_X</th>\n",
       "      <th>ignore_table_errors_0</th>\n",
       "      <th>ignore_table_errors_X</th>\n",
       "      <th>lock_source_client_0</th>\n",
       "      <th>lock_source_client_X</th>\n",
       "      <th>use_exclusive_locks_0</th>\n",
       "      <th>use_exclusive_locks_X</th>\n",
       "      <th>use_table_segmenter_0</th>\n",
       "      <th>use_table_segmenter_X</th>\n",
       "    </tr>\n",
       "  </thead>\n",
       "  <tbody>\n",
       "    <tr>\n",
       "      <th>0</th>\n",
       "      <td>30619937</td>\n",
       "      <td>2721723523</td>\n",
       "      <td>6</td>\n",
       "      <td>0</td>\n",
       "      <td>0</td>\n",
       "      <td>0</td>\n",
       "      <td>1</td>\n",
       "      <td>0</td>\n",
       "      <td>0</td>\n",
       "      <td>0</td>\n",
       "      <td>...</td>\n",
       "      <td>0</td>\n",
       "      <td>1</td>\n",
       "      <td>1</td>\n",
       "      <td>0</td>\n",
       "      <td>1</td>\n",
       "      <td>0</td>\n",
       "      <td>1</td>\n",
       "      <td>0</td>\n",
       "      <td>1</td>\n",
       "      <td>0</td>\n",
       "    </tr>\n",
       "    <tr>\n",
       "      <th>1</th>\n",
       "      <td>48666506</td>\n",
       "      <td>3902691720</td>\n",
       "      <td>6</td>\n",
       "      <td>0</td>\n",
       "      <td>0</td>\n",
       "      <td>0</td>\n",
       "      <td>1</td>\n",
       "      <td>0</td>\n",
       "      <td>0</td>\n",
       "      <td>0</td>\n",
       "      <td>...</td>\n",
       "      <td>0</td>\n",
       "      <td>1</td>\n",
       "      <td>1</td>\n",
       "      <td>0</td>\n",
       "      <td>1</td>\n",
       "      <td>0</td>\n",
       "      <td>1</td>\n",
       "      <td>0</td>\n",
       "      <td>1</td>\n",
       "      <td>0</td>\n",
       "    </tr>\n",
       "    <tr>\n",
       "      <th>5</th>\n",
       "      <td>152299974</td>\n",
       "      <td>13405474528</td>\n",
       "      <td>6</td>\n",
       "      <td>0</td>\n",
       "      <td>0</td>\n",
       "      <td>0</td>\n",
       "      <td>1</td>\n",
       "      <td>0</td>\n",
       "      <td>0</td>\n",
       "      <td>0</td>\n",
       "      <td>...</td>\n",
       "      <td>0</td>\n",
       "      <td>1</td>\n",
       "      <td>1</td>\n",
       "      <td>0</td>\n",
       "      <td>1</td>\n",
       "      <td>0</td>\n",
       "      <td>0</td>\n",
       "      <td>1</td>\n",
       "      <td>1</td>\n",
       "      <td>0</td>\n",
       "    </tr>\n",
       "    <tr>\n",
       "      <th>8</th>\n",
       "      <td>50315435</td>\n",
       "      <td>3035348648</td>\n",
       "      <td>6</td>\n",
       "      <td>0</td>\n",
       "      <td>0</td>\n",
       "      <td>0</td>\n",
       "      <td>1</td>\n",
       "      <td>0</td>\n",
       "      <td>0</td>\n",
       "      <td>0</td>\n",
       "      <td>...</td>\n",
       "      <td>0</td>\n",
       "      <td>1</td>\n",
       "      <td>1</td>\n",
       "      <td>0</td>\n",
       "      <td>1</td>\n",
       "      <td>0</td>\n",
       "      <td>1</td>\n",
       "      <td>0</td>\n",
       "      <td>1</td>\n",
       "      <td>0</td>\n",
       "    </tr>\n",
       "    <tr>\n",
       "      <th>9</th>\n",
       "      <td>82981731</td>\n",
       "      <td>9182413424</td>\n",
       "      <td>6</td>\n",
       "      <td>1</td>\n",
       "      <td>0</td>\n",
       "      <td>0</td>\n",
       "      <td>0</td>\n",
       "      <td>0</td>\n",
       "      <td>0</td>\n",
       "      <td>0</td>\n",
       "      <td>...</td>\n",
       "      <td>0</td>\n",
       "      <td>1</td>\n",
       "      <td>1</td>\n",
       "      <td>0</td>\n",
       "      <td>1</td>\n",
       "      <td>0</td>\n",
       "      <td>1</td>\n",
       "      <td>0</td>\n",
       "      <td>1</td>\n",
       "      <td>0</td>\n",
       "    </tr>\n",
       "  </tbody>\n",
       "</table>\n",
       "<p>5 rows × 21 columns</p>\n",
       "</div>"
      ],
      "text/plain": [
       "   records_processed  size_in_bytes  parallel_number  profile_SAP_ALL   \\\n",
       "0           30619937     2721723523                6                 0   \n",
       "1           48666506     3902691720                6                 0   \n",
       "5          152299974    13405474528                6                 0   \n",
       "8           50315435     3035348648                6                 0   \n",
       "9           82981731     9182413424                6                 1   \n",
       "\n",
       "   profile_SAP_APPX  profile_SAP_CUST  profile_SAP_UCSV  profile_SAP_UONL  \\\n",
       "0                 0                 0                 1                 0   \n",
       "1                 0                 0                 1                 0   \n",
       "5                 0                 0                 1                 0   \n",
       "8                 0                 0                 1                 0   \n",
       "9                 0                 0                 0                 0   \n",
       "\n",
       "   profile_SAP_USER  profile_TABRANGE  ...  ignore_exit_errors_0  \\\n",
       "0                 0                 0  ...                     0   \n",
       "1                 0                 0  ...                     0   \n",
       "5                 0                 0  ...                     0   \n",
       "8                 0                 0  ...                     0   \n",
       "9                 0                 0  ...                     0   \n",
       "\n",
       "   ignore_exit_errors_X  ignore_table_errors_0  ignore_table_errors_X  \\\n",
       "0                     1                      1                      0   \n",
       "1                     1                      1                      0   \n",
       "5                     1                      1                      0   \n",
       "8                     1                      1                      0   \n",
       "9                     1                      1                      0   \n",
       "\n",
       "   lock_source_client_0  lock_source_client_X  use_exclusive_locks_0  \\\n",
       "0                     1                     0                      1   \n",
       "1                     1                     0                      1   \n",
       "5                     1                     0                      0   \n",
       "8                     1                     0                      1   \n",
       "9                     1                     0                      1   \n",
       "\n",
       "   use_exclusive_locks_X  use_table_segmenter_0  use_table_segmenter_X  \n",
       "0                      0                      1                      0  \n",
       "1                      0                      1                      0  \n",
       "5                      1                      1                      0  \n",
       "8                      0                      1                      0  \n",
       "9                      0                      1                      0  \n",
       "\n",
       "[5 rows x 21 columns]"
      ]
     },
     "execution_count": 29,
     "metadata": {},
     "output_type": "execute_result"
    }
   ],
   "source": [
    "features.head()"
   ]
  },
  {
   "cell_type": "code",
   "execution_count": 30,
   "metadata": {},
   "outputs": [],
   "source": [
    "from sklearn.model_selection import train_test_split\n",
    "\n",
    "X_train, X_test , y_train , y_test = train_test_split(features ,target ,test_size = 0.3)\n",
    "X_train = scaler.fit_transform(X_train)\n",
    "X_test = scaler.transform(X_test)"
   ]
  },
  {
   "cell_type": "code",
   "execution_count": 31,
   "metadata": {},
   "outputs": [
    {
     "data": {
      "text/plain": [
       "array([[-0.79121307, -0.72927427,  0.42614616, ..., -0.91515026,\n",
       "         0.31147219, -0.31147219],\n",
       "       [-0.66378367, -0.52297245, -0.43198378, ..., -0.91515026,\n",
       "         0.31147219, -0.31147219],\n",
       "       [-0.77470416, -0.72977699, -0.21745129, ...,  1.09271673,\n",
       "         0.31147219, -0.31147219],\n",
       "       ...,\n",
       "       [ 1.1021882 ,  0.62842536,  0.42614616, ..., -0.91515026,\n",
       "         0.31147219, -0.31147219],\n",
       "       [ 0.27685856,  0.02356448,  0.42614616, ...,  1.09271673,\n",
       "        -3.2105595 ,  3.2105595 ],\n",
       "       [-0.77879767, -0.72329221,  0.42614616, ...,  1.09271673,\n",
       "         0.31147219, -0.31147219]])"
      ]
     },
     "execution_count": 31,
     "metadata": {},
     "output_type": "execute_result"
    }
   ],
   "source": [
    "X_test"
   ]
  },
  {
   "cell_type": "code",
   "execution_count": 32,
   "metadata": {},
   "outputs": [
    {
     "data": {
      "text/plain": [
       "array([[ 0.1640645 ,  0.04194124,  0.42614616, ..., -0.91515026,\n",
       "         0.31147219, -0.31147219],\n",
       "       [-0.78033839, -0.69352291, -0.43198378, ..., -0.91515026,\n",
       "         0.31147219, -0.31147219],\n",
       "       [-0.72605238, -0.58296342, -0.43198378, ...,  1.09271673,\n",
       "         0.31147219, -0.31147219],\n",
       "       ...,\n",
       "       [-0.7329251 , -0.60058181, -0.43198378, ..., -0.91515026,\n",
       "         0.31147219, -0.31147219],\n",
       "       [ 0.03239564, -0.03781782,  0.42614616, ..., -0.91515026,\n",
       "         0.31147219, -0.31147219],\n",
       "       [-0.24795107,  0.0655192 , -0.43198378, ...,  1.09271673,\n",
       "         0.31147219, -0.31147219]])"
      ]
     },
     "execution_count": 32,
     "metadata": {},
     "output_type": "execute_result"
    }
   ],
   "source": [
    "X_train"
   ]
  },
  {
   "cell_type": "code",
   "execution_count": 33,
   "metadata": {},
   "outputs": [],
   "source": [
    "import xgboost as xgb\n",
    "from sklearn.metrics import mean_squared_error\n",
    "xgbModel = xgb.XGBRegressor()\n",
    "# xgbModel.fit(X_train ,y_train)\n",
    "# y_xgb_predictions = xgbModel.predict(X_test)\n",
    "# print(y_xgb_predictions)\n"
   ]
  },
  {
   "cell_type": "code",
   "execution_count": 34,
   "metadata": {},
   "outputs": [
    {
     "name": "stdout",
     "output_type": "stream",
     "text": [
      "[23:16:37] WARNING: C:/Jenkins/workspace/xgboost-win64_release_0.90/src/objective/regression_obj.cu:152: reg:linear is now deprecated in favor of reg:squarederror.\n",
      "[23:16:37] WARNING: C:/Jenkins/workspace/xgboost-win64_release_0.90/src/objective/regression_obj.cu:152: reg:linear is now deprecated in favor of reg:squarederror.\n",
      "[23:16:37] WARNING: C:/Jenkins/workspace/xgboost-win64_release_0.90/src/objective/regression_obj.cu:152: reg:linear is now deprecated in favor of reg:squarederror.\n"
     ]
    }
   ],
   "source": [
    "params = {\"objective\":\"reg:linear\",'colsample_bytree': 0.3,'learning_rate': 0.1,\n",
    "                'max_depth': 15, 'alpha': 10}\n",
    "dtrain_mat = xgb.DMatrix(X_train, y_train)\n",
    "cv_results = xgb.cv(dtrain=dtrain_mat, params=params, nfold=3,\n",
    "                    num_boost_round=50,early_stopping_rounds=10,metrics=\"rmse\", as_pandas=True, seed=123)"
   ]
  },
  {
   "cell_type": "code",
   "execution_count": 35,
   "metadata": {},
   "outputs": [
    {
     "data": {
      "text/html": [
       "<div>\n",
       "<style scoped>\n",
       "    .dataframe tbody tr th:only-of-type {\n",
       "        vertical-align: middle;\n",
       "    }\n",
       "\n",
       "    .dataframe tbody tr th {\n",
       "        vertical-align: top;\n",
       "    }\n",
       "\n",
       "    .dataframe thead th {\n",
       "        text-align: right;\n",
       "    }\n",
       "</style>\n",
       "<table border=\"1\" class=\"dataframe\">\n",
       "  <thead>\n",
       "    <tr style=\"text-align: right;\">\n",
       "      <th></th>\n",
       "      <th>train-rmse-mean</th>\n",
       "      <th>train-rmse-std</th>\n",
       "      <th>test-rmse-mean</th>\n",
       "      <th>test-rmse-std</th>\n",
       "    </tr>\n",
       "  </thead>\n",
       "  <tbody>\n",
       "    <tr>\n",
       "      <th>0</th>\n",
       "      <td>2482</td>\n",
       "      <td>286</td>\n",
       "      <td>2449</td>\n",
       "      <td>543</td>\n",
       "    </tr>\n",
       "    <tr>\n",
       "      <th>1</th>\n",
       "      <td>2331</td>\n",
       "      <td>294</td>\n",
       "      <td>2320</td>\n",
       "      <td>546</td>\n",
       "    </tr>\n",
       "    <tr>\n",
       "      <th>2</th>\n",
       "      <td>2176</td>\n",
       "      <td>262</td>\n",
       "      <td>2217</td>\n",
       "      <td>562</td>\n",
       "    </tr>\n",
       "    <tr>\n",
       "      <th>3</th>\n",
       "      <td>2069</td>\n",
       "      <td>259</td>\n",
       "      <td>2111</td>\n",
       "      <td>583</td>\n",
       "    </tr>\n",
       "    <tr>\n",
       "      <th>4</th>\n",
       "      <td>1934</td>\n",
       "      <td>242</td>\n",
       "      <td>2015</td>\n",
       "      <td>594</td>\n",
       "    </tr>\n",
       "  </tbody>\n",
       "</table>\n",
       "</div>"
      ],
      "text/plain": [
       "   train-rmse-mean  train-rmse-std  test-rmse-mean  test-rmse-std\n",
       "0             2482             286            2449            543\n",
       "1             2331             294            2320            546\n",
       "2             2176             262            2217            562\n",
       "3             2069             259            2111            583\n",
       "4             1934             242            2015            594"
      ]
     },
     "execution_count": 35,
     "metadata": {},
     "output_type": "execute_result"
    }
   ],
   "source": [
    "cv_results.head()"
   ]
  },
  {
   "cell_type": "code",
   "execution_count": 36,
   "metadata": {},
   "outputs": [
    {
     "name": "stdout",
     "output_type": "stream",
     "text": [
      "21   1548\n",
      "Name: test-rmse-mean, dtype: float64\n"
     ]
    }
   ],
   "source": [
    "print((cv_results[\"test-rmse-mean\"]).tail(1))\n",
    "# predictions = [round(value) for value in y_xgb_predictions]\n",
    "# rmse = np.sqrt(mean_squared_error(y_test,y_xgb_predictions))"
   ]
  },
  {
   "cell_type": "code",
   "execution_count": 37,
   "metadata": {},
   "outputs": [],
   "source": [
    "# print(\"RMSE: %f\" % (rmse))"
   ]
  },
  {
   "cell_type": "code",
   "execution_count": 38,
   "metadata": {},
   "outputs": [
    {
     "data": {
      "text/plain": [
       "LinearRegression(copy_X=True, fit_intercept=False, n_jobs=None,\n",
       "         normalize=False)"
      ]
     },
     "execution_count": 38,
     "metadata": {},
     "output_type": "execute_result"
    }
   ],
   "source": [
    "from sklearn.linear_model import LinearRegression\n",
    "regressor = LinearRegression(fit_intercept=False)\n",
    "regressor.fit(X_train ,y_train)"
   ]
  },
  {
   "cell_type": "code",
   "execution_count": 39,
   "metadata": {},
   "outputs": [],
   "source": [
    "linear_preds=regressor.predict(X_test)"
   ]
  },
  {
   "cell_type": "code",
   "execution_count": 40,
   "metadata": {},
   "outputs": [
    {
     "data": {
      "text/plain": [
       "-3.1607464875584315"
      ]
     },
     "execution_count": 40,
     "metadata": {},
     "output_type": "execute_result"
    }
   ],
   "source": [
    "from sklearn.metrics import r2_score\n",
    "r2_score(y_test,linear_preds)"
   ]
  },
  {
   "cell_type": "code",
   "execution_count": 41,
   "metadata": {},
   "outputs": [
    {
     "data": {
      "text/plain": [
       "-3.1607464875584315"
      ]
     },
     "execution_count": 41,
     "metadata": {},
     "output_type": "execute_result"
    }
   ],
   "source": [
    "regressor.score(X_test,y_test)"
   ]
  },
  {
   "cell_type": "code",
   "execution_count": 42,
   "metadata": {},
   "outputs": [
    {
     "name": "stdout",
     "output_type": "stream",
     "text": [
      "[23:16:48] WARNING: C:/Jenkins/workspace/xgboost-win64_release_0.90/src/objective/regression_obj.cu:152: reg:linear is now deprecated in favor of reg:squarederror.\n"
     ]
    },
    {
     "data": {
      "text/plain": [
       "RandomizedSearchCV(cv=9, error_score='raise-deprecating',\n",
       "          estimator=Pipeline(memory=None,\n",
       "     steps=[('xgbmod', XGBRFRegressor(base_score=0.5, colsample_bylevel=1, colsample_bynode=0.8,\n",
       "        colsample_bytree=1, gamma=0, learning_rate=1, max_delta_step=0,\n",
       "        max_depth=3, min_child_weight=1, missing=None, n_estimators=100,\n",
       "        n_jobs=1, nthread=None, objective='reg:linear', random_state=0,\n",
       "        reg_alpha=0, reg_lambda=1, scale_pos_weight=1, seed=None,\n",
       "        silent=None, subsample=0.8, verbosity=1))]),\n",
       "          fit_params=None, iid='warn', n_iter=10, n_jobs=-1,\n",
       "          param_distributions={'xgbmod__subsample': array([0.05]), 'xgbmod__objective': ['reg:linear'], 'xgbmod__max_depth': array([ 3,  4,  5,  6,  7,  8,  9, 10, 11, 12, 13, 14, 15, 16, 17, 18, 19]), 'xgbmod__colsample_bytree': array([0.1 , 0.15, 0.2 , 0.25, 0.3 , 0.35, 0.4 , 0.45, 0.5 , 0.55, 0.6 ,\n",
       "       ...   0.6 , 0.65, 0.7 , 0.75, 0.8 , 0.85, 0.9 , 0.95]), 'xgbmod__n_estimators': array([ 50, 100, 150])},\n",
       "          pre_dispatch='2*n_jobs', random_state=None, refit=True,\n",
       "          return_train_score=True, scoring='r2', verbose=0)"
      ]
     },
     "execution_count": 42,
     "metadata": {},
     "output_type": "execute_result"
    }
   ],
   "source": [
    "from sklearn.pipeline import Pipeline\n",
    "from sklearn.model_selection import RandomizedSearchCV\n",
    "\n",
    "xgb_pipeline = Pipeline([(\"xgbmod\", xgb.XGBRFRegressor())])\n",
    "xgb_param_grid = {'xgbmod__subsample': np.arange(.05,.1,.05),\n",
    "                  'xgbmod__objective': ['reg:linear'],\n",
    "                  'xgbmod__max_depth': np.arange(3,20,1),\n",
    "                  'xgbmod__colsample_bytree':np.arange(0.1,1.05,0.05),\n",
    "                  'xgbmod__learning_rate':np.arange(0.05 ,1 ,0.05),\n",
    "                  'xgbmod__n_estimators':np.arange(50,200 ,50)}\n",
    "search = RandomizedSearchCV(estimator=xgb_pipeline,\n",
    "                            param_distributions=xgb_param_grid,\n",
    "                            n_iter=10,\n",
    "                            cv=9,\n",
    "#                             verbose=1,\n",
    "                            n_jobs =-1,\n",
    "                            scoring='r2',\n",
    "                            return_train_score=True)\n",
    "search.fit(X_train,y_train)"
   ]
  },
  {
   "cell_type": "code",
   "execution_count": 43,
   "metadata": {},
   "outputs": [
    {
     "data": {
      "text/plain": [
       "0.08308231422021338"
      ]
     },
     "execution_count": 43,
     "metadata": {},
     "output_type": "execute_result"
    }
   ],
   "source": [
    "search.best_score_"
   ]
  },
  {
   "cell_type": "code",
   "execution_count": 44,
   "metadata": {},
   "outputs": [],
   "source": [
    "from sklearn.linear_model import Ridge\n",
    "from sklearn.ensemble import RandomForestRegressor\n",
    "from sklearn.svm import SVR\n"
   ]
  },
  {
   "cell_type": "code",
   "execution_count": 45,
   "metadata": {},
   "outputs": [
    {
     "name": "stdout",
     "output_type": "stream",
     "text": [
      "1352.2455825946806\n",
      "0.4833038115614161\n",
      "978.9602273808339\n",
      "-0.08157784360948495\n"
     ]
    }
   ],
   "source": [
    "rr = Ridge(alpha=0.01)\n",
    "rr.fit(X_train, y_train) \n",
    "pred_train_rr= rr.predict(X_train)\n",
    "print(np.sqrt(mean_squared_error(y_train,pred_train_rr)))\n",
    "print(r2_score(y_train, pred_train_rr))\n",
    "\n",
    "pred_test_rr= rr.predict(X_test)\n",
    "print(np.sqrt(mean_squared_error(y_test,pred_test_rr))) \n",
    "print(r2_score(y_test, pred_test_rr))"
   ]
  },
  {
   "cell_type": "code",
   "execution_count": 46,
   "metadata": {},
   "outputs": [
    {
     "name": "stdout",
     "output_type": "stream",
     "text": [
      "1931.2565489893245\n",
      "-0.053911283023734935\n",
      "940.120492050511\n",
      "0.0025417547158422815\n"
     ]
    }
   ],
   "source": [
    "m_svr = SVR()\n",
    "m_svr.fit(X_train, y_train) \n",
    "pred_train_rr= m_svr.predict(X_train)\n",
    "print(np.sqrt(mean_squared_error(y_train,pred_train_rr)))\n",
    "print(r2_score(y_train, pred_train_rr))\n",
    "\n",
    "pred_test_rr= m_svr.predict(X_test)\n",
    "print(np.sqrt(mean_squared_error(y_test,pred_test_rr))) \n",
    "print(r2_score(y_test, pred_test_rr))"
   ]
  },
  {
   "cell_type": "code",
   "execution_count": 47,
   "metadata": {},
   "outputs": [
    {
     "name": "stdout",
     "output_type": "stream",
     "text": [
      "805.8743548359837\n",
      "0.8164904010357615\n",
      "858.1892850101602\n",
      "0.16882234012112252\n"
     ]
    }
   ],
   "source": [
    "m_rr = RandomForestRegressor()\n",
    "m_rr.fit(X_train, y_train) \n",
    "pred_train_rr= m_rr.predict(X_train)\n",
    "print(np.sqrt(mean_squared_error(y_train,pred_train_rr)))\n",
    "print(r2_score(y_train, pred_train_rr))\n",
    "\n",
    "pred_test_rr= m_rr.predict(X_test)\n",
    "print(np.sqrt(mean_squared_error(y_test,pred_test_rr))) \n",
    "print(r2_score(y_test, pred_test_rr))"
   ]
  },
  {
   "cell_type": "code",
   "execution_count": 48,
   "metadata": {},
   "outputs": [
    {
     "name": "stdout",
     "output_type": "stream",
     "text": [
      "829.3444048216252\n",
      "0.22375730832307206\n"
     ]
    }
   ],
   "source": [
    "from sklearn.model_selection import GridSearchCV\n",
    "random_regressor = RandomForestRegressor()\n",
    "parameters = { 'max_features':np.arange(5,10),\n",
    "              'n_estimators':[500],\n",
    "              'min_samples_leaf': [10,50,100,200,500],\n",
    "              'max_depth': [5,10,15]}\n",
    "random_grid = GridSearchCV(random_regressor, parameters, cv = 5)\n",
    "random_grid.fit(X_train, y_train)\n",
    "pred_test_rr= random_grid.predict(X_test)\n",
    "print(np.sqrt(mean_squared_error(y_test,pred_test_rr))) \n",
    "print(r2_score(y_test, pred_test_rr))"
   ]
  },
  {
   "cell_type": "code",
   "execution_count": 49,
   "metadata": {},
   "outputs": [
    {
     "name": "stdout",
     "output_type": "stream",
     "text": [
      "977.8967361479927\n",
      "-0.07922918073800167\n"
     ]
    }
   ],
   "source": [
    "# Hyper parameter Tuning Ridge Regression\n",
    "ridge = Ridge()\n",
    "parameters = {'alpha':[0.01, 0.024, 0.025, 0.026, 0.03]}\n",
    "random_grid = GridSearchCV(ridge, parameters, cv = 9)\n",
    "random_grid.fit(X_train, y_train)\n",
    "pred_test_ridge= random_grid.predict(X_test)\n",
    "print(np.sqrt(mean_squared_error(y_test,pred_test_ridge))) \n",
    "print(r2_score(y_test, pred_test_ridge))"
   ]
  },
  {
   "cell_type": "code",
   "execution_count": 50,
   "metadata": {},
   "outputs": [
    {
     "data": {
      "text/plain": [
       "'0.24.2'"
      ]
     },
     "execution_count": 50,
     "metadata": {},
     "output_type": "execute_result"
    }
   ],
   "source": [
    "pd.__version__"
   ]
  },
  {
   "cell_type": "code",
   "execution_count": 51,
   "metadata": {},
   "outputs": [
    {
     "name": "stdout",
     "output_type": "stream",
     "text": [
      "1072.9496871941387\n",
      "-0.29923108025159806\n"
     ]
    }
   ],
   "source": [
    "from sklearn.linear_model import LogisticRegression\n",
    "logistic = LogisticRegression()\n",
    "logistic.fit(X_train, y_train) \n",
    "\n",
    "pred_train_logistic= logistic.predict(X_test)\n",
    "print(np.sqrt(mean_squared_error(y_test,pred_train_logistic))) \n",
    "print(r2_score(y_test, pred_train_logistic))"
   ]
  },
  {
   "cell_type": "code",
   "execution_count": null,
   "metadata": {},
   "outputs": [],
   "source": []
  }
 ],
 "metadata": {
  "kernelspec": {
   "display_name": "Python 3",
   "language": "python",
   "name": "python3"
  },
  "language_info": {
   "codemirror_mode": {
    "name": "ipython",
    "version": 3
   },
   "file_extension": ".py",
   "mimetype": "text/x-python",
   "name": "python",
   "nbconvert_exporter": "python",
   "pygments_lexer": "ipython3",
   "version": "3.7.3"
  }
 },
 "nbformat": 4,
 "nbformat_minor": 4
}
