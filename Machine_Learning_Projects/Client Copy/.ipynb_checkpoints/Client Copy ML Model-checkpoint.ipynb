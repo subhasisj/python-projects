{
 "cells": [
  {
   "cell_type": "code",
   "execution_count": 1,
   "metadata": {},
   "outputs": [],
   "source": [
    "import pandas as pd\n",
    "import numpy as np\n",
    "from scipy import stats\n",
    "import matplotlib.pyplot as plt\n",
    "import warnings\n",
    "import os\n",
    "import seaborn as sns\n",
    "warnings.filterwarnings('ignore')\n"
   ]
  },
  {
   "cell_type": "code",
   "execution_count": 2,
   "metadata": {},
   "outputs": [
    {
     "data": {
      "text/html": [
       "<div>\n",
       "<style scoped>\n",
       "    .dataframe tbody tr th:only-of-type {\n",
       "        vertical-align: middle;\n",
       "    }\n",
       "\n",
       "    .dataframe tbody tr th {\n",
       "        vertical-align: top;\n",
       "    }\n",
       "\n",
       "    .dataframe thead th {\n",
       "        text-align: right;\n",
       "    }\n",
       "</style>\n",
       "<table border=\"1\" class=\"dataframe\">\n",
       "  <thead>\n",
       "    <tr style=\"text-align: right;\">\n",
       "      <th></th>\n",
       "      <th>runtime_in_seconds</th>\n",
       "      <th>records_processed</th>\n",
       "      <th>size_in_bytes</th>\n",
       "      <th>parallel_number</th>\n",
       "      <th>copy_mode_CMPLCL</th>\n",
       "      <th>copy_mode_DELETE</th>\n",
       "      <th>copy_mode_EXPORT</th>\n",
       "      <th>copy_mode_IMPORT</th>\n",
       "      <th>copy_mode_LOCAL</th>\n",
       "      <th>copy_mode_REMOTE</th>\n",
       "      <th>...</th>\n",
       "      <th>ignore_exit_errors_NOT_SET</th>\n",
       "      <th>ignore_exit_errors_SET</th>\n",
       "      <th>ignore_table_errors_NOT_SET</th>\n",
       "      <th>ignore_table_errors_SET</th>\n",
       "      <th>lock_source_client_NOT_SET</th>\n",
       "      <th>lock_source_client_SET</th>\n",
       "      <th>use_exclusive_locks_NOT_SET</th>\n",
       "      <th>use_exclusive_locks_SET</th>\n",
       "      <th>use_table_segmenter_NOT_SET</th>\n",
       "      <th>use_table_segmenter_SET</th>\n",
       "    </tr>\n",
       "  </thead>\n",
       "  <tbody>\n",
       "    <tr>\n",
       "      <th>0</th>\n",
       "      <td>1290</td>\n",
       "      <td>30619937</td>\n",
       "      <td>2721723523</td>\n",
       "      <td>6</td>\n",
       "      <td>0</td>\n",
       "      <td>0</td>\n",
       "      <td>0</td>\n",
       "      <td>0</td>\n",
       "      <td>1</td>\n",
       "      <td>0</td>\n",
       "      <td>...</td>\n",
       "      <td>0</td>\n",
       "      <td>1</td>\n",
       "      <td>1</td>\n",
       "      <td>0</td>\n",
       "      <td>1</td>\n",
       "      <td>0</td>\n",
       "      <td>1</td>\n",
       "      <td>0</td>\n",
       "      <td>1</td>\n",
       "      <td>0</td>\n",
       "    </tr>\n",
       "    <tr>\n",
       "      <th>1</th>\n",
       "      <td>1192</td>\n",
       "      <td>48666506</td>\n",
       "      <td>3902691720</td>\n",
       "      <td>6</td>\n",
       "      <td>0</td>\n",
       "      <td>0</td>\n",
       "      <td>0</td>\n",
       "      <td>0</td>\n",
       "      <td>1</td>\n",
       "      <td>0</td>\n",
       "      <td>...</td>\n",
       "      <td>0</td>\n",
       "      <td>1</td>\n",
       "      <td>1</td>\n",
       "      <td>0</td>\n",
       "      <td>1</td>\n",
       "      <td>0</td>\n",
       "      <td>1</td>\n",
       "      <td>0</td>\n",
       "      <td>1</td>\n",
       "      <td>0</td>\n",
       "    </tr>\n",
       "    <tr>\n",
       "      <th>2</th>\n",
       "      <td>343</td>\n",
       "      <td>32653243</td>\n",
       "      <td>2246436756</td>\n",
       "      <td>7</td>\n",
       "      <td>0</td>\n",
       "      <td>0</td>\n",
       "      <td>0</td>\n",
       "      <td>0</td>\n",
       "      <td>1</td>\n",
       "      <td>0</td>\n",
       "      <td>...</td>\n",
       "      <td>1</td>\n",
       "      <td>0</td>\n",
       "      <td>1</td>\n",
       "      <td>0</td>\n",
       "      <td>0</td>\n",
       "      <td>1</td>\n",
       "      <td>0</td>\n",
       "      <td>1</td>\n",
       "      <td>1</td>\n",
       "      <td>0</td>\n",
       "    </tr>\n",
       "    <tr>\n",
       "      <th>3</th>\n",
       "      <td>1800</td>\n",
       "      <td>60944409</td>\n",
       "      <td>5673935415</td>\n",
       "      <td>10</td>\n",
       "      <td>0</td>\n",
       "      <td>0</td>\n",
       "      <td>0</td>\n",
       "      <td>0</td>\n",
       "      <td>0</td>\n",
       "      <td>1</td>\n",
       "      <td>...</td>\n",
       "      <td>0</td>\n",
       "      <td>1</td>\n",
       "      <td>0</td>\n",
       "      <td>1</td>\n",
       "      <td>0</td>\n",
       "      <td>1</td>\n",
       "      <td>1</td>\n",
       "      <td>0</td>\n",
       "      <td>1</td>\n",
       "      <td>0</td>\n",
       "    </tr>\n",
       "    <tr>\n",
       "      <th>4</th>\n",
       "      <td>249</td>\n",
       "      <td>118175632</td>\n",
       "      <td>8857599641</td>\n",
       "      <td>6</td>\n",
       "      <td>0</td>\n",
       "      <td>0</td>\n",
       "      <td>0</td>\n",
       "      <td>0</td>\n",
       "      <td>1</td>\n",
       "      <td>0</td>\n",
       "      <td>...</td>\n",
       "      <td>0</td>\n",
       "      <td>1</td>\n",
       "      <td>1</td>\n",
       "      <td>0</td>\n",
       "      <td>1</td>\n",
       "      <td>0</td>\n",
       "      <td>0</td>\n",
       "      <td>1</td>\n",
       "      <td>1</td>\n",
       "      <td>0</td>\n",
       "    </tr>\n",
       "  </tbody>\n",
       "</table>\n",
       "<p>5 rows × 33 columns</p>\n",
       "</div>"
      ],
      "text/plain": [
       "   runtime_in_seconds  records_processed  size_in_bytes  parallel_number  \\\n",
       "0                1290           30619937     2721723523                6   \n",
       "1                1192           48666506     3902691720                6   \n",
       "2                 343           32653243     2246436756                7   \n",
       "3                1800           60944409     5673935415               10   \n",
       "4                 249          118175632     8857599641                6   \n",
       "\n",
       "   copy_mode_CMPLCL  copy_mode_DELETE  copy_mode_EXPORT  copy_mode_IMPORT  \\\n",
       "0                 0                 0                 0                 0   \n",
       "1                 0                 0                 0                 0   \n",
       "2                 0                 0                 0                 0   \n",
       "3                 0                 0                 0                 0   \n",
       "4                 0                 0                 0                 0   \n",
       "\n",
       "   copy_mode_LOCAL  copy_mode_REMOTE  ...  ignore_exit_errors_NOT_SET  \\\n",
       "0                1                 0  ...                           0   \n",
       "1                1                 0  ...                           0   \n",
       "2                1                 0  ...                           1   \n",
       "3                0                 1  ...                           0   \n",
       "4                1                 0  ...                           0   \n",
       "\n",
       "   ignore_exit_errors_SET  ignore_table_errors_NOT_SET  \\\n",
       "0                       1                            1   \n",
       "1                       1                            1   \n",
       "2                       0                            1   \n",
       "3                       1                            0   \n",
       "4                       1                            1   \n",
       "\n",
       "   ignore_table_errors_SET  lock_source_client_NOT_SET  \\\n",
       "0                        0                           1   \n",
       "1                        0                           1   \n",
       "2                        0                           0   \n",
       "3                        1                           0   \n",
       "4                        0                           1   \n",
       "\n",
       "   lock_source_client_SET  use_exclusive_locks_NOT_SET  \\\n",
       "0                       0                            1   \n",
       "1                       0                            1   \n",
       "2                       1                            0   \n",
       "3                       1                            1   \n",
       "4                       0                            0   \n",
       "\n",
       "   use_exclusive_locks_SET  use_table_segmenter_NOT_SET  \\\n",
       "0                        0                            1   \n",
       "1                        0                            1   \n",
       "2                        1                            1   \n",
       "3                        0                            1   \n",
       "4                        1                            1   \n",
       "\n",
       "   use_table_segmenter_SET  \n",
       "0                        0  \n",
       "1                        0  \n",
       "2                        0  \n",
       "3                        0  \n",
       "4                        0  \n",
       "\n",
       "[5 rows x 33 columns]"
      ]
     },
     "execution_count": 2,
     "metadata": {},
     "output_type": "execute_result"
    }
   ],
   "source": [
    "cleaned_data = pd.read_csv('./dataset/cc_cleaned_data_with_dummies.csv',index_col=[0])\n",
    "cleaned_data_original = cleaned_data.copy()\n",
    "cleaned_data.head()"
   ]
  },
  {
   "cell_type": "code",
   "execution_count": null,
   "metadata": {},
   "outputs": [],
   "source": [
    "# cleaned_data.drop(columns=['parallel_number'],inplace=True)\n",
    "# cleaned_data.head()"
   ]
  },
  {
   "cell_type": "code",
   "execution_count": 3,
   "metadata": {},
   "outputs": [
    {
     "data": {
      "text/html": [
       "<div>\n",
       "<style scoped>\n",
       "    .dataframe tbody tr th:only-of-type {\n",
       "        vertical-align: middle;\n",
       "    }\n",
       "\n",
       "    .dataframe tbody tr th {\n",
       "        vertical-align: top;\n",
       "    }\n",
       "\n",
       "    .dataframe thead th {\n",
       "        text-align: right;\n",
       "    }\n",
       "</style>\n",
       "<table border=\"1\" class=\"dataframe\">\n",
       "  <thead>\n",
       "    <tr style=\"text-align: right;\">\n",
       "      <th></th>\n",
       "      <th>runtime_in_seconds</th>\n",
       "      <th>records_processed</th>\n",
       "      <th>size_in_bytes</th>\n",
       "      <th>parallel_number</th>\n",
       "      <th>copy_mode_CMPLCL</th>\n",
       "      <th>copy_mode_DELETE</th>\n",
       "      <th>copy_mode_EXPORT</th>\n",
       "      <th>copy_mode_IMPORT</th>\n",
       "      <th>copy_mode_LOCAL</th>\n",
       "      <th>copy_mode_REMOTE</th>\n",
       "      <th>...</th>\n",
       "      <th>ignore_exit_errors_NOT_SET</th>\n",
       "      <th>ignore_exit_errors_SET</th>\n",
       "      <th>ignore_table_errors_NOT_SET</th>\n",
       "      <th>ignore_table_errors_SET</th>\n",
       "      <th>lock_source_client_NOT_SET</th>\n",
       "      <th>lock_source_client_SET</th>\n",
       "      <th>use_exclusive_locks_NOT_SET</th>\n",
       "      <th>use_exclusive_locks_SET</th>\n",
       "      <th>use_table_segmenter_NOT_SET</th>\n",
       "      <th>use_table_segmenter_SET</th>\n",
       "    </tr>\n",
       "  </thead>\n",
       "  <tbody>\n",
       "    <tr>\n",
       "      <th>count</th>\n",
       "      <td>317.000000</td>\n",
       "      <td>3.170000e+02</td>\n",
       "      <td>3.170000e+02</td>\n",
       "      <td>317.000000</td>\n",
       "      <td>317.000000</td>\n",
       "      <td>317.000000</td>\n",
       "      <td>317.000000</td>\n",
       "      <td>317.000000</td>\n",
       "      <td>317.000000</td>\n",
       "      <td>317.000000</td>\n",
       "      <td>...</td>\n",
       "      <td>317.000000</td>\n",
       "      <td>317.000000</td>\n",
       "      <td>317.000000</td>\n",
       "      <td>317.000000</td>\n",
       "      <td>317.000000</td>\n",
       "      <td>317.000000</td>\n",
       "      <td>317.000000</td>\n",
       "      <td>317.000000</td>\n",
       "      <td>317.000000</td>\n",
       "      <td>317.000000</td>\n",
       "    </tr>\n",
       "    <tr>\n",
       "      <th>mean</th>\n",
       "      <td>1359.053628</td>\n",
       "      <td>1.393133e+08</td>\n",
       "      <td>7.546175e+09</td>\n",
       "      <td>7.668770</td>\n",
       "      <td>0.066246</td>\n",
       "      <td>0.037855</td>\n",
       "      <td>0.018927</td>\n",
       "      <td>0.022082</td>\n",
       "      <td>0.785489</td>\n",
       "      <td>0.041009</td>\n",
       "      <td>...</td>\n",
       "      <td>0.476341</td>\n",
       "      <td>0.523659</td>\n",
       "      <td>0.801262</td>\n",
       "      <td>0.198738</td>\n",
       "      <td>0.580442</td>\n",
       "      <td>0.419558</td>\n",
       "      <td>0.580442</td>\n",
       "      <td>0.419558</td>\n",
       "      <td>0.927445</td>\n",
       "      <td>0.072555</td>\n",
       "    </tr>\n",
       "    <tr>\n",
       "      <th>std</th>\n",
       "      <td>1061.480391</td>\n",
       "      <td>1.627329e+08</td>\n",
       "      <td>7.508500e+09</td>\n",
       "      <td>2.867441</td>\n",
       "      <td>0.249105</td>\n",
       "      <td>0.191147</td>\n",
       "      <td>0.136484</td>\n",
       "      <td>0.147183</td>\n",
       "      <td>0.411132</td>\n",
       "      <td>0.198626</td>\n",
       "      <td>...</td>\n",
       "      <td>0.500230</td>\n",
       "      <td>0.500230</td>\n",
       "      <td>0.399681</td>\n",
       "      <td>0.399681</td>\n",
       "      <td>0.494267</td>\n",
       "      <td>0.494267</td>\n",
       "      <td>0.494267</td>\n",
       "      <td>0.494267</td>\n",
       "      <td>0.259815</td>\n",
       "      <td>0.259815</td>\n",
       "    </tr>\n",
       "    <tr>\n",
       "      <th>min</th>\n",
       "      <td>13.000000</td>\n",
       "      <td>0.000000e+00</td>\n",
       "      <td>0.000000e+00</td>\n",
       "      <td>0.000000</td>\n",
       "      <td>0.000000</td>\n",
       "      <td>0.000000</td>\n",
       "      <td>0.000000</td>\n",
       "      <td>0.000000</td>\n",
       "      <td>0.000000</td>\n",
       "      <td>0.000000</td>\n",
       "      <td>...</td>\n",
       "      <td>0.000000</td>\n",
       "      <td>0.000000</td>\n",
       "      <td>0.000000</td>\n",
       "      <td>0.000000</td>\n",
       "      <td>0.000000</td>\n",
       "      <td>0.000000</td>\n",
       "      <td>0.000000</td>\n",
       "      <td>0.000000</td>\n",
       "      <td>0.000000</td>\n",
       "      <td>0.000000</td>\n",
       "    </tr>\n",
       "    <tr>\n",
       "      <th>25%</th>\n",
       "      <td>495.000000</td>\n",
       "      <td>1.711562e+07</td>\n",
       "      <td>7.236256e+08</td>\n",
       "      <td>6.000000</td>\n",
       "      <td>0.000000</td>\n",
       "      <td>0.000000</td>\n",
       "      <td>0.000000</td>\n",
       "      <td>0.000000</td>\n",
       "      <td>1.000000</td>\n",
       "      <td>0.000000</td>\n",
       "      <td>...</td>\n",
       "      <td>0.000000</td>\n",
       "      <td>0.000000</td>\n",
       "      <td>1.000000</td>\n",
       "      <td>0.000000</td>\n",
       "      <td>0.000000</td>\n",
       "      <td>0.000000</td>\n",
       "      <td>0.000000</td>\n",
       "      <td>0.000000</td>\n",
       "      <td>1.000000</td>\n",
       "      <td>0.000000</td>\n",
       "    </tr>\n",
       "    <tr>\n",
       "      <th>50%</th>\n",
       "      <td>1192.000000</td>\n",
       "      <td>7.865095e+07</td>\n",
       "      <td>5.476110e+09</td>\n",
       "      <td>10.000000</td>\n",
       "      <td>0.000000</td>\n",
       "      <td>0.000000</td>\n",
       "      <td>0.000000</td>\n",
       "      <td>0.000000</td>\n",
       "      <td>1.000000</td>\n",
       "      <td>0.000000</td>\n",
       "      <td>...</td>\n",
       "      <td>0.000000</td>\n",
       "      <td>1.000000</td>\n",
       "      <td>1.000000</td>\n",
       "      <td>0.000000</td>\n",
       "      <td>1.000000</td>\n",
       "      <td>0.000000</td>\n",
       "      <td>1.000000</td>\n",
       "      <td>0.000000</td>\n",
       "      <td>1.000000</td>\n",
       "      <td>0.000000</td>\n",
       "    </tr>\n",
       "    <tr>\n",
       "      <th>75%</th>\n",
       "      <td>1930.000000</td>\n",
       "      <td>2.298869e+08</td>\n",
       "      <td>1.199133e+10</td>\n",
       "      <td>10.000000</td>\n",
       "      <td>0.000000</td>\n",
       "      <td>0.000000</td>\n",
       "      <td>0.000000</td>\n",
       "      <td>0.000000</td>\n",
       "      <td>1.000000</td>\n",
       "      <td>0.000000</td>\n",
       "      <td>...</td>\n",
       "      <td>1.000000</td>\n",
       "      <td>1.000000</td>\n",
       "      <td>1.000000</td>\n",
       "      <td>0.000000</td>\n",
       "      <td>1.000000</td>\n",
       "      <td>1.000000</td>\n",
       "      <td>1.000000</td>\n",
       "      <td>1.000000</td>\n",
       "      <td>1.000000</td>\n",
       "      <td>0.000000</td>\n",
       "    </tr>\n",
       "    <tr>\n",
       "      <th>max</th>\n",
       "      <td>4173.000000</td>\n",
       "      <td>5.865945e+08</td>\n",
       "      <td>2.953882e+10</td>\n",
       "      <td>10.000000</td>\n",
       "      <td>1.000000</td>\n",
       "      <td>1.000000</td>\n",
       "      <td>1.000000</td>\n",
       "      <td>1.000000</td>\n",
       "      <td>1.000000</td>\n",
       "      <td>1.000000</td>\n",
       "      <td>...</td>\n",
       "      <td>1.000000</td>\n",
       "      <td>1.000000</td>\n",
       "      <td>1.000000</td>\n",
       "      <td>1.000000</td>\n",
       "      <td>1.000000</td>\n",
       "      <td>1.000000</td>\n",
       "      <td>1.000000</td>\n",
       "      <td>1.000000</td>\n",
       "      <td>1.000000</td>\n",
       "      <td>1.000000</td>\n",
       "    </tr>\n",
       "  </tbody>\n",
       "</table>\n",
       "<p>8 rows × 33 columns</p>\n",
       "</div>"
      ],
      "text/plain": [
       "       runtime_in_seconds  records_processed  size_in_bytes  parallel_number  \\\n",
       "count          317.000000       3.170000e+02   3.170000e+02       317.000000   \n",
       "mean          1359.053628       1.393133e+08   7.546175e+09         7.668770   \n",
       "std           1061.480391       1.627329e+08   7.508500e+09         2.867441   \n",
       "min             13.000000       0.000000e+00   0.000000e+00         0.000000   \n",
       "25%            495.000000       1.711562e+07   7.236256e+08         6.000000   \n",
       "50%           1192.000000       7.865095e+07   5.476110e+09        10.000000   \n",
       "75%           1930.000000       2.298869e+08   1.199133e+10        10.000000   \n",
       "max           4173.000000       5.865945e+08   2.953882e+10        10.000000   \n",
       "\n",
       "       copy_mode_CMPLCL  copy_mode_DELETE  copy_mode_EXPORT  copy_mode_IMPORT  \\\n",
       "count        317.000000        317.000000        317.000000        317.000000   \n",
       "mean           0.066246          0.037855          0.018927          0.022082   \n",
       "std            0.249105          0.191147          0.136484          0.147183   \n",
       "min            0.000000          0.000000          0.000000          0.000000   \n",
       "25%            0.000000          0.000000          0.000000          0.000000   \n",
       "50%            0.000000          0.000000          0.000000          0.000000   \n",
       "75%            0.000000          0.000000          0.000000          0.000000   \n",
       "max            1.000000          1.000000          1.000000          1.000000   \n",
       "\n",
       "       copy_mode_LOCAL  copy_mode_REMOTE  ...  ignore_exit_errors_NOT_SET  \\\n",
       "count       317.000000        317.000000  ...                  317.000000   \n",
       "mean          0.785489          0.041009  ...                    0.476341   \n",
       "std           0.411132          0.198626  ...                    0.500230   \n",
       "min           0.000000          0.000000  ...                    0.000000   \n",
       "25%           1.000000          0.000000  ...                    0.000000   \n",
       "50%           1.000000          0.000000  ...                    0.000000   \n",
       "75%           1.000000          0.000000  ...                    1.000000   \n",
       "max           1.000000          1.000000  ...                    1.000000   \n",
       "\n",
       "       ignore_exit_errors_SET  ignore_table_errors_NOT_SET  \\\n",
       "count              317.000000                   317.000000   \n",
       "mean                 0.523659                     0.801262   \n",
       "std                  0.500230                     0.399681   \n",
       "min                  0.000000                     0.000000   \n",
       "25%                  0.000000                     1.000000   \n",
       "50%                  1.000000                     1.000000   \n",
       "75%                  1.000000                     1.000000   \n",
       "max                  1.000000                     1.000000   \n",
       "\n",
       "       ignore_table_errors_SET  lock_source_client_NOT_SET  \\\n",
       "count               317.000000                  317.000000   \n",
       "mean                  0.198738                    0.580442   \n",
       "std                   0.399681                    0.494267   \n",
       "min                   0.000000                    0.000000   \n",
       "25%                   0.000000                    0.000000   \n",
       "50%                   0.000000                    1.000000   \n",
       "75%                   0.000000                    1.000000   \n",
       "max                   1.000000                    1.000000   \n",
       "\n",
       "       lock_source_client_SET  use_exclusive_locks_NOT_SET  \\\n",
       "count              317.000000                   317.000000   \n",
       "mean                 0.419558                     0.580442   \n",
       "std                  0.494267                     0.494267   \n",
       "min                  0.000000                     0.000000   \n",
       "25%                  0.000000                     0.000000   \n",
       "50%                  0.000000                     1.000000   \n",
       "75%                  1.000000                     1.000000   \n",
       "max                  1.000000                     1.000000   \n",
       "\n",
       "       use_exclusive_locks_SET  use_table_segmenter_NOT_SET  \\\n",
       "count               317.000000                   317.000000   \n",
       "mean                  0.419558                     0.927445   \n",
       "std                   0.494267                     0.259815   \n",
       "min                   0.000000                     0.000000   \n",
       "25%                   0.000000                     1.000000   \n",
       "50%                   0.000000                     1.000000   \n",
       "75%                   1.000000                     1.000000   \n",
       "max                   1.000000                     1.000000   \n",
       "\n",
       "       use_table_segmenter_SET  \n",
       "count               317.000000  \n",
       "mean                  0.072555  \n",
       "std                   0.259815  \n",
       "min                   0.000000  \n",
       "25%                   0.000000  \n",
       "50%                   0.000000  \n",
       "75%                   0.000000  \n",
       "max                   1.000000  \n",
       "\n",
       "[8 rows x 33 columns]"
      ]
     },
     "execution_count": 3,
     "metadata": {},
     "output_type": "execute_result"
    }
   ],
   "source": [
    "cleaned_data.describe()"
   ]
  },
  {
   "cell_type": "markdown",
   "metadata": {},
   "source": [
    "### lets check the distribution of various numeric features"
   ]
  },
  {
   "cell_type": "code",
   "execution_count": 4,
   "metadata": {},
   "outputs": [
    {
     "data": {
      "image/png": "[encoded data removed]",
      "text/plain": [
       "<Figure size 864x504 with 1 Axes>"
      ]
     },
     "metadata": {
      "needs_background": "light"
     },
     "output_type": "display_data"
    }
   ],
   "source": [
    "\n",
    "plt.figure(figsize=(12,7))\n",
    "sns.distplot(cleaned_data['records_processed'],\n",
    "             label = '1',\n",
    "             color = 'red',\n",
    "             bins=50\n",
    "            )\n",
    "plt.show()"
   ]
  },
  {
   "cell_type": "markdown",
   "metadata": {},
   "source": [
    "Let's normalize it"
   ]
  },
  {
   "cell_type": "code",
   "execution_count": 5,
   "metadata": {},
   "outputs": [
    {
     "ename": "ValueError",
     "evalue": "Data must be positive.",
     "output_type": "error",
     "traceback": [
      "\u001b[1;31m---------------------------------------------------------------------------\u001b[0m",
      "\u001b[1;31mValueError\u001b[0m                                Traceback (most recent call last)",
      "\u001b[1;32m<ipython-input-5-2273a395d8ed>\u001b[0m in \u001b[0;36m<module>\u001b[1;34m\u001b[0m\n\u001b[1;32m----> 1\u001b[1;33m \u001b[0mnormalized_data\u001b[0m\u001b[1;33m,\u001b[0m\u001b[0mfitted\u001b[0m \u001b[1;33m=\u001b[0m \u001b[0mstats\u001b[0m\u001b[1;33m.\u001b[0m\u001b[0mboxcox\u001b[0m\u001b[1;33m(\u001b[0m\u001b[0mcleaned_data\u001b[0m\u001b[1;33m[\u001b[0m\u001b[1;34m'records_processed'\u001b[0m\u001b[1;33m]\u001b[0m\u001b[1;33m)\u001b[0m\u001b[1;33m\u001b[0m\u001b[1;33m\u001b[0m\u001b[0m\n\u001b[0m\u001b[0;32m      2\u001b[0m \u001b[0msns\u001b[0m\u001b[1;33m.\u001b[0m\u001b[0mdistplot\u001b[0m\u001b[1;33m(\u001b[0m\u001b[0mnormalized_data\u001b[0m\u001b[1;33m)\u001b[0m\u001b[1;33m\u001b[0m\u001b[1;33m\u001b[0m\u001b[0m\n",
      "\u001b[1;32m~\\AppData\\Local\\Continuum\\anaconda3\\lib\\site-packages\\scipy\\stats\\morestats.py\u001b[0m in \u001b[0;36mboxcox\u001b[1;34m(x, lmbda, alpha)\u001b[0m\n\u001b[0;32m   1037\u001b[0m \u001b[1;33m\u001b[0m\u001b[0m\n\u001b[0;32m   1038\u001b[0m     \u001b[1;32mif\u001b[0m \u001b[0many\u001b[0m\u001b[1;33m(\u001b[0m\u001b[0mx\u001b[0m \u001b[1;33m<=\u001b[0m \u001b[1;36m0\u001b[0m\u001b[1;33m)\u001b[0m\u001b[1;33m:\u001b[0m\u001b[1;33m\u001b[0m\u001b[1;33m\u001b[0m\u001b[0m\n\u001b[1;32m-> 1039\u001b[1;33m         \u001b[1;32mraise\u001b[0m \u001b[0mValueError\u001b[0m\u001b[1;33m(\u001b[0m\u001b[1;34m\"Data must be positive.\"\u001b[0m\u001b[1;33m)\u001b[0m\u001b[1;33m\u001b[0m\u001b[1;33m\u001b[0m\u001b[0m\n\u001b[0m\u001b[0;32m   1040\u001b[0m \u001b[1;33m\u001b[0m\u001b[0m\n\u001b[0;32m   1041\u001b[0m     \u001b[1;32mif\u001b[0m \u001b[0mlmbda\u001b[0m \u001b[1;32mis\u001b[0m \u001b[1;32mnot\u001b[0m \u001b[1;32mNone\u001b[0m\u001b[1;33m:\u001b[0m  \u001b[1;31m# single transformation\u001b[0m\u001b[1;33m\u001b[0m\u001b[1;33m\u001b[0m\u001b[0m\n",
      "\u001b[1;31mValueError\u001b[0m: Data must be positive."
     ]
    }
   ],
   "source": [
    "normalized_data,fitted = stats.boxcox(cleaned_data['records_processed'])\n",
    "sns.distplot(normalized_data)"
   ]
  },
  {
   "cell_type": "code",
   "execution_count": null,
   "metadata": {},
   "outputs": [],
   "source": [
    "cleaned_data['records_processed'] = normalized_data"
   ]
  },
  {
   "cell_type": "code",
   "execution_count": null,
   "metadata": {},
   "outputs": [],
   "source": [
    "cleaned_data.head()"
   ]
  },
  {
   "cell_type": "code",
   "execution_count": null,
   "metadata": {},
   "outputs": [],
   "source": [
    "plt.figure(figsize=(12,7))\n",
    "sns.distplot(cleaned_data['size_in_bytes'],\n",
    "             label = '1',\n",
    "             color = 'red',\n",
    "             bins=50\n",
    "            )\n",
    "plt.show()"
   ]
  },
  {
   "cell_type": "code",
   "execution_count": 8,
   "metadata": {},
   "outputs": [
    {
     "ename": "ValueError",
     "evalue": "Data must be positive.",
     "output_type": "error",
     "traceback": [
      "\u001b[1;31m---------------------------------------------------------------------------\u001b[0m",
      "\u001b[1;31mValueError\u001b[0m                                Traceback (most recent call last)",
      "\u001b[1;32m<ipython-input-8-6fe43f2b7675>\u001b[0m in \u001b[0;36m<module>\u001b[1;34m\u001b[0m\n\u001b[1;32m----> 1\u001b[1;33m \u001b[0mnormalized_data\u001b[0m\u001b[1;33m,\u001b[0m\u001b[0mfitted\u001b[0m \u001b[1;33m=\u001b[0m \u001b[0mstats\u001b[0m\u001b[1;33m.\u001b[0m\u001b[0mboxcox\u001b[0m\u001b[1;33m(\u001b[0m\u001b[0mcleaned_data\u001b[0m\u001b[1;33m[\u001b[0m\u001b[1;34m'size_in_bytes'\u001b[0m\u001b[1;33m]\u001b[0m\u001b[1;33m)\u001b[0m\u001b[1;33m\u001b[0m\u001b[1;33m\u001b[0m\u001b[0m\n\u001b[0m\u001b[0;32m      2\u001b[0m \u001b[0msns\u001b[0m\u001b[1;33m.\u001b[0m\u001b[0mdistplot\u001b[0m\u001b[1;33m(\u001b[0m\u001b[0mnormalized_data\u001b[0m\u001b[1;33m)\u001b[0m\u001b[1;33m\u001b[0m\u001b[1;33m\u001b[0m\u001b[0m\n",
      "\u001b[1;32m~\\AppData\\Local\\Continuum\\anaconda3\\lib\\site-packages\\scipy\\stats\\morestats.py\u001b[0m in \u001b[0;36mboxcox\u001b[1;34m(x, lmbda, alpha)\u001b[0m\n\u001b[0;32m   1037\u001b[0m \u001b[1;33m\u001b[0m\u001b[0m\n\u001b[0;32m   1038\u001b[0m     \u001b[1;32mif\u001b[0m \u001b[0many\u001b[0m\u001b[1;33m(\u001b[0m\u001b[0mx\u001b[0m \u001b[1;33m<=\u001b[0m \u001b[1;36m0\u001b[0m\u001b[1;33m)\u001b[0m\u001b[1;33m:\u001b[0m\u001b[1;33m\u001b[0m\u001b[1;33m\u001b[0m\u001b[0m\n\u001b[1;32m-> 1039\u001b[1;33m         \u001b[1;32mraise\u001b[0m \u001b[0mValueError\u001b[0m\u001b[1;33m(\u001b[0m\u001b[1;34m\"Data must be positive.\"\u001b[0m\u001b[1;33m)\u001b[0m\u001b[1;33m\u001b[0m\u001b[1;33m\u001b[0m\u001b[0m\n\u001b[0m\u001b[0;32m   1040\u001b[0m \u001b[1;33m\u001b[0m\u001b[0m\n\u001b[0;32m   1041\u001b[0m     \u001b[1;32mif\u001b[0m \u001b[0mlmbda\u001b[0m \u001b[1;32mis\u001b[0m \u001b[1;32mnot\u001b[0m \u001b[1;32mNone\u001b[0m\u001b[1;33m:\u001b[0m  \u001b[1;31m# single transformation\u001b[0m\u001b[1;33m\u001b[0m\u001b[1;33m\u001b[0m\u001b[0m\n",
      "\u001b[1;31mValueError\u001b[0m: Data must be positive."
     ]
    }
   ],
   "source": [
    "normalized_data,fitted = stats.boxcox(cleaned_data['size_in_bytes'])\n",
    "sns.distplot(normalized_data)"
   ]
  },
  {
   "cell_type": "code",
   "execution_count": null,
   "metadata": {},
   "outputs": [],
   "source": [
    "cleaned_data['size_in_bytes'] = normalized_data"
   ]
  },
  {
   "cell_type": "code",
   "execution_count": 7,
   "metadata": {},
   "outputs": [
    {
     "data": {
      "text/plain": [
       "<matplotlib.axes._subplots.AxesSubplot at 0x14ce2866128>"
      ]
     },
     "execution_count": 7,
     "metadata": {},
     "output_type": "execute_result"
    },
    {
     "data": {
      "image/png": "[encoded data removed]",
      "text/plain": [
       "<Figure size 432x288 with 1 Axes>"
      ]
     },
     "metadata": {
      "needs_background": "light"
     },
     "output_type": "display_data"
    }
   ],
   "source": [
    "normalized_data,fitted = stats.boxcox(cleaned_data['runtime_in_seconds'])\n",
    "sns.distplot(normalized_data)"
   ]
  },
  {
   "cell_type": "code",
   "execution_count": null,
   "metadata": {},
   "outputs": [],
   "source": [
    "cleaned_data['runtime_in_ms'] = normalized_data"
   ]
  },
  {
   "cell_type": "code",
   "execution_count": 12,
   "metadata": {},
   "outputs": [],
   "source": [
    "y = cleaned_data.runtime_in_seconds\n",
    "# X = cleaned_data.loc[:, cleaned_data.columns != 'runtime_in_ms']\n",
    "X = cleaned_data.drop(columns = ['runtime_in_seconds'])"
   ]
  },
  {
   "cell_type": "code",
   "execution_count": 13,
   "metadata": {},
   "outputs": [],
   "source": [
    "from sklearn.model_selection import train_test_split\n",
    "\n",
    "X_train,X_test,y_train,y_test = train_test_split(X,y,test_size=0.2,random_state = 4)"
   ]
  },
  {
   "cell_type": "code",
   "execution_count": 14,
   "metadata": {},
   "outputs": [],
   "source": [
    "from sklearn.preprocessing import PolynomialFeatures\n",
    "\n",
    "poly_reg = PolynomialFeatures(degree=3)\n",
    "X_train_poly = poly_reg.fit_transform(X_train)\n"
   ]
  },
  {
   "cell_type": "code",
   "execution_count": 15,
   "metadata": {},
   "outputs": [
    {
     "name": "stdout",
     "output_type": "stream",
     "text": [
      "-1.0159826590562262\n"
     ]
    }
   ],
   "source": [
    "from sklearn.linear_model import LinearRegression\n",
    "from sklearn.metrics import r2_score\n",
    "linear = LinearRegression()\n",
    "linear.fit(X_train_poly,y_train)\n",
    "y_pred=linear.predict(poly_reg.fit_transform(X_test))\n",
    "print(r2_score(y_test,y_pred))"
   ]
  },
  {
   "cell_type": "code",
   "execution_count": 16,
   "metadata": {},
   "outputs": [
    {
     "data": {
      "text/plain": [
       "-1.0159826590562262"
      ]
     },
     "execution_count": 16,
     "metadata": {},
     "output_type": "execute_result"
    }
   ],
   "source": [
    "linear.score(poly_reg.fit_transform(X_test),y_test)"
   ]
  },
  {
   "cell_type": "markdown",
   "metadata": {},
   "source": [
    "### R2 Score = 0.695294231970498\n",
    "### That is it correctly predicts the right runtime __69.5 %__ of the times"
   ]
  },
  {
   "cell_type": "code",
   "execution_count": 17,
   "metadata": {},
   "outputs": [
    {
     "data": {
      "image/png": "[encoded data removed]",
      "text/plain": [
       "<Figure size 432x288 with 1 Axes>"
      ]
     },
     "metadata": {
      "needs_background": "light"
     },
     "output_type": "display_data"
    }
   ],
   "source": [
    "plt.scatter(X.size_in_bytes ,y,s=10)\n",
    "plt.plot(X_test,y_pred,color= 'm')\n",
    "plt.show()"
   ]
  },
  {
   "cell_type": "code",
   "execution_count": 18,
   "metadata": {},
   "outputs": [],
   "source": [
    "import xgboost as xgb\n",
    "from sklearn.metrics import mean_squared_error\n",
    "xgbModel = xgb.XGBRegressor()"
   ]
  },
  {
   "cell_type": "code",
   "execution_count": 19,
   "metadata": {},
   "outputs": [
    {
     "name": "stdout",
     "output_type": "stream",
     "text": [
      "[19:12:51] WARNING: C:/Jenkins/workspace/xgboost-win64_release_0.90/src/objective/regression_obj.cu:152: reg:linear is now deprecated in favor of reg:squarederror.\n"
     ]
    },
    {
     "data": {
      "text/plain": [
       "XGBRegressor(base_score=0.5, booster='gbtree', colsample_bylevel=1,\n",
       "             colsample_bynode=1, colsample_bytree=1, gamma=0,\n",
       "             importance_type='gain', learning_rate=0.1, max_delta_step=0,\n",
       "             max_depth=3, min_child_weight=1, missing=None, n_estimators=100,\n",
       "             n_jobs=1, nthread=None, objective='reg:linear', random_state=0,\n",
       "             reg_alpha=0, reg_lambda=1, scale_pos_weight=1, seed=None,\n",
       "             silent=None, subsample=1, verbosity=1)"
      ]
     },
     "execution_count": 19,
     "metadata": {},
     "output_type": "execute_result"
    }
   ],
   "source": [
    "xgbModel.fit(X_train_poly,y_train)"
   ]
  },
  {
   "cell_type": "code",
   "execution_count": 20,
   "metadata": {},
   "outputs": [],
   "source": [
    "y_xgb_pred=xgbModel.predict(poly_reg.fit_transform(X_test))"
   ]
  },
  {
   "cell_type": "code",
   "execution_count": 21,
   "metadata": {},
   "outputs": [
    {
     "data": {
      "text/plain": [
       "0.3167382472662228"
      ]
     },
     "execution_count": 21,
     "metadata": {},
     "output_type": "execute_result"
    }
   ],
   "source": [
    "r2_score(y_test,y_xgb_pred)"
   ]
  },
  {
   "cell_type": "code",
   "execution_count": null,
   "metadata": {},
   "outputs": [],
   "source": []
  },
  {
   "cell_type": "markdown",
   "metadata": {},
   "source": [
    "### Lets try to reduce the dimensionality of the data and test the performance"
   ]
  },
  {
   "cell_type": "code",
   "execution_count": 22,
   "metadata": {},
   "outputs": [],
   "source": [
    "y = cleaned_data['runtime_in_seconds']\n",
    "X = cleaned_data.loc[:, cleaned_data.columns != 'runtime_in_seconds']"
   ]
  },
  {
   "cell_type": "code",
   "execution_count": 23,
   "metadata": {},
   "outputs": [
    {
     "name": "stdout",
     "output_type": "stream",
     "text": [
      "New shape : (317, 2)\n"
     ]
    }
   ],
   "source": [
    "from sklearn.decomposition import PCA\n",
    "pca = PCA(n_components=2)\n",
    "x_pca_data = pca.fit_transform(X)\n",
    "print('New shape :',x_pca_data.shape)"
   ]
  },
  {
   "cell_type": "code",
   "execution_count": 24,
   "metadata": {},
   "outputs": [
    {
     "name": "stdout",
     "output_type": "stream",
     "text": [
      "pca (317, 3)\n",
      "pca_df (317, 3)\n"
     ]
    }
   ],
   "source": [
    "# Attach the label\n",
    "pca_data = np.vstack((x_pca_data.T,y)).T\n",
    "print('pca',pca_data.shape)\n",
    "pca_df = pd.DataFrame(pca_data)\n",
    "print('pca_df',pca_df.shape)  "
   ]
  },
  {
   "cell_type": "code",
   "execution_count": 25,
   "metadata": {},
   "outputs": [
    {
     "data": {
      "text/html": [
       "<div>\n",
       "<style scoped>\n",
       "    .dataframe tbody tr th:only-of-type {\n",
       "        vertical-align: middle;\n",
       "    }\n",
       "\n",
       "    .dataframe tbody tr th {\n",
       "        vertical-align: top;\n",
       "    }\n",
       "\n",
       "    .dataframe thead th {\n",
       "        text-align: right;\n",
       "    }\n",
       "</style>\n",
       "<table border=\"1\" class=\"dataframe\">\n",
       "  <thead>\n",
       "    <tr style=\"text-align: right;\">\n",
       "      <th></th>\n",
       "      <th>pc_1</th>\n",
       "      <th>pc_2</th>\n",
       "      <th>runtime_in_ms</th>\n",
       "    </tr>\n",
       "  </thead>\n",
       "  <tbody>\n",
       "    <tr>\n",
       "      <th>0</th>\n",
       "      <td>-4.825663e+09</td>\n",
       "      <td>1.089750e+07</td>\n",
       "      <td>1290.0</td>\n",
       "    </tr>\n",
       "    <tr>\n",
       "      <th>1</th>\n",
       "      <td>-3.644572e+09</td>\n",
       "      <td>1.678845e+07</td>\n",
       "      <td>1192.0</td>\n",
       "    </tr>\n",
       "    <tr>\n",
       "      <th>2</th>\n",
       "      <td>-5.300811e+09</td>\n",
       "      <td>-7.676770e+05</td>\n",
       "      <td>343.0</td>\n",
       "    </tr>\n",
       "    <tr>\n",
       "      <th>3</th>\n",
       "      <td>-1.873443e+09</td>\n",
       "      <td>4.040955e+07</td>\n",
       "      <td>1800.0</td>\n",
       "    </tr>\n",
       "    <tr>\n",
       "      <th>4</th>\n",
       "      <td>1.310727e+09</td>\n",
       "      <td>4.771106e+07</td>\n",
       "      <td>249.0</td>\n",
       "    </tr>\n",
       "  </tbody>\n",
       "</table>\n",
       "</div>"
      ],
      "text/plain": [
       "           pc_1          pc_2  runtime_in_ms\n",
       "0 -4.825663e+09  1.089750e+07         1290.0\n",
       "1 -3.644572e+09  1.678845e+07         1192.0\n",
       "2 -5.300811e+09 -7.676770e+05          343.0\n",
       "3 -1.873443e+09  4.040955e+07         1800.0\n",
       "4  1.310727e+09  4.771106e+07          249.0"
      ]
     },
     "execution_count": 25,
     "metadata": {},
     "output_type": "execute_result"
    }
   ],
   "source": [
    "pca_df.columns = ['pc_1','pc_2','runtime_in_ms']\n",
    "pca_df.head()"
   ]
  },
  {
   "cell_type": "code",
   "execution_count": 26,
   "metadata": {},
   "outputs": [
    {
     "data": {
      "image/png": "[encoded data removed]",
      "text/plain": [
       "<Figure size 432x432 with 1 Axes>"
      ]
     },
     "metadata": {
      "needs_background": "light"
     },
     "output_type": "display_data"
    }
   ],
   "source": [
    "sns.FacetGrid(pca_df,hue='runtime_in_ms',size = 6).map(plt.scatter,'pc_1','pc_2')\n",
    "plt.show()"
   ]
  },
  {
   "cell_type": "code",
   "execution_count": 27,
   "metadata": {},
   "outputs": [],
   "source": [
    "X_train, X_test ,y_train ,y_test = train_test_split(x_pca_data,\n",
    "                                                    y,\n",
    "                                                    test_size=0.3)"
   ]
  },
  {
   "cell_type": "code",
   "execution_count": 28,
   "metadata": {},
   "outputs": [],
   "source": [
    "from sklearn.linear_model import Ridge\n",
    "\n",
    "ridge_model = Ridge()\n",
    "ridge_model.fit(X_train,y_train)\n",
    "y_ridge_pred = ridge_model.predict(X_test)"
   ]
  },
  {
   "cell_type": "code",
   "execution_count": 29,
   "metadata": {},
   "outputs": [
    {
     "data": {
      "text/plain": [
       "-0.061669437149566075"
      ]
     },
     "execution_count": 29,
     "metadata": {},
     "output_type": "execute_result"
    }
   ],
   "source": [
    "r2_score(y_test,y_ridge_pred)"
   ]
  },
  {
   "cell_type": "markdown",
   "metadata": {},
   "source": [
    "### Feature Elimination"
   ]
  },
  {
   "cell_type": "code",
   "execution_count": 30,
   "metadata": {},
   "outputs": [
    {
     "data": {
      "image/png": "[encoded data removed]",
      "text/plain": [
       "<Figure size 432x288 with 1 Axes>"
      ]
     },
     "metadata": {
      "needs_background": "light"
     },
     "output_type": "display_data"
    }
   ],
   "source": [
    "X_train, X_test ,y_train ,y_test = train_test_split(X,\n",
    "                                                    y,\n",
    "                                                    test_size=0.3,\n",
    "                                                    random_state = 4,\n",
    "                                                   )\n",
    "\n",
    "\n",
    "from sklearn.feature_selection import RFECV\n",
    "\n",
    "rid = Ridge()\n",
    "rfecv = RFECV(estimator=rid,step =1,cv=10,scoring='r2')\n",
    "rfecv.fit(X_train,y_train)\n",
    "\n",
    "plt.figure()\n",
    "plt.title('Logistic Regression CV score vs No of Features')\n",
    "plt.xlabel(\"Number of features selected\")\n",
    "plt.ylabel(\"Cross validation score (nb of correct classifications)\")\n",
    "plt.plot(range(1, len(rfecv.grid_scores_) + 1), rfecv.grid_scores_)\n",
    "plt.show()"
   ]
  },
  {
   "cell_type": "markdown",
   "metadata": {},
   "source": [
    "### AutoML"
   ]
  },
  {
   "cell_type": "markdown",
   "metadata": {},
   "source": [
    "#### H2o"
   ]
  },
  {
   "cell_type": "code",
   "execution_count": 31,
   "metadata": {},
   "outputs": [
    {
     "name": "stdout",
     "output_type": "stream",
     "text": [
      "Checking whether there is an H2O instance running at http://localhost:54321..... not found.\n",
      "Attempting to start a local H2O server...\n",
      "; Java HotSpot(TM) 64-Bit Server VM (build 25.231-b11, mixed mode)\n",
      "  Starting server from C:\\Users\\i323570\\AppData\\Local\\Continuum\\anaconda3\\lib\\site-packages\\h2o\\backend\\bin\\h2o.jar\n",
      "  Ice root: C:\\Users\\i323570\\AppData\\Local\\Temp\\tmpxefc1wq7\n",
      "  JVM stdout: C:\\Users\\i323570\\AppData\\Local\\Temp\\tmpxefc1wq7\\h2o_I323570_started_from_python.out\n",
      "  JVM stderr: C:\\Users\\i323570\\AppData\\Local\\Temp\\tmpxefc1wq7\\h2o_I323570_started_from_python.err\n",
      "  Server is running at http://127.0.0.1:54321\n",
      "Connecting to H2O server at http://127.0.0.1:54321... successful.\n",
      "Warning: Your H2O cluster version is too old (1 year, 2 months and 15 days)! Please download and install the latest version from http://h2o.ai/download/\n"
     ]
    },
    {
     "data": {
      "text/html": [
       "<div style=\"overflow:auto\"><table style=\"width:50%\"><tr><td>H2O cluster uptime:</td>\n",
       "<td>04 secs</td></tr>\n",
       "<tr><td>H2O cluster timezone:</td>\n",
       "<td>Asia/Kolkata</td></tr>\n",
       "<tr><td>H2O data parsing timezone:</td>\n",
       "<td>UTC</td></tr>\n",
       "<tr><td>H2O cluster version:</td>\n",
       "<td>3.22.0.1</td></tr>\n",
       "<tr><td>H2O cluster version age:</td>\n",
       "<td>1 year, 2 months and 15 days !!!</td></tr>\n",
       "<tr><td>H2O cluster name:</td>\n",
       "<td>H2O_from_python_I323570_k49s20</td></tr>\n",
       "<tr><td>H2O cluster total nodes:</td>\n",
       "<td>1</td></tr>\n",
       "<tr><td>H2O cluster free memory:</td>\n",
       "<td>3.521 Gb</td></tr>\n",
       "<tr><td>H2O cluster total cores:</td>\n",
       "<td>0</td></tr>\n",
       "<tr><td>H2O cluster allowed cores:</td>\n",
       "<td>0</td></tr>\n",
       "<tr><td>H2O cluster status:</td>\n",
       "<td>accepting new members, healthy</td></tr>\n",
       "<tr><td>H2O connection url:</td>\n",
       "<td>http://127.0.0.1:54321</td></tr>\n",
       "<tr><td>H2O connection proxy:</td>\n",
       "<td>None</td></tr>\n",
       "<tr><td>H2O internal security:</td>\n",
       "<td>False</td></tr>\n",
       "<tr><td>H2O API Extensions:</td>\n",
       "<td>Algos, AutoML, Core V3, Core V4</td></tr>\n",
       "<tr><td>Python version:</td>\n",
       "<td>3.7.3 final</td></tr></table></div>"
      ],
      "text/plain": [
       "--------------------------  --------------------------------\n",
       "H2O cluster uptime:         04 secs\n",
       "H2O cluster timezone:       Asia/Kolkata\n",
       "H2O data parsing timezone:  UTC\n",
       "H2O cluster version:        3.22.0.1\n",
       "H2O cluster version age:    1 year, 2 months and 15 days !!!\n",
       "H2O cluster name:           H2O_from_python_I323570_k49s20\n",
       "H2O cluster total nodes:    1\n",
       "H2O cluster free memory:    3.521 Gb\n",
       "H2O cluster total cores:    0\n",
       "H2O cluster allowed cores:  0\n",
       "H2O cluster status:         accepting new members, healthy\n",
       "H2O connection url:         http://127.0.0.1:54321\n",
       "H2O connection proxy:\n",
       "H2O internal security:      False\n",
       "H2O API Extensions:         Algos, AutoML, Core V3, Core V4\n",
       "Python version:             3.7.3 final\n",
       "--------------------------  --------------------------------"
      ]
     },
     "metadata": {},
     "output_type": "display_data"
    }
   ],
   "source": [
    "import h2o\n",
    "from h2o.automl import H2OAutoML\n",
    "\n",
    "h2o.init()"
   ]
  },
  {
   "cell_type": "markdown",
   "metadata": {},
   "source": [
    "#### Read the original Local Copy data and load to H2o"
   ]
  },
  {
   "cell_type": "code",
   "execution_count": 32,
   "metadata": {},
   "outputs": [
    {
     "name": "stdout",
     "output_type": "stream",
     "text": [
      "Shape of training data : (253, 12)\n",
      "Shape of testing data : (64, 12)\n"
     ]
    }
   ],
   "source": [
    "copies_data = pd.read_csv('./dataset/cleaned_copies_data_outliers_removed.csv')\n",
    "copies_data.head()\n",
    "train = copies_data.iloc[:int(len(copies_data)*0.80)]\n",
    "test = copies_data.iloc[int(len(copies_data)*0.80):]\n",
    "\n",
    "print('Shape of training data : {}'.format(train.shape))\n",
    "print('Shape of testing data : {}'.format(test.shape))"
   ]
  },
  {
   "cell_type": "code",
   "execution_count": 33,
   "metadata": {},
   "outputs": [
    {
     "name": "stdout",
     "output_type": "stream",
     "text": [
      "Parse progress: |█████████████████████████████████████████████████████████| 100%\n",
      "Rows:317\n",
      "Cols:12\n",
      "\n",
      "\n"
     ]
    },
    {
     "data": {
      "text/html": [
       "<table>\n",
       "<thead>\n",
       "<tr><th>       </th><th>copy_mode  </th><th>profile  </th><th>runtime_in_seconds  </th><th>status   </th><th>records_processed  </th><th>size_in_bytes     </th><th>ignore_exit_errors  </th><th>ignore_table_errors  </th><th>lock_source_client  </th><th>parallel_number   </th><th>use_exclusive_locks  </th><th>use_table_segmenter  </th></tr>\n",
       "</thead>\n",
       "<tbody>\n",
       "<tr><td>type   </td><td>enum       </td><td>enum     </td><td>int                 </td><td>enum     </td><td>int                </td><td>int               </td><td>enum                </td><td>enum                 </td><td>enum                </td><td>int               </td><td>enum                 </td><td>enum                 </td></tr>\n",
       "<tr><td>mins   </td><td>           </td><td>         </td><td>13.0                </td><td>         </td><td>0.0                </td><td>0.0               </td><td>                    </td><td>                     </td><td>                    </td><td>0.0               </td><td>                     </td><td>                     </td></tr>\n",
       "<tr><td>mean   </td><td>           </td><td>         </td><td>1359.0536277602525  </td><td>         </td><td>139313347.17665604 </td><td>7546174500.899052 </td><td>                    </td><td>                     </td><td>                    </td><td>7.668769716088328 </td><td>                     </td><td>                     </td></tr>\n",
       "<tr><td>maxs   </td><td>           </td><td>         </td><td>4173.0              </td><td>         </td><td>586594490.0        </td><td>29538815619.0     </td><td>                    </td><td>                     </td><td>                    </td><td>10.0              </td><td>                     </td><td>                     </td></tr>\n",
       "<tr><td>sigma  </td><td>           </td><td>         </td><td>1061.4803910259875  </td><td>         </td><td>162732870.5406133  </td><td>7508499565.5687895</td><td>                    </td><td>                     </td><td>                    </td><td>2.8674409820271975</td><td>                     </td><td>                     </td></tr>\n",
       "<tr><td>zeros  </td><td>           </td><td>         </td><td>0                   </td><td>         </td><td>25                 </td><td>25                </td><td>                    </td><td>                     </td><td>                    </td><td>18                </td><td>                     </td><td>                     </td></tr>\n",
       "<tr><td>missing</td><td>0          </td><td>0        </td><td>0                   </td><td>0        </td><td>0                  </td><td>0                 </td><td>0                   </td><td>0                    </td><td>0                   </td><td>0                 </td><td>0                    </td><td>0                    </td></tr>\n",
       "<tr><td>0      </td><td>LOCAL      </td><td>SAP_UCSV </td><td>1290.0              </td><td>FINISHED </td><td>30619937.0         </td><td>2721723523.0      </td><td>SET                 </td><td>NOT_SET              </td><td>NOT_SET             </td><td>6.0               </td><td>NOT_SET              </td><td>NOT_SET              </td></tr>\n",
       "<tr><td>1      </td><td>LOCAL      </td><td>SAP_UCSV </td><td>1192.0              </td><td>FINISHED </td><td>48666506.0         </td><td>3902691720.0      </td><td>SET                 </td><td>NOT_SET              </td><td>NOT_SET             </td><td>6.0               </td><td>NOT_SET              </td><td>NOT_SET              </td></tr>\n",
       "<tr><td>2      </td><td>LOCAL      </td><td>SAP_UCSV </td><td>343.0               </td><td>CANCELLED</td><td>32653243.0         </td><td>2246436756.0      </td><td>NOT_SET             </td><td>NOT_SET              </td><td>SET                 </td><td>7.0               </td><td>SET                  </td><td>NOT_SET              </td></tr>\n",
       "<tr><td>3      </td><td>REMOTE     </td><td>SAP_ALL  </td><td>1800.0              </td><td>FINISHED </td><td>60944409.0         </td><td>5673935415.0      </td><td>SET                 </td><td>SET                  </td><td>SET                 </td><td>10.0              </td><td>NOT_SET              </td><td>NOT_SET              </td></tr>\n",
       "<tr><td>4      </td><td>LOCAL      </td><td>SAP_UCSV </td><td>249.0               </td><td>CANCELLED</td><td>118175632.0        </td><td>8857599641.0      </td><td>SET                 </td><td>NOT_SET              </td><td>NOT_SET             </td><td>6.0               </td><td>SET                  </td><td>NOT_SET              </td></tr>\n",
       "<tr><td>5      </td><td>LOCAL      </td><td>SAP_UCSV </td><td>2875.0              </td><td>FINISHED </td><td>152299974.0        </td><td>13405474528.0     </td><td>SET                 </td><td>NOT_SET              </td><td>NOT_SET             </td><td>6.0               </td><td>SET                  </td><td>NOT_SET              </td></tr>\n",
       "<tr><td>6      </td><td>LOCAL      </td><td>SAP_UCSV </td><td>3960.0              </td><td>CANCELLED</td><td>86595615.0         </td><td>5662725311.0      </td><td>SET                 </td><td>NOT_SET              </td><td>NOT_SET             </td><td>6.0               </td><td>SET                  </td><td>NOT_SET              </td></tr>\n",
       "<tr><td>7      </td><td>LOCAL      </td><td>SAP_ALL  </td><td>830.0               </td><td>CANCELLED</td><td>104206433.0        </td><td>11717023278.0     </td><td>SET                 </td><td>NOT_SET              </td><td>SET                 </td><td>6.0               </td><td>SET                  </td><td>NOT_SET              </td></tr>\n",
       "<tr><td>8      </td><td>LOCAL      </td><td>SAP_UCSV </td><td>1176.0              </td><td>FINISHED </td><td>50315435.0         </td><td>3035348648.0      </td><td>SET                 </td><td>NOT_SET              </td><td>NOT_SET             </td><td>6.0               </td><td>NOT_SET              </td><td>NOT_SET              </td></tr>\n",
       "<tr><td>9      </td><td>LOCAL      </td><td>SAP_ALL  </td><td>1180.0              </td><td>FINISHED </td><td>82981731.0         </td><td>9182413424.0      </td><td>SET                 </td><td>NOT_SET              </td><td>NOT_SET             </td><td>6.0               </td><td>NOT_SET              </td><td>NOT_SET              </td></tr>\n",
       "</tbody>\n",
       "</table>"
      ]
     },
     "metadata": {},
     "output_type": "display_data"
    }
   ],
   "source": [
    "hf = h2o.H2OFrame(copies_data)\n",
    "hf.describe()"
   ]
  },
  {
   "cell_type": "code",
   "execution_count": 35,
   "metadata": {},
   "outputs": [],
   "source": [
    "splits = hf.split_frame(ratios = [0.8], seed = 1)\n",
    "h2o_train = splits[0]\n",
    "h20_remaining = splits[1]\n",
    "splits_remaining = h20_remaining.split_frame(ratios = [0.8], seed = 1)\n",
    "h2o_valid = splits_remaining[0]\n",
    "h20_test = splits_remaining[1]\n"
   ]
  },
  {
   "cell_type": "code",
   "execution_count": 36,
   "metadata": {},
   "outputs": [],
   "source": [
    "y='runtime_in_seconds'"
   ]
  },
  {
   "cell_type": "code",
   "execution_count": 37,
   "metadata": {},
   "outputs": [
    {
     "name": "stdout",
     "output_type": "stream",
     "text": [
      "AutoML progress: |████████████████████████████████████████████████████████| 100%\n"
     ]
    }
   ],
   "source": [
    "aml = H2OAutoML(max_runtime_secs = 120,\n",
    "                max_models=20,\n",
    "                seed = 1,\n",
    "                project_name = 'client_copy_runtime',\n",
    "                               )\n",
    "aml.train(y = y, training_frame = h2o_train, leaderboard_frame = h2o_valid)"
   ]
  },
  {
   "cell_type": "code",
   "execution_count": 38,
   "metadata": {},
   "outputs": [
    {
     "data": {
      "text/html": [
       "<table>\n",
       "<thead>\n",
       "<tr><th>model_id                                          </th><th style=\"text-align: right;\">  mean_residual_deviance</th><th style=\"text-align: right;\">   rmse</th><th style=\"text-align: right;\">   mse</th><th style=\"text-align: right;\">    mae</th><th style=\"text-align: right;\">     rmsle</th></tr>\n",
       "</thead>\n",
       "<tbody>\n",
       "<tr><td>XRT_1_AutoML_20200111_191445                      </td><td style=\"text-align: right;\">                  614519</td><td style=\"text-align: right;\">783.912</td><td style=\"text-align: right;\">614519</td><td style=\"text-align: right;\">500.951</td><td style=\"text-align: right;\">  0.884749</td></tr>\n",
       "<tr><td>GBM_1_AutoML_20200111_191445                      </td><td style=\"text-align: right;\">                  663507</td><td style=\"text-align: right;\">814.559</td><td style=\"text-align: right;\">663507</td><td style=\"text-align: right;\">515.566</td><td style=\"text-align: right;\">  0.906381</td></tr>\n",
       "<tr><td>GBM_grid_1_AutoML_20200111_191445_model_3         </td><td style=\"text-align: right;\">                  666849</td><td style=\"text-align: right;\">816.608</td><td style=\"text-align: right;\">666849</td><td style=\"text-align: right;\">558.977</td><td style=\"text-align: right;\">nan       </td></tr>\n",
       "<tr><td>DRF_1_AutoML_20200111_191445                      </td><td style=\"text-align: right;\">                  695936</td><td style=\"text-align: right;\">834.228</td><td style=\"text-align: right;\">695936</td><td style=\"text-align: right;\">543.663</td><td style=\"text-align: right;\">  0.833275</td></tr>\n",
       "<tr><td>GBM_4_AutoML_20200111_191445                      </td><td style=\"text-align: right;\">                  717646</td><td style=\"text-align: right;\">847.14 </td><td style=\"text-align: right;\">717646</td><td style=\"text-align: right;\">558.492</td><td style=\"text-align: right;\">  1.12585 </td></tr>\n",
       "<tr><td>GBM_2_AutoML_20200111_191445                      </td><td style=\"text-align: right;\">                  719297</td><td style=\"text-align: right;\">848.114</td><td style=\"text-align: right;\">719297</td><td style=\"text-align: right;\">558.546</td><td style=\"text-align: right;\">  1.01108 </td></tr>\n",
       "<tr><td>GBM_3_AutoML_20200111_191445                      </td><td style=\"text-align: right;\">                  719310</td><td style=\"text-align: right;\">848.122</td><td style=\"text-align: right;\">719310</td><td style=\"text-align: right;\">558.758</td><td style=\"text-align: right;\">  1.07149 </td></tr>\n",
       "<tr><td>GBM_grid_1_AutoML_20200111_191445_model_1         </td><td style=\"text-align: right;\">                  720866</td><td style=\"text-align: right;\">849.038</td><td style=\"text-align: right;\">720866</td><td style=\"text-align: right;\">628.215</td><td style=\"text-align: right;\">  1.17978 </td></tr>\n",
       "<tr><td>DeepLearning_grid_1_AutoML_20200111_191445_model_1</td><td style=\"text-align: right;\">                  813807</td><td style=\"text-align: right;\">902.113</td><td style=\"text-align: right;\">813807</td><td style=\"text-align: right;\">621.919</td><td style=\"text-align: right;\">nan       </td></tr>\n",
       "<tr><td>DeepLearning_1_AutoML_20200111_191445             </td><td style=\"text-align: right;\">                  834083</td><td style=\"text-align: right;\">913.281</td><td style=\"text-align: right;\">834083</td><td style=\"text-align: right;\">638.474</td><td style=\"text-align: right;\">nan       </td></tr>\n",
       "</tbody>\n",
       "</table>"
      ]
     },
     "metadata": {},
     "output_type": "display_data"
    },
    {
     "data": {
      "text/plain": []
     },
     "execution_count": 38,
     "metadata": {},
     "output_type": "execute_result"
    }
   ],
   "source": [
    "aml.leaderboard.head()"
   ]
  },
  {
   "cell_type": "code",
   "execution_count": 40,
   "metadata": {},
   "outputs": [
    {
     "data": {
      "text/html": [
       "<table>\n",
       "<thead>\n",
       "<tr><th>copy_mode  </th><th>profile  </th><th style=\"text-align: right;\">  runtime_in_seconds</th><th>status   </th><th style=\"text-align: right;\">  records_processed</th><th style=\"text-align: right;\">  size_in_bytes</th><th>ignore_exit_errors  </th><th>ignore_table_errors  </th><th>lock_source_client  </th><th style=\"text-align: right;\">  parallel_number</th><th>use_exclusive_locks  </th><th>use_table_segmenter  </th></tr>\n",
       "</thead>\n",
       "<tbody>\n",
       "<tr><td>LOCAL      </td><td>SAP_UCSV </td><td style=\"text-align: right;\">                1325</td><td>FINISHED </td><td style=\"text-align: right;\">        1.74146e+07</td><td style=\"text-align: right;\">    1.97965e+09</td><td>SET                 </td><td>NOT_SET              </td><td>NOT_SET             </td><td style=\"text-align: right;\">                6</td><td>SET                  </td><td>NOT_SET              </td></tr>\n",
       "<tr><td>LOCAL      </td><td>SAP_ALL  </td><td style=\"text-align: right;\">                2258</td><td>FINISHED </td><td style=\"text-align: right;\">        1.44986e+08</td><td style=\"text-align: right;\">    1.67856e+10</td><td>SET                 </td><td>NOT_SET              </td><td>NOT_SET             </td><td style=\"text-align: right;\">                6</td><td>SET                  </td><td>NOT_SET              </td></tr>\n",
       "<tr><td>LOCAL      </td><td>SAP_USER </td><td style=\"text-align: right;\">                 539</td><td>FINISHED </td><td style=\"text-align: right;\">        2.101e+07  </td><td style=\"text-align: right;\">    8.24416e+08</td><td>NOT_SET             </td><td>NOT_SET              </td><td>SET                 </td><td style=\"text-align: right;\">               10</td><td>SET                  </td><td>NOT_SET              </td></tr>\n",
       "<tr><td>LOCAL      </td><td>TABRANGE </td><td style=\"text-align: right;\">                 857</td><td>FINISHED </td><td style=\"text-align: right;\">        1.28751e+08</td><td style=\"text-align: right;\">    7.37547e+09</td><td>SET                 </td><td>SET                  </td><td>SET                 </td><td style=\"text-align: right;\">               10</td><td>NOT_SET              </td><td>NOT_SET              </td></tr>\n",
       "<tr><td>LOCAL      </td><td>SAP_USER </td><td style=\"text-align: right;\">                 385</td><td>FINISHED </td><td style=\"text-align: right;\">        5.17872e+06</td><td style=\"text-align: right;\">    2.26873e+08</td><td>NOT_SET             </td><td>NOT_SET              </td><td>SET                 </td><td style=\"text-align: right;\">               10</td><td>SET                  </td><td>NOT_SET              </td></tr>\n",
       "<tr><td>LOCAL      </td><td>SAP_ALL  </td><td style=\"text-align: right;\">                1566</td><td>CANCELLED</td><td style=\"text-align: right;\">        3.82925e+08</td><td style=\"text-align: right;\">    1.93607e+10</td><td>NOT_SET             </td><td>NOT_SET              </td><td>SET                 </td><td style=\"text-align: right;\">               10</td><td>SET                  </td><td>NOT_SET              </td></tr>\n",
       "<tr><td>LOCAL      </td><td>SAP_USER </td><td style=\"text-align: right;\">                 885</td><td>FINISHED </td><td style=\"text-align: right;\">        5.18353e+07</td><td style=\"text-align: right;\">    1.82541e+09</td><td>SET                 </td><td>SET                  </td><td>SET                 </td><td style=\"text-align: right;\">                7</td><td>SET                  </td><td>NOT_SET              </td></tr>\n",
       "</tbody>\n",
       "</table>"
      ]
     },
     "metadata": {},
     "output_type": "display_data"
    },
    {
     "data": {
      "text/plain": []
     },
     "execution_count": 40,
     "metadata": {},
     "output_type": "execute_result"
    }
   ],
   "source": [
    "h20_test.head()"
   ]
  },
  {
   "cell_type": "code",
   "execution_count": 42,
   "metadata": {},
   "outputs": [
    {
     "name": "stdout",
     "output_type": "stream",
     "text": [
      "drf prediction progress: |████████████████████████████████████████████████| 100%\n"
     ]
    }
   ],
   "source": [
    "pred = aml.predict(h20_test)"
   ]
  },
  {
   "cell_type": "code",
   "execution_count": 43,
   "metadata": {},
   "outputs": [
    {
     "data": {
      "text/html": [
       "<table>\n",
       "<thead>\n",
       "<tr><th style=\"text-align: right;\">  predict</th></tr>\n",
       "</thead>\n",
       "<tbody>\n",
       "<tr><td style=\"text-align: right;\"> 1480.86 </td></tr>\n",
       "<tr><td style=\"text-align: right;\"> 2561.78 </td></tr>\n",
       "<tr><td style=\"text-align: right;\">  741.889</td></tr>\n",
       "<tr><td style=\"text-align: right;\">  834.723</td></tr>\n",
       "<tr><td style=\"text-align: right;\">  427.796</td></tr>\n",
       "<tr><td style=\"text-align: right;\"> 1983.42 </td></tr>\n",
       "<tr><td style=\"text-align: right;\">  826.574</td></tr>\n",
       "</tbody>\n",
       "</table>"
      ]
     },
     "metadata": {},
     "output_type": "display_data"
    },
    {
     "data": {
      "text/plain": []
     },
     "execution_count": 43,
     "metadata": {},
     "output_type": "execute_result"
    }
   ],
   "source": [
    "pred.head()"
   ]
  },
  {
   "cell_type": "code",
   "execution_count": 44,
   "metadata": {},
   "outputs": [
    {
     "name": "stdout",
     "output_type": "stream",
     "text": [
      "\n",
      "ModelMetricsRegression: drf\n",
      "** Reported on test data. **\n",
      "\n",
      "MSE: 48245.385017909495\n",
      "RMSE: 219.6483212271596\n",
      "MAE: 171.92053852384055\n",
      "RMSLE: 0.1699536284370615\n",
      "Mean Residual Deviance: 48245.385017909495\n"
     ]
    },
    {
     "data": {
      "text/plain": []
     },
     "execution_count": 44,
     "metadata": {},
     "output_type": "execute_result"
    }
   ],
   "source": [
    "perf = aml.leader.model_performance(h20_test)\n",
    "perf"
   ]
  },
  {
   "cell_type": "markdown",
   "metadata": {},
   "source": [
    "#### AutoViml"
   ]
  },
  {
   "cell_type": "code",
   "execution_count": 45,
   "metadata": {},
   "outputs": [
    {
     "name": "stdout",
     "output_type": "stream",
     "text": [
      "Imported Auto_ViML version: 0.1.471. Call using: \n",
      "             m, feats, trainm, testm = Auto_ViML(train, target, test, \n",
      "                                    sample_submission='',\n",
      "                                    scoring_parameter='',\n",
      "                                    hyper_param='GS',feature_reduction=True,\n",
      "                                     Boosting_Flag=None,Binning_Flag=False,\n",
      "                                    Add_Poly=0, Stacking_Flag=False,Imbalanced_Flag=False, \n",
      "                                    verbose=0)\n",
      "            \n",
      "To remove previous versions, perform 'pip uninstall autoviml'\n",
      "Train (Size: 253,12) has Single_Label with target: ['runtime_in_seconds']\n",
      "\"\n",
      " ################### Regression  ######################\n",
      "Classifying variables in data set...\n",
      "    Number of Numeric Columns =  0\n",
      "    Number of Integer-Categorical Columns =  3\n",
      "    Number of String-Categorical Columns =  2\n",
      "    Number of Factor-Categorical Columns =  0\n",
      "    Number of String-Boolean Columns =  6\n",
      "    Number of Numeric-Boolean Columns =  0\n",
      "    Number of Discrete String Columns =  0\n",
      "    Number of NLP String Columns =  0\n",
      "    Number of Date Time Columns =  0\n",
      "    Number of ID Columns =  0\n",
      "    Number of Columns to Delete =  0\n",
      "    11 Predictors classified...\n",
      "        This does not include the Target column(s)\n",
      "    No variables removed since no ID or low-information variables found in data set\n",
      "Test data has no missing values...\n",
      "Trying Feature Selection among 3 numeric variables...\n",
      "    Number of variables removed due to high correlation = 1 \n",
      "\n",
      "Detected this as a Regression problem...\n",
      "    After variable removal, 10 predictors left...\n",
      "\n",
      "CAUTION: Adding 2nd degree Polynomial & Interaction Variables may result in Overfitting!\n",
      "Building Inital Model with given variables...\n",
      "Model Report :\n",
      "    Number of Variables =  2\n",
      "    CV RMSE Score : 911.3 +/- 247.8 | Min = 549.2 | Max = 1221\n",
      "Building Comparison Model with only Poly and Interaction variables...\n",
      "Model Report :\n",
      "    Number of Variables =  2\n",
      "    CV RMSE Score : 947.4 +/- 227.8 | Min = 614.2 | Max = 1210\n",
      "1 Interaction and Polynomial variable(s) selected...\n",
      "\n",
      "    Linear feature selection: out of 8 categorical features...\n",
      "    Selecting 8 categorical features\n",
      "Trying Feature Selection among 3 numeric variables...\n",
      "    Number of variables removed due to high correlation = 1 \n",
      "    Adding 8 categorical variables to reduced numeric variables  of 2\n",
      "Current number of predictors = 10 \n",
      "    Finding Important Features using Boosted Trees algorithm...\n",
      "        using 10 variables...\n",
      "[19:20:07] WARNING: C:/Jenkins/workspace/xgboost-win64_release_0.90/src/objective/regression_obj.cu:152: reg:linear is now deprecated in favor of reg:squarederror.\n",
      "        using 8 variables...\n",
      "[19:20:07] WARNING: C:/Jenkins/workspace/xgboost-win64_release_0.90/src/objective/regression_obj.cu:152: reg:linear is now deprecated in favor of reg:squarederror.\n",
      "        using 6 variables...\n",
      "[19:20:07] WARNING: C:/Jenkins/workspace/xgboost-win64_release_0.90/src/objective/regression_obj.cu:152: reg:linear is now deprecated in favor of reg:squarederror.\n",
      "        using 4 variables...\n",
      "[19:20:07] WARNING: C:/Jenkins/workspace/xgboost-win64_release_0.90/src/objective/regression_obj.cu:152: reg:linear is now deprecated in favor of reg:squarederror.\n",
      "        using 2 variables...\n",
      "[19:20:07] WARNING: C:/Jenkins/workspace/xgboost-win64_release_0.90/src/objective/regression_obj.cu:152: reg:linear is now deprecated in favor of reg:squarederror.\n",
      "Found 10 important features\n",
      "    Selected Features: ['size_in_bytes', 'profile', 'ignore_exit_errors', 'status', 'copy_mode', 'use_table_segmenter', 'parallel_number', 'use_exclusive_locks', 'ignore_table_errors', 'lock_source_client']\n",
      "Starting Feature Engineering now...\n",
      "Entropy Binning 2 continuous variables...\n",
      "    Binning and replacing 2 numeric features.\n",
      "\n",
      "Rows in Train data set = 227\n",
      "  Features in Train data set = 10\n",
      "    Rows in held-out data set = 26\n",
      "Finding Best Model and Hyper Parameters for Target: runtime_in_seconds...\n",
      "\n",
      "Using Forests Model, Estimated Training time = 0.0 mins\n",
      "    Model training time (in seconds): 25\n",
      "5-fold Cross Validation rmse Score = 860.5812\n",
      "    Best Parameters for Model = {'criterion': 'mse', 'max_depth': 10, 'n_estimators': 166}\n",
      "Forests Model Prediction Results on Held Out CV Data Set:\n"
     ]
    },
    {
     "data": {
      "image/png": "[encoded data removed]",
      "text/plain": [
       "<Figure size 720x432 with 1 Axes>"
      ]
     },
     "metadata": {
      "needs_background": "light"
     },
     "output_type": "display_data"
    },
    {
     "data": {
      "image/png": "[encoded data removed]",
      "text/plain": [
       "<Figure size 720x720 with 1 Axes>"
      ]
     },
     "metadata": {
      "needs_background": "light"
     },
     "output_type": "display_data"
    },
    {
     "name": "stdout",
     "output_type": "stream",
     "text": [
      "    MAE = 339.7686\n",
      "    MAPE = 193%\n",
      "    RMSE = 447.9584\n",
      "    MAE as % std dev of Actuals = 41.4%\n",
      "    Normalized RMSE (% of MinMax of Actuals) = 17%\n",
      "    Normalized RMSE (% of Std Dev of Actuals) = 55%\n",
      "########################################################\n",
      "    Time taken for Ensembling: 1.5 seconds\n",
      "Completed Ensemble predictions on held out data\n"
     ]
    },
    {
     "data": {
      "image/png": "[encoded data removed]",
      "text/plain": [
       "<Figure size 720x720 with 1 Axes>"
      ]
     },
     "metadata": {
      "needs_background": "light"
     },
     "output_type": "display_data"
    },
    {
     "name": "stdout",
     "output_type": "stream",
     "text": [
      "    MAE = 382.2095\n",
      "    MAPE = 232%\n",
      "    RMSE = 485.6223\n",
      "    MAE as % std dev of Actuals = 46.5%\n",
      "    Normalized RMSE (% of MinMax of Actuals) = 18%\n",
      "    Normalized RMSE (% of Std Dev of Actuals) = 59%\n",
      "After multiple models, Ensemble Model Results:\n",
      "    RMSE Score = 485.6\n",
      "\n",
      "Single Model is better than Ensembling Models for this data set.\n",
      "No evaluation metrics plot available for this model\n",
      "    Time taken for this Target (in seconds) = 96\n",
      "Plotting Feature Importances to explain the output of model\n",
      "\n",
      "###################################################################################\n",
      "Training model on complete Train data and Predicting using give Test Data...\n",
      "Entropy Binning 2 continuous variables...\n",
      "    Binning and replacing 2 numeric features.\n",
      "Model Training time taken in seconds = 0\n",
      "########################################################\n",
      "Completed Ensemble predictions on held out data\n",
      "    Saving predictions to .\\runtime_in_seconds\\runtime_in_seconds_Regression_test_modified.csv\n",
      "    Saving predictions to .\\runtime_in_seconds\\runtime_in_seconds_Regression_submission.csv\n",
      "    Saving predictions to .\\runtime_in_seconds\\runtime_in_seconds_Regression_train_modified.csv\n",
      "Time Taken in mins = 1.6 for the Entire Process\n"
     ]
    },
    {
     "data": {
      "image/png": "[encoded data removed]",
      "text/plain": [
       "<Figure size 720x360 with 1 Axes>"
      ]
     },
     "metadata": {
      "needs_background": "light"
     },
     "output_type": "display_data"
    }
   ],
   "source": [
    "from autoviml.Auto_ViML import Auto_ViML\n",
    "\n",
    "model, features, trainm, testm = Auto_ViML(\n",
    "    train,\n",
    "    'runtime_in_seconds',\n",
    "    test,\n",
    "    sample_submission='',\n",
    "    hyper_param=\"GS\",\n",
    "    feature_reduction=True,\n",
    "#     scoring_parameter=\"weighted-f1\",\n",
    "    KMeans_Featurizer=False,\n",
    "    Boosting_Flag=False,\n",
    "    Binning_Flag=True,\n",
    "    Add_Poly=2,\n",
    "    Stacking_Flag=False,\n",
    "    Imbalanced_Flag=False,\n",
    "    verbose=1,\n",
    ")"
   ]
  },
  {
   "cell_type": "code",
   "execution_count": 49,
   "metadata": {},
   "outputs": [
    {
     "data": {
      "text/plain": [
       "ExtraTreesRegressor(bootstrap=True, ccp_alpha=0.0, criterion='mse',\n",
       "                    max_depth=10, max_features='sqrt', max_leaf_nodes=None,\n",
       "                    max_samples=None, min_impurity_decrease=0.0,\n",
       "                    min_impurity_split=None, min_samples_leaf=2,\n",
       "                    min_samples_split=2, min_weight_fraction_leaf=0.0,\n",
       "                    n_estimators=166, n_jobs=-1, oob_score=False,\n",
       "                    random_state=99, verbose=0, warm_start=False)"
      ]
     },
     "execution_count": 49,
     "metadata": {},
     "output_type": "execute_result"
    }
   ],
   "source": []
  },
  {
   "cell_type": "code",
   "execution_count": null,
   "metadata": {},
   "outputs": [],
   "source": []
  }
 ],
 "metadata": {
  "kernelspec": {
   "display_name": "Python 3",
   "language": "python",
   "name": "python3"
  },
  "language_info": {
   "codemirror_mode": {
    "name": "ipython",
    "version": 3
   },
   "file_extension": ".py",
   "mimetype": "text/x-python",
   "name": "python",
   "nbconvert_exporter": "python",
   "pygments_lexer": "ipython3",
   "version": "3.7.3"
  },
  "toc-autonumbering": false,
  "toc-showtags": false
 },
 "nbformat": 4,
 "nbformat_minor": 4
}
