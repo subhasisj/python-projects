{
 "cells": [
  {
   "cell_type": "code",
   "execution_count": 1,
   "metadata": {
    "scrolled": true
   },
   "outputs": [
    {
     "data": {
      "text/html": [
       "        <script type=\"text/javascript\">\n",
       "        window.PlotlyConfig = {MathJaxConfig: 'local'};\n",
       "        if (window.MathJax) {MathJax.Hub.Config({SVG: {font: \"STIX-Web\"}});}\n",
       "        if (typeof require !== 'undefined') {\n",
       "        require.undef(\"plotly\");\n",
       "        requirejs.config({\n",
       "            paths: {\n",
       "                'plotly': ['https://cdn.plot.ly/plotly-latest.min']\n",
       "            }\n",
       "        });\n",
       "        require(['plotly'], function(Plotly) {\n",
       "            window._Plotly = Plotly;\n",
       "        });\n",
       "        }\n",
       "        </script>\n",
       "        "
      ]
     },
     "metadata": {},
     "output_type": "display_data"
    }
   ],
   "source": [
    "import pandas as pd\n",
    "import numpy as np\n",
    "from sklearn.preprocessing import StandardScaler, RobustScaler\n",
    "import matplotlib.pyplot as plt\n",
    "import warnings\n",
    "import os\n",
    "import seaborn as sns\n",
    "import chart_studio.plotly as py\n",
    "import plotly.graph_objs as go\n",
    "import plotly.io as pio\n",
    "from plotly.offline import plot , iplot ,init_notebook_mode\n",
    "init_notebook_mode(connected=True)\n",
    "%matplotlib inline\n",
    "\n",
    "warnings.filterwarnings('ignore')\n"
   ]
  },
  {
   "cell_type": "code",
   "execution_count": 2,
   "metadata": {},
   "outputs": [
    {
     "data": {
      "text/html": [
       "<div>\n",
       "<style scoped>\n",
       "    .dataframe tbody tr th:only-of-type {\n",
       "        vertical-align: middle;\n",
       "    }\n",
       "\n",
       "    .dataframe tbody tr th {\n",
       "        vertical-align: top;\n",
       "    }\n",
       "\n",
       "    .dataframe thead th {\n",
       "        text-align: right;\n",
       "    }\n",
       "</style>\n",
       "<table border=\"1\" class=\"dataframe\">\n",
       "  <thead>\n",
       "    <tr style=\"text-align: right;\">\n",
       "      <th></th>\n",
       "      <th>timestamp</th>\n",
       "      <th>copy_mode</th>\n",
       "      <th>profile</th>\n",
       "      <th>total_runtime</th>\n",
       "      <th>status</th>\n",
       "      <th>records_processed</th>\n",
       "      <th>total_data_processed</th>\n",
       "    </tr>\n",
       "  </thead>\n",
       "  <tbody>\n",
       "    <tr>\n",
       "      <th>0</th>\n",
       "      <td>20190819131549</td>\n",
       "      <td>LOCAL</td>\n",
       "      <td>SAP_UCSV</td>\n",
       "      <td>1290</td>\n",
       "      <td>FINISHED</td>\n",
       "      <td>30619937</td>\n",
       "      <td>2721723523</td>\n",
       "    </tr>\n",
       "    <tr>\n",
       "      <th>1</th>\n",
       "      <td>20190812065310</td>\n",
       "      <td>LOCAL</td>\n",
       "      <td>SAP_UCSV</td>\n",
       "      <td>1192</td>\n",
       "      <td>FINISHED</td>\n",
       "      <td>48666506</td>\n",
       "      <td>3902691720</td>\n",
       "    </tr>\n",
       "    <tr>\n",
       "      <th>2</th>\n",
       "      <td>20190902092042</td>\n",
       "      <td>LOCAL</td>\n",
       "      <td>SAP_UCSV</td>\n",
       "      <td>343</td>\n",
       "      <td>CANCELLED</td>\n",
       "      <td>32653243</td>\n",
       "      <td>2246436756</td>\n",
       "    </tr>\n",
       "    <tr>\n",
       "      <th>3</th>\n",
       "      <td>20190907063037</td>\n",
       "      <td>REMOTE</td>\n",
       "      <td>SAP_ALL</td>\n",
       "      <td>1800</td>\n",
       "      <td>FINISHED</td>\n",
       "      <td>60944409</td>\n",
       "      <td>5673935415</td>\n",
       "    </tr>\n",
       "    <tr>\n",
       "      <th>4</th>\n",
       "      <td>20190902064418</td>\n",
       "      <td>LOCAL</td>\n",
       "      <td>SAP_UCSV</td>\n",
       "      <td>249</td>\n",
       "      <td>CANCELLED</td>\n",
       "      <td>118175632</td>\n",
       "      <td>8857599641</td>\n",
       "    </tr>\n",
       "  </tbody>\n",
       "</table>\n",
       "</div>"
      ],
      "text/plain": [
       "        timestamp copy_mode   profile  total_runtime           status  \\\n",
       "0  20190819131549    LOCAL   SAP_UCSV           1290  FINISHED          \n",
       "1  20190812065310    LOCAL   SAP_UCSV           1192  FINISHED          \n",
       "2  20190902092042    LOCAL   SAP_UCSV            343  CANCELLED         \n",
       "3  20190907063037    REMOTE  SAP_ALL            1800  FINISHED          \n",
       "4  20190902064418    LOCAL   SAP_UCSV            249  CANCELLED         \n",
       "\n",
       "   records_processed  total_data_processed  \n",
       "0           30619937            2721723523  \n",
       "1           48666506            3902691720  \n",
       "2           32653243            2246436756  \n",
       "3           60944409            5673935415  \n",
       "4          118175632            8857599641  "
      ]
     },
     "execution_count": 2,
     "metadata": {},
     "output_type": "execute_result"
    }
   ],
   "source": [
    "pd.set_option('display.float_format', lambda x: '%.f' % x)\n",
    "data = pd.read_excel(r'dataset\\flow_data.xlsx')\n",
    "data.head()"
   ]
  },
  {
   "cell_type": "code",
   "execution_count": 3,
   "metadata": {},
   "outputs": [
    {
     "data": {
      "text/plain": [
       "(362, 7)"
      ]
     },
     "execution_count": 3,
     "metadata": {},
     "output_type": "execute_result"
    }
   ],
   "source": [
    "data.shape"
   ]
  },
  {
   "cell_type": "code",
   "execution_count": 76,
   "metadata": {
    "scrolled": true
   },
   "outputs": [
    {
     "data": {
      "text/html": [
       "<div>\n",
       "<style scoped>\n",
       "    .dataframe tbody tr th:only-of-type {\n",
       "        vertical-align: middle;\n",
       "    }\n",
       "\n",
       "    .dataframe tbody tr th {\n",
       "        vertical-align: top;\n",
       "    }\n",
       "\n",
       "    .dataframe thead th {\n",
       "        text-align: right;\n",
       "    }\n",
       "</style>\n",
       "<table border=\"1\" class=\"dataframe\">\n",
       "  <thead>\n",
       "    <tr style=\"text-align: right;\">\n",
       "      <th></th>\n",
       "      <th>timestamp</th>\n",
       "      <th>setting_name</th>\n",
       "      <th>setting_value</th>\n",
       "    </tr>\n",
       "  </thead>\n",
       "  <tbody>\n",
       "    <tr>\n",
       "      <th>0</th>\n",
       "      <td>20191119080640</td>\n",
       "      <td>IGNORE_EXIT_ERRORS</td>\n",
       "      <td>X</td>\n",
       "    </tr>\n",
       "    <tr>\n",
       "      <th>1</th>\n",
       "      <td>20191119080640</td>\n",
       "      <td>IGNORE_TABLE_ERRORS</td>\n",
       "      <td>NaN</td>\n",
       "    </tr>\n",
       "    <tr>\n",
       "      <th>2</th>\n",
       "      <td>20191119080640</td>\n",
       "      <td>LOCK_SOURCE_CLIENT</td>\n",
       "      <td>NaN</td>\n",
       "    </tr>\n",
       "    <tr>\n",
       "      <th>3</th>\n",
       "      <td>20191119080640</td>\n",
       "      <td>PARALLEL_NUMBER</td>\n",
       "      <td>30</td>\n",
       "    </tr>\n",
       "    <tr>\n",
       "      <th>4</th>\n",
       "      <td>20191119080640</td>\n",
       "      <td>USE_EXCLUSIVE_LOCKS</td>\n",
       "      <td>X</td>\n",
       "    </tr>\n",
       "  </tbody>\n",
       "</table>\n",
       "</div>"
      ],
      "text/plain": [
       "        timestamp                    setting_name setting_value\n",
       "0  20191119080640  IGNORE_EXIT_ERRORS                         X\n",
       "1  20191119080640  IGNORE_TABLE_ERRORS                      NaN\n",
       "2  20191119080640  LOCK_SOURCE_CLIENT                       NaN\n",
       "3  20191119080640  PARALLEL_NUMBER                           30\n",
       "4  20191119080640  USE_EXCLUSIVE_LOCKS                        X"
      ]
     },
     "execution_count": 76,
     "metadata": {},
     "output_type": "execute_result"
    }
   ],
   "source": [
    "# pd.set_option('display.precision',9)\n",
    "settings_data = pd.read_excel(r'dataset\\flow_settings.xlsx')\n",
    "settings_data.head()"
   ]
  },
  {
   "cell_type": "code",
   "execution_count": 77,
   "metadata": {},
   "outputs": [],
   "source": [
    "# settings_cleaned = settings_data.fillna(value = 'NOT_SET')\n",
    "settings_cleaned = settings_cleaned.replace('X','SET')"
   ]
  },
  {
   "cell_type": "code",
   "execution_count": 78,
   "metadata": {},
   "outputs": [
    {
     "data": {
      "text/html": [
       "<div>\n",
       "<style scoped>\n",
       "    .dataframe tbody tr th:only-of-type {\n",
       "        vertical-align: middle;\n",
       "    }\n",
       "\n",
       "    .dataframe tbody tr th {\n",
       "        vertical-align: top;\n",
       "    }\n",
       "\n",
       "    .dataframe thead th {\n",
       "        text-align: right;\n",
       "    }\n",
       "</style>\n",
       "<table border=\"1\" class=\"dataframe\">\n",
       "  <thead>\n",
       "    <tr style=\"text-align: right;\">\n",
       "      <th></th>\n",
       "      <th>timestamp</th>\n",
       "      <th>IGNORE_EXIT_ERRORS</th>\n",
       "      <th>IGNORE_TABLE_ERRORS</th>\n",
       "      <th>LOCK_SOURCE_CLIENT</th>\n",
       "      <th>PARALLEL_NUMBER</th>\n",
       "      <th>USE_EXCLUSIVE_LOCKS</th>\n",
       "      <th>USE_TABLE_SEGMENTER</th>\n",
       "    </tr>\n",
       "  </thead>\n",
       "  <tbody>\n",
       "    <tr>\n",
       "      <th>402</th>\n",
       "      <td>20190912095609</td>\n",
       "      <td>NOT_SET</td>\n",
       "      <td>NOT_SET</td>\n",
       "      <td>SET</td>\n",
       "      <td>7</td>\n",
       "      <td>SET</td>\n",
       "      <td>NOT_SET</td>\n",
       "    </tr>\n",
       "    <tr>\n",
       "      <th>217</th>\n",
       "      <td>20190617053755</td>\n",
       "      <td>SET</td>\n",
       "      <td>SET</td>\n",
       "      <td>NaN</td>\n",
       "      <td>10</td>\n",
       "      <td>NaN</td>\n",
       "      <td>NaN</td>\n",
       "    </tr>\n",
       "    <tr>\n",
       "      <th>464</th>\n",
       "      <td>20191024041036</td>\n",
       "      <td>SET</td>\n",
       "      <td>NOT_SET</td>\n",
       "      <td>NOT_SET</td>\n",
       "      <td>6</td>\n",
       "      <td>SET</td>\n",
       "      <td>NOT_SET</td>\n",
       "    </tr>\n",
       "    <tr>\n",
       "      <th>362</th>\n",
       "      <td>20190829084941</td>\n",
       "      <td>NaN</td>\n",
       "      <td>NaN</td>\n",
       "      <td>NaN</td>\n",
       "      <td>10</td>\n",
       "      <td>NaN</td>\n",
       "      <td>NaN</td>\n",
       "    </tr>\n",
       "    <tr>\n",
       "      <th>280</th>\n",
       "      <td>20190729052600</td>\n",
       "      <td>SET</td>\n",
       "      <td>SET</td>\n",
       "      <td>SET</td>\n",
       "      <td>10</td>\n",
       "      <td>NaN</td>\n",
       "      <td>NaN</td>\n",
       "    </tr>\n",
       "  </tbody>\n",
       "</table>\n",
       "</div>"
      ],
      "text/plain": [
       "          timestamp IGNORE_EXIT_ERRORS              \\\n",
       "402  20190912095609                        NOT_SET   \n",
       "217  20190617053755                            SET   \n",
       "464  20191024041036                            SET   \n",
       "362  20190829084941                            NaN   \n",
       "280  20190729052600                            SET   \n",
       "\n",
       "    IGNORE_TABLE_ERRORS            LOCK_SOURCE_CLIENT              \\\n",
       "402                        NOT_SET                            SET   \n",
       "217                            SET                            NaN   \n",
       "464                        NOT_SET                        NOT_SET   \n",
       "362                            NaN                            NaN   \n",
       "280                            SET                            SET   \n",
       "\n",
       "    PARALLEL_NUMBER                USE_EXCLUSIVE_LOCKS             \\\n",
       "402                              7                            SET   \n",
       "217                             10                            NaN   \n",
       "464                              6                            SET   \n",
       "362                             10                            NaN   \n",
       "280                             10                            NaN   \n",
       "\n",
       "    USE_TABLE_SEGMENTER             \n",
       "402                        NOT_SET  \n",
       "217                            NaN  \n",
       "464                        NOT_SET  \n",
       "362                            NaN  \n",
       "280                            NaN  "
      ]
     },
     "execution_count": 78,
     "metadata": {},
     "output_type": "execute_result"
    }
   ],
   "source": [
    "flow_settings=pd.DataFrame(settings_cleaned.pivot(index='timestamp', columns='setting_name', values='setting_value')).reset_index().rename_axis(None, axis=1)\n",
    "flow_settings.sample(5)"
   ]
  },
  {
   "cell_type": "code",
   "execution_count": 80,
   "metadata": {},
   "outputs": [
    {
     "data": {
      "text/plain": [
       "timestamp                           0\n",
       "IGNORE_EXIT_ERRORS                217\n",
       "IGNORE_TABLE_ERRORS               217\n",
       "LOCK_SOURCE_CLIENT                 94\n",
       "PARALLEL_NUMBER                     0\n",
       "USE_EXCLUSIVE_LOCKS               354\n",
       "USE_TABLE_SEGMENTER               349\n",
       "dtype: int64"
      ]
     },
     "execution_count": 80,
     "metadata": {},
     "output_type": "execute_result"
    }
   ],
   "source": [
    "flow_settings.isna().sum()"
   ]
  },
  {
   "cell_type": "code",
   "execution_count": 81,
   "metadata": {},
   "outputs": [],
   "source": [
    "flow_settings = flow_settings.fillna(value = 'NOT_SET')\n"
   ]
  },
  {
   "cell_type": "markdown",
   "metadata": {},
   "source": [
    "##### Lets join both tables"
   ]
  },
  {
   "cell_type": "code",
   "execution_count": 82,
   "metadata": {},
   "outputs": [
    {
     "data": {
      "text/html": [
       "<div>\n",
       "<style scoped>\n",
       "    .dataframe tbody tr th:only-of-type {\n",
       "        vertical-align: middle;\n",
       "    }\n",
       "\n",
       "    .dataframe tbody tr th {\n",
       "        vertical-align: top;\n",
       "    }\n",
       "\n",
       "    .dataframe thead th {\n",
       "        text-align: right;\n",
       "    }\n",
       "</style>\n",
       "<table border=\"1\" class=\"dataframe\">\n",
       "  <thead>\n",
       "    <tr style=\"text-align: right;\">\n",
       "      <th></th>\n",
       "      <th>timestamp</th>\n",
       "      <th>copy_mode</th>\n",
       "      <th>profile</th>\n",
       "      <th>total_runtime</th>\n",
       "      <th>status</th>\n",
       "      <th>records_processed</th>\n",
       "      <th>total_data_processed</th>\n",
       "      <th>IGNORE_EXIT_ERRORS</th>\n",
       "      <th>IGNORE_TABLE_ERRORS</th>\n",
       "      <th>LOCK_SOURCE_CLIENT</th>\n",
       "      <th>PARALLEL_NUMBER</th>\n",
       "      <th>USE_EXCLUSIVE_LOCKS</th>\n",
       "      <th>USE_TABLE_SEGMENTER</th>\n",
       "    </tr>\n",
       "  </thead>\n",
       "  <tbody>\n",
       "    <tr>\n",
       "      <th>0</th>\n",
       "      <td>20190819131549</td>\n",
       "      <td>LOCAL</td>\n",
       "      <td>SAP_UCSV</td>\n",
       "      <td>1290</td>\n",
       "      <td>FINISHED</td>\n",
       "      <td>30619937</td>\n",
       "      <td>2721723523</td>\n",
       "      <td>SET</td>\n",
       "      <td>NOT_SET</td>\n",
       "      <td>NOT_SET</td>\n",
       "      <td>6</td>\n",
       "      <td>NOT_SET</td>\n",
       "      <td>NOT_SET</td>\n",
       "    </tr>\n",
       "    <tr>\n",
       "      <th>1</th>\n",
       "      <td>20190812065310</td>\n",
       "      <td>LOCAL</td>\n",
       "      <td>SAP_UCSV</td>\n",
       "      <td>1192</td>\n",
       "      <td>FINISHED</td>\n",
       "      <td>48666506</td>\n",
       "      <td>3902691720</td>\n",
       "      <td>SET</td>\n",
       "      <td>NOT_SET</td>\n",
       "      <td>NOT_SET</td>\n",
       "      <td>6</td>\n",
       "      <td>NOT_SET</td>\n",
       "      <td>NOT_SET</td>\n",
       "    </tr>\n",
       "    <tr>\n",
       "      <th>2</th>\n",
       "      <td>20190902092042</td>\n",
       "      <td>LOCAL</td>\n",
       "      <td>SAP_UCSV</td>\n",
       "      <td>343</td>\n",
       "      <td>CANCELLED</td>\n",
       "      <td>32653243</td>\n",
       "      <td>2246436756</td>\n",
       "      <td>NOT_SET</td>\n",
       "      <td>NOT_SET</td>\n",
       "      <td>SET</td>\n",
       "      <td>7</td>\n",
       "      <td>SET</td>\n",
       "      <td>NOT_SET</td>\n",
       "    </tr>\n",
       "    <tr>\n",
       "      <th>3</th>\n",
       "      <td>20190907063037</td>\n",
       "      <td>REMOTE</td>\n",
       "      <td>SAP_ALL</td>\n",
       "      <td>1800</td>\n",
       "      <td>FINISHED</td>\n",
       "      <td>60944409</td>\n",
       "      <td>5673935415</td>\n",
       "      <td>SET</td>\n",
       "      <td>SET</td>\n",
       "      <td>SET</td>\n",
       "      <td>10</td>\n",
       "      <td>NOT_SET</td>\n",
       "      <td>NOT_SET</td>\n",
       "    </tr>\n",
       "    <tr>\n",
       "      <th>4</th>\n",
       "      <td>20190902064418</td>\n",
       "      <td>LOCAL</td>\n",
       "      <td>SAP_UCSV</td>\n",
       "      <td>249</td>\n",
       "      <td>CANCELLED</td>\n",
       "      <td>118175632</td>\n",
       "      <td>8857599641</td>\n",
       "      <td>SET</td>\n",
       "      <td>NOT_SET</td>\n",
       "      <td>NOT_SET</td>\n",
       "      <td>6</td>\n",
       "      <td>SET</td>\n",
       "      <td>NOT_SET</td>\n",
       "    </tr>\n",
       "  </tbody>\n",
       "</table>\n",
       "</div>"
      ],
      "text/plain": [
       "        timestamp copy_mode   profile  total_runtime           status  \\\n",
       "0  20190819131549    LOCAL   SAP_UCSV           1290  FINISHED          \n",
       "1  20190812065310    LOCAL   SAP_UCSV           1192  FINISHED          \n",
       "2  20190902092042    LOCAL   SAP_UCSV            343  CANCELLED         \n",
       "3  20190907063037    REMOTE  SAP_ALL            1800  FINISHED          \n",
       "4  20190902064418    LOCAL   SAP_UCSV            249  CANCELLED         \n",
       "\n",
       "   records_processed  total_data_processed IGNORE_EXIT_ERRORS              \\\n",
       "0           30619937            2721723523                            SET   \n",
       "1           48666506            3902691720                            SET   \n",
       "2           32653243            2246436756                        NOT_SET   \n",
       "3           60944409            5673935415                            SET   \n",
       "4          118175632            8857599641                            SET   \n",
       "\n",
       "  IGNORE_TABLE_ERRORS            LOCK_SOURCE_CLIENT              \\\n",
       "0                        NOT_SET                        NOT_SET   \n",
       "1                        NOT_SET                        NOT_SET   \n",
       "2                        NOT_SET                            SET   \n",
       "3                            SET                            SET   \n",
       "4                        NOT_SET                        NOT_SET   \n",
       "\n",
       "   PARALLEL_NUMBER                USE_EXCLUSIVE_LOCKS             \\\n",
       "0                               6                        NOT_SET   \n",
       "1                               6                        NOT_SET   \n",
       "2                               7                            SET   \n",
       "3                              10                        NOT_SET   \n",
       "4                               6                            SET   \n",
       "\n",
       "  USE_TABLE_SEGMENTER             \n",
       "0                        NOT_SET  \n",
       "1                        NOT_SET  \n",
       "2                        NOT_SET  \n",
       "3                        NOT_SET  \n",
       "4                        NOT_SET  "
      ]
     },
     "execution_count": 82,
     "metadata": {},
     "output_type": "execute_result"
    }
   ],
   "source": [
    "cc_data = data.join(flow_settings.set_index('timestamp'),on= 'timestamp',how='inner')\n",
    "cc_data.head()"
   ]
  },
  {
   "cell_type": "code",
   "execution_count": 83,
   "metadata": {
    "scrolled": true
   },
   "outputs": [
    {
     "data": {
      "text/html": [
       "<div>\n",
       "<style scoped>\n",
       "    .dataframe tbody tr th:only-of-type {\n",
       "        vertical-align: middle;\n",
       "    }\n",
       "\n",
       "    .dataframe tbody tr th {\n",
       "        vertical-align: top;\n",
       "    }\n",
       "\n",
       "    .dataframe thead th {\n",
       "        text-align: right;\n",
       "    }\n",
       "</style>\n",
       "<table border=\"1\" class=\"dataframe\">\n",
       "  <thead>\n",
       "    <tr style=\"text-align: right;\">\n",
       "      <th></th>\n",
       "      <th>timestamp</th>\n",
       "      <th>copy_mode</th>\n",
       "      <th>profile</th>\n",
       "      <th>total_runtime</th>\n",
       "      <th>status</th>\n",
       "      <th>records_processed</th>\n",
       "      <th>total_data_processed</th>\n",
       "      <th>ignore_exit_errors</th>\n",
       "      <th>ignore_table_errors</th>\n",
       "      <th>lock_source_client</th>\n",
       "      <th>parallel_number</th>\n",
       "      <th>use_exclusive_locks</th>\n",
       "      <th>use_table_segmenter</th>\n",
       "    </tr>\n",
       "  </thead>\n",
       "  <tbody>\n",
       "    <tr>\n",
       "      <th>0</th>\n",
       "      <td>20190819131549</td>\n",
       "      <td>LOCAL</td>\n",
       "      <td>SAP_UCSV</td>\n",
       "      <td>1290</td>\n",
       "      <td>FINISHED</td>\n",
       "      <td>30619937</td>\n",
       "      <td>2721723523</td>\n",
       "      <td>SET</td>\n",
       "      <td>NOT_SET</td>\n",
       "      <td>NOT_SET</td>\n",
       "      <td>6</td>\n",
       "      <td>NOT_SET</td>\n",
       "      <td>NOT_SET</td>\n",
       "    </tr>\n",
       "    <tr>\n",
       "      <th>1</th>\n",
       "      <td>20190812065310</td>\n",
       "      <td>LOCAL</td>\n",
       "      <td>SAP_UCSV</td>\n",
       "      <td>1192</td>\n",
       "      <td>FINISHED</td>\n",
       "      <td>48666506</td>\n",
       "      <td>3902691720</td>\n",
       "      <td>SET</td>\n",
       "      <td>NOT_SET</td>\n",
       "      <td>NOT_SET</td>\n",
       "      <td>6</td>\n",
       "      <td>NOT_SET</td>\n",
       "      <td>NOT_SET</td>\n",
       "    </tr>\n",
       "    <tr>\n",
       "      <th>2</th>\n",
       "      <td>20190902092042</td>\n",
       "      <td>LOCAL</td>\n",
       "      <td>SAP_UCSV</td>\n",
       "      <td>343</td>\n",
       "      <td>CANCELLED</td>\n",
       "      <td>32653243</td>\n",
       "      <td>2246436756</td>\n",
       "      <td>NOT_SET</td>\n",
       "      <td>NOT_SET</td>\n",
       "      <td>SET</td>\n",
       "      <td>7</td>\n",
       "      <td>SET</td>\n",
       "      <td>NOT_SET</td>\n",
       "    </tr>\n",
       "    <tr>\n",
       "      <th>3</th>\n",
       "      <td>20190907063037</td>\n",
       "      <td>REMOTE</td>\n",
       "      <td>SAP_ALL</td>\n",
       "      <td>1800</td>\n",
       "      <td>FINISHED</td>\n",
       "      <td>60944409</td>\n",
       "      <td>5673935415</td>\n",
       "      <td>SET</td>\n",
       "      <td>SET</td>\n",
       "      <td>SET</td>\n",
       "      <td>10</td>\n",
       "      <td>NOT_SET</td>\n",
       "      <td>NOT_SET</td>\n",
       "    </tr>\n",
       "    <tr>\n",
       "      <th>4</th>\n",
       "      <td>20190902064418</td>\n",
       "      <td>LOCAL</td>\n",
       "      <td>SAP_UCSV</td>\n",
       "      <td>249</td>\n",
       "      <td>CANCELLED</td>\n",
       "      <td>118175632</td>\n",
       "      <td>8857599641</td>\n",
       "      <td>SET</td>\n",
       "      <td>NOT_SET</td>\n",
       "      <td>NOT_SET</td>\n",
       "      <td>6</td>\n",
       "      <td>SET</td>\n",
       "      <td>NOT_SET</td>\n",
       "    </tr>\n",
       "  </tbody>\n",
       "</table>\n",
       "</div>"
      ],
      "text/plain": [
       "        timestamp copy_mode   profile  total_runtime           status  \\\n",
       "0  20190819131549    LOCAL   SAP_UCSV           1290  FINISHED          \n",
       "1  20190812065310    LOCAL   SAP_UCSV           1192  FINISHED          \n",
       "2  20190902092042    LOCAL   SAP_UCSV            343  CANCELLED         \n",
       "3  20190907063037    REMOTE  SAP_ALL            1800  FINISHED          \n",
       "4  20190902064418    LOCAL   SAP_UCSV            249  CANCELLED         \n",
       "\n",
       "   records_processed  total_data_processed ignore_exit_errors              \\\n",
       "0           30619937            2721723523                            SET   \n",
       "1           48666506            3902691720                            SET   \n",
       "2           32653243            2246436756                        NOT_SET   \n",
       "3           60944409            5673935415                            SET   \n",
       "4          118175632            8857599641                            SET   \n",
       "\n",
       "  ignore_table_errors            lock_source_client              \\\n",
       "0                        NOT_SET                        NOT_SET   \n",
       "1                        NOT_SET                        NOT_SET   \n",
       "2                        NOT_SET                            SET   \n",
       "3                            SET                            SET   \n",
       "4                        NOT_SET                        NOT_SET   \n",
       "\n",
       "   parallel_number                use_exclusive_locks             \\\n",
       "0                               6                        NOT_SET   \n",
       "1                               6                        NOT_SET   \n",
       "2                               7                            SET   \n",
       "3                              10                        NOT_SET   \n",
       "4                               6                            SET   \n",
       "\n",
       "  use_table_segmenter             \n",
       "0                        NOT_SET  \n",
       "1                        NOT_SET  \n",
       "2                        NOT_SET  \n",
       "3                        NOT_SET  \n",
       "4                        NOT_SET  "
      ]
     },
     "execution_count": 83,
     "metadata": {},
     "output_type": "execute_result"
    }
   ],
   "source": [
    "cc_data.columns = map(str.lower,cc_data.columns)\n",
    "cc_data.head()"
   ]
  },
  {
   "cell_type": "markdown",
   "metadata": {},
   "source": [
    "### Cleaning Data"
   ]
  },
  {
   "cell_type": "code",
   "execution_count": 84,
   "metadata": {},
   "outputs": [
    {
     "data": {
      "text/plain": [
       "timestamp                         0\n",
       "copy_mode                         0\n",
       "profile                           0\n",
       "total_runtime                     0\n",
       "status                            0\n",
       "records_processed                 0\n",
       "total_data_processed              0\n",
       "ignore_exit_errors                0\n",
       "ignore_table_errors               0\n",
       "lock_source_client                0\n",
       "parallel_number                   0\n",
       "use_exclusive_locks               0\n",
       "use_table_segmenter               0\n",
       "dtype: int64"
      ]
     },
     "execution_count": 84,
     "metadata": {},
     "output_type": "execute_result"
    }
   ],
   "source": [
    "# Lets see how many NaN values are present\n",
    "cc_data.isna().sum()"
   ]
  },
  {
   "cell_type": "code",
   "execution_count": 85,
   "metadata": {},
   "outputs": [
    {
     "data": {
      "text/plain": [
       "Index(['timestamp', 'copy_mode', 'profile', 'total_runtime', 'status',\n",
       "       'records_processed', 'total_data_processed',\n",
       "       'ignore_exit_errors            ', 'ignore_table_errors           ',\n",
       "       'lock_source_client            ', 'parallel_number               ',\n",
       "       'use_exclusive_locks           ', 'use_table_segmenter           '],\n",
       "      dtype='object')"
      ]
     },
     "execution_count": 85,
     "metadata": {},
     "output_type": "execute_result"
    }
   ],
   "source": [
    "cc_data.columns"
   ]
  },
  {
   "cell_type": "code",
   "execution_count": 86,
   "metadata": {},
   "outputs": [
    {
     "data": {
      "text/plain": [
       "Index(['timestamp', 'copy_mode', 'profile', 'total_runtime', 'status',\n",
       "       'records_processed', 'total_data_processed', 'ignore_exit_errors',\n",
       "       'ignore_table_errors', 'lock_source_client', 'parallel_number',\n",
       "       'use_exclusive_locks', 'use_table_segmenter'],\n",
       "      dtype='object')"
      ]
     },
     "execution_count": 86,
     "metadata": {},
     "output_type": "execute_result"
    }
   ],
   "source": [
    "cc_data.columns = cc_data.columns.str.replace(' ', '')\n",
    "cc_data.columns"
   ]
  },
  {
   "cell_type": "code",
   "execution_count": 87,
   "metadata": {},
   "outputs": [
    {
     "data": {
      "text/plain": [
       "FINISHED     281\n",
       "CANCELLED     80\n",
       "Name: status, dtype: int64"
      ]
     },
     "execution_count": 87,
     "metadata": {},
     "output_type": "execute_result"
    }
   ],
   "source": [
    "cc_data['status'] = cc_data['status'].str.replace(\" \",\"\")\n",
    "def remove_whitespace(x):\n",
    "    try:\n",
    "        # remove spaces inside and outside of string\n",
    "        x = \"\".join(x.split())\n",
    "\n",
    "    except:\n",
    "        pass\n",
    "    return x\n",
    "\n",
    "# Apply remove_whitespace to column only\n",
    "cc_data = cc_data.apply(remove_whitespace)\n",
    "cc_data.status.value_counts()"
   ]
  },
  {
   "cell_type": "code",
   "execution_count": 103,
   "metadata": {},
   "outputs": [],
   "source": [
    "# import pandas_profiling\n",
    "# pandas_profiling.ProfileReport(cc_data)\n",
    "\n",
    "# Rename Columns\n",
    "cc_data.rename(columns={'total_runtime':'runtime_in_seconds',\n",
    "                        'total_data_processed' : 'size_in_bytes',\n",
    "                       },\n",
    "              inplace=True)\n",
    "cc_data.drop(columns='timestamp',inplace=True)\n"
   ]
  },
  {
   "cell_type": "code",
   "execution_count": 104,
   "metadata": {},
   "outputs": [
    {
     "data": {
      "text/html": [
       "<div>\n",
       "<style scoped>\n",
       "    .dataframe tbody tr th:only-of-type {\n",
       "        vertical-align: middle;\n",
       "    }\n",
       "\n",
       "    .dataframe tbody tr th {\n",
       "        vertical-align: top;\n",
       "    }\n",
       "\n",
       "    .dataframe thead th {\n",
       "        text-align: right;\n",
       "    }\n",
       "</style>\n",
       "<table border=\"1\" class=\"dataframe\">\n",
       "  <thead>\n",
       "    <tr style=\"text-align: right;\">\n",
       "      <th></th>\n",
       "      <th>copy_mode</th>\n",
       "      <th>profile</th>\n",
       "      <th>runtime_in_seconds</th>\n",
       "      <th>status</th>\n",
       "      <th>records_processed</th>\n",
       "      <th>size_in_bytes</th>\n",
       "      <th>ignore_exit_errors</th>\n",
       "      <th>ignore_table_errors</th>\n",
       "      <th>lock_source_client</th>\n",
       "      <th>parallel_number</th>\n",
       "      <th>use_exclusive_locks</th>\n",
       "      <th>use_table_segmenter</th>\n",
       "    </tr>\n",
       "  </thead>\n",
       "  <tbody>\n",
       "    <tr>\n",
       "      <th>0</th>\n",
       "      <td>LOCAL</td>\n",
       "      <td>SAP_UCSV</td>\n",
       "      <td>1290</td>\n",
       "      <td>FINISHED</td>\n",
       "      <td>30619937</td>\n",
       "      <td>2721723523</td>\n",
       "      <td>SET</td>\n",
       "      <td>NOT_SET</td>\n",
       "      <td>NOT_SET</td>\n",
       "      <td>6</td>\n",
       "      <td>NOT_SET</td>\n",
       "      <td>NOT_SET</td>\n",
       "    </tr>\n",
       "    <tr>\n",
       "      <th>1</th>\n",
       "      <td>LOCAL</td>\n",
       "      <td>SAP_UCSV</td>\n",
       "      <td>1192</td>\n",
       "      <td>FINISHED</td>\n",
       "      <td>48666506</td>\n",
       "      <td>3902691720</td>\n",
       "      <td>SET</td>\n",
       "      <td>NOT_SET</td>\n",
       "      <td>NOT_SET</td>\n",
       "      <td>6</td>\n",
       "      <td>NOT_SET</td>\n",
       "      <td>NOT_SET</td>\n",
       "    </tr>\n",
       "    <tr>\n",
       "      <th>2</th>\n",
       "      <td>LOCAL</td>\n",
       "      <td>SAP_UCSV</td>\n",
       "      <td>343</td>\n",
       "      <td>CANCELLED</td>\n",
       "      <td>32653243</td>\n",
       "      <td>2246436756</td>\n",
       "      <td>NOT_SET</td>\n",
       "      <td>NOT_SET</td>\n",
       "      <td>SET</td>\n",
       "      <td>7</td>\n",
       "      <td>SET</td>\n",
       "      <td>NOT_SET</td>\n",
       "    </tr>\n",
       "    <tr>\n",
       "      <th>3</th>\n",
       "      <td>REMOTE</td>\n",
       "      <td>SAP_ALL</td>\n",
       "      <td>1800</td>\n",
       "      <td>FINISHED</td>\n",
       "      <td>60944409</td>\n",
       "      <td>5673935415</td>\n",
       "      <td>SET</td>\n",
       "      <td>SET</td>\n",
       "      <td>SET</td>\n",
       "      <td>10</td>\n",
       "      <td>NOT_SET</td>\n",
       "      <td>NOT_SET</td>\n",
       "    </tr>\n",
       "    <tr>\n",
       "      <th>4</th>\n",
       "      <td>LOCAL</td>\n",
       "      <td>SAP_UCSV</td>\n",
       "      <td>249</td>\n",
       "      <td>CANCELLED</td>\n",
       "      <td>118175632</td>\n",
       "      <td>8857599641</td>\n",
       "      <td>SET</td>\n",
       "      <td>NOT_SET</td>\n",
       "      <td>NOT_SET</td>\n",
       "      <td>6</td>\n",
       "      <td>SET</td>\n",
       "      <td>NOT_SET</td>\n",
       "    </tr>\n",
       "  </tbody>\n",
       "</table>\n",
       "</div>"
      ],
      "text/plain": [
       "  copy_mode   profile  runtime_in_seconds     status  records_processed  \\\n",
       "0     LOCAL  SAP_UCSV                1290   FINISHED           30619937   \n",
       "1     LOCAL  SAP_UCSV                1192   FINISHED           48666506   \n",
       "2     LOCAL  SAP_UCSV                 343  CANCELLED           32653243   \n",
       "3    REMOTE  SAP_ALL                 1800   FINISHED           60944409   \n",
       "4     LOCAL  SAP_UCSV                 249  CANCELLED          118175632   \n",
       "\n",
       "   size_in_bytes ignore_exit_errors ignore_table_errors lock_source_client  \\\n",
       "0     2721723523                SET             NOT_SET            NOT_SET   \n",
       "1     3902691720                SET             NOT_SET            NOT_SET   \n",
       "2     2246436756            NOT_SET             NOT_SET                SET   \n",
       "3     5673935415                SET                 SET                SET   \n",
       "4     8857599641                SET             NOT_SET            NOT_SET   \n",
       "\n",
       "   parallel_number use_exclusive_locks use_table_segmenter  \n",
       "0                6             NOT_SET             NOT_SET  \n",
       "1                6             NOT_SET             NOT_SET  \n",
       "2                7                 SET             NOT_SET  \n",
       "3               10             NOT_SET             NOT_SET  \n",
       "4                6                 SET             NOT_SET  "
      ]
     },
     "execution_count": 104,
     "metadata": {},
     "output_type": "execute_result"
    }
   ],
   "source": [
    "cc_data.head()"
   ]
  },
  {
   "cell_type": "code",
   "execution_count": 105,
   "metadata": {},
   "outputs": [],
   "source": [
    "# Change to numeric columns\n",
    "cc_data[['runtime_in_seconds','records_processed','size_in_bytes','parallel_number']] = \\\n",
    "cc_data[['runtime_in_seconds','records_processed','size_in_bytes','parallel_number']].apply(pd.to_numeric)\n"
   ]
  },
  {
   "cell_type": "markdown",
   "metadata": {},
   "source": [
    "#### Lets check the distribution of runtime data for local client copy"
   ]
  },
  {
   "cell_type": "code",
   "execution_count": 108,
   "metadata": {},
   "outputs": [
    {
     "data": {
      "image/png": "[encoded data removed]",
      "text/plain": [
       "<Figure size 864x504 with 1 Axes>"
      ]
     },
     "metadata": {
      "needs_background": "light"
     },
     "output_type": "display_data"
    }
   ],
   "source": [
    "cc_data['copy_mode'] = cc_data['copy_mode'].str.strip()\n",
    "# criteria = cc_data.copy_mode=='LOCAL'\n",
    "# plt.figure(figsize=(12,7))\n",
    "# sns.distplot(cc_data.loc[criteria]['runtime_in_seconds'],\n",
    "#              label = '1',\n",
    "#              color = 'red',\n",
    "#              bins=50\n",
    "#             )\n",
    "\n",
    "plt.figure(figsize=(12,7))\n",
    "sns.distplot(cc_data['runtime_in_seconds'],\n",
    "             label = '1',\n",
    "             color = 'red',\n",
    "             bins=50\n",
    "            )\n",
    "plt.show()\n"
   ]
  },
  {
   "cell_type": "markdown",
   "metadata": {},
   "source": [
    "#### Detecting Outliers"
   ]
  },
  {
   "cell_type": "code",
   "execution_count": 109,
   "metadata": {},
   "outputs": [
    {
     "name": "stdout",
     "output_type": "stream",
     "text": [
      "runtime_in_seconds          1717\n",
      "records_processed      255213730\n",
      "size_in_bytes        11871038708\n",
      "parallel_number                4\n",
      "dtype: float64\n"
     ]
    }
   ],
   "source": [
    "q1 = cc_data.quantile(.25)\n",
    "q3 = cc_data.quantile(0.75)\n",
    "iqr = q3-q1\n",
    "print(iqr)"
   ]
  },
  {
   "cell_type": "markdown",
   "metadata": {},
   "source": [
    "#### Remove Outliers"
   ]
  },
  {
   "cell_type": "code",
   "execution_count": 110,
   "metadata": {},
   "outputs": [
    {
     "data": {
      "text/plain": [
       "(317, 12)"
      ]
     },
     "execution_count": 110,
     "metadata": {},
     "output_type": "execute_result"
    }
   ],
   "source": [
    "cc_data_outliers_removed = cc_data[~( ( cc_data < ( q1 - 1.5 * iqr ) ) | \n",
    "                                      ( cc_data > ( q3 + 1.5 * iqr ) ) ).any(axis=1)]\n",
    "cc_data_outliers_removed.shape"
   ]
  },
  {
   "cell_type": "code",
   "execution_count": 115,
   "metadata": {},
   "outputs": [
    {
     "data": {
      "image/png": "[encoded data removed]",
      "text/plain": [
       "<Figure size 864x504 with 1 Axes>"
      ]
     },
     "metadata": {
      "needs_background": "light"
     },
     "output_type": "display_data"
    }
   ],
   "source": [
    "# Check the distribution now\n",
    "plt.figure(figsize=(12,7))\n",
    "sns.distplot(cc_data_outliers_removed['runtime_in_seconds'],\n",
    "             label = '1',\n",
    "             color = 'red',\n",
    "             bins=50\n",
    "            )\n",
    "plt.show()"
   ]
  },
  {
   "cell_type": "markdown",
   "metadata": {},
   "source": [
    "Here we can see that there are a few outliers that have comparatively high runtimes"
   ]
  },
  {
   "cell_type": "markdown",
   "metadata": {},
   "source": [
    "#### Plot for Processed records"
   ]
  },
  {
   "cell_type": "code",
   "execution_count": 118,
   "metadata": {},
   "outputs": [
    {
     "data": {
      "image/png": "[encoded data removed]",
      "text/plain": [
       "<Figure size 864x504 with 1 Axes>"
      ]
     },
     "metadata": {
      "needs_background": "light"
     },
     "output_type": "display_data"
    }
   ],
   "source": [
    "plt.figure(figsize=(12,7))\n",
    "sns.distplot(cc_data_outliers_removed['records_processed'],\n",
    "             label = '1',\n",
    "             color = 'red',\n",
    "             bins=50\n",
    "            )\n",
    "plt.show()"
   ]
  },
  {
   "cell_type": "markdown",
   "metadata": {},
   "source": [
    "#### Plot the distribution for size copied in bytes"
   ]
  },
  {
   "cell_type": "code",
   "execution_count": 121,
   "metadata": {},
   "outputs": [
    {
     "data": {
      "image/png": "[encoded data removed]",
      "text/plain": [
       "<Figure size 864x504 with 1 Axes>"
      ]
     },
     "metadata": {
      "needs_background": "light"
     },
     "output_type": "display_data"
    }
   ],
   "source": [
    "plt.figure(figsize=(12,7))\n",
    "sns.distplot(cc_data_outliers_removed['size_in_bytes'],\n",
    "             label = '1',\n",
    "             color = 'red',\n",
    "             bins=50\n",
    "            )\n",
    "plt.show()"
   ]
  },
  {
   "cell_type": "code",
   "execution_count": 122,
   "metadata": {},
   "outputs": [
    {
     "data": {
      "text/html": [
       "<div>\n",
       "<style scoped>\n",
       "    .dataframe tbody tr th:only-of-type {\n",
       "        vertical-align: middle;\n",
       "    }\n",
       "\n",
       "    .dataframe tbody tr th {\n",
       "        vertical-align: top;\n",
       "    }\n",
       "\n",
       "    .dataframe thead th {\n",
       "        text-align: right;\n",
       "    }\n",
       "</style>\n",
       "<table border=\"1\" class=\"dataframe\">\n",
       "  <thead>\n",
       "    <tr style=\"text-align: right;\">\n",
       "      <th></th>\n",
       "      <th>runtime_in_seconds</th>\n",
       "      <th>records_processed</th>\n",
       "      <th>size_in_bytes</th>\n",
       "      <th>parallel_number</th>\n",
       "    </tr>\n",
       "  </thead>\n",
       "  <tbody>\n",
       "    <tr>\n",
       "      <th>count</th>\n",
       "      <td>317</td>\n",
       "      <td>317</td>\n",
       "      <td>317</td>\n",
       "      <td>317</td>\n",
       "    </tr>\n",
       "    <tr>\n",
       "      <th>mean</th>\n",
       "      <td>1359</td>\n",
       "      <td>139313347</td>\n",
       "      <td>7546174501</td>\n",
       "      <td>8</td>\n",
       "    </tr>\n",
       "    <tr>\n",
       "      <th>std</th>\n",
       "      <td>1061</td>\n",
       "      <td>162732871</td>\n",
       "      <td>7508499566</td>\n",
       "      <td>3</td>\n",
       "    </tr>\n",
       "    <tr>\n",
       "      <th>min</th>\n",
       "      <td>13</td>\n",
       "      <td>0</td>\n",
       "      <td>0</td>\n",
       "      <td>0</td>\n",
       "    </tr>\n",
       "    <tr>\n",
       "      <th>25%</th>\n",
       "      <td>495</td>\n",
       "      <td>17115615</td>\n",
       "      <td>723625603</td>\n",
       "      <td>6</td>\n",
       "    </tr>\n",
       "    <tr>\n",
       "      <th>50%</th>\n",
       "      <td>1192</td>\n",
       "      <td>78650952</td>\n",
       "      <td>5476110232</td>\n",
       "      <td>10</td>\n",
       "    </tr>\n",
       "    <tr>\n",
       "      <th>75%</th>\n",
       "      <td>1930</td>\n",
       "      <td>229886936</td>\n",
       "      <td>11991327874</td>\n",
       "      <td>10</td>\n",
       "    </tr>\n",
       "    <tr>\n",
       "      <th>max</th>\n",
       "      <td>4173</td>\n",
       "      <td>586594490</td>\n",
       "      <td>29538815619</td>\n",
       "      <td>10</td>\n",
       "    </tr>\n",
       "  </tbody>\n",
       "</table>\n",
       "</div>"
      ],
      "text/plain": [
       "       runtime_in_seconds  records_processed  size_in_bytes  parallel_number\n",
       "count                 317                317            317              317\n",
       "mean                 1359          139313347     7546174501                8\n",
       "std                  1061          162732871     7508499566                3\n",
       "min                    13                  0              0                0\n",
       "25%                   495           17115615      723625603                6\n",
       "50%                  1192           78650952     5476110232               10\n",
       "75%                  1930          229886936    11991327874               10\n",
       "max                  4173          586594490    29538815619               10"
      ]
     },
     "execution_count": 122,
     "metadata": {},
     "output_type": "execute_result"
    }
   ],
   "source": [
    "cc_data_outliers_removed.describe()"
   ]
  },
  {
   "cell_type": "code",
   "execution_count": 123,
   "metadata": {},
   "outputs": [
    {
     "data": {
      "text/plain": [
       "LOCAL     249\n",
       "CMPLCL     21\n",
       "REMOTE     13\n",
       "DELETE     12\n",
       "SIZE        9\n",
       "IMPORT      7\n",
       "EXPORT      6\n",
       "Name: copy_mode, dtype: int64"
      ]
     },
     "execution_count": 123,
     "metadata": {},
     "output_type": "execute_result"
    }
   ],
   "source": [
    "# Check the number of local client copy samples\n",
    "cc_data_outliers_removed.copy_mode.value_counts()"
   ]
  },
  {
   "cell_type": "markdown",
   "metadata": {},
   "source": [
    "Remove all other modes of cc , because lets fight one battle a day !"
   ]
  },
  {
   "cell_type": "code",
   "execution_count": 124,
   "metadata": {},
   "outputs": [
    {
     "data": {
      "text/html": [
       "<div>\n",
       "<style scoped>\n",
       "    .dataframe tbody tr th:only-of-type {\n",
       "        vertical-align: middle;\n",
       "    }\n",
       "\n",
       "    .dataframe tbody tr th {\n",
       "        vertical-align: top;\n",
       "    }\n",
       "\n",
       "    .dataframe thead th {\n",
       "        text-align: right;\n",
       "    }\n",
       "</style>\n",
       "<table border=\"1\" class=\"dataframe\">\n",
       "  <thead>\n",
       "    <tr style=\"text-align: right;\">\n",
       "      <th></th>\n",
       "      <th>copy_mode</th>\n",
       "      <th>profile</th>\n",
       "      <th>runtime_in_seconds</th>\n",
       "      <th>status</th>\n",
       "      <th>records_processed</th>\n",
       "      <th>size_in_bytes</th>\n",
       "      <th>ignore_exit_errors</th>\n",
       "      <th>ignore_table_errors</th>\n",
       "      <th>lock_source_client</th>\n",
       "      <th>parallel_number</th>\n",
       "      <th>use_exclusive_locks</th>\n",
       "      <th>use_table_segmenter</th>\n",
       "    </tr>\n",
       "  </thead>\n",
       "  <tbody>\n",
       "    <tr>\n",
       "      <th>0</th>\n",
       "      <td>LOCAL</td>\n",
       "      <td>SAP_UCSV</td>\n",
       "      <td>1290</td>\n",
       "      <td>FINISHED</td>\n",
       "      <td>30619937</td>\n",
       "      <td>2721723523</td>\n",
       "      <td>SET</td>\n",
       "      <td>NOT_SET</td>\n",
       "      <td>NOT_SET</td>\n",
       "      <td>6</td>\n",
       "      <td>NOT_SET</td>\n",
       "      <td>NOT_SET</td>\n",
       "    </tr>\n",
       "    <tr>\n",
       "      <th>1</th>\n",
       "      <td>LOCAL</td>\n",
       "      <td>SAP_UCSV</td>\n",
       "      <td>1192</td>\n",
       "      <td>FINISHED</td>\n",
       "      <td>48666506</td>\n",
       "      <td>3902691720</td>\n",
       "      <td>SET</td>\n",
       "      <td>NOT_SET</td>\n",
       "      <td>NOT_SET</td>\n",
       "      <td>6</td>\n",
       "      <td>NOT_SET</td>\n",
       "      <td>NOT_SET</td>\n",
       "    </tr>\n",
       "    <tr>\n",
       "      <th>2</th>\n",
       "      <td>LOCAL</td>\n",
       "      <td>SAP_UCSV</td>\n",
       "      <td>343</td>\n",
       "      <td>CANCELLED</td>\n",
       "      <td>32653243</td>\n",
       "      <td>2246436756</td>\n",
       "      <td>NOT_SET</td>\n",
       "      <td>NOT_SET</td>\n",
       "      <td>SET</td>\n",
       "      <td>7</td>\n",
       "      <td>SET</td>\n",
       "      <td>NOT_SET</td>\n",
       "    </tr>\n",
       "    <tr>\n",
       "      <th>3</th>\n",
       "      <td>REMOTE</td>\n",
       "      <td>SAP_ALL</td>\n",
       "      <td>1800</td>\n",
       "      <td>FINISHED</td>\n",
       "      <td>60944409</td>\n",
       "      <td>5673935415</td>\n",
       "      <td>SET</td>\n",
       "      <td>SET</td>\n",
       "      <td>SET</td>\n",
       "      <td>10</td>\n",
       "      <td>NOT_SET</td>\n",
       "      <td>NOT_SET</td>\n",
       "    </tr>\n",
       "    <tr>\n",
       "      <th>4</th>\n",
       "      <td>LOCAL</td>\n",
       "      <td>SAP_UCSV</td>\n",
       "      <td>249</td>\n",
       "      <td>CANCELLED</td>\n",
       "      <td>118175632</td>\n",
       "      <td>8857599641</td>\n",
       "      <td>SET</td>\n",
       "      <td>NOT_SET</td>\n",
       "      <td>NOT_SET</td>\n",
       "      <td>6</td>\n",
       "      <td>SET</td>\n",
       "      <td>NOT_SET</td>\n",
       "    </tr>\n",
       "  </tbody>\n",
       "</table>\n",
       "</div>"
      ],
      "text/plain": [
       "  copy_mode   profile  runtime_in_seconds     status  records_processed  \\\n",
       "0     LOCAL  SAP_UCSV                1290   FINISHED           30619937   \n",
       "1     LOCAL  SAP_UCSV                1192   FINISHED           48666506   \n",
       "2     LOCAL  SAP_UCSV                 343  CANCELLED           32653243   \n",
       "3    REMOTE  SAP_ALL                 1800   FINISHED           60944409   \n",
       "4     LOCAL  SAP_UCSV                 249  CANCELLED          118175632   \n",
       "\n",
       "   size_in_bytes ignore_exit_errors ignore_table_errors lock_source_client  \\\n",
       "0     2721723523                SET             NOT_SET            NOT_SET   \n",
       "1     3902691720                SET             NOT_SET            NOT_SET   \n",
       "2     2246436756            NOT_SET             NOT_SET                SET   \n",
       "3     5673935415                SET                 SET                SET   \n",
       "4     8857599641                SET             NOT_SET            NOT_SET   \n",
       "\n",
       "   parallel_number use_exclusive_locks use_table_segmenter  \n",
       "0                6             NOT_SET             NOT_SET  \n",
       "1                6             NOT_SET             NOT_SET  \n",
       "2                7                 SET             NOT_SET  \n",
       "3               10             NOT_SET             NOT_SET  \n",
       "4                6                 SET             NOT_SET  "
      ]
     },
     "execution_count": 124,
     "metadata": {},
     "output_type": "execute_result"
    }
   ],
   "source": [
    "# criteria = (cc_data.copy_mode=='LOCAL') & (cc_data.status == 'FINISHED')\n",
    "# local_cc_data = cc_data.loc[criteria]\n",
    "# # dont need timestamp, copy_mode\n",
    "# local_cc_data.drop(columns = ['timestamp','copy_mode'],inplace=True)\n",
    "# cc_data_outliers_removed[['ignore_exit_errors','ignore_table_errors','lock_source_client','use_exclusive_locks','use_table_segmenter']] = \\\n",
    "# cc_data_outliers_removed[['ignore_exit_errors','ignore_table_errors','lock_source_client','use_exclusive_locks','use_table_segmenter']].astype('category')\n",
    "if not os.path.isfile('./dataset/cleaned_copies_data_outliers_removed.csv'):\n",
    "    \n",
    "    cc_data_outliers_removed.to_csv('./dataset/cleaned_copies_data_outliers_removed.csv',index=None,header=True,)\n",
    "cc_data_outliers_removed.head()"
   ]
  },
  {
   "cell_type": "markdown",
   "metadata": {},
   "source": [
    "### Standardization & Handling Categorical variables"
   ]
  },
  {
   "cell_type": "code",
   "execution_count": 125,
   "metadata": {},
   "outputs": [
    {
     "data": {
      "text/plain": [
       "copy_mode              object\n",
       "profile                object\n",
       "runtime_in_seconds      int64\n",
       "status                 object\n",
       "records_processed       int64\n",
       "size_in_bytes           int64\n",
       "ignore_exit_errors     object\n",
       "ignore_table_errors    object\n",
       "lock_source_client     object\n",
       "parallel_number         int64\n",
       "use_exclusive_locks    object\n",
       "use_table_segmenter    object\n",
       "dtype: object"
      ]
     },
     "execution_count": 125,
     "metadata": {},
     "output_type": "execute_result"
    }
   ],
   "source": [
    "# List the data types, so that we know what kind \n",
    "# of preprocessing is required\n",
    "cc_data_outliers_removed.dtypes"
   ]
  },
  {
   "cell_type": "markdown",
   "metadata": {},
   "source": [
    "Earlier we replaced the NaN values in the settings variable (binary variables) to NOT_SET. \n",
    "- X       ---> SET\n",
    "- (SPACE) ----> NOT_SET     "
   ]
  },
  {
   "cell_type": "code",
   "execution_count": 127,
   "metadata": {},
   "outputs": [
    {
     "data": {
      "text/html": [
       "<div>\n",
       "<style scoped>\n",
       "    .dataframe tbody tr th:only-of-type {\n",
       "        vertical-align: middle;\n",
       "    }\n",
       "\n",
       "    .dataframe tbody tr th {\n",
       "        vertical-align: top;\n",
       "    }\n",
       "\n",
       "    .dataframe thead th {\n",
       "        text-align: right;\n",
       "    }\n",
       "</style>\n",
       "<table border=\"1\" class=\"dataframe\">\n",
       "  <thead>\n",
       "    <tr style=\"text-align: right;\">\n",
       "      <th></th>\n",
       "      <th>runtime_in_seconds</th>\n",
       "      <th>records_processed</th>\n",
       "      <th>size_in_bytes</th>\n",
       "      <th>parallel_number</th>\n",
       "      <th>copy_mode_CMPLCL</th>\n",
       "      <th>copy_mode_DELETE</th>\n",
       "      <th>copy_mode_EXPORT</th>\n",
       "      <th>copy_mode_IMPORT</th>\n",
       "      <th>copy_mode_LOCAL</th>\n",
       "      <th>copy_mode_REMOTE</th>\n",
       "      <th>...</th>\n",
       "      <th>ignore_exit_errors_NOT_SET</th>\n",
       "      <th>ignore_exit_errors_SET</th>\n",
       "      <th>ignore_table_errors_NOT_SET</th>\n",
       "      <th>ignore_table_errors_SET</th>\n",
       "      <th>lock_source_client_NOT_SET</th>\n",
       "      <th>lock_source_client_SET</th>\n",
       "      <th>use_exclusive_locks_NOT_SET</th>\n",
       "      <th>use_exclusive_locks_SET</th>\n",
       "      <th>use_table_segmenter_NOT_SET</th>\n",
       "      <th>use_table_segmenter_SET</th>\n",
       "    </tr>\n",
       "  </thead>\n",
       "  <tbody>\n",
       "    <tr>\n",
       "      <th>0</th>\n",
       "      <td>1290</td>\n",
       "      <td>30619937</td>\n",
       "      <td>2721723523</td>\n",
       "      <td>6</td>\n",
       "      <td>0</td>\n",
       "      <td>0</td>\n",
       "      <td>0</td>\n",
       "      <td>0</td>\n",
       "      <td>1</td>\n",
       "      <td>0</td>\n",
       "      <td>...</td>\n",
       "      <td>0</td>\n",
       "      <td>1</td>\n",
       "      <td>1</td>\n",
       "      <td>0</td>\n",
       "      <td>1</td>\n",
       "      <td>0</td>\n",
       "      <td>1</td>\n",
       "      <td>0</td>\n",
       "      <td>1</td>\n",
       "      <td>0</td>\n",
       "    </tr>\n",
       "    <tr>\n",
       "      <th>1</th>\n",
       "      <td>1192</td>\n",
       "      <td>48666506</td>\n",
       "      <td>3902691720</td>\n",
       "      <td>6</td>\n",
       "      <td>0</td>\n",
       "      <td>0</td>\n",
       "      <td>0</td>\n",
       "      <td>0</td>\n",
       "      <td>1</td>\n",
       "      <td>0</td>\n",
       "      <td>...</td>\n",
       "      <td>0</td>\n",
       "      <td>1</td>\n",
       "      <td>1</td>\n",
       "      <td>0</td>\n",
       "      <td>1</td>\n",
       "      <td>0</td>\n",
       "      <td>1</td>\n",
       "      <td>0</td>\n",
       "      <td>1</td>\n",
       "      <td>0</td>\n",
       "    </tr>\n",
       "    <tr>\n",
       "      <th>2</th>\n",
       "      <td>343</td>\n",
       "      <td>32653243</td>\n",
       "      <td>2246436756</td>\n",
       "      <td>7</td>\n",
       "      <td>0</td>\n",
       "      <td>0</td>\n",
       "      <td>0</td>\n",
       "      <td>0</td>\n",
       "      <td>1</td>\n",
       "      <td>0</td>\n",
       "      <td>...</td>\n",
       "      <td>1</td>\n",
       "      <td>0</td>\n",
       "      <td>1</td>\n",
       "      <td>0</td>\n",
       "      <td>0</td>\n",
       "      <td>1</td>\n",
       "      <td>0</td>\n",
       "      <td>1</td>\n",
       "      <td>1</td>\n",
       "      <td>0</td>\n",
       "    </tr>\n",
       "    <tr>\n",
       "      <th>3</th>\n",
       "      <td>1800</td>\n",
       "      <td>60944409</td>\n",
       "      <td>5673935415</td>\n",
       "      <td>10</td>\n",
       "      <td>0</td>\n",
       "      <td>0</td>\n",
       "      <td>0</td>\n",
       "      <td>0</td>\n",
       "      <td>0</td>\n",
       "      <td>1</td>\n",
       "      <td>...</td>\n",
       "      <td>0</td>\n",
       "      <td>1</td>\n",
       "      <td>0</td>\n",
       "      <td>1</td>\n",
       "      <td>0</td>\n",
       "      <td>1</td>\n",
       "      <td>1</td>\n",
       "      <td>0</td>\n",
       "      <td>1</td>\n",
       "      <td>0</td>\n",
       "    </tr>\n",
       "    <tr>\n",
       "      <th>4</th>\n",
       "      <td>249</td>\n",
       "      <td>118175632</td>\n",
       "      <td>8857599641</td>\n",
       "      <td>6</td>\n",
       "      <td>0</td>\n",
       "      <td>0</td>\n",
       "      <td>0</td>\n",
       "      <td>0</td>\n",
       "      <td>1</td>\n",
       "      <td>0</td>\n",
       "      <td>...</td>\n",
       "      <td>0</td>\n",
       "      <td>1</td>\n",
       "      <td>1</td>\n",
       "      <td>0</td>\n",
       "      <td>1</td>\n",
       "      <td>0</td>\n",
       "      <td>0</td>\n",
       "      <td>1</td>\n",
       "      <td>1</td>\n",
       "      <td>0</td>\n",
       "    </tr>\n",
       "  </tbody>\n",
       "</table>\n",
       "<p>5 rows × 33 columns</p>\n",
       "</div>"
      ],
      "text/plain": [
       "   runtime_in_seconds  records_processed  size_in_bytes  parallel_number  \\\n",
       "0                1290           30619937     2721723523                6   \n",
       "1                1192           48666506     3902691720                6   \n",
       "2                 343           32653243     2246436756                7   \n",
       "3                1800           60944409     5673935415               10   \n",
       "4                 249          118175632     8857599641                6   \n",
       "\n",
       "   copy_mode_CMPLCL  copy_mode_DELETE  copy_mode_EXPORT  copy_mode_IMPORT  \\\n",
       "0                 0                 0                 0                 0   \n",
       "1                 0                 0                 0                 0   \n",
       "2                 0                 0                 0                 0   \n",
       "3                 0                 0                 0                 0   \n",
       "4                 0                 0                 0                 0   \n",
       "\n",
       "   copy_mode_LOCAL  copy_mode_REMOTE  ...  ignore_exit_errors_NOT_SET  \\\n",
       "0                1                 0  ...                           0   \n",
       "1                1                 0  ...                           0   \n",
       "2                1                 0  ...                           1   \n",
       "3                0                 1  ...                           0   \n",
       "4                1                 0  ...                           0   \n",
       "\n",
       "   ignore_exit_errors_SET  ignore_table_errors_NOT_SET  \\\n",
       "0                       1                            1   \n",
       "1                       1                            1   \n",
       "2                       0                            1   \n",
       "3                       1                            0   \n",
       "4                       1                            1   \n",
       "\n",
       "   ignore_table_errors_SET  lock_source_client_NOT_SET  \\\n",
       "0                        0                           1   \n",
       "1                        0                           1   \n",
       "2                        0                           0   \n",
       "3                        1                           0   \n",
       "4                        0                           1   \n",
       "\n",
       "   lock_source_client_SET  use_exclusive_locks_NOT_SET  \\\n",
       "0                       0                            1   \n",
       "1                       0                            1   \n",
       "2                       1                            0   \n",
       "3                       1                            1   \n",
       "4                       0                            0   \n",
       "\n",
       "   use_exclusive_locks_SET  use_table_segmenter_NOT_SET  \\\n",
       "0                        0                            1   \n",
       "1                        0                            1   \n",
       "2                        1                            1   \n",
       "3                        0                            1   \n",
       "4                        1                            1   \n",
       "\n",
       "   use_table_segmenter_SET  \n",
       "0                        0  \n",
       "1                        0  \n",
       "2                        0  \n",
       "3                        0  \n",
       "4                        0  \n",
       "\n",
       "[5 rows x 33 columns]"
      ]
     },
     "execution_count": 127,
     "metadata": {},
     "output_type": "execute_result"
    }
   ],
   "source": [
    "local_w_dummies = pd.get_dummies(cc_data_outliers_removed ,\n",
    "                                 columns=[col for col in cc_data_outliers_removed.columns.tolist() \n",
    "                                          if cc_data_outliers_removed[col].dtype in ['object']\n",
    "                                         ] \n",
    ")\n",
    "local_w_dummies.head()"
   ]
  },
  {
   "cell_type": "code",
   "execution_count": 128,
   "metadata": {},
   "outputs": [],
   "source": [
    "if not os.path.isfile('./dataset/cc_cleaned_data_with_dummies.csv'):\n",
    "    local_w_dummies.to_csv('./dataset/cc_cleaned_data_with_dummies.csv')"
   ]
  },
  {
   "cell_type": "code",
   "execution_count": 129,
   "metadata": {},
   "outputs": [
    {
     "data": {
      "text/plain": [
       "<matplotlib.axes._subplots.AxesSubplot at 0x1e556a253c8>"
      ]
     },
     "execution_count": 129,
     "metadata": {},
     "output_type": "execute_result"
    },
    {
     "data": {
      "image/png": "[encoded data removed]",
      "text/plain": [
       "<Figure size 864x504 with 2 Axes>"
      ]
     },
     "metadata": {
      "needs_background": "light"
     },
     "output_type": "display_data"
    }
   ],
   "source": [
    "plt.figure(figsize=(12,7))\n",
    "sns.heatmap(local_w_dummies.corr())\n",
    "# local_w_dummies.corr()"
   ]
  },
  {
   "cell_type": "markdown",
   "metadata": {},
   "source": [
    "Lets separate the features and the target variables"
   ]
  },
  {
   "cell_type": "code",
   "execution_count": 130,
   "metadata": {},
   "outputs": [],
   "source": [
    "target = pd.DataFrame(local_w_dummies.runtime_in_seconds)\n",
    "features = local_w_dummies.drop(['runtime_in_seconds'],axis=1)"
   ]
  },
  {
   "cell_type": "code",
   "execution_count": 30,
   "metadata": {},
   "outputs": [],
   "source": [
    "# numeric_features = features.select_dtypes(include=['int64']).columns.tolist()\n",
    "# features[numeric_features] = features[numeric_features].astype(float)\n",
    "# features.sample(5)\n",
    "\n"
   ]
  },
  {
   "cell_type": "markdown",
   "metadata": {},
   "source": [
    "Now lets scale all numeric features"
   ]
  },
  {
   "cell_type": "code",
   "execution_count": 131,
   "metadata": {},
   "outputs": [],
   "source": [
    "numeric_features = features.select_dtypes(include=['int64']).columns.tolist()\n",
    "\n",
    "scaler = StandardScaler()\n",
    "# scaler.fit(features[numeric_features])\n",
    "# features[numeric_features]=scaler.transform(features[numeric_features])\n",
    "# target = scaler.transform(target)"
   ]
  },
  {
   "cell_type": "code",
   "execution_count": 132,
   "metadata": {},
   "outputs": [
    {
     "data": {
      "text/html": [
       "<div>\n",
       "<style scoped>\n",
       "    .dataframe tbody tr th:only-of-type {\n",
       "        vertical-align: middle;\n",
       "    }\n",
       "\n",
       "    .dataframe tbody tr th {\n",
       "        vertical-align: top;\n",
       "    }\n",
       "\n",
       "    .dataframe thead th {\n",
       "        text-align: right;\n",
       "    }\n",
       "</style>\n",
       "<table border=\"1\" class=\"dataframe\">\n",
       "  <thead>\n",
       "    <tr style=\"text-align: right;\">\n",
       "      <th></th>\n",
       "      <th>records_processed</th>\n",
       "      <th>size_in_bytes</th>\n",
       "      <th>parallel_number</th>\n",
       "      <th>copy_mode_CMPLCL</th>\n",
       "      <th>copy_mode_DELETE</th>\n",
       "      <th>copy_mode_EXPORT</th>\n",
       "      <th>copy_mode_IMPORT</th>\n",
       "      <th>copy_mode_LOCAL</th>\n",
       "      <th>copy_mode_REMOTE</th>\n",
       "      <th>copy_mode_SIZE</th>\n",
       "      <th>...</th>\n",
       "      <th>ignore_exit_errors_NOT_SET</th>\n",
       "      <th>ignore_exit_errors_SET</th>\n",
       "      <th>ignore_table_errors_NOT_SET</th>\n",
       "      <th>ignore_table_errors_SET</th>\n",
       "      <th>lock_source_client_NOT_SET</th>\n",
       "      <th>lock_source_client_SET</th>\n",
       "      <th>use_exclusive_locks_NOT_SET</th>\n",
       "      <th>use_exclusive_locks_SET</th>\n",
       "      <th>use_table_segmenter_NOT_SET</th>\n",
       "      <th>use_table_segmenter_SET</th>\n",
       "    </tr>\n",
       "  </thead>\n",
       "  <tbody>\n",
       "    <tr>\n",
       "      <th>0</th>\n",
       "      <td>30619937</td>\n",
       "      <td>2721723523</td>\n",
       "      <td>6</td>\n",
       "      <td>0</td>\n",
       "      <td>0</td>\n",
       "      <td>0</td>\n",
       "      <td>0</td>\n",
       "      <td>1</td>\n",
       "      <td>0</td>\n",
       "      <td>0</td>\n",
       "      <td>...</td>\n",
       "      <td>0</td>\n",
       "      <td>1</td>\n",
       "      <td>1</td>\n",
       "      <td>0</td>\n",
       "      <td>1</td>\n",
       "      <td>0</td>\n",
       "      <td>1</td>\n",
       "      <td>0</td>\n",
       "      <td>1</td>\n",
       "      <td>0</td>\n",
       "    </tr>\n",
       "    <tr>\n",
       "      <th>1</th>\n",
       "      <td>48666506</td>\n",
       "      <td>3902691720</td>\n",
       "      <td>6</td>\n",
       "      <td>0</td>\n",
       "      <td>0</td>\n",
       "      <td>0</td>\n",
       "      <td>0</td>\n",
       "      <td>1</td>\n",
       "      <td>0</td>\n",
       "      <td>0</td>\n",
       "      <td>...</td>\n",
       "      <td>0</td>\n",
       "      <td>1</td>\n",
       "      <td>1</td>\n",
       "      <td>0</td>\n",
       "      <td>1</td>\n",
       "      <td>0</td>\n",
       "      <td>1</td>\n",
       "      <td>0</td>\n",
       "      <td>1</td>\n",
       "      <td>0</td>\n",
       "    </tr>\n",
       "    <tr>\n",
       "      <th>2</th>\n",
       "      <td>32653243</td>\n",
       "      <td>2246436756</td>\n",
       "      <td>7</td>\n",
       "      <td>0</td>\n",
       "      <td>0</td>\n",
       "      <td>0</td>\n",
       "      <td>0</td>\n",
       "      <td>1</td>\n",
       "      <td>0</td>\n",
       "      <td>0</td>\n",
       "      <td>...</td>\n",
       "      <td>1</td>\n",
       "      <td>0</td>\n",
       "      <td>1</td>\n",
       "      <td>0</td>\n",
       "      <td>0</td>\n",
       "      <td>1</td>\n",
       "      <td>0</td>\n",
       "      <td>1</td>\n",
       "      <td>1</td>\n",
       "      <td>0</td>\n",
       "    </tr>\n",
       "    <tr>\n",
       "      <th>3</th>\n",
       "      <td>60944409</td>\n",
       "      <td>5673935415</td>\n",
       "      <td>10</td>\n",
       "      <td>0</td>\n",
       "      <td>0</td>\n",
       "      <td>0</td>\n",
       "      <td>0</td>\n",
       "      <td>0</td>\n",
       "      <td>1</td>\n",
       "      <td>0</td>\n",
       "      <td>...</td>\n",
       "      <td>0</td>\n",
       "      <td>1</td>\n",
       "      <td>0</td>\n",
       "      <td>1</td>\n",
       "      <td>0</td>\n",
       "      <td>1</td>\n",
       "      <td>1</td>\n",
       "      <td>0</td>\n",
       "      <td>1</td>\n",
       "      <td>0</td>\n",
       "    </tr>\n",
       "    <tr>\n",
       "      <th>4</th>\n",
       "      <td>118175632</td>\n",
       "      <td>8857599641</td>\n",
       "      <td>6</td>\n",
       "      <td>0</td>\n",
       "      <td>0</td>\n",
       "      <td>0</td>\n",
       "      <td>0</td>\n",
       "      <td>1</td>\n",
       "      <td>0</td>\n",
       "      <td>0</td>\n",
       "      <td>...</td>\n",
       "      <td>0</td>\n",
       "      <td>1</td>\n",
       "      <td>1</td>\n",
       "      <td>0</td>\n",
       "      <td>1</td>\n",
       "      <td>0</td>\n",
       "      <td>0</td>\n",
       "      <td>1</td>\n",
       "      <td>1</td>\n",
       "      <td>0</td>\n",
       "    </tr>\n",
       "  </tbody>\n",
       "</table>\n",
       "<p>5 rows × 32 columns</p>\n",
       "</div>"
      ],
      "text/plain": [
       "   records_processed  size_in_bytes  parallel_number  copy_mode_CMPLCL  \\\n",
       "0           30619937     2721723523                6                 0   \n",
       "1           48666506     3902691720                6                 0   \n",
       "2           32653243     2246436756                7                 0   \n",
       "3           60944409     5673935415               10                 0   \n",
       "4          118175632     8857599641                6                 0   \n",
       "\n",
       "   copy_mode_DELETE  copy_mode_EXPORT  copy_mode_IMPORT  copy_mode_LOCAL  \\\n",
       "0                 0                 0                 0                1   \n",
       "1                 0                 0                 0                1   \n",
       "2                 0                 0                 0                1   \n",
       "3                 0                 0                 0                0   \n",
       "4                 0                 0                 0                1   \n",
       "\n",
       "   copy_mode_REMOTE  copy_mode_SIZE  ...  ignore_exit_errors_NOT_SET  \\\n",
       "0                 0               0  ...                           0   \n",
       "1                 0               0  ...                           0   \n",
       "2                 0               0  ...                           1   \n",
       "3                 1               0  ...                           0   \n",
       "4                 0               0  ...                           0   \n",
       "\n",
       "   ignore_exit_errors_SET  ignore_table_errors_NOT_SET  \\\n",
       "0                       1                            1   \n",
       "1                       1                            1   \n",
       "2                       0                            1   \n",
       "3                       1                            0   \n",
       "4                       1                            1   \n",
       "\n",
       "   ignore_table_errors_SET  lock_source_client_NOT_SET  \\\n",
       "0                        0                           1   \n",
       "1                        0                           1   \n",
       "2                        0                           0   \n",
       "3                        1                           0   \n",
       "4                        0                           1   \n",
       "\n",
       "   lock_source_client_SET  use_exclusive_locks_NOT_SET  \\\n",
       "0                       0                            1   \n",
       "1                       0                            1   \n",
       "2                       1                            0   \n",
       "3                       1                            1   \n",
       "4                       0                            0   \n",
       "\n",
       "   use_exclusive_locks_SET  use_table_segmenter_NOT_SET  \\\n",
       "0                        0                            1   \n",
       "1                        0                            1   \n",
       "2                        1                            1   \n",
       "3                        0                            1   \n",
       "4                        1                            1   \n",
       "\n",
       "   use_table_segmenter_SET  \n",
       "0                        0  \n",
       "1                        0  \n",
       "2                        0  \n",
       "3                        0  \n",
       "4                        0  \n",
       "\n",
       "[5 rows x 32 columns]"
      ]
     },
     "execution_count": 132,
     "metadata": {},
     "output_type": "execute_result"
    }
   ],
   "source": [
    "features.head()"
   ]
  },
  {
   "cell_type": "code",
   "execution_count": 153,
   "metadata": {},
   "outputs": [],
   "source": [
    "from sklearn.model_selection import train_test_split\n",
    "\n",
    "X_train, X_test , y_train , y_test = train_test_split(features ,target ,test_size = 0.3)\n",
    "X_train = scaler.fit_transform(X_train)\n",
    "X_test = scaler.transform(X_test)\n",
    "\n",
    "scaler_y = StandardScaler()\n",
    "\n",
    "y_train = scaler_y.fit_transform(y_train)\n",
    "y_test = scaler_y.transform(y_test)"
   ]
  },
  {
   "cell_type": "code",
   "execution_count": 154,
   "metadata": {},
   "outputs": [
    {
     "data": {
      "text/plain": [
       "array([[-0.48776031, -0.10248019, -0.51786333, ...,  1.21784485,\n",
       "         0.26984354, -0.26984354],\n",
       "       [ 0.80559775,  0.56746856,  0.83255315, ..., -0.82112266,\n",
       "         0.26984354, -0.26984354],\n",
       "       [-0.55932578, -0.48610106, -0.51786333, ..., -0.82112266,\n",
       "         0.26984354, -0.26984354],\n",
       "       ...,\n",
       "       [ 0.01997307, -0.28115848,  0.83255315, ...,  1.21784485,\n",
       "        -3.70585123,  3.70585123],\n",
       "       [-0.85267587, -0.97916404, -2.54348806, ..., -0.82112266,\n",
       "         0.26984354, -0.26984354],\n",
       "       [-0.35226474,  0.26159793, -0.51786333, ...,  1.21784485,\n",
       "         0.26984354, -0.26984354]])"
      ]
     },
     "execution_count": 154,
     "metadata": {},
     "output_type": "execute_result"
    }
   ],
   "source": [
    "X_test"
   ]
  },
  {
   "cell_type": "code",
   "execution_count": 155,
   "metadata": {},
   "outputs": [
    {
     "data": {
      "text/plain": [
       "array([[ 1.92877101,  1.07858786, -2.20588394, ...,  1.21784485,\n",
       "        -3.70585123,  3.70585123],\n",
       "       [ 0.89552495,  0.92551832,  0.83255315, ..., -0.82112266,\n",
       "         0.26984354, -0.26984354],\n",
       "       [-0.35104388,  0.20159886, -0.51786333, ..., -0.82112266,\n",
       "         0.26984354, -0.26984354],\n",
       "       ...,\n",
       "       [-0.85471514, -0.9944386 ,  0.83255315, ..., -0.82112266,\n",
       "         0.26984354, -0.26984354],\n",
       "       [-0.85471183, -0.99439778,  0.83255315, ..., -0.82112266,\n",
       "         0.26984354, -0.26984354],\n",
       "       [-0.8544449 , -0.99426401,  0.83255315, ...,  1.21784485,\n",
       "         0.26984354, -0.26984354]])"
      ]
     },
     "execution_count": 155,
     "metadata": {},
     "output_type": "execute_result"
    }
   ],
   "source": [
    "X_train"
   ]
  },
  {
   "cell_type": "code",
   "execution_count": 156,
   "metadata": {},
   "outputs": [],
   "source": [
    "import xgboost as xgb\n",
    "from sklearn.metrics import mean_squared_error\n",
    "xgbModel = xgb.XGBRegressor()\n",
    "# xgbModel.fit(X_train ,y_train)\n",
    "# y_xgb_predictions = xgbModel.predict(X_test)\n",
    "# print(y_xgb_predictions)\n"
   ]
  },
  {
   "cell_type": "code",
   "execution_count": 157,
   "metadata": {},
   "outputs": [
    {
     "name": "stdout",
     "output_type": "stream",
     "text": [
      "[18:36:19] WARNING: C:/Jenkins/workspace/xgboost-win64_release_0.90/src/objective/regression_obj.cu:152: reg:linear is now deprecated in favor of reg:squarederror.\n",
      "[18:36:19] WARNING: C:/Jenkins/workspace/xgboost-win64_release_0.90/src/objective/regression_obj.cu:152: reg:linear is now deprecated in favor of reg:squarederror.\n",
      "[18:36:19] WARNING: C:/Jenkins/workspace/xgboost-win64_release_0.90/src/objective/regression_obj.cu:152: reg:linear is now deprecated in favor of reg:squarederror.\n"
     ]
    }
   ],
   "source": [
    "params = {\"objective\":\"reg:linear\",'colsample_bytree': 0.3,'learning_rate': 0.1,\n",
    "                'max_depth': 15, 'alpha': 10}\n",
    "dtrain_mat = xgb.DMatrix(X_train, y_train)\n",
    "cv_results = xgb.cv(dtrain=dtrain_mat, params=params, nfold=3,\n",
    "                    num_boost_round=50,early_stopping_rounds=10,metrics=\"rmse\", as_pandas=True, seed=123)"
   ]
  },
  {
   "cell_type": "code",
   "execution_count": 158,
   "metadata": {},
   "outputs": [
    {
     "data": {
      "text/html": [
       "<div>\n",
       "<style scoped>\n",
       "    .dataframe tbody tr th:only-of-type {\n",
       "        vertical-align: middle;\n",
       "    }\n",
       "\n",
       "    .dataframe tbody tr th {\n",
       "        vertical-align: top;\n",
       "    }\n",
       "\n",
       "    .dataframe thead th {\n",
       "        text-align: right;\n",
       "    }\n",
       "</style>\n",
       "<table border=\"1\" class=\"dataframe\">\n",
       "  <thead>\n",
       "    <tr style=\"text-align: right;\">\n",
       "      <th></th>\n",
       "      <th>train-rmse-mean</th>\n",
       "      <th>train-rmse-std</th>\n",
       "      <th>test-rmse-mean</th>\n",
       "      <th>test-rmse-std</th>\n",
       "    </tr>\n",
       "  </thead>\n",
       "  <tbody>\n",
       "    <tr>\n",
       "      <th>0</th>\n",
       "      <td>1</td>\n",
       "      <td>0</td>\n",
       "      <td>1</td>\n",
       "      <td>0</td>\n",
       "    </tr>\n",
       "    <tr>\n",
       "      <th>1</th>\n",
       "      <td>1</td>\n",
       "      <td>0</td>\n",
       "      <td>1</td>\n",
       "      <td>0</td>\n",
       "    </tr>\n",
       "    <tr>\n",
       "      <th>2</th>\n",
       "      <td>1</td>\n",
       "      <td>0</td>\n",
       "      <td>1</td>\n",
       "      <td>0</td>\n",
       "    </tr>\n",
       "    <tr>\n",
       "      <th>3</th>\n",
       "      <td>1</td>\n",
       "      <td>0</td>\n",
       "      <td>1</td>\n",
       "      <td>0</td>\n",
       "    </tr>\n",
       "    <tr>\n",
       "      <th>4</th>\n",
       "      <td>1</td>\n",
       "      <td>0</td>\n",
       "      <td>1</td>\n",
       "      <td>0</td>\n",
       "    </tr>\n",
       "  </tbody>\n",
       "</table>\n",
       "</div>"
      ],
      "text/plain": [
       "   train-rmse-mean  train-rmse-std  test-rmse-mean  test-rmse-std\n",
       "0                1               0               1              0\n",
       "1                1               0               1              0\n",
       "2                1               0               1              0\n",
       "3                1               0               1              0\n",
       "4                1               0               1              0"
      ]
     },
     "execution_count": 158,
     "metadata": {},
     "output_type": "execute_result"
    }
   ],
   "source": [
    "cv_results.head()"
   ]
  },
  {
   "cell_type": "code",
   "execution_count": 159,
   "metadata": {},
   "outputs": [
    {
     "name": "stdout",
     "output_type": "stream",
     "text": [
      "49   1\n",
      "Name: test-rmse-mean, dtype: float64\n"
     ]
    }
   ],
   "source": [
    "print((cv_results[\"test-rmse-mean\"]).tail(1))\n",
    "# predictions = [round(value) for value in y_xgb_predictions]\n",
    "# rmse = np.sqrt(mean_squared_error(y_test,y_xgb_predictions))"
   ]
  },
  {
   "cell_type": "code",
   "execution_count": 160,
   "metadata": {},
   "outputs": [],
   "source": [
    "# print(\"RMSE: %f\" % (rmse))"
   ]
  },
  {
   "cell_type": "code",
   "execution_count": 161,
   "metadata": {},
   "outputs": [
    {
     "data": {
      "text/plain": [
       "LinearRegression(copy_X=True, fit_intercept=False, n_jobs=None, normalize=False)"
      ]
     },
     "execution_count": 161,
     "metadata": {},
     "output_type": "execute_result"
    }
   ],
   "source": [
    "from sklearn.linear_model import LinearRegression\n",
    "regressor = LinearRegression(fit_intercept=False)\n",
    "regressor.fit(X_train ,y_train)"
   ]
  },
  {
   "cell_type": "code",
   "execution_count": 162,
   "metadata": {},
   "outputs": [],
   "source": [
    "linear_preds=regressor.predict(X_test)"
   ]
  },
  {
   "cell_type": "code",
   "execution_count": 163,
   "metadata": {},
   "outputs": [
    {
     "data": {
      "text/plain": [
       "0.19247290191781485"
      ]
     },
     "execution_count": 163,
     "metadata": {},
     "output_type": "execute_result"
    }
   ],
   "source": [
    "from sklearn.metrics import r2_score\n",
    "r2_score(y_test,linear_preds)"
   ]
  },
  {
   "cell_type": "code",
   "execution_count": 164,
   "metadata": {},
   "outputs": [
    {
     "data": {
      "text/plain": [
       "0.19247290191781485"
      ]
     },
     "execution_count": 164,
     "metadata": {},
     "output_type": "execute_result"
    }
   ],
   "source": [
    "regressor.score(X_test,y_test)"
   ]
  },
  {
   "cell_type": "code",
   "execution_count": 165,
   "metadata": {},
   "outputs": [
    {
     "name": "stdout",
     "output_type": "stream",
     "text": [
      "[18:36:45] WARNING: C:/Jenkins/workspace/xgboost-win64_release_0.90/src/objective/regression_obj.cu:152: reg:linear is now deprecated in favor of reg:squarederror.\n"
     ]
    },
    {
     "data": {
      "text/plain": [
       "RandomizedSearchCV(cv=9, error_score=nan,\n",
       "                   estimator=Pipeline(memory=None,\n",
       "                                      steps=[('xgbmod',\n",
       "                                              XGBRFRegressor(base_score=0.5,\n",
       "                                                             colsample_bylevel=1,\n",
       "                                                             colsample_bynode=0.8,\n",
       "                                                             colsample_bytree=1,\n",
       "                                                             gamma=0,\n",
       "                                                             learning_rate=1,\n",
       "                                                             max_delta_step=0,\n",
       "                                                             max_depth=3,\n",
       "                                                             min_child_weight=1,\n",
       "                                                             missing=None,\n",
       "                                                             n_estimators=100,\n",
       "                                                             n_jobs=1,\n",
       "                                                             nthread=None,\n",
       "                                                             objective='reg:linear',\n",
       "                                                             random_state=0,\n",
       "                                                             reg_alpha=...\n",
       "                                        'xgbmod__learning_rate': array([0.05, 0.1 , 0.15, 0.2 , 0.25, 0.3 , 0.35, 0.4 , 0.45, 0.5 , 0.55,\n",
       "       0.6 , 0.65, 0.7 , 0.75, 0.8 , 0.85, 0.9 , 0.95]),\n",
       "                                        'xgbmod__max_depth': array([ 3,  4,  5,  6,  7,  8,  9, 10, 11, 12, 13, 14, 15, 16, 17, 18, 19]),\n",
       "                                        'xgbmod__n_estimators': array([ 50, 100, 150]),\n",
       "                                        'xgbmod__objective': ['reg:linear'],\n",
       "                                        'xgbmod__subsample': array([0.05])},\n",
       "                   pre_dispatch='2*n_jobs', random_state=None, refit=True,\n",
       "                   return_train_score=True, scoring='r2', verbose=0)"
      ]
     },
     "execution_count": 165,
     "metadata": {},
     "output_type": "execute_result"
    }
   ],
   "source": [
    "from sklearn.pipeline import Pipeline\n",
    "from sklearn.model_selection import RandomizedSearchCV\n",
    "\n",
    "xgb_pipeline = Pipeline([(\"xgbmod\", xgb.XGBRFRegressor())])\n",
    "xgb_param_grid = {'xgbmod__subsample': np.arange(.05,.1,.05),\n",
    "                  'xgbmod__objective': ['reg:linear'],\n",
    "                  'xgbmod__max_depth': np.arange(3,20,1),\n",
    "                  'xgbmod__colsample_bytree':np.arange(0.1,1.05,0.05),\n",
    "                  'xgbmod__learning_rate':np.arange(0.05 ,1 ,0.05),\n",
    "                  'xgbmod__n_estimators':np.arange(50,200 ,50)}\n",
    "search = RandomizedSearchCV(estimator=xgb_pipeline,\n",
    "                            param_distributions=xgb_param_grid,\n",
    "                            n_iter=10,\n",
    "                            cv=9,\n",
    "#                             verbose=1,\n",
    "                            n_jobs =-1,\n",
    "                            scoring='r2',\n",
    "                            return_train_score=True)\n",
    "search.fit(X_train,y_train)"
   ]
  },
  {
   "cell_type": "code",
   "execution_count": 166,
   "metadata": {},
   "outputs": [
    {
     "data": {
      "text/plain": [
       "0.14199016619419172"
      ]
     },
     "execution_count": 166,
     "metadata": {},
     "output_type": "execute_result"
    }
   ],
   "source": [
    "search.best_score_"
   ]
  },
  {
   "cell_type": "code",
   "execution_count": 167,
   "metadata": {},
   "outputs": [],
   "source": [
    "from sklearn.linear_model import Ridge\n",
    "from sklearn.ensemble import RandomForestRegressor\n",
    "from sklearn.svm import SVR\n"
   ]
  },
  {
   "cell_type": "code",
   "execution_count": 168,
   "metadata": {},
   "outputs": [
    {
     "name": "stdout",
     "output_type": "stream",
     "text": [
      "0.711855182331091\n",
      "0.49326219938836935\n",
      "0.8385952913066078\n",
      "0.1925694567139853\n"
     ]
    }
   ],
   "source": [
    "rr = Ridge(alpha=0.01)\n",
    "rr.fit(X_train, y_train) \n",
    "pred_train_rr= rr.predict(X_train)\n",
    "print(np.sqrt(mean_squared_error(y_train,pred_train_rr)))\n",
    "print(r2_score(y_train, pred_train_rr))\n",
    "\n",
    "pred_test_rr= rr.predict(X_test)\n",
    "print(np.sqrt(mean_squared_error(y_test,pred_test_rr))) \n",
    "print(r2_score(y_test, pred_test_rr))"
   ]
  },
  {
   "cell_type": "code",
   "execution_count": 169,
   "metadata": {},
   "outputs": [
    {
     "name": "stdout",
     "output_type": "stream",
     "text": [
      "0.6771126970087364\n",
      "0.5415183955495552\n",
      "0.7401201989546681\n",
      "0.3710663253737634\n"
     ]
    }
   ],
   "source": [
    "m_svr = SVR()\n",
    "m_svr.fit(X_train, y_train) \n",
    "pred_train_rr= m_svr.predict(X_train)\n",
    "print(np.sqrt(mean_squared_error(y_train,pred_train_rr)))\n",
    "print(r2_score(y_train, pred_train_rr))\n",
    "\n",
    "pred_test_rr= m_svr.predict(X_test)\n",
    "print(np.sqrt(mean_squared_error(y_test,pred_test_rr))) \n",
    "print(r2_score(y_test, pred_test_rr))"
   ]
  },
  {
   "cell_type": "code",
   "execution_count": 170,
   "metadata": {},
   "outputs": [
    {
     "name": "stdout",
     "output_type": "stream",
     "text": [
      "0.3014132283673423\n",
      "0.9091500657651764\n",
      "0.7124435625095427\n",
      "0.4172245237054649\n"
     ]
    }
   ],
   "source": [
    "m_rr = RandomForestRegressor()\n",
    "m_rr.fit(X_train, y_train) \n",
    "pred_train_rr= m_rr.predict(X_train)\n",
    "print(np.sqrt(mean_squared_error(y_train,pred_train_rr)))\n",
    "print(r2_score(y_train, pred_train_rr))\n",
    "\n",
    "pred_test_rr= m_rr.predict(X_test)\n",
    "print(np.sqrt(mean_squared_error(y_test,pred_test_rr))) \n",
    "print(r2_score(y_test, pred_test_rr))"
   ]
  },
  {
   "cell_type": "code",
   "execution_count": 171,
   "metadata": {},
   "outputs": [
    {
     "name": "stdout",
     "output_type": "stream",
     "text": [
      "0.7836525043031992\n",
      "0.2949054037337605\n"
     ]
    }
   ],
   "source": [
    "from sklearn.model_selection import GridSearchCV\n",
    "random_regressor = RandomForestRegressor()\n",
    "parameters = { 'max_features':np.arange(5,10),\n",
    "              'n_estimators':[500],\n",
    "              'min_samples_leaf': [10,50,100,200,500],\n",
    "              'max_depth': [5,10,15]}\n",
    "random_grid = GridSearchCV(random_regressor, parameters, cv = 5)\n",
    "random_grid.fit(X_train, y_train)\n",
    "pred_test_rr= random_grid.predict(X_test)\n",
    "print(np.sqrt(mean_squared_error(y_test,pred_test_rr))) \n",
    "print(r2_score(y_test, pred_test_rr))"
   ]
  },
  {
   "cell_type": "code",
   "execution_count": 172,
   "metadata": {},
   "outputs": [
    {
     "name": "stdout",
     "output_type": "stream",
     "text": [
      "0.8384952004558606\n",
      "0.1927621875530402\n"
     ]
    }
   ],
   "source": [
    "# Hyper parameter Tuning Ridge Regression\n",
    "ridge = Ridge()\n",
    "parameters = {'alpha':[0.01, 0.024, 0.025, 0.026, 0.03]}\n",
    "random_grid = GridSearchCV(ridge, parameters, cv = 9)\n",
    "random_grid.fit(X_train, y_train)\n",
    "pred_test_ridge= random_grid.predict(X_test)\n",
    "print(np.sqrt(mean_squared_error(y_test,pred_test_ridge))) \n",
    "print(r2_score(y_test, pred_test_ridge))"
   ]
  },
  {
   "cell_type": "code",
   "execution_count": null,
   "metadata": {},
   "outputs": [],
   "source": []
  },
  {
   "cell_type": "code",
   "execution_count": null,
   "metadata": {},
   "outputs": [],
   "source": []
  },
  {
   "cell_type": "code",
   "execution_count": null,
   "metadata": {},
   "outputs": [],
   "source": []
  }
 ],
 "metadata": {
  "kernelspec": {
   "display_name": "Python 3",
   "language": "python",
   "name": "python3"
  },
  "language_info": {
   "codemirror_mode": {
    "name": "ipython",
    "version": 3
   },
   "file_extension": ".py",
   "mimetype": "text/x-python",
   "name": "python",
   "nbconvert_exporter": "python",
   "pygments_lexer": "ipython3",
   "version": "3.7.3"
  }
 },
 "nbformat": 4,
 "nbformat_minor": 4
}
