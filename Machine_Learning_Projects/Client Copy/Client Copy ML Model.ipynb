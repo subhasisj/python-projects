{
 "cells": [
  {
   "cell_type": "code",
   "execution_count": 1,
   "metadata": {},
   "outputs": [],
   "source": [
    "import pandas as pd\n",
    "import numpy as np\n",
    "from scipy import stats\n",
    "import matplotlib.pyplot as plt\n",
    "import warnings\n",
    "import os\n",
    "import seaborn as sns\n",
    "warnings.filterwarnings('ignore')\n"
   ]
  },
  {
   "cell_type": "code",
   "execution_count": 2,
   "metadata": {},
   "outputs": [
    {
     "data": {
      "text/html": [
       "<div>\n",
       "<style scoped>\n",
       "    .dataframe tbody tr th:only-of-type {\n",
       "        vertical-align: middle;\n",
       "    }\n",
       "\n",
       "    .dataframe tbody tr th {\n",
       "        vertical-align: top;\n",
       "    }\n",
       "\n",
       "    .dataframe thead th {\n",
       "        text-align: right;\n",
       "    }\n",
       "</style>\n",
       "<table border=\"1\" class=\"dataframe\">\n",
       "  <thead>\n",
       "    <tr style=\"text-align: right;\">\n",
       "      <th></th>\n",
       "      <th>runtime_in_seconds</th>\n",
       "      <th>records_processed</th>\n",
       "      <th>size_in_bytes</th>\n",
       "      <th>parallel_number</th>\n",
       "      <th>copy_mode_CMPLCL</th>\n",
       "      <th>copy_mode_DELETE</th>\n",
       "      <th>copy_mode_EXPORT</th>\n",
       "      <th>copy_mode_IMPORT</th>\n",
       "      <th>copy_mode_LOCAL</th>\n",
       "      <th>copy_mode_REMOTE</th>\n",
       "      <th>...</th>\n",
       "      <th>use_table_segmenter_NOT_SET</th>\n",
       "      <th>use_table_segmenter_SET</th>\n",
       "      <th>records_processed_category_SMALL</th>\n",
       "      <th>records_processed_category_MEDIUM</th>\n",
       "      <th>records_processed_category_LARGE</th>\n",
       "      <th>records_processed_category_XL</th>\n",
       "      <th>size_category_SMALL</th>\n",
       "      <th>size_category_MEDIUM</th>\n",
       "      <th>size_category_LARGE</th>\n",
       "      <th>size_category_XL</th>\n",
       "    </tr>\n",
       "  </thead>\n",
       "  <tbody>\n",
       "    <tr>\n",
       "      <th>0</th>\n",
       "      <td>1290.0</td>\n",
       "      <td>30619937.0</td>\n",
       "      <td>2.721724e+09</td>\n",
       "      <td>6</td>\n",
       "      <td>0</td>\n",
       "      <td>0</td>\n",
       "      <td>0</td>\n",
       "      <td>0</td>\n",
       "      <td>1</td>\n",
       "      <td>0</td>\n",
       "      <td>...</td>\n",
       "      <td>1</td>\n",
       "      <td>0</td>\n",
       "      <td>0</td>\n",
       "      <td>1</td>\n",
       "      <td>0</td>\n",
       "      <td>0</td>\n",
       "      <td>0</td>\n",
       "      <td>1</td>\n",
       "      <td>0</td>\n",
       "      <td>0</td>\n",
       "    </tr>\n",
       "    <tr>\n",
       "      <th>1</th>\n",
       "      <td>1192.0</td>\n",
       "      <td>48666506.0</td>\n",
       "      <td>3.902692e+09</td>\n",
       "      <td>6</td>\n",
       "      <td>0</td>\n",
       "      <td>0</td>\n",
       "      <td>0</td>\n",
       "      <td>0</td>\n",
       "      <td>1</td>\n",
       "      <td>0</td>\n",
       "      <td>...</td>\n",
       "      <td>1</td>\n",
       "      <td>0</td>\n",
       "      <td>0</td>\n",
       "      <td>1</td>\n",
       "      <td>0</td>\n",
       "      <td>0</td>\n",
       "      <td>0</td>\n",
       "      <td>1</td>\n",
       "      <td>0</td>\n",
       "      <td>0</td>\n",
       "    </tr>\n",
       "    <tr>\n",
       "      <th>2</th>\n",
       "      <td>343.0</td>\n",
       "      <td>32653243.0</td>\n",
       "      <td>2.246437e+09</td>\n",
       "      <td>7</td>\n",
       "      <td>0</td>\n",
       "      <td>0</td>\n",
       "      <td>0</td>\n",
       "      <td>0</td>\n",
       "      <td>1</td>\n",
       "      <td>0</td>\n",
       "      <td>...</td>\n",
       "      <td>1</td>\n",
       "      <td>0</td>\n",
       "      <td>0</td>\n",
       "      <td>1</td>\n",
       "      <td>0</td>\n",
       "      <td>0</td>\n",
       "      <td>0</td>\n",
       "      <td>1</td>\n",
       "      <td>0</td>\n",
       "      <td>0</td>\n",
       "    </tr>\n",
       "    <tr>\n",
       "      <th>3</th>\n",
       "      <td>1800.0</td>\n",
       "      <td>60944409.0</td>\n",
       "      <td>5.673935e+09</td>\n",
       "      <td>10</td>\n",
       "      <td>0</td>\n",
       "      <td>0</td>\n",
       "      <td>0</td>\n",
       "      <td>0</td>\n",
       "      <td>0</td>\n",
       "      <td>1</td>\n",
       "      <td>...</td>\n",
       "      <td>1</td>\n",
       "      <td>0</td>\n",
       "      <td>0</td>\n",
       "      <td>1</td>\n",
       "      <td>0</td>\n",
       "      <td>0</td>\n",
       "      <td>0</td>\n",
       "      <td>1</td>\n",
       "      <td>0</td>\n",
       "      <td>0</td>\n",
       "    </tr>\n",
       "    <tr>\n",
       "      <th>4</th>\n",
       "      <td>249.0</td>\n",
       "      <td>118175632.0</td>\n",
       "      <td>8.857600e+09</td>\n",
       "      <td>6</td>\n",
       "      <td>0</td>\n",
       "      <td>0</td>\n",
       "      <td>0</td>\n",
       "      <td>0</td>\n",
       "      <td>1</td>\n",
       "      <td>0</td>\n",
       "      <td>...</td>\n",
       "      <td>1</td>\n",
       "      <td>0</td>\n",
       "      <td>0</td>\n",
       "      <td>0</td>\n",
       "      <td>1</td>\n",
       "      <td>0</td>\n",
       "      <td>0</td>\n",
       "      <td>0</td>\n",
       "      <td>1</td>\n",
       "      <td>0</td>\n",
       "    </tr>\n",
       "  </tbody>\n",
       "</table>\n",
       "<p>5 rows × 42 columns</p>\n",
       "</div>"
      ],
      "text/plain": [
       "   runtime_in_seconds  records_processed  size_in_bytes  parallel_number  \\\n",
       "0              1290.0         30619937.0   2.721724e+09                6   \n",
       "1              1192.0         48666506.0   3.902692e+09                6   \n",
       "2               343.0         32653243.0   2.246437e+09                7   \n",
       "3              1800.0         60944409.0   5.673935e+09               10   \n",
       "4               249.0        118175632.0   8.857600e+09                6   \n",
       "\n",
       "   copy_mode_CMPLCL  copy_mode_DELETE  copy_mode_EXPORT  copy_mode_IMPORT  \\\n",
       "0                 0                 0                 0                 0   \n",
       "1                 0                 0                 0                 0   \n",
       "2                 0                 0                 0                 0   \n",
       "3                 0                 0                 0                 0   \n",
       "4                 0                 0                 0                 0   \n",
       "\n",
       "   copy_mode_LOCAL   copy_mode_REMOTE  ...  use_table_segmenter_NOT_SET  \\\n",
       "0                 1                 0  ...                            1   \n",
       "1                 1                 0  ...                            1   \n",
       "2                 1                 0  ...                            1   \n",
       "3                 0                 1  ...                            1   \n",
       "4                 1                 0  ...                            1   \n",
       "\n",
       "   use_table_segmenter_SET  records_processed_category_SMALL  \\\n",
       "0                        0                                 0   \n",
       "1                        0                                 0   \n",
       "2                        0                                 0   \n",
       "3                        0                                 0   \n",
       "4                        0                                 0   \n",
       "\n",
       "   records_processed_category_MEDIUM  records_processed_category_LARGE  \\\n",
       "0                                  1                                 0   \n",
       "1                                  1                                 0   \n",
       "2                                  1                                 0   \n",
       "3                                  1                                 0   \n",
       "4                                  0                                 1   \n",
       "\n",
       "   records_processed_category_XL  size_category_SMALL  size_category_MEDIUM  \\\n",
       "0                              0                    0                     1   \n",
       "1                              0                    0                     1   \n",
       "2                              0                    0                     1   \n",
       "3                              0                    0                     1   \n",
       "4                              0                    0                     0   \n",
       "\n",
       "   size_category_LARGE  size_category_XL  \n",
       "0                    0                 0  \n",
       "1                    0                 0  \n",
       "2                    0                 0  \n",
       "3                    0                 0  \n",
       "4                    1                 0  \n",
       "\n",
       "[5 rows x 42 columns]"
      ]
     },
     "execution_count": 2,
     "metadata": {},
     "output_type": "execute_result"
    }
   ],
   "source": [
    "cleaned_data = pd.read_csv('./dataset/cc_cleaned_data_with_dummies.csv',index_col=[0])\n",
    "cleaned_data_original = cleaned_data.copy()\n",
    "cleaned_data.head()"
   ]
  },
  {
   "cell_type": "markdown",
   "metadata": {},
   "source": [
    "### lets check the distribution of various numeric features"
   ]
  },
  {
   "cell_type": "code",
   "execution_count": 3,
   "metadata": {},
   "outputs": [
    {
     "data": {
      "image/png": "[encoded data removed]",
      "text/plain": [
       "<Figure size 864x504 with 1 Axes>"
      ]
     },
     "metadata": {
      "needs_background": "light"
     },
     "output_type": "display_data"
    }
   ],
   "source": [
    "\n",
    "plt.figure(figsize=(12,7))\n",
    "sns.distplot(cleaned_data['records_processed'],\n",
    "             label = '1',\n",
    "             color = 'red',\n",
    "             bins=50\n",
    "            )\n",
    "plt.show()"
   ]
  },
  {
   "cell_type": "markdown",
   "metadata": {},
   "source": [
    "#### Box-Cox Transformation for Converting into Normal-Like Distribution"
   ]
  },
  {
   "cell_type": "code",
   "execution_count": 4,
   "metadata": {},
   "outputs": [],
   "source": [
    "cleaned_data = cleaned_data[cleaned_data.records_processed > 0]"
   ]
  },
  {
   "cell_type": "code",
   "execution_count": 5,
   "metadata": {},
   "outputs": [
    {
     "data": {
      "text/plain": [
       "(334, 42)"
      ]
     },
     "execution_count": 5,
     "metadata": {},
     "output_type": "execute_result"
    }
   ],
   "source": [
    "cleaned_data.shape"
   ]
  },
  {
   "cell_type": "code",
   "execution_count": 6,
   "metadata": {},
   "outputs": [
    {
     "data": {
      "text/plain": [
       "<matplotlib.axes._subplots.AxesSubplot at 0x24ee50f4828>"
      ]
     },
     "execution_count": 6,
     "metadata": {},
     "output_type": "execute_result"
    },
    {
     "data": {
      "image/png": "[encoded data removed]",
      "text/plain": [
       "<Figure size 432x288 with 1 Axes>"
      ]
     },
     "metadata": {
      "needs_background": "light"
     },
     "output_type": "display_data"
    }
   ],
   "source": [
    "normalized_data,fitted = stats.boxcox(cleaned_data['records_processed'])\n",
    "sns.distplot(normalized_data)"
   ]
  },
  {
   "cell_type": "code",
   "execution_count": 7,
   "metadata": {},
   "outputs": [],
   "source": [
    "cleaned_data['records_processed'] = normalized_data"
   ]
  },
  {
   "cell_type": "code",
   "execution_count": 8,
   "metadata": {},
   "outputs": [
    {
     "data": {
      "text/html": [
       "<div>\n",
       "<style scoped>\n",
       "    .dataframe tbody tr th:only-of-type {\n",
       "        vertical-align: middle;\n",
       "    }\n",
       "\n",
       "    .dataframe tbody tr th {\n",
       "        vertical-align: top;\n",
       "    }\n",
       "\n",
       "    .dataframe thead th {\n",
       "        text-align: right;\n",
       "    }\n",
       "</style>\n",
       "<table border=\"1\" class=\"dataframe\">\n",
       "  <thead>\n",
       "    <tr style=\"text-align: right;\">\n",
       "      <th></th>\n",
       "      <th>runtime_in_seconds</th>\n",
       "      <th>records_processed</th>\n",
       "      <th>size_in_bytes</th>\n",
       "      <th>parallel_number</th>\n",
       "      <th>copy_mode_CMPLCL</th>\n",
       "      <th>copy_mode_DELETE</th>\n",
       "      <th>copy_mode_EXPORT</th>\n",
       "      <th>copy_mode_IMPORT</th>\n",
       "      <th>copy_mode_LOCAL</th>\n",
       "      <th>copy_mode_REMOTE</th>\n",
       "      <th>...</th>\n",
       "      <th>use_table_segmenter_NOT_SET</th>\n",
       "      <th>use_table_segmenter_SET</th>\n",
       "      <th>records_processed_category_SMALL</th>\n",
       "      <th>records_processed_category_MEDIUM</th>\n",
       "      <th>records_processed_category_LARGE</th>\n",
       "      <th>records_processed_category_XL</th>\n",
       "      <th>size_category_SMALL</th>\n",
       "      <th>size_category_MEDIUM</th>\n",
       "      <th>size_category_LARGE</th>\n",
       "      <th>size_category_XL</th>\n",
       "    </tr>\n",
       "  </thead>\n",
       "  <tbody>\n",
       "    <tr>\n",
       "      <th>0</th>\n",
       "      <td>1290.0</td>\n",
       "      <td>236.875531</td>\n",
       "      <td>2.721724e+09</td>\n",
       "      <td>6</td>\n",
       "      <td>0</td>\n",
       "      <td>0</td>\n",
       "      <td>0</td>\n",
       "      <td>0</td>\n",
       "      <td>1</td>\n",
       "      <td>0</td>\n",
       "      <td>...</td>\n",
       "      <td>1</td>\n",
       "      <td>0</td>\n",
       "      <td>0</td>\n",
       "      <td>1</td>\n",
       "      <td>0</td>\n",
       "      <td>0</td>\n",
       "      <td>0</td>\n",
       "      <td>1</td>\n",
       "      <td>0</td>\n",
       "      <td>0</td>\n",
       "    </tr>\n",
       "    <tr>\n",
       "      <th>1</th>\n",
       "      <td>1192.0</td>\n",
       "      <td>264.486458</td>\n",
       "      <td>3.902692e+09</td>\n",
       "      <td>6</td>\n",
       "      <td>0</td>\n",
       "      <td>0</td>\n",
       "      <td>0</td>\n",
       "      <td>0</td>\n",
       "      <td>1</td>\n",
       "      <td>0</td>\n",
       "      <td>...</td>\n",
       "      <td>1</td>\n",
       "      <td>0</td>\n",
       "      <td>0</td>\n",
       "      <td>1</td>\n",
       "      <td>0</td>\n",
       "      <td>0</td>\n",
       "      <td>0</td>\n",
       "      <td>1</td>\n",
       "      <td>0</td>\n",
       "      <td>0</td>\n",
       "    </tr>\n",
       "    <tr>\n",
       "      <th>2</th>\n",
       "      <td>343.0</td>\n",
       "      <td>240.530321</td>\n",
       "      <td>2.246437e+09</td>\n",
       "      <td>7</td>\n",
       "      <td>0</td>\n",
       "      <td>0</td>\n",
       "      <td>0</td>\n",
       "      <td>0</td>\n",
       "      <td>1</td>\n",
       "      <td>0</td>\n",
       "      <td>...</td>\n",
       "      <td>1</td>\n",
       "      <td>0</td>\n",
       "      <td>0</td>\n",
       "      <td>1</td>\n",
       "      <td>0</td>\n",
       "      <td>0</td>\n",
       "      <td>0</td>\n",
       "      <td>1</td>\n",
       "      <td>0</td>\n",
       "      <td>0</td>\n",
       "    </tr>\n",
       "    <tr>\n",
       "      <th>3</th>\n",
       "      <td>1800.0</td>\n",
       "      <td>279.011404</td>\n",
       "      <td>5.673935e+09</td>\n",
       "      <td>10</td>\n",
       "      <td>0</td>\n",
       "      <td>0</td>\n",
       "      <td>0</td>\n",
       "      <td>0</td>\n",
       "      <td>0</td>\n",
       "      <td>1</td>\n",
       "      <td>...</td>\n",
       "      <td>1</td>\n",
       "      <td>0</td>\n",
       "      <td>0</td>\n",
       "      <td>1</td>\n",
       "      <td>0</td>\n",
       "      <td>0</td>\n",
       "      <td>0</td>\n",
       "      <td>1</td>\n",
       "      <td>0</td>\n",
       "      <td>0</td>\n",
       "    </tr>\n",
       "    <tr>\n",
       "      <th>4</th>\n",
       "      <td>249.0</td>\n",
       "      <td>326.483654</td>\n",
       "      <td>8.857600e+09</td>\n",
       "      <td>6</td>\n",
       "      <td>0</td>\n",
       "      <td>0</td>\n",
       "      <td>0</td>\n",
       "      <td>0</td>\n",
       "      <td>1</td>\n",
       "      <td>0</td>\n",
       "      <td>...</td>\n",
       "      <td>1</td>\n",
       "      <td>0</td>\n",
       "      <td>0</td>\n",
       "      <td>0</td>\n",
       "      <td>1</td>\n",
       "      <td>0</td>\n",
       "      <td>0</td>\n",
       "      <td>0</td>\n",
       "      <td>1</td>\n",
       "      <td>0</td>\n",
       "    </tr>\n",
       "  </tbody>\n",
       "</table>\n",
       "<p>5 rows × 42 columns</p>\n",
       "</div>"
      ],
      "text/plain": [
       "   runtime_in_seconds  records_processed  size_in_bytes  parallel_number  \\\n",
       "0              1290.0         236.875531   2.721724e+09                6   \n",
       "1              1192.0         264.486458   3.902692e+09                6   \n",
       "2               343.0         240.530321   2.246437e+09                7   \n",
       "3              1800.0         279.011404   5.673935e+09               10   \n",
       "4               249.0         326.483654   8.857600e+09                6   \n",
       "\n",
       "   copy_mode_CMPLCL  copy_mode_DELETE  copy_mode_EXPORT  copy_mode_IMPORT  \\\n",
       "0                 0                 0                 0                 0   \n",
       "1                 0                 0                 0                 0   \n",
       "2                 0                 0                 0                 0   \n",
       "3                 0                 0                 0                 0   \n",
       "4                 0                 0                 0                 0   \n",
       "\n",
       "   copy_mode_LOCAL   copy_mode_REMOTE  ...  use_table_segmenter_NOT_SET  \\\n",
       "0                 1                 0  ...                            1   \n",
       "1                 1                 0  ...                            1   \n",
       "2                 1                 0  ...                            1   \n",
       "3                 0                 1  ...                            1   \n",
       "4                 1                 0  ...                            1   \n",
       "\n",
       "   use_table_segmenter_SET  records_processed_category_SMALL  \\\n",
       "0                        0                                 0   \n",
       "1                        0                                 0   \n",
       "2                        0                                 0   \n",
       "3                        0                                 0   \n",
       "4                        0                                 0   \n",
       "\n",
       "   records_processed_category_MEDIUM  records_processed_category_LARGE  \\\n",
       "0                                  1                                 0   \n",
       "1                                  1                                 0   \n",
       "2                                  1                                 0   \n",
       "3                                  1                                 0   \n",
       "4                                  0                                 1   \n",
       "\n",
       "   records_processed_category_XL  size_category_SMALL  size_category_MEDIUM  \\\n",
       "0                              0                    0                     1   \n",
       "1                              0                    0                     1   \n",
       "2                              0                    0                     1   \n",
       "3                              0                    0                     1   \n",
       "4                              0                    0                     0   \n",
       "\n",
       "   size_category_LARGE  size_category_XL  \n",
       "0                    0                 0  \n",
       "1                    0                 0  \n",
       "2                    0                 0  \n",
       "3                    0                 0  \n",
       "4                    1                 0  \n",
       "\n",
       "[5 rows x 42 columns]"
      ]
     },
     "execution_count": 8,
     "metadata": {},
     "output_type": "execute_result"
    }
   ],
   "source": [
    "cleaned_data.head()"
   ]
  },
  {
   "cell_type": "markdown",
   "metadata": {},
   "source": [
    "Doing the same for size_in_bytes"
   ]
  },
  {
   "cell_type": "code",
   "execution_count": 9,
   "metadata": {},
   "outputs": [
    {
     "data": {
      "image/png": "[encoded data removed]",
      "text/plain": [
       "<Figure size 864x504 with 1 Axes>"
      ]
     },
     "metadata": {
      "needs_background": "light"
     },
     "output_type": "display_data"
    }
   ],
   "source": [
    "plt.figure(figsize=(12,7))\n",
    "sns.distplot(cleaned_data['size_in_bytes'],\n",
    "             label = '1',\n",
    "             color = 'red',\n",
    "             bins=50\n",
    "            )\n",
    "plt.show()"
   ]
  },
  {
   "cell_type": "code",
   "execution_count": 10,
   "metadata": {},
   "outputs": [
    {
     "data": {
      "text/plain": [
       "<matplotlib.axes._subplots.AxesSubplot at 0x24ee4c424e0>"
      ]
     },
     "execution_count": 10,
     "metadata": {},
     "output_type": "execute_result"
    },
    {
     "data": {
      "image/png": "[encoded data removed]",
      "text/plain": [
       "<Figure size 432x288 with 1 Axes>"
      ]
     },
     "metadata": {
      "needs_background": "light"
     },
     "output_type": "display_data"
    }
   ],
   "source": [
    "normalized_data,fitted = stats.boxcox(cleaned_data['size_in_bytes'])\n",
    "sns.distplot(normalized_data)"
   ]
  },
  {
   "cell_type": "code",
   "execution_count": 11,
   "metadata": {},
   "outputs": [],
   "source": [
    "cleaned_data['size_in_bytes'] = normalized_data"
   ]
  },
  {
   "cell_type": "code",
   "execution_count": 12,
   "metadata": {},
   "outputs": [
    {
     "data": {
      "text/plain": [
       "<matplotlib.axes._subplots.AxesSubplot at 0x24ee4f0f5f8>"
      ]
     },
     "execution_count": 12,
     "metadata": {},
     "output_type": "execute_result"
    },
    {
     "data": {
      "image/png": "[encoded data removed]",
      "text/plain": [
       "<Figure size 432x288 with 1 Axes>"
      ]
     },
     "metadata": {
      "needs_background": "light"
     },
     "output_type": "display_data"
    }
   ],
   "source": [
    "normalized_data,fitted = stats.boxcox(cleaned_data['runtime_in_seconds'])\n",
    "sns.distplot(normalized_data)"
   ]
  },
  {
   "cell_type": "code",
   "execution_count": 13,
   "metadata": {},
   "outputs": [],
   "source": [
    "cleaned_data['runtime_in_ms'] = normalized_data"
   ]
  },
  {
   "cell_type": "code",
   "execution_count": 14,
   "metadata": {},
   "outputs": [],
   "source": [
    "y = cleaned_data.runtime_in_seconds\n",
    "X = cleaned_data.drop(columns = ['runtime_in_seconds'])"
   ]
  },
  {
   "cell_type": "code",
   "execution_count": 15,
   "metadata": {},
   "outputs": [],
   "source": [
    "from sklearn.model_selection import train_test_split\n",
    "\n",
    "X_train,X_test,y_train,y_test = train_test_split(X,y,test_size=0.2,random_state = 4)"
   ]
  },
  {
   "cell_type": "code",
   "execution_count": 18,
   "metadata": {},
   "outputs": [],
   "source": [
    "from sklearn.preprocessing import PolynomialFeatures\n",
    "\n",
    "poly_reg = PolynomialFeatures(degree=1)\n",
    "X_train_poly = poly_reg.fit_transform(X_train)\n"
   ]
  },
  {
   "cell_type": "code",
   "execution_count": 19,
   "metadata": {},
   "outputs": [
    {
     "name": "stdout",
     "output_type": "stream",
     "text": [
      "0.8407386356123472\n"
     ]
    }
   ],
   "source": [
    "from sklearn.linear_model import LinearRegression\n",
    "from sklearn.metrics import r2_score\n",
    "linear = LinearRegression()\n",
    "# linear.fit(X_train,y_train)\n",
    "linear.fit(X_train_poly,y_train)\n",
    "\n",
    "y_pred=linear.predict(poly_reg.fit_transform(X_test))\n",
    "# y_pred=linear.predict(X_test)\n",
    "\n",
    "print(r2_score(y_test,y_pred))"
   ]
  },
  {
   "cell_type": "code",
   "execution_count": 20,
   "metadata": {},
   "outputs": [
    {
     "data": {
      "text/plain": [
       "0.8407386356123472"
      ]
     },
     "execution_count": 20,
     "metadata": {},
     "output_type": "execute_result"
    }
   ],
   "source": [
    "linear.score(poly_reg.fit_transform(X_test),y_test)\n",
    "# linear.score(X_test,y_test)"
   ]
  },
  {
   "cell_type": "markdown",
   "metadata": {},
   "source": [
    "### R2 Score = 0.695294231970498\n",
    "### That is it correctly predicts the right runtime __69.5 %__ of the times"
   ]
  },
  {
   "cell_type": "code",
   "execution_count": 21,
   "metadata": {},
   "outputs": [
    {
     "data": {
      "image/png": "[encoded data removed]",
      "text/plain": [
       "<Figure size 432x288 with 1 Axes>"
      ]
     },
     "metadata": {
      "needs_background": "light"
     },
     "output_type": "display_data"
    }
   ],
   "source": [
    "plt.scatter(X.size_in_bytes ,y,s=10)\n",
    "plt.plot(poly_reg.fit_transform(X_test),y_pred,color= 'm')\n",
    "plt.show()"
   ]
  },
  {
   "cell_type": "markdown",
   "metadata": {},
   "source": [
    "https://towardsdatascience.com/polynomial-regression-bbe8b9d97491"
   ]
  },
  {
   "cell_type": "code",
   "execution_count": 22,
   "metadata": {},
   "outputs": [],
   "source": [
    "import xgboost as xgb\n",
    "from sklearn.metrics import mean_squared_error\n",
    "xgbModel = xgb.XGBRegressor()"
   ]
  },
  {
   "cell_type": "code",
   "execution_count": 23,
   "metadata": {},
   "outputs": [
    {
     "name": "stdout",
     "output_type": "stream",
     "text": [
      "[01:50:07] WARNING: C:/Jenkins/workspace/xgboost-win64_release_0.90/src/objective/regression_obj.cu:152: reg:linear is now deprecated in favor of reg:squarederror.\n"
     ]
    },
    {
     "data": {
      "text/plain": [
       "XGBRegressor(base_score=0.5, booster='gbtree', colsample_bylevel=1,\n",
       "             colsample_bynode=1, colsample_bytree=1, gamma=0,\n",
       "             importance_type='gain', learning_rate=0.1, max_delta_step=0,\n",
       "             max_depth=3, min_child_weight=1, missing=None, n_estimators=100,\n",
       "             n_jobs=1, nthread=None, objective='reg:linear', random_state=0,\n",
       "             reg_alpha=0, reg_lambda=1, scale_pos_weight=1, seed=None,\n",
       "             silent=None, subsample=1, verbosity=1)"
      ]
     },
     "execution_count": 23,
     "metadata": {},
     "output_type": "execute_result"
    }
   ],
   "source": [
    "xgbModel.fit(X_train,y_train)"
   ]
  },
  {
   "cell_type": "code",
   "execution_count": 24,
   "metadata": {},
   "outputs": [],
   "source": [
    "# y_xgb_pred=xgbModel.predict(poly_reg.fit_transform(X_test))\n",
    "y_xgb_pred=xgbModel.predict(X_test)"
   ]
  },
  {
   "cell_type": "code",
   "execution_count": 25,
   "metadata": {},
   "outputs": [
    {
     "data": {
      "text/plain": [
       "0.9969632680293711"
      ]
     },
     "execution_count": 25,
     "metadata": {},
     "output_type": "execute_result"
    }
   ],
   "source": [
    "r2_score(y_test,y_xgb_pred)"
   ]
  },
  {
   "cell_type": "code",
   "execution_count": 26,
   "metadata": {},
   "outputs": [
    {
     "data": {
      "text/plain": [
       "65     1560.0\n",
       "94     1607.0\n",
       "296     333.0\n",
       "132    1891.0\n",
       "14     3312.0\n",
       "Name: runtime_in_seconds, dtype: float64"
      ]
     },
     "execution_count": 26,
     "metadata": {},
     "output_type": "execute_result"
    }
   ],
   "source": [
    "y_test.head()"
   ]
  },
  {
   "cell_type": "code",
   "execution_count": 27,
   "metadata": {},
   "outputs": [
    {
     "data": {
      "text/plain": [
       "array([ 1564.384  ,  1599.8912 ,   325.71765,  1932.8584 ,  3254.1921 ,\n",
       "         490.81897,  1821.0192 ,  2097.3396 ,  2368.4114 ,  9954.367  ,\n",
       "        1237.9604 ,    31.20235,  4147.242  ,  3950.8809 ,  1499.1481 ,\n",
       "        8559.18   ,  1024.369  ,  1319.7853 ,   749.22736,  2039.1112 ,\n",
       "        1237.6985 ,  1933.9185 ,  3705.2825 ,  3582.634  ,  1025.6748 ,\n",
       "          71.3716 ,  1665.0948 ,  1375.4175 ,  1165.7401 ,   908.54376,\n",
       "         746.73975,  1522.7719 ,  3452.8496 ,  2216.7517 ,  2293.7048 ,\n",
       "        2519.8914 ,   516.5958 , 11307.616  ,   461.34396,  3111.8752 ,\n",
       "        1237.9604 ,   420.2928 ,  2291.5247 ,    31.20235,   515.83496,\n",
       "         561.89923,  3724.9038 ,  3969.0725 ,  1168.7217 ,  2587.0015 ,\n",
       "         747.8992 ,  1455.9846 ,   478.80933,   213.78165,  2100.456  ,\n",
       "        3701.3699 ,   479.18375,  2102.3335 ,  3222.897  ,   927.16547,\n",
       "         616.93616,   926.3487 ,  2368.6606 ,  3113.868  ,   419.45526,\n",
       "         462.8927 ,  3703.7292 ], dtype=float32)"
      ]
     },
     "execution_count": 27,
     "metadata": {},
     "output_type": "execute_result"
    }
   ],
   "source": [
    "y_xgb_pred"
   ]
  },
  {
   "cell_type": "markdown",
   "metadata": {},
   "source": [
    "### Lets try to reduce the dimensionality of the data and test the performance"
   ]
  },
  {
   "cell_type": "code",
   "execution_count": 28,
   "metadata": {},
   "outputs": [],
   "source": [
    "y = cleaned_data['runtime_in_seconds']\n",
    "X = cleaned_data.loc[:, cleaned_data.columns != 'runtime_in_seconds']"
   ]
  },
  {
   "cell_type": "code",
   "execution_count": 29,
   "metadata": {},
   "outputs": [
    {
     "name": "stdout",
     "output_type": "stream",
     "text": [
      "New shape : (334, 2)\n"
     ]
    }
   ],
   "source": [
    "from sklearn.decomposition import PCA\n",
    "pca = PCA(n_components=2)\n",
    "x_pca_data = pca.fit_transform(X)\n",
    "print('New shape :',x_pca_data.shape)"
   ]
  },
  {
   "cell_type": "code",
   "execution_count": 30,
   "metadata": {},
   "outputs": [
    {
     "name": "stdout",
     "output_type": "stream",
     "text": [
      "pca (334, 3)\n",
      "pca_df (334, 3)\n"
     ]
    }
   ],
   "source": [
    "# Attach the label\n",
    "pca_data = np.vstack((x_pca_data.T,y)).T\n",
    "print('pca',pca_data.shape)\n",
    "pca_df = pd.DataFrame(pca_data)\n",
    "print('pca_df',pca_df.shape)  "
   ]
  },
  {
   "cell_type": "code",
   "execution_count": 31,
   "metadata": {},
   "outputs": [
    {
     "data": {
      "text/html": [
       "<div>\n",
       "<style scoped>\n",
       "    .dataframe tbody tr th:only-of-type {\n",
       "        vertical-align: middle;\n",
       "    }\n",
       "\n",
       "    .dataframe tbody tr th {\n",
       "        vertical-align: top;\n",
       "    }\n",
       "\n",
       "    .dataframe thead th {\n",
       "        text-align: right;\n",
       "    }\n",
       "</style>\n",
       "<table border=\"1\" class=\"dataframe\">\n",
       "  <thead>\n",
       "    <tr style=\"text-align: right;\">\n",
       "      <th></th>\n",
       "      <th>pc_1</th>\n",
       "      <th>pc_2</th>\n",
       "      <th>runtime_in_ms</th>\n",
       "    </tr>\n",
       "  </thead>\n",
       "  <tbody>\n",
       "    <tr>\n",
       "      <th>0</th>\n",
       "      <td>-156.481295</td>\n",
       "      <td>18.795135</td>\n",
       "      <td>1290.0</td>\n",
       "    </tr>\n",
       "    <tr>\n",
       "      <th>1</th>\n",
       "      <td>-97.928267</td>\n",
       "      <td>14.325325</td>\n",
       "      <td>1192.0</td>\n",
       "    </tr>\n",
       "    <tr>\n",
       "      <th>2</th>\n",
       "      <td>-178.775670</td>\n",
       "      <td>5.024702</td>\n",
       "      <td>343.0</td>\n",
       "    </tr>\n",
       "    <tr>\n",
       "      <th>3</th>\n",
       "      <td>-38.518191</td>\n",
       "      <td>24.488986</td>\n",
       "      <td>1800.0</td>\n",
       "    </tr>\n",
       "    <tr>\n",
       "      <th>4</th>\n",
       "      <td>50.487810</td>\n",
       "      <td>11.735791</td>\n",
       "      <td>249.0</td>\n",
       "    </tr>\n",
       "  </tbody>\n",
       "</table>\n",
       "</div>"
      ],
      "text/plain": [
       "         pc_1       pc_2  runtime_in_ms\n",
       "0 -156.481295  18.795135         1290.0\n",
       "1  -97.928267  14.325325         1192.0\n",
       "2 -178.775670   5.024702          343.0\n",
       "3  -38.518191  24.488986         1800.0\n",
       "4   50.487810  11.735791          249.0"
      ]
     },
     "execution_count": 31,
     "metadata": {},
     "output_type": "execute_result"
    }
   ],
   "source": [
    "pca_df.columns = ['pc_1','pc_2','runtime_in_ms']\n",
    "pca_df.head()"
   ]
  },
  {
   "cell_type": "code",
   "execution_count": 32,
   "metadata": {},
   "outputs": [
    {
     "data": {
      "image/png": "[encoded data removed]",
      "text/plain": [
       "<Figure size 432x432 with 1 Axes>"
      ]
     },
     "metadata": {
      "needs_background": "light"
     },
     "output_type": "display_data"
    }
   ],
   "source": [
    "sns.FacetGrid(pca_df,hue='runtime_in_ms',size = 6).map(plt.scatter,'pc_1','pc_2')\n",
    "plt.show()"
   ]
  },
  {
   "cell_type": "code",
   "execution_count": 33,
   "metadata": {},
   "outputs": [],
   "source": [
    "X_train, X_test ,y_train ,y_test = train_test_split(x_pca_data,\n",
    "                                                    y,\n",
    "                                                    test_size=0.3)"
   ]
  },
  {
   "cell_type": "code",
   "execution_count": 34,
   "metadata": {},
   "outputs": [],
   "source": [
    "from sklearn.linear_model import Ridge\n",
    "\n",
    "ridge_model = Ridge()\n",
    "ridge_model.fit(X_train,y_train)\n",
    "y_ridge_pred = ridge_model.predict(X_test)"
   ]
  },
  {
   "cell_type": "code",
   "execution_count": 35,
   "metadata": {},
   "outputs": [
    {
     "data": {
      "text/plain": [
       "0.26961574953349243"
      ]
     },
     "execution_count": 35,
     "metadata": {},
     "output_type": "execute_result"
    }
   ],
   "source": [
    "r2_score(y_test,y_ridge_pred)"
   ]
  },
  {
   "cell_type": "markdown",
   "metadata": {},
   "source": [
    "### Feature Elimination"
   ]
  },
  {
   "cell_type": "code",
   "execution_count": 36,
   "metadata": {},
   "outputs": [
    {
     "data": {
      "image/png": "[encoded data removed]",
      "text/plain": [
       "<Figure size 432x288 with 1 Axes>"
      ]
     },
     "metadata": {
      "needs_background": "light"
     },
     "output_type": "display_data"
    }
   ],
   "source": [
    "X_train, X_test ,y_train ,y_test = train_test_split(X,\n",
    "                                                    y,\n",
    "                                                    test_size=0.3,\n",
    "                                                    random_state = 4,\n",
    "                                                   )\n",
    "\n",
    "\n",
    "from sklearn.feature_selection import RFECV\n",
    "\n",
    "rid = Ridge()\n",
    "rfecv = RFECV(estimator=rid,step =1,cv=10,scoring='r2')\n",
    "rfecv.fit(X_train,y_train)\n",
    "\n",
    "plt.figure()\n",
    "plt.title('Logistic Regression CV score vs No of Features')\n",
    "plt.xlabel(\"Number of features selected\")\n",
    "plt.ylabel(\"Cross validation score (nb of correct classifications)\")\n",
    "plt.plot(range(1, len(rfecv.grid_scores_) + 1), rfecv.grid_scores_)\n",
    "plt.show()"
   ]
  },
  {
   "cell_type": "markdown",
   "metadata": {},
   "source": [
    "### AutoML"
   ]
  },
  {
   "cell_type": "markdown",
   "metadata": {},
   "source": [
    "#### H2o"
   ]
  },
  {
   "cell_type": "code",
   "execution_count": 37,
   "metadata": {},
   "outputs": [
    {
     "name": "stdout",
     "output_type": "stream",
     "text": [
      "Checking whether there is an H2O instance running at http://localhost:54321. connected.\n",
      "Warning: Your H2O cluster version is too old (1 year, 2 months and 18 days)! Please download and install the latest version from http://h2o.ai/download/\n"
     ]
    },
    {
     "data": {
      "text/html": [
       "<div style=\"overflow:auto\"><table style=\"width:50%\"><tr><td>H2O cluster uptime:</td>\n",
       "<td>19 mins 54 secs</td></tr>\n",
       "<tr><td>H2O cluster timezone:</td>\n",
       "<td>Asia/Kolkata</td></tr>\n",
       "<tr><td>H2O data parsing timezone:</td>\n",
       "<td>UTC</td></tr>\n",
       "<tr><td>H2O cluster version:</td>\n",
       "<td>3.22.0.1</td></tr>\n",
       "<tr><td>H2O cluster version age:</td>\n",
       "<td>1 year, 2 months and 18 days !!!</td></tr>\n",
       "<tr><td>H2O cluster name:</td>\n",
       "<td>H2O_from_python_I323570_unql19</td></tr>\n",
       "<tr><td>H2O cluster total nodes:</td>\n",
       "<td>1</td></tr>\n",
       "<tr><td>H2O cluster free memory:</td>\n",
       "<td>3.339 Gb</td></tr>\n",
       "<tr><td>H2O cluster total cores:</td>\n",
       "<td>8</td></tr>\n",
       "<tr><td>H2O cluster allowed cores:</td>\n",
       "<td>8</td></tr>\n",
       "<tr><td>H2O cluster status:</td>\n",
       "<td>locked, healthy</td></tr>\n",
       "<tr><td>H2O connection url:</td>\n",
       "<td>http://localhost:54321</td></tr>\n",
       "<tr><td>H2O connection proxy:</td>\n",
       "<td>None</td></tr>\n",
       "<tr><td>H2O internal security:</td>\n",
       "<td>False</td></tr>\n",
       "<tr><td>H2O API Extensions:</td>\n",
       "<td>Algos, AutoML, Core V3, Core V4</td></tr>\n",
       "<tr><td>Python version:</td>\n",
       "<td>3.7.3 final</td></tr></table></div>"
      ],
      "text/plain": [
       "--------------------------  --------------------------------\n",
       "H2O cluster uptime:         19 mins 54 secs\n",
       "H2O cluster timezone:       Asia/Kolkata\n",
       "H2O data parsing timezone:  UTC\n",
       "H2O cluster version:        3.22.0.1\n",
       "H2O cluster version age:    1 year, 2 months and 18 days !!!\n",
       "H2O cluster name:           H2O_from_python_I323570_unql19\n",
       "H2O cluster total nodes:    1\n",
       "H2O cluster free memory:    3.339 Gb\n",
       "H2O cluster total cores:    8\n",
       "H2O cluster allowed cores:  8\n",
       "H2O cluster status:         locked, healthy\n",
       "H2O connection url:         http://localhost:54321\n",
       "H2O connection proxy:\n",
       "H2O internal security:      False\n",
       "H2O API Extensions:         Algos, AutoML, Core V3, Core V4\n",
       "Python version:             3.7.3 final\n",
       "--------------------------  --------------------------------"
      ]
     },
     "metadata": {},
     "output_type": "display_data"
    }
   ],
   "source": [
    "import h2o\n",
    "from h2o.automl import H2OAutoML\n",
    "\n",
    "h2o.init()"
   ]
  },
  {
   "cell_type": "markdown",
   "metadata": {},
   "source": [
    "#### Read the original Local Copy data and load to H2o"
   ]
  },
  {
   "cell_type": "code",
   "execution_count": 38,
   "metadata": {},
   "outputs": [
    {
     "name": "stdout",
     "output_type": "stream",
     "text": [
      "Shape of training data : (288, 14)\n",
      "Shape of testing data : (73, 14)\n"
     ]
    }
   ],
   "source": [
    "copies_data = pd.read_csv('./dataset/cc_new_features_outliers_removed.csv')\n",
    "copies_data.head()\n",
    "train = copies_data.iloc[:int(len(copies_data)*0.80)]\n",
    "test = copies_data.iloc[int(len(copies_data)*0.80):]\n",
    "\n",
    "print('Shape of training data : {}'.format(train.shape))\n",
    "print('Shape of testing data : {}'.format(test.shape))"
   ]
  },
  {
   "cell_type": "code",
   "execution_count": 39,
   "metadata": {},
   "outputs": [
    {
     "name": "stdout",
     "output_type": "stream",
     "text": [
      "Parse progress: |█████████████████████████████████████████████████████████| 100%\n",
      "Rows:361\n",
      "Cols:14\n",
      "\n",
      "\n"
     ]
    },
    {
     "data": {
      "text/html": [
       "<table>\n",
       "<thead>\n",
       "<tr><th>       </th><th>copy_mode  </th><th>profile  </th><th>runtime_in_seconds  </th><th>status   </th><th>records_processed  </th><th>size_in_bytes     </th><th>ignore_exit_errors  </th><th>ignore_table_errors  </th><th>lock_source_client  </th><th>parallel_number  </th><th>use_exclusive_locks  </th><th>use_table_segmenter  </th><th>records_processed_category  </th><th>size_category  </th></tr>\n",
       "</thead>\n",
       "<tbody>\n",
       "<tr><td>type   </td><td>enum       </td><td>enum     </td><td>real                </td><td>enum     </td><td>real               </td><td>real              </td><td>enum                </td><td>enum                 </td><td>enum                </td><td>int              </td><td>enum                 </td><td>enum                 </td><td>enum                        </td><td>enum           </td></tr>\n",
       "<tr><td>mins   </td><td>           </td><td>         </td><td>20.0                </td><td>         </td><td>0.0                </td><td>0.0               </td><td>                    </td><td>                     </td><td>                    </td><td>0.0              </td><td>                     </td><td>                     </td><td>                            </td><td>               </td></tr>\n",
       "<tr><td>mean   </td><td>           </td><td>         </td><td>2004.9983379501382  </td><td>         </td><td>222925714.6653738  </td><td>14360843644.95069 </td><td>                    </td><td>                     </td><td>                    </td><td>8.257617728531857</td><td>                     </td><td>                     </td><td>                            </td><td>               </td></tr>\n",
       "<tr><td>maxs   </td><td>           </td><td>         </td><td>15196.599999999997  </td><td>         </td><td>2127073969.7999992 </td><td>149338232406.79987</td><td>                    </td><td>                     </td><td>                    </td><td>30.0             </td><td>                     </td><td>                     </td><td>                            </td><td>               </td></tr>\n",
       "<tr><td>sigma  </td><td>           </td><td>         </td><td>2682.341985218122   </td><td>         </td><td>361131489.7011419  </td><td>25881812363.89472 </td><td>                    </td><td>                     </td><td>                    </td><td>4.63112703802773 </td><td>                     </td><td>                     </td><td>                            </td><td>               </td></tr>\n",
       "<tr><td>zeros  </td><td>           </td><td>         </td><td>0                   </td><td>         </td><td>27                 </td><td>27                </td><td>                    </td><td>                     </td><td>                    </td><td>19               </td><td>                     </td><td>                     </td><td>                            </td><td>               </td></tr>\n",
       "<tr><td>missing</td><td>0          </td><td>0        </td><td>0                   </td><td>0        </td><td>0                  </td><td>0                 </td><td>0                   </td><td>0                    </td><td>0                   </td><td>0                </td><td>0                    </td><td>0                    </td><td>0                           </td><td>0              </td></tr>\n",
       "<tr><td>0      </td><td>LOCAL      </td><td>SAP_UCSV </td><td>1290.0              </td><td>FINISHED </td><td>30619937.0         </td><td>2721723523.0      </td><td>SET                 </td><td>NOT_SET              </td><td>NOT_SET             </td><td>6.0              </td><td>NOT_SET              </td><td>NOT_SET              </td><td>MEDIUM                      </td><td>MEDIUM         </td></tr>\n",
       "<tr><td>1      </td><td>LOCAL      </td><td>SAP_UCSV </td><td>1192.0              </td><td>FINISHED </td><td>48666506.0         </td><td>3902691720.0      </td><td>SET                 </td><td>NOT_SET              </td><td>NOT_SET             </td><td>6.0              </td><td>NOT_SET              </td><td>NOT_SET              </td><td>MEDIUM                      </td><td>MEDIUM         </td></tr>\n",
       "<tr><td>2      </td><td>LOCAL      </td><td>SAP_UCSV </td><td>343.0               </td><td>CANCELLED</td><td>32653243.0         </td><td>2246436756.0      </td><td>NOT_SET             </td><td>NOT_SET              </td><td>SET                 </td><td>7.0              </td><td>SET                  </td><td>NOT_SET              </td><td>MEDIUM                      </td><td>MEDIUM         </td></tr>\n",
       "<tr><td>3      </td><td>REMOTE     </td><td>SAP_ALL  </td><td>1800.0              </td><td>FINISHED </td><td>60944409.0         </td><td>5673935415.0      </td><td>SET                 </td><td>SET                  </td><td>SET                 </td><td>10.0             </td><td>NOT_SET              </td><td>NOT_SET              </td><td>MEDIUM                      </td><td>MEDIUM         </td></tr>\n",
       "<tr><td>4      </td><td>LOCAL      </td><td>SAP_UCSV </td><td>249.0               </td><td>CANCELLED</td><td>118175632.0        </td><td>8857599641.0      </td><td>SET                 </td><td>NOT_SET              </td><td>NOT_SET             </td><td>6.0              </td><td>SET                  </td><td>NOT_SET              </td><td>LARGE                       </td><td>LARGE          </td></tr>\n",
       "<tr><td>5      </td><td>LOCAL      </td><td>SAP_UCSV </td><td>2875.0              </td><td>FINISHED </td><td>152299974.0        </td><td>13405474528.0     </td><td>SET                 </td><td>NOT_SET              </td><td>NOT_SET             </td><td>6.0              </td><td>SET                  </td><td>NOT_SET              </td><td>LARGE                       </td><td>LARGE          </td></tr>\n",
       "<tr><td>6      </td><td>LOCAL      </td><td>SAP_UCSV </td><td>3960.0              </td><td>CANCELLED</td><td>86595615.0         </td><td>5662725311.0      </td><td>SET                 </td><td>NOT_SET              </td><td>NOT_SET             </td><td>6.0              </td><td>SET                  </td><td>NOT_SET              </td><td>MEDIUM                      </td><td>MEDIUM         </td></tr>\n",
       "<tr><td>7      </td><td>LOCAL      </td><td>SAP_ALL  </td><td>830.0               </td><td>CANCELLED</td><td>104206433.0        </td><td>11717023278.0     </td><td>SET                 </td><td>NOT_SET              </td><td>SET                 </td><td>6.0              </td><td>SET                  </td><td>NOT_SET              </td><td>LARGE                       </td><td>LARGE          </td></tr>\n",
       "<tr><td>8      </td><td>LOCAL      </td><td>SAP_UCSV </td><td>1176.0              </td><td>FINISHED </td><td>50315435.0         </td><td>3035348648.0      </td><td>SET                 </td><td>NOT_SET              </td><td>NOT_SET             </td><td>6.0              </td><td>NOT_SET              </td><td>NOT_SET              </td><td>MEDIUM                      </td><td>MEDIUM         </td></tr>\n",
       "<tr><td>9      </td><td>LOCAL      </td><td>SAP_ALL  </td><td>1180.0              </td><td>FINISHED </td><td>82981731.0         </td><td>9182413424.0      </td><td>SET                 </td><td>NOT_SET              </td><td>NOT_SET             </td><td>6.0              </td><td>NOT_SET              </td><td>NOT_SET              </td><td>MEDIUM                      </td><td>LARGE          </td></tr>\n",
       "</tbody>\n",
       "</table>"
      ]
     },
     "metadata": {},
     "output_type": "display_data"
    }
   ],
   "source": [
    "hf = h2o.H2OFrame(copies_data)\n",
    "hf.describe()"
   ]
  },
  {
   "cell_type": "code",
   "execution_count": 40,
   "metadata": {},
   "outputs": [],
   "source": [
    "splits = hf.split_frame(ratios = [0.8], seed = 1)\n",
    "h2o_train = splits[0]\n",
    "h20_remaining = splits[1]\n",
    "splits_remaining = h20_remaining.split_frame(ratios = [0.8], seed = 1)\n",
    "h2o_valid = splits_remaining[0]\n",
    "h20_test = splits_remaining[1]\n"
   ]
  },
  {
   "cell_type": "code",
   "execution_count": 41,
   "metadata": {},
   "outputs": [],
   "source": [
    "y='runtime_in_seconds'"
   ]
  },
  {
   "cell_type": "code",
   "execution_count": 42,
   "metadata": {},
   "outputs": [
    {
     "name": "stdout",
     "output_type": "stream",
     "text": [
      "AutoML progress: |████████████████████████████████████████████████████████| 100%\n"
     ]
    }
   ],
   "source": [
    "aml = H2OAutoML(max_runtime_secs = 120,\n",
    "                max_models=20,\n",
    "                seed = 1,\n",
    "                project_name = 'client_copy_runtime',\n",
    "                               )\n",
    "aml.train(y = y, training_frame = h2o_train, leaderboard_frame = h2o_valid)"
   ]
  },
  {
   "cell_type": "code",
   "execution_count": 43,
   "metadata": {},
   "outputs": [
    {
     "data": {
      "text/html": [
       "<table>\n",
       "<thead>\n",
       "<tr><th>model_id                                          </th><th style=\"text-align: right;\">  mean_residual_deviance</th><th style=\"text-align: right;\">   rmse</th><th style=\"text-align: right;\">        mse</th><th style=\"text-align: right;\">     mae</th><th style=\"text-align: right;\">     rmsle</th></tr>\n",
       "</thead>\n",
       "<tbody>\n",
       "<tr><td>DRF_1_AutoML_20200114_013206                      </td><td style=\"text-align: right;\">             1.49833e+06</td><td style=\"text-align: right;\">1224.06</td><td style=\"text-align: right;\">1.49833e+06</td><td style=\"text-align: right;\"> 794.773</td><td style=\"text-align: right;\">  0.729388</td></tr>\n",
       "<tr><td>DRF_1_AutoML_20200114_015153                      </td><td style=\"text-align: right;\">             1.49833e+06</td><td style=\"text-align: right;\">1224.06</td><td style=\"text-align: right;\">1.49833e+06</td><td style=\"text-align: right;\"> 794.773</td><td style=\"text-align: right;\">  0.729388</td></tr>\n",
       "<tr><td>GBM_1_AutoML_20200114_015153                      </td><td style=\"text-align: right;\">             1.79571e+06</td><td style=\"text-align: right;\">1340.04</td><td style=\"text-align: right;\">1.79571e+06</td><td style=\"text-align: right;\"> 864.259</td><td style=\"text-align: right;\">  0.769944</td></tr>\n",
       "<tr><td>GBM_1_AutoML_20200114_013206                      </td><td style=\"text-align: right;\">             1.79571e+06</td><td style=\"text-align: right;\">1340.04</td><td style=\"text-align: right;\">1.79571e+06</td><td style=\"text-align: right;\"> 864.259</td><td style=\"text-align: right;\">  0.769944</td></tr>\n",
       "<tr><td>DeepLearning_grid_1_AutoML_20200114_013206_model_1</td><td style=\"text-align: right;\">             1.82117e+06</td><td style=\"text-align: right;\">1349.51</td><td style=\"text-align: right;\">1.82117e+06</td><td style=\"text-align: right;\"> 935.918</td><td style=\"text-align: right;\">nan       </td></tr>\n",
       "<tr><td>DeepLearning_grid_1_AutoML_20200114_015153_model_3</td><td style=\"text-align: right;\">             1.85059e+06</td><td style=\"text-align: right;\">1360.36</td><td style=\"text-align: right;\">1.85059e+06</td><td style=\"text-align: right;\"> 945.425</td><td style=\"text-align: right;\">nan       </td></tr>\n",
       "<tr><td>DeepLearning_grid_1_AutoML_20200114_013206_model_4</td><td style=\"text-align: right;\">             1.90314e+06</td><td style=\"text-align: right;\">1379.54</td><td style=\"text-align: right;\">1.90314e+06</td><td style=\"text-align: right;\"> 941.167</td><td style=\"text-align: right;\">  0.889801</td></tr>\n",
       "<tr><td>DeepLearning_grid_1_AutoML_20200114_013206_model_3</td><td style=\"text-align: right;\">             1.95714e+06</td><td style=\"text-align: right;\">1398.98</td><td style=\"text-align: right;\">1.95714e+06</td><td style=\"text-align: right;\">1004.41 </td><td style=\"text-align: right;\">  0.930018</td></tr>\n",
       "<tr><td>DeepLearning_grid_1_AutoML_20200114_015153_model_4</td><td style=\"text-align: right;\">             2.22887e+06</td><td style=\"text-align: right;\">1492.94</td><td style=\"text-align: right;\">2.22887e+06</td><td style=\"text-align: right;\">1025.74 </td><td style=\"text-align: right;\">nan       </td></tr>\n",
       "<tr><td>XRT_1_AutoML_20200114_013206                      </td><td style=\"text-align: right;\">             2.25601e+06</td><td style=\"text-align: right;\">1502   </td><td style=\"text-align: right;\">2.25601e+06</td><td style=\"text-align: right;\"> 947.915</td><td style=\"text-align: right;\">  0.844122</td></tr>\n",
       "</tbody>\n",
       "</table>"
      ]
     },
     "metadata": {},
     "output_type": "display_data"
    },
    {
     "data": {
      "text/plain": []
     },
     "execution_count": 43,
     "metadata": {},
     "output_type": "execute_result"
    }
   ],
   "source": [
    "aml.leaderboard.head()"
   ]
  },
  {
   "cell_type": "code",
   "execution_count": 44,
   "metadata": {},
   "outputs": [
    {
     "data": {
      "text/html": [
       "<table>\n",
       "<thead>\n",
       "<tr><th>copy_mode  </th><th>profile  </th><th style=\"text-align: right;\">  runtime_in_seconds</th><th>status   </th><th style=\"text-align: right;\">  records_processed</th><th style=\"text-align: right;\">  size_in_bytes</th><th>ignore_exit_errors  </th><th>ignore_table_errors  </th><th>lock_source_client  </th><th style=\"text-align: right;\">  parallel_number</th><th>use_exclusive_locks  </th><th>use_table_segmenter  </th><th>records_processed_category  </th><th>size_category  </th></tr>\n",
       "</thead>\n",
       "<tbody>\n",
       "<tr><td>LOCAL      </td><td>SAP_ALL  </td><td style=\"text-align: right;\">               475  </td><td>CANCELLED</td><td style=\"text-align: right;\">        1.06572e+08</td><td style=\"text-align: right;\">    6.32705e+10</td><td>SET                 </td><td>NOT_SET              </td><td>NOT_SET             </td><td style=\"text-align: right;\">                6</td><td>NOT_SET              </td><td>NOT_SET              </td><td>LARGE                       </td><td>XL             </td></tr>\n",
       "<tr><td>LOCAL      </td><td>SAP_ALL  </td><td style=\"text-align: right;\">              2808  </td><td>CANCELLED</td><td style=\"text-align: right;\">        1.01946e+08</td><td style=\"text-align: right;\">    1.0536e+10 </td><td>SET                 </td><td>NOT_SET              </td><td>SET                 </td><td style=\"text-align: right;\">                6</td><td>SET                  </td><td>NOT_SET              </td><td>LARGE                       </td><td>LARGE          </td></tr>\n",
       "<tr><td>LOCAL      </td><td>SAP_ALL  </td><td style=\"text-align: right;\">              1523  </td><td>FINISHED </td><td style=\"text-align: right;\">        4.98333e+08</td><td style=\"text-align: right;\">    1.95303e+10</td><td>NOT_SET             </td><td>NOT_SET              </td><td>SET                 </td><td style=\"text-align: right;\">               10</td><td>SET                  </td><td>SET                  </td><td>XL                          </td><td>XL             </td></tr>\n",
       "<tr><td>LOCAL      </td><td>SAP_CUST </td><td style=\"text-align: right;\">              1048  </td><td>FINISHED </td><td style=\"text-align: right;\">        1.29695e+08</td><td style=\"text-align: right;\">    7.56372e+09</td><td>SET                 </td><td>SET                  </td><td>SET                 </td><td style=\"text-align: right;\">               10</td><td>NOT_SET              </td><td>NOT_SET              </td><td>LARGE                       </td><td>LARGE          </td></tr>\n",
       "<tr><td>LOCAL      </td><td>SAP_USER </td><td style=\"text-align: right;\">               780  </td><td>FINISHED </td><td style=\"text-align: right;\">        1.28902e+07</td><td style=\"text-align: right;\">    4.82699e+08</td><td>NOT_SET             </td><td>NOT_SET              </td><td>SET                 </td><td style=\"text-align: right;\">                1</td><td>NOT_SET              </td><td>NOT_SET              </td><td>SMALL                       </td><td>SMALL          </td></tr>\n",
       "<tr><td>LOCAL      </td><td>SAP_ALL  </td><td style=\"text-align: right;\">               523  </td><td>FINISHED </td><td style=\"text-align: right;\">        1.94235e+07</td><td style=\"text-align: right;\">    1.53692e+09</td><td>NOT_SET             </td><td>NOT_SET              </td><td>NOT_SET             </td><td style=\"text-align: right;\">               10</td><td>NOT_SET              </td><td>NOT_SET              </td><td>MEDIUM                      </td><td>MEDIUM         </td></tr>\n",
       "<tr><td>LOCAL      </td><td>SAP_ALL  </td><td style=\"text-align: right;\">              1362  </td><td>FINISHED </td><td style=\"text-align: right;\">        3.22178e+07</td><td style=\"text-align: right;\">    2.01391e+09</td><td>NOT_SET             </td><td>NOT_SET              </td><td>NOT_SET             </td><td style=\"text-align: right;\">                7</td><td>NOT_SET              </td><td>NOT_SET              </td><td>MEDIUM                      </td><td>MEDIUM         </td></tr>\n",
       "<tr><td>REMOTE     </td><td>SAP_ALL  </td><td style=\"text-align: right;\">              4093  </td><td>FINISHED </td><td style=\"text-align: right;\">   266029          </td><td style=\"text-align: right;\">    2.96112e+08</td><td>SET                 </td><td>SET                  </td><td>NOT_SET             </td><td style=\"text-align: right;\">                5</td><td>NOT_SET              </td><td>NOT_SET              </td><td>SMALL                       </td><td>SMALL          </td></tr>\n",
       "<tr><td>REMOTE     </td><td>SAP_ALL  </td><td style=\"text-align: right;\">             15196.6</td><td>FINISHED </td><td style=\"text-align: right;\">        1.13791e+09</td><td style=\"text-align: right;\">    8.20442e+10</td><td>SET                 </td><td>SET                  </td><td>SET                 </td><td style=\"text-align: right;\">                7</td><td>NOT_SET              </td><td>SET                  </td><td>XL                          </td><td>XL             </td></tr>\n",
       "</tbody>\n",
       "</table>"
      ]
     },
     "metadata": {},
     "output_type": "display_data"
    },
    {
     "data": {
      "text/plain": []
     },
     "execution_count": 44,
     "metadata": {},
     "output_type": "execute_result"
    }
   ],
   "source": [
    "h20_test.head()"
   ]
  },
  {
   "cell_type": "code",
   "execution_count": 45,
   "metadata": {},
   "outputs": [
    {
     "name": "stdout",
     "output_type": "stream",
     "text": [
      "drf prediction progress: |████████████████████████████████████████████████| 100%\n"
     ]
    }
   ],
   "source": [
    "pred = aml.predict(h20_test)"
   ]
  },
  {
   "cell_type": "code",
   "execution_count": 46,
   "metadata": {},
   "outputs": [
    {
     "data": {
      "text/html": [
       "<table>\n",
       "<thead>\n",
       "<tr><th style=\"text-align: right;\">  predict</th></tr>\n",
       "</thead>\n",
       "<tbody>\n",
       "<tr><td style=\"text-align: right;\"> 3553.11 </td></tr>\n",
       "<tr><td style=\"text-align: right;\"> 1664.52 </td></tr>\n",
       "<tr><td style=\"text-align: right;\"> 1826.23 </td></tr>\n",
       "<tr><td style=\"text-align: right;\"> 1276.61 </td></tr>\n",
       "<tr><td style=\"text-align: right;\">  535.971</td></tr>\n",
       "<tr><td style=\"text-align: right;\">  702.667</td></tr>\n",
       "<tr><td style=\"text-align: right;\">  768.111</td></tr>\n",
       "<tr><td style=\"text-align: right;\"> 1565.4  </td></tr>\n",
       "<tr><td style=\"text-align: right;\"> 9509.28 </td></tr>\n",
       "</tbody>\n",
       "</table>"
      ]
     },
     "metadata": {},
     "output_type": "display_data"
    },
    {
     "data": {
      "text/plain": []
     },
     "execution_count": 46,
     "metadata": {},
     "output_type": "execute_result"
    }
   ],
   "source": [
    "pred.head()"
   ]
  },
  {
   "cell_type": "code",
   "execution_count": 47,
   "metadata": {},
   "outputs": [
    {
     "name": "stdout",
     "output_type": "stream",
     "text": [
      "\n",
      "ModelMetricsRegression: drf\n",
      "** Reported on test data. **\n",
      "\n",
      "MSE: 5567273.700651545\n",
      "RMSE: 2359.5070884936\n",
      "MAE: 1553.993699438778\n",
      "RMSLE: 0.822215015133395\n",
      "Mean Residual Deviance: 5567273.700651545\n"
     ]
    },
    {
     "data": {
      "text/plain": []
     },
     "execution_count": 47,
     "metadata": {},
     "output_type": "execute_result"
    }
   ],
   "source": [
    "perf = aml.leader.model_performance(h20_test)\n",
    "perf"
   ]
  },
  {
   "cell_type": "markdown",
   "metadata": {},
   "source": [
    "#### Save the leader model"
   ]
  },
  {
   "cell_type": "code",
   "execution_count": null,
   "metadata": {},
   "outputs": [],
   "source": [
    "h2o.save_model(aml.leader,path = './models')"
   ]
  },
  {
   "cell_type": "code",
   "execution_count": null,
   "metadata": {},
   "outputs": [],
   "source": [
    "aml.leader.download_mojo(path='./models')"
   ]
  },
  {
   "cell_type": "markdown",
   "metadata": {},
   "source": [
    "#### AutoViml"
   ]
  },
  {
   "cell_type": "code",
   "execution_count": 50,
   "metadata": {},
   "outputs": [
    {
     "name": "stdout",
     "output_type": "stream",
     "text": [
      "Train (Size: 288,14) has Single_Label with target: ['runtime_in_seconds']\n",
      "\"\n",
      " ################### Regression  ######################\n",
      "Classifying variables in data set...\n",
      "    Number of Numeric Columns =  2\n",
      "    Number of Integer-Categorical Columns =  1\n",
      "    Number of String-Categorical Columns =  4\n",
      "    Number of Factor-Categorical Columns =  0\n",
      "    Number of String-Boolean Columns =  6\n",
      "    Number of Numeric-Boolean Columns =  0\n",
      "    Number of Discrete String Columns =  0\n",
      "    Number of NLP String Columns =  0\n",
      "    Number of Date Time Columns =  0\n",
      "    Number of ID Columns =  0\n",
      "    Number of Columns to Delete =  0\n",
      "    13 Predictors classified...\n",
      "        This does not include the Target column(s)\n",
      "    No variables removed since no ID or low-information variables found in data set\n",
      "Test data has no missing values...\n",
      "Trying Feature Selection among 3 numeric variables...\n",
      "    No variables were removed since no highly correlated variables found in data\n",
      "\n",
      "Detected this as a Regression problem...\n",
      "    After variable removal, 13 predictors left...\n",
      "    Linear feature selection: out of 10 categorical features...\n",
      "    Selecting 10 categorical features\n",
      "Trying Feature Selection among 3 numeric variables...\n",
      "    No variables were removed since no highly correlated variables found in data\n",
      "    Adding 10 categorical variables to reduced numeric variables  of 3\n",
      "Current number of predictors = 13 \n",
      "    Finding Important Features using Boosted Trees algorithm...\n",
      "        using 13 variables...\n",
      "[02:00:06] WARNING: C:/Jenkins/workspace/xgboost-win64_release_0.90/src/objective/regression_obj.cu:152: reg:linear is now deprecated in favor of reg:squarederror.\n",
      "        using 10 variables...\n",
      "[02:00:06] WARNING: C:/Jenkins/workspace/xgboost-win64_release_0.90/src/objective/regression_obj.cu:152: reg:linear is now deprecated in favor of reg:squarederror.\n",
      "        using 7 variables...\n",
      "[02:00:06] WARNING: C:/Jenkins/workspace/xgboost-win64_release_0.90/src/objective/regression_obj.cu:152: reg:linear is now deprecated in favor of reg:squarederror.\n",
      "        using 4 variables...\n",
      "[02:00:06] WARNING: C:/Jenkins/workspace/xgboost-win64_release_0.90/src/objective/regression_obj.cu:152: reg:linear is now deprecated in favor of reg:squarederror.\n",
      "        using 1 variables...\n",
      "[02:00:06] WARNING: C:/Jenkins/workspace/xgboost-win64_release_0.90/src/objective/regression_obj.cu:152: reg:linear is now deprecated in favor of reg:squarederror.\n",
      "Found 13 important features\n",
      "    Selected Features: ['size_category', 'records_processed_category', 'records_processed', 'profile', 'size_in_bytes', 'use_exclusive_locks', 'copy_mode', 'ignore_exit_errors', 'status', 'parallel_number', 'lock_source_client', 'ignore_table_errors', 'use_table_segmenter']\n",
      "Starting Feature Engineering now...\n",
      "Entropy Binning 2 continuous variables...\n",
      "    Binning and replacing 2 numeric features.\n",
      "CAUTION: Stacking can produce Highly Overfit models on Training Data...\n",
      "    Time taken for Stacking: 0.1 seconds\n",
      "    Time taken for Stacking: 0.1 seconds\n",
      "    Adding 1 Stacking feature(s) to training data\n",
      "\n",
      "Rows in Train data set = 259\n",
      "  Features in Train data set = 14\n",
      "    Rows in held-out data set = 29\n",
      "Finding Best Model and Hyper Parameters for Target: runtime_in_seconds...\n",
      "\n",
      "Using Forests Model, Estimated Training time = 0.0 mins\n",
      "    Model training time (in seconds): 29\n",
      "5-fold Cross Validation rmse Score = 1197.2158\n",
      "    Best Parameters for Model = {'criterion': 'mae', 'max_depth': 10, 'n_estimators': 300}\n",
      "Forests Model Prediction Results on Held Out CV Data Set:\n"
     ]
    },
    {
     "data": {
      "image/png": "[encoded data removed]",
      "text/plain": [
       "<Figure size 720x720 with 1 Axes>"
      ]
     },
     "metadata": {
      "needs_background": "light"
     },
     "output_type": "display_data"
    },
    {
     "name": "stdout",
     "output_type": "stream",
     "text": [
      "    MAE = 366.2409\n",
      "    MAPE = 399%\n",
      "    RMSE = 510.9738\n",
      "    MAE as % std dev of Actuals = 44.4%\n",
      "    Normalized RMSE (% of MinMax of Actuals) = 22%\n",
      "    Normalized RMSE (% of Std Dev of Actuals) = 62%\n",
      "No evaluation metrics plot available for this model\n",
      "    Time taken for this Target (in seconds) = 31\n",
      "Plotting Feature Importances to explain the output of model\n",
      "\n",
      "###################################################################################\n",
      "Training model on complete Train data and Predicting using give Test Data...\n",
      "Entropy Binning 2 continuous variables...\n",
      "    Binning and replacing 2 numeric features.\n",
      "CAUTION: Stacking can produce Highly Overfit models on Training Data...\n",
      "    Time taken for Stacking: 9.1 seconds\n",
      "    Adding 1 Stacking feature(s) to training data\n",
      "    Time taken for Stacking: 0.1 seconds\n",
      "Model Training time taken in seconds = 1\n",
      "    Saving predictions to .\\runtime_in_seconds\\runtime_in_seconds_Regression_test_modified.csv\n",
      "    Saving predictions to .\\runtime_in_seconds\\runtime_in_seconds_Regression_submission.csv\n",
      "    Saving predictions to .\\runtime_in_seconds\\runtime_in_seconds_Regression_train_modified.csv\n",
      "Time Taken in mins = 0.7 for the Entire Process\n"
     ]
    },
    {
     "data": {
      "image/png": "[encoded data removed]",
      "text/plain": [
       "<Figure size 720x360 with 1 Axes>"
      ]
     },
     "metadata": {
      "needs_background": "light"
     },
     "output_type": "display_data"
    }
   ],
   "source": [
    "from autoviml.Auto_ViML import Auto_ViML\n",
    "\n",
    "model, features, trainm, testm = Auto_ViML(\n",
    "    train,\n",
    "    'runtime_in_seconds',\n",
    "    test,\n",
    "    sample_submission='',\n",
    "    hyper_param=\"GS\",\n",
    "    feature_reduction=True,\n",
    "    scoring_parameter=\"R2\",\n",
    "    KMeans_Featurizer=False,\n",
    "    Boosting_Flag=False,\n",
    "    Binning_Flag=True,\n",
    "    Add_Poly=0,\n",
    "    Stacking_Flag=True,\n",
    "    Imbalanced_Flag=False,\n",
    "    verbose=1,\n",
    ")"
   ]
  },
  {
   "cell_type": "code",
   "execution_count": null,
   "metadata": {},
   "outputs": [],
   "source": []
  },
  {
   "cell_type": "code",
   "execution_count": null,
   "metadata": {},
   "outputs": [],
   "source": []
  }
 ],
 "metadata": {
  "kernelspec": {
   "display_name": "Python 3",
   "language": "python",
   "name": "python3"
  },
  "language_info": {
   "codemirror_mode": {
    "name": "ipython",
    "version": 3
   },
   "file_extension": ".py",
   "mimetype": "text/x-python",
   "name": "python",
   "nbconvert_exporter": "python",
   "pygments_lexer": "ipython3",
   "version": "3.7.3"
  },
  "toc-autonumbering": false,
  "toc-showtags": false
 },
 "nbformat": 4,
 "nbformat_minor": 4
}
