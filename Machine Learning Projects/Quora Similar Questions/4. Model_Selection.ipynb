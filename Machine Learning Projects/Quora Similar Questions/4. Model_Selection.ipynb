{
 "cells": [
  {
   "cell_type": "markdown",
   "metadata": {},
   "source": [
    "### Quora Duplicate Question Model Selection"
   ]
  },
  {
   "cell_type": "markdown",
   "metadata": {},
   "source": [
    "Now we will load up the dataset of all the final features\n",
    "and we will test out various models"
   ]
  },
  {
   "cell_type": "code",
   "execution_count": 17,
   "metadata": {},
   "outputs": [],
   "source": [
    "import pandas as pd\n",
    "import numpy as np\n",
    "import matplotlib.pyplot as plt\n",
    "import warnings\n",
    "import random\n",
    "warnings.filterwarnings(\"ignore\")\n",
    "\n",
    "import os\n",
    "import seaborn as sns\n",
    "import re\n",
    "from sklearn.model_selection import train_test_split\n",
    "from imblearn.over_sampling import SMOTE\n",
    "\n",
    "import xgboost as xgb"
   ]
  },
  {
   "cell_type": "code",
   "execution_count": 2,
   "metadata": {},
   "outputs": [],
   "source": [
    "# Read 100000 rows randomly\n",
    "filename = './Data/all_features_final.csv'\n",
    "\n",
    "# Count the records in file\n",
    "records_in_file = sum(1 for l in open(filename))\n",
    "number_of_records_to_be_read = 100000\n",
    "\n",
    "# The row indices to skip -\n",
    "# make sure 0 is not included to keep the header!\n",
    "skip_idx = random.sample(range(1, records_in_file), records_in_file - number_of_records_to_be_read)\n",
    "\n",
    "data = pd.read_csv(filename , skiprows = skip_idx)"
   ]
  },
  {
   "cell_type": "code",
   "execution_count": 3,
   "metadata": {},
   "outputs": [
    {
     "data": {
      "text/html": [
       "<div>\n",
       "<style scoped>\n",
       "    .dataframe tbody tr th:only-of-type {\n",
       "        vertical-align: middle;\n",
       "    }\n",
       "\n",
       "    .dataframe tbody tr th {\n",
       "        vertical-align: top;\n",
       "    }\n",
       "\n",
       "    .dataframe thead th {\n",
       "        text-align: right;\n",
       "    }\n",
       "</style>\n",
       "<table border=\"1\" class=\"dataframe\">\n",
       "  <thead>\n",
       "    <tr style=\"text-align: right;\">\n",
       "      <th></th>\n",
       "      <th>Unnamed: 0</th>\n",
       "      <th>id</th>\n",
       "      <th>is_duplicate</th>\n",
       "      <th>cwc_min</th>\n",
       "      <th>cwc_max</th>\n",
       "      <th>csc_min</th>\n",
       "      <th>csc_max</th>\n",
       "      <th>ctc_min</th>\n",
       "      <th>ctc_max</th>\n",
       "      <th>last_word_eq</th>\n",
       "      <th>...</th>\n",
       "      <th>88_y</th>\n",
       "      <th>89_y</th>\n",
       "      <th>90_y</th>\n",
       "      <th>91_y</th>\n",
       "      <th>92_y</th>\n",
       "      <th>93_y</th>\n",
       "      <th>94_y</th>\n",
       "      <th>95_y</th>\n",
       "      <th>96_y</th>\n",
       "      <th>97_y</th>\n",
       "    </tr>\n",
       "  </thead>\n",
       "  <tbody>\n",
       "    <tr>\n",
       "      <th>0</th>\n",
       "      <td>1</td>\n",
       "      <td>1</td>\n",
       "      <td>0</td>\n",
       "      <td>0.799984</td>\n",
       "      <td>0.399996</td>\n",
       "      <td>0.999986</td>\n",
       "      <td>0.874989</td>\n",
       "      <td>0.699993</td>\n",
       "      <td>0.466664</td>\n",
       "      <td>0.0</td>\n",
       "      <td>...</td>\n",
       "      <td>-67.937063</td>\n",
       "      <td>-14.765682</td>\n",
       "      <td>-3.938123</td>\n",
       "      <td>26.130854</td>\n",
       "      <td>169.964593</td>\n",
       "      <td>-55.651786</td>\n",
       "      <td>195.019656</td>\n",
       "      <td>127.96923757</td>\n",
       "      <td>55.5324496</td>\n",
       "      <td>]</td>\n",
       "    </tr>\n",
       "    <tr>\n",
       "      <th>1</th>\n",
       "      <td>8</td>\n",
       "      <td>8</td>\n",
       "      <td>0</td>\n",
       "      <td>0.999950</td>\n",
       "      <td>0.999950</td>\n",
       "      <td>0.999986</td>\n",
       "      <td>0.999986</td>\n",
       "      <td>0.999983</td>\n",
       "      <td>0.857131</td>\n",
       "      <td>0.0</td>\n",
       "      <td>...</td>\n",
       "      <td>25.751247</td>\n",
       "      <td>-18.339197</td>\n",
       "      <td>43.787209</td>\n",
       "      <td>-29.630131</td>\n",
       "      <td>3.473063</td>\n",
       "      <td>-23.581781</td>\n",
       "      <td>22.371372</td>\n",
       "      <td>0.8230418</td>\n",
       "      <td>-26.83713213]</td>\n",
       "      <td>NaN</td>\n",
       "    </tr>\n",
       "    <tr>\n",
       "      <th>2</th>\n",
       "      <td>15</td>\n",
       "      <td>15</td>\n",
       "      <td>1</td>\n",
       "      <td>0.374995</td>\n",
       "      <td>0.299997</td>\n",
       "      <td>0.999988</td>\n",
       "      <td>0.999988</td>\n",
       "      <td>0.249998</td>\n",
       "      <td>0.235293</td>\n",
       "      <td>0.0</td>\n",
       "      <td>...</td>\n",
       "      <td>14.303193</td>\n",
       "      <td>-24.721612</td>\n",
       "      <td>67.589742</td>\n",
       "      <td>-69.354591</td>\n",
       "      <td>-92.129857</td>\n",
       "      <td>-3.560772</td>\n",
       "      <td>75.449690</td>\n",
       "      <td>20.17547396</td>\n",
       "      <td>75.12856992]</td>\n",
       "      <td>NaN</td>\n",
       "    </tr>\n",
       "    <tr>\n",
       "      <th>3</th>\n",
       "      <td>18</td>\n",
       "      <td>18</td>\n",
       "      <td>1</td>\n",
       "      <td>0.571420</td>\n",
       "      <td>0.499994</td>\n",
       "      <td>0.999986</td>\n",
       "      <td>0.874989</td>\n",
       "      <td>0.384612</td>\n",
       "      <td>0.357140</td>\n",
       "      <td>1.0</td>\n",
       "      <td>...</td>\n",
       "      <td>-32.799907</td>\n",
       "      <td>-12.164617</td>\n",
       "      <td>40.908921</td>\n",
       "      <td>-110.575802</td>\n",
       "      <td>-97.372203</td>\n",
       "      <td>-49.579605</td>\n",
       "      <td>6.561569</td>\n",
       "      <td>-34.69863772</td>\n",
       "      <td>26.2334342</td>\n",
       "      <td>]</td>\n",
       "    </tr>\n",
       "    <tr>\n",
       "      <th>4</th>\n",
       "      <td>21</td>\n",
       "      <td>21</td>\n",
       "      <td>0</td>\n",
       "      <td>0.666644</td>\n",
       "      <td>0.666644</td>\n",
       "      <td>0.999983</td>\n",
       "      <td>0.857131</td>\n",
       "      <td>0.571420</td>\n",
       "      <td>0.399996</td>\n",
       "      <td>0.0</td>\n",
       "      <td>...</td>\n",
       "      <td>54.734690</td>\n",
       "      <td>-20.879879</td>\n",
       "      <td>37.027482</td>\n",
       "      <td>-44.004908</td>\n",
       "      <td>-26.254134</td>\n",
       "      <td>-61.200338</td>\n",
       "      <td>64.472702</td>\n",
       "      <td>12.335307</td>\n",
       "      <td>57.39217645]</td>\n",
       "      <td>NaN</td>\n",
       "    </tr>\n",
       "  </tbody>\n",
       "</table>\n",
       "<p>5 rows × 224 columns</p>\n",
       "</div>"
      ],
      "text/plain": [
       "   Unnamed: 0  id  is_duplicate   cwc_min   cwc_max   csc_min   csc_max  \\\n",
       "0           1   1             0  0.799984  0.399996  0.999986  0.874989   \n",
       "1           8   8             0  0.999950  0.999950  0.999986  0.999986   \n",
       "2          15  15             1  0.374995  0.299997  0.999988  0.999988   \n",
       "3          18  18             1  0.571420  0.499994  0.999986  0.874989   \n",
       "4          21  21             0  0.666644  0.666644  0.999983  0.857131   \n",
       "\n",
       "    ctc_min   ctc_max  last_word_eq  ...       88_y       89_y       90_y  \\\n",
       "0  0.699993  0.466664           0.0  ... -67.937063 -14.765682  -3.938123   \n",
       "1  0.999983  0.857131           0.0  ...  25.751247 -18.339197  43.787209   \n",
       "2  0.249998  0.235293           0.0  ...  14.303193 -24.721612  67.589742   \n",
       "3  0.384612  0.357140           1.0  ... -32.799907 -12.164617  40.908921   \n",
       "4  0.571420  0.399996           0.0  ...  54.734690 -20.879879  37.027482   \n",
       "\n",
       "         91_y        92_y       93_y        94_y          95_y           96_y  \\\n",
       "0   26.130854  169.964593 -55.651786  195.019656  127.96923757     55.5324496   \n",
       "1  -29.630131    3.473063 -23.581781   22.371372     0.8230418  -26.83713213]   \n",
       "2  -69.354591  -92.129857  -3.560772   75.449690   20.17547396   75.12856992]   \n",
       "3 -110.575802  -97.372203 -49.579605    6.561569  -34.69863772     26.2334342   \n",
       "4  -44.004908  -26.254134 -61.200338   64.472702     12.335307   57.39217645]   \n",
       "\n",
       "   97_y  \n",
       "0     ]  \n",
       "1   NaN  \n",
       "2   NaN  \n",
       "3     ]  \n",
       "4   NaN  \n",
       "\n",
       "[5 rows x 224 columns]"
      ]
     },
     "execution_count": 3,
     "metadata": {},
     "output_type": "execute_result"
    }
   ],
   "source": [
    "data.head()"
   ]
  },
  {
   "cell_type": "code",
   "execution_count": 4,
   "metadata": {},
   "outputs": [
    {
     "name": "stdout",
     "output_type": "stream",
     "text": [
      "<class 'pandas.core.frame.DataFrame'>\n",
      "RangeIndex: 99999 entries, 0 to 99998\n",
      "Columns: 224 entries, Unnamed: 0 to 97_y\n",
      "dtypes: float64(200), int64(18), object(6)\n",
      "memory usage: 170.9+ MB\n"
     ]
    }
   ],
   "source": [
    "data.info()"
   ]
  },
  {
   "cell_type": "code",
   "execution_count": 5,
   "metadata": {},
   "outputs": [],
   "source": [
    "# remove any garbage special characters\n",
    "object_type_columns = data.select_dtypes(include=['object']).columns\n",
    "# Convert all columns to numeric\n",
    "for column in object_type_columns:\n",
    "    data[column] = data[column].str.replace('\\W', '')\n",
    "    data[column] = data[column].apply(pd.to_numeric)\n"
   ]
  },
  {
   "cell_type": "code",
   "execution_count": 6,
   "metadata": {},
   "outputs": [],
   "source": [
    "data.fillna(value = 0,inplace=True)"
   ]
  },
  {
   "cell_type": "markdown",
   "metadata": {},
   "source": [
    "#### Check Dataset Balance"
   ]
  },
  {
   "cell_type": "code",
   "execution_count": 7,
   "metadata": {},
   "outputs": [
    {
     "data": {
      "text/plain": [
       "0    63191\n",
       "1    36808\n",
       "Name: is_duplicate, dtype: int64"
      ]
     },
     "execution_count": 7,
     "metadata": {},
     "output_type": "execute_result"
    }
   ],
   "source": [
    "counts_is_duplicate = data.is_duplicate.value_counts()\n",
    "counts_is_duplicate"
   ]
  },
  {
   "cell_type": "code",
   "execution_count": 8,
   "metadata": {},
   "outputs": [
    {
     "data": {
      "text/plain": [
       "<matplotlib.axes._subplots.AxesSubplot at 0x27cf4c7fd30>"
      ]
     },
     "execution_count": 8,
     "metadata": {},
     "output_type": "execute_result"
    },
    {
     "data": {
      "image/png": "[encoded data removed]",
      "text/plain": [
       "<Figure size 432x288 with 1 Axes>"
      ]
     },
     "metadata": {
      "needs_background": "light"
     },
     "output_type": "display_data"
    }
   ],
   "source": [
    "plt.ylabel('Number of Occurrences', fontsize=12)\n",
    "data.groupby('is_duplicate')['id'].count().plot.bar()"
   ]
  },
  {
   "cell_type": "code",
   "execution_count": 9,
   "metadata": {},
   "outputs": [],
   "source": [
    "y = data.is_duplicate\n",
    "data.drop(['is_duplicate'],axis =1 ,inplace =True)\n",
    "X = data"
   ]
  },
  {
   "cell_type": "markdown",
   "metadata": {},
   "source": [
    "There is a high imbalance in the dataset , so before we go in and create the model lets try to balance it"
   ]
  },
  {
   "cell_type": "code",
   "execution_count": 10,
   "metadata": {},
   "outputs": [],
   "source": [
    "# split into train and test samples\n",
    "X_train,X_test,y_train,y_test = train_test_split(X,y,test_size = 0.3 ,random_state = 0)"
   ]
  },
  {
   "cell_type": "code",
   "execution_count": 11,
   "metadata": {},
   "outputs": [
    {
     "name": "stdout",
     "output_type": "stream",
     "text": [
      "Number of records X_train dataset:  (69999, 223)\n",
      "Number of records y_train dataset:  (69999,)\n",
      "Number of records X_test dataset:  (30000, 223)\n",
      "Number of records y_test dataset:  (30000,)\n"
     ]
    }
   ],
   "source": [
    "print(\"Number of records X_train dataset: \", X_train.shape)\n",
    "print(\"Number of records y_train dataset: \", y_train.shape)\n",
    "print(\"Number of records X_test dataset: \", X_test.shape)\n",
    "print(\"Number of records y_test dataset: \", y_test.shape)"
   ]
  },
  {
   "cell_type": "code",
   "execution_count": 12,
   "metadata": {},
   "outputs": [
    {
     "name": "stdout",
     "output_type": "stream",
     "text": [
      "Before Oversampling,counts of label '1' : 25864\n",
      "Before Oversampling,counts of label '0' : 44135\n"
     ]
    }
   ],
   "source": [
    "print(\"Before Oversampling,counts of label '1' : {}\".format(sum(y_train==1)))\n",
    "print(\"Before Oversampling,counts of label '0' : {}\".format(sum(y_train==0)))"
   ]
  },
  {
   "cell_type": "markdown",
   "metadata": {},
   "source": [
    "#### Oversampling using SMOTE"
   ]
  },
  {
   "cell_type": "code",
   "execution_count": 14,
   "metadata": {},
   "outputs": [
    {
     "name": "stdout",
     "output_type": "stream",
     "text": [
      "After OverSampling, the shape of train_X: (88270, 223)\n",
      "After OverSampling, the shape of train_y: (88270,) \n",
      "\n",
      "After OverSampling, counts of label '1': 44135\n",
      "After OverSampling, counts of label '0': 44135\n"
     ]
    }
   ],
   "source": [
    "sm = SMOTE(random_state=2)\n",
    "X_train_resampled , y_train_resampled = sm.fit_sample(X_train,y_train.ravel())\n",
    "print('After OverSampling, the shape of train_X: {}'.format(X_train_resampled.shape))\n",
    "print('After OverSampling, the shape of train_y: {} \\n'.format(y_train_resampled.shape))\n",
    "\n",
    "print(\"After OverSampling, counts of label '1': {}\".format(sum(y_train_resampled==1)))\n",
    "print(\"After OverSampling, counts of label '0': {}\".format(sum(y_train_resampled==0)))"
   ]
  },
  {
   "cell_type": "markdown",
   "metadata": {},
   "source": [
    "#### Spliiting data for cross-validation"
   ]
  },
  {
   "cell_type": "code",
   "execution_count": 18,
   "metadata": {},
   "outputs": [],
   "source": [
    "X_train, X_valid, y_train, y_valid = train_test_split(X_train_resampled, y_train_resampled, test_size=0.2, random_state=0)"
   ]
  },
  {
   "cell_type": "markdown",
   "metadata": {},
   "source": [
    "#### XGBoost Classifier"
   ]
  },
  {
   "cell_type": "code",
   "execution_count": 20,
   "metadata": {},
   "outputs": [
    {
     "name": "stdout",
     "output_type": "stream",
     "text": [
      "[0]\ttrain-logloss:0.553211\tvalid-logloss:0.554651\n",
      "Multiple eval metrics have been passed: 'valid-logloss' will be used for early stopping.\n",
      "\n",
      "Will train until valid-logloss hasn't improved in 50 rounds.\n",
      "[10]\ttrain-logloss:0.303494\tvalid-logloss:0.316612\n",
      "[20]\ttrain-logloss:0.270335\tvalid-logloss:0.293946\n",
      "[30]\ttrain-logloss:0.25068\tvalid-logloss:0.288485\n",
      "[40]\ttrain-logloss:0.230781\tvalid-logloss:0.286286\n",
      "[50]\ttrain-logloss:0.215101\tvalid-logloss:0.285303\n",
      "[60]\ttrain-logloss:0.201549\tvalid-logloss:0.284372\n",
      "[70]\ttrain-logloss:0.190788\tvalid-logloss:0.284801\n",
      "[80]\ttrain-logloss:0.178988\tvalid-logloss:0.284601\n",
      "[90]\ttrain-logloss:0.167052\tvalid-logloss:0.284186\n",
      "[100]\ttrain-logloss:0.155344\tvalid-logloss:0.28521\n",
      "[110]\ttrain-logloss:0.145043\tvalid-logloss:0.284996\n",
      "[120]\ttrain-logloss:0.135643\tvalid-logloss:0.285822\n",
      "[130]\ttrain-logloss:0.127514\tvalid-logloss:0.285861\n",
      "Stopping. Best iteration:\n",
      "[87]\ttrain-logloss:0.169888\tvalid-logloss:0.283854\n",
      "\n"
     ]
    }
   ],
   "source": [
    "# setting parameters for XGBoost\n",
    "params = {'objective':'binary:logistic',\n",
    "          'eval_metric':'logloss',\n",
    "          'max_depth' : 6\n",
    "         }\n",
    "\n",
    "d_train = xgb.DMatrix(X_train,label = y_train)\n",
    "d_valid = xgb.DMatrix(X_valid,label=y_valid)\n",
    "watchlist = [(d_train, 'train'), (d_valid, 'valid')]\n",
    "\n",
    "bst = xgb.train(params, d_train, 400, watchlist, early_stopping_rounds=50, verbose_eval=10)"
   ]
  },
  {
   "cell_type": "markdown",
   "metadata": {},
   "source": [
    "#### We have achieved a log loss errors of 0.283854 on validation set"
   ]
  },
  {
   "cell_type": "markdown",
   "metadata": {},
   "source": [
    "#### TODO- Preprocess the test.csv to add features and try the prediction on the test set"
   ]
  },
  {
   "cell_type": "code",
   "execution_count": null,
   "metadata": {},
   "outputs": [],
   "source": []
  }
 ],
 "metadata": {
  "kernelspec": {
   "display_name": "Python 3",
   "language": "python",
   "name": "python3"
  },
  "language_info": {
   "codemirror_mode": {
    "name": "ipython",
    "version": 3
   },
   "file_extension": ".py",
   "mimetype": "text/x-python",
   "name": "python",
   "nbconvert_exporter": "python",
   "pygments_lexer": "ipython3",
   "version": "3.7.3"
  }
 },
 "nbformat": 4,
 "nbformat_minor": 4
}
