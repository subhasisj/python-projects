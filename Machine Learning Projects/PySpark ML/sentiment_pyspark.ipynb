{
  "nbformat": 4,
  "nbformat_minor": 0,
  "metadata": {
    "colab": {
      "name": "sentiment_pyspark.ipynb",
      "provenance": [],
      "collapsed_sections": [],
      "include_colab_link": true
    },
    "kernelspec": {
      "name": "python3",
      "display_name": "Python 3"
    },
    "accelerator": "GPU"
  },
  "cells": [
    {
      "cell_type": "markdown",
      "metadata": {
        "id": "view-in-github",
        "colab_type": "text"
      },
      "source": [
        "<a href=\"https://colab.research.google.com/github/subhasisj/python-projects/blob/master/Machine%20Learning%20Projects/PySpark%20ML/sentiment_pyspark.ipynb\" target=\"_parent\"><img src=\"https://colab.research.google.com/assets/colab-badge.svg\" alt=\"Open In Colab\"/></a>"
      ]
    },
    {
      "cell_type": "code",
      "metadata": {
        "id": "b1pPlWz69zQh",
        "colab_type": "code",
        "colab": {
          "base_uri": "https://localhost:8080/",
          "height": 523
        },
        "outputId": "d36af622-2807-4c81-b086-7b336425d32f"
      },
      "source": [
        "!apt-get update\n",
        "!apt-get install openjdk-8-jdk-headless -qq > /dev/null\n",
        "!wget -q http://archive.apache.org/dist/spark/spark-2.3.1/spark-2.3.1-bin-hadoop2.7.tgz\n",
        "!tar xf spark-2.3.1-bin-hadoop2.7.tgz\n",
        "!pip install -q findspark"
      ],
      "execution_count": 2,
      "outputs": [
        {
          "output_type": "stream",
          "text": [
            "\r0% [Working]\r            \rGet:1 http://ppa.launchpad.net/graphics-drivers/ppa/ubuntu bionic InRelease [21.3 kB]\n",
            "\r0% [Connecting to archive.ubuntu.com (91.189.88.162)] [Waiting for headers] [Co\r                                                                               \rGet:2 http://security.ubuntu.com/ubuntu bionic-security InRelease [88.7 kB]\n",
            "\r0% [Waiting for headers] [2 InRelease 0 B/88.7 kB 0%] [Connecting to cloud.r-pr\r                                                                               \rHit:3 http://archive.ubuntu.com/ubuntu bionic InRelease\n",
            "\r0% [2 InRelease 88.7 kB/88.7 kB 100%] [Connecting to cloud.r-project.org] [Conn\r                                                                               \rGet:4 http://archive.ubuntu.com/ubuntu bionic-updates InRelease [88.7 kB]\n",
            "\r0% [4 InRelease 37.4 kB/88.7 kB 42%] [Connecting to cloud.r-project.org] [Waiti\r                                                                               \rGet:5 http://ppa.launchpad.net/marutter/c2d4u3.5/ubuntu bionic InRelease [15.4 kB]\n",
            "\r0% [4 InRelease 37.4 kB/88.7 kB 42%] [Connecting to cloud.r-project.org] [Waiti\r0% [4 InRelease 40.3 kB/88.7 kB 45%] [Connecting to cloud.r-project.org] [Waiti\r0% [3 InRelease gpgv 242 kB] [4 InRelease 40.3 kB/88.7 kB 45%] [Connecting to c\r0% [3 InRelease gpgv 242 kB] [Waiting for headers] [Connecting to cloud.r-proje\r                                                                               \rGet:6 http://archive.ubuntu.com/ubuntu bionic-backports InRelease [74.6 kB]\n",
            "\r0% [3 InRelease gpgv 242 kB] [6 InRelease 4,096 B/74.6 kB 5%] [Connecting to cl\r0% [3 InRelease gpgv 242 kB] [Connecting to cloud.r-project.org] [Waiting for h\r                                                                               \rIgn:7 https://developer.download.nvidia.com/compute/cuda/repos/ubuntu1804/x86_64  InRelease\n",
            "\r0% [3 InRelease gpgv 242 kB] [Connected to cloud.r-project.org (143.204.247.105\r                                                                               \rGet:8 https://cloud.r-project.org/bin/linux/ubuntu bionic-cran35/ InRelease [3,626 B]\n",
            "\r                                                                               \r0% [3 InRelease gpgv 242 kB] [Waiting for headers]\r                                                  \r0% [Waiting for headers]\r0% [2 InRelease gpgv 88.7 kB] [Waiting for headers]\r                                                   \rIgn:9 https://developer.download.nvidia.com/compute/machine-learning/repos/ubuntu1804/x86_64  InRelease\n",
            "\r                                                   \r0% [2 InRelease gpgv 88.7 kB]\r                             \rHit:10 https://developer.download.nvidia.com/compute/cuda/repos/ubuntu1804/x86_64  Release\n",
            "\r0% [2 InRelease gpgv 88.7 kB]\r                             \rGet:11 https://developer.download.nvidia.com/compute/machine-learning/repos/ubuntu1804/x86_64  Release [564 B]\n",
            "\r0% [2 InRelease gpgv 88.7 kB] [11 Release 564 B/564 B 100%]\r                                                           \r0% [2 InRelease gpgv 88.7 kB]\r                             \rGet:12 https://developer.download.nvidia.com/compute/machine-learning/repos/ubuntu1804/x86_64  Release.gpg [833 B]\n",
            "\r0% [2 InRelease gpgv 88.7 kB]\r                             \r0% [Working]\r0% [1 InRelease gpgv 21.3 kB] [Waiting for headers]\r                                                   \rGet:13 http://security.ubuntu.com/ubuntu bionic-security/restricted amd64 Packages [19.2 kB]\n",
            "\r0% [1 InRelease gpgv 21.3 kB] [13 Packages 8,481 B/19.2 kB 44%]\r                                                               \r0% [1 InRelease gpgv 21.3 kB]\r0% [13 Packages store 0 B] [1 InRelease gpgv 21.3 kB] [Waiting for headers]\r                                                                           \r0% [1 InRelease gpgv 21.3 kB] [Waiting for headers]\r                                                   \rGet:14 http://security.ubuntu.com/ubuntu bionic-security/universe amd64 Packages [794 kB]\n",
            "\r0% [1 InRelease gpgv 21.3 kB] [14 Packages 8,479 B/794 kB 1%]\r                                                             \r0% [1 InRelease gpgv 21.3 kB]\r0% [14 Packages store 0 B] [1 InRelease gpgv 21.3 kB]\r                                                     \rGet:15 http://security.ubuntu.com/ubuntu bionic-security/multiverse amd64 Packages [6,783 B]\n",
            "\r0% [14 Packages store 0 B] [1 InRelease gpgv 21.3 kB] [15 Packages 0 B/6,783 B \r                                                                               \r0% [14 Packages store 0 B] [1 InRelease gpgv 21.3 kB]\r                                                     \rGet:16 http://security.ubuntu.com/ubuntu bionic-security/main amd64 Packages [760 kB]\n",
            "\r0% [14 Packages store 0 B] [1 InRelease gpgv 21.3 kB] [16 Packages 0 B/760 kB 0\r                                                                               \r0% [14 Packages store 0 B] [1 InRelease gpgv 21.3 kB]\r                                                     \r0% [14 Packages store 1,301 kB]\r                               \r0% [Working]\r0% [5 InRelease gpgv 15.4 kB] [Connecting to ppa.launchpad.net (91.189.95.83)]\r0% [15 Packages store 0 B] [5 InRelease gpgv 15.4 kB] [Connecting to ppa.launch\r                                                                               \r0% [5 InRelease gpgv 15.4 kB] [Connecting to ppa.launchpad.net (91.189.95.83)]\r0% [16 Packages store 0 B] [5 InRelease gpgv 15.4 kB] [Connecting to ppa.launch\r                                                                               \rGet:17 http://ppa.launchpad.net/graphics-drivers/ppa/ubuntu bionic/main amd64 Packages [34.2 kB]\n",
            "\r0% [16 Packages store 0 B] [5 InRelease gpgv 15.4 kB] [17 Packages 14.3 kB/34.2\r                                                                               \r0% [16 Packages store 0 B] [5 InRelease gpgv 15.4 kB]\r                                                     \r0% [5 InRelease gpgv 15.4 kB]\r0% [17 Packages store 0 B] [5 InRelease gpgv 15.4 kB]\r                                                     \r0% [5 InRelease gpgv 15.4 kB]\r                             \r0% [Working]\r0% [4 InRelease gpgv 88.7 kB] [Connecting to ppa.launchpad.net (91.189.95.83)]\r                                                                              \rGet:18 http://ppa.launchpad.net/marutter/c2d4u3.5/ubuntu bionic/main Sources [1,742 kB]\n",
            "\r                                                                              \r0% [4 InRelease gpgv 88.7 kB] [18 Sources 8,474 B/1,742 kB 0%]\r                                                              \r0% [4 InRelease gpgv 88.7 kB]\r0% [18 Sources store 0 B] [4 InRelease gpgv 88.7 kB]\r                                                    \rGet:19 http://ppa.launchpad.net/marutter/c2d4u3.5/ubuntu bionic/main amd64 Packages [840 kB]\n",
            "\r0% [18 Sources store 0 B] [4 InRelease gpgv 88.7 kB] [19 Packages 14.3 kB/840 k\r                                                                               \r0% [18 Sources store 0 B] [19 Packages 96.8 kB/840 kB 12%]\r0% [18 Sources store 0 B] [6 InRelease gpgv 74.6 kB] [Waiting for headers] [19 \r                                                                               \rGet:20 http://archive.ubuntu.com/ubuntu bionic-updates/main amd64 Packages [1,056 kB]\n",
            "\r0% [18 Sources store 0 B] [6 InRelease gpgv 74.6 kB] [20 Packages 12.8 kB/1,056\r0% [18 Sources store 0 B] [6 InRelease gpgv 74.6 kB] [20 Packages 612 kB/1,056 \r                                                                               \r0% [18 Sources store 0 B] [6 InRelease gpgv 74.6 kB]\r                                                    \rGet:21 http://archive.ubuntu.com/ubuntu bionic-updates/restricted amd64 Packages [32.7 kB]\n",
            "\r0% [18 Sources store 0 B] [6 InRelease gpgv 74.6 kB] [21 Packages 24.6 kB/32.7 \r                                                                               \r0% [18 Sources store 0 B] [6 InRelease gpgv 74.6 kB] [Waiting for headers]\r                                                                          \rGet:22 http://archive.ubuntu.com/ubuntu bionic-updates/universe amd64 Packages [1,321 kB]\n",
            "\r0% [18 Sources store 0 B] [6 InRelease gpgv 74.6 kB] [22 Packages 197 kB/1,321 \r                                                                               \r0% [18 Sources store 0 B] [6 InRelease gpgv 74.6 kB]\r                                                    \rGet:23 http://archive.ubuntu.com/ubuntu bionic-updates/multiverse amd64 Packages [10.5 kB]\n",
            "\r0% [18 Sources store 0 B] [6 InRelease gpgv 74.6 kB] [23 Packages 10.5 kB/10.5 \r                                                                               \r0% [18 Sources store 0 B] [6 InRelease gpgv 74.6 kB]\r                                                    \r0% [6 InRelease gpgv 74.6 kB]\r0% [19 Packages store 0 B] [6 InRelease gpgv 74.6 kB]\r                                                     \r0% [6 InRelease gpgv 74.6 kB]\r0% [20 Packages store 0 B] [6 InRelease gpgv 74.6 kB]\r                                                     \r0% [20 Packages store 0 B]\r0% [20 Packages store 0 B] [8 InRelease gpgv 3,626 B] [Waiting for headers]\r                                                                           \rGet:24 http://archive.ubuntu.com/ubuntu bionic-backports/universe amd64 Packages [4,244 B]\n",
            "Get:25 https://cloud.r-project.org/bin/linux/ubuntu bionic-cran35/ Packages [75.1 kB]\n",
            "Get:27 https://developer.download.nvidia.com/compute/machine-learning/repos/ubuntu1804/x86_64  Packages [25.5 kB]\n",
            "Fetched 7,015 kB in 2s (3,723 kB/s)\n",
            "Reading package lists... Done\n"
          ],
          "name": "stdout"
        }
      ]
    },
    {
      "cell_type": "code",
      "metadata": {
        "id": "in8atMT99q6E",
        "colab_type": "code",
        "colab": {
          "base_uri": "https://localhost:8080/",
          "height": 219
        },
        "outputId": "4b027af6-a0a8-400c-eb45-73f564781cb6"
      },
      "source": [
        "import os\n",
        "os.environ[\"JAVA_HOME\"] = \"/usr/lib/jvm/java-8-openjdk-amd64\"\n",
        "os.environ[\"SPARK_HOME\"] = \"/content/spark-2.3.1-bin-hadoop2.7\"\n",
        "\n",
        "import findspark\n",
        "findspark.init()\n",
        "from pyspark import SparkContext\n",
        "sc = SparkContext.getOrCreate()\n",
        "\n",
        "import pyspark\n",
        "from pyspark.sql import SparkSession\n",
        "spark = SparkSession.builder.getOrCreate() \n",
        "spark"
      ],
      "execution_count": 3,
      "outputs": [
        {
          "output_type": "execute_result",
          "data": {
            "text/html": [
              "\n",
              "            <div>\n",
              "                <p><b>SparkSession - in-memory</b></p>\n",
              "                \n",
              "        <div>\n",
              "            <p><b>SparkContext</b></p>\n",
              "\n",
              "            <p><a href=\"http://15dff4f40e67:4040\">Spark UI</a></p>\n",
              "\n",
              "            <dl>\n",
              "              <dt>Version</dt>\n",
              "                <dd><code>v2.3.1</code></dd>\n",
              "              <dt>Master</dt>\n",
              "                <dd><code>local[*]</code></dd>\n",
              "              <dt>AppName</dt>\n",
              "                <dd><code>pyspark-shell</code></dd>\n",
              "            </dl>\n",
              "        </div>\n",
              "        \n",
              "            </div>\n",
              "        "
            ],
            "text/plain": [
              "<pyspark.sql.session.SparkSession at 0x7f7a95f0a080>"
            ]
          },
          "metadata": {
            "tags": []
          },
          "execution_count": 3
        }
      ]
    },
    {
      "cell_type": "code",
      "metadata": {
        "id": "rgyIOa9X9s6u",
        "colab_type": "code",
        "colab": {}
      },
      "source": [
        ""
      ],
      "execution_count": 0,
      "outputs": []
    },
    {
      "cell_type": "code",
      "metadata": {
        "id": "DH97eRzT-One",
        "colab_type": "code",
        "colab": {
          "base_uri": "https://localhost:8080/",
          "height": 104
        },
        "outputId": "f3cf6525-6dea-447d-c9cb-25877be3a759"
      },
      "source": [
        "data = spark.read.csv('clean_tweet.csv',header=True)\n",
        "data.printSchema()"
      ],
      "execution_count": 6,
      "outputs": [
        {
          "output_type": "stream",
          "text": [
            "root\n",
            " |-- _c0: string (nullable = true)\n",
            " |-- text: string (nullable = true)\n",
            " |-- target: string (nullable = true)\n",
            "\n"
          ],
          "name": "stdout"
        }
      ]
    },
    {
      "cell_type": "code",
      "metadata": {
        "id": "kgiTNPmY-5l9",
        "colab_type": "code",
        "colab": {
          "base_uri": "https://localhost:8080/",
          "height": 208
        },
        "outputId": "d1c04856-1b14-42e7-f751-52044784cd86"
      },
      "source": [
        "data.show(5)"
      ],
      "execution_count": 7,
      "outputs": [
        {
          "output_type": "stream",
          "text": [
            "+---+--------------------+------+\n",
            "|_c0|                text|target|\n",
            "+---+--------------------+------+\n",
            "|  0|awww that s a bum...|     0|\n",
            "|  1|is upset that he ...|     0|\n",
            "|  2|i dived many time...|     0|\n",
            "|  3|my whole body fee...|     0|\n",
            "|  4|no it s not behav...|     0|\n",
            "+---+--------------------+------+\n",
            "only showing top 5 rows\n",
            "\n"
          ],
          "name": "stdout"
        }
      ]
    },
    {
      "cell_type": "code",
      "metadata": {
        "id": "ZN1hKHna_VJ2",
        "colab_type": "code",
        "colab": {
          "base_uri": "https://localhost:8080/",
          "height": 35
        },
        "outputId": "d02f6787-0114-40ce-c6df-caeb90dbdac3"
      },
      "source": [
        "data = data.dropna()\n",
        "data.count()"
      ],
      "execution_count": 8,
      "outputs": [
        {
          "output_type": "execute_result",
          "data": {
            "text/plain": [
              "56631"
            ]
          },
          "metadata": {
            "tags": []
          },
          "execution_count": 8
        }
      ]
    },
    {
      "cell_type": "code",
      "metadata": {
        "id": "R3wn8XXf-74h",
        "colab_type": "code",
        "colab": {}
      },
      "source": [
        "from pyspark.sql.functions import isnan, when, count, col\n",
        "from pyspark.sql.types import StructType,StructField,IntegerType\n",
        "from pyspark.ml.feature import CountVectorizer,HashingTF,IDF,Tokenizer,StringIndexer,Imputer\n",
        "\n",
        "from pyspark.ml import Pipeline\n",
        "from pyspark.ml.classification import LogisticRegression,NaiveBayes\n"
      ],
      "execution_count": 0,
      "outputs": []
    },
    {
      "cell_type": "code",
      "metadata": {
        "id": "f3wj-F5g_B2Y",
        "colab_type": "code",
        "colab": {}
      },
      "source": [
        "( train_set ,test_set ,validation_set ) = data.randomSplit([0.8,0.15,0.05],seed = 4)"
      ],
      "execution_count": 0,
      "outputs": []
    },
    {
      "cell_type": "code",
      "metadata": {
        "id": "jfBMmLmO_EkY",
        "colab_type": "code",
        "colab": {
          "base_uri": "https://localhost:8080/",
          "height": 228
        },
        "outputId": "7e299de4-ef7c-44cf-d40c-525d3ad4807b"
      },
      "source": [
        "tokenizer = Tokenizer(inputCol = 'text',outputCol = 'words')\n",
        "\n",
        "hashtf = HashingTF(numFeatures=2**16,inputCol = 'words',outputCol = 'tf')\n",
        "# cv = CountVectorizer(vocabSize=2**16, inputCol=\"words\", outputCol='cv')\n",
        "\n",
        "idf = IDF(inputCol = 'tf', outputCol = 'features' ,minDocFreq =5)\n",
        "\n",
        "label_string_indexer = StringIndexer(inputCol = 'target',outputCol= 'label' )\n",
        "\n",
        "# log_reg = LogisticRegression(maxIter=100)\n",
        "# nb = NaiveBayes()\n",
        "pipeline = Pipeline(stages = [tokenizer,hashtf,idf,label_string_indexer])\n",
        "\n",
        "pipelineFit = pipeline.fit(train_set)\n",
        "train_df = pipelineFit.transform(train_set)\n",
        "validation_set_df = pipelineFit.transform(validation_set)\n",
        "train_df.show(5)"
      ],
      "execution_count": 24,
      "outputs": [
        {
          "output_type": "stream",
          "text": [
            "+----+--------------------+------+--------------------+--------------------+--------------------+-----+\n",
            "| _c0|                text|target|               words|                  tf|            features|label|\n",
            "+----+--------------------+------+--------------------+--------------------+--------------------+-----+\n",
            "|   0|awww that s a bum...|     0|[awww, that, s, a...|(65536,[8436,8847...|(65536,[8436,8847...|  0.0|\n",
            "|   1|is upset that he ...|     0|[is, upset, that,...|(65536,[1444,2071...|(65536,[1444,2071...|  0.0|\n",
            "|  10|spring break in p...|     0|[spring, break, i...|(65536,[20639,207...|(65536,[20639,207...|  0.0|\n",
            "| 100|body of missing n...|     0|[body, of, missin...|(65536,[9639,1302...|(65536,[9639,1302...|  0.0|\n",
            "|1000|tulip um that wou...|     0|[tulip, um, that,...|(65536,[3331,8436...|(65536,[3331,8436...|  0.0|\n",
            "+----+--------------------+------+--------------------+--------------------+--------------------+-----+\n",
            "only showing top 5 rows\n",
            "\n"
          ],
          "name": "stdout"
        }
      ]
    },
    {
      "cell_type": "code",
      "metadata": {
        "id": "4VcQbMio_Goo",
        "colab_type": "code",
        "colab": {}
      },
      "source": [
        "log_reg = LogisticRegression(maxIter=100)\n",
        "log_reg_model=log_reg.fit(train_df)\n",
        "preds = log_reg_model.transform(validation_set_df)"
      ],
      "execution_count": 0,
      "outputs": []
    },
    {
      "cell_type": "code",
      "metadata": {
        "id": "-J-JLRNO_5Vu",
        "colab_type": "code",
        "colab": {
          "base_uri": "https://localhost:8080/",
          "height": 35
        },
        "outputId": "8684775d-959c-45a3-8e09-f3545eb5b30e"
      },
      "source": [
        "from pyspark.ml.evaluation import BinaryClassificationEvaluator\n",
        "\n",
        "evaluator = BinaryClassificationEvaluator(rawPredictionCol=\"rawPrediction\")\n",
        "evaluator.evaluate(preds)"
      ],
      "execution_count": 26,
      "outputs": [
        {
          "output_type": "execute_result",
          "data": {
            "text/plain": [
              "0.0"
            ]
          },
          "metadata": {
            "tags": []
          },
          "execution_count": 26
        }
      ]
    },
    {
      "cell_type": "code",
      "metadata": {
        "id": "qhqoEMplAMAZ",
        "colab_type": "code",
        "colab": {
          "base_uri": "https://localhost:8080/",
          "height": 35
        },
        "outputId": "54b6541f-bfe7-4dc9-eccf-0024b82adb29"
      },
      "source": [
        "accuracy = preds.filter(preds.label == preds.prediction).count() / float(validation_set.count())\n",
        "accuracy"
      ],
      "execution_count": 27,
      "outputs": [
        {
          "output_type": "execute_result",
          "data": {
            "text/plain": [
              "1.0"
            ]
          },
          "metadata": {
            "tags": []
          },
          "execution_count": 27
        }
      ]
    },
    {
      "cell_type": "code",
      "metadata": {
        "id": "Xz0hOBm4AwDs",
        "colab_type": "code",
        "colab": {
          "base_uri": "https://localhost:8080/",
          "height": 35
        },
        "outputId": "d62fb526-cb98-45be-f04f-7d653a7bcfa4"
      },
      "source": [
        "evaluator.getMetricName()\n"
      ],
      "execution_count": 28,
      "outputs": [
        {
          "output_type": "execute_result",
          "data": {
            "text/plain": [
              "'areaUnderROC'"
            ]
          },
          "metadata": {
            "tags": []
          },
          "execution_count": 28
        }
      ]
    },
    {
      "cell_type": "code",
      "metadata": {
        "id": "smokg3myA5no",
        "colab_type": "code",
        "colab": {
          "base_uri": "https://localhost:8080/",
          "height": 104
        },
        "outputId": "c9e297d5-278d-4455-d1b9-1dbf1714113b"
      },
      "source": [
        "validation_set_df.select(validation_set_df.label).filter('label == 1.0').show()"
      ],
      "execution_count": 29,
      "outputs": [
        {
          "output_type": "stream",
          "text": [
            "+-----+\n",
            "|label|\n",
            "+-----+\n",
            "+-----+\n",
            "\n"
          ],
          "name": "stdout"
        }
      ]
    },
    {
      "cell_type": "code",
      "metadata": {
        "id": "4qzs5Yx8BMNf",
        "colab_type": "code",
        "colab": {}
      },
      "source": [
        ""
      ],
      "execution_count": 0,
      "outputs": []
    }
  ]
}