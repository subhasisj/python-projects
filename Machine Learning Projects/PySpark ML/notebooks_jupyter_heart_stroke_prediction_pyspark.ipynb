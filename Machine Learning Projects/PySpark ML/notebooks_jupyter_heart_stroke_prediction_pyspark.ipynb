{
 "cells": [
  {
   "cell_type": "markdown",
   "metadata": {},
   "source": [
    "## Heart Stroke Prediction using Pyspark in Google Cloud Platform"
   ]
  },
  {
   "cell_type": "markdown",
   "metadata": {},
   "source": [
    "As a preliminary step , I created Clusters using Google DataProc and activated JupyterLab and Anaconda as Components "
   ]
  },
  {
   "cell_type": "code",
   "execution_count": 1,
   "metadata": {},
   "outputs": [],
   "source": [
    "from pyspark.context import SparkContext\n",
    "from pyspark.sql.session import SparkSession\n",
    "\n",
    "from pyspark.sql import SQLContext\n",
    "from pyspark.sql import DataFrameNaFunctions\n",
    "\n",
    "from pyspark.ml import Pipeline\n",
    "from pyspark.ml.feature import StringIndexer,Binarizer,VectorAssembler\n",
    "from pyspark.sql.types import StructType ,StructField,IntegerType,DoubleType\n",
    "\n",
    "from pyspark.ml.classification import LogisticRegression,NaiveBayes,RandomForestClassifier\n",
    "\n",
    "import pandas as pd\n",
    "import numpy as np\n",
    "\n",
    "from sklearn.model_selection import train_test_split\n",
    "from imblearn.over_sampling import SMOTE\n",
    "\n",
    "import matplotlib.pyplot as plt\n",
    "%matplotlib inline\n",
    "\n",
    "import warnings\n",
    "warnings.filterwarnings('ignore')"
   ]
  },
  {
   "cell_type": "markdown",
   "metadata": {},
   "source": [
    "#### Create a Spark Session"
   ]
  },
  {
   "cell_type": "code",
   "execution_count": 2,
   "metadata": {},
   "outputs": [],
   "source": [
    "sc = SparkContext.getOrCreate()"
   ]
  },
  {
   "cell_type": "code",
   "execution_count": 3,
   "metadata": {},
   "outputs": [
    {
     "data": {
      "text/html": [
       "\n",
       "        <div>\n",
       "            <p><b>SparkContext</b></p>\n",
       "\n",
       "            <p><a href=\"http://cluster-test-m.us-central1-b.c.erudite-justice-262817.internal:4040\">Spark UI</a></p>\n",
       "\n",
       "            <dl>\n",
       "              <dt>Version</dt>\n",
       "                <dd><code>v2.4.4</code></dd>\n",
       "              <dt>Master</dt>\n",
       "                <dd><code>yarn</code></dd>\n",
       "              <dt>AppName</dt>\n",
       "                <dd><code>PySparkShell</code></dd>\n",
       "            </dl>\n",
       "        </div>\n",
       "        "
      ],
      "text/plain": [
       "<SparkContext master=yarn appName=PySparkShell>"
      ]
     },
     "execution_count": 3,
     "metadata": {},
     "output_type": "execute_result"
    }
   ],
   "source": [
    "sc"
   ]
  },
  {
   "cell_type": "code",
   "execution_count": 4,
   "metadata": {},
   "outputs": [],
   "source": [
    "spark = SparkSession(sc)"
   ]
  },
  {
   "cell_type": "code",
   "execution_count": 5,
   "metadata": {},
   "outputs": [
    {
     "name": "stdout",
     "output_type": "stream",
     "text": [
      "+-----+------+---+------------+-------------+------------+-------------+--------------+-----------------+----+---------------+------+\n",
      "|   id|gender|age|hypertension|heart_disease|ever_married|    work_type|Residence_type|avg_glucose_level| bmi| smoking_status|stroke|\n",
      "+-----+------+---+------------+-------------+------------+-------------+--------------+-----------------+----+---------------+------+\n",
      "|30669|  Male|  3|           0|            0|          No|     children|         Rural|            95.12|  18|           null|     0|\n",
      "|30468|  Male| 58|           1|            0|         Yes|      Private|         Urban|            87.96|39.2|   never smoked|     0|\n",
      "|16523|Female|  8|           0|            0|          No|      Private|         Urban|           110.89|17.6|           null|     0|\n",
      "|56543|Female| 70|           0|            0|         Yes|      Private|         Rural|            69.04|35.9|formerly smoked|     0|\n",
      "|46136|  Male| 14|           0|            0|          No| Never_worked|         Rural|           161.28|19.1|           null|     0|\n",
      "|32257|Female| 47|           0|            0|         Yes|      Private|         Urban|           210.95|50.1|           null|     0|\n",
      "|52800|Female| 52|           0|            0|         Yes|      Private|         Urban|            77.59|17.7|formerly smoked|     0|\n",
      "|41413|Female| 75|           0|            1|         Yes|Self-employed|         Rural|           243.53|  27|   never smoked|     0|\n",
      "|15266|Female| 32|           0|            0|         Yes|      Private|         Rural|            77.67|32.3|         smokes|     0|\n",
      "|28674|Female| 74|           1|            0|         Yes|Self-employed|         Urban|           205.84|54.6|   never smoked|     0|\n",
      "|10460|Female| 79|           0|            0|         Yes|     Govt_job|         Urban|            77.08|  35|           null|     0|\n",
      "|64908|  Male| 79|           0|            1|         Yes|      Private|         Urban|            57.08|  22|formerly smoked|     0|\n",
      "|63884|Female| 37|           0|            0|         Yes|      Private|         Rural|           162.96|39.4|   never smoked|     0|\n",
      "|37893|Female| 37|           0|            0|         Yes|      Private|         Rural|             73.5|26.1|formerly smoked|     0|\n",
      "|67855|Female| 40|           0|            0|         Yes|      Private|         Rural|            95.04|42.4|   never smoked|     0|\n",
      "|25774|  Male| 35|           0|            0|          No|      Private|         Rural|            85.37|  33|   never smoked|     0|\n",
      "|19584|Female| 20|           0|            0|          No|      Private|         Urban|            84.62|19.7|         smokes|     0|\n",
      "|24447|Female| 42|           0|            0|         Yes|      Private|         Rural|            82.67|22.5|   never smoked|     0|\n",
      "|49589|Female| 44|           0|            0|         Yes|     Govt_job|         Urban|            57.33|24.6|         smokes|     0|\n",
      "|17986|Female| 79|           0|            1|         Yes|Self-employed|         Urban|            67.84|25.2|         smokes|     0|\n",
      "+-----+------+---+------------+-------------+------------+-------------+--------------+-----------------+----+---------------+------+\n",
      "only showing top 20 rows\n",
      "\n"
     ]
    }
   ],
   "source": [
    "df = spark.read.csv('gs://stroke-dataset/train_2v.csv',header = True)\n",
    "df.show()"
   ]
  },
  {
   "cell_type": "code",
   "execution_count": 6,
   "metadata": {},
   "outputs": [
    {
     "name": "stdout",
     "output_type": "stream",
     "text": [
      "root\n",
      " |-- id: string (nullable = true)\n",
      " |-- gender: string (nullable = true)\n",
      " |-- age: string (nullable = true)\n",
      " |-- hypertension: string (nullable = true)\n",
      " |-- heart_disease: string (nullable = true)\n",
      " |-- ever_married: string (nullable = true)\n",
      " |-- work_type: string (nullable = true)\n",
      " |-- Residence_type: string (nullable = true)\n",
      " |-- avg_glucose_level: string (nullable = true)\n",
      " |-- bmi: string (nullable = true)\n",
      " |-- smoking_status: string (nullable = true)\n",
      " |-- stroke: string (nullable = true)\n",
      "\n"
     ]
    }
   ],
   "source": [
    "df.printSchema()"
   ]
  },
  {
   "cell_type": "code",
   "execution_count": 7,
   "metadata": {},
   "outputs": [],
   "source": [
    "# def cast_datatypes(df):\n",
    "df = df.withColumn('stroke',df['stroke'].cast(IntegerType()))\n",
    "#     df = df.withColumn('gender',df['gender'].cast(IntegerType()))\n",
    "#     df = df.withColumn('age',df['age'].cast(IntegerType()))\n",
    "#     df = df.withColumn('hypertension',df['hypertension'].cast(IntegerType()))\n",
    "#     df = df.withColumn('avg_glucose_level',df['avg_glucose_level'].cast(IntegerType()))\n",
    "#     df = df.withColumn('bmi',df['bmi'].cast(IntegerType()))    \n",
    "#     return df\n",
    "# df = cast_datatypes(df)\n",
    "# df.printSchema()"
   ]
  },
  {
   "cell_type": "code",
   "execution_count": 8,
   "metadata": {},
   "outputs": [
    {
     "name": "stdout",
     "output_type": "stream",
     "text": [
      "[1, 0]\n",
      "[783, 42617]\n",
      "[Row(stroke=1, count=783), Row(stroke=0, count=42617)]\n"
     ]
    }
   ],
   "source": [
    "balance = df.groupby('stroke').count().collect()\n",
    "categories = [category[0] for category in balance]\n",
    "counts  = [count[1] for count in balance]\n",
    "print(categories)\n",
    "print(counts)\n",
    "print(balance)"
   ]
  },
  {
   "cell_type": "markdown",
   "metadata": {},
   "source": [
    "#### Check the balance of the dataset"
   ]
  },
  {
   "cell_type": "code",
   "execution_count": 9,
   "metadata": {},
   "outputs": [],
   "source": [
    "def check_dataset_balance(df):\n",
    "    balance = df.groupby('stroke').count().collect()\n",
    "    categories = [row[0] for row in balance]\n",
    "    counts  = [row[1] for row in balance]\n",
    "    ind = np.array(range(len(categories)))\n",
    "    ind[:] = ind[::-1]\n",
    "    width = 0.35\n",
    "    plt.bar(ind, counts, width=width, color='r')\n",
    "\n",
    "    plt.ylabel('counts')\n",
    "    plt.title('Stroke')\n",
    "    plt.xticks(ind)"
   ]
  },
  {
   "cell_type": "code",
   "execution_count": 10,
   "metadata": {},
   "outputs": [
    {
     "data": {
      "image/png": "[encoded data removed]",
      "text/plain": [
       "<Figure size 432x288 with 1 Axes>"
      ]
     },
     "metadata": {
      "needs_background": "light"
     },
     "output_type": "display_data"
    }
   ],
   "source": [
    "check_dataset_balance(df)"
   ]
  },
  {
   "cell_type": "markdown",
   "metadata": {},
   "source": [
    "As we can see the dataset is highly imbalanced, I will try to oversample the class label __'1'__ using SMOTE"
   ]
  },
  {
   "cell_type": "code",
   "execution_count": 11,
   "metadata": {},
   "outputs": [
    {
     "name": "stdout",
     "output_type": "stream",
     "text": [
      "+---------------+\n",
      "| smoking_status|\n",
      "+---------------+\n",
      "|           null|\n",
      "|         smokes|\n",
      "|   never smoked|\n",
      "|formerly smoked|\n",
      "+---------------+\n",
      "\n"
     ]
    }
   ],
   "source": [
    "df.select(\"smoking_status\").distinct().show()"
   ]
  },
  {
   "cell_type": "code",
   "execution_count": 12,
   "metadata": {},
   "outputs": [
    {
     "data": {
      "text/plain": [
       "43400"
      ]
     },
     "execution_count": 12,
     "metadata": {},
     "output_type": "execute_result"
    }
   ],
   "source": [
    "df.count()"
   ]
  },
  {
   "cell_type": "code",
   "execution_count": 13,
   "metadata": {},
   "outputs": [
    {
     "data": {
      "text/plain": [
       "29072"
      ]
     },
     "execution_count": 13,
     "metadata": {},
     "output_type": "execute_result"
    }
   ],
   "source": [
    "df = df.dropna()\n",
    "df.count()"
   ]
  },
  {
   "cell_type": "code",
   "execution_count": 14,
   "metadata": {},
   "outputs": [],
   "source": [
    "df = df.withColumn('age',df['age'].cast(IntegerType()))\n",
    "df = df.withColumn('hypertension',df['hypertension'].cast(IntegerType()))\n",
    "df = df.withColumn('avg_glucose_level',df['avg_glucose_level'].cast(IntegerType()))\n",
    "df = df.withColumn('heart_disease',df['heart_disease'].cast(IntegerType()))\n",
    "df = df.withColumn('bmi',df['bmi'].cast(IntegerType()))    "
   ]
  },
  {
   "cell_type": "markdown",
   "metadata": {},
   "source": [
    "Checking the balance after removing NaN values"
   ]
  },
  {
   "cell_type": "code",
   "execution_count": 15,
   "metadata": {},
   "outputs": [],
   "source": [
    "# smoke_indexer = StringIndexer(inputCol='smoking_status',outputCol='smoking_status_category')\n",
    "# gender_indexer = StringIndexer(inputCol='gender',outputCol='gender_category')\n",
    "# featureColumns = ['age','hypertension','heart_disease','avg_glucose_level','bmi','smoking_status_category','gender_category']\n"
   ]
  },
  {
   "cell_type": "markdown",
   "metadata": {},
   "source": [
    "#### Oversampling using SMOTE"
   ]
  },
  {
   "cell_type": "code",
   "execution_count": 16,
   "metadata": {},
   "outputs": [],
   "source": [
    "# Filter features and Labels"
   ]
  },
  {
   "cell_type": "code",
   "execution_count": 17,
   "metadata": {},
   "outputs": [
    {
     "name": "stdout",
     "output_type": "stream",
     "text": [
      "+-----+------+---+------------+-------------+------------+-------------+--------------+-----------------+---+------+-----------------------+\n",
      "|   id|gender|age|hypertension|heart_disease|ever_married|    work_type|Residence_type|avg_glucose_level|bmi|stroke|smoking_status_category|\n",
      "+-----+------+---+------------+-------------+------------+-------------+--------------+-----------------+---+------+-----------------------+\n",
      "|30468|  Male| 58|           1|            0|         Yes|      Private|         Urban|               87| 39|     0|                    0.0|\n",
      "|56543|Female| 70|           0|            0|         Yes|      Private|         Rural|               69| 35|     0|                    1.0|\n",
      "|52800|Female| 52|           0|            0|         Yes|      Private|         Urban|               77| 17|     0|                    1.0|\n",
      "|41413|Female| 75|           0|            1|         Yes|Self-employed|         Rural|              243| 27|     0|                    0.0|\n",
      "|15266|Female| 32|           0|            0|         Yes|      Private|         Rural|               77| 32|     0|                    2.0|\n",
      "|28674|Female| 74|           1|            0|         Yes|Self-employed|         Urban|              205| 54|     0|                    0.0|\n",
      "|64908|  Male| 79|           0|            1|         Yes|      Private|         Urban|               57| 22|     0|                    1.0|\n",
      "|63884|Female| 37|           0|            0|         Yes|      Private|         Rural|              162| 39|     0|                    0.0|\n",
      "|37893|Female| 37|           0|            0|         Yes|      Private|         Rural|               73| 26|     0|                    1.0|\n",
      "|67855|Female| 40|           0|            0|         Yes|      Private|         Rural|               95| 42|     0|                    0.0|\n",
      "|25774|  Male| 35|           0|            0|          No|      Private|         Rural|               85| 33|     0|                    0.0|\n",
      "|19584|Female| 20|           0|            0|          No|      Private|         Urban|               84| 19|     0|                    2.0|\n",
      "|24447|Female| 42|           0|            0|         Yes|      Private|         Rural|               82| 22|     0|                    0.0|\n",
      "|49589|Female| 44|           0|            0|         Yes|     Govt_job|         Urban|               57| 24|     0|                    2.0|\n",
      "|17986|Female| 79|           0|            1|         Yes|Self-employed|         Urban|               67| 25|     0|                    2.0|\n",
      "|72911|Female| 57|           1|            0|         Yes|      Private|         Rural|              129| 60|     0|                    2.0|\n",
      "|47175|Female| 49|           0|            0|         Yes|      Private|         Rural|               60| 31|     0|                    2.0|\n",
      "| 4057|  Male| 71|           0|            0|         Yes|      Private|         Urban|              198| 27|     0|                    1.0|\n",
      "|48588|Female| 59|           0|            0|         Yes|      Private|         Urban|              109| 23|     0|                    0.0|\n",
      "|70336|Female| 25|           0|            0|         Yes|      Private|         Urban|               60| 24|     0|                    0.0|\n",
      "+-----+------+---+------------+-------------+------------+-------------+--------------+-----------------+---+------+-----------------------+\n",
      "only showing top 20 rows\n",
      "\n"
     ]
    }
   ],
   "source": [
    "smoke_indexer = StringIndexer(inputCol='smoking_status',outputCol='smoking_status_category')\n",
    "smoke_indexed = smoke_indexer.fit(df).transform(df)\n",
    "smoke_indexed = smoke_indexed.drop('smoking_status')\n",
    "smoke_indexed.show()"
   ]
  },
  {
   "cell_type": "code",
   "execution_count": 18,
   "metadata": {},
   "outputs": [
    {
     "name": "stdout",
     "output_type": "stream",
     "text": [
      "+-----+---+------------+-------------+------------+-------------+--------------+-----------------+---+------+-----------------------+---------------+\n",
      "|   id|age|hypertension|heart_disease|ever_married|    work_type|Residence_type|avg_glucose_level|bmi|stroke|smoking_status_category|gender_category|\n",
      "+-----+---+------------+-------------+------------+-------------+--------------+-----------------+---+------+-----------------------+---------------+\n",
      "|30468| 58|           1|            0|         Yes|      Private|         Urban|               87| 39|     0|                    0.0|            1.0|\n",
      "|56543| 70|           0|            0|         Yes|      Private|         Rural|               69| 35|     0|                    1.0|            0.0|\n",
      "|52800| 52|           0|            0|         Yes|      Private|         Urban|               77| 17|     0|                    1.0|            0.0|\n",
      "|41413| 75|           0|            1|         Yes|Self-employed|         Rural|              243| 27|     0|                    0.0|            0.0|\n",
      "|15266| 32|           0|            0|         Yes|      Private|         Rural|               77| 32|     0|                    2.0|            0.0|\n",
      "|28674| 74|           1|            0|         Yes|Self-employed|         Urban|              205| 54|     0|                    0.0|            0.0|\n",
      "|64908| 79|           0|            1|         Yes|      Private|         Urban|               57| 22|     0|                    1.0|            1.0|\n",
      "|63884| 37|           0|            0|         Yes|      Private|         Rural|              162| 39|     0|                    0.0|            0.0|\n",
      "|37893| 37|           0|            0|         Yes|      Private|         Rural|               73| 26|     0|                    1.0|            0.0|\n",
      "|67855| 40|           0|            0|         Yes|      Private|         Rural|               95| 42|     0|                    0.0|            0.0|\n",
      "|25774| 35|           0|            0|          No|      Private|         Rural|               85| 33|     0|                    0.0|            1.0|\n",
      "|19584| 20|           0|            0|          No|      Private|         Urban|               84| 19|     0|                    2.0|            0.0|\n",
      "|24447| 42|           0|            0|         Yes|      Private|         Rural|               82| 22|     0|                    0.0|            0.0|\n",
      "|49589| 44|           0|            0|         Yes|     Govt_job|         Urban|               57| 24|     0|                    2.0|            0.0|\n",
      "|17986| 79|           0|            1|         Yes|Self-employed|         Urban|               67| 25|     0|                    2.0|            0.0|\n",
      "|72911| 57|           1|            0|         Yes|      Private|         Rural|              129| 60|     0|                    2.0|            0.0|\n",
      "|47175| 49|           0|            0|         Yes|      Private|         Rural|               60| 31|     0|                    2.0|            0.0|\n",
      "| 4057| 71|           0|            0|         Yes|      Private|         Urban|              198| 27|     0|                    1.0|            1.0|\n",
      "|48588| 59|           0|            0|         Yes|      Private|         Urban|              109| 23|     0|                    0.0|            0.0|\n",
      "|70336| 25|           0|            0|         Yes|      Private|         Urban|               60| 24|     0|                    0.0|            0.0|\n",
      "+-----+---+------------+-------------+------------+-------------+--------------+-----------------+---+------+-----------------------+---------------+\n",
      "only showing top 20 rows\n",
      "\n"
     ]
    }
   ],
   "source": [
    "gender_indexer = StringIndexer(inputCol='gender',outputCol='gender_category')\n",
    "gender_indexed = gender_indexer.fit(smoke_indexed).transform(smoke_indexed)\n",
    "gender_indexed = gender_indexed.drop('gender')\n",
    "gender_indexed.show()"
   ]
  },
  {
   "cell_type": "code",
   "execution_count": 19,
   "metadata": {},
   "outputs": [],
   "source": [
    "featureColumns = ['age','hypertension','heart_disease','avg_glucose_level','bmi','smoking_status_category','gender_category']"
   ]
  },
  {
   "cell_type": "code",
   "execution_count": 20,
   "metadata": {},
   "outputs": [],
   "source": [
    "X = gender_indexed.toPandas().filter(items = featureColumns)\n",
    "y = gender_indexed.toPandas().filter(items = ['stroke'])"
   ]
  },
  {
   "cell_type": "code",
   "execution_count": 21,
   "metadata": {},
   "outputs": [
    {
     "data": {
      "text/plain": [
       "((29072, 7), (29072, 1))"
      ]
     },
     "execution_count": 21,
     "metadata": {},
     "output_type": "execute_result"
    }
   ],
   "source": [
    "X.shape ,y.shape"
   ]
  },
  {
   "cell_type": "code",
   "execution_count": 22,
   "metadata": {},
   "outputs": [
    {
     "name": "stdout",
     "output_type": "stream",
     "text": [
      "Labels :  [0 1]\n"
     ]
    }
   ],
   "source": [
    "print('Labels : ',np.unique(y))"
   ]
  },
  {
   "cell_type": "code",
   "execution_count": 23,
   "metadata": {},
   "outputs": [],
   "source": [
    "X_train,X_test ,y_train,y_test = train_test_split(X,y,test_size = 0.1,random_state = 0)"
   ]
  },
  {
   "cell_type": "code",
   "execution_count": 24,
   "metadata": {},
   "outputs": [],
   "source": [
    "sm = SMOTE(random_state=12)\n",
    "X_train_resampled ,y_train_resampled = sm.fit_sample(X_train,y_train.values.ravel())"
   ]
  },
  {
   "cell_type": "markdown",
   "metadata": {},
   "source": [
    "#### Combine both resampled dataframes to create a new Spark Dataframe"
   ]
  },
  {
   "cell_type": "code",
   "execution_count": 25,
   "metadata": {},
   "outputs": [],
   "source": [
    "X_train_resampled = pd.DataFrame(X_train_resampled,columns=featureColumns)\n",
    "y_train_resampled = pd.DataFrame(y_train_resampled,columns=['stroke'])\n",
    "resampled = pd.concat([X_train_resampled,y_train_resampled],axis =1)"
   ]
  },
  {
   "cell_type": "code",
   "execution_count": 26,
   "metadata": {},
   "outputs": [
    {
     "data": {
      "text/html": [
       "<div>\n",
       "<style scoped>\n",
       "    .dataframe tbody tr th:only-of-type {\n",
       "        vertical-align: middle;\n",
       "    }\n",
       "\n",
       "    .dataframe tbody tr th {\n",
       "        vertical-align: top;\n",
       "    }\n",
       "\n",
       "    .dataframe thead th {\n",
       "        text-align: right;\n",
       "    }\n",
       "</style>\n",
       "<table border=\"1\" class=\"dataframe\">\n",
       "  <thead>\n",
       "    <tr style=\"text-align: right;\">\n",
       "      <th></th>\n",
       "      <th>age</th>\n",
       "      <th>hypertension</th>\n",
       "      <th>heart_disease</th>\n",
       "      <th>avg_glucose_level</th>\n",
       "      <th>bmi</th>\n",
       "      <th>smoking_status_category</th>\n",
       "      <th>gender_category</th>\n",
       "      <th>stroke</th>\n",
       "    </tr>\n",
       "  </thead>\n",
       "  <tbody>\n",
       "    <tr>\n",
       "      <th>0</th>\n",
       "      <td>67</td>\n",
       "      <td>1</td>\n",
       "      <td>0</td>\n",
       "      <td>75</td>\n",
       "      <td>21</td>\n",
       "      <td>1.0</td>\n",
       "      <td>0.0</td>\n",
       "      <td>0</td>\n",
       "    </tr>\n",
       "    <tr>\n",
       "      <th>1</th>\n",
       "      <td>24</td>\n",
       "      <td>0</td>\n",
       "      <td>0</td>\n",
       "      <td>142</td>\n",
       "      <td>29</td>\n",
       "      <td>0.0</td>\n",
       "      <td>0.0</td>\n",
       "      <td>0</td>\n",
       "    </tr>\n",
       "    <tr>\n",
       "      <th>2</th>\n",
       "      <td>52</td>\n",
       "      <td>0</td>\n",
       "      <td>0</td>\n",
       "      <td>82</td>\n",
       "      <td>23</td>\n",
       "      <td>0.0</td>\n",
       "      <td>0.0</td>\n",
       "      <td>0</td>\n",
       "    </tr>\n",
       "    <tr>\n",
       "      <th>3</th>\n",
       "      <td>78</td>\n",
       "      <td>0</td>\n",
       "      <td>1</td>\n",
       "      <td>81</td>\n",
       "      <td>30</td>\n",
       "      <td>2.0</td>\n",
       "      <td>1.0</td>\n",
       "      <td>0</td>\n",
       "    </tr>\n",
       "    <tr>\n",
       "      <th>4</th>\n",
       "      <td>49</td>\n",
       "      <td>0</td>\n",
       "      <td>0</td>\n",
       "      <td>104</td>\n",
       "      <td>24</td>\n",
       "      <td>0.0</td>\n",
       "      <td>1.0</td>\n",
       "      <td>0</td>\n",
       "    </tr>\n",
       "  </tbody>\n",
       "</table>\n",
       "</div>"
      ],
      "text/plain": [
       "   age  hypertension  heart_disease  avg_glucose_level  bmi  \\\n",
       "0   67             1              0                 75   21   \n",
       "1   24             0              0                142   29   \n",
       "2   52             0              0                 82   23   \n",
       "3   78             0              1                 81   30   \n",
       "4   49             0              0                104   24   \n",
       "\n",
       "   smoking_status_category  gender_category  stroke  \n",
       "0                      1.0              0.0       0  \n",
       "1                      0.0              0.0       0  \n",
       "2                      0.0              0.0       0  \n",
       "3                      2.0              1.0       0  \n",
       "4                      0.0              1.0       0  "
      ]
     },
     "execution_count": 26,
     "metadata": {},
     "output_type": "execute_result"
    }
   ],
   "source": [
    "resampled.head()"
   ]
  },
  {
   "cell_type": "code",
   "execution_count": 27,
   "metadata": {},
   "outputs": [
    {
     "name": "stdout",
     "output_type": "stream",
     "text": [
      "+---+------------+-------------+-----------------+---+-----------------------+---------------+------+\n",
      "|age|hypertension|heart_disease|avg_glucose_level|bmi|smoking_status_category|gender_category|stroke|\n",
      "+---+------------+-------------+-----------------+---+-----------------------+---------------+------+\n",
      "| 67|           1|            0|               75| 21|                    1.0|            0.0|     0|\n",
      "| 24|           0|            0|              142| 29|                    0.0|            0.0|     0|\n",
      "| 52|           0|            0|               82| 23|                    0.0|            0.0|     0|\n",
      "| 78|           0|            1|               81| 30|                    2.0|            1.0|     0|\n",
      "| 49|           0|            0|              104| 24|                    0.0|            1.0|     0|\n",
      "+---+------------+-------------+-----------------+---+-----------------------+---------------+------+\n",
      "only showing top 5 rows\n",
      "\n"
     ]
    }
   ],
   "source": [
    "spark_df = spark.createDataFrame(resampled)\n",
    "spark_df.show(5)"
   ]
  },
  {
   "cell_type": "code",
   "execution_count": 28,
   "metadata": {},
   "outputs": [
    {
     "data": {
      "image/png": "[encoded data removed]",
      "text/plain": [
       "<Figure size 432x288 with 1 Axes>"
      ]
     },
     "metadata": {
      "needs_background": "light"
     },
     "output_type": "display_data"
    }
   ],
   "source": [
    "check_dataset_balance(spark_df)"
   ]
  },
  {
   "cell_type": "markdown",
   "metadata": {},
   "source": [
    "#### We have successfully oversampled the class distribution"
   ]
  },
  {
   "cell_type": "code",
   "execution_count": 29,
   "metadata": {},
   "outputs": [
    {
     "name": "stdout",
     "output_type": "stream",
     "text": [
      "root\n",
      " |-- age: long (nullable = true)\n",
      " |-- hypertension: long (nullable = true)\n",
      " |-- heart_disease: long (nullable = true)\n",
      " |-- avg_glucose_level: long (nullable = true)\n",
      " |-- bmi: long (nullable = true)\n",
      " |-- smoking_status_category: double (nullable = true)\n",
      " |-- gender_category: double (nullable = true)\n",
      " |-- stroke: long (nullable = true)\n",
      "\n"
     ]
    }
   ],
   "source": [
    "spark_df.printSchema()"
   ]
  },
  {
   "cell_type": "code",
   "execution_count": 30,
   "metadata": {},
   "outputs": [],
   "source": [
    "spark_df = spark_df.withColumn('stroke',spark_df['stroke'].cast(DoubleType()))\n",
    "binarizer = Binarizer(inputCol='stroke',outputCol='label')\n",
    "binarizer_df = binarizer.transform(spark_df)"
   ]
  },
  {
   "cell_type": "code",
   "execution_count": 31,
   "metadata": {},
   "outputs": [
    {
     "name": "stdout",
     "output_type": "stream",
     "text": [
      "+---+------------+-------------+-----------------+---+-----------------------+---------------+------+-----+\n",
      "|age|hypertension|heart_disease|avg_glucose_level|bmi|smoking_status_category|gender_category|stroke|label|\n",
      "+---+------------+-------------+-----------------+---+-----------------------+---------------+------+-----+\n",
      "| 67|           1|            0|               75| 21|                    1.0|            0.0|   0.0|  0.0|\n",
      "| 24|           0|            0|              142| 29|                    0.0|            0.0|   0.0|  0.0|\n",
      "| 52|           0|            0|               82| 23|                    0.0|            0.0|   0.0|  0.0|\n",
      "| 78|           0|            1|               81| 30|                    2.0|            1.0|   0.0|  0.0|\n",
      "| 49|           0|            0|              104| 24|                    0.0|            1.0|   0.0|  0.0|\n",
      "| 14|           0|            0|               65| 19|                    0.0|            1.0|   0.0|  0.0|\n",
      "| 44|           0|            0|               91| 24|                    0.0|            0.0|   0.0|  0.0|\n",
      "| 39|           0|            0|               60| 20|                    0.0|            0.0|   0.0|  0.0|\n",
      "| 34|           0|            0|               94| 22|                    0.0|            0.0|   0.0|  0.0|\n",
      "| 76|           0|            0|               83| 28|                    0.0|            0.0|   0.0|  0.0|\n",
      "| 72|           0|            0|               90| 28|                    2.0|            1.0|   0.0|  0.0|\n",
      "| 76|           0|            0|              216| 30|                    0.0|            1.0|   0.0|  0.0|\n",
      "| 25|           0|            0|               95| 24|                    2.0|            0.0|   0.0|  0.0|\n",
      "| 62|           0|            0|              114| 31|                    1.0|            0.0|   0.0|  0.0|\n",
      "| 67|           0|            0|               64| 38|                    0.0|            1.0|   0.0|  0.0|\n",
      "| 34|           0|            0|               85| 52|                    0.0|            0.0|   0.0|  0.0|\n",
      "| 44|           1|            0|              183| 44|                    0.0|            0.0|   0.0|  0.0|\n",
      "| 45|           0|            0|              115| 25|                    0.0|            0.0|   0.0|  0.0|\n",
      "| 60|           0|            0|               56| 19|                    0.0|            0.0|   0.0|  0.0|\n",
      "| 33|           0|            0|              106| 25|                    0.0|            1.0|   0.0|  0.0|\n",
      "+---+------------+-------------+-----------------+---+-----------------------+---------------+------+-----+\n",
      "only showing top 20 rows\n",
      "\n"
     ]
    }
   ],
   "source": [
    "binarizer_df.show()"
   ]
  },
  {
   "cell_type": "code",
   "execution_count": 32,
   "metadata": {},
   "outputs": [
    {
     "name": "stdout",
     "output_type": "stream",
     "text": [
      "+---+------------+-------------+-----------------+---+-----------------------+---------------+------+-----+--------------------+\n",
      "|age|hypertension|heart_disease|avg_glucose_level|bmi|smoking_status_category|gender_category|stroke|label|            features|\n",
      "+---+------------+-------------+-----------------+---+-----------------------+---------------+------+-----+--------------------+\n",
      "| 67|           1|            0|               75| 21|                    1.0|            0.0|   0.0|  0.0|[67.0,1.0,0.0,75....|\n",
      "| 24|           0|            0|              142| 29|                    0.0|            0.0|   0.0|  0.0|(7,[0,3,4],[24.0,...|\n",
      "| 52|           0|            0|               82| 23|                    0.0|            0.0|   0.0|  0.0|(7,[0,3,4],[52.0,...|\n",
      "| 78|           0|            1|               81| 30|                    2.0|            1.0|   0.0|  0.0|[78.0,0.0,1.0,81....|\n",
      "| 49|           0|            0|              104| 24|                    0.0|            1.0|   0.0|  0.0|[49.0,0.0,0.0,104...|\n",
      "| 14|           0|            0|               65| 19|                    0.0|            1.0|   0.0|  0.0|[14.0,0.0,0.0,65....|\n",
      "| 44|           0|            0|               91| 24|                    0.0|            0.0|   0.0|  0.0|(7,[0,3,4],[44.0,...|\n",
      "| 39|           0|            0|               60| 20|                    0.0|            0.0|   0.0|  0.0|(7,[0,3,4],[39.0,...|\n",
      "| 34|           0|            0|               94| 22|                    0.0|            0.0|   0.0|  0.0|(7,[0,3,4],[34.0,...|\n",
      "| 76|           0|            0|               83| 28|                    0.0|            0.0|   0.0|  0.0|(7,[0,3,4],[76.0,...|\n",
      "| 72|           0|            0|               90| 28|                    2.0|            1.0|   0.0|  0.0|[72.0,0.0,0.0,90....|\n",
      "| 76|           0|            0|              216| 30|                    0.0|            1.0|   0.0|  0.0|[76.0,0.0,0.0,216...|\n",
      "| 25|           0|            0|               95| 24|                    2.0|            0.0|   0.0|  0.0|[25.0,0.0,0.0,95....|\n",
      "| 62|           0|            0|              114| 31|                    1.0|            0.0|   0.0|  0.0|[62.0,0.0,0.0,114...|\n",
      "| 67|           0|            0|               64| 38|                    0.0|            1.0|   0.0|  0.0|[67.0,0.0,0.0,64....|\n",
      "| 34|           0|            0|               85| 52|                    0.0|            0.0|   0.0|  0.0|(7,[0,3,4],[34.0,...|\n",
      "| 44|           1|            0|              183| 44|                    0.0|            0.0|   0.0|  0.0|[44.0,1.0,0.0,183...|\n",
      "| 45|           0|            0|              115| 25|                    0.0|            0.0|   0.0|  0.0|(7,[0,3,4],[45.0,...|\n",
      "| 60|           0|            0|               56| 19|                    0.0|            0.0|   0.0|  0.0|(7,[0,3,4],[60.0,...|\n",
      "| 33|           0|            0|              106| 25|                    0.0|            1.0|   0.0|  0.0|[33.0,0.0,0.0,106...|\n",
      "+---+------------+-------------+-----------------+---+-----------------------+---------------+------+-----+--------------------+\n",
      "only showing top 20 rows\n",
      "\n"
     ]
    }
   ],
   "source": [
    "assembler = VectorAssembler(inputCols=featureColumns,outputCol='features')\n",
    "assembled_df = assembler.transform(binarizer_df)\n",
    "assembled_df.show()"
   ]
  },
  {
   "cell_type": "code",
   "execution_count": 33,
   "metadata": {},
   "outputs": [],
   "source": [
    "( train_set ,test_set  ) = assembled_df.randomSplit([0.7,0.3],seed = 0.2)"
   ]
  },
  {
   "cell_type": "code",
   "execution_count": 34,
   "metadata": {},
   "outputs": [
    {
     "name": "stdout",
     "output_type": "stream",
     "text": [
      "Class Distribution: [Row(label=0.0, count=18030), Row(label=1.0, count=17992)]\n"
     ]
    }
   ],
   "source": [
    "print('Class Distribution:',train_set.groupBy('label').count().take(3))"
   ]
  },
  {
   "cell_type": "code",
   "execution_count": 35,
   "metadata": {},
   "outputs": [
    {
     "name": "stdout",
     "output_type": "stream",
     "text": [
      "+---+------------+-------------+-----------------+---+-----------------------+---------------+------+-----+--------------------+--------------------+--------------------+----------+\n",
      "|age|hypertension|heart_disease|avg_glucose_level|bmi|smoking_status_category|gender_category|stroke|label|            features|       rawPrediction|         probability|prediction|\n",
      "+---+------------+-------------+-----------------+---+-----------------------+---------------+------+-----+--------------------+--------------------+--------------------+----------+\n",
      "| 10|           0|            0|               55| 26|                    0.0|            1.0|   0.0|  0.0|[10.0,0.0,0.0,55....|[18.6837105398873...|[0.93418552699436...|       0.0|\n",
      "| 10|           0|            0|               58| 20|                    0.0|            0.0|   0.0|  0.0|(7,[0,3,4],[10.0,...|[18.8557368759587...|[0.94278684379793...|       0.0|\n",
      "| 10|           0|            0|               61| 32|                    0.0|            0.0|   0.0|  0.0|(7,[0,3,4],[10.0,...|[18.5761266487722...|[0.92880633243861...|       0.0|\n",
      "| 10|           0|            0|               63| 20|                    2.0|            1.0|   0.0|  0.0|[10.0,0.0,0.0,63....|[17.4279047897222...|[0.87139523948611...|       0.0|\n",
      "| 10|           0|            0|               70| 32|                    0.0|            0.0|   0.0|  0.0|(7,[0,3,4],[10.0,...|[18.5761266487722...|[0.92880633243861...|       0.0|\n",
      "+---+------------+-------------+-----------------+---+-----------------------+---------------+------+-----+--------------------+--------------------+--------------------+----------+\n",
      "only showing top 5 rows\n",
      "\n"
     ]
    }
   ],
   "source": [
    "rf = RandomForestClassifier()\n",
    "rf_model = rf.fit(train_set)\n",
    "preds = rf_model.transform(test_set)\n",
    "preds.show(5)"
   ]
  },
  {
   "cell_type": "code",
   "execution_count": 36,
   "metadata": {},
   "outputs": [
    {
     "data": {
      "text/plain": [
       "0.9475379750271369"
      ]
     },
     "execution_count": 36,
     "metadata": {},
     "output_type": "execute_result"
    }
   ],
   "source": [
    "from pyspark.ml.evaluation import BinaryClassificationEvaluator\n",
    "\n",
    "evaluator = BinaryClassificationEvaluator(rawPredictionCol=\"rawPrediction\")\n",
    "evaluator.evaluate(preds)"
   ]
  },
  {
   "cell_type": "code",
   "execution_count": 37,
   "metadata": {},
   "outputs": [
    {
     "data": {
      "text/plain": [
       "0.8611981205951449"
      ]
     },
     "execution_count": 37,
     "metadata": {},
     "output_type": "execute_result"
    }
   ],
   "source": [
    "accuracy = preds.filter(preds.label == preds.prediction).count() / float(test_set.count())\n",
    "accuracy"
   ]
  },
  {
   "cell_type": "markdown",
   "metadata": {},
   "source": [
    "#### Now lets try with Pipeline"
   ]
  },
  {
   "cell_type": "code",
   "execution_count": 38,
   "metadata": {},
   "outputs": [],
   "source": [
    "( pipe_train_set ,pipe_test_set  ) = df.select('age','hypertension','heart_disease','avg_glucose_level','bmi','smoking_status','gender','stroke').randomSplit([0.7,0.3],seed = 0.2)"
   ]
  },
  {
   "cell_type": "code",
   "execution_count": 39,
   "metadata": {},
   "outputs": [],
   "source": [
    "label_string_indexer = StringIndexer(inputCol = 'stroke',outputCol= 'label' )\n",
    "lr = LogisticRegression()\n",
    "pipeline = Pipeline(stages=[smoke_indexer, \\\n",
    "                            gender_indexer, \\\n",
    "                            label_string_indexer, \\\n",
    "                            assembler,\\\n",
    "                            lr])\n",
    "pipelineFit = pipeline.fit(pipe_train_set)\n"
   ]
  },
  {
   "cell_type": "code",
   "execution_count": 40,
   "metadata": {},
   "outputs": [],
   "source": [
    "pipe_train_df = pipelineFit.transform(pipe_train_set)\n",
    "pipe_test_df = pipelineFit.transform(pipe_test_set)\n"
   ]
  },
  {
   "cell_type": "code",
   "execution_count": 41,
   "metadata": {},
   "outputs": [],
   "source": [
    "accuracy = pipe_test_df.filter(pipe_test_df.label == pipe_test_df.prediction).count() / float(pipe_test_set.count())\n",
    "roc_auc = evaluator.evaluate(pipe_test_df)"
   ]
  },
  {
   "cell_type": "code",
   "execution_count": 42,
   "metadata": {},
   "outputs": [
    {
     "name": "stdout",
     "output_type": "stream",
     "text": [
      "Accuracy Score: 97.9488 %\n",
      "ROC-AUC: 85.1063 %\n"
     ]
    }
   ],
   "source": [
    "print('Accuracy Score: {0:.4f} %'.format(accuracy*100))\n",
    "print('ROC-AUC: {0:.4f} %'.format(roc_auc*100))"
   ]
  },
  {
   "cell_type": "code",
   "execution_count": 43,
   "metadata": {},
   "outputs": [
    {
     "name": "stdout",
     "output_type": "stream",
     "text": [
      "fatal: You must specify a repository to clone.\n",
      "\n",
      "usage: git clone [<options>] [--] <repo> [<dir>]\n",
      "\n",
      "    -v, --verbose         be more verbose\n",
      "    -q, --quiet           be more quiet\n",
      "    --progress            force progress reporting\n",
      "    -n, --no-checkout     don't create a checkout\n",
      "    --bare                create a bare repository\n",
      "    --mirror              create a mirror repository (implies bare)\n",
      "    -l, --local           to clone from a local repository\n",
      "    --no-hardlinks        don't use local hardlinks, always copy\n",
      "    -s, --shared          setup as shared repository\n",
      "    --recurse-submodules[=<pathspec>]\n",
      "                          initialize submodules in the clone\n",
      "    -j, --jobs <n>        number of submodules cloned in parallel\n",
      "    --template <template-directory>\n",
      "                          directory from which templates will be used\n",
      "    --reference <repo>    reference repository\n",
      "    --reference-if-able <repo>\n",
      "                          reference repository\n",
      "    --dissociate          use --reference only while cloning\n",
      "    -o, --origin <name>   use <name> instead of 'origin' to track upstream\n",
      "    -b, --branch <branch>\n",
      "                          checkout <branch> instead of the remote's HEAD\n",
      "    -u, --upload-pack <path>\n",
      "                          path to git-upload-pack on the remote\n",
      "    --depth <depth>       create a shallow clone of that depth\n",
      "    --shallow-since <time>\n",
      "                          create a shallow clone since a specific time\n",
      "    --shallow-exclude <revision>\n",
      "                          deepen history of shallow clone, excluding rev\n",
      "    --single-branch       clone only one branch, HEAD or --branch\n",
      "    --no-tags             don't clone any tags, and make later fetches not to follow them\n",
      "    --shallow-submodules  any cloned submodules will be shallow\n",
      "    --separate-git-dir <gitdir>\n",
      "                          separate git dir from working tree\n",
      "    -c, --config <key=value>\n",
      "                          set config inside the new repository\n",
      "    -4, --ipv4            use IPv4 addresses only\n",
      "    -6, --ipv6            use IPv6 addresses only\n",
      "    --filter <args>       object filtering\n",
      "\n"
     ]
    }
   ],
   "source": [
    "!git clone"
   ]
  },
  {
   "cell_type": "code",
   "execution_count": 44,
   "metadata": {},
   "outputs": [
    {
     "name": "stdout",
     "output_type": "stream",
     "text": [
      "Cloning into 'PySpark%20ML'...\n",
      "fatal: repository 'https://github.com/subhasisj/python-projects/tree/master/Machine%20Learning%20Projects/PySpark%20ML/' not found\n"
     ]
    }
   ],
   "source": [
    "!git clone https://github.com/subhasisj/python-projects/tree/master/Machine%20Learning%20Projects/PySpark%20ML"
   ]
  },
  {
   "cell_type": "code",
   "execution_count": 45,
   "metadata": {},
   "outputs": [
    {
     "name": "stdout",
     "output_type": "stream",
     "text": [
      "Cloning into 'python-projects'...\n",
      "remote: Enumerating objects: 223, done.\u001b[K\n",
      "remote: Counting objects: 100% (223/223), done.\u001b[K\n",
      "remote: Compressing objects: 100% (164/164), done.\u001b[K\n",
      "remote: Total 5015 (delta 115), reused 116 (delta 48), pack-reused 4792\u001b[K\n",
      "Receiving objects: 100% (5015/5015), 183.79 MiB | 20.18 MiB/s, done.\n",
      "Resolving deltas: 100% (282/282), done.\n",
      "Checking out files: 100% (2472/2472), done.\n"
     ]
    }
   ],
   "source": [
    "!git clone https://github.com/subhasisj/python-projects.git"
   ]
  },
  {
   "cell_type": "code",
   "execution_count": 48,
   "metadata": {},
   "outputs": [
    {
     "name": "stdout",
     "output_type": "stream",
     "text": [
      "fatal: not a git repository (or any of the parent directories): .git\n"
     ]
    }
   ],
   "source": [
    "!git commit -m \"Execute notebooks\""
   ]
  },
  {
   "cell_type": "code",
   "execution_count": null,
   "metadata": {},
   "outputs": [],
   "source": []
  }
 ],
 "metadata": {
  "kernelspec": {
   "display_name": "PySpark",
   "language": "python",
   "name": "pyspark"
  },
  "language_info": {
   "codemirror_mode": {
    "name": "ipython",
    "version": 3
   },
   "file_extension": ".py",
   "mimetype": "text/x-python",
   "name": "python",
   "nbconvert_exporter": "python",
   "pygments_lexer": "ipython3",
   "version": "3.6.9"
  }
 },
 "nbformat": 4,
 "nbformat_minor": 2
}