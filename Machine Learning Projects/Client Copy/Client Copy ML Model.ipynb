{
 "cells": [
  {
   "cell_type": "code",
   "execution_count": 1,
   "metadata": {},
   "outputs": [],
   "source": [
    "import pandas as pd\n",
    "import numpy as np\n",
    "from scipy import stats\n",
    "import matplotlib.pyplot as plt\n",
    "import warnings\n",
    "import os\n",
    "import seaborn as sns\n",
    "warnings.filterwarnings('ignore')\n"
   ]
  },
  {
   "cell_type": "code",
   "execution_count": 2,
   "metadata": {},
   "outputs": [
    {
     "data": {
      "text/html": [
       "<div>\n",
       "<style scoped>\n",
       "    .dataframe tbody tr th:only-of-type {\n",
       "        vertical-align: middle;\n",
       "    }\n",
       "\n",
       "    .dataframe tbody tr th {\n",
       "        vertical-align: top;\n",
       "    }\n",
       "\n",
       "    .dataframe thead th {\n",
       "        text-align: right;\n",
       "    }\n",
       "</style>\n",
       "<table border=\"1\" class=\"dataframe\">\n",
       "  <thead>\n",
       "    <tr style=\"text-align: right;\">\n",
       "      <th></th>\n",
       "      <th>Unnamed: 0</th>\n",
       "      <th>runtime_in_ms</th>\n",
       "      <th>records_processed</th>\n",
       "      <th>size_in_bytes</th>\n",
       "      <th>parallel_number</th>\n",
       "      <th>profile_SAP_ALL</th>\n",
       "      <th>profile_SAP_APPX</th>\n",
       "      <th>profile_SAP_CUST</th>\n",
       "      <th>profile_SAP_UCSV</th>\n",
       "      <th>profile_SAP_UONL</th>\n",
       "      <th>...</th>\n",
       "      <th>ignore_exit_errors_0</th>\n",
       "      <th>ignore_exit_errors_X</th>\n",
       "      <th>ignore_table_errors_0</th>\n",
       "      <th>ignore_table_errors_X</th>\n",
       "      <th>lock_source_client_0</th>\n",
       "      <th>lock_source_client_X</th>\n",
       "      <th>use_exclusive_locks_0</th>\n",
       "      <th>use_exclusive_locks_X</th>\n",
       "      <th>use_table_segmenter_0</th>\n",
       "      <th>use_table_segmenter_X</th>\n",
       "    </tr>\n",
       "  </thead>\n",
       "  <tbody>\n",
       "    <tr>\n",
       "      <th>0</th>\n",
       "      <td>0</td>\n",
       "      <td>1290</td>\n",
       "      <td>30619937</td>\n",
       "      <td>2721723523</td>\n",
       "      <td>6</td>\n",
       "      <td>0</td>\n",
       "      <td>0</td>\n",
       "      <td>0</td>\n",
       "      <td>1</td>\n",
       "      <td>0</td>\n",
       "      <td>...</td>\n",
       "      <td>0</td>\n",
       "      <td>1</td>\n",
       "      <td>1</td>\n",
       "      <td>0</td>\n",
       "      <td>1</td>\n",
       "      <td>0</td>\n",
       "      <td>1</td>\n",
       "      <td>0</td>\n",
       "      <td>1</td>\n",
       "      <td>0</td>\n",
       "    </tr>\n",
       "    <tr>\n",
       "      <th>1</th>\n",
       "      <td>1</td>\n",
       "      <td>1192</td>\n",
       "      <td>48666506</td>\n",
       "      <td>3902691720</td>\n",
       "      <td>6</td>\n",
       "      <td>0</td>\n",
       "      <td>0</td>\n",
       "      <td>0</td>\n",
       "      <td>1</td>\n",
       "      <td>0</td>\n",
       "      <td>...</td>\n",
       "      <td>0</td>\n",
       "      <td>1</td>\n",
       "      <td>1</td>\n",
       "      <td>0</td>\n",
       "      <td>1</td>\n",
       "      <td>0</td>\n",
       "      <td>1</td>\n",
       "      <td>0</td>\n",
       "      <td>1</td>\n",
       "      <td>0</td>\n",
       "    </tr>\n",
       "    <tr>\n",
       "      <th>2</th>\n",
       "      <td>5</td>\n",
       "      <td>2875</td>\n",
       "      <td>152299974</td>\n",
       "      <td>13405474528</td>\n",
       "      <td>6</td>\n",
       "      <td>0</td>\n",
       "      <td>0</td>\n",
       "      <td>0</td>\n",
       "      <td>1</td>\n",
       "      <td>0</td>\n",
       "      <td>...</td>\n",
       "      <td>0</td>\n",
       "      <td>1</td>\n",
       "      <td>1</td>\n",
       "      <td>0</td>\n",
       "      <td>1</td>\n",
       "      <td>0</td>\n",
       "      <td>0</td>\n",
       "      <td>1</td>\n",
       "      <td>1</td>\n",
       "      <td>0</td>\n",
       "    </tr>\n",
       "    <tr>\n",
       "      <th>3</th>\n",
       "      <td>8</td>\n",
       "      <td>1176</td>\n",
       "      <td>50315435</td>\n",
       "      <td>3035348648</td>\n",
       "      <td>6</td>\n",
       "      <td>0</td>\n",
       "      <td>0</td>\n",
       "      <td>0</td>\n",
       "      <td>1</td>\n",
       "      <td>0</td>\n",
       "      <td>...</td>\n",
       "      <td>0</td>\n",
       "      <td>1</td>\n",
       "      <td>1</td>\n",
       "      <td>0</td>\n",
       "      <td>1</td>\n",
       "      <td>0</td>\n",
       "      <td>1</td>\n",
       "      <td>0</td>\n",
       "      <td>1</td>\n",
       "      <td>0</td>\n",
       "    </tr>\n",
       "    <tr>\n",
       "      <th>4</th>\n",
       "      <td>9</td>\n",
       "      <td>1180</td>\n",
       "      <td>82981731</td>\n",
       "      <td>9182413424</td>\n",
       "      <td>6</td>\n",
       "      <td>1</td>\n",
       "      <td>0</td>\n",
       "      <td>0</td>\n",
       "      <td>0</td>\n",
       "      <td>0</td>\n",
       "      <td>...</td>\n",
       "      <td>0</td>\n",
       "      <td>1</td>\n",
       "      <td>1</td>\n",
       "      <td>0</td>\n",
       "      <td>1</td>\n",
       "      <td>0</td>\n",
       "      <td>1</td>\n",
       "      <td>0</td>\n",
       "      <td>1</td>\n",
       "      <td>0</td>\n",
       "    </tr>\n",
       "  </tbody>\n",
       "</table>\n",
       "<p>5 rows × 23 columns</p>\n",
       "</div>"
      ],
      "text/plain": [
       "   Unnamed: 0  runtime_in_ms  records_processed  size_in_bytes  \\\n",
       "0           0           1290           30619937     2721723523   \n",
       "1           1           1192           48666506     3902691720   \n",
       "2           5           2875          152299974    13405474528   \n",
       "3           8           1176           50315435     3035348648   \n",
       "4           9           1180           82981731     9182413424   \n",
       "\n",
       "   parallel_number  profile_SAP_ALL   profile_SAP_APPX  profile_SAP_CUST  \\\n",
       "0                6                 0                 0                 0   \n",
       "1                6                 0                 0                 0   \n",
       "2                6                 0                 0                 0   \n",
       "3                6                 0                 0                 0   \n",
       "4                6                 1                 0                 0   \n",
       "\n",
       "   profile_SAP_UCSV  profile_SAP_UONL  ...  ignore_exit_errors_0  \\\n",
       "0                 1                 0  ...                     0   \n",
       "1                 1                 0  ...                     0   \n",
       "2                 1                 0  ...                     0   \n",
       "3                 1                 0  ...                     0   \n",
       "4                 0                 0  ...                     0   \n",
       "\n",
       "   ignore_exit_errors_X  ignore_table_errors_0  ignore_table_errors_X  \\\n",
       "0                     1                      1                      0   \n",
       "1                     1                      1                      0   \n",
       "2                     1                      1                      0   \n",
       "3                     1                      1                      0   \n",
       "4                     1                      1                      0   \n",
       "\n",
       "   lock_source_client_0  lock_source_client_X  use_exclusive_locks_0  \\\n",
       "0                     1                     0                      1   \n",
       "1                     1                     0                      1   \n",
       "2                     1                     0                      0   \n",
       "3                     1                     0                      1   \n",
       "4                     1                     0                      1   \n",
       "\n",
       "   use_exclusive_locks_X  use_table_segmenter_0  use_table_segmenter_X  \n",
       "0                      0                      1                      0  \n",
       "1                      0                      1                      0  \n",
       "2                      1                      1                      0  \n",
       "3                      0                      1                      0  \n",
       "4                      0                      1                      0  \n",
       "\n",
       "[5 rows x 23 columns]"
      ]
     },
     "execution_count": 2,
     "metadata": {},
     "output_type": "execute_result"
    }
   ],
   "source": [
    "cleaned_data = pd.read_csv('./dataset/cc_cleaned_data.csv')\n",
    "cleaned_data.head()"
   ]
  },
  {
   "cell_type": "code",
   "execution_count": 3,
   "metadata": {},
   "outputs": [
    {
     "data": {
      "text/html": [
       "<div>\n",
       "<style scoped>\n",
       "    .dataframe tbody tr th:only-of-type {\n",
       "        vertical-align: middle;\n",
       "    }\n",
       "\n",
       "    .dataframe tbody tr th {\n",
       "        vertical-align: top;\n",
       "    }\n",
       "\n",
       "    .dataframe thead th {\n",
       "        text-align: right;\n",
       "    }\n",
       "</style>\n",
       "<table border=\"1\" class=\"dataframe\">\n",
       "  <thead>\n",
       "    <tr style=\"text-align: right;\">\n",
       "      <th></th>\n",
       "      <th>Unnamed: 0</th>\n",
       "      <th>runtime_in_ms</th>\n",
       "      <th>records_processed</th>\n",
       "      <th>size_in_bytes</th>\n",
       "      <th>profile_SAP_ALL</th>\n",
       "      <th>profile_SAP_APPX</th>\n",
       "      <th>profile_SAP_CUST</th>\n",
       "      <th>profile_SAP_UCSV</th>\n",
       "      <th>profile_SAP_UONL</th>\n",
       "      <th>profile_SAP_USER</th>\n",
       "      <th>...</th>\n",
       "      <th>ignore_exit_errors_0</th>\n",
       "      <th>ignore_exit_errors_X</th>\n",
       "      <th>ignore_table_errors_0</th>\n",
       "      <th>ignore_table_errors_X</th>\n",
       "      <th>lock_source_client_0</th>\n",
       "      <th>lock_source_client_X</th>\n",
       "      <th>use_exclusive_locks_0</th>\n",
       "      <th>use_exclusive_locks_X</th>\n",
       "      <th>use_table_segmenter_0</th>\n",
       "      <th>use_table_segmenter_X</th>\n",
       "    </tr>\n",
       "  </thead>\n",
       "  <tbody>\n",
       "    <tr>\n",
       "      <th>0</th>\n",
       "      <td>0</td>\n",
       "      <td>1290</td>\n",
       "      <td>30619937</td>\n",
       "      <td>2721723523</td>\n",
       "      <td>0</td>\n",
       "      <td>0</td>\n",
       "      <td>0</td>\n",
       "      <td>1</td>\n",
       "      <td>0</td>\n",
       "      <td>0</td>\n",
       "      <td>...</td>\n",
       "      <td>0</td>\n",
       "      <td>1</td>\n",
       "      <td>1</td>\n",
       "      <td>0</td>\n",
       "      <td>1</td>\n",
       "      <td>0</td>\n",
       "      <td>1</td>\n",
       "      <td>0</td>\n",
       "      <td>1</td>\n",
       "      <td>0</td>\n",
       "    </tr>\n",
       "    <tr>\n",
       "      <th>1</th>\n",
       "      <td>1</td>\n",
       "      <td>1192</td>\n",
       "      <td>48666506</td>\n",
       "      <td>3902691720</td>\n",
       "      <td>0</td>\n",
       "      <td>0</td>\n",
       "      <td>0</td>\n",
       "      <td>1</td>\n",
       "      <td>0</td>\n",
       "      <td>0</td>\n",
       "      <td>...</td>\n",
       "      <td>0</td>\n",
       "      <td>1</td>\n",
       "      <td>1</td>\n",
       "      <td>0</td>\n",
       "      <td>1</td>\n",
       "      <td>0</td>\n",
       "      <td>1</td>\n",
       "      <td>0</td>\n",
       "      <td>1</td>\n",
       "      <td>0</td>\n",
       "    </tr>\n",
       "    <tr>\n",
       "      <th>2</th>\n",
       "      <td>5</td>\n",
       "      <td>2875</td>\n",
       "      <td>152299974</td>\n",
       "      <td>13405474528</td>\n",
       "      <td>0</td>\n",
       "      <td>0</td>\n",
       "      <td>0</td>\n",
       "      <td>1</td>\n",
       "      <td>0</td>\n",
       "      <td>0</td>\n",
       "      <td>...</td>\n",
       "      <td>0</td>\n",
       "      <td>1</td>\n",
       "      <td>1</td>\n",
       "      <td>0</td>\n",
       "      <td>1</td>\n",
       "      <td>0</td>\n",
       "      <td>0</td>\n",
       "      <td>1</td>\n",
       "      <td>1</td>\n",
       "      <td>0</td>\n",
       "    </tr>\n",
       "    <tr>\n",
       "      <th>3</th>\n",
       "      <td>8</td>\n",
       "      <td>1176</td>\n",
       "      <td>50315435</td>\n",
       "      <td>3035348648</td>\n",
       "      <td>0</td>\n",
       "      <td>0</td>\n",
       "      <td>0</td>\n",
       "      <td>1</td>\n",
       "      <td>0</td>\n",
       "      <td>0</td>\n",
       "      <td>...</td>\n",
       "      <td>0</td>\n",
       "      <td>1</td>\n",
       "      <td>1</td>\n",
       "      <td>0</td>\n",
       "      <td>1</td>\n",
       "      <td>0</td>\n",
       "      <td>1</td>\n",
       "      <td>0</td>\n",
       "      <td>1</td>\n",
       "      <td>0</td>\n",
       "    </tr>\n",
       "    <tr>\n",
       "      <th>4</th>\n",
       "      <td>9</td>\n",
       "      <td>1180</td>\n",
       "      <td>82981731</td>\n",
       "      <td>9182413424</td>\n",
       "      <td>1</td>\n",
       "      <td>0</td>\n",
       "      <td>0</td>\n",
       "      <td>0</td>\n",
       "      <td>0</td>\n",
       "      <td>0</td>\n",
       "      <td>...</td>\n",
       "      <td>0</td>\n",
       "      <td>1</td>\n",
       "      <td>1</td>\n",
       "      <td>0</td>\n",
       "      <td>1</td>\n",
       "      <td>0</td>\n",
       "      <td>1</td>\n",
       "      <td>0</td>\n",
       "      <td>1</td>\n",
       "      <td>0</td>\n",
       "    </tr>\n",
       "  </tbody>\n",
       "</table>\n",
       "<p>5 rows × 22 columns</p>\n",
       "</div>"
      ],
      "text/plain": [
       "   Unnamed: 0  runtime_in_ms  records_processed  size_in_bytes  \\\n",
       "0           0           1290           30619937     2721723523   \n",
       "1           1           1192           48666506     3902691720   \n",
       "2           5           2875          152299974    13405474528   \n",
       "3           8           1176           50315435     3035348648   \n",
       "4           9           1180           82981731     9182413424   \n",
       "\n",
       "   profile_SAP_ALL   profile_SAP_APPX  profile_SAP_CUST  profile_SAP_UCSV  \\\n",
       "0                 0                 0                 0                 1   \n",
       "1                 0                 0                 0                 1   \n",
       "2                 0                 0                 0                 1   \n",
       "3                 0                 0                 0                 1   \n",
       "4                 1                 0                 0                 0   \n",
       "\n",
       "   profile_SAP_UONL  profile_SAP_USER  ...  ignore_exit_errors_0  \\\n",
       "0                 0                 0  ...                     0   \n",
       "1                 0                 0  ...                     0   \n",
       "2                 0                 0  ...                     0   \n",
       "3                 0                 0  ...                     0   \n",
       "4                 0                 0  ...                     0   \n",
       "\n",
       "   ignore_exit_errors_X  ignore_table_errors_0  ignore_table_errors_X  \\\n",
       "0                     1                      1                      0   \n",
       "1                     1                      1                      0   \n",
       "2                     1                      1                      0   \n",
       "3                     1                      1                      0   \n",
       "4                     1                      1                      0   \n",
       "\n",
       "   lock_source_client_0  lock_source_client_X  use_exclusive_locks_0  \\\n",
       "0                     1                     0                      1   \n",
       "1                     1                     0                      1   \n",
       "2                     1                     0                      0   \n",
       "3                     1                     0                      1   \n",
       "4                     1                     0                      1   \n",
       "\n",
       "   use_exclusive_locks_X  use_table_segmenter_0  use_table_segmenter_X  \n",
       "0                      0                      1                      0  \n",
       "1                      0                      1                      0  \n",
       "2                      1                      1                      0  \n",
       "3                      0                      1                      0  \n",
       "4                      0                      1                      0  \n",
       "\n",
       "[5 rows x 22 columns]"
      ]
     },
     "execution_count": 3,
     "metadata": {},
     "output_type": "execute_result"
    }
   ],
   "source": [
    "cleaned_data.drop(columns=['parallel_number'],inplace=True)\n",
    "cleaned_data.head()"
   ]
  },
  {
   "cell_type": "code",
   "execution_count": 4,
   "metadata": {},
   "outputs": [
    {
     "data": {
      "text/html": [
       "<div>\n",
       "<style scoped>\n",
       "    .dataframe tbody tr th:only-of-type {\n",
       "        vertical-align: middle;\n",
       "    }\n",
       "\n",
       "    .dataframe tbody tr th {\n",
       "        vertical-align: top;\n",
       "    }\n",
       "\n",
       "    .dataframe thead th {\n",
       "        text-align: right;\n",
       "    }\n",
       "</style>\n",
       "<table border=\"1\" class=\"dataframe\">\n",
       "  <thead>\n",
       "    <tr style=\"text-align: right;\">\n",
       "      <th></th>\n",
       "      <th>Unnamed: 0</th>\n",
       "      <th>runtime_in_ms</th>\n",
       "      <th>records_processed</th>\n",
       "      <th>size_in_bytes</th>\n",
       "      <th>profile_SAP_ALL</th>\n",
       "      <th>profile_SAP_APPX</th>\n",
       "      <th>profile_SAP_CUST</th>\n",
       "      <th>profile_SAP_UCSV</th>\n",
       "      <th>profile_SAP_UONL</th>\n",
       "      <th>profile_SAP_USER</th>\n",
       "      <th>...</th>\n",
       "      <th>ignore_exit_errors_0</th>\n",
       "      <th>ignore_exit_errors_X</th>\n",
       "      <th>ignore_table_errors_0</th>\n",
       "      <th>ignore_table_errors_X</th>\n",
       "      <th>lock_source_client_0</th>\n",
       "      <th>lock_source_client_X</th>\n",
       "      <th>use_exclusive_locks_0</th>\n",
       "      <th>use_exclusive_locks_X</th>\n",
       "      <th>use_table_segmenter_0</th>\n",
       "      <th>use_table_segmenter_X</th>\n",
       "    </tr>\n",
       "  </thead>\n",
       "  <tbody>\n",
       "    <tr>\n",
       "      <th>count</th>\n",
       "      <td>211.000000</td>\n",
       "      <td>211.000000</td>\n",
       "      <td>2.110000e+02</td>\n",
       "      <td>2.110000e+02</td>\n",
       "      <td>211.000000</td>\n",
       "      <td>211.000000</td>\n",
       "      <td>211.000000</td>\n",
       "      <td>211.000000</td>\n",
       "      <td>211.000000</td>\n",
       "      <td>211.000000</td>\n",
       "      <td>...</td>\n",
       "      <td>211.000000</td>\n",
       "      <td>211.000000</td>\n",
       "      <td>211.000000</td>\n",
       "      <td>211.000000</td>\n",
       "      <td>211.000000</td>\n",
       "      <td>211.000000</td>\n",
       "      <td>211.000000</td>\n",
       "      <td>211.000000</td>\n",
       "      <td>211.000000</td>\n",
       "      <td>211.000000</td>\n",
       "    </tr>\n",
       "    <tr>\n",
       "      <th>mean</th>\n",
       "      <td>175.748815</td>\n",
       "      <td>1736.436019</td>\n",
       "      <td>2.053538e+08</td>\n",
       "      <td>1.170030e+10</td>\n",
       "      <td>0.497630</td>\n",
       "      <td>0.004739</td>\n",
       "      <td>0.018957</td>\n",
       "      <td>0.303318</td>\n",
       "      <td>0.023697</td>\n",
       "      <td>0.127962</td>\n",
       "      <td>...</td>\n",
       "      <td>0.421801</td>\n",
       "      <td>0.578199</td>\n",
       "      <td>0.777251</td>\n",
       "      <td>0.222749</td>\n",
       "      <td>0.492891</td>\n",
       "      <td>0.507109</td>\n",
       "      <td>0.502370</td>\n",
       "      <td>0.497630</td>\n",
       "      <td>0.914692</td>\n",
       "      <td>0.085308</td>\n",
       "    </tr>\n",
       "    <tr>\n",
       "      <th>std</th>\n",
       "      <td>103.249575</td>\n",
       "      <td>1667.784393</td>\n",
       "      <td>2.472842e+08</td>\n",
       "      <td>1.591042e+10</td>\n",
       "      <td>0.501183</td>\n",
       "      <td>0.068843</td>\n",
       "      <td>0.136699</td>\n",
       "      <td>0.460784</td>\n",
       "      <td>0.152464</td>\n",
       "      <td>0.334842</td>\n",
       "      <td>...</td>\n",
       "      <td>0.495021</td>\n",
       "      <td>0.495021</td>\n",
       "      <td>0.417081</td>\n",
       "      <td>0.417081</td>\n",
       "      <td>0.501138</td>\n",
       "      <td>0.501138</td>\n",
       "      <td>0.501183</td>\n",
       "      <td>0.501183</td>\n",
       "      <td>0.280004</td>\n",
       "      <td>0.280004</td>\n",
       "    </tr>\n",
       "    <tr>\n",
       "      <th>min</th>\n",
       "      <td>0.000000</td>\n",
       "      <td>58.000000</td>\n",
       "      <td>4.452300e+04</td>\n",
       "      <td>1.340438e+06</td>\n",
       "      <td>0.000000</td>\n",
       "      <td>0.000000</td>\n",
       "      <td>0.000000</td>\n",
       "      <td>0.000000</td>\n",
       "      <td>0.000000</td>\n",
       "      <td>0.000000</td>\n",
       "      <td>...</td>\n",
       "      <td>0.000000</td>\n",
       "      <td>0.000000</td>\n",
       "      <td>0.000000</td>\n",
       "      <td>0.000000</td>\n",
       "      <td>0.000000</td>\n",
       "      <td>0.000000</td>\n",
       "      <td>0.000000</td>\n",
       "      <td>0.000000</td>\n",
       "      <td>0.000000</td>\n",
       "      <td>0.000000</td>\n",
       "    </tr>\n",
       "    <tr>\n",
       "      <th>25%</th>\n",
       "      <td>89.500000</td>\n",
       "      <td>878.000000</td>\n",
       "      <td>3.220423e+07</td>\n",
       "      <td>2.267669e+09</td>\n",
       "      <td>0.000000</td>\n",
       "      <td>0.000000</td>\n",
       "      <td>0.000000</td>\n",
       "      <td>0.000000</td>\n",
       "      <td>0.000000</td>\n",
       "      <td>0.000000</td>\n",
       "      <td>...</td>\n",
       "      <td>0.000000</td>\n",
       "      <td>0.000000</td>\n",
       "      <td>1.000000</td>\n",
       "      <td>0.000000</td>\n",
       "      <td>0.000000</td>\n",
       "      <td>0.000000</td>\n",
       "      <td>0.000000</td>\n",
       "      <td>0.000000</td>\n",
       "      <td>1.000000</td>\n",
       "      <td>0.000000</td>\n",
       "    </tr>\n",
       "    <tr>\n",
       "      <th>50%</th>\n",
       "      <td>178.000000</td>\n",
       "      <td>1397.000000</td>\n",
       "      <td>1.045430e+08</td>\n",
       "      <td>8.195264e+09</td>\n",
       "      <td>0.000000</td>\n",
       "      <td>0.000000</td>\n",
       "      <td>0.000000</td>\n",
       "      <td>0.000000</td>\n",
       "      <td>0.000000</td>\n",
       "      <td>0.000000</td>\n",
       "      <td>...</td>\n",
       "      <td>0.000000</td>\n",
       "      <td>1.000000</td>\n",
       "      <td>1.000000</td>\n",
       "      <td>0.000000</td>\n",
       "      <td>0.000000</td>\n",
       "      <td>1.000000</td>\n",
       "      <td>1.000000</td>\n",
       "      <td>0.000000</td>\n",
       "      <td>1.000000</td>\n",
       "      <td>0.000000</td>\n",
       "    </tr>\n",
       "    <tr>\n",
       "      <th>75%</th>\n",
       "      <td>258.500000</td>\n",
       "      <td>2089.000000</td>\n",
       "      <td>3.061955e+08</td>\n",
       "      <td>1.506873e+10</td>\n",
       "      <td>1.000000</td>\n",
       "      <td>0.000000</td>\n",
       "      <td>0.000000</td>\n",
       "      <td>1.000000</td>\n",
       "      <td>0.000000</td>\n",
       "      <td>0.000000</td>\n",
       "      <td>...</td>\n",
       "      <td>1.000000</td>\n",
       "      <td>1.000000</td>\n",
       "      <td>1.000000</td>\n",
       "      <td>0.000000</td>\n",
       "      <td>1.000000</td>\n",
       "      <td>1.000000</td>\n",
       "      <td>1.000000</td>\n",
       "      <td>1.000000</td>\n",
       "      <td>1.000000</td>\n",
       "      <td>0.000000</td>\n",
       "    </tr>\n",
       "    <tr>\n",
       "      <th>max</th>\n",
       "      <td>359.000000</td>\n",
       "      <td>14874.000000</td>\n",
       "      <td>1.646861e+09</td>\n",
       "      <td>1.225398e+11</td>\n",
       "      <td>1.000000</td>\n",
       "      <td>1.000000</td>\n",
       "      <td>1.000000</td>\n",
       "      <td>1.000000</td>\n",
       "      <td>1.000000</td>\n",
       "      <td>1.000000</td>\n",
       "      <td>...</td>\n",
       "      <td>1.000000</td>\n",
       "      <td>1.000000</td>\n",
       "      <td>1.000000</td>\n",
       "      <td>1.000000</td>\n",
       "      <td>1.000000</td>\n",
       "      <td>1.000000</td>\n",
       "      <td>1.000000</td>\n",
       "      <td>1.000000</td>\n",
       "      <td>1.000000</td>\n",
       "      <td>1.000000</td>\n",
       "    </tr>\n",
       "  </tbody>\n",
       "</table>\n",
       "<p>8 rows × 22 columns</p>\n",
       "</div>"
      ],
      "text/plain": [
       "       Unnamed: 0  runtime_in_ms  records_processed  size_in_bytes  \\\n",
       "count  211.000000     211.000000       2.110000e+02   2.110000e+02   \n",
       "mean   175.748815    1736.436019       2.053538e+08   1.170030e+10   \n",
       "std    103.249575    1667.784393       2.472842e+08   1.591042e+10   \n",
       "min      0.000000      58.000000       4.452300e+04   1.340438e+06   \n",
       "25%     89.500000     878.000000       3.220423e+07   2.267669e+09   \n",
       "50%    178.000000    1397.000000       1.045430e+08   8.195264e+09   \n",
       "75%    258.500000    2089.000000       3.061955e+08   1.506873e+10   \n",
       "max    359.000000   14874.000000       1.646861e+09   1.225398e+11   \n",
       "\n",
       "       profile_SAP_ALL   profile_SAP_APPX  profile_SAP_CUST  profile_SAP_UCSV  \\\n",
       "count        211.000000        211.000000        211.000000        211.000000   \n",
       "mean           0.497630          0.004739          0.018957          0.303318   \n",
       "std            0.501183          0.068843          0.136699          0.460784   \n",
       "min            0.000000          0.000000          0.000000          0.000000   \n",
       "25%            0.000000          0.000000          0.000000          0.000000   \n",
       "50%            0.000000          0.000000          0.000000          0.000000   \n",
       "75%            1.000000          0.000000          0.000000          1.000000   \n",
       "max            1.000000          1.000000          1.000000          1.000000   \n",
       "\n",
       "       profile_SAP_UONL  profile_SAP_USER  ...  ignore_exit_errors_0  \\\n",
       "count        211.000000        211.000000  ...            211.000000   \n",
       "mean           0.023697          0.127962  ...              0.421801   \n",
       "std            0.152464          0.334842  ...              0.495021   \n",
       "min            0.000000          0.000000  ...              0.000000   \n",
       "25%            0.000000          0.000000  ...              0.000000   \n",
       "50%            0.000000          0.000000  ...              0.000000   \n",
       "75%            0.000000          0.000000  ...              1.000000   \n",
       "max            1.000000          1.000000  ...              1.000000   \n",
       "\n",
       "       ignore_exit_errors_X  ignore_table_errors_0  ignore_table_errors_X  \\\n",
       "count            211.000000             211.000000             211.000000   \n",
       "mean               0.578199               0.777251               0.222749   \n",
       "std                0.495021               0.417081               0.417081   \n",
       "min                0.000000               0.000000               0.000000   \n",
       "25%                0.000000               1.000000               0.000000   \n",
       "50%                1.000000               1.000000               0.000000   \n",
       "75%                1.000000               1.000000               0.000000   \n",
       "max                1.000000               1.000000               1.000000   \n",
       "\n",
       "       lock_source_client_0  lock_source_client_X  use_exclusive_locks_0  \\\n",
       "count            211.000000            211.000000             211.000000   \n",
       "mean               0.492891              0.507109               0.502370   \n",
       "std                0.501138              0.501138               0.501183   \n",
       "min                0.000000              0.000000               0.000000   \n",
       "25%                0.000000              0.000000               0.000000   \n",
       "50%                0.000000              1.000000               1.000000   \n",
       "75%                1.000000              1.000000               1.000000   \n",
       "max                1.000000              1.000000               1.000000   \n",
       "\n",
       "       use_exclusive_locks_X  use_table_segmenter_0  use_table_segmenter_X  \n",
       "count             211.000000             211.000000             211.000000  \n",
       "mean                0.497630               0.914692               0.085308  \n",
       "std                 0.501183               0.280004               0.280004  \n",
       "min                 0.000000               0.000000               0.000000  \n",
       "25%                 0.000000               1.000000               0.000000  \n",
       "50%                 0.000000               1.000000               0.000000  \n",
       "75%                 1.000000               1.000000               0.000000  \n",
       "max                 1.000000               1.000000               1.000000  \n",
       "\n",
       "[8 rows x 22 columns]"
      ]
     },
     "execution_count": 4,
     "metadata": {},
     "output_type": "execute_result"
    }
   ],
   "source": [
    "cleaned_data.describe()"
   ]
  },
  {
   "cell_type": "markdown",
   "metadata": {},
   "source": [
    "### lets check the distribution of various numeric features"
   ]
  },
  {
   "cell_type": "code",
   "execution_count": 5,
   "metadata": {},
   "outputs": [
    {
     "data": {
      "image/png": "[encoded data removed]",
      "text/plain": [
       "<Figure size 864x504 with 1 Axes>"
      ]
     },
     "metadata": {
      "needs_background": "light"
     },
     "output_type": "display_data"
    }
   ],
   "source": [
    "\n",
    "plt.figure(figsize=(12,7))\n",
    "sns.distplot(cleaned_data['records_processed'],\n",
    "             label = '1',\n",
    "             color = 'red',\n",
    "             bins=50\n",
    "            )\n",
    "plt.show()"
   ]
  },
  {
   "cell_type": "markdown",
   "metadata": {},
   "source": [
    "Let's normalize it"
   ]
  },
  {
   "cell_type": "code",
   "execution_count": 6,
   "metadata": {},
   "outputs": [
    {
     "data": {
      "text/plain": [
       "<matplotlib.axes._subplots.AxesSubplot at 0x249483d9cf8>"
      ]
     },
     "execution_count": 6,
     "metadata": {},
     "output_type": "execute_result"
    },
    {
     "data": {
      "image/png": "[encoded data removed]",
      "text/plain": [
       "<Figure size 432x288 with 1 Axes>"
      ]
     },
     "metadata": {
      "needs_background": "light"
     },
     "output_type": "display_data"
    }
   ],
   "source": [
    "normalized_data,fitted = stats.boxcox(cleaned_data['records_processed'])\n",
    "sns.distplot(normalized_data)"
   ]
  },
  {
   "cell_type": "code",
   "execution_count": 7,
   "metadata": {},
   "outputs": [],
   "source": [
    "cleaned_data['records_processed'] = normalized_data"
   ]
  },
  {
   "cell_type": "code",
   "execution_count": 8,
   "metadata": {},
   "outputs": [
    {
     "data": {
      "text/html": [
       "<div>\n",
       "<style scoped>\n",
       "    .dataframe tbody tr th:only-of-type {\n",
       "        vertical-align: middle;\n",
       "    }\n",
       "\n",
       "    .dataframe tbody tr th {\n",
       "        vertical-align: top;\n",
       "    }\n",
       "\n",
       "    .dataframe thead th {\n",
       "        text-align: right;\n",
       "    }\n",
       "</style>\n",
       "<table border=\"1\" class=\"dataframe\">\n",
       "  <thead>\n",
       "    <tr style=\"text-align: right;\">\n",
       "      <th></th>\n",
       "      <th>Unnamed: 0</th>\n",
       "      <th>runtime_in_ms</th>\n",
       "      <th>records_processed</th>\n",
       "      <th>size_in_bytes</th>\n",
       "      <th>profile_SAP_ALL</th>\n",
       "      <th>profile_SAP_APPX</th>\n",
       "      <th>profile_SAP_CUST</th>\n",
       "      <th>profile_SAP_UCSV</th>\n",
       "      <th>profile_SAP_UONL</th>\n",
       "      <th>profile_SAP_USER</th>\n",
       "      <th>...</th>\n",
       "      <th>ignore_exit_errors_0</th>\n",
       "      <th>ignore_exit_errors_X</th>\n",
       "      <th>ignore_table_errors_0</th>\n",
       "      <th>ignore_table_errors_X</th>\n",
       "      <th>lock_source_client_0</th>\n",
       "      <th>lock_source_client_X</th>\n",
       "      <th>use_exclusive_locks_0</th>\n",
       "      <th>use_exclusive_locks_X</th>\n",
       "      <th>use_table_segmenter_0</th>\n",
       "      <th>use_table_segmenter_X</th>\n",
       "    </tr>\n",
       "  </thead>\n",
       "  <tbody>\n",
       "    <tr>\n",
       "      <th>0</th>\n",
       "      <td>0</td>\n",
       "      <td>1290</td>\n",
       "      <td>230.625058</td>\n",
       "      <td>2721723523</td>\n",
       "      <td>0</td>\n",
       "      <td>0</td>\n",
       "      <td>0</td>\n",
       "      <td>1</td>\n",
       "      <td>0</td>\n",
       "      <td>0</td>\n",
       "      <td>...</td>\n",
       "      <td>0</td>\n",
       "      <td>1</td>\n",
       "      <td>1</td>\n",
       "      <td>0</td>\n",
       "      <td>1</td>\n",
       "      <td>0</td>\n",
       "      <td>1</td>\n",
       "      <td>0</td>\n",
       "      <td>1</td>\n",
       "      <td>0</td>\n",
       "    </tr>\n",
       "    <tr>\n",
       "      <th>1</th>\n",
       "      <td>1</td>\n",
       "      <td>1192</td>\n",
       "      <td>257.280046</td>\n",
       "      <td>3902691720</td>\n",
       "      <td>0</td>\n",
       "      <td>0</td>\n",
       "      <td>0</td>\n",
       "      <td>1</td>\n",
       "      <td>0</td>\n",
       "      <td>0</td>\n",
       "      <td>...</td>\n",
       "      <td>0</td>\n",
       "      <td>1</td>\n",
       "      <td>1</td>\n",
       "      <td>0</td>\n",
       "      <td>1</td>\n",
       "      <td>0</td>\n",
       "      <td>1</td>\n",
       "      <td>0</td>\n",
       "      <td>1</td>\n",
       "      <td>0</td>\n",
       "    </tr>\n",
       "    <tr>\n",
       "      <th>2</th>\n",
       "      <td>5</td>\n",
       "      <td>2875</td>\n",
       "      <td>336.524025</td>\n",
       "      <td>13405474528</td>\n",
       "      <td>0</td>\n",
       "      <td>0</td>\n",
       "      <td>0</td>\n",
       "      <td>1</td>\n",
       "      <td>0</td>\n",
       "      <td>0</td>\n",
       "      <td>...</td>\n",
       "      <td>0</td>\n",
       "      <td>1</td>\n",
       "      <td>1</td>\n",
       "      <td>0</td>\n",
       "      <td>1</td>\n",
       "      <td>0</td>\n",
       "      <td>0</td>\n",
       "      <td>1</td>\n",
       "      <td>1</td>\n",
       "      <td>0</td>\n",
       "    </tr>\n",
       "    <tr>\n",
       "      <th>3</th>\n",
       "      <td>8</td>\n",
       "      <td>1176</td>\n",
       "      <td>259.309607</td>\n",
       "      <td>3035348648</td>\n",
       "      <td>0</td>\n",
       "      <td>0</td>\n",
       "      <td>0</td>\n",
       "      <td>1</td>\n",
       "      <td>0</td>\n",
       "      <td>0</td>\n",
       "      <td>...</td>\n",
       "      <td>0</td>\n",
       "      <td>1</td>\n",
       "      <td>1</td>\n",
       "      <td>0</td>\n",
       "      <td>1</td>\n",
       "      <td>0</td>\n",
       "      <td>1</td>\n",
       "      <td>0</td>\n",
       "      <td>1</td>\n",
       "      <td>0</td>\n",
       "    </tr>\n",
       "    <tr>\n",
       "      <th>4</th>\n",
       "      <td>9</td>\n",
       "      <td>1180</td>\n",
       "      <td>291.746795</td>\n",
       "      <td>9182413424</td>\n",
       "      <td>1</td>\n",
       "      <td>0</td>\n",
       "      <td>0</td>\n",
       "      <td>0</td>\n",
       "      <td>0</td>\n",
       "      <td>0</td>\n",
       "      <td>...</td>\n",
       "      <td>0</td>\n",
       "      <td>1</td>\n",
       "      <td>1</td>\n",
       "      <td>0</td>\n",
       "      <td>1</td>\n",
       "      <td>0</td>\n",
       "      <td>1</td>\n",
       "      <td>0</td>\n",
       "      <td>1</td>\n",
       "      <td>0</td>\n",
       "    </tr>\n",
       "  </tbody>\n",
       "</table>\n",
       "<p>5 rows × 22 columns</p>\n",
       "</div>"
      ],
      "text/plain": [
       "   Unnamed: 0  runtime_in_ms  records_processed  size_in_bytes  \\\n",
       "0           0           1290         230.625058     2721723523   \n",
       "1           1           1192         257.280046     3902691720   \n",
       "2           5           2875         336.524025    13405474528   \n",
       "3           8           1176         259.309607     3035348648   \n",
       "4           9           1180         291.746795     9182413424   \n",
       "\n",
       "   profile_SAP_ALL   profile_SAP_APPX  profile_SAP_CUST  profile_SAP_UCSV  \\\n",
       "0                 0                 0                 0                 1   \n",
       "1                 0                 0                 0                 1   \n",
       "2                 0                 0                 0                 1   \n",
       "3                 0                 0                 0                 1   \n",
       "4                 1                 0                 0                 0   \n",
       "\n",
       "   profile_SAP_UONL  profile_SAP_USER  ...  ignore_exit_errors_0  \\\n",
       "0                 0                 0  ...                     0   \n",
       "1                 0                 0  ...                     0   \n",
       "2                 0                 0  ...                     0   \n",
       "3                 0                 0  ...                     0   \n",
       "4                 0                 0  ...                     0   \n",
       "\n",
       "   ignore_exit_errors_X  ignore_table_errors_0  ignore_table_errors_X  \\\n",
       "0                     1                      1                      0   \n",
       "1                     1                      1                      0   \n",
       "2                     1                      1                      0   \n",
       "3                     1                      1                      0   \n",
       "4                     1                      1                      0   \n",
       "\n",
       "   lock_source_client_0  lock_source_client_X  use_exclusive_locks_0  \\\n",
       "0                     1                     0                      1   \n",
       "1                     1                     0                      1   \n",
       "2                     1                     0                      0   \n",
       "3                     1                     0                      1   \n",
       "4                     1                     0                      1   \n",
       "\n",
       "   use_exclusive_locks_X  use_table_segmenter_0  use_table_segmenter_X  \n",
       "0                      0                      1                      0  \n",
       "1                      0                      1                      0  \n",
       "2                      1                      1                      0  \n",
       "3                      0                      1                      0  \n",
       "4                      0                      1                      0  \n",
       "\n",
       "[5 rows x 22 columns]"
      ]
     },
     "execution_count": 8,
     "metadata": {},
     "output_type": "execute_result"
    }
   ],
   "source": [
    "cleaned_data.head()"
   ]
  },
  {
   "cell_type": "code",
   "execution_count": 9,
   "metadata": {},
   "outputs": [
    {
     "data": {
      "image/png": "[encoded data removed]",
      "text/plain": [
       "<Figure size 864x504 with 1 Axes>"
      ]
     },
     "metadata": {
      "needs_background": "light"
     },
     "output_type": "display_data"
    }
   ],
   "source": [
    "plt.figure(figsize=(12,7))\n",
    "sns.distplot(cleaned_data['size_in_bytes'],\n",
    "             label = '1',\n",
    "             color = 'red',\n",
    "             bins=50\n",
    "            )\n",
    "plt.show()"
   ]
  },
  {
   "cell_type": "code",
   "execution_count": 10,
   "metadata": {},
   "outputs": [
    {
     "data": {
      "text/plain": [
       "<matplotlib.axes._subplots.AxesSubplot at 0x2494821be10>"
      ]
     },
     "execution_count": 10,
     "metadata": {},
     "output_type": "execute_result"
    },
    {
     "data": {
      "image/png": "[encoded data removed]",
      "text/plain": [
       "<Figure size 432x288 with 1 Axes>"
      ]
     },
     "metadata": {
      "needs_background": "light"
     },
     "output_type": "display_data"
    }
   ],
   "source": [
    "normalized_data,fitted = stats.boxcox(cleaned_data['size_in_bytes'])\n",
    "sns.distplot(normalized_data)"
   ]
  },
  {
   "cell_type": "code",
   "execution_count": 11,
   "metadata": {},
   "outputs": [],
   "source": [
    "cleaned_data['size_in_bytes'] = normalized_data"
   ]
  },
  {
   "cell_type": "code",
   "execution_count": 12,
   "metadata": {},
   "outputs": [
    {
     "data": {
      "text/plain": [
       "<matplotlib.axes._subplots.AxesSubplot at 0x249482cf358>"
      ]
     },
     "execution_count": 12,
     "metadata": {},
     "output_type": "execute_result"
    },
    {
     "data": {
      "image/png": "[encoded data removed]",
      "text/plain": [
       "<Figure size 432x288 with 1 Axes>"
      ]
     },
     "metadata": {
      "needs_background": "light"
     },
     "output_type": "display_data"
    }
   ],
   "source": [
    "normalized_data,fitted = stats.boxcox(cleaned_data['runtime_in_ms'])\n",
    "sns.distplot(normalized_data)"
   ]
  },
  {
   "cell_type": "code",
   "execution_count": 13,
   "metadata": {},
   "outputs": [],
   "source": [
    "cleaned_data['runtime_in_ms'] = normalized_data"
   ]
  },
  {
   "cell_type": "code",
   "execution_count": 14,
   "metadata": {},
   "outputs": [],
   "source": [
    "y = cleaned_data['runtime_in_ms']\n",
    "# X = cleaned_data.loc[:, cleaned_data.columns != 'runtime_in_ms']\n",
    "X = cleaned_data[['records_processed','size_in_bytes','use_exclusive_locks_X','use_exclusive_locks_0']]"
   ]
  },
  {
   "cell_type": "code",
   "execution_count": 15,
   "metadata": {},
   "outputs": [],
   "source": [
    "from sklearn.model_selection import train_test_split\n",
    "\n",
    "X_train,X_test,y_train,y_test = train_test_split(X,y,test_size=0.2,random_state = 4)"
   ]
  },
  {
   "cell_type": "code",
   "execution_count": 16,
   "metadata": {},
   "outputs": [],
   "source": [
    "from sklearn.preprocessing import PolynomialFeatures\n",
    "\n",
    "poly_reg = PolynomialFeatures(degree=3)\n",
    "X_train_poly = poly_reg.fit_transform(X_train)\n"
   ]
  },
  {
   "cell_type": "code",
   "execution_count": 17,
   "metadata": {},
   "outputs": [
    {
     "name": "stdout",
     "output_type": "stream",
     "text": [
      "0.5710333102880181\n"
     ]
    }
   ],
   "source": [
    "from sklearn.linear_model import LinearRegression\n",
    "from sklearn.metrics import r2_score\n",
    "linear = LinearRegression()\n",
    "linear.fit(X_train_poly,y_train)\n",
    "y_pred=linear.predict(poly_reg.fit_transform(X_test))\n",
    "print(r2_score(y_test,y_pred))"
   ]
  },
  {
   "cell_type": "code",
   "execution_count": 18,
   "metadata": {},
   "outputs": [
    {
     "data": {
      "text/plain": [
       "0.5710333102880181"
      ]
     },
     "execution_count": 18,
     "metadata": {},
     "output_type": "execute_result"
    }
   ],
   "source": [
    "linear.score(poly_reg.fit_transform(X_test),y_test)"
   ]
  },
  {
   "cell_type": "markdown",
   "metadata": {},
   "source": [
    "### R2 Score = 0.695294231970498\n",
    "### That is it correctly predicts the right runtime __69.5 %__ of the times"
   ]
  },
  {
   "cell_type": "code",
   "execution_count": 19,
   "metadata": {},
   "outputs": [
    {
     "data": {
      "image/png": "[encoded data removed]",
      "text/plain": [
       "<Figure size 432x288 with 1 Axes>"
      ]
     },
     "metadata": {
      "needs_background": "light"
     },
     "output_type": "display_data"
    }
   ],
   "source": [
    "plt.scatter(X.size_in_bytes ,y,s=10)\n",
    "plt.plot(X_test,y_pred,color= 'm')\n",
    "plt.show()"
   ]
  },
  {
   "cell_type": "code",
   "execution_count": 20,
   "metadata": {},
   "outputs": [],
   "source": [
    "import xgboost as xgb\n",
    "from sklearn.metrics import mean_squared_error\n",
    "xgbModel = xgb.XGBRegressor()"
   ]
  },
  {
   "cell_type": "code",
   "execution_count": 21,
   "metadata": {},
   "outputs": [
    {
     "name": "stdout",
     "output_type": "stream",
     "text": [
      "[22:03:02] WARNING: C:/Jenkins/workspace/xgboost-win64_release_0.90/src/objective/regression_obj.cu:152: reg:linear is now deprecated in favor of reg:squarederror.\n"
     ]
    },
    {
     "data": {
      "text/plain": [
       "XGBRegressor(base_score=0.5, booster='gbtree', colsample_bylevel=1,\n",
       "       colsample_bynode=1, colsample_bytree=1, gamma=0,\n",
       "       importance_type='gain', learning_rate=0.1, max_delta_step=0,\n",
       "       max_depth=3, min_child_weight=1, missing=None, n_estimators=100,\n",
       "       n_jobs=1, nthread=None, objective='reg:linear', random_state=0,\n",
       "       reg_alpha=0, reg_lambda=1, scale_pos_weight=1, seed=None,\n",
       "       silent=None, subsample=1, verbosity=1)"
      ]
     },
     "execution_count": 21,
     "metadata": {},
     "output_type": "execute_result"
    }
   ],
   "source": [
    "xgbModel.fit(X_train_poly,y_train)"
   ]
  },
  {
   "cell_type": "code",
   "execution_count": 22,
   "metadata": {},
   "outputs": [],
   "source": [
    "y_xgb_pred=xgbModel.predict(poly_reg.fit_transform(X_test))"
   ]
  },
  {
   "cell_type": "code",
   "execution_count": 23,
   "metadata": {},
   "outputs": [
    {
     "data": {
      "text/plain": [
       "0.559578848059895"
      ]
     },
     "execution_count": 23,
     "metadata": {},
     "output_type": "execute_result"
    }
   ],
   "source": [
    "r2_score(y_test,y_xgb_pred)"
   ]
  },
  {
   "cell_type": "code",
   "execution_count": null,
   "metadata": {},
   "outputs": [],
   "source": []
  },
  {
   "cell_type": "markdown",
   "metadata": {},
   "source": [
    "### Lets try to reduce the dimensionality of the data and test the performance"
   ]
  },
  {
   "cell_type": "code",
   "execution_count": 24,
   "metadata": {},
   "outputs": [],
   "source": [
    "y = cleaned_data['runtime_in_ms']\n",
    "X = cleaned_data.loc[:, cleaned_data.columns != 'runtime_in_ms']"
   ]
  },
  {
   "cell_type": "code",
   "execution_count": 25,
   "metadata": {},
   "outputs": [
    {
     "name": "stdout",
     "output_type": "stream",
     "text": [
      "New shape : (211, 2)\n"
     ]
    }
   ],
   "source": [
    "from sklearn.decomposition import PCA\n",
    "pca = PCA(n_components=2)\n",
    "x_pca_data = pca.fit_transform(X)\n",
    "print('New shape :',x_pca_data.shape)"
   ]
  },
  {
   "cell_type": "code",
   "execution_count": 26,
   "metadata": {},
   "outputs": [
    {
     "name": "stdout",
     "output_type": "stream",
     "text": [
      "pca (211, 3)\n",
      "pca_df (211, 3)\n"
     ]
    }
   ],
   "source": [
    "# Attach the label\n",
    "pca_data = np.vstack((x_pca_data.T,y)).T\n",
    "print('pca',pca_data.shape)\n",
    "pca_df = pd.DataFrame(pca_data)\n",
    "print('pca_df',pca_df.shape)  "
   ]
  },
  {
   "cell_type": "code",
   "execution_count": 27,
   "metadata": {},
   "outputs": [
    {
     "data": {
      "text/html": [
       "<div>\n",
       "<style scoped>\n",
       "    .dataframe tbody tr th:only-of-type {\n",
       "        vertical-align: middle;\n",
       "    }\n",
       "\n",
       "    .dataframe tbody tr th {\n",
       "        vertical-align: top;\n",
       "    }\n",
       "\n",
       "    .dataframe thead th {\n",
       "        text-align: right;\n",
       "    }\n",
       "</style>\n",
       "<table border=\"1\" class=\"dataframe\">\n",
       "  <thead>\n",
       "    <tr style=\"text-align: right;\">\n",
       "      <th></th>\n",
       "      <th>pc_1</th>\n",
       "      <th>pc_2</th>\n",
       "      <th>runtime_in_ms</th>\n",
       "    </tr>\n",
       "  </thead>\n",
       "  <tbody>\n",
       "    <tr>\n",
       "      <th>0</th>\n",
       "      <td>-323.273877</td>\n",
       "      <td>-175.432690</td>\n",
       "      <td>11.220742</td>\n",
       "    </tr>\n",
       "    <tr>\n",
       "      <th>1</th>\n",
       "      <td>-206.293993</td>\n",
       "      <td>-174.444872</td>\n",
       "      <td>11.038670</td>\n",
       "    </tr>\n",
       "    <tr>\n",
       "      <th>2</th>\n",
       "      <td>283.106706</td>\n",
       "      <td>-174.746672</td>\n",
       "      <td>13.166020</td>\n",
       "    </tr>\n",
       "    <tr>\n",
       "      <th>3</th>\n",
       "      <td>-285.001974</td>\n",
       "      <td>-164.871546</td>\n",
       "      <td>11.007697</td>\n",
       "    </tr>\n",
       "    <tr>\n",
       "      <th>4</th>\n",
       "      <td>112.494243</td>\n",
       "      <td>-171.542578</td>\n",
       "      <td>11.015475</td>\n",
       "    </tr>\n",
       "  </tbody>\n",
       "</table>\n",
       "</div>"
      ],
      "text/plain": [
       "         pc_1        pc_2  runtime_in_ms\n",
       "0 -323.273877 -175.432690      11.220742\n",
       "1 -206.293993 -174.444872      11.038670\n",
       "2  283.106706 -174.746672      13.166020\n",
       "3 -285.001974 -164.871546      11.007697\n",
       "4  112.494243 -171.542578      11.015475"
      ]
     },
     "execution_count": 27,
     "metadata": {},
     "output_type": "execute_result"
    }
   ],
   "source": [
    "pca_df.columns = ['pc_1','pc_2','runtime_in_ms']\n",
    "pca_df.head()"
   ]
  },
  {
   "cell_type": "code",
   "execution_count": 28,
   "metadata": {},
   "outputs": [
    {
     "data": {
      "image/png": "[encoded data removed]",
      "text/plain": [
       "<Figure size 432x432 with 1 Axes>"
      ]
     },
     "metadata": {
      "needs_background": "light"
     },
     "output_type": "display_data"
    }
   ],
   "source": [
    "sns.FacetGrid(pca_df,hue='runtime_in_ms',size = 6).map(plt.scatter,'pc_1','pc_2')\n",
    "plt.show()"
   ]
  },
  {
   "cell_type": "code",
   "execution_count": 29,
   "metadata": {},
   "outputs": [],
   "source": [
    "X_train, X_test ,y_train ,y_test = train_test_split(x_pca_data,\n",
    "                                                    y,\n",
    "                                                    test_size=0.3)"
   ]
  },
  {
   "cell_type": "code",
   "execution_count": 30,
   "metadata": {},
   "outputs": [],
   "source": [
    "from sklearn.linear_model import Ridge\n",
    "\n",
    "ridge_model = Ridge()\n",
    "ridge_model.fit(X_train,y_train)\n",
    "y_ridge_pred = ridge_model.predict(X_test)"
   ]
  },
  {
   "cell_type": "code",
   "execution_count": 31,
   "metadata": {},
   "outputs": [
    {
     "data": {
      "text/plain": [
       "0.5456276657956887"
      ]
     },
     "execution_count": 31,
     "metadata": {},
     "output_type": "execute_result"
    }
   ],
   "source": [
    "r2_score(y_test,y_ridge_pred)"
   ]
  },
  {
   "cell_type": "markdown",
   "metadata": {},
   "source": [
    "### Feature Elimination"
   ]
  },
  {
   "cell_type": "code",
   "execution_count": 34,
   "metadata": {},
   "outputs": [
    {
     "data": {
      "image/png": "[encoded data removed]",
      "text/plain": [
       "<Figure size 432x288 with 1 Axes>"
      ]
     },
     "metadata": {
      "needs_background": "light"
     },
     "output_type": "display_data"
    }
   ],
   "source": [
    "X_train, X_test ,y_train ,y_test = train_test_split(X,\n",
    "                                                    y,\n",
    "                                                    test_size=0.3,\n",
    "                                                    random_state = 4,\n",
    "                                                   )\n",
    "\n",
    "\n",
    "from sklearn.feature_selection import RFECV\n",
    "\n",
    "rid = Ridge()\n",
    "rfecv = RFECV(estimator=rid,step =1,cv=10,scoring='r2')\n",
    "rfecv.fit(X_train,y_train)\n",
    "\n",
    "plt.figure()\n",
    "plt.title('Logistic Regression CV score vs No of Features')\n",
    "plt.xlabel(\"Number of features selected\")\n",
    "plt.ylabel(\"Cross validation score (nb of correct classifications)\")\n",
    "plt.plot(range(1, len(rfecv.grid_scores_) + 1), rfecv.grid_scores_)\n",
    "plt.show()"
   ]
  },
  {
   "cell_type": "code",
   "execution_count": null,
   "metadata": {},
   "outputs": [],
   "source": []
  }
 ],
 "metadata": {
  "kernelspec": {
   "display_name": "Python 3",
   "language": "python",
   "name": "python3"
  },
  "language_info": {
   "codemirror_mode": {
    "name": "ipython",
    "version": 3
   },
   "file_extension": ".py",
   "mimetype": "text/x-python",
   "name": "python",
   "nbconvert_exporter": "python",
   "pygments_lexer": "ipython3",
   "version": "3.7.3"
  }
 },
 "nbformat": 4,
 "nbformat_minor": 4
}
