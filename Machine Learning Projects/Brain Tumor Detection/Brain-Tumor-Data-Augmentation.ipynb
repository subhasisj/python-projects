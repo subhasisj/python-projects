{
 "cells": [
  {
   "cell_type": "markdown",
   "metadata": {},
   "source": [
    "### Data Augmentation"
   ]
  },
  {
   "cell_type": "markdown",
   "metadata": {},
   "source": [
    "As we have a fairly small dataset we have to perform data augmentation in order to create more images to train the NN."
   ]
  },
  {
   "cell_type": "code",
   "execution_count": 2,
   "metadata": {},
   "outputs": [],
   "source": [
    "from keras.preprocessing.image import ImageDataGenerator,img_to_array\n",
    "import cv2\n",
    "import time\n",
    "from os import listdir\n",
    "\n",
    "import warnings\n",
    "warnings.filterwarnings('ignore')"
   ]
  },
  {
   "cell_type": "code",
   "execution_count": 3,
   "metadata": {},
   "outputs": [],
   "source": [
    "def augment_data(**args):\n",
    "    \"\"\"\n",
    "    Arguments:\n",
    "        file_dir: A string representing the directory where images that we want to augment are found.\n",
    "        n_generated_samples: A string representing the number of generated samples using the given image.\n",
    "        save_to_dir: A string representing the directory in which the generated images will be saved.\n",
    "    \"\"\"\n",
    "    datagen = ImageDataGenerator(rotation_range=10,\n",
    "                                 width_shift_range=0.1,\n",
    "                                 height_shift_range=0.1,\n",
    "                                 shear_range=0.15,\n",
    "                                 zoom_range=0.1,\n",
    "                                 channel_shift_range = 10,\n",
    "                                 horizontal_flip=True)\n",
    "    \n",
    "#  iterate over all the images in the folders\n",
    "#  and perform augmentation\n",
    "    directory = args.get('file_dir')\n",
    "    generated_samples = args.get('n_generated_samples')\n",
    "    save_to_dir = args.get('save_to_dir')\n",
    "    \n",
    "    for file in listdir(directory):\n",
    "#       load the image\n",
    "        read_path = directory + '\\\\' + file\n",
    "        image = cv2.imread( read_path )\n",
    "        image = img_to_array(image)\n",
    "        image = image.reshape((1,)+image.shape)\n",
    "        save_prefix = 'aug_'+file[:-4]\n",
    "        i=0\n",
    "        for batch in datagen.flow(x=image,\n",
    "                                  batch_size=1,\n",
    "                                  save_to_dir= save_to_dir,\n",
    "                                  save_prefix=save_prefix,\n",
    "                                  save_format='jpeg'):\n",
    "            i+= 1\n",
    "            if i > generated_samples:\n",
    "                break"
   ]
  },
  {
   "cell_type": "markdown",
   "metadata": {},
   "source": [
    "Remember that 61% of the data (155 images) are tumorous. And, 39% of the data (98 images) are non-tumorous. So, in order to balance the data we can generate 9 new images for every image that belongs to 'no' class and 6 images for every image that belongs the 'yes' class."
   ]
  },
  {
   "cell_type": "code",
   "execution_count": 4,
   "metadata": {},
   "outputs": [
    {
     "name": "stdout",
     "output_type": "stream",
     "text": [
      "Elapsed time in seconds :218.35673666000366\n"
     ]
    }
   ],
   "source": [
    "start_time = time.time()\n",
    "# Augment data for images with yes label\n",
    "augment_data(file_dir = \"Dataset\\yes\",\n",
    "             n_generated_samples = 6,\n",
    "             save_to_dir = r\"Dataset\\augmented_data\\yes\" )\n",
    "end_time = time.time()\n",
    "\n",
    "elapsed_time  = end_time - start_time\n",
    "print('Elapsed time in seconds :{}'.format(elapsed_time))"
   ]
  },
  {
   "cell_type": "code",
   "execution_count": 5,
   "metadata": {},
   "outputs": [
    {
     "name": "stdout",
     "output_type": "stream",
     "text": [
      "Elapsed time in seconds :131.82588696479797\n"
     ]
    }
   ],
   "source": [
    "start_time = time.time()\n",
    "augment_data(file_dir = r\"Dataset\\no\",\n",
    "             n_generated_samples = 9,\n",
    "             save_to_dir = r\"Dataset\\augmented_data\\no\" )\n",
    "\n",
    "end_time = time.time()\n",
    "\n",
    "elapsed_time  = end_time - start_time\n",
    "print('Elapsed time in seconds :{}'.format(elapsed_time))"
   ]
  },
  {
   "cell_type": "code",
   "execution_count": 6,
   "metadata": {},
   "outputs": [],
   "source": [
    "# Data summary\n",
    "def data_summary():\n",
    "    total_yes_files = len(listdir(r\"Dataset\\augmented_data\\yes\"))\n",
    "    total_no_files = len(listdir(r\"Dataset\\augmented_data\\no\"))\n",
    "    \n",
    "    total_files = total_yes_files + total_no_files\n",
    "    percentage_yes = ( total_yes_files / total_files ) * 100\n",
    "    percentage_no = ( total_no_files / total_files ) * 100\n",
    "    \n",
    "    print(\"Total Examples : {}\".format(total_files))\n",
    "    print('Percentage of yes examples : {:,.2f} %'.format(percentage_yes) )\n",
    "    print('Percentage of no examples : {:,.2f} %'.format(percentage_no) )"
   ]
  },
  {
   "cell_type": "code",
   "execution_count": 7,
   "metadata": {},
   "outputs": [
    {
     "name": "stdout",
     "output_type": "stream",
     "text": [
      "Total Examples : 2065\n",
      "Percentage of yes examples : 52.54 %\n",
      "Percentage of no examples : 47.46 %\n"
     ]
    }
   ],
   "source": [
    "data_summary()"
   ]
  }
 ],
 "metadata": {
  "kernelspec": {
   "display_name": "Python 3",
   "language": "python",
   "name": "python3"
  },
  "language_info": {
   "codemirror_mode": {
    "name": "ipython",
    "version": 3
   },
   "file_extension": ".py",
   "mimetype": "text/x-python",
   "name": "python",
   "nbconvert_exporter": "python",
   "pygments_lexer": "ipython3",
   "version": "3.7.3"
  }
 },
 "nbformat": 4,
 "nbformat_minor": 2
}
