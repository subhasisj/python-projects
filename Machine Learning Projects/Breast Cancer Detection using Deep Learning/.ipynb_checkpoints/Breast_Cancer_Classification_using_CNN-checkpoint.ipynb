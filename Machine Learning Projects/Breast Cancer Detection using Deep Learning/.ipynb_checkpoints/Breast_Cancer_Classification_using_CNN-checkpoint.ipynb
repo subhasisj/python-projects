{
 "cells": [
  {
   "cell_type": "markdown",
   "metadata": {},
   "source": [
    "Breast cancer is the second most common cancer in women and men worldwide. In 2012, it represented about 12 percent of all new cancer cases and 25 percent of all cancers in women.\n",
    "\n",
    "\n",
    "Breast cancer starts when cells in the breast begin to grow out of control. These cells usually form a tumor that can often be seen on an x-ray or felt as a lump. The tumor is malignant (cancer) if the cells can grow into (invade) surrounding tissues or spread (metastasize) to distant areas of the body."
   ]
  },
  {
   "cell_type": "markdown",
   "metadata": {},
   "source": [
    "### Breast Cancer Classification"
   ]
  },
  {
   "cell_type": "markdown",
   "metadata": {},
   "source": [
    "We have to build a model to classify patients with Breast Cancer by studying the Biopsy Images"
   ]
  },
  {
   "cell_type": "code",
   "execution_count": 3,
   "metadata": {},
   "outputs": [],
   "source": [
    "import matplotlib.pyplot as plt\n",
    "%matplotlib inline\n",
    "\n",
    "import warnings\n",
    "warnings.filterwarnings('ignore')\n",
    "\n",
    "from cancer_detection_model import CancerModel\n",
    "import project_configuration as conf\n",
    "\n",
    "from keras.preprocessing.image import ImageDataGenerator\n",
    "from keras.callbacks import LearningRateScheduler\n",
    "from keras.optimizers import Adam\n",
    "from keras.utils import np_utils\n",
    "\n",
    "import numpy as np\n",
    "import os\n",
    "# import argparse\n",
    "from imutils import paths"
   ]
  },
  {
   "cell_type": "code",
   "execution_count": 10,
   "metadata": {},
   "outputs": [
    {
     "name": "stdout",
     "output_type": "stream",
     "text": [
      "Total training paths : 194267\n",
      "Total testing paths : 55505\n",
      "Total validation paths : 27752\n"
     ]
    }
   ],
   "source": [
    "# Prepare for training of the model\n",
    "\n",
    "NR_EPOCHS = 40\n",
    "LEARNING_RATE = 1e-2 # lr = 0.01\n",
    "BATCH_SIZE = 32\n",
    "\n",
    "# Lets find the total size of each split\n",
    "all_training_paths = list(paths.list_images(conf.TRAIN_PATH))\n",
    "total_training_examples = len(all_training_paths)\n",
    "\n",
    "all_validation_paths = list(paths.list_images(conf.VAL_PATH))\n",
    "total_validation_examples = len(all_validation_paths)\n",
    "\n",
    "all_testing_paths = list(paths.list_images(conf.TEST_PATH))\n",
    "total_testing_examples = len(all_testing_paths)\n",
    "\n",
    "print('Total training paths :',total_training_examples)\n",
    "print('Total testing paths :',total_testing_examples)\n",
    "print('Total validation paths :',total_validation_examples)\n",
    "\n"
   ]
  },
  {
   "cell_type": "code",
   "execution_count": 28,
   "metadata": {},
   "outputs": [
    {
     "data": {
      "text/plain": [
       "array([1.       , 2.5151904], dtype=float32)"
      ]
     },
     "execution_count": 28,
     "metadata": {},
     "output_type": "execute_result"
    }
   ],
   "source": [
    "# Let's check the balance of the labeled Data\n",
    "training_labels = [ int(p.split(os.path.sep)[-2]) for p in all_training_paths]\n",
    "\n",
    "# One-Hot Encoding for Categorical labels\n",
    "training_labels = np_utils.to_categorical(training_labels)\n",
    "\n",
    "class_totals = training_labels.sum(axis = 0)\n",
    "class_weight = class_totals.max() / class_totals\n",
    "\n",
    "class_weight\n",
    "\n"
   ]
  },
  {
   "cell_type": "code",
   "execution_count": null,
   "metadata": {},
   "outputs": [],
   "source": [
    "# Data Augmentation\n",
    "train_data_aug = ImageDataGenerator(rescale=1/255.0,\n",
    "                                    rotation_range=20,\n",
    "                                    zoom_range=0.05,\n",
    "                                    width_shift_range=0.1,\n",
    "                                    height_shift_range=0.1,\n",
    "                                    shear_range=0.05,\n",
    "                                    horizontal_flip=True,\n",
    "                                    vertical_flip=True,\n",
    "                                    fill_mode='nearest')\n",
    "\n",
    "test_data_aug = ImageDataGenerator(rescale=1/255.0)\n",
    "val_data_aug = ImageDataGenerator(rescale=1/255.0)\n",
    "\n"
   ]
  }
 ],
 "metadata": {
  "kernelspec": {
   "display_name": "Python 3",
   "language": "python",
   "name": "python3"
  },
  "language_info": {
   "codemirror_mode": {
    "name": "ipython",
    "version": 3
   },
   "file_extension": ".py",
   "mimetype": "text/x-python",
   "name": "python",
   "nbconvert_exporter": "python",
   "pygments_lexer": "ipython3",
   "version": "3.7.3"
  }
 },
 "nbformat": 4,
 "nbformat_minor": 2
}
