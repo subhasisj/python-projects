{
  "nbformat": 4,
  "nbformat_minor": 0,
  "metadata": {
    "colab": {
      "name": "sentiment_pyspark.ipynb",
      "provenance": [],
      "collapsed_sections": [],
      "include_colab_link": true
    },
    "kernelspec": {
      "name": "python3",
      "display_name": "Python 3"
    },
    "accelerator": "GPU"
  },
  "cells": [
    {
      "cell_type": "markdown",
      "metadata": {
        "id": "view-in-github",
        "colab_type": "text"
      },
      "source": [
        "<a href=\"https://colab.research.google.com/github/subhasisj/python-projects/blob/master/python-projects/Machine%20Learning%20Projects/PySpark%20ML/sentiment_pyspark.ipynb\" target=\"_parent\"><img src=\"https://colab.research.google.com/assets/colab-badge.svg\" alt=\"Open In Colab\"/></a>"
      ]
    },
    {
      "cell_type": "code",
      "metadata": {
        "id": "b1pPlWz69zQh",
        "colab_type": "code",
        "outputId": "2d14a654-884a-4210-b87b-1de08b1a7c55",
        "colab": {
          "base_uri": "https://localhost:8080/",
          "height": 416
        }
      },
      "source": [
        "!apt-get update\n",
        "!apt-get install openjdk-8-jdk-headless -qq > /dev/null\n",
        "!wget -q http://archive.apache.org/dist/spark/spark-2.3.1/spark-2.3.1-bin-hadoop2.7.tgz\n",
        "!tar xf spark-2.3.1-bin-hadoop2.7.tgz\n",
        "!pip install -q findspark"
      ],
      "execution_count": 0,
      "outputs": [
        {
          "output_type": "stream",
          "text": [
            "\r0% [Working]\r            \rIgn:1 https://developer.download.nvidia.com/compute/cuda/repos/ubuntu1804/x86_64  InRelease\n",
            "\r0% [Waiting for headers] [Waiting for headers] [Connecting to cloud.r-project.o\r                                                                               \rHit:2 http://ppa.launchpad.net/graphics-drivers/ppa/ubuntu bionic InRelease\n",
            "\r0% [Waiting for headers] [Waiting for headers] [Connecting to cloud.r-project.o\r                                                                               \rHit:3 http://archive.ubuntu.com/ubuntu bionic InRelease\n",
            "\r                                                                               \rIgn:4 https://developer.download.nvidia.com/compute/machine-learning/repos/ubuntu1804/x86_64  InRelease\n",
            "\r0% [Waiting for headers] [Waiting for headers] [Connecting to cloud.r-project.o\r                                                                               \rGet:5 http://security.ubuntu.com/ubuntu bionic-security InRelease [88.7 kB]\n",
            "\r0% [Waiting for headers] [5 InRelease 2,586 B/88.7 kB 3%] [Connecting to cloud.\r0% [2 InRelease gpgv 21.3 kB] [Waiting for headers] [5 InRelease 2,586 B/88.7 k\r                                                                               \rHit:6 https://developer.download.nvidia.com/compute/cuda/repos/ubuntu1804/x86_64  Release\n",
            "\r0% [2 InRelease gpgv 21.3 kB] [Waiting for headers] [5 InRelease 5,482 B/88.7 k\r                                                                               \rHit:7 https://developer.download.nvidia.com/compute/machine-learning/repos/ubuntu1804/x86_64  Release\n",
            "\r0% [2 InRelease gpgv 21.3 kB] [Waiting for headers] [5 InRelease 11.3 kB/88.7 k\r                                                                               \rGet:8 http://archive.ubuntu.com/ubuntu bionic-updates InRelease [88.7 kB]\n",
            "\r0% [2 InRelease gpgv 21.3 kB] [8 InRelease 14.2 kB/88.7 kB 16%] [5 InRelease 14\r                                                                               \rGet:9 http://ppa.launchpad.net/marutter/c2d4u3.5/ubuntu bionic InRelease [15.4 kB]\n",
            "\r0% [2 InRelease gpgv 21.3 kB] [8 InRelease 15.6 kB/88.7 kB 18%] [5 InRelease 43\r0% [2 InRelease gpgv 21.3 kB] [8 InRelease 15.6 kB/88.7 kB 18%] [5 InRelease 43\r0% [8 InRelease 47.5 kB/88.7 kB 54%] [5 InRelease 80.8 kB/88.7 kB 91%] [Connect\r0% [3 InRelease gpgv 242 kB] [8 InRelease 47.5 kB/88.7 kB 54%] [5 InRelease 80.\r0% [3 InRelease gpgv 242 kB] [8 InRelease 47.5 kB/88.7 kB 54%] [Connected to cl\r                                                                               \rGet:10 https://cloud.r-project.org/bin/linux/ubuntu bionic-cran35/ InRelease [3,626 B]\n",
            "Get:11 http://archive.ubuntu.com/ubuntu bionic-backports InRelease [74.6 kB]\n",
            "Get:14 http://ppa.launchpad.net/marutter/c2d4u3.5/ubuntu bionic/main Sources [1,742 kB]\n",
            "Get:15 http://security.ubuntu.com/ubuntu bionic-security/multiverse amd64 Packages [6,781 B]\n",
            "Get:16 https://cloud.r-project.org/bin/linux/ubuntu bionic-cran35/ Packages [75.1 kB]\n",
            "Get:17 http://security.ubuntu.com/ubuntu bionic-security/universe amd64 Packages [795 kB]\n",
            "Get:18 http://archive.ubuntu.com/ubuntu bionic-updates/multiverse amd64 Packages [10.5 kB]\n",
            "Get:19 http://security.ubuntu.com/ubuntu bionic-security/main amd64 Packages [761 kB]\n",
            "Get:20 http://archive.ubuntu.com/ubuntu bionic-updates/restricted amd64 Packages [32.7 kB]\n",
            "Get:21 http://archive.ubuntu.com/ubuntu bionic-updates/universe amd64 Packages [1,322 kB]\n",
            "Get:22 http://archive.ubuntu.com/ubuntu bionic-updates/main amd64 Packages [1,057 kB]\n",
            "Get:23 http://ppa.launchpad.net/marutter/c2d4u3.5/ubuntu bionic/main amd64 Packages [840 kB]\n",
            "Fetched 6,914 kB in 3s (2,342 kB/s)\n",
            "Reading package lists... Done\n"
          ],
          "name": "stdout"
        }
      ]
    },
    {
      "cell_type": "code",
      "metadata": {
        "id": "in8atMT99q6E",
        "colab_type": "code",
        "outputId": "3ded58b0-8a75-4f5f-8345-bfef7788d9fa",
        "colab": {
          "base_uri": "https://localhost:8080/",
          "height": 219
        }
      },
      "source": [
        "import os\n",
        "os.environ[\"JAVA_HOME\"] = \"/usr/lib/jvm/java-8-openjdk-amd64\"\n",
        "os.environ[\"SPARK_HOME\"] = \"/content/spark-2.3.1-bin-hadoop2.7\"\n",
        "\n",
        "import findspark\n",
        "findspark.init()\n",
        "from pyspark import SparkContext\n",
        "sc = SparkContext.getOrCreate()\n",
        "\n",
        "import pyspark\n",
        "from pyspark.sql import SparkSession\n",
        "spark = SparkSession.builder.getOrCreate() \n",
        "spark"
      ],
      "execution_count": 0,
      "outputs": [
        {
          "output_type": "execute_result",
          "data": {
            "text/html": [
              "\n",
              "            <div>\n",
              "                <p><b>SparkSession - in-memory</b></p>\n",
              "                \n",
              "        <div>\n",
              "            <p><b>SparkContext</b></p>\n",
              "\n",
              "            <p><a href=\"http://e9023980171d:4040\">Spark UI</a></p>\n",
              "\n",
              "            <dl>\n",
              "              <dt>Version</dt>\n",
              "                <dd><code>v2.3.1</code></dd>\n",
              "              <dt>Master</dt>\n",
              "                <dd><code>local[*]</code></dd>\n",
              "              <dt>AppName</dt>\n",
              "                <dd><code>pyspark-shell</code></dd>\n",
              "            </dl>\n",
              "        </div>\n",
              "        \n",
              "            </div>\n",
              "        "
            ],
            "text/plain": [
              "<pyspark.sql.session.SparkSession at 0x7fc8e0c5e278>"
            ]
          },
          "metadata": {
            "tags": []
          },
          "execution_count": 5
        }
      ]
    },
    {
      "cell_type": "code",
      "metadata": {
        "id": "1kywfh2TZgOF",
        "colab_type": "code",
        "outputId": "c774022d-44c9-4b56-cf73-aadc84b9e192",
        "colab": {
          "base_uri": "https://localhost:8080/",
          "height": 124
        }
      },
      "source": [
        "from google.colab import drive\n",
        "drive.mount('/content/drive')"
      ],
      "execution_count": 0,
      "outputs": [
        {
          "output_type": "stream",
          "text": [
            "Go to this URL in a browser: https://accounts.google.com/o/oauth2/auth?client_id=947318989803-6bn6qk8qdgf4n4g3pfee6491hc0brc4i.apps.googleusercontent.com&redirect_uri=urn%3aietf%3awg%3aoauth%3a2.0%3aoob&response_type=code&scope=email%20https%3a%2f%2fwww.googleapis.com%2fauth%2fdocs.test%20https%3a%2f%2fwww.googleapis.com%2fauth%2fdrive%20https%3a%2f%2fwww.googleapis.com%2fauth%2fdrive.photos.readonly%20https%3a%2f%2fwww.googleapis.com%2fauth%2fpeopleapi.readonly\n",
            "\n",
            "Enter your authorization code:\n",
            "··········\n",
            "Mounted at /content/drive\n"
          ],
          "name": "stdout"
        }
      ]
    },
    {
      "cell_type": "code",
      "metadata": {
        "id": "rgyIOa9X9s6u",
        "colab_type": "code",
        "colab": {}
      },
      "source": [
        ""
      ],
      "execution_count": 0,
      "outputs": []
    },
    {
      "cell_type": "code",
      "metadata": {
        "id": "DH97eRzT-One",
        "colab_type": "code",
        "outputId": "b3f01e96-3798-4cc6-a628-52cc56af8cbb",
        "colab": {
          "base_uri": "https://localhost:8080/",
          "height": 104
        }
      },
      "source": [
        "data = spark.read.csv('/content/drive/My Drive/Colab Files/clean_tweet.csv',header=True)\n",
        "data.printSchema()"
      ],
      "execution_count": 0,
      "outputs": [
        {
          "output_type": "stream",
          "text": [
            "root\n",
            " |-- _c0: string (nullable = true)\n",
            " |-- text: string (nullable = true)\n",
            " |-- target: string (nullable = true)\n",
            "\n"
          ],
          "name": "stdout"
        }
      ]
    },
    {
      "cell_type": "code",
      "metadata": {
        "id": "kgiTNPmY-5l9",
        "colab_type": "code",
        "outputId": "2bc638d4-338c-47e9-8ed7-254b26c51644",
        "colab": {
          "base_uri": "https://localhost:8080/",
          "height": 208
        }
      },
      "source": [
        "data.show(5)"
      ],
      "execution_count": 0,
      "outputs": [
        {
          "output_type": "stream",
          "text": [
            "+---+--------------------+------+\n",
            "|_c0|                text|target|\n",
            "+---+--------------------+------+\n",
            "|  0|awww that s a bum...|     0|\n",
            "|  1|is upset that he ...|     0|\n",
            "|  2|i dived many time...|     0|\n",
            "|  3|my whole body fee...|     0|\n",
            "|  4|no it s not behav...|     0|\n",
            "+---+--------------------+------+\n",
            "only showing top 5 rows\n",
            "\n"
          ],
          "name": "stdout"
        }
      ]
    },
    {
      "cell_type": "code",
      "metadata": {
        "id": "QjOaRxGUViVo",
        "colab_type": "code",
        "outputId": "a09d2e5f-c244-4bcf-c3e6-1fca45f0376e",
        "colab": {
          "base_uri": "https://localhost:8080/",
          "height": 35
        }
      },
      "source": [
        "data.count()"
      ],
      "execution_count": 0,
      "outputs": [
        {
          "output_type": "execute_result",
          "data": {
            "text/plain": [
              "1600000"
            ]
          },
          "metadata": {
            "tags": []
          },
          "execution_count": 8
        }
      ]
    },
    {
      "cell_type": "code",
      "metadata": {
        "id": "ZN1hKHna_VJ2",
        "colab_type": "code",
        "outputId": "d52ce3e3-7053-43c6-8256-9120ae991ee5",
        "colab": {
          "base_uri": "https://localhost:8080/",
          "height": 35
        }
      },
      "source": [
        "data = data.dropna()\n",
        "data.count()"
      ],
      "execution_count": 0,
      "outputs": [
        {
          "output_type": "execute_result",
          "data": {
            "text/plain": [
              "1596753"
            ]
          },
          "metadata": {
            "tags": []
          },
          "execution_count": 9
        }
      ]
    },
    {
      "cell_type": "code",
      "metadata": {
        "id": "R3wn8XXf-74h",
        "colab_type": "code",
        "colab": {}
      },
      "source": [
        "from pyspark.sql.functions import isnan, when, count, col\n",
        "from pyspark.sql.types import StructType,StructField,IntegerType\n",
        "from pyspark.ml.feature import CountVectorizer,HashingTF,IDF,Tokenizer,StringIndexer,Imputer\n",
        "\n",
        "from pyspark.ml import Pipeline\n",
        "from pyspark.ml.classification import LogisticRegression,NaiveBayes\n"
      ],
      "execution_count": 0,
      "outputs": []
    },
    {
      "cell_type": "code",
      "metadata": {
        "id": "f3wj-F5g_B2Y",
        "colab_type": "code",
        "colab": {}
      },
      "source": [
        "( train_set ,test_set ,validation_set ) = data.randomSplit([0.98,0.01,0.01],seed = 2000)"
      ],
      "execution_count": 0,
      "outputs": []
    },
    {
      "cell_type": "code",
      "metadata": {
        "id": "jfBMmLmO_EkY",
        "colab_type": "code",
        "outputId": "7aed0cb4-e68d-49ba-cc13-a1c6f58069cb",
        "colab": {
          "base_uri": "https://localhost:8080/",
          "height": 208
        }
      },
      "source": [
        "tokenizer = Tokenizer(inputCol = 'text',outputCol = 'words')\n",
        "\n",
        "hashtf = HashingTF(numFeatures=2**16,inputCol = 'words',outputCol = 'tf')\n",
        "# cv = CountVectorizer(vocabSize=2**16, inputCol=\"words\", outputCol='cv')\n",
        "\n",
        "idf = IDF(inputCol = 'tf', outputCol = 'features' ,minDocFreq =5)\n",
        "\n",
        "label_string_indexer = StringIndexer(inputCol = 'target',outputCol= 'label' )\n",
        "\n",
        "# log_reg = LogisticRegression(maxIter=100)\n",
        "# nb = NaiveBayes()\n",
        "pipeline = Pipeline(stages = [tokenizer,hashtf,idf,label_string_indexer])\n",
        "\n",
        "pipelineFit = pipeline.fit(train_set)\n",
        "train_df = pipelineFit.transform(train_set)\n",
        "validation_set_df = pipelineFit.transform(validation_set)\n",
        "train_df.show(5)"
      ],
      "execution_count": 0,
      "outputs": [
        {
          "output_type": "stream",
          "text": [
            "+----+--------------------+------+--------------------+--------------------+--------------------+-----+\n",
            "| _c0|                text|target|               words|                  tf|            features|label|\n",
            "+----+--------------------+------+--------------------+--------------------+--------------------+-----+\n",
            "|   0|awww that s a bum...|     0|[awww, that, s, a...|(65536,[8436,8847...|(65536,[8436,8847...|  0.0|\n",
            "|   1|is upset that he ...|     0|[is, upset, that,...|(65536,[1444,2071...|(65536,[1444,2071...|  0.0|\n",
            "|  10|spring break in p...|     0|[spring, break, i...|(65536,[20639,207...|(65536,[20639,207...|  0.0|\n",
            "| 100|body of missing n...|     0|[body, of, missin...|(65536,[9639,1302...|(65536,[9639,1302...|  0.0|\n",
            "|1000|tulip um that wou...|     0|[tulip, um, that,...|(65536,[3331,8436...|(65536,[3331,8436...|  0.0|\n",
            "+----+--------------------+------+--------------------+--------------------+--------------------+-----+\n",
            "only showing top 5 rows\n",
            "\n"
          ],
          "name": "stdout"
        }
      ]
    },
    {
      "cell_type": "markdown",
      "metadata": {
        "id": "IpQzYeXyVPGN",
        "colab_type": "text"
      },
      "source": [
        ""
      ]
    },
    {
      "cell_type": "code",
      "metadata": {
        "id": "4VcQbMio_Goo",
        "colab_type": "code",
        "colab": {}
      },
      "source": [
        "log_reg = LogisticRegression(maxIter=100)\n",
        "log_reg_model=log_reg.fit(train_df)\n",
        "preds = log_reg_model.transform(validation_set_df)"
      ],
      "execution_count": 0,
      "outputs": []
    },
    {
      "cell_type": "code",
      "metadata": {
        "id": "J_YAbfEqVPdz",
        "colab_type": "code",
        "outputId": "f0fd5c13-090a-4397-a5c1-d22e15ef940b",
        "colab": {
          "base_uri": "https://localhost:8080/",
          "height": 208
        }
      },
      "source": [
        "preds.show(5)"
      ],
      "execution_count": 0,
      "outputs": [
        {
          "output_type": "stream",
          "text": [
            "+------+--------------------+------+--------------------+--------------------+--------------------+-----+--------------------+--------------------+----------+\n",
            "|   _c0|                text|target|               words|                  tf|            features|label|       rawPrediction|         probability|prediction|\n",
            "+------+--------------------+------+--------------------+--------------------+--------------------+-----+--------------------+--------------------+----------+\n",
            "|100186|very confused bou...|     0|[very, confused, ...|(65536,[81,4492,9...|(65536,[81,4492,9...|  0.0|[-1.5765048259390...|[0.17129105361402...|       1.0|\n",
            "|100419|i think i need to...|     0|[i, think, i, nee...|(65536,[4492,4853...|(65536,[4492,4853...|  0.0|[1.85194049762095...|[0.86435477869155...|       0.0|\n",
            "|100431|ugly rainy day he...|     0|[ugly, rainy, day...|(65536,[7713,8436...|(65536,[7713,8436...|  0.0|[3.69287299938189...|[0.97570460366790...|       0.0|\n",
            "|100482|i saw u perform i...|     0|[i, saw, u, perfo...|(65536,[571,6981,...|(65536,[571,6981,...|  0.0|[2.97434052360101...|[0.95140136264045...|       0.0|\n",
            "| 10067|i am so sorry you...|     0|[i, am, so, sorry...|(65536,[8436,2441...|(65536,[8436,2441...|  0.0|[2.22493140466798...|[0.90246612529493...|       0.0|\n",
            "+------+--------------------+------+--------------------+--------------------+--------------------+-----+--------------------+--------------------+----------+\n",
            "only showing top 5 rows\n",
            "\n"
          ],
          "name": "stdout"
        }
      ]
    },
    {
      "cell_type": "code",
      "metadata": {
        "id": "-J-JLRNO_5Vu",
        "colab_type": "code",
        "outputId": "357b0031-3a72-4dfe-9586-78223c7b0c2b",
        "colab": {
          "base_uri": "https://localhost:8080/",
          "height": 35
        }
      },
      "source": [
        "from pyspark.ml.evaluation import BinaryClassificationEvaluator\n",
        "\n",
        "evaluator = BinaryClassificationEvaluator(rawPredictionCol=\"rawPrediction\")\n",
        "evaluator.evaluate(preds)"
      ],
      "execution_count": 0,
      "outputs": [
        {
          "output_type": "execute_result",
          "data": {
            "text/plain": [
              "0.860456807006464"
            ]
          },
          "metadata": {
            "tags": []
          },
          "execution_count": 15
        }
      ]
    },
    {
      "cell_type": "code",
      "metadata": {
        "id": "qhqoEMplAMAZ",
        "colab_type": "code",
        "outputId": "d3acfd9e-4f3f-4343-aaa7-a4b82fa258c0",
        "colab": {
          "base_uri": "https://localhost:8080/",
          "height": 35
        }
      },
      "source": [
        "accuracy = preds.filter(preds.label == preds.prediction).count() / float(validation_set.count())\n",
        "accuracy"
      ],
      "execution_count": 0,
      "outputs": [
        {
          "output_type": "execute_result",
          "data": {
            "text/plain": [
              "0.7885553470919324"
            ]
          },
          "metadata": {
            "tags": []
          },
          "execution_count": 16
        }
      ]
    },
    {
      "cell_type": "code",
      "metadata": {
        "id": "Xz0hOBm4AwDs",
        "colab_type": "code",
        "outputId": "db5976a6-202b-416a-98c1-dcf187f44ae5",
        "colab": {
          "base_uri": "https://localhost:8080/",
          "height": 35
        }
      },
      "source": [
        "evaluator.getMetricName()\n"
      ],
      "execution_count": 0,
      "outputs": [
        {
          "output_type": "execute_result",
          "data": {
            "text/plain": [
              "'areaUnderROC'"
            ]
          },
          "metadata": {
            "tags": []
          },
          "execution_count": 12
        }
      ]
    },
    {
      "cell_type": "code",
      "metadata": {
        "id": "4qzs5Yx8BMNf",
        "colab_type": "code",
        "colab": {}
      },
      "source": [
        ""
      ],
      "execution_count": 0,
      "outputs": []
    }
  ]
}